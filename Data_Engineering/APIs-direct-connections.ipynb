{
 "cells": [
  {
   "cell_type": "markdown",
   "id": "6868eecc-6fa6-469c-b2cc-4e99c9715e6e",
   "metadata": {},
   "source": [
    "# Connecting to APIs\n",
    "\n",
    "## Open Weather Map API"
   ]
  },
  {
   "cell_type": "code",
   "execution_count": 4,
   "id": "eaa7474f-b277-4741-9c3d-cbdc3960c870",
   "metadata": {},
   "outputs": [
    {
     "data": {
      "text/plain": [
       "'http://api.openweathermap.org/data/2.5/forecast/?q=Berlin,DE&appid=1fbe6993b8602e58e806e25516a93789&units=metric&lang=en'"
      ]
     },
     "execution_count": 4,
     "metadata": {},
     "output_type": "execute_result"
    }
   ],
   "source": [
    "OWM_key = \"\"\n",
    "city = \"Berlin\"\n",
    "country = \"DE\"\n",
    "f'http://api.openweathermap.org/data/2.5/forecast/?q={city},{country}&appid={OWM_key}&units=metric&lang=en'"
   ]
  },
  {
   "cell_type": "code",
   "execution_count": 7,
   "id": "f7e107f9-b606-4f62-a2b2-ae7e81ff99d7",
   "metadata": {},
   "outputs": [
    {
     "data": {
      "text/plain": [
       "'Name:Joan, age: 58'"
      ]
     },
     "execution_count": 7,
     "metadata": {},
     "output_type": "execute_result"
    }
   ],
   "source": [
    "age = 58\n",
    "name = \"Joan\"\n",
    "f\"Name:{name}, age: {age}\""
   ]
  },
  {
   "cell_type": "code",
   "execution_count": 6,
   "id": "bcc69b5d-1950-463b-9c48-d3fb2eff55c3",
   "metadata": {},
   "outputs": [
    {
     "data": {
      "text/plain": [
       "'http://api.openweathermap.org/data/2.5/weather?q=Berlin,DE&appid=1fbe6993b8602e58e806e25516a93789'"
      ]
     },
     "execution_count": 6,
     "metadata": {},
     "output_type": "execute_result"
    }
   ],
   "source": [
    "f\"http://api.openweathermap.org/data/2.5/weather?q={city},{country}&appid={OWM_key}\""
   ]
  },
  {
   "cell_type": "code",
   "execution_count": 8,
   "id": "89edc17d-58c8-4ef9-83f8-ea5f0dea6907",
   "metadata": {},
   "outputs": [
    {
     "data": {
      "application/json": {
       "city": {
        "coord": {
         "lat": 52.5244,
         "lon": 13.4105
        },
        "country": "DE",
        "id": 2950159,
        "name": "Berlin",
        "population": 1000000,
        "sunrise": 1637736235,
        "sunset": 1637766156,
        "timezone": 3600
       },
       "cnt": 40,
       "cod": "200",
       "list": [
        {
         "clouds": {
          "all": 75
         },
         "dt": 1637744400,
         "dt_txt": "2021-11-24 09:00:00",
         "main": {
          "feels_like": 5.48,
          "grnd_level": 1018,
          "humidity": 94,
          "pressure": 1015,
          "sea_level": 1015,
          "temp": 6.95,
          "temp_kf": 0.56,
          "temp_max": 6.95,
          "temp_min": 6.39
         },
         "pop": 0,
         "sys": {
          "pod": "d"
         },
         "visibility": 10000,
         "weather": [
          {
           "description": "broken clouds",
           "icon": "04d",
           "id": 803,
           "main": "Clouds"
          }
         ],
         "wind": {
          "deg": 244,
          "gust": 5.24,
          "speed": 2.17
         }
        },
        {
         "clouds": {
          "all": 83
         },
         "dt": 1637755200,
         "dt_txt": "2021-11-24 12:00:00",
         "main": {
          "feels_like": 5.59,
          "grnd_level": 1016,
          "humidity": 88,
          "pressure": 1017,
          "sea_level": 1017,
          "temp": 7.01,
          "temp_kf": -0.13,
          "temp_max": 7.14,
          "temp_min": 7.01
         },
         "pop": 0,
         "sys": {
          "pod": "d"
         },
         "visibility": 10000,
         "weather": [
          {
           "description": "broken clouds",
           "icon": "04d",
           "id": 803,
           "main": "Clouds"
          }
         ],
         "wind": {
          "deg": 241,
          "gust": 4.89,
          "speed": 2.13
         }
        },
        {
         "clouds": {
          "all": 92
         },
         "dt": 1637766000,
         "dt_txt": "2021-11-24 15:00:00",
         "main": {
          "feels_like": 5.73,
          "grnd_level": 1015,
          "humidity": 81,
          "pressure": 1018,
          "sea_level": 1018,
          "temp": 6.96,
          "temp_kf": 0,
          "temp_max": 6.96,
          "temp_min": 6.96
         },
         "pop": 0,
         "sys": {
          "pod": "d"
         },
         "visibility": 10000,
         "weather": [
          {
           "description": "overcast clouds",
           "icon": "04d",
           "id": 804,
           "main": "Clouds"
          }
         ],
         "wind": {
          "deg": 210,
          "gust": 3.71,
          "speed": 1.92
         }
        },
        {
         "clouds": {
          "all": 100
         },
         "dt": 1637776800,
         "dt_txt": "2021-11-24 18:00:00",
         "main": {
          "feels_like": 5.63,
          "grnd_level": 1013,
          "humidity": 73,
          "pressure": 1019,
          "sea_level": 1019,
          "temp": 6.86,
          "temp_kf": 0,
          "temp_max": 6.86,
          "temp_min": 6.86
         },
         "pop": 0,
         "sys": {
          "pod": "n"
         },
         "visibility": 10000,
         "weather": [
          {
           "description": "overcast clouds",
           "icon": "04n",
           "id": 804,
           "main": "Clouds"
          }
         ],
         "wind": {
          "deg": 195,
          "gust": 3.48,
          "speed": 1.9
         }
        },
        {
         "clouds": {
          "all": 93
         },
         "dt": 1637787600,
         "dt_txt": "2021-11-24 21:00:00",
         "main": {
          "feels_like": 4.71,
          "grnd_level": 1012,
          "humidity": 73,
          "pressure": 1017,
          "sea_level": 1017,
          "temp": 6.15,
          "temp_kf": 0,
          "temp_max": 6.15,
          "temp_min": 6.15
         },
         "pop": 0,
         "sys": {
          "pod": "n"
         },
         "visibility": 10000,
         "weather": [
          {
           "description": "overcast clouds",
           "icon": "04n",
           "id": 804,
           "main": "Clouds"
          }
         ],
         "wind": {
          "deg": 176,
          "gust": 4.38,
          "speed": 2
         }
        },
        {
         "clouds": {
          "all": 56
         },
         "dt": 1637798400,
         "dt_txt": "2021-11-25 00:00:00",
         "main": {
          "feels_like": 1.88,
          "grnd_level": 1009,
          "humidity": 78,
          "pressure": 1015,
          "sea_level": 1015,
          "temp": 4.16,
          "temp_kf": 0,
          "temp_max": 4.16,
          "temp_min": 4.16
         },
         "pop": 0,
         "sys": {
          "pod": "n"
         },
         "visibility": 10000,
         "weather": [
          {
           "description": "broken clouds",
           "icon": "04n",
           "id": 803,
           "main": "Clouds"
          }
         ],
         "wind": {
          "deg": 156,
          "gust": 6.89,
          "speed": 2.53
         }
        },
        {
         "clouds": {
          "all": 21
         },
         "dt": 1637809200,
         "dt_txt": "2021-11-25 03:00:00",
         "main": {
          "feels_like": 0.13,
          "grnd_level": 1007,
          "humidity": 83,
          "pressure": 1012,
          "sea_level": 1012,
          "temp": 2.78,
          "temp_kf": 0,
          "temp_max": 2.78,
          "temp_min": 2.78
         },
         "pop": 0,
         "sys": {
          "pod": "n"
         },
         "visibility": 10000,
         "weather": [
          {
           "description": "few clouds",
           "icon": "02n",
           "id": 801,
           "main": "Clouds"
          }
         ],
         "wind": {
          "deg": 149,
          "gust": 6.33,
          "speed": 2.65
         }
        },
        {
         "clouds": {
          "all": 12
         },
         "dt": 1637820000,
         "dt_txt": "2021-11-25 06:00:00",
         "main": {
          "feels_like": -0.96,
          "grnd_level": 1005,
          "humidity": 84,
          "pressure": 1010,
          "sea_level": 1010,
          "temp": 1.66,
          "temp_kf": 0,
          "temp_max": 1.66,
          "temp_min": 1.66
         },
         "pop": 0,
         "sys": {
          "pod": "n"
         },
         "visibility": 10000,
         "weather": [
          {
           "description": "few clouds",
           "icon": "02n",
           "id": 801,
           "main": "Clouds"
          }
         ],
         "wind": {
          "deg": 170,
          "gust": 5.06,
          "speed": 2.4
         }
        },
        {
         "clouds": {
          "all": 24
         },
         "dt": 1637830800,
         "dt_txt": "2021-11-25 09:00:00",
         "main": {
          "feels_like": -0.17,
          "grnd_level": 1003,
          "humidity": 76,
          "pressure": 1008,
          "sea_level": 1008,
          "temp": 2.75,
          "temp_kf": 0,
          "temp_max": 2.75,
          "temp_min": 2.75
         },
         "pop": 0,
         "sys": {
          "pod": "d"
         },
         "visibility": 10000,
         "weather": [
          {
           "description": "few clouds",
           "icon": "02d",
           "id": 801,
           "main": "Clouds"
          }
         ],
         "wind": {
          "deg": 221,
          "gust": 5.2,
          "speed": 2.97
         }
        },
        {
         "clouds": {
          "all": 15
         },
         "dt": 1637841600,
         "dt_txt": "2021-11-25 12:00:00",
         "main": {
          "feels_like": 2.2,
          "grnd_level": 1001,
          "humidity": 70,
          "pressure": 1006,
          "sea_level": 1006,
          "temp": 5.27,
          "temp_kf": 0,
          "temp_max": 5.27,
          "temp_min": 5.27
         },
         "pop": 0,
         "sys": {
          "pod": "d"
         },
         "visibility": 10000,
         "weather": [
          {
           "description": "few clouds",
           "icon": "02d",
           "id": 801,
           "main": "Clouds"
          }
         ],
         "wind": {
          "deg": 250,
          "gust": 6.88,
          "speed": 3.99
         }
        },
        {
         "clouds": {
          "all": 20
         },
         "dt": 1637852400,
         "dt_txt": "2021-11-25 15:00:00",
         "main": {
          "feels_like": 1.46,
          "grnd_level": 1000,
          "humidity": 78,
          "pressure": 1005,
          "sea_level": 1005,
          "temp": 4.77,
          "temp_kf": 0,
          "temp_max": 4.77,
          "temp_min": 4.77
         },
         "pop": 0,
         "sys": {
          "pod": "d"
         },
         "visibility": 10000,
         "weather": [
          {
           "description": "few clouds",
           "icon": "02d",
           "id": 801,
           "main": "Clouds"
          }
         ],
         "wind": {
          "deg": 247,
          "gust": 9.5,
          "speed": 4.21
         }
        },
        {
         "clouds": {
          "all": 60
         },
         "dt": 1637863200,
         "dt_txt": "2021-11-25 18:00:00",
         "main": {
          "feels_like": 0.91,
          "grnd_level": 1000,
          "humidity": 86,
          "pressure": 1006,
          "sea_level": 1006,
          "temp": 4.58,
          "temp_kf": 0,
          "temp_max": 4.58,
          "temp_min": 4.58
         },
         "pop": 0,
         "sys": {
          "pod": "n"
         },
         "visibility": 10000,
         "weather": [
          {
           "description": "broken clouds",
           "icon": "04n",
           "id": 803,
           "main": "Clouds"
          }
         ],
         "wind": {
          "deg": 250,
          "gust": 11.02,
          "speed": 4.81
         }
        },
        {
         "clouds": {
          "all": 53
         },
         "dt": 1637874000,
         "dt_txt": "2021-11-25 21:00:00",
         "main": {
          "feels_like": -0.43,
          "grnd_level": 1000,
          "humidity": 86,
          "pressure": 1005,
          "sea_level": 1005,
          "temp": 3.66,
          "temp_kf": 0,
          "temp_max": 3.66,
          "temp_min": 3.66
         },
         "pop": 0,
         "sys": {
          "pod": "n"
         },
         "visibility": 10000,
         "weather": [
          {
           "description": "broken clouds",
           "icon": "04n",
           "id": 803,
           "main": "Clouds"
          }
         ],
         "wind": {
          "deg": 244,
          "gust": 12.4,
          "speed": 5.19
         }
        },
        {
         "clouds": {
          "all": 32
         },
         "dt": 1637884800,
         "dt_txt": "2021-11-26 00:00:00",
         "main": {
          "feels_like": -1.21,
          "grnd_level": 999,
          "humidity": 87,
          "pressure": 1005,
          "sea_level": 1005,
          "temp": 2.75,
          "temp_kf": 0,
          "temp_max": 2.75,
          "temp_min": 2.75
         },
         "pop": 0,
         "sys": {
          "pod": "n"
         },
         "visibility": 10000,
         "weather": [
          {
           "description": "scattered clouds",
           "icon": "03n",
           "id": 802,
           "main": "Clouds"
          }
         ],
         "wind": {
          "deg": 250,
          "gust": 10.34,
          "speed": 4.51
         }
        },
        {
         "clouds": {
          "all": 44
         },
         "dt": 1637895600,
         "dt_txt": "2021-11-26 03:00:00",
         "main": {
          "feels_like": -1.68,
          "grnd_level": 998,
          "humidity": 89,
          "pressure": 1004,
          "sea_level": 1004,
          "temp": 2.01,
          "temp_kf": 0,
          "temp_max": 2.01,
          "temp_min": 2.01
         },
         "pop": 0,
         "sys": {
          "pod": "n"
         },
         "visibility": 10000,
         "weather": [
          {
           "description": "scattered clouds",
           "icon": "03n",
           "id": 802,
           "main": "Clouds"
          }
         ],
         "wind": {
          "deg": 248,
          "gust": 10.28,
          "speed": 3.8
         }
        },
        {
         "clouds": {
          "all": 72
         },
         "dt": 1637906400,
         "dt_txt": "2021-11-26 06:00:00",
         "main": {
          "feels_like": -1.88,
          "grnd_level": 997,
          "humidity": 88,
          "pressure": 1002,
          "sea_level": 1002,
          "temp": 1.55,
          "temp_kf": 0,
          "temp_max": 1.55,
          "temp_min": 1.55
         },
         "pop": 0,
         "sys": {
          "pod": "n"
         },
         "visibility": 10000,
         "weather": [
          {
           "description": "broken clouds",
           "icon": "04n",
           "id": 803,
           "main": "Clouds"
          }
         ],
         "wind": {
          "deg": 228,
          "gust": 8.26,
          "speed": 3.3
         }
        },
        {
         "clouds": {
          "all": 100
         },
         "dt": 1637917200,
         "dt_txt": "2021-11-26 09:00:00",
         "main": {
          "feels_like": -0.39,
          "grnd_level": 996,
          "humidity": 79,
          "pressure": 1002,
          "sea_level": 1002,
          "temp": 2.77,
          "temp_kf": 0,
          "temp_max": 2.77,
          "temp_min": 2.77
         },
         "pop": 0,
         "sys": {
          "pod": "d"
         },
         "visibility": 10000,
         "weather": [
          {
           "description": "overcast clouds",
           "icon": "04d",
           "id": 804,
           "main": "Clouds"
          }
         ],
         "wind": {
          "deg": 237,
          "gust": 7.52,
          "speed": 3.28
         }
        },
        {
         "clouds": {
          "all": 100
         },
         "dt": 1637928000,
         "dt_txt": "2021-11-26 12:00:00",
         "main": {
          "feels_like": 1.56,
          "grnd_level": 995,
          "humidity": 69,
          "pressure": 1000,
          "sea_level": 1000,
          "temp": 4.39,
          "temp_kf": 0,
          "temp_max": 4.39,
          "temp_min": 4.39
         },
         "pop": 0,
         "sys": {
          "pod": "d"
         },
         "visibility": 10000,
         "weather": [
          {
           "description": "overcast clouds",
           "icon": "04d",
           "id": 804,
           "main": "Clouds"
          }
         ],
         "wind": {
          "deg": 218,
          "gust": 5.1,
          "speed": 3.29
         }
        },
        {
         "clouds": {
          "all": 100
         },
         "dt": 1637938800,
         "dt_txt": "2021-11-26 15:00:00",
         "main": {
          "feels_like": 0.95,
          "grnd_level": 993,
          "humidity": 74,
          "pressure": 998,
          "sea_level": 998,
          "temp": 3.65,
          "temp_kf": 0,
          "temp_max": 3.65,
          "temp_min": 3.65
         },
         "pop": 0,
         "sys": {
          "pod": "d"
         },
         "visibility": 10000,
         "weather": [
          {
           "description": "overcast clouds",
           "icon": "04d",
           "id": 804,
           "main": "Clouds"
          }
         ],
         "wind": {
          "deg": 191,
          "gust": 5.88,
          "speed": 2.91
         }
        },
        {
         "clouds": {
          "all": 100
         },
         "dt": 1637949600,
         "dt_txt": "2021-11-26 18:00:00",
         "main": {
          "feels_like": -0.13,
          "grnd_level": 992,
          "humidity": 79,
          "pressure": 997,
          "sea_level": 997,
          "temp": 2.76,
          "temp_kf": 0,
          "temp_max": 2.76,
          "temp_min": 2.76
         },
         "pop": 0,
         "sys": {
          "pod": "n"
         },
         "visibility": 10000,
         "weather": [
          {
           "description": "overcast clouds",
           "icon": "04n",
           "id": 804,
           "main": "Clouds"
          }
         ],
         "wind": {
          "deg": 180,
          "gust": 7.34,
          "speed": 2.93
         }
        },
        {
         "clouds": {
          "all": 100
         },
         "dt": 1637960400,
         "dt_txt": "2021-11-26 21:00:00",
         "main": {
          "feels_like": -0.26,
          "grnd_level": 991,
          "humidity": 76,
          "pressure": 997,
          "sea_level": 997,
          "temp": 2.68,
          "temp_kf": 0,
          "temp_max": 2.68,
          "temp_min": 2.68
         },
         "pop": 0,
         "sys": {
          "pod": "n"
         },
         "visibility": 10000,
         "weather": [
          {
           "description": "overcast clouds",
           "icon": "04n",
           "id": 804,
           "main": "Clouds"
          }
         ],
         "wind": {
          "deg": 165,
          "gust": 7.15,
          "speed": 2.97
         }
        },
        {
         "clouds": {
          "all": 100
         },
         "dt": 1637971200,
         "dt_txt": "2021-11-27 00:00:00",
         "main": {
          "feels_like": -1.31,
          "grnd_level": 990,
          "humidity": 73,
          "pressure": 995,
          "sea_level": 995,
          "temp": 1.84,
          "temp_kf": 0,
          "temp_max": 1.84,
          "temp_min": 1.84
         },
         "pop": 0,
         "sys": {
          "pod": "n"
         },
         "visibility": 10000,
         "weather": [
          {
           "description": "overcast clouds",
           "icon": "04n",
           "id": 804,
           "main": "Clouds"
          }
         ],
         "wind": {
          "deg": 154,
          "gust": 6.39,
          "speed": 3.03
         }
        },
        {
         "clouds": {
          "all": 85
         },
         "dt": 1637982000,
         "dt_txt": "2021-11-27 03:00:00",
         "main": {
          "feels_like": -2.98,
          "grnd_level": 989,
          "humidity": 74,
          "pressure": 994,
          "sea_level": 994,
          "temp": 0.45,
          "temp_kf": 0,
          "temp_max": 0.45,
          "temp_min": 0.45
         },
         "pop": 0,
         "sys": {
          "pod": "n"
         },
         "visibility": 10000,
         "weather": [
          {
           "description": "overcast clouds",
           "icon": "04n",
           "id": 804,
           "main": "Clouds"
          }
         ],
         "wind": {
          "deg": 154,
          "gust": 7.52,
          "speed": 3.02
         }
        },
        {
         "clouds": {
          "all": 52
         },
         "dt": 1637992800,
         "dt_txt": "2021-11-27 06:00:00",
         "main": {
          "feels_like": -3.73,
          "grnd_level": 989,
          "humidity": 79,
          "pressure": 994,
          "sea_level": 994,
          "temp": -0.07,
          "temp_kf": 0,
          "temp_max": -0.07,
          "temp_min": -0.07
         },
         "pop": 0,
         "sys": {
          "pod": "n"
         },
         "visibility": 10000,
         "weather": [
          {
           "description": "broken clouds",
           "icon": "04n",
           "id": 803,
           "main": "Clouds"
          }
         ],
         "wind": {
          "deg": 137,
          "gust": 7.8,
          "speed": 3.17
         }
        },
        {
         "clouds": {
          "all": 19
         },
         "dt": 1638003600,
         "dt_txt": "2021-11-27 09:00:00",
         "main": {
          "feels_like": -1.96,
          "grnd_level": 989,
          "humidity": 72,
          "pressure": 994,
          "sea_level": 994,
          "temp": 1.66,
          "temp_kf": 0,
          "temp_max": 1.66,
          "temp_min": 1.66
         },
         "pop": 0,
         "sys": {
          "pod": "d"
         },
         "visibility": 10000,
         "weather": [
          {
           "description": "few clouds",
           "icon": "02d",
           "id": 801,
           "main": "Clouds"
          }
         ],
         "wind": {
          "deg": 134,
          "gust": 7.27,
          "speed": 3.59
         }
        },
        {
         "clouds": {
          "all": 43
         },
         "dt": 1638014400,
         "dt_txt": "2021-11-27 12:00:00",
         "main": {
          "feels_like": 1.06,
          "grnd_level": 988,
          "humidity": 57,
          "pressure": 994,
          "sea_level": 994,
          "temp": 4.28,
          "temp_kf": 0,
          "temp_max": 4.28,
          "temp_min": 4.28
         },
         "pop": 0,
         "sys": {
          "pod": "d"
         },
         "visibility": 10000,
         "weather": [
          {
           "description": "scattered clouds",
           "icon": "03d",
           "id": 802,
           "main": "Clouds"
          }
         ],
         "wind": {
          "deg": 128,
          "gust": 6.52,
          "speed": 3.85
         }
        },
        {
         "clouds": {
          "all": 65
         },
         "dt": 1638025200,
         "dt_txt": "2021-11-27 15:00:00",
         "main": {
          "feels_like": -0.21,
          "grnd_level": 989,
          "humidity": 67,
          "pressure": 994,
          "sea_level": 994,
          "temp": 3.05,
          "temp_kf": 0,
          "temp_max": 3.05,
          "temp_min": 3.05
         },
         "pop": 0,
         "sys": {
          "pod": "n"
         },
         "visibility": 10000,
         "weather": [
          {
           "description": "broken clouds",
           "icon": "04n",
           "id": 803,
           "main": "Clouds"
          }
         ],
         "wind": {
          "deg": 123,
          "gust": 8.03,
          "speed": 3.5
         }
        },
        {
         "clouds": {
          "all": 76
         },
         "dt": 1638036000,
         "dt_txt": "2021-11-27 18:00:00",
         "main": {
          "feels_like": -1.8,
          "grnd_level": 990,
          "humidity": 76,
          "pressure": 996,
          "sea_level": 996,
          "temp": 1.67,
          "temp_kf": 0,
          "temp_max": 1.67,
          "temp_min": 1.67
         },
         "pop": 0,
         "sys": {
          "pod": "n"
         },
         "visibility": 10000,
         "weather": [
          {
           "description": "broken clouds",
           "icon": "04n",
           "id": 803,
           "main": "Clouds"
          }
         ],
         "wind": {
          "deg": 116,
          "gust": 8.22,
          "speed": 3.39
         }
        },
        {
         "clouds": {
          "all": 84
         },
         "dt": 1638046800,
         "dt_txt": "2021-11-27 21:00:00",
         "main": {
          "feels_like": -2.08,
          "grnd_level": 992,
          "humidity": 78,
          "pressure": 997,
          "sea_level": 997,
          "temp": 1.21,
          "temp_kf": 0,
          "temp_max": 1.21,
          "temp_min": 1.21
         },
         "pop": 0,
         "sys": {
          "pod": "n"
         },
         "visibility": 10000,
         "weather": [
          {
           "description": "broken clouds",
           "icon": "04n",
           "id": 803,
           "main": "Clouds"
          }
         ],
         "wind": {
          "deg": 113,
          "gust": 6.47,
          "speed": 3.04
         }
        },
        {
         "clouds": {
          "all": 92
         },
         "dt": 1638057600,
         "dt_txt": "2021-11-28 00:00:00",
         "main": {
          "feels_like": -1.78,
          "grnd_level": 992,
          "humidity": 79,
          "pressure": 998,
          "sea_level": 998,
          "temp": 0.79,
          "temp_kf": 0,
          "temp_max": 0.79,
          "temp_min": 0.79
         },
         "pop": 0,
         "sys": {
          "pod": "n"
         },
         "visibility": 10000,
         "weather": [
          {
           "description": "overcast clouds",
           "icon": "04n",
           "id": 804,
           "main": "Clouds"
          }
         ],
         "wind": {
          "deg": 125,
          "gust": 4.68,
          "speed": 2.21
         }
        },
        {
         "clouds": {
          "all": 95
         },
         "dt": 1638068400,
         "dt_txt": "2021-11-28 03:00:00",
         "main": {
          "feels_like": -2.56,
          "grnd_level": 993,
          "humidity": 81,
          "pressure": 999,
          "sea_level": 999,
          "temp": 0.51,
          "temp_kf": 0,
          "temp_max": 0.51,
          "temp_min": 0.51
         },
         "pop": 0,
         "sys": {
          "pod": "n"
         },
         "visibility": 10000,
         "weather": [
          {
           "description": "overcast clouds",
           "icon": "04n",
           "id": 804,
           "main": "Clouds"
          }
         ],
         "wind": {
          "deg": 118,
          "gust": 6.2,
          "speed": 2.64
         }
        },
        {
         "clouds": {
          "all": 97
         },
         "dt": 1638079200,
         "dt_txt": "2021-11-28 06:00:00",
         "main": {
          "feels_like": -2.35,
          "grnd_level": 994,
          "humidity": 83,
          "pressure": 1000,
          "sea_level": 1000,
          "temp": 0.47,
          "temp_kf": 0,
          "temp_max": 0.47,
          "temp_min": 0.47
         },
         "pop": 0,
         "sys": {
          "pod": "n"
         },
         "visibility": 10000,
         "weather": [
          {
           "description": "overcast clouds",
           "icon": "04n",
           "id": 804,
           "main": "Clouds"
          }
         ],
         "wind": {
          "deg": 90,
          "gust": 5.59,
          "speed": 2.39
         }
        },
        {
         "clouds": {
          "all": 100
         },
         "dt": 1638090000,
         "dt_txt": "2021-11-28 09:00:00",
         "main": {
          "feels_like": -1.74,
          "grnd_level": 995,
          "humidity": 81,
          "pressure": 1000,
          "sea_level": 1000,
          "temp": 1.44,
          "temp_kf": 0,
          "temp_max": 1.44,
          "temp_min": 1.44
         },
         "pop": 0,
         "sys": {
          "pod": "d"
         },
         "visibility": 10000,
         "weather": [
          {
           "description": "overcast clouds",
           "icon": "04d",
           "id": 804,
           "main": "Clouds"
          }
         ],
         "wind": {
          "deg": 70,
          "gust": 5.8,
          "speed": 2.96
         }
        },
        {
         "clouds": {
          "all": 100
         },
         "dt": 1638100800,
         "dt_txt": "2021-11-28 12:00:00",
         "main": {
          "feels_like": -0.56,
          "grnd_level": 995,
          "humidity": 74,
          "pressure": 1000,
          "sea_level": 1000,
          "temp": 2.83,
          "temp_kf": 0,
          "temp_max": 2.83,
          "temp_min": 2.83
         },
         "pop": 0,
         "sys": {
          "pod": "d"
         },
         "visibility": 10000,
         "weather": [
          {
           "description": "overcast clouds",
           "icon": "04d",
           "id": 804,
           "main": "Clouds"
          }
         ],
         "wind": {
          "deg": 53,
          "gust": 6.8,
          "speed": 3.62
         }
        },
        {
         "clouds": {
          "all": 100
         },
         "dt": 1638111600,
         "dt_txt": "2021-11-28 15:00:00",
         "main": {
          "feels_like": -1.32,
          "grnd_level": 995,
          "humidity": 72,
          "pressure": 1000,
          "sea_level": 1000,
          "temp": 2.39,
          "temp_kf": 0,
          "temp_max": 2.39,
          "temp_min": 2.39
         },
         "pop": 0.02,
         "sys": {
          "pod": "n"
         },
         "visibility": 10000,
         "weather": [
          {
           "description": "overcast clouds",
           "icon": "04n",
           "id": 804,
           "main": "Clouds"
          }
         ],
         "wind": {
          "deg": 35,
          "gust": 8.62,
          "speed": 3.95
         }
        },
        {
         "clouds": {
          "all": 100
         },
         "dt": 1638122400,
         "dt_txt": "2021-11-28 18:00:00",
         "main": {
          "feels_like": -1.75,
          "grnd_level": 994,
          "humidity": 72,
          "pressure": 1000,
          "sea_level": 1000,
          "temp": 2.26,
          "temp_kf": 0,
          "temp_max": 2.26,
          "temp_min": 2.26
         },
         "pop": 0.1,
         "sys": {
          "pod": "n"
         },
         "visibility": 10000,
         "weather": [
          {
           "description": "overcast clouds",
           "icon": "04n",
           "id": 804,
           "main": "Clouds"
          }
         ],
         "wind": {
          "deg": 21,
          "gust": 10.4,
          "speed": 4.4
         }
        },
        {
         "clouds": {
          "all": 100
         },
         "dt": 1638133200,
         "dt_txt": "2021-11-28 21:00:00",
         "main": {
          "feels_like": -2.02,
          "grnd_level": 994,
          "humidity": 81,
          "pressure": 999,
          "sea_level": 999,
          "temp": 2,
          "temp_kf": 0,
          "temp_max": 2,
          "temp_min": 2
         },
         "pop": 0.47,
         "snow": {
          "3h": 0.19
         },
         "sys": {
          "pod": "n"
         },
         "visibility": 10000,
         "weather": [
          {
           "description": "light snow",
           "icon": "13n",
           "id": 600,
           "main": "Snow"
          }
         ],
         "wind": {
          "deg": 19,
          "gust": 10.76,
          "speed": 4.31
         }
        },
        {
         "clouds": {
          "all": 100
         },
         "dt": 1638144000,
         "dt_txt": "2021-11-29 00:00:00",
         "main": {
          "feels_like": -3.38,
          "grnd_level": 993,
          "humidity": 96,
          "pressure": 998,
          "sea_level": 998,
          "temp": 1.18,
          "temp_kf": 0,
          "temp_max": 1.18,
          "temp_min": 1.18
         },
         "pop": 1,
         "snow": {
          "3h": 1.87
         },
         "sys": {
          "pod": "n"
         },
         "visibility": 42,
         "weather": [
          {
           "description": "snow",
           "icon": "13n",
           "id": 601,
           "main": "Snow"
          }
         ],
         "wind": {
          "deg": 5,
          "gust": 11.97,
          "speed": 4.9
         }
        },
        {
         "clouds": {
          "all": 100
         },
         "dt": 1638154800,
         "dt_txt": "2021-11-29 03:00:00",
         "main": {
          "feels_like": -4.53,
          "grnd_level": 993,
          "humidity": 97,
          "pressure": 998,
          "sea_level": 998,
          "temp": 0.58,
          "temp_kf": 0,
          "temp_max": 0.58,
          "temp_min": 0.58
         },
         "pop": 1,
         "snow": {
          "3h": 3.77
         },
         "sys": {
          "pod": "n"
         },
         "visibility": 53,
         "weather": [
          {
           "description": "snow",
           "icon": "13n",
           "id": 601,
           "main": "Snow"
          }
         ],
         "wind": {
          "deg": 2,
          "gust": 13.37,
          "speed": 5.63
         }
        },
        {
         "clouds": {
          "all": 100
         },
         "dt": 1638165600,
         "dt_txt": "2021-11-29 06:00:00",
         "main": {
          "feels_like": -4.5,
          "grnd_level": 994,
          "humidity": 97,
          "pressure": 999,
          "sea_level": 999,
          "temp": 0.67,
          "temp_kf": 0,
          "temp_max": 0.67,
          "temp_min": 0.67
         },
         "pop": 1,
         "snow": {
          "3h": 2.88
         },
         "sys": {
          "pod": "n"
         },
         "visibility": 43,
         "weather": [
          {
           "description": "snow",
           "icon": "13n",
           "id": 601,
           "main": "Snow"
          }
         ],
         "wind": {
          "deg": 10,
          "gust": 13.42,
          "speed": 5.79
         }
        }
       ],
       "message": 0
      },
      "text/plain": [
       "<IPython.core.display.JSON object>"
      ]
     },
     "execution_count": 8,
     "metadata": {
      "application/json": {
       "expanded": false,
       "root": "root"
      }
     },
     "output_type": "execute_result"
    }
   ],
   "source": [
    "import requests\n",
    "\n",
    "response = requests.get(f'http://api.openweathermap.org/data/2.5/forecast/?q={city},{country}&appid={OWM_key}&units=metric&lang=en')\n",
    "\n",
    "from IPython.display import JSON\n",
    "JSON(response.json())"
   ]
  },
  {
   "cell_type": "code",
   "execution_count": 9,
   "id": "82c813aa-37d3-43ad-9b21-a4c1e07f5111",
   "metadata": {},
   "outputs": [
    {
     "name": "stdout",
     "output_type": "stream",
     "text": [
      "2021-11-24 09:00:00\t|\t6.95\t|\t2.17\t|\t0.0\t|\t0\t|\t0\n"
     ]
    }
   ],
   "source": [
    "forecast_api = response.json()['list']\n",
    "# look for the fields that could ve relevant: \n",
    "# better field descriptions https://www.weatherbit.io/api/weather-forecast-5-day\n",
    "datetime, temperature, wind, prob_perc, rain_qty, snow = [], [], [], [], [], []\n",
    "\n",
    "for forecast_3h in forecast_api: \n",
    "    # datetime utc\n",
    "    datetime.append(forecast_3h['dt_txt'])\n",
    "    # temperature \n",
    "    temperature.append(forecast_3h['main']['temp'])\n",
    "    # wind\n",
    "    wind.append(forecast_3h['wind']['speed'])\n",
    "    # probability precipitation \n",
    "    try: prob_perc.append(float(forecast_3h['pop']))\n",
    "    except: prob_perc.append(0)\n",
    "    # rain\n",
    "    try: rain_qty.append(float(forecast_3h['rain']['3h']))\n",
    "    except: rain_qty.append(0)\n",
    "    # snow \n",
    "    try: snow.append(float(forecast_3h['snow']['3h']))\n",
    "    except: snow.append(0) \n",
    "        \n",
    "print(datetime[0], temperature[0], wind[0], prob_perc[0], rain_qty[0], snow[0], sep='\\t|\\t')\n",
    "# next steps: insert values into the weather table\n",
    "# need to create an id for berlin city"
   ]
  },
  {
   "cell_type": "code",
   "execution_count": 27,
   "id": "3b4cf33c-f31d-46a3-86f1-2f21a87053f9",
   "metadata": {},
   "outputs": [
    {
     "name": "stdout",
     "output_type": "stream",
     "text": [
      "0.0\n",
      "0.0\n",
      "0.0\n",
      "0.0\n",
      "num is 0\n",
      "0.0\n",
      "0.0\n"
     ]
    }
   ],
   "source": [
    "list_num = [1, 2, 34, 5, 0, 34 , 5]\n",
    "for num in list_num: \n",
    "    try: \n",
    "        print(0/num)\n",
    "    except: \n",
    "        print('num is 0')"
   ]
  },
  {
   "cell_type": "code",
   "execution_count": null,
   "id": "f5c2be58-456f-4c9c-91dd-1243f85132ae",
   "metadata": {},
   "outputs": [],
   "source": []
  },
  {
   "cell_type": "markdown",
   "id": "fb346746-0a3a-4ceb-a8f8-aabf80129453",
   "metadata": {},
   "source": [
    "## Trying Rapid API\n",
    "\n",
    "### Number Translator API Documentation\n",
    "\n",
    "https://rapidapi.com/orthosie/api/numbers-translator/"
   ]
  },
  {
   "cell_type": "code",
   "execution_count": 44,
   "id": "e8c2de37-5182-44c2-91a4-4aa0abc128d3",
   "metadata": {},
   "outputs": [],
   "source": [
    "def text_number(number): \n",
    "\n",
    "    import requests\n",
    "\n",
    "    url = \"https://numbers-spell.p.rapidapi.com/numbers\"\n",
    "\n",
    "    querystring = {\"text\":number}\n",
    "\n",
    "    headers = {\n",
    "        'x-funtranslations-api-secret': \"<REQUIRED>\",\n",
    "        'x-rapidapi-host': \"numbers-spell.p.rapidapi.com\",\n",
    "        'x-rapidapi-key': \"\"\n",
    "        }\n",
    "\n",
    "    response = requests.request(\"GET\", url, headers=headers, params=querystring)\n",
    "\n",
    "    return(response.json())"
   ]
  },
  {
   "cell_type": "code",
   "execution_count": 47,
   "id": "92f6ab6b-a825-418a-b7a2-7f0a7d0c77bf",
   "metadata": {},
   "outputs": [],
   "source": [
    "temp = text_number(34)#['contents']['translation']"
   ]
  },
  {
   "cell_type": "code",
   "execution_count": 49,
   "id": "b54db841-6654-4fb4-8221-8b9a2aa230a3",
   "metadata": {},
   "outputs": [
    {
     "data": {
      "text/plain": [
       "{'error': {'code': 429,\n",
       "  'message': 'Too Many Requests: Rate limit of 5 requests per hour exceeded. Please wait for 58 minutes and 22 seconds.'}}"
      ]
     },
     "execution_count": 49,
     "metadata": {},
     "output_type": "execute_result"
    }
   ],
   "source": [
    "temp"
   ]
  },
  {
   "cell_type": "markdown",
   "id": "ad5e1a57-4ef0-4c9f-8c44-8445f10d0b07",
   "metadata": {},
   "source": [
    "### IMDb Documentation\n",
    "\n",
    "https://rapidapi.com/apidojo/api/imdb8/"
   ]
  },
  {
   "cell_type": "code",
   "execution_count": 1,
   "id": "c7f910cc-815b-48ca-bdd7-0e106b663cff",
   "metadata": {
    "tags": []
   },
   "outputs": [],
   "source": [
    "import requests\n",
    "\n",
    "url = \"https://imdb8.p.rapidapi.com/title/find\"\n",
    "\n",
    "querystring = {\"q\":\"pulp fiction\"}\n",
    "\n",
    "headers = {\n",
    "    'x-rapidapi-host': \"imdb8.p.rapidapi.com\",\n",
    "    'x-rapidapi-key': \"\"\n",
    "    }\n",
    "\n",
    "response = requests.request(\"GET\", url, headers=headers, params=querystring)\n",
    "\n",
    "#print(response.text)"
   ]
  },
  {
   "cell_type": "code",
   "execution_count": 53,
   "id": "12647ec9-ef9a-4866-aca9-471286e8403d",
   "metadata": {},
   "outputs": [
    {
     "data": {
      "application/json": {
       "@meta": {
        "operation": "Search",
        "requestId": "ab6725cb-79cc-4c1f-a842-7e4f1319dfad",
        "serviceTimeMs": 47.979177
       },
       "@type": "imdb.api.find.response",
       "query": "pulp fiction",
       "results": [
        {
         "id": "/title/tt0110912/",
         "image": {
          "height": 1536,
          "id": "/title/tt0110912/images/rm1959546112",
          "url": "https://m.media-amazon.com/images/M/MV5BNGNhMDIzZTUtNTBlZi00MTRlLWFjM2ItYzViMjE3YzI5MjljXkEyXkFqcGdeQXVyNzkwMjQ5NzM@._V1_.jpg",
          "width": 1055
         },
         "principals": [
          {
           "billing": 4,
           "category": "actor",
           "characters": [
            "Vincent Vega"
           ],
           "id": "/name/nm0000237/",
           "legacyNameText": "Travolta, John",
           "name": "John Travolta",
           "roles": [
            {
             "character": "Vincent Vega",
             "characterId": "/character/ch0515192/"
            }
           ]
          },
          {
           "billing": 15,
           "category": "actress",
           "characters": [
            "Mia Wallace"
           ],
           "id": "/name/nm0000235/",
           "legacyNameText": "Thurman, Uma",
           "name": "Uma Thurman",
           "roles": [
            {
             "character": "Mia Wallace",
             "characterId": "/character/ch0001785/"
            }
           ]
          },
          {
           "billing": 5,
           "category": "actor",
           "characters": [
            "Jules Winnfield"
           ],
           "id": "/name/nm0000168/",
           "legacyNameText": "Jackson, Samuel L.",
           "name": "Samuel L. Jackson",
           "roles": [
            {
             "character": "Jules Winnfield",
             "characterId": "/character/ch0001783/"
            }
           ]
          }
         ],
         "runningTimeInMinutes": 154,
         "title": "Pulp Fiction",
         "titleType": "movie",
         "year": 1994
        },
        {
         "episode": 21,
         "id": "/title/tt12126356/",
         "nextEpisode": "/title/tt12126364/",
         "parentTitle": {
          "id": "/title/tt12125960/",
          "title": "All Positive Reviews",
          "titleType": "tvSeries",
          "year": 2019
         },
         "previousEpisode": "/title/tt12126342/",
         "principals": [
          {
           "category": "self",
           "characters": [
            "Self"
           ],
           "id": "/name/nm8130832/",
           "legacyNameText": "Nauman, Michi",
           "name": "Michi Nauman",
           "roles": [
            {
             "character": "Self"
            }
           ]
          },
          {
           "category": "self",
           "characters": [
            "Self"
           ],
           "id": "/name/nm4539236/",
           "legacyNameText": "Poliks, Edmund",
           "name": "Edmund Poliks",
           "roles": [
            {
             "character": "Self"
            }
           ]
          }
         ],
         "season": 1,
         "seriesStartYear": 2019,
         "title": "Pulp Fiction",
         "titleType": "tvEpisode",
         "year": 2020
        },
        {
         "episode": 5,
         "id": "/title/tt0582895/",
         "image": {
          "height": 370,
          "id": "/title/tt0582895/images/rm2588361984",
          "url": "https://m.media-amazon.com/images/M/MV5BMjI4M2M4MmMtODVlZi00Y2IwLTlmZmQtNmEwOTY2OGIyNzA5XkEyXkFqcGdeQXVyMTUyODMyMw@@._V1_.jpg",
          "width": 482
         },
         "nextEpisode": "/title/tt0582901/",
         "parentTitle": {
          "id": "/title/tt0092355/",
          "image": {
           "height": 1000,
           "id": "/title/tt0092355/images/rm1552624128",
           "url": "https://m.media-amazon.com/images/M/MV5BMDgyYzBkZDEtNTU3OC00Y2NmLWI2N2QtZWI4OTkyMzI3OTVhXkEyXkFqcGdeQXVyNjc4NTExMTk@._V1_.jpg",
           "width": 680
          },
          "title": "French and Saunders",
          "titleType": "tvSeries",
          "year": 1987
         },
         "previousEpisode": "/title/tt0582881/",
         "principals": [
          {
           "billing": 1,
           "category": "actress",
           "characters": [
            "Various Characters"
           ],
           "id": "/name/nm0294067/",
           "legacyNameText": "French, Dawn",
           "name": "Dawn French",
           "roles": [
            {
             "character": "Various Characters"
            }
           ]
          },
          {
           "billing": 2,
           "category": "actress",
           "characters": [
            "Various Characters"
           ],
           "disambiguation": "I",
           "id": "/name/nm0766837/",
           "legacyNameText": "Saunders, Jennifer (I)",
           "name": "Jennifer Saunders",
           "roles": [
            {
             "character": "Various Characters"
            }
           ]
          },
          {
           "billing": 3,
           "category": "self",
           "characters": [
            "Self"
           ],
           "disambiguation": "I",
           "id": "/name/nm0525801/",
           "legacyNameText": "Lulu (I)",
           "name": "Lulu",
           "roles": [
            {
             "character": "Self"
            }
           ]
          }
         ],
         "season": 5,
         "seriesStartYear": 1987,
         "title": "Pulp Fiction",
         "titleType": "tvEpisode",
         "year": 1996
        },
        {
         "id": "/title/tt0332732/",
         "image": {
          "height": 500,
          "id": "/title/tt0332732/images/rm1385337601",
          "url": "https://m.media-amazon.com/images/M/MV5BNWY4MmY1MTQtMWZlZS00YjdjLTk2NGYtM2MxZGIzNjU5MjBhXkEyXkFqcGdeQXVyMjQ0NzE0MQ@@._V1_.jpg",
          "width": 377
         },
         "principals": [
          {
           "attr": [
            "archiveFootage"
           ],
           "category": "archive_footage",
           "characters": [
            "Self"
           ],
           "id": "/name/nm0000275/",
           "legacyNameText": "Arquette, Rosanna",
           "name": "Rosanna Arquette",
           "roles": [
            {
             "character": "Self"
            }
           ]
          },
          {
           "category": "self",
           "characters": [
            "Self - Producer"
           ],
           "id": "/name/nm0004744/",
           "legacyNameText": "Bender, Lawrence",
           "name": "Lawrence Bender",
           "roles": [
            {
             "character": "Self - Producer"
            }
           ]
          },
          {
           "attr": [
            "archiveFootage"
           ],
           "category": "archive_footage",
           "characters": [
            "Self"
           ],
           "id": "/name/nm0000168/",
           "legacyNameText": "Jackson, Samuel L.",
           "name": "Samuel L. Jackson",
           "roles": [
            {
             "character": "Self"
            }
           ]
          }
         ],
         "runningTimeInMinutes": 31,
         "title": "Pulp Fiction: The Facts",
         "titleType": "video",
         "year": 2002
        },
        {
         "id": "/title/tt5424792/",
         "image": {
          "height": 500,
          "id": "/title/tt5424792/images/rm3039496448",
          "url": "https://m.media-amazon.com/images/M/MV5BMTkwMTQ3OTM5M15BMl5BanBnXkFtZTgwMzExMDE4OTE@._V1_.jpg",
          "width": 375
         },
         "principals": [
          {
           "billing": 1,
           "category": "self",
           "characters": [
            "Self - Publisher, Galaxy Press"
           ],
           "disambiguation": "XX",
           "id": "/name/nm7892096/",
           "legacyNameText": "Goodwin, John (XX)",
           "name": "John Goodwin",
           "roles": [
            {
             "character": "Self - Publisher, Galaxy Press"
            }
           ]
          },
          {
           "billing": 2,
           "category": "self",
           "characters": [
            "Self - Novelist"
           ],
           "disambiguation": "I",
           "id": "/name/nm0001969/",
           "legacyNameText": "Bradbury, Ray (I)",
           "name": "Ray Bradbury",
           "roles": [
            {
             "character": "Self - Novelist"
            }
           ]
          },
          {
           "billing": 3,
           "category": "self",
           "characters": [
            "Self - Editor"
           ],
           "id": "/name/nm0672444/",
           "legacyNameText": "Penzler, Otto",
           "name": "Otto Penzler",
           "roles": [
            {
             "character": "Self - Editor"
            }
           ]
          }
         ],
         "runningTimeInMinutes": 50,
         "title": "Pulp Fiction: The Golden Age of Storytelling",
         "titleType": "video",
         "year": 2009
        },
        {
         "id": "/title/tt9496140/",
         "image": {
          "height": 1414,
          "id": "/title/tt9496140/images/rm546175745",
          "url": "https://m.media-amazon.com/images/M/MV5BYWQ0MTZkNDEtMTkxYy00ZDE4LTgxNzctNTAyMjQ1ZTZkZDM2XkEyXkFqcGdeQXVyODEyMjcyNzg@._V1_.jpg",
          "width": 1125
         },
         "title": "Pulp Fiction 2",
         "titleType": "movie"
        },
        {
         "id": "/name/nm10542043/",
         "knownFor": [
          {
           "cast": [
            {
             "category": "actor",
             "characters": [
              "Blame's Tatted Girlfriend"
             ],
             "endYear": 2019,
             "episodeCount": 1,
             "roles": [
              {
               "character": "Blame's Tatted Girlfriend"
              }
             ],
             "startYear": 2019
            }
           ],
           "id": "/title/tt10008722/",
           "summary": {
            "category": "actor",
            "characters": [
             "Blame's Tatted Girlfriend"
            ],
            "displayYear": "2019"
           },
           "title": "Blame the Hero",
           "titleType": "tvMiniSeries",
           "year": 2019
          },
          {
           "cast": [
            {
             "billing": 5,
             "category": "actor"
            }
           ],
           "id": "/title/tt14914838/",
           "summary": {
            "category": "actor",
            "displayYear": "2019"
           },
           "title": "Play Date Gone Wrong",
           "titleType": "video",
           "year": 2019
          }
         ],
         "legacyNameText": "Fictionally, Pulp",
         "name": "Pulp Fictionally"
        },
        {
         "id": "/title/tt8855934/",
         "image": {
          "height": 1080,
          "id": "/title/tt8855934/images/rm3530849024",
          "url": "https://m.media-amazon.com/images/M/MV5BZjQ4ZGFiZGUtZGRiMC00MWNlLTk2YjItYTNiMDY0NzZlMGY3XkEyXkFqcGdeQXVyODQ2NDQwMTE@._V1_.jpg",
          "width": 858
         },
         "principals": [
          {
           "billing": 1,
           "category": "actor",
           "characters": [
            "Jules"
           ],
           "id": "/name/nm10050210/",
           "legacyNameText": "Mcbride, Kaari",
           "name": "Kaari Mcbride",
           "roles": [
            {
             "character": "Jules"
            }
           ]
          },
          {
           "as": "Brandon Burns Shirini",
           "billing": 2,
           "category": "actor",
           "characters": [
            "Vincent"
           ],
           "id": "/name/nm9570928/",
           "legacyNameText": "Shirinski, Brandon Burns",
           "name": "Brandon Burns Shirinski",
           "roles": [
            {
             "character": "Vincent"
            }
           ]
          },
          {
           "billing": 3,
           "category": "actor",
           "characters": [
            "The Couch Guy"
           ],
           "disambiguation": "II",
           "id": "/name/nm8742939/",
           "legacyNameText": "Stocking, Kyle (II)",
           "name": "Kyle Stocking",
           "roles": [
            {
             "character": "The Couch Guy"
            }
           ]
          }
         ],
         "title": "Pulp Fiction: Hamburger Scene Reconstruction (Fan Made)",
         "titleType": "video",
         "year": 2017
        },
        {
         "id": "/title/tt6022192/",
         "principals": [
          {
           "billing": 1,
           "category": "actress",
           "characters": [
            "Mia"
           ],
           "id": "/name/nm3155494/",
           "legacyNameText": "Barrett, Shannah",
           "name": "Shannah Barrett",
           "roles": [
            {
             "character": "Mia"
            }
           ]
          },
          {
           "billing": 2,
           "category": "actor",
           "characters": [
            "Vincent"
           ],
           "disambiguation": "V",
           "id": "/name/nm2364515/",
           "legacyNameText": "Hall, Bobby (V)",
           "name": "Bobby Hall",
           "roles": [
            {
             "character": "Vincent"
            }
           ]
          }
         ],
         "runningTimeInMinutes": 6,
         "title": "Vincent & Mia",
         "titleType": "short",
         "year": 2012
        },
        {
         "id": "/title/tt5056716/",
         "image": {
          "height": 500,
          "id": "/title/tt5056716/images/rm3533237248",
          "url": "https://m.media-amazon.com/images/M/MV5BMTc2MjAwMjYxOV5BMl5BanBnXkFtZTgwODIxNzg4NjE@._V1_.jpg",
          "width": 375
         },
         "runningTimeInMinutes": 51,
         "title": "Pulpfiction",
         "titleType": "movie",
         "year": 2009
        },
        {
         "episode": 19,
         "id": "/title/tt10084722/",
         "image": {
          "height": 596,
          "id": "/title/tt10084722/images/rm4228801280",
          "url": "https://m.media-amazon.com/images/M/MV5BMjEyOTM5NDQ0OV5BMl5BanBnXkFtZTgwMTIxOTM3NzM@._V1_.jpg",
          "width": 402
         },
         "nextEpisode": "/title/tt10116282/",
         "parentTitle": {
          "id": "/title/tt8589176/",
          "image": {
           "height": 2000,
           "id": "/title/tt8589176/images/rm1481766913",
           "url": "https://m.media-amazon.com/images/M/MV5BYTFiNjc5ZTktYzU3MS00MDhhLWJlNDYtNzRjNmRhZWJiY2FhXkEyXkFqcGdeQXVyNjMwMzc3MjE@._V1_.jpg",
           "width": 1350
          },
          "title": "Casting Calls",
          "titleType": "tvSeries",
          "year": 2018
         },
         "previousEpisode": "/title/tt10042404/",
         "runningTimeInMinutes": 3,
         "season": 2,
         "seriesStartYear": 2018,
         "title": "'Pulp Fiction'",
         "titleType": "tvEpisode",
         "year": 2019
        },
        {
         "id": "/title/tt5510516/",
         "nextEpisode": "/title/tt5510490/",
         "parentTitle": {
          "id": "/title/tt5187362/",
          "image": {
           "height": 1500,
           "id": "/title/tt5187362/images/rm885790720",
           "url": "https://m.media-amazon.com/images/M/MV5BMGFhMjJjZmYtODUxMS00ODdhLTg3NDgtMWVlNDg3MjM0NDdhXkEyXkFqcGdeQXVyNTgzMzk4NDQ@._V1_.jpg",
           "width": 1000
          },
          "title": "The Thug Cats",
          "titleType": "tvSeries",
          "year": 2015
         },
         "previousEpisode": "/title/tt5510472/",
         "principals": [
          {
           "category": "self",
           "characters": [
            "Self"
           ],
           "disambiguation": "IX",
           "id": "/name/nm7265631/",
           "legacyNameText": "Melody (IX)",
           "name": "Melody",
           "roles": [
            {
             "character": "Self"
            }
           ]
          },
          {
           "category": "self",
           "characters": [
            "Self"
           ],
           "disambiguation": "II",
           "id": "/name/nm7265632/",
           "legacyNameText": "Trick (II)",
           "name": "Trick",
           "roles": [
            {
             "character": "Self"
            }
           ]
          }
         ],
         "seriesStartYear": 2015,
         "title": "Pulp Fiction",
         "titleType": "tvEpisode",
         "year": 2016
        },
        {
         "episode": 3,
         "id": "/title/tt3682610/",
         "nextEpisode": "/title/tt3682678/",
         "parentTitle": {
          "id": "/title/tt3487240/",
          "image": {
           "height": 1329,
           "id": "/title/tt3487240/images/rm252823808",
           "url": "https://m.media-amazon.com/images/M/MV5BMjA3NzAxMjUzNF5BMl5BanBnXkFtZTgwNDE2NTA3MTE@._V1_.jpg",
           "width": 904
          },
          "title": "Cinema & Spice",
          "titleType": "tvSeries",
          "year": 2011
         },
         "previousEpisode": "/title/tt3682654/",
         "principals": [
          {
           "category": "self",
           "characters": [
            "Self - Host"
           ],
           "disambiguation": "I",
           "id": "/name/nm6094455/",
           "legacyNameText": "Feldman, Natasha (I)",
           "name": "Natasha Feldman",
           "roles": [
            {
             "character": "Self - Host"
            }
           ]
          },
          {
           "category": "self",
           "characters": [
            "Self - Host"
           ],
           "id": "/name/nm6094454/",
           "legacyNameText": "Strickland, Julianna",
           "name": "Julianna Strickland",
           "roles": [
            {
             "character": "Self - Host"
            }
           ]
          }
         ],
         "season": 2,
         "seriesStartYear": 2011,
         "title": "Pulp Fiction",
         "titleType": "tvEpisode",
         "year": 2013
        },
        {
         "episode": 22,
         "id": "/title/tt4791456/",
         "nextEpisode": "/title/tt4807736/",
         "parentTitle": {
          "id": "/title/tt3213236/",
          "image": {
           "height": 288,
           "id": "/title/tt3213236/images/rm3107405824",
           "url": "https://m.media-amazon.com/images/M/MV5BMDYwNjQ5YTAtYjczNi00ZTkyLTgzZGEtZTQ5Y2E5NGNhNDA2XkEyXkFqcGdeQXVyNDYyMjg4MTE@._V1_.jpg",
           "width": 512
          },
          "title": "Renegade Cut",
          "titleType": "tvSeries",
          "year": 2012
         },
         "previousEpisode": "/title/tt4772194/",
         "principals": [
          {
           "category": "actor",
           "characters": [
            "Leon Thomas"
           ],
           "disambiguation": "VII",
           "id": "/name/nm5241213/",
           "legacyNameText": "Thomas, Leon (VII)",
           "name": "Leon Thomas",
           "roles": [
            {
             "character": "Leon Thomas",
             "characterId": "/character/ch0401920/"
            }
           ]
          }
         ],
         "runningTimeInMinutes": 12,
         "season": 4,
         "seriesStartYear": 2012,
         "title": "Pulp Fiction",
         "titleType": "tvEpisode",
         "year": 2015
        },
        {
         "episode": 1,
         "id": "/title/tt6423092/",
         "nextEpisode": "/title/tt6423108/",
         "parentTitle": {
          "id": "/title/tt6415880/",
          "image": {
           "height": 1111,
           "id": "/title/tt6415880/images/rm313801984",
           "url": "https://m.media-amazon.com/images/M/MV5BZmNhY2MxY2YtZDM4Mi00Y2M1LWIwZGMtM2FlNGVkZDU1YTUwXkEyXkFqcGdeQXVyNDMyNzY5Mw@@._V1_.jpg",
           "width": 750
          },
          "title": "Where It Was Made",
          "titleType": "tvSeries",
          "year": 2015
         },
         "principals": [
          {
           "category": "self",
           "characters": [
            "Self - Host"
           ],
           "id": "/name/nm3543954/",
           "legacyNameText": "Cultrera, Ryan",
           "name": "Ryan Cultrera",
           "roles": [
            {
             "character": "Self - Host"
            }
           ]
          },
          {
           "category": "self",
           "characters": [
            "Self - Guest"
           ],
           "id": "/name/nm5353212/",
           "legacyNameText": "Oster, James Andrew",
           "name": "James Andrew Oster",
           "roles": [
            {
             "character": "Self - Guest"
            }
           ]
          }
         ],
         "season": 1,
         "seriesStartYear": 2015,
         "title": "Pulp Fiction",
         "titleType": "tvEpisode",
         "year": 2015
        },
        {
         "episode": 2,
         "id": "/title/tt6281782/",
         "nextEpisode": "/title/tt6281806/",
         "parentTitle": {
          "id": "/title/tt6277228/",
          "image": {
           "height": 1344,
           "id": "/title/tt6277228/images/rm3677553664",
           "url": "https://m.media-amazon.com/images/M/MV5BZTgzNmFkNWYtYTY5OS00NzIxLTkxYjUtNGRhN2U3YmYzODY2L2ltYWdlL2ltYWdlXkEyXkFqcGdeQXVyNTc5MTI0MDA@._V1_.jpg",
           "width": 2240
          },
          "title": "Twist the Web Series",
          "titleType": "tvSeries",
          "year": 2016
         },
         "previousEpisode": "/title/tt6281748/",
         "principals": [
          {
           "billing": 1,
           "category": "actress",
           "characters": [
            "Yvette"
           ],
           "id": "/name/nm7054281/",
           "legacyNameText": "Bedgood, Yvette",
           "name": "Yvette Bedgood",
           "roles": [
            {
             "character": "Yvette"
            }
           ]
          },
          {
           "billing": 5,
           "category": "self",
           "characters": [
            "Self"
           ],
           "disambiguation": "III",
           "id": "/name/nm8606850/",
           "legacyNameText": "McWilliams, Sarah (III)",
           "name": "Sarah McWilliams",
           "roles": [
            {
             "character": "Self"
            }
           ]
          },
          {
           "billing": 6,
           "category": "self",
           "characters": [
            "Self"
           ],
           "id": "/name/nm8133003/",
           "legacyNameText": "Warren, Nikee",
           "name": "Nikee Warren",
           "roles": [
            {
             "character": "Self"
            }
           ]
          }
         ],
         "season": 1,
         "seriesStartYear": 2016,
         "title": "Pulp Fiction",
         "titleType": "tvEpisode",
         "year": 2016
        },
        {
         "episode": 7,
         "id": "/title/tt9827888/",
         "nextEpisode": "/title/tt9827892/",
         "parentTitle": {
          "id": "/title/tt7395772/",
          "image": {
           "height": 1080,
           "id": "/title/tt7395772/images/rm896870144",
           "url": "https://m.media-amazon.com/images/M/MV5BYTQ3ZmFkMDUtNWNkMy00ZThkLWExYTMtMWQ1NjJkZGQ1NTI3XkEyXkFqcGdeQXVyNzM3NjIwMzA@._V1_.jpg",
           "width": 1920
          },
          "title": "Movies for America",
          "titleType": "tvSeries",
          "year": 2017
         },
         "previousEpisode": "/title/tt9827884/",
         "season": 2,
         "seriesStartYear": 2017,
         "title": "Pulp Fiction",
         "titleType": "tvEpisode",
         "year": 2018
        },
        {
         "episode": 3,
         "id": "/title/tt11723836/",
         "image": {
          "height": 2048,
          "id": "/title/tt11723836/images/rm1653310721",
          "url": "https://m.media-amazon.com/images/M/MV5BYjg2MzZhMGMtMGQ0NS00ZDFmLTg4MjktNDUyMjMyNzg3ZTBhXkEyXkFqcGdeQXVyMTk2ODc0MjY@._V1_.jpg",
          "width": 1382
         },
         "nextEpisode": "/title/tt11723876/",
         "parentTitle": {
          "id": "/title/tt11661968/",
          "image": {
           "height": 2048,
           "id": "/title/tt11661968/images/rm3347612929",
           "url": "https://m.media-amazon.com/images/M/MV5BMmY3N2VhNTAtYjE3MC00MjUwLWJlYjktNjFkOTQyYTQ3ZTdkXkEyXkFqcGdeQXVyMTk2ODc0MjY@._V1_.jpg",
           "width": 1382
          },
          "title": "Pop Trivia",
          "titleType": "tvSeries",
          "year": 2019
         },
         "previousEpisode": "/title/tt11723828/",
         "season": 1,
         "seriesStartYear": 2019,
         "title": "'Pulp Fiction'",
         "titleType": "tvEpisode",
         "year": 2019
        },
        {
         "episode": 36,
         "id": "/title/tt5274700/",
         "nextEpisode": "/title/tt5274698/",
         "parentTitle": {
          "id": "/title/tt3627448/",
          "image": {
           "height": 405,
           "id": "/title/tt3627448/images/rm884282368",
           "url": "https://m.media-amazon.com/images/M/MV5BOGM3OGRkYjEtYjI0ZS00ODdkLTkyMzctMzNkYTc1MmI1Y2U0XkEyXkFqcGdeQXVyMTM2Mzg4MA@@._V1_.jpg",
           "width": 529
          },
          "title": "Merci Qui?",
          "titleType": "tvSeries",
          "year": 2008
         },
         "previousEpisode": "/title/tt5274682/",
         "principals": [
          {
           "billing": 1,
           "category": "actor",
           "characters": [
            "Grégou"
           ],
           "id": "/name/nm5378921/",
           "legacyNameText": "Lassalle, Grégoire",
           "name": "Grégoire Lassalle",
           "roles": [
            {
             "character": "Grégou"
            }
           ]
          },
          {
           "billing": 2,
           "category": "actor",
           "characters": [
            "Le coach"
           ],
           "id": "/name/nm6388198/",
           "legacyNameText": "Sardet, Kevin",
           "name": "Kevin Sardet",
           "roles": [
            {
             "character": "Le coach"
            }
           ]
          },
          {
           "attr": [
            "voice"
           ],
           "billing": 3,
           "category": "actor",
           "characters": [
            "Voix de l'émission"
           ],
           "id": "/name/nm6388258/",
           "legacyNameText": "Lambotte, Jessie",
           "name": "Jessie Lambotte",
           "roles": [
            {
             "character": "Voix de l'émission"
            }
           ]
          }
         ],
         "season": 1,
         "seriesEndYear": 2010,
         "seriesStartYear": 2008,
         "title": "Pulp Fiction",
         "titleType": "tvEpisode",
         "year": 2008
        },
        {
         "id": "/title/tt5136848/",
         "image": {
          "height": 375,
          "id": "/title/tt5136848/images/rm1661274880",
          "url": "https://m.media-amazon.com/images/M/MV5BMTQ4NjA2NDkxN15BMl5BanBnXkFtZTgwNjk1MTU2OTE@._V1_.jpg",
          "width": 500
         },
         "nextEpisode": "/title/tt5136818/",
         "parentTitle": {
          "id": "/title/tt0202741/",
          "image": {
           "height": 327,
           "id": "/title/tt0202741/images/rm388864000",
           "url": "https://m.media-amazon.com/images/M/MV5BMjAzOTY3MzgyMF5BMl5BanBnXkFtZTYwMjM3MDc2._V1_.jpg",
           "width": 485
          },
          "title": "The Man Show",
          "titleType": "tvSeries",
          "year": 1999
         },
         "previousEpisode": "/title/tt5136812/",
         "principals": [
          {
           "category": "self",
           "characters": [
            "Self - Host"
           ],
           "disambiguation": "I",
           "id": "/name/nm0736579/",
           "legacyNameText": "Rogan, Joe (I)",
           "name": "Joe Rogan",
           "roles": [
            {
             "character": "Self - Host"
            }
           ]
          },
          {
           "category": "self",
           "characters": [
            "Self - Host"
           ],
           "id": "/name/nm0970268/",
           "legacyNameText": "Stanhope, Doug",
           "name": "Doug Stanhope",
           "roles": [
            {
             "character": "Self - Host"
            }
           ]
          }
         ],
         "runningTimeInMinutes": 21,
         "seriesEndYear": 2014,
         "seriesStartYear": 1999,
         "title": "Pulp Fiction",
         "titleType": "tvEpisode",
         "year": 2014
        }
       ],
       "types": [
        "title",
        "name"
       ]
      },
      "text/plain": [
       "<IPython.core.display.JSON object>"
      ]
     },
     "execution_count": 53,
     "metadata": {
      "application/json": {
       "expanded": false,
       "root": "root"
      }
     },
     "output_type": "execute_result"
    }
   ],
   "source": [
    "JSON(response.json())"
   ]
  }
 ],
 "metadata": {
  "kernelspec": {
   "display_name": "Python 3",
   "language": "python",
   "name": "python3"
  },
  "language_info": {
   "codemirror_mode": {
    "name": "ipython",
    "version": 3
   },
   "file_extension": ".py",
   "mimetype": "text/x-python",
   "name": "python",
   "nbconvert_exporter": "python",
   "pygments_lexer": "ipython3",
   "version": "3.8.8"
  }
 },
 "nbformat": 4,
 "nbformat_minor": 5
}
