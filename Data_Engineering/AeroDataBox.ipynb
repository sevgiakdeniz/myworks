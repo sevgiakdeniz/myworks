{
 "cells": [
  {
   "cell_type": "code",
   "execution_count": 10,
   "id": "0e79c564-895f-4180-9803-96aca6481f34",
   "metadata": {},
   "outputs": [],
   "source": [
    "import requests\n",
    "from IPython.display import JSON"
   ]
  },
  {
   "cell_type": "code",
   "execution_count": 100,
   "id": "0a64895d-d04a-488e-9bdb-884182d218d3",
   "metadata": {},
   "outputs": [],
   "source": [
    "import requests\n",
    "\n",
    "url = \"https://aerodatabox.p.rapidapi.com/flights/airports/icao/EDDB/2021-11-25T00:00/2021-11-25T12:00\"\n",
    "\n",
    "querystring = {\"withLeg\":\"false\",\"direction\":\"Arrival\",\"withCancelled\":\"false\",\"withCodeshared\":\"true\",\"withPrivate\":\"true\",\"withLocation\":\"false\"}\n",
    "\n",
    "headers = {\n",
    "    'x-rapidapi-host': \"aerodatabox.p.rapidapi.com\",\n",
    "    'x-rapidapi-key': \"491eedcfccmshde35f4156c9893dp1ebe2fjsn938296ed1585\"\n",
    "    }\n",
    "\n",
    "response = requests.request(\"GET\", url, headers=headers, params=querystring)\n",
    "\n",
    "#print(response.text)"
   ]
  },
  {
   "cell_type": "code",
   "execution_count": 101,
   "id": "69232692-2994-4a92-a531-8349c6da89f0",
   "metadata": {},
   "outputs": [],
   "source": [
    "import requests\n",
    "\n",
    "url = \"https://aerodatabox.p.rapidapi.com/flights/airports/icao/EDDB/2021-11-25T12:01/2021-11-25T23:59\"\n",
    "\n",
    "querystring = {\"withLeg\":\"false\",\"direction\":\"Arrival\",\"withCancelled\":\"false\",\"withCodeshared\":\"true\",\"withPrivate\":\"true\",\"withLocation\":\"false\"}\n",
    "\n",
    "headers = {\n",
    "    'x-rapidapi-host': \"aerodatabox.p.rapidapi.com\",\n",
    "    'x-rapidapi-key': \"491eedcfccmshde35f4156c9893dp1ebe2fjsn938296ed1585\"\n",
    "    }\n",
    "\n",
    "response = requests.request(\"GET\", url, headers=headers, params=querystring)\n",
    "\n",
    "#print(response.text)"
   ]
  },
  {
   "cell_type": "code",
   "execution_count": null,
   "id": "11955e90-dc9c-4d45-a3c6-748c942eb580",
   "metadata": {},
   "outputs": [],
   "source": [
    "#concenate to tables"
   ]
  },
  {
   "cell_type": "code",
   "execution_count": 69,
   "id": "60e1e22f-3951-478e-b75c-8d9916c5861b",
   "metadata": {},
   "outputs": [],
   "source": [
    "import requests\n",
    "\n",
    "url = \"https://aerodatabox.p.rapidapi.com/flights/airports/icao/EDDB/2021-11-25T00:00/2021-11-25T12:00\"\n",
    "\n",
    "querystring = {\"withLeg\":\"false\",\"direction\":\"Arrival\",\"withCancelled\":\"false\",\"withCodeshared\":\"true\",\"withPrivate\":\"true\",\"withLocation\":\"false\"}\n",
    "\n",
    "headers = {\n",
    "    'x-rapidapi-host': \"aerodatabox.p.rapidapi.com\",\n",
    "    'x-rapidapi-key': \"491eedcfccmshde35f4156c9893dp1ebe2fjsn938296ed1585\"\n",
    "    }\n",
    "\n",
    "response_1 = requests.request(\"GET\", url, headers=headers, params=querystring)\n",
    "\n",
    "import requests\n",
    "\n",
    "url = \"https://aerodatabox.p.rapidapi.com/flights/airports/icao/EDDB/2021-11-25T12:01/2021-11-25T23:59\"\n",
    "\n",
    "querystring = {\"withLeg\":\"false\",\"direction\":\"Arrival\",\"withCancelled\":\"false\",\"withCodeshared\":\"true\",\"withPrivate\":\"true\",\"withLocation\":\"false\"}\n",
    "\n",
    "headers = {\n",
    "    'x-rapidapi-host': \"aerodatabox.p.rapidapi.com\",\n",
    "    'x-rapidapi-key': \"491eedcfccmshde35f4156c9893dp1ebe2fjsn938296ed1585\"\n",
    "    }\n",
    "\n",
    "response_2 = requests.request(\"GET\", url, headers=headers, params=querystring)\n",
    "\n",
    "# print(response_2.text)\n",
    "\n",
    "\n",
    "json_1 = response_1.json()\n",
    "json_2 = response_2.json()"
   ]
  },
  {
   "cell_type": "code",
   "execution_count": 71,
   "id": "a291a839-8390-4ac6-956f-c20c0a1b0457",
   "metadata": {},
   "outputs": [
    {
     "data": {
      "application/json": [
       {
        "aircraft": {
         "model": "Airbus A220-300"
        },
        "airline": {
         "name": "Air Baltic"
        },
        "codeshareStatus": "Unknown",
        "isCargo": false,
        "movement": {
         "airport": {
          "iata": "RIX",
          "icao": "EVRA",
          "name": "Riga"
         },
         "quality": [
          "Basic"
         ],
         "scheduledTimeLocal": "2021-11-25 07:55+01:00",
         "scheduledTimeUtc": "2021-11-25 06:55Z",
         "terminal": "1"
        },
        "number": "BT 211",
        "status": "Unknown"
       },
       {
        "aircraft": {
         "model": "Boeing 737-800"
        },
        "airline": {
         "name": "Eurowings"
        },
        "codeshareStatus": "Unknown",
        "isCargo": false,
        "movement": {
         "airport": {
          "iata": "CGN",
          "icao": "EDDK",
          "name": "Cologne"
         },
         "quality": [
          "Basic"
         ],
         "scheduledTimeLocal": "2021-11-25 07:20+01:00",
         "scheduledTimeUtc": "2021-11-25 06:20Z",
         "terminal": "1"
        },
        "number": "EW 12",
        "status": "Unknown"
       },
       {
        "aircraft": {
         "model": "Airbus A319"
        },
        "airline": {
         "name": "Eurowings"
        },
        "codeshareStatus": "Unknown",
        "isCargo": false,
        "movement": {
         "airport": {
          "iata": "STR",
          "icao": "EDDS",
          "name": "Stuttgart"
         },
         "quality": [
          "Basic"
         ],
         "scheduledTimeLocal": "2021-11-25 07:30+01:00",
         "scheduledTimeUtc": "2021-11-25 06:30Z",
         "terminal": "1"
        },
        "number": "EW 2002",
        "status": "Unknown"
       },
       {
        "aircraft": {
         "model": "Airbus A320"
        },
        "airline": {
         "name": "Eurowings"
        },
        "codeshareStatus": "Unknown",
        "isCargo": false,
        "movement": {
         "airport": {
          "iata": "DUS",
          "icao": "EDDL",
          "name": "Duesseldorf"
         },
         "quality": [
          "Basic"
         ],
         "scheduledTimeLocal": "2021-11-25 07:35+01:00",
         "scheduledTimeUtc": "2021-11-25 06:35Z",
         "terminal": "1"
        },
        "number": "EW 9048",
        "status": "Unknown"
       },
       {
        "aircraft": {
         "model": "Airbus A321",
         "reg": "D-AIDK"
        },
        "airline": {
         "name": "Lufthansa"
        },
        "codeshareStatus": "IsCodeshared",
        "isCargo": false,
        "movement": {
         "airport": {
          "iata": "FRA",
          "icao": "EDDF",
          "name": "Frankfurt-am-Main"
         },
         "quality": [
          "Basic"
         ],
         "scheduledTimeLocal": "2021-11-25 07:55+01:00",
         "scheduledTimeUtc": "2021-11-25 06:55Z",
         "terminal": "1"
        },
        "number": "LH 170",
        "status": "Unknown"
       },
       {
        "aircraft": {
         "model": "Airbus A319"
        },
        "airline": {
         "name": "easyJet"
        },
        "codeshareStatus": "Unknown",
        "isCargo": false,
        "movement": {
         "airport": {
          "iata": "BSL",
          "icao": "LFSB",
          "name": "Bâle/Mulhouse"
         },
         "quality": [
          "Basic"
         ],
         "scheduledTimeLocal": "2021-11-25 07:55+01:00",
         "scheduledTimeUtc": "2021-11-25 06:55Z",
         "terminal": "1"
        },
        "number": "U2 5632",
        "status": "Unknown"
       },
       {
        "aircraft": {
         "model": "Airbus A320"
        },
        "airline": {
         "name": "Air France"
        },
        "codeshareStatus": "Unknown",
        "isCargo": false,
        "movement": {
         "airport": {
          "iata": "ORY",
          "icao": "LFPO",
          "name": "Paris"
         },
         "quality": [
          "Basic"
         ],
         "scheduledTimeLocal": "2021-11-25 08:55+01:00",
         "scheduledTimeUtc": "2021-11-25 07:55Z",
         "terminal": "1"
        },
        "number": "AF 7354",
        "status": "Unknown"
       },
       {
        "aircraft": {
         "model": "ATR 72"
        },
        "airline": {
         "name": "Danish Air"
        },
        "codeshareStatus": "Unknown",
        "isCargo": false,
        "movement": {
         "airport": {
          "iata": "SCN",
          "icao": "EDDR",
          "name": "Saarbrücken"
         },
         "quality": [
          "Basic"
         ],
         "scheduledTimeLocal": "2021-11-25 08:10+01:00",
         "scheduledTimeUtc": "2021-11-25 07:10Z",
         "terminal": "0"
        },
        "number": "DX 121",
        "status": "Unknown"
       },
       {
        "aircraft": {
         "model": "Boeing 737-800"
        },
        "airline": {
         "name": "Ryanair"
        },
        "codeshareStatus": "Unknown",
        "isCargo": false,
        "movement": {
         "airport": {
          "iata": "PSA",
          "icao": "LIRP",
          "name": "Pisa"
         },
         "quality": [
          "Basic"
         ],
         "scheduledTimeLocal": "2021-11-25 08:45+01:00",
         "scheduledTimeUtc": "2021-11-25 07:45Z"
        },
        "number": "FR 9955",
        "status": "Unknown"
       },
       {
        "aircraft": {
         "model": "Bombardier Dash 8 Q400 / DHC-8-400"
        },
        "airline": {
         "name": "Luxair"
        },
        "codeshareStatus": "Unknown",
        "isCargo": false,
        "movement": {
         "airport": {
          "iata": "LUX",
          "icao": "ELLX",
          "name": "Luxembourg"
         },
         "quality": [
          "Basic"
         ],
         "scheduledTimeLocal": "2021-11-25 08:15+01:00",
         "scheduledTimeUtc": "2021-11-25 07:15Z",
         "terminal": "1"
        },
        "number": "LG 9471",
        "status": "Unknown"
       },
       {
        "aircraft": {
         "model": "Airbus A320",
         "reg": "D-AIZZ"
        },
        "airline": {
         "name": "Lufthansa"
        },
        "codeshareStatus": "IsCodeshared",
        "isCargo": false,
        "movement": {
         "airport": {
          "iata": "FRA",
          "icao": "EDDF",
          "name": "Frankfurt-am-Main"
         },
         "quality": [
          "Basic"
         ],
         "scheduledTimeLocal": "2021-11-25 08:55+01:00",
         "scheduledTimeUtc": "2021-11-25 07:55Z",
         "terminal": "1"
        },
        "number": "LH 174",
        "status": "Unknown"
       },
       {
        "aircraft": {
         "model": "Airbus A320 NEO"
        },
        "airline": {
         "name": "Lufthansa"
        },
        "codeshareStatus": "IsCodeshared",
        "isCargo": false,
        "movement": {
         "airport": {
          "iata": "MUC",
          "icao": "EDDM",
          "name": "Munich"
         },
         "quality": [
          "Basic"
         ],
         "scheduledTimeLocal": "2021-11-25 08:10+01:00",
         "scheduledTimeUtc": "2021-11-25 07:10Z",
         "terminal": "1"
        },
        "number": "LH 1928",
        "status": "Unknown"
       },
       {
        "aircraft": {
         "model": "Airbus A320"
        },
        "airline": {
         "name": "SWISS"
        },
        "codeshareStatus": "Unknown",
        "isCargo": false,
        "movement": {
         "airport": {
          "iata": "ZRH",
          "icao": "LSZH",
          "name": "Zurich"
         },
         "quality": [
          "Basic"
         ],
         "scheduledTimeLocal": "2021-11-25 08:45+01:00",
         "scheduledTimeUtc": "2021-11-25 07:45Z",
         "terminal": "1"
        },
        "number": "LX 974",
        "status": "Unknown"
       },
       {
        "aircraft": {
         "model": "Embraer 195"
        },
        "airline": {
         "name": "Austrian"
        },
        "codeshareStatus": "Unknown",
        "isCargo": false,
        "movement": {
         "airport": {
          "iata": "VIE",
          "icao": "LOWW",
          "name": "Vienna"
         },
         "quality": [
          "Basic"
         ],
         "scheduledTimeLocal": "2021-11-25 08:55+01:00",
         "scheduledTimeUtc": "2021-11-25 07:55Z",
         "terminal": "1"
        },
        "number": "OS 223",
        "status": "Unknown"
       },
       {
        "aircraft": {
         "model": "Boeing 737-800"
        },
        "airline": {
         "name": "Norwegian Air Shuttle"
        },
        "codeshareStatus": "Unknown",
        "isCargo": false,
        "movement": {
         "airport": {
          "iata": "OSL",
          "icao": "ENGM",
          "name": "Oslo"
         },
         "quality": [
          "Basic"
         ],
         "scheduledTimeLocal": "2021-11-25 09:10+01:00",
         "scheduledTimeUtc": "2021-11-25 08:10Z",
         "terminal": "1"
        },
        "number": "DY 1102",
        "status": "Unknown"
       },
       {
        "aircraft": {
         "model": "Airbus A320"
        },
        "airline": {
         "name": "Eurowings"
        },
        "codeshareStatus": "Unknown",
        "isCargo": false,
        "movement": {
         "airport": {
          "iata": "CGN",
          "icao": "EDDK",
          "name": "Cologne"
         },
         "quality": [
          "Basic"
         ],
         "scheduledTimeLocal": "2021-11-25 09:40+01:00",
         "scheduledTimeUtc": "2021-11-25 08:40Z",
         "terminal": "1"
        },
        "number": "EW 8059",
        "status": "Unknown"
       },
       {
        "aircraft": {
         "model": "Boeing 737-800"
        },
        "airline": {
         "name": "Ryanair"
        },
        "codeshareStatus": "Unknown",
        "isCargo": false,
        "movement": {
         "airport": {
          "iata": "BUD",
          "icao": "LHBP",
          "name": "Budapest"
         },
         "quality": [
          "Basic"
         ],
         "scheduledTimeLocal": "2021-11-25 09:30+01:00",
         "scheduledTimeUtc": "2021-11-25 08:30Z"
        },
        "number": "FR 197",
        "status": "Unknown"
       },
       {
        "aircraft": {
         "model": "Boeing 737-800"
        },
        "airline": {
         "name": "Ryanair"
        },
        "codeshareStatus": "Unknown",
        "isCargo": false,
        "movement": {
         "airport": {
          "iata": "MAD",
          "icao": "LEMD",
          "name": "Madrid"
         },
         "quality": [
          "Basic"
         ],
         "scheduledTimeLocal": "2021-11-25 09:25+01:00",
         "scheduledTimeUtc": "2021-11-25 08:25Z"
        },
        "number": "FR 2526",
        "status": "Unknown"
       },
       {
        "aircraft": {
         "model": "Boeing 737-800"
        },
        "airline": {
         "name": "Ryanair"
        },
        "codeshareStatus": "Unknown",
        "isCargo": false,
        "movement": {
         "airport": {
          "iata": "RIX",
          "icao": "EVRA",
          "name": "Riga"
         },
         "quality": [
          "Basic"
         ],
         "scheduledTimeLocal": "2021-11-25 09:45+01:00",
         "scheduledTimeUtc": "2021-11-25 08:45Z"
        },
        "number": "FR 2600",
        "status": "Unknown"
       },
       {
        "aircraft": {
         "model": "Airbus A320"
        },
        "airline": {
         "name": "Air Serbia"
        },
        "codeshareStatus": "Unknown",
        "isCargo": false,
        "movement": {
         "airport": {
          "iata": "BEG",
          "icao": "LYBE",
          "name": "Belgrade"
         },
         "quality": [
          "Basic"
         ],
         "scheduledTimeLocal": "2021-11-25 09:00+01:00",
         "scheduledTimeUtc": "2021-11-25 08:00Z",
         "terminal": "1"
        },
        "number": "JU 350",
        "status": "Unknown"
       },
       {
        "aircraft": {
         "model": "Boeing 737-700",
         "reg": "PH-BCL"
        },
        "airline": {
         "name": "KLM"
        },
        "codeshareStatus": "IsOperator",
        "isCargo": false,
        "movement": {
         "airport": {
          "iata": "AMS",
          "icao": "EHAM",
          "name": "Amsterdam"
         },
         "quality": [
          "Basic"
         ],
         "scheduledTimeLocal": "2021-11-25 09:25+01:00",
         "scheduledTimeUtc": "2021-11-25 08:25Z",
         "terminal": "1"
        },
        "number": "KL 1821",
        "status": "Unknown"
       },
       {
        "aircraft": {
         "model": "Airbus A320",
         "reg": "D-AIUD"
        },
        "airline": {
         "name": "Lufthansa"
        },
        "codeshareStatus": "IsCodeshared",
        "isCargo": false,
        "movement": {
         "airport": {
          "iata": "FRA",
          "icao": "EDDF",
          "name": "Frankfurt-am-Main"
         },
         "quality": [
          "Basic"
         ],
         "scheduledTimeLocal": "2021-11-25 09:55+01:00",
         "scheduledTimeUtc": "2021-11-25 08:55Z",
         "terminal": "1"
        },
        "number": "LH 176",
        "status": "Unknown"
       },
       {
        "aircraft": {
         "model": "Airbus A320"
        },
        "airline": {
         "name": "Lufthansa"
        },
        "codeshareStatus": "IsCodeshared",
        "isCargo": false,
        "movement": {
         "airport": {
          "iata": "MUC",
          "icao": "EDDM",
          "name": "Munich"
         },
         "quality": [
          "Basic"
         ],
         "scheduledTimeLocal": "2021-11-25 09:40+01:00",
         "scheduledTimeUtc": "2021-11-25 08:40Z",
         "terminal": "1"
        },
        "number": "LH 1930",
        "status": "Unknown"
       },
       {
        "aircraft": {
         "model": "Airbus A330-300"
        },
        "airline": {
         "name": "Turkish"
        },
        "codeshareStatus": "Unknown",
        "isCargo": false,
        "movement": {
         "airport": {
          "iata": "IST",
          "icao": "LTFM",
          "name": "Istanbul"
         },
         "quality": [
          "Basic"
         ],
         "scheduledTimeLocal": "2021-11-25 09:35+01:00",
         "scheduledTimeUtc": "2021-11-25 08:35Z",
         "terminal": "1"
        },
        "number": "TK 1721",
        "status": "Unknown"
       },
       {
        "aircraft": {
         "model": "Airbus A320"
        },
        "airline": {
         "name": "easyJet"
        },
        "codeshareStatus": "Unknown",
        "isCargo": false,
        "movement": {
         "airport": {
          "iata": "CPH",
          "icao": "EKCH",
          "name": "Copenhagen"
         },
         "quality": [
          "Basic"
         ],
         "scheduledTimeLocal": "2021-11-25 09:55+01:00",
         "scheduledTimeUtc": "2021-11-25 08:55Z",
         "terminal": "1"
        },
        "number": "U2 5684",
        "status": "Unknown"
       },
       {
        "aircraft": {
         "model": "Airbus A319"
        },
        "airline": {
         "name": "easyJet"
        },
        "codeshareStatus": "Unknown",
        "isCargo": false,
        "movement": {
         "airport": {
          "iata": "AAR",
          "icao": "EKAH",
          "name": "Aarhus"
         },
         "quality": [
          "Basic"
         ],
         "scheduledTimeLocal": "2021-11-25 09:45+01:00",
         "scheduledTimeUtc": "2021-11-25 08:45Z",
         "terminal": "1"
        },
        "number": "U2 5698",
        "status": "Unknown"
       },
       {
        "aircraft": {
         "model": "Airbus A320"
        },
        "airline": {
         "name": "Aegean"
        },
        "codeshareStatus": "Unknown",
        "isCargo": false,
        "movement": {
         "airport": {
          "iata": "ATH",
          "icao": "LGAV",
          "name": "Athens"
         },
         "quality": [
          "Basic"
         ],
         "scheduledTimeLocal": "2021-11-25 10:50+01:00",
         "scheduledTimeUtc": "2021-11-25 09:50Z",
         "terminal": "1"
        },
        "number": "A3 820",
        "status": "Unknown"
       },
       {
        "aircraft": {
         "model": "Embraer 190"
        },
        "airline": {
         "name": "British Airways"
        },
        "codeshareStatus": "IsCodeshared",
        "isCargo": false,
        "movement": {
         "airport": {
          "iata": "LCY",
          "icao": "EGLC",
          "name": "London"
         },
         "quality": [
          "Basic"
         ],
         "scheduledTimeLocal": "2021-11-25 10:25+01:00",
         "scheduledTimeUtc": "2021-11-25 09:25Z",
         "terminal": "1"
        },
        "number": "BA 8491",
        "status": "Unknown"
       },
       {
        "aircraft": {
         "model": "Boeing 737-800"
        },
        "airline": {
         "name": "Ryanair"
        },
        "codeshareStatus": "Unknown",
        "isCargo": false,
        "movement": {
         "airport": {
          "iata": "STN",
          "icao": "EGSS",
          "name": "London"
         },
         "quality": [
          "Basic"
         ],
         "scheduledTimeLocal": "2021-11-25 10:40+01:00",
         "scheduledTimeUtc": "2021-11-25 09:40Z"
        },
        "number": "FR 145",
        "status": "Unknown"
       },
       {
        "aircraft": {
         "model": "Boeing 737-800"
        },
        "airline": {
         "name": "Ryanair"
        },
        "codeshareStatus": "Unknown",
        "isCargo": false,
        "movement": {
         "airport": {
          "iata": "BGY",
          "icao": "LIME",
          "name": "Bergamo"
         },
         "quality": [
          "Basic"
         ],
         "scheduledTimeLocal": "2021-11-25 10:40+01:00",
         "scheduledTimeUtc": "2021-11-25 09:40Z"
        },
        "number": "FR 4731",
        "status": "Unknown"
       },
       {
        "aircraft": {
         "model": "Airbus A320"
        },
        "airline": {
         "name": "Austrian"
        },
        "codeshareStatus": "Unknown",
        "isCargo": false,
        "movement": {
         "airport": {
          "iata": "VIE",
          "icao": "LOWW",
          "name": "Vienna"
         },
         "quality": [
          "Basic"
         ],
         "scheduledTimeLocal": "2021-11-25 10:25+01:00",
         "scheduledTimeUtc": "2021-11-25 09:25Z",
         "terminal": "1"
        },
        "number": "OS 225",
        "status": "Unknown"
       },
       {
        "aircraft": {
         "model": "Airbus A320",
         "reg": "OY-KAS"
        },
        "airline": {
         "name": "SAS"
        },
        "codeshareStatus": "Unknown",
        "isCargo": false,
        "movement": {
         "airport": {
          "iata": "ARN",
          "icao": "ESSA",
          "name": "Stockholm"
         },
         "quality": [
          "Basic"
         ],
         "scheduledTimeLocal": "2021-11-25 10:30+01:00",
         "scheduledTimeUtc": "2021-11-25 09:30Z",
         "terminal": "1"
        },
        "number": "SK 2677",
        "status": "Unknown"
       },
       {
        "aircraft": {
         "model": "Boeing 787-8"
        },
        "airline": {
         "name": "Scoot"
        },
        "codeshareStatus": "Unknown",
        "isCargo": false,
        "movement": {
         "airport": {
          "iata": "ATH",
          "icao": "LGAV",
          "name": "Athens"
         },
         "quality": [
          "Basic"
         ],
         "scheduledTimeLocal": "2021-11-25 10:20+01:00",
         "scheduledTimeUtc": "2021-11-25 09:20Z",
         "terminal": "1"
        },
        "number": "TR 722",
        "status": "Unknown"
       },
       {
        "aircraft": {
         "model": "Airbus A319"
        },
        "airline": {
         "name": "Air France"
        },
        "codeshareStatus": "Unknown",
        "isCargo": false,
        "movement": {
         "airport": {
          "iata": "CDG",
          "icao": "LFPG",
          "name": "Paris"
         },
         "quality": [
          "Basic"
         ],
         "scheduledTimeLocal": "2021-11-25 11:40+01:00",
         "scheduledTimeUtc": "2021-11-25 10:40Z",
         "terminal": "1"
        },
        "number": "AF 1734",
        "status": "Unknown"
       },
       {
        "aircraft": {
         "model": "Airbus A320"
        },
        "airline": {
         "name": "British Airways"
        },
        "codeshareStatus": "IsCodeshared",
        "isCargo": false,
        "movement": {
         "airport": {
          "iata": "LHR",
          "icao": "EGLL",
          "name": "London"
         },
         "quality": [
          "Basic"
         ],
         "scheduledTimeLocal": "2021-11-25 11:40+01:00",
         "scheduledTimeUtc": "2021-11-25 10:40Z",
         "terminal": "1"
        },
        "number": "BA 992",
        "status": "Unknown"
       },
       {
        "aircraft": {
         "model": "Boeing 737-800"
        },
        "airline": {
         "name": "Norwegian Air International"
        },
        "codeshareStatus": "Unknown",
        "isCargo": false,
        "movement": {
         "airport": {
          "iata": "CPH",
          "icao": "EKCH",
          "name": "Copenhagen"
         },
         "quality": [
          "Basic"
         ],
         "scheduledTimeLocal": "2021-11-25 11:45+01:00",
         "scheduledTimeUtc": "2021-11-25 10:45Z",
         "terminal": "1"
        },
        "number": "D8 3302",
        "status": "Unknown"
       },
       {
        "aircraft": {
         "model": "Boeing 737-800"
        },
        "airline": {
         "name": "Ryanair"
        },
        "codeshareStatus": "Unknown",
        "isCargo": false,
        "movement": {
         "airport": {
          "iata": "CIA",
          "icao": "LIRA",
          "name": "Roma"
         },
         "quality": [
          "Basic"
         ],
         "scheduledTimeLocal": "2021-11-25 11:05+01:00",
         "scheduledTimeUtc": "2021-11-25 10:05Z"
        },
        "number": "FR 135",
        "status": "Unknown"
       },
       {
        "aircraft": {
         "model": "Boeing 737-800"
        },
        "airline": {
         "name": "Ryanair"
        },
        "codeshareStatus": "Unknown",
        "isCargo": false,
        "movement": {
         "airport": {
          "iata": "SOF",
          "icao": "LBSF",
          "name": "Sofia"
         },
         "quality": [
          "Basic"
         ],
         "scheduledTimeLocal": "2021-11-25 11:45+01:00",
         "scheduledTimeUtc": "2021-11-25 10:45Z"
        },
        "number": "FR 1595",
        "status": "Unknown"
       },
       {
        "aircraft": {
         "model": "Airbus A320"
        },
        "airline": {
         "name": "Iberia"
        },
        "codeshareStatus": "Unknown",
        "isCargo": false,
        "movement": {
         "airport": {
          "iata": "MAD",
          "icao": "LEMD",
          "name": "Madrid"
         },
         "quality": [
          "Basic"
         ],
         "scheduledTimeLocal": "2021-11-25 11:05+01:00",
         "scheduledTimeUtc": "2021-11-25 10:05Z",
         "terminal": "1"
        },
        "number": "IB 3676",
        "status": "Unknown"
       },
       {
        "aircraft": {
         "model": "Boeing 737-900",
         "reg": "PH-BCB"
        },
        "airline": {
         "name": "KLM"
        },
        "codeshareStatus": "IsOperator",
        "isCargo": false,
        "movement": {
         "airport": {
          "iata": "AMS",
          "icao": "EHAM",
          "name": "Amsterdam"
         },
         "quality": [
          "Basic"
         ],
         "scheduledTimeLocal": "2021-11-25 11:05+01:00",
         "scheduledTimeUtc": "2021-11-25 10:05Z",
         "terminal": "1"
        },
        "number": "KL 1823",
        "status": "Unknown"
       },
       {
        "aircraft": {
         "model": "Airbus A320",
         "reg": "D-AIUZ"
        },
        "airline": {
         "name": "Lufthansa"
        },
        "codeshareStatus": "IsCodeshared",
        "isCargo": false,
        "movement": {
         "airport": {
          "iata": "FRA",
          "icao": "EDDF",
          "name": "Frankfurt-am-Main"
         },
         "quality": [
          "Basic"
         ],
         "scheduledTimeLocal": "2021-11-25 11:55+01:00",
         "scheduledTimeUtc": "2021-11-25 10:55Z",
         "terminal": "1"
        },
        "number": "LH 180",
        "status": "Unknown"
       },
       {
        "aircraft": {
         "model": "Bombardier Dash 8 Q400 / DHC-8-400"
        },
        "airline": {
         "name": "LOT - Polish"
        },
        "codeshareStatus": "Unknown",
        "isCargo": false,
        "movement": {
         "airport": {
          "iata": "WAW",
          "icao": "EPWA",
          "name": "Warsaw"
         },
         "quality": [
          "Basic"
         ],
         "scheduledTimeLocal": "2021-11-25 11:35+01:00",
         "scheduledTimeUtc": "2021-11-25 10:35Z",
         "terminal": "1"
        },
        "number": "LO 385",
        "status": "Unknown"
       },
       {
        "aircraft": {
         "model": "Boeing 737-800"
        },
        "airline": {
         "name": "Jet2"
        },
        "codeshareStatus": "Unknown",
        "isCargo": false,
        "movement": {
         "airport": {
          "iata": "NCL",
          "icao": "EGNT",
          "name": "Newcastle upon Tyne"
         },
         "quality": [
          "Basic"
         ],
         "scheduledTimeLocal": "2021-11-25 11:50+01:00",
         "scheduledTimeUtc": "2021-11-25 10:50Z",
         "terminal": "0"
        },
        "number": "LS 4067",
        "status": "Unknown"
       },
       {
        "aircraft": {
         "model": "Airbus A320"
        },
        "airline": {
         "name": "Pegasus"
        },
        "codeshareStatus": "Unknown",
        "isCargo": false,
        "movement": {
         "airport": {
          "iata": "SAW",
          "icao": "LTFJ",
          "name": "Istanbul"
         },
         "quality": [
          "Basic"
         ],
         "scheduledTimeLocal": "2021-11-25 11:00+01:00",
         "scheduledTimeUtc": "2021-11-25 10:00Z",
         "terminal": "0"
        },
        "number": "PC 977",
        "status": "Unknown"
       },
       {
        "aircraft": {
         "model": "Airbus A319"
        },
        "airline": {
         "name": "Brussels"
        },
        "codeshareStatus": "Unknown",
        "isCargo": false,
        "movement": {
         "airport": {
          "iata": "BRU",
          "icao": "EBBR",
          "name": "Brussels"
         },
         "quality": [
          "Basic"
         ],
         "scheduledTimeLocal": "2021-11-25 11:15+01:00",
         "scheduledTimeUtc": "2021-11-25 10:15Z",
         "terminal": "1"
        },
        "number": "SN 2581",
        "status": "Unknown"
       },
       {
        "aircraft": {
         "model": "Airbus A320"
        },
        "airline": {
         "name": "easyJet"
        },
        "codeshareStatus": "Unknown",
        "isCargo": false,
        "movement": {
         "airport": {
          "iata": "MXP",
          "icao": "LIMC",
          "name": "Milan"
         },
         "quality": [
          "Basic"
         ],
         "scheduledTimeLocal": "2021-11-25 11:25+01:00",
         "scheduledTimeUtc": "2021-11-25 10:25Z",
         "terminal": "1"
        },
        "number": "U2 4672",
        "status": "Unknown"
       },
       {
        "aircraft": {
         "model": "Airbus A320"
        },
        "airline": {
         "name": "easyJet"
        },
        "codeshareStatus": "Unknown",
        "isCargo": false,
        "movement": {
         "airport": {
          "iata": "CDG",
          "icao": "LFPG",
          "name": "Paris"
         },
         "quality": [
          "Basic"
         ],
         "scheduledTimeLocal": "2021-11-25 11:35+01:00",
         "scheduledTimeUtc": "2021-11-25 10:35Z",
         "terminal": "1"
        },
        "number": "U2 5652",
        "status": "Unknown"
       },
       {
        "aircraft": {
         "model": "Airbus A320"
        },
        "airline": {
         "name": "easyJet"
        },
        "codeshareStatus": "Unknown",
        "isCargo": false,
        "movement": {
         "airport": {
          "iata": "LGW",
          "icao": "EGKK",
          "name": "London"
         },
         "quality": [
          "Basic"
         ],
         "scheduledTimeLocal": "2021-11-25 11:55+01:00",
         "scheduledTimeUtc": "2021-11-25 10:55Z",
         "terminal": "1"
        },
        "number": "U2 8209",
        "status": "Unknown"
       },
       {
        "aircraft": {
         "model": "Airbus A319",
         "reg": "D-ABHC"
        },
        "airline": {
         "name": "Eurowings"
        },
        "codeshareStatus": "Unknown",
        "isCargo": false,
        "movement": {
         "airport": {
          "iata": "DUS",
          "icao": "EDDL",
          "name": "Duesseldorf"
         },
         "quality": [
          "Basic"
         ],
         "scheduledTimeLocal": "2021-11-25 12:00+01:00",
         "scheduledTimeUtc": "2021-11-25 11:00Z",
         "terminal": "1"
        },
        "number": "EW 9046",
        "status": "Unknown"
       },
       {
        "aircraft": {
         "model": "Boeing 757-300"
        },
        "airline": {
         "name": "Icelandair"
        },
        "codeshareStatus": "Unknown",
        "isCargo": false,
        "movement": {
         "airport": {
          "iata": "KEF",
          "icao": "BIKF",
          "name": "Reykjavik"
         },
         "quality": [
          "Basic"
         ],
         "scheduledTimeLocal": "2021-11-25 12:10+01:00",
         "scheduledTimeUtc": "2021-11-25 11:10Z",
         "terminal": "1"
        },
        "number": "FI 528",
        "status": "Unknown"
       },
       {
        "aircraft": {
         "model": "Boeing 737-800"
        },
        "airline": {
         "name": "Ryanair"
        },
        "codeshareStatus": "Unknown",
        "isCargo": false,
        "movement": {
         "airport": {
          "iata": "TGD",
          "icao": "LYPG",
          "name": "Podgorica"
         },
         "quality": [
          "Basic"
         ],
         "scheduledTimeLocal": "2021-11-25 12:25+01:00",
         "scheduledTimeUtc": "2021-11-25 11:25Z"
        },
        "number": "FR 1579",
        "status": "Unknown"
       },
       {
        "aircraft": {
         "model": "Boeing 737-800"
        },
        "airline": {
         "name": "Ryanair"
        },
        "codeshareStatus": "Unknown",
        "isCargo": false,
        "movement": {
         "airport": {
          "iata": "ATH",
          "icao": "LGAV",
          "name": "Athens"
         },
         "quality": [
          "Basic"
         ],
         "scheduledTimeLocal": "2021-11-25 12:45+01:00",
         "scheduledTimeUtc": "2021-11-25 11:45Z"
        },
        "number": "FR 171",
        "status": "Unknown"
       },
       {
        "aircraft": {
         "model": "Boeing 737-800"
        },
        "airline": {
         "name": "Ryanair"
        },
        "codeshareStatus": "Unknown",
        "isCargo": false,
        "movement": {
         "airport": {
          "iata": "PMI",
          "icao": "LEPA",
          "name": "Palma De Mallorca"
         },
         "quality": [
          "Basic"
         ],
         "scheduledTimeLocal": "2021-11-25 12:30+01:00",
         "scheduledTimeUtc": "2021-11-25 11:30Z"
        },
        "number": "FR 2146",
        "status": "Unknown"
       },
       {
        "aircraft": {
         "model": "Airbus A320",
         "reg": "D-AIUL"
        },
        "airline": {
         "name": "Lufthansa"
        },
        "codeshareStatus": "IsCodeshared",
        "isCargo": false,
        "movement": {
         "airport": {
          "iata": "FRA",
          "icao": "EDDF",
          "name": "Frankfurt-am-Main"
         },
         "quality": [
          "Basic"
         ],
         "scheduledTimeLocal": "2021-11-25 12:55+01:00",
         "scheduledTimeUtc": "2021-11-25 11:55Z",
         "terminal": "1"
        },
        "number": "LH 182",
        "status": "Unknown"
       },
       {
        "aircraft": {
         "model": "Airbus A320 NEO"
        },
        "airline": {
         "name": "Lufthansa"
        },
        "codeshareStatus": "IsCodeshared",
        "isCargo": false,
        "movement": {
         "airport": {
          "iata": "MUC",
          "icao": "EDDM",
          "name": "Munich"
         },
         "quality": [
          "Basic"
         ],
         "scheduledTimeLocal": "2021-11-25 12:15+01:00",
         "scheduledTimeUtc": "2021-11-25 11:15Z",
         "terminal": "1"
        },
        "number": "LH 1936",
        "status": "Unknown"
       },
       {
        "aircraft": {
         "model": "Boeing 737-800"
        },
        "airline": {
         "name": "Jet2"
        },
        "codeshareStatus": "Unknown",
        "isCargo": false,
        "movement": {
         "airport": {
          "iata": "LBA",
          "icao": "EGNM",
          "name": "Leeds"
         },
         "quality": [
          "Basic"
         ],
         "scheduledTimeLocal": "2021-11-25 12:05+01:00",
         "scheduledTimeUtc": "2021-11-25 11:05Z",
         "terminal": "0"
        },
        "number": "LS 471",
        "status": "Unknown"
       },
       {
        "aircraft": {
         "model": "Boeing 737-800"
        },
        "airline": {
         "name": "UIA"
        },
        "codeshareStatus": "Unknown",
        "isCargo": false,
        "movement": {
         "airport": {
          "iata": "KBP",
          "icao": "UKBB",
          "name": "Kiev"
         },
         "quality": [
          "Basic"
         ],
         "scheduledTimeLocal": "2021-11-25 12:05+01:00",
         "scheduledTimeUtc": "2021-11-25 11:05Z",
         "terminal": "1"
        },
        "number": "PS 423",
        "status": "Unknown"
       },
       {
        "aircraft": {
         "model": "Boeing 787-8"
        },
        "airline": {
         "name": "Qatar Airways"
        },
        "codeshareStatus": "Unknown",
        "isCargo": false,
        "movement": {
         "airport": {
          "iata": "DOH",
          "icao": "OTHH",
          "name": "Doha"
         },
         "quality": [
          "Basic"
         ],
         "scheduledTimeLocal": "2021-11-25 12:40+01:00",
         "scheduledTimeUtc": "2021-11-25 11:40Z",
         "terminal": "1"
        },
        "number": "QR 81",
        "status": "Unknown"
       },
       {
        "aircraft": {
         "model": "Airbus A320 NEO"
        },
        "airline": {
         "name": "SAS"
        },
        "codeshareStatus": "Unknown",
        "isCargo": false,
        "movement": {
         "airport": {
          "iata": "OSL",
          "icao": "ENGM",
          "name": "Oslo"
         },
         "quality": [
          "Basic"
         ],
         "scheduledTimeLocal": "2021-11-25 12:55+01:00",
         "scheduledTimeUtc": "2021-11-25 11:55Z",
         "terminal": "1"
        },
        "number": "SK 4723",
        "status": "Unknown"
       },
       {
        "aircraft": {
         "model": "Boeing 737-800"
        },
        "airline": {
         "name": "Aeroflot"
        },
        "codeshareStatus": "IsOperator",
        "isCargo": false,
        "movement": {
         "airport": {
          "iata": "SVO",
          "icao": "UUEE",
          "name": "Moscow"
         },
         "quality": [
          "Basic"
         ],
         "scheduledTimeLocal": "2021-11-25 12:55+01:00",
         "scheduledTimeUtc": "2021-11-25 11:55Z",
         "terminal": "1"
        },
        "number": "SU 2662",
        "status": "Unknown"
       },
       {
        "aircraft": {
         "model": "Boeing 737-800"
        },
        "airline": {
         "name": "Turkish"
        },
        "codeshareStatus": "Unknown",
        "isCargo": false,
        "movement": {
         "airport": {
          "iata": "SAW",
          "icao": "LTFJ",
          "name": "Istanbul"
         },
         "quality": [
          "Basic"
         ],
         "scheduledTimeLocal": "2021-11-25 12:30+01:00",
         "scheduledTimeUtc": "2021-11-25 11:30Z",
         "terminal": "1"
        },
        "number": "TK 7728",
        "status": "Unknown"
       },
       {
        "aircraft": {
         "model": "Airbus A320"
        },
        "airline": {
         "name": "Wizz Air"
        },
        "codeshareStatus": "Unknown",
        "isCargo": false,
        "movement": {
         "airport": {
          "iata": "BUD",
          "icao": "LHBP",
          "name": "Budapest"
         },
         "quality": [
          "Basic"
         ],
         "scheduledTimeLocal": "2021-11-25 12:15+01:00",
         "scheduledTimeUtc": "2021-11-25 11:15Z",
         "terminal": "0"
        },
        "number": "W6 2315",
        "status": "Unknown"
       },
       {
        "aircraft": {
         "model": "Boeing 737-800"
        },
        "airline": {
         "name": "SunExpress"
        },
        "codeshareStatus": "Unknown",
        "isCargo": false,
        "movement": {
         "airport": {
          "iata": "AYT",
          "icao": "LTAI",
          "name": "Antalya"
         },
         "quality": [
          "Basic"
         ],
         "scheduledTimeLocal": "2021-11-25 12:35+01:00",
         "scheduledTimeUtc": "2021-11-25 11:35Z",
         "terminal": "1"
        },
        "number": "XQ 160",
        "status": "Unknown"
       },
       {
        "aircraft": {
         "model": "Airbus A320"
        },
        "airline": {
         "name": "Eurowings"
        },
        "codeshareStatus": "Unknown",
        "isCargo": false,
        "movement": {
         "airport": {
          "iata": "STR",
          "icao": "EDDS",
          "name": "Stuttgart"
         },
         "quality": [
          "Basic"
         ],
         "scheduledTimeLocal": "2021-11-25 13:25+01:00",
         "scheduledTimeUtc": "2021-11-25 12:25Z",
         "terminal": "1"
        },
        "number": "EW 8003",
        "status": "Unknown"
       },
       {
        "aircraft": {
         "model": "Airbus A320"
        },
        "airline": {
         "name": "Eurowings"
        },
        "codeshareStatus": "Unknown",
        "isCargo": false,
        "movement": {
         "airport": {
          "iata": "CGN",
          "icao": "EDDK",
          "name": "Cologne"
         },
         "quality": [
          "Basic"
         ],
         "scheduledTimeLocal": "2021-11-25 13:15+01:00",
         "scheduledTimeUtc": "2021-11-25 12:15Z",
         "terminal": "1"
        },
        "number": "EW 8051",
        "status": "Unknown"
       },
       {
        "aircraft": {
         "model": "Boeing 737-800"
        },
        "airline": {
         "name": "Ryanair"
        },
        "codeshareStatus": "Unknown",
        "isCargo": false,
        "movement": {
         "airport": {
          "iata": "KIR",
          "icao": "EIKY",
          "name": "Killarney"
         },
         "quality": [
          "Basic"
         ],
         "scheduledTimeLocal": "2021-11-25 13:40+01:00",
         "scheduledTimeUtc": "2021-11-25 12:40Z"
        },
        "number": "FR 1710",
        "status": "Unknown"
       },
       {
        "aircraft": {
         "model": "Boeing 737-800"
        },
        "airline": {
         "name": "Ryanair"
        },
        "codeshareStatus": "Unknown",
        "isCargo": false,
        "movement": {
         "airport": {
          "iata": "STN",
          "icao": "EGSS",
          "name": "London"
         },
         "quality": [
          "Basic"
         ],
         "scheduledTimeLocal": "2021-11-25 13:35+01:00",
         "scheduledTimeUtc": "2021-11-25 12:35Z"
        },
        "number": "FR 176",
        "status": "Unknown"
       },
       {
        "aircraft": {
         "model": "Boeing 737-800"
        },
        "airline": {
         "name": "Ryanair"
        },
        "codeshareStatus": "Unknown",
        "isCargo": false,
        "movement": {
         "airport": {
          "iata": "DUB",
          "icao": "EIDW",
          "name": "Dublin"
         },
         "quality": [
          "Basic"
         ],
         "scheduledTimeLocal": "2021-11-25 13:10+01:00",
         "scheduledTimeUtc": "2021-11-25 12:10Z"
        },
        "number": "FR 8556",
        "status": "Unknown"
       },
       {
        "aircraft": {
         "model": "Boeing 737-800"
        },
        "airline": {
         "name": "Ryanair"
        },
        "codeshareStatus": "Unknown",
        "isCargo": false,
        "movement": {
         "airport": {
          "iata": "MXP",
          "icao": "LIMC",
          "name": "Milan"
         },
         "quality": [
          "Basic"
         ],
         "scheduledTimeLocal": "2021-11-25 13:55+01:00",
         "scheduledTimeUtc": "2021-11-25 12:55Z"
        },
        "number": "FR 9",
        "status": "Unknown"
       },
       {
        "aircraft": {
         "model": "Airbus A319"
        },
        "airline": {
         "name": "Royal Jordanian"
        },
        "codeshareStatus": "Unknown",
        "isCargo": false,
        "movement": {
         "airport": {
          "iata": "AMM",
          "icao": "OJAI",
          "name": "Amman"
         },
         "quality": [
          "Basic"
         ],
         "scheduledTimeLocal": "2021-11-25 13:20+01:00",
         "scheduledTimeUtc": "2021-11-25 12:20Z",
         "terminal": "1"
        },
        "number": "RJ 121",
        "status": "Unknown"
       },
       {
        "aircraft": {
         "model": "Airbus A320 NEO"
        },
        "airline": {
         "name": "SAS"
        },
        "codeshareStatus": "Unknown",
        "isCargo": false,
        "movement": {
         "airport": {
          "iata": "CPH",
          "icao": "EKCH",
          "name": "Copenhagen"
         },
         "quality": [
          "Basic"
         ],
         "scheduledTimeLocal": "2021-11-25 13:00+01:00",
         "scheduledTimeUtc": "2021-11-25 12:00Z",
         "terminal": "1"
        },
        "number": "SK 1673",
        "status": "Unknown"
       },
       {
        "aircraft": {
         "model": "Airbus A321"
        },
        "airline": {
         "name": "Turkish"
        },
        "codeshareStatus": "Unknown",
        "isCargo": false,
        "movement": {
         "airport": {
          "iata": "IST",
          "icao": "LTFM",
          "name": "Istanbul"
         },
         "quality": [
          "Basic"
         ],
         "scheduledTimeLocal": "2021-11-25 13:30+01:00",
         "scheduledTimeUtc": "2021-11-25 12:30Z",
         "terminal": "1"
        },
        "number": "TK 1725",
        "status": "Unknown"
       },
       {
        "aircraft": {
         "model": "Airbus A320"
        },
        "airline": {
         "name": "easyJet"
        },
        "codeshareStatus": "Unknown",
        "isCargo": false,
        "movement": {
         "airport": {
          "name": "Barcelona"
         },
         "quality": [
          "Basic"
         ],
         "scheduledTimeLocal": "2021-11-25 13:55+01:00",
         "scheduledTimeUtc": "2021-11-25 12:55Z",
         "terminal": "1"
        },
        "number": "U2 5122",
        "status": "Unknown"
       },
       {
        "aircraft": {
         "model": "Airbus A320"
        },
        "airline": {
         "name": "easyJet"
        },
        "codeshareStatus": "Unknown",
        "isCargo": false,
        "movement": {
         "airport": {
          "iata": "NAP",
          "icao": "LIRN",
          "name": "Nápoli"
         },
         "quality": [
          "Basic"
         ],
         "scheduledTimeLocal": "2021-11-25 13:10+01:00",
         "scheduledTimeUtc": "2021-11-25 12:10Z",
         "terminal": "1"
        },
        "number": "U2 5142",
        "status": "Unknown"
       },
       {
        "aircraft": {
         "model": "Airbus A320"
        },
        "airline": {
         "name": "easyJet"
        },
        "codeshareStatus": "Unknown",
        "isCargo": false,
        "movement": {
         "airport": {
          "iata": "CTA",
          "icao": "LICC",
          "name": "Catania"
         },
         "quality": [
          "Basic"
         ],
         "scheduledTimeLocal": "2021-11-25 13:05+01:00",
         "scheduledTimeUtc": "2021-11-25 12:05Z",
         "terminal": "1"
        },
        "number": "U2 5694",
        "status": "Unknown"
       },
       {
        "aircraft": {
         "model": "Embraer 190"
        },
        "airline": {
         "name": "Pegas Fly"
        },
        "codeshareStatus": "Unknown",
        "isCargo": false,
        "movement": {
         "airport": {
          "iata": "LED",
          "icao": "ULLI",
          "name": "Saint-Petersburg"
         },
         "quality": [
          "Basic"
         ],
         "scheduledTimeLocal": "2021-11-25 14:45+01:00",
         "scheduledTimeUtc": "2021-11-25 13:45Z",
         "terminal": "1"
        },
        "number": "EO 1909",
        "status": "Unknown"
       },
       {
        "aircraft": {
         "model": "Boeing 737-800"
        },
        "airline": {
         "name": "Ryanair"
        },
        "codeshareStatus": "Unknown",
        "isCargo": false,
        "movement": {
         "airport": {
          "iata": "STN",
          "icao": "EGSS",
          "name": "London"
         },
         "quality": [
          "Basic"
         ],
         "scheduledTimeLocal": "2021-11-25 14:05+01:00",
         "scheduledTimeUtc": "2021-11-25 13:05Z"
        },
        "number": "FR 8542",
        "status": "Unknown"
       },
       {
        "aircraft": {
         "model": "Airbus A320 NEO"
        },
        "airline": {
         "name": "Lufthansa"
        },
        "codeshareStatus": "IsCodeshared",
        "isCargo": false,
        "movement": {
         "airport": {
          "iata": "FRA",
          "icao": "EDDF",
          "name": "Frankfurt-am-Main"
         },
         "quality": [
          "Basic"
         ],
         "scheduledTimeLocal": "2021-11-25 14:55+01:00",
         "scheduledTimeUtc": "2021-11-25 13:55Z",
         "terminal": "1"
        },
        "number": "LH 186",
        "status": "Unknown"
       },
       {
        "aircraft": {
         "model": "Airbus A320"
        },
        "airline": {
         "name": "SWISS"
        },
        "codeshareStatus": "Unknown",
        "isCargo": false,
        "movement": {
         "airport": {
          "iata": "ZRH",
          "icao": "LSZH",
          "name": "Zurich"
         },
         "quality": [
          "Basic"
         ],
         "scheduledTimeLocal": "2021-11-25 14:00+01:00",
         "scheduledTimeUtc": "2021-11-25 13:00Z",
         "terminal": "1"
        },
        "number": "LX 966",
        "status": "Unknown"
       },
       {
        "aircraft": {
         "model": "Airbus A320"
        },
        "airline": {
         "name": "Vueling"
        },
        "codeshareStatus": "Unknown",
        "isCargo": false,
        "movement": {
         "airport": {
          "iata": "BCN",
          "icao": "LEBL",
          "name": "Barcelona"
         },
         "quality": [
          "Basic"
         ],
         "scheduledTimeLocal": "2021-11-25 14:10+01:00",
         "scheduledTimeUtc": "2021-11-25 13:10Z",
         "terminal": "1"
        },
        "number": "VY 1882",
        "status": "Unknown"
       },
       {
        "aircraft": {
         "model": "Embraer 190"
        },
        "airline": {
         "name": "British Airways"
        },
        "codeshareStatus": "IsCodeshared",
        "isCargo": false,
        "movement": {
         "airport": {
          "iata": "LCY",
          "icao": "EGLC",
          "name": "London"
         },
         "quality": [
          "Basic"
         ],
         "scheduledTimeLocal": "2021-11-25 15:55+01:00",
         "scheduledTimeUtc": "2021-11-25 14:55Z",
         "terminal": "1"
        },
        "number": "BA 8493",
        "status": "Unknown"
       },
       {
        "aircraft": {
         "model": "Airbus A320"
        },
        "airline": {
         "name": "Eurowings"
        },
        "codeshareStatus": "Unknown",
        "isCargo": false,
        "movement": {
         "airport": {
          "iata": "STR",
          "icao": "EDDS",
          "name": "Stuttgart"
         },
         "quality": [
          "Basic"
         ],
         "scheduledTimeLocal": "2021-11-25 15:45+01:00",
         "scheduledTimeUtc": "2021-11-25 14:45Z",
         "terminal": "1"
        },
        "number": "EW 2004",
        "status": "Unknown"
       },
       {
        "aircraft": {
         "model": "Airbus A320",
         "reg": "D-AGWU"
        },
        "airline": {
         "name": "Eurowings"
        },
        "codeshareStatus": "Unknown",
        "isCargo": false,
        "movement": {
         "airport": {
          "iata": "DUS",
          "icao": "EDDL",
          "name": "Duesseldorf"
         },
         "quality": [
          "Basic"
         ],
         "scheduledTimeLocal": "2021-11-25 15:50+01:00",
         "scheduledTimeUtc": "2021-11-25 14:50Z",
         "terminal": "1"
        },
        "number": "EW 9042",
        "status": "Unknown"
       },
       {
        "aircraft": {
         "model": "Boeing 737-800"
        },
        "airline": {
         "name": "Ryanair"
        },
        "codeshareStatus": "Unknown",
        "isCargo": false,
        "movement": {
         "airport": {
          "iata": "MAN",
          "icao": "EGCC",
          "name": "Manchester"
         },
         "quality": [
          "Basic"
         ],
         "scheduledTimeLocal": "2021-11-25 15:35+01:00",
         "scheduledTimeUtc": "2021-11-25 14:35Z"
        },
        "number": "FR 1145",
        "status": "Unknown"
       },
       {
        "aircraft": {
         "model": "Boeing 737-800"
        },
        "airline": {
         "name": "Ryanair"
        },
        "codeshareStatus": "Unknown",
        "isCargo": false,
        "movement": {
         "airport": {
          "iata": "TSF",
          "icao": "LIPH",
          "name": "Treviso"
         },
         "quality": [
          "Basic"
         ],
         "scheduledTimeLocal": "2021-11-25 15:05+01:00",
         "scheduledTimeUtc": "2021-11-25 14:05Z"
        },
        "number": "FR 4721",
        "status": "Unknown"
       },
       {
        "aircraft": {
         "model": "Boeing 737-800"
        },
        "airline": {
         "name": "Ryanair"
        },
        "codeshareStatus": "Unknown",
        "isCargo": false,
        "movement": {
         "airport": {
          "iata": "TLV",
          "icao": "LLBG",
          "name": "Tel Aviv Yafo"
         },
         "quality": [
          "Basic"
         ],
         "scheduledTimeLocal": "2021-11-25 15:30+01:00",
         "scheduledTimeUtc": "2021-11-25 14:30Z"
        },
        "number": "FR 6473",
        "status": "Unknown"
       },
       {
        "aircraft": {
         "model": "Airbus A321"
        },
        "airline": {
         "name": "Lufthansa"
        },
        "codeshareStatus": "IsCodeshared",
        "isCargo": false,
        "movement": {
         "airport": {
          "iata": "FRA",
          "icao": "EDDF",
          "name": "Frankfurt-am-Main"
         },
         "quality": [
          "Basic"
         ],
         "scheduledTimeLocal": "2021-11-25 15:55+01:00",
         "scheduledTimeUtc": "2021-11-25 14:55Z",
         "terminal": "1"
        },
        "number": "LH 188",
        "status": "Unknown"
       },
       {
        "aircraft": {
         "model": "Airbus A320"
        },
        "airline": {
         "name": "Lufthansa"
        },
        "codeshareStatus": "IsCodeshared",
        "isCargo": false,
        "movement": {
         "airport": {
          "iata": "MUC",
          "icao": "EDDM",
          "name": "Munich"
         },
         "quality": [
          "Basic"
         ],
         "scheduledTimeLocal": "2021-11-25 15:25+01:00",
         "scheduledTimeUtc": "2021-11-25 14:25Z",
         "terminal": "1"
        },
        "number": "LH 1944",
        "status": "Unknown"
       },
       {
        "aircraft": {
         "model": "Airbus A320"
        },
        "airline": {
         "name": "easyJet"
        },
        "codeshareStatus": "Unknown",
        "isCargo": false,
        "movement": {
         "airport": {
          "iata": "AGP",
          "icao": "LEMG",
          "name": "Málaga"
         },
         "quality": [
          "Basic"
         ],
         "scheduledTimeLocal": "2021-11-25 15:30+01:00",
         "scheduledTimeUtc": "2021-11-25 14:30Z",
         "terminal": "1"
        },
        "number": "U2 5914",
        "status": "Unknown"
       },
       {
        "aircraft": {
         "model": "Boeing 737-800"
        },
        "airline": {
         "name": "Ryanair"
        },
        "codeshareStatus": "Unknown",
        "isCargo": false,
        "movement": {
         "airport": {
          "iata": "FUE",
          "icao": "GCFV",
          "name": "Fuerteventura Island"
         },
         "quality": [
          "Basic"
         ],
         "scheduledTimeLocal": "2021-11-25 16:55+01:00",
         "scheduledTimeUtc": "2021-11-25 15:55Z"
        },
        "number": "FR 1102",
        "status": "Unknown"
       },
       {
        "aircraft": {
         "model": "Boeing 737-800"
        },
        "airline": {
         "name": "Ryanair"
        },
        "codeshareStatus": "Unknown",
        "isCargo": false,
        "movement": {
         "airport": {
          "iata": "PMI",
          "icao": "LEPA",
          "name": "Palma De Mallorca"
         },
         "quality": [
          "Basic"
         ],
         "scheduledTimeLocal": "2021-11-25 16:50+01:00",
         "scheduledTimeUtc": "2021-11-25 15:50Z"
        },
        "number": "FR 111",
        "status": "Unknown"
       },
       {
        "aircraft": {
         "model": "Boeing 737-800"
        },
        "airline": {
         "name": "Ryanair"
        },
        "codeshareStatus": "Unknown",
        "isCargo": false,
        "movement": {
         "airport": {
          "iata": "MRS",
          "icao": "LFML",
          "name": "Marseille"
         },
         "quality": [
          "Basic"
         ],
         "scheduledTimeLocal": "2021-11-25 16:00+01:00",
         "scheduledTimeUtc": "2021-11-25 15:00Z"
        },
        "number": "FR 8950",
        "status": "Unknown"
       },
       {
        "aircraft": {
         "model": "Embraer 190"
        },
        "airline": {
         "name": "KLM"
        },
        "codeshareStatus": "IsOperator",
        "isCargo": false,
        "movement": {
         "airport": {
          "iata": "AMS",
          "icao": "EHAM",
          "name": "Amsterdam"
         },
         "quality": [
          "Basic"
         ],
         "scheduledTimeLocal": "2021-11-25 16:40+01:00",
         "scheduledTimeUtc": "2021-11-25 15:40Z",
         "terminal": "1"
        },
        "number": "KL 1829",
        "status": "Unknown"
       },
       {
        "aircraft": {
         "model": "Airbus A320 NEO"
        },
        "airline": {
         "name": "Lufthansa"
        },
        "codeshareStatus": "IsCodeshared",
        "isCargo": false,
        "movement": {
         "airport": {
          "iata": "MUC",
          "icao": "EDDM",
          "name": "Munich"
         },
         "quality": [
          "Basic"
         ],
         "scheduledTimeLocal": "2021-11-25 16:55+01:00",
         "scheduledTimeUtc": "2021-11-25 15:55Z",
         "terminal": "1"
        },
        "number": "LH 1942",
        "status": "Unknown"
       },
       {
        "aircraft": {
         "model": "Airbus A320"
        },
        "airline": {
         "name": "Austrian"
        },
        "codeshareStatus": "Unknown",
        "isCargo": false,
        "movement": {
         "airport": {
          "iata": "VIE",
          "icao": "LOWW",
          "name": "Vienna"
         },
         "quality": [
          "Basic"
         ],
         "scheduledTimeLocal": "2021-11-25 16:15+01:00",
         "scheduledTimeUtc": "2021-11-25 15:15Z",
         "terminal": "1"
        },
        "number": "OS 231",
        "status": "Unknown"
       },
       {
        "aircraft": {
         "model": "Airbus A320"
        },
        "airline": {
         "name": "TAP Air Portugal"
        },
        "codeshareStatus": "Unknown",
        "isCargo": false,
        "movement": {
         "airport": {
          "iata": "LIS",
          "icao": "LPPT",
          "name": "Lisbon"
         },
         "quality": [
          "Basic"
         ],
         "scheduledTimeLocal": "2021-11-25 16:35+01:00",
         "scheduledTimeUtc": "2021-11-25 15:35Z",
         "terminal": "1"
        },
        "number": "TP 534",
        "status": "Unknown"
       },
       {
        "aircraft": {
         "model": "Airbus A320"
        },
        "airline": {
         "name": "easyJet"
        },
        "codeshareStatus": "Unknown",
        "isCargo": false,
        "movement": {
         "airport": {
          "iata": "TLV",
          "icao": "LLBG",
          "name": "Tel Aviv Yafo"
         },
         "quality": [
          "Basic"
         ],
         "scheduledTimeLocal": "2021-11-25 16:45+01:00",
         "scheduledTimeUtc": "2021-11-25 15:45Z",
         "terminal": "1"
        },
        "number": "U2 5202",
        "status": "Unknown"
       },
       {
        "aircraft": {
         "model": "Airbus A320"
        },
        "airline": {
         "name": "Air France"
        },
        "codeshareStatus": "Unknown",
        "isCargo": false,
        "movement": {
         "airport": {
          "iata": "CDG",
          "icao": "LFPG",
          "name": "Paris"
         },
         "quality": [
          "Basic"
         ],
         "scheduledTimeLocal": "2021-11-25 17:10+01:00",
         "scheduledTimeUtc": "2021-11-25 16:10Z",
         "terminal": "1"
        },
        "number": "AF 1834",
        "status": "Unknown"
       },
       {
        "aircraft": {
         "model": "Airbus A321"
        },
        "airline": {
         "name": "Condor"
        },
        "codeshareStatus": "Unknown",
        "isCargo": false,
        "movement": {
         "airport": {
          "iata": "HRG",
          "icao": "HEGN",
          "name": "Hurghada"
         },
         "quality": [
          "Basic"
         ],
         "scheduledTimeLocal": "2021-11-25 17:55+01:00",
         "scheduledTimeUtc": "2021-11-25 16:55Z",
         "terminal": "1"
        },
        "number": "DE 433",
        "status": "Unknown"
       },
       {
        "aircraft": {
         "model": "Airbus A319"
        },
        "airline": {
         "name": "Eurowings"
        },
        "codeshareStatus": "Unknown",
        "isCargo": false,
        "movement": {
         "airport": {
          "iata": "STR",
          "icao": "EDDS",
          "name": "Stuttgart"
         },
         "quality": [
          "Basic"
         ],
         "scheduledTimeLocal": "2021-11-25 17:05+01:00",
         "scheduledTimeUtc": "2021-11-25 16:05Z",
         "terminal": "1"
        },
        "number": "EW 2058",
        "status": "Unknown"
       },
       {
        "aircraft": {
         "model": "Airbus A320"
        },
        "airline": {
         "name": "Eurowings"
        },
        "codeshareStatus": "Unknown",
        "isCargo": false,
        "movement": {
         "airport": {
          "iata": "CGN",
          "icao": "EDDK",
          "name": "Cologne"
         },
         "quality": [
          "Basic"
         ],
         "scheduledTimeLocal": "2021-11-25 17:35+01:00",
         "scheduledTimeUtc": "2021-11-25 16:35Z",
         "terminal": "1"
        },
        "number": "EW 6",
        "status": "Unknown"
       },
       {
        "aircraft": {
         "model": "Airbus A320"
        },
        "airline": {
         "name": "Eurowings"
        },
        "codeshareStatus": "Unknown",
        "isCargo": false,
        "movement": {
         "airport": {
          "iata": "DUS",
          "icao": "EDDL",
          "name": "Duesseldorf"
         },
         "quality": [
          "Basic"
         ],
         "scheduledTimeLocal": "2021-11-25 17:55+01:00",
         "scheduledTimeUtc": "2021-11-25 16:55Z",
         "terminal": "1"
        },
        "number": "EW 8045",
        "status": "Unknown"
       },
       {
        "aircraft": {
         "model": "Boeing 737-800"
        },
        "airline": {
         "name": "Ryanair"
        },
        "codeshareStatus": "Unknown",
        "isCargo": false,
        "movement": {
         "airport": {
          "iata": "INI",
          "icao": "LYNI",
          "name": "Niš"
         },
         "quality": [
          "Basic"
         ],
         "scheduledTimeLocal": "2021-11-25 17:35+01:00",
         "scheduledTimeUtc": "2021-11-25 16:35Z"
        },
        "number": "FR 1106",
        "status": "Unknown"
       },
       {
        "aircraft": {
         "model": "Boeing 737-800"
        },
        "airline": {
         "name": "Ryanair"
        },
        "codeshareStatus": "Unknown",
        "isCargo": false,
        "movement": {
         "airport": {
          "iata": "BCN",
          "icao": "LEBL",
          "name": "Barcelona"
         },
         "quality": [
          "Basic"
         ],
         "scheduledTimeLocal": "2021-11-25 17:00+01:00",
         "scheduledTimeUtc": "2021-11-25 16:00Z"
        },
        "number": "FR 133",
        "status": "Unknown"
       },
       {
        "aircraft": {
         "model": "Boeing 737-800"
        },
        "airline": {
         "name": "Ryanair"
        },
        "codeshareStatus": "Unknown",
        "isCargo": false,
        "movement": {
         "airport": {
          "iata": "TFS",
          "icao": "GCTS",
          "name": "Tenerife Island"
         },
         "quality": [
          "Basic"
         ],
         "scheduledTimeLocal": "2021-11-25 17:15+01:00",
         "scheduledTimeUtc": "2021-11-25 16:15Z"
        },
        "number": "FR 4067",
        "status": "Unknown"
       },
       {
        "aircraft": {
         "model": "Airbus A320"
        },
        "airline": {
         "name": "Lufthansa"
        },
        "codeshareStatus": "IsCodeshared",
        "isCargo": false,
        "movement": {
         "airport": {
          "iata": "FRA",
          "icao": "EDDF",
          "name": "Frankfurt-am-Main"
         },
         "quality": [
          "Basic"
         ],
         "scheduledTimeLocal": "2021-11-25 17:55+01:00",
         "scheduledTimeUtc": "2021-11-25 16:55Z",
         "terminal": "1"
        },
        "number": "LH 192",
        "status": "Unknown"
       },
       {
        "aircraft": {
         "model": "Bombardier CRJ900"
        },
        "airline": {
         "name": "Lufthansa"
        },
        "codeshareStatus": "IsCodeshared",
        "isCargo": false,
        "movement": {
         "airport": {
          "iata": "MUC",
          "icao": "EDDM",
          "name": "Munich"
         },
         "quality": [
          "Basic"
         ],
         "scheduledTimeLocal": "2021-11-25 17:40+01:00",
         "scheduledTimeUtc": "2021-11-25 16:40Z",
         "terminal": "1"
        },
        "number": "LH 1946",
        "status": "Unknown"
       },
       {
        "aircraft": {
         "model": "Embraer 175"
        },
        "airline": {
         "name": "LOT - Polish"
        },
        "codeshareStatus": "Unknown",
        "isCargo": false,
        "movement": {
         "airport": {
          "iata": "WAW",
          "icao": "EPWA",
          "name": "Warsaw"
         },
         "quality": [
          "Basic"
         ],
         "scheduledTimeLocal": "2021-11-25 17:45+01:00",
         "scheduledTimeUtc": "2021-11-25 16:45Z",
         "terminal": "1"
        },
        "number": "LO 389",
        "status": "Unknown"
       },
       {
        "aircraft": {
         "model": "Airbus A320"
        },
        "airline": {
         "name": "Brussels"
        },
        "codeshareStatus": "Unknown",
        "isCargo": false,
        "movement": {
         "airport": {
          "iata": "BRU",
          "icao": "EBBR",
          "name": "Brussels"
         },
         "quality": [
          "Basic"
         ],
         "scheduledTimeLocal": "2021-11-25 17:50+01:00",
         "scheduledTimeUtc": "2021-11-25 16:50Z",
         "terminal": "1"
        },
        "number": "SN 2587",
        "status": "Unknown"
       },
       {
        "aircraft": {
         "model": "Airbus A321"
        },
        "airline": {
         "name": "Turkish"
        },
        "codeshareStatus": "Unknown",
        "isCargo": false,
        "movement": {
         "airport": {
          "iata": "IST",
          "icao": "LTFM",
          "name": "Istanbul"
         },
         "quality": [
          "Basic"
         ],
         "scheduledTimeLocal": "2021-11-25 17:30+01:00",
         "scheduledTimeUtc": "2021-11-25 16:30Z",
         "terminal": "1"
        },
        "number": "TK 1723",
        "status": "Unknown"
       },
       {
        "aircraft": {
         "model": "Airbus A320"
        },
        "airline": {
         "name": "Finnair"
        },
        "codeshareStatus": "Unknown",
        "isCargo": false,
        "movement": {
         "airport": {
          "iata": "HEL",
          "icao": "EFHK",
          "name": "Helsinki"
         },
         "quality": [
          "Basic"
         ],
         "scheduledTimeLocal": "2021-11-25 18:25+01:00",
         "scheduledTimeUtc": "2021-11-25 17:25Z",
         "terminal": "1"
        },
        "number": "AY 1435",
        "status": "Unknown"
       },
       {
        "aircraft": {
         "model": "Airbus A319"
        },
        "airline": {
         "name": "British Airways"
        },
        "codeshareStatus": "IsCodeshared",
        "isCargo": false,
        "movement": {
         "airport": {
          "iata": "LHR",
          "icao": "EGLL",
          "name": "London"
         },
         "quality": [
          "Basic"
         ],
         "scheduledTimeLocal": "2021-11-25 18:50+01:00",
         "scheduledTimeUtc": "2021-11-25 17:50Z",
         "terminal": "1"
        },
        "number": "BA 986",
        "status": "Unknown"
       },
       {
        "aircraft": {
         "model": "Airbus A320"
        },
        "airline": {
         "name": "Eurowings"
        },
        "codeshareStatus": "Unknown",
        "isCargo": false,
        "movement": {
         "airport": {
          "iata": "FUE",
          "icao": "GCFV",
          "name": "Fuerteventura Island"
         },
         "quality": [
          "Basic"
         ],
         "scheduledTimeLocal": "2021-11-25 18:20+01:00",
         "scheduledTimeUtc": "2021-11-25 17:20Z",
         "terminal": "1"
        },
        "number": "EW 8181",
        "status": "Unknown"
       },
       {
        "aircraft": {
         "model": "Boeing 737-800"
        },
        "airline": {
         "name": "Ryanair"
        },
        "codeshareStatus": "Unknown",
        "isCargo": false,
        "movement": {
         "airport": {
          "iata": "VNO",
          "icao": "EYVI",
          "name": "Vilnius"
         },
         "quality": [
          "Basic"
         ],
         "scheduledTimeLocal": "2021-11-25 18:10+01:00",
         "scheduledTimeUtc": "2021-11-25 17:10Z"
        },
        "number": "FR 1571",
        "status": "Unknown"
       },
       {
        "aircraft": {
         "model": "Boeing 737-800"
        },
        "airline": {
         "name": "Ryanair"
        },
        "codeshareStatus": "Unknown",
        "isCargo": false,
        "movement": {
         "airport": {
          "iata": "DUB",
          "icao": "EIDW",
          "name": "Dublin"
         },
         "quality": [
          "Basic"
         ],
         "scheduledTimeLocal": "2021-11-25 18:40+01:00",
         "scheduledTimeUtc": "2021-11-25 17:40Z"
        },
        "number": "FR 8558",
        "status": "Unknown"
       },
       {
        "aircraft": {
         "model": "Embraer 190"
        },
        "airline": {
         "name": "KLM"
        },
        "codeshareStatus": "IsOperator",
        "isCargo": false,
        "movement": {
         "airport": {
          "iata": "AMS",
          "icao": "EHAM",
          "name": "Amsterdam"
         },
         "quality": [
          "Basic"
         ],
         "scheduledTimeLocal": "2021-11-25 18:00+01:00",
         "scheduledTimeUtc": "2021-11-25 17:00Z",
         "terminal": "1"
        },
        "number": "KL 1831",
        "status": "Unknown"
       },
       {
        "aircraft": {
         "model": "Airbus A320 NEO"
        },
        "airline": {
         "name": "Lufthansa"
        },
        "codeshareStatus": "IsCodeshared",
        "isCargo": false,
        "movement": {
         "airport": {
          "iata": "FRA",
          "icao": "EDDF",
          "name": "Frankfurt-am-Main"
         },
         "quality": [
          "Basic"
         ],
         "scheduledTimeLocal": "2021-11-25 18:55+01:00",
         "scheduledTimeUtc": "2021-11-25 17:55Z",
         "terminal": "1"
        },
        "number": "LH 194",
        "status": "Unknown"
       },
       {
        "aircraft": {
         "model": "Airbus A320 NEO"
        },
        "airline": {
         "name": "Lufthansa"
        },
        "codeshareStatus": "IsCodeshared",
        "isCargo": false,
        "movement": {
         "airport": {
          "iata": "MUC",
          "icao": "EDDM",
          "name": "Munich"
         },
         "quality": [
          "Basic"
         ],
         "scheduledTimeLocal": "2021-11-25 18:10+01:00",
         "scheduledTimeUtc": "2021-11-25 17:10Z",
         "terminal": "1"
        },
        "number": "LH 1948",
        "status": "Unknown"
       },
       {
        "aircraft": {
         "model": "Airbus A220-300"
        },
        "airline": {
         "name": "SWISS"
        },
        "codeshareStatus": "Unknown",
        "isCargo": false,
        "movement": {
         "airport": {
          "iata": "ZRH",
          "icao": "LSZH",
          "name": "Zurich"
         },
         "quality": [
          "Basic"
         ],
         "scheduledTimeLocal": "2021-11-25 18:55+01:00",
         "scheduledTimeUtc": "2021-11-25 17:55Z",
         "terminal": "1"
        },
        "number": "LX 970",
        "status": "Unknown"
       },
       {
        "aircraft": {
         "model": "Airbus A320"
        },
        "airline": {
         "name": "Austrian"
        },
        "codeshareStatus": "Unknown",
        "isCargo": false,
        "movement": {
         "airport": {
          "iata": "VIE",
          "icao": "LOWW",
          "name": "Vienna"
         },
         "quality": [
          "Basic"
         ],
         "scheduledTimeLocal": "2021-11-25 18:40+01:00",
         "scheduledTimeUtc": "2021-11-25 17:40Z",
         "terminal": "1"
        },
        "number": "OS 235",
        "status": "Unknown"
       },
       {
        "aircraft": {
         "model": "Airbus A319"
        },
        "airline": {
         "name": "easyJet"
        },
        "codeshareStatus": "Unknown",
        "isCargo": false,
        "movement": {
         "airport": {
          "name": "Amsterdam"
         },
         "quality": [
          "Basic"
         ],
         "scheduledTimeLocal": "2021-11-25 18:10+01:00",
         "scheduledTimeUtc": "2021-11-25 17:10Z",
         "terminal": "1"
        },
        "number": "U2 5106",
        "status": "Unknown"
       },
       {
        "aircraft": {
         "model": "Airbus A320"
        },
        "airline": {
         "name": "Wizz Air"
        },
        "codeshareStatus": "Unknown",
        "isCargo": false,
        "movement": {
         "airport": {
          "iata": "IEV",
          "icao": "UKKK",
          "name": "Kiev"
         },
         "quality": [
          "Basic"
         ],
         "scheduledTimeLocal": "2021-11-25 18:45+01:00",
         "scheduledTimeUtc": "2021-11-25 17:45Z",
         "terminal": "0"
        },
        "number": "W6 6113",
        "status": "Unknown"
       },
       {
        "aircraft": {
         "model": "Airbus A318"
        },
        "airline": {
         "name": "Air France"
        },
        "codeshareStatus": "Unknown",
        "isCargo": false,
        "movement": {
         "airport": {
          "iata": "CDG",
          "icao": "LFPG",
          "name": "Paris"
         },
         "quality": [
          "Basic"
         ],
         "scheduledTimeLocal": "2021-11-25 19:35+01:00",
         "scheduledTimeUtc": "2021-11-25 18:35Z",
         "terminal": "1"
        },
        "number": "AF 1534",
        "status": "Unknown"
       },
       {
        "aircraft": {
         "model": "Embraer 190"
        },
        "airline": {
         "name": "British Airways"
        },
        "codeshareStatus": "IsCodeshared",
        "isCargo": false,
        "movement": {
         "airport": {
          "iata": "LCY",
          "icao": "EGLC",
          "name": "London"
         },
         "quality": [
          "Basic"
         ],
         "scheduledTimeLocal": "2021-11-25 19:30+01:00",
         "scheduledTimeUtc": "2021-11-25 18:30Z",
         "terminal": "1"
        },
        "number": "BA 8743",
        "status": "Unknown"
       },
       {
        "aircraft": {
         "model": "Airbus A220-300"
        },
        "airline": {
         "name": "Air Baltic"
        },
        "codeshareStatus": "Unknown",
        "isCargo": false,
        "movement": {
         "airport": {
          "iata": "RIX",
          "icao": "EVRA",
          "name": "Riga"
         },
         "quality": [
          "Basic"
         ],
         "scheduledTimeLocal": "2021-11-25 19:00+01:00",
         "scheduledTimeUtc": "2021-11-25 18:00Z",
         "terminal": "1"
        },
        "number": "BT 213",
        "status": "Unknown"
       },
       {
        "aircraft": {
         "model": "ATR 72"
        },
        "airline": {
         "name": "Danish Air"
        },
        "codeshareStatus": "Unknown",
        "isCargo": false,
        "movement": {
         "airport": {
          "iata": "SCN",
          "icao": "EDDR",
          "name": "Saarbrücken"
         },
         "quality": [
          "Basic"
         ],
         "scheduledTimeLocal": "2021-11-25 19:10+01:00",
         "scheduledTimeUtc": "2021-11-25 18:10Z",
         "terminal": "0"
        },
        "number": "DX 125",
        "status": "Unknown"
       },
       {
        "aircraft": {
         "model": "Boeing 737-800"
        },
        "airline": {
         "name": "Norwegian Air Shuttle"
        },
        "codeshareStatus": "Unknown",
        "isCargo": false,
        "movement": {
         "airport": {
          "iata": "OSL",
          "icao": "ENGM",
          "name": "Oslo"
         },
         "quality": [
          "Basic"
         ],
         "scheduledTimeLocal": "2021-11-25 19:35+01:00",
         "scheduledTimeUtc": "2021-11-25 18:35Z",
         "terminal": "1"
        },
        "number": "DY 1108",
        "status": "Unknown"
       },
       {
        "aircraft": {
         "model": "Boeing 737-800"
        },
        "airline": {
         "name": "Ryanair"
        },
        "codeshareStatus": "Unknown",
        "isCargo": false,
        "movement": {
         "airport": {
          "iata": "CIA",
          "icao": "LIRA",
          "name": "Roma"
         },
         "quality": [
          "Basic"
         ],
         "scheduledTimeLocal": "2021-11-25 19:55+01:00",
         "scheduledTimeUtc": "2021-11-25 18:55Z"
        },
        "number": "FR 141",
        "status": "Unknown"
       },
       {
        "aircraft": {
         "model": "Boeing 737-800"
        },
        "airline": {
         "name": "Ryanair"
        },
        "codeshareStatus": "Unknown",
        "isCargo": false,
        "movement": {
         "airport": {
          "iata": "AGP",
          "icao": "LEMG",
          "name": "Málaga"
         },
         "quality": [
          "Basic"
         ],
         "scheduledTimeLocal": "2021-11-25 19:40+01:00",
         "scheduledTimeUtc": "2021-11-25 18:40Z"
        },
        "number": "FR 2591",
        "status": "Unknown"
       },
       {
        "aircraft": {
         "model": "Boeing 737-800"
        },
        "airline": {
         "name": "Ryanair"
        },
        "codeshareStatus": "Unknown",
        "isCargo": false,
        "movement": {
         "airport": {
          "iata": "TLL",
          "icao": "EETN",
          "name": "Tallinn"
         },
         "quality": [
          "Basic"
         ],
         "scheduledTimeLocal": "2021-11-25 19:10+01:00",
         "scheduledTimeUtc": "2021-11-25 18:10Z"
        },
        "number": "FR 2733",
        "status": "Unknown"
       },
       {
        "aircraft": {
         "model": "Airbus A320"
        },
        "airline": {
         "name": "Iberia"
        },
        "codeshareStatus": "Unknown",
        "isCargo": false,
        "movement": {
         "airport": {
          "iata": "MAD",
          "icao": "LEMD",
          "name": "Madrid"
         },
         "quality": [
          "Basic"
         ],
         "scheduledTimeLocal": "2021-11-25 19:05+01:00",
         "scheduledTimeUtc": "2021-11-25 18:05Z",
         "terminal": "1"
        },
        "number": "IB 3672",
        "status": "Unknown"
       },
       {
        "aircraft": {
         "model": "Airbus A320"
        },
        "airline": {
         "name": "Lufthansa"
        },
        "codeshareStatus": "IsCodeshared",
        "isCargo": false,
        "movement": {
         "airport": {
          "iata": "FRA",
          "icao": "EDDF",
          "name": "Frankfurt-am-Main"
         },
         "quality": [
          "Basic"
         ],
         "scheduledTimeLocal": "2021-11-25 19:55+01:00",
         "scheduledTimeUtc": "2021-11-25 18:55Z",
         "terminal": "1"
        },
        "number": "LH 190",
        "status": "Unknown"
       },
       {
        "aircraft": {
         "model": "Airbus A320"
        },
        "airline": {
         "name": "Lufthansa"
        },
        "codeshareStatus": "Unknown",
        "isCargo": false,
        "movement": {
         "airport": {
          "iata": "MUC",
          "icao": "EDDM",
          "name": "Munich"
         },
         "quality": [
          "Basic"
         ],
         "scheduledTimeLocal": "2021-11-25 19:15+01:00",
         "scheduledTimeUtc": "2021-11-25 18:15Z",
         "terminal": "1"
        },
        "number": "LH 2330",
        "status": "Unknown"
       },
       {
        "aircraft": {
         "model": "Airbus A320 NEO"
        },
        "airline": {
         "name": "SWISS"
        },
        "codeshareStatus": "Unknown",
        "isCargo": false,
        "movement": {
         "airport": {
          "iata": "ZRH",
          "icao": "LSZH",
          "name": "Zurich"
         },
         "quality": [
          "Basic"
         ],
         "scheduledTimeLocal": "2021-11-25 19:45+01:00",
         "scheduledTimeUtc": "2021-11-25 18:45Z",
         "terminal": "1"
        },
        "number": "LX 978",
        "status": "Unknown"
       },
       {
        "aircraft": {
         "model": "Boeing 737-800"
        },
        "airline": {
         "name": "El Al"
        },
        "codeshareStatus": "Unknown",
        "isCargo": false,
        "movement": {
         "airport": {
          "iata": "TLV",
          "icao": "LLBG",
          "name": "Tel Aviv Yafo"
         },
         "quality": [
          "Basic"
         ],
         "scheduledTimeLocal": "2021-11-25 19:50+01:00",
         "scheduledTimeUtc": "2021-11-25 18:50Z",
         "terminal": "1"
        },
        "number": "LY 2373",
        "status": "Unknown"
       },
       {
        "aircraft": {
         "model": "Airbus A320"
        },
        "airline": {
         "name": "easyJet"
        },
        "codeshareStatus": "Unknown",
        "isCargo": false,
        "movement": {
         "airport": {
          "iata": "FUE",
          "icao": "GCFV",
          "name": "Fuerteventura Island"
         },
         "quality": [
          "Basic"
         ],
         "scheduledTimeLocal": "2021-11-25 19:00+01:00",
         "scheduledTimeUtc": "2021-11-25 18:00Z",
         "terminal": "1"
        },
        "number": "U2 5924",
        "status": "Unknown"
       },
       {
        "aircraft": {
         "model": "Airbus A319"
        },
        "airline": {
         "name": "Eurowings"
        },
        "codeshareStatus": "Unknown",
        "isCargo": false,
        "movement": {
         "airport": {
          "iata": "STR",
          "icao": "EDDS",
          "name": "Stuttgart"
         },
         "quality": [
          "Basic"
         ],
         "scheduledTimeLocal": "2021-11-25 20:05+01:00",
         "scheduledTimeUtc": "2021-11-25 19:05Z",
         "terminal": "1"
        },
        "number": "EW 2006",
        "status": "Unknown"
       },
       {
        "aircraft": {
         "model": "Airbus A320"
        },
        "airline": {
         "name": "Eurowings"
        },
        "codeshareStatus": "Unknown",
        "isCargo": false,
        "movement": {
         "airport": {
          "iata": "DUS",
          "icao": "EDDL",
          "name": "Duesseldorf"
         },
         "quality": [
          "Basic"
         ],
         "scheduledTimeLocal": "2021-11-25 20:05+01:00",
         "scheduledTimeUtc": "2021-11-25 19:05Z",
         "terminal": "1"
        },
        "number": "EW 9044",
        "status": "Unknown"
       },
       {
        "aircraft": {
         "model": "Bombardier Dash 8 Q400 / DHC-8-400"
        },
        "airline": {
         "name": "Luxair"
        },
        "codeshareStatus": "Unknown",
        "isCargo": false,
        "movement": {
         "airport": {
          "iata": "LUX",
          "icao": "ELLX",
          "name": "Luxembourg"
         },
         "quality": [
          "Basic"
         ],
         "scheduledTimeLocal": "2021-11-25 20:10+01:00",
         "scheduledTimeUtc": "2021-11-25 19:10Z",
         "terminal": "1"
        },
        "number": "LG 9473",
        "status": "Unknown"
       },
       {
        "aircraft": {
         "model": "Airbus A320 NEO"
        },
        "airline": {
         "name": "Lufthansa"
        },
        "codeshareStatus": "IsCodeshared",
        "isCargo": false,
        "movement": {
         "airport": {
          "iata": "MUC",
          "icao": "EDDM",
          "name": "Munich"
         },
         "quality": [
          "Basic"
         ],
         "scheduledTimeLocal": "2021-11-25 20:10+01:00",
         "scheduledTimeUtc": "2021-11-25 19:10Z",
         "terminal": "1"
        },
        "number": "LH 1954",
        "status": "Unknown"
       },
       {
        "aircraft": {
         "model": "Airbus A320"
        },
        "airline": {
         "name": "Ghodawat Enterprises"
        },
        "codeshareStatus": "Unknown",
        "isCargo": false,
        "movement": {
         "airport": {
          "iata": "KEF",
          "icao": "BIKF",
          "name": "Reykjavik"
         },
         "quality": [
          "Basic"
         ],
         "scheduledTimeLocal": "2021-11-25 20:00+01:00",
         "scheduledTimeUtc": "2021-11-25 19:00Z",
         "terminal": "1"
        },
        "number": "OG 704",
        "status": "Unknown"
       },
       {
        "aircraft": {
         "model": "Airbus A320"
        },
        "airline": {
         "name": "Austrian"
        },
        "codeshareStatus": "Unknown",
        "isCargo": false,
        "movement": {
         "airport": {
          "iata": "VIE",
          "icao": "LOWW",
          "name": "Vienna"
         },
         "quality": [
          "Basic"
         ],
         "scheduledTimeLocal": "2021-11-25 20:20+01:00",
         "scheduledTimeUtc": "2021-11-25 19:20Z",
         "terminal": "1"
        },
        "number": "OS 237",
        "status": "Unknown"
       },
       {
        "aircraft": {
         "model": "Airbus A320"
        },
        "airline": {
         "name": "easyJet"
        },
        "codeshareStatus": "Unknown",
        "isCargo": false,
        "movement": {
         "airport": {
          "iata": "CDG",
          "icao": "LFPG",
          "name": "Paris"
         },
         "quality": [
          "Basic"
         ],
         "scheduledTimeLocal": "2021-11-25 20:05+01:00",
         "scheduledTimeUtc": "2021-11-25 19:05Z",
         "terminal": "1"
        },
        "number": "U2 5676",
        "status": "Unknown"
       },
       {
        "aircraft": {
         "model": "Airbus A319"
        },
        "airline": {
         "name": "easyJet"
        },
        "codeshareStatus": "Unknown",
        "isCargo": false,
        "movement": {
         "airport": {
          "iata": "ZRH",
          "icao": "LSZH",
          "name": "Zurich"
         },
         "quality": [
          "Basic"
         ],
         "scheduledTimeLocal": "2021-11-25 20:50+01:00",
         "scheduledTimeUtc": "2021-11-25 19:50Z",
         "terminal": "1"
        },
        "number": "U2 5868",
        "status": "Unknown"
       },
       {
        "aircraft": {
         "model": "Airbus A320"
        },
        "airline": {
         "name": "easyJet"
        },
        "codeshareStatus": "Unknown",
        "isCargo": false,
        "movement": {
         "airport": {
          "iata": "BRS",
          "icao": "EGGD",
          "name": "Bristol"
         },
         "quality": [
          "Basic"
         ],
         "scheduledTimeLocal": "2021-11-25 20:40+01:00",
         "scheduledTimeUtc": "2021-11-25 19:40Z",
         "terminal": "1"
        },
        "number": "U2 6237",
        "status": "Unknown"
       },
       {
        "aircraft": {
         "model": "Embraer 190"
        },
        "airline": {
         "name": "British Airways"
        },
        "codeshareStatus": "IsCodeshared",
        "isCargo": false,
        "movement": {
         "airport": {
          "iata": "LCY",
          "icao": "EGLC",
          "name": "London"
         },
         "quality": [
          "Basic"
         ],
         "scheduledTimeLocal": "2021-11-25 21:10+01:00",
         "scheduledTimeUtc": "2021-11-25 20:10Z",
         "terminal": "1"
        },
        "number": "BA 8495",
        "status": "Unknown"
       },
       {
        "aircraft": {
         "model": "Airbus A320"
        },
        "airline": {
         "name": "British Airways"
        },
        "codeshareStatus": "IsCodeshared",
        "isCargo": false,
        "movement": {
         "airport": {
          "iata": "LHR",
          "icao": "EGLL",
          "name": "London"
         },
         "quality": [
          "Basic"
         ],
         "scheduledTimeLocal": "2021-11-25 21:45+01:00",
         "scheduledTimeUtc": "2021-11-25 20:45Z",
         "terminal": "1"
        },
        "number": "BA 988",
        "status": "Unknown"
       },
       {
        "aircraft": {
         "model": "Boeing 737-800"
        },
        "airline": {
         "name": "Norwegian Air Shuttle"
        },
        "codeshareStatus": "Unknown",
        "isCargo": false,
        "movement": {
         "airport": {
          "iata": "BGO",
          "icao": "ENBR",
          "name": "Bergen"
         },
         "quality": [
          "Basic"
         ],
         "scheduledTimeLocal": "2021-11-25 21:20+01:00",
         "scheduledTimeUtc": "2021-11-25 20:20Z",
         "terminal": "1"
        },
        "number": "DY 1160",
        "status": "Unknown"
       },
       {
        "aircraft": {
         "model": "Airbus A320"
        },
        "airline": {
         "name": "Eurowings"
        },
        "codeshareStatus": "Unknown",
        "isCargo": false,
        "movement": {
         "airport": {
          "iata": "DUS",
          "icao": "EDDL",
          "name": "Duesseldorf"
         },
         "quality": [
          "Basic"
         ],
         "scheduledTimeLocal": "2021-11-25 21:45+01:00",
         "scheduledTimeUtc": "2021-11-25 20:45Z",
         "terminal": "1"
        },
        "number": "EW 8047",
        "status": "Unknown"
       },
       {
        "aircraft": {
         "model": "Airbus A320"
        },
        "airline": {
         "name": "Eurowings"
        },
        "codeshareStatus": "Unknown",
        "isCargo": false,
        "movement": {
         "airport": {
          "iata": "CGN",
          "icao": "EDDK",
          "name": "Cologne"
         },
         "quality": [
          "Basic"
         ],
         "scheduledTimeLocal": "2021-11-25 21:40+01:00",
         "scheduledTimeUtc": "2021-11-25 20:40Z",
         "terminal": "1"
        },
        "number": "EW 8055",
        "status": "Unknown"
       },
       {
        "aircraft": {
         "model": "Boeing 737-800"
        },
        "airline": {
         "name": "Ryanair"
        },
        "codeshareStatus": "Unknown",
        "isCargo": false,
        "movement": {
         "airport": {
          "iata": "SKG",
          "icao": "LGTS",
          "name": "Thessaloniki"
         },
         "quality": [
          "Basic"
         ],
         "scheduledTimeLocal": "2021-11-25 21:45+01:00",
         "scheduledTimeUtc": "2021-11-25 20:45Z"
        },
        "number": "FR 1147",
        "status": "Unknown"
       },
       {
        "aircraft": {
         "model": "Boeing 737-800"
        },
        "airline": {
         "name": "Ryanair"
        },
        "codeshareStatus": "Unknown",
        "isCargo": false,
        "movement": {
         "airport": {
          "iata": "OTP",
          "icao": "LROP",
          "name": "Bucharest"
         },
         "quality": [
          "Basic"
         ],
         "scheduledTimeLocal": "2021-11-25 21:30+01:00",
         "scheduledTimeUtc": "2021-11-25 20:30Z"
        },
        "number": "FR 328",
        "status": "Unknown"
       },
       {
        "aircraft": {
         "model": "Boeing 737-800",
         "reg": "PH-BGX"
        },
        "airline": {
         "name": "KLM"
        },
        "codeshareStatus": "IsOperator",
        "isCargo": false,
        "movement": {
         "airport": {
          "iata": "AMS",
          "icao": "EHAM",
          "name": "Amsterdam"
         },
         "quality": [
          "Basic"
         ],
         "scheduledTimeLocal": "2021-11-25 21:55+01:00",
         "scheduledTimeUtc": "2021-11-25 20:55Z",
         "terminal": "1"
        },
        "number": "KL 1835",
        "status": "Unknown"
       },
       {
        "aircraft": {
         "model": "Airbus A319"
        },
        "airline": {
         "name": "easyJet"
        },
        "codeshareStatus": "Unknown",
        "isCargo": false,
        "movement": {
         "airport": {
          "iata": "AMS",
          "icao": "EHAM",
          "name": "Amsterdam"
         },
         "quality": [
          "Basic"
         ],
         "scheduledTimeLocal": "2021-11-25 21:30+01:00",
         "scheduledTimeUtc": "2021-11-25 20:30Z",
         "terminal": "1"
        },
        "number": "U2 5108",
        "status": "Unknown"
       },
       {
        "aircraft": {
         "model": "Airbus A320"
        },
        "airline": {
         "name": "easyJet"
        },
        "codeshareStatus": "Unknown",
        "isCargo": false,
        "movement": {
         "airport": {
          "iata": "ARN",
          "icao": "ESSA",
          "name": "Stockholm"
         },
         "quality": [
          "Basic"
         ],
         "scheduledTimeLocal": "2021-11-25 21:50+01:00",
         "scheduledTimeUtc": "2021-11-25 20:50Z",
         "terminal": "1"
        },
        "number": "U2 5216",
        "status": "Unknown"
       },
       {
        "aircraft": {
         "model": "Airbus A320"
        },
        "airline": {
         "name": "easyJet"
        },
        "codeshareStatus": "Unknown",
        "isCargo": false,
        "movement": {
         "airport": {
          "name": "Rome"
         },
         "quality": [
          "Basic"
         ],
         "scheduledTimeLocal": "2021-11-25 21:30+01:00",
         "scheduledTimeUtc": "2021-11-25 20:30Z",
         "terminal": "1"
        },
        "number": "U2 5708",
        "status": "Unknown"
       },
       {
        "aircraft": {
         "model": "Airbus A320"
        },
        "airline": {
         "name": "easyJet"
        },
        "codeshareStatus": "Unknown",
        "isCargo": false,
        "movement": {
         "airport": {
          "iata": "VCE",
          "icao": "LIPZ",
          "name": "Venice"
         },
         "quality": [
          "Basic"
         ],
         "scheduledTimeLocal": "2021-11-25 21:45+01:00",
         "scheduledTimeUtc": "2021-11-25 20:45Z",
         "terminal": "1"
        },
        "number": "U2 5838",
        "status": "Unknown"
       },
       {
        "aircraft": {
         "model": "Airbus A320"
        },
        "airline": {
         "name": "easyJet"
        },
        "codeshareStatus": "Unknown",
        "isCargo": false,
        "movement": {
         "airport": {
          "iata": "LGW",
          "icao": "EGKK",
          "name": "London"
         },
         "quality": [
          "Basic"
         ],
         "scheduledTimeLocal": "2021-11-25 21:00+01:00",
         "scheduledTimeUtc": "2021-11-25 20:00Z",
         "terminal": "1"
        },
        "number": "U2 8125",
        "status": "Unknown"
       },
       {
        "aircraft": {
         "model": "Airbus A320"
        },
        "airline": {
         "name": "Air France"
        },
        "codeshareStatus": "Unknown",
        "isCargo": false,
        "movement": {
         "airport": {
          "iata": "CDG",
          "icao": "LFPG",
          "name": "Paris"
         },
         "quality": [
          "Basic"
         ],
         "scheduledTimeLocal": "2021-11-25 22:40+01:00",
         "scheduledTimeUtc": "2021-11-25 21:40Z",
         "terminal": "1"
        },
        "number": "AF 1134",
        "status": "Unknown"
       },
       {
        "aircraft": {
         "model": "Airbus A320"
        },
        "airline": {
         "name": "Eurowings"
        },
        "codeshareStatus": "Unknown",
        "isCargo": false,
        "movement": {
         "airport": {
          "iata": "STR",
          "icao": "EDDS",
          "name": "Stuttgart"
         },
         "quality": [
          "Basic"
         ],
         "scheduledTimeLocal": "2021-11-25 22:25+01:00",
         "scheduledTimeUtc": "2021-11-25 21:25Z",
         "terminal": "1"
        },
        "number": "EW 8007",
        "status": "Unknown"
       },
       {
        "aircraft": {
         "model": "Boeing 737-800"
        },
        "airline": {
         "name": "Ryanair"
        },
        "codeshareStatus": "Unknown",
        "isCargo": false,
        "movement": {
         "airport": {
          "iata": "BRU",
          "icao": "EBBR",
          "name": "Brussels"
         },
         "quality": [
          "Basic"
         ],
         "scheduledTimeLocal": "2021-11-25 22:25+01:00",
         "scheduledTimeUtc": "2021-11-25 21:25Z"
        },
        "number": "FR 167",
        "status": "Unknown"
       },
       {
        "aircraft": {
         "model": "Boeing 737-800"
        },
        "airline": {
         "name": "Ryanair"
        },
        "codeshareStatus": "Unknown",
        "isCargo": false,
        "movement": {
         "airport": {
          "iata": "LPA",
          "icao": "GCLP",
          "name": "Gran Canaria Island"
         },
         "quality": [
          "Basic"
         ],
         "scheduledTimeLocal": "2021-11-25 22:30+01:00",
         "scheduledTimeUtc": "2021-11-25 21:30Z"
        },
        "number": "FR 2501",
        "status": "Unknown"
       },
       {
        "aircraft": {
         "model": "Boeing 737-800"
        },
        "airline": {
         "name": "Ryanair"
        },
        "codeshareStatus": "Unknown",
        "isCargo": false,
        "movement": {
         "airport": {
          "iata": "BGY",
          "icao": "LIME",
          "name": "Bergamo"
         },
         "quality": [
          "Basic"
         ],
         "scheduledTimeLocal": "2021-11-25 22:30+01:00",
         "scheduledTimeUtc": "2021-11-25 21:30Z"
        },
        "number": "FR 4733",
        "status": "Unknown"
       },
       {
        "aircraft": {
         "model": "Boeing 737-800"
        },
        "airline": {
         "name": "Ryanair"
        },
        "codeshareStatus": "Unknown",
        "isCargo": false,
        "movement": {
         "airport": {
          "name": "Faro"
         },
         "quality": [
          "Basic"
         ],
         "scheduledTimeLocal": "2021-11-25 22:30+01:00",
         "scheduledTimeUtc": "2021-11-25 21:30Z"
        },
        "number": "FR 5365",
        "status": "Unknown"
       },
       {
        "aircraft": {
         "model": "Airbus A320"
        },
        "airline": {
         "name": "Iberia"
        },
        "codeshareStatus": "Unknown",
        "isCargo": false,
        "movement": {
         "airport": {
          "iata": "MAD",
          "icao": "LEMD",
          "name": "Madrid"
         },
         "quality": [
          "Basic"
         ],
         "scheduledTimeLocal": "2021-11-25 22:45+01:00",
         "scheduledTimeUtc": "2021-11-25 21:45Z",
         "terminal": "1"
        },
        "number": "IB 3674",
        "status": "Unknown"
       },
       {
        "aircraft": {
         "model": "Airbus A321"
        },
        "airline": {
         "name": "Lufthansa"
        },
        "codeshareStatus": "IsCodeshared",
        "isCargo": false,
        "movement": {
         "airport": {
          "iata": "MUC",
          "icao": "EDDM",
          "name": "Munich"
         },
         "quality": [
          "Basic"
         ],
         "scheduledTimeLocal": "2021-11-25 22:55+01:00",
         "scheduledTimeUtc": "2021-11-25 21:55Z",
         "terminal": "1"
        },
        "number": "LH 1958",
        "status": "Unknown"
       },
       {
        "aircraft": {
         "model": "Airbus A321"
        },
        "airline": {
         "name": "Lufthansa"
        },
        "codeshareStatus": "Unknown",
        "isCargo": false,
        "movement": {
         "airport": {
          "iata": "FRA",
          "icao": "EDDF",
          "name": "Frankfurt-am-Main"
         },
         "quality": [
          "Basic"
         ],
         "scheduledTimeLocal": "2021-11-25 22:25+01:00",
         "scheduledTimeUtc": "2021-11-25 21:25Z",
         "terminal": "1"
        },
        "number": "LH 202",
        "status": "Unknown"
       },
       {
        "aircraft": {
         "model": "Bombardier Dash 8 Q400 / DHC-8-400"
        },
        "airline": {
         "name": "LOT - Polish"
        },
        "codeshareStatus": "Unknown",
        "isCargo": false,
        "movement": {
         "airport": {
          "iata": "WAW",
          "icao": "EPWA",
          "name": "Warsaw"
         },
         "quality": [
          "Basic"
         ],
         "scheduledTimeLocal": "2021-11-25 22:20+01:00",
         "scheduledTimeUtc": "2021-11-25 21:20Z",
         "terminal": "1"
        },
        "number": "LO 391",
        "status": "Unknown"
       },
       {
        "aircraft": {
         "model": "Airbus A320"
        },
        "airline": {
         "name": "Austrian"
        },
        "codeshareStatus": "Unknown",
        "isCargo": false,
        "movement": {
         "airport": {
          "iata": "VIE",
          "icao": "LOWW",
          "name": "Vienna"
         },
         "quality": [
          "Basic"
         ],
         "scheduledTimeLocal": "2021-11-25 22:10+01:00",
         "scheduledTimeUtc": "2021-11-25 21:10Z",
         "terminal": "1"
        },
        "number": "OS 239",
        "status": "Unknown"
       },
       {
        "aircraft": {
         "model": "Airbus A320"
        },
        "airline": {
         "name": "Brussels"
        },
        "codeshareStatus": "Unknown",
        "isCargo": false,
        "movement": {
         "airport": {
          "iata": "BRU",
          "icao": "EBBR",
          "name": "Brussels"
         },
         "quality": [
          "Basic"
         ],
         "scheduledTimeLocal": "2021-11-25 22:05+01:00",
         "scheduledTimeUtc": "2021-11-25 21:05Z",
         "terminal": "1"
        },
        "number": "SN 2591",
        "status": "Unknown"
       },
       {
        "aircraft": {
         "model": "Airbus A319"
        },
        "airline": {
         "name": "TAP Air Portugal"
        },
        "codeshareStatus": "Unknown",
        "isCargo": false,
        "movement": {
         "airport": {
          "iata": "LIS",
          "icao": "LPPT",
          "name": "Lisbon"
         },
         "quality": [
          "Basic"
         ],
         "scheduledTimeLocal": "2021-11-25 22:50+01:00",
         "scheduledTimeUtc": "2021-11-25 21:50Z",
         "terminal": "1"
        },
        "number": "TP 532",
        "status": "Unknown"
       },
       {
        "aircraft": {
         "model": "Airbus A320"
        },
        "airline": {
         "name": "easyJet"
        },
        "codeshareStatus": "Unknown",
        "isCargo": false,
        "movement": {
         "airport": {
          "iata": "GVA",
          "icao": "LSGG",
          "name": "Geneva"
         },
         "quality": [
          "Basic"
         ],
         "scheduledTimeLocal": "2021-11-25 22:40+01:00",
         "scheduledTimeUtc": "2021-11-25 21:40Z",
         "terminal": "1"
        },
        "number": "U2 1595",
        "status": "Unknown"
       },
       {
        "aircraft": {
         "model": "Airbus A320"
        },
        "airline": {
         "name": "easyJet"
        },
        "codeshareStatus": "Unknown",
        "isCargo": false,
        "movement": {
         "airport": {
          "iata": "MXP",
          "icao": "LIMC",
          "name": "Milan"
         },
         "quality": [
          "Basic"
         ],
         "scheduledTimeLocal": "2021-11-25 22:30+01:00",
         "scheduledTimeUtc": "2021-11-25 21:30Z",
         "terminal": "1"
        },
        "number": "U2 4678",
        "status": "Unknown"
       },
       {
        "aircraft": {
         "model": "Airbus A320"
        },
        "airline": {
         "name": "easyJet"
        },
        "codeshareStatus": "Unknown",
        "isCargo": false,
        "movement": {
         "airport": {
          "iata": "BSL",
          "icao": "LFSB",
          "name": "Bâle/Mulhouse"
         },
         "quality": [
          "Basic"
         ],
         "scheduledTimeLocal": "2021-11-25 22:20+01:00",
         "scheduledTimeUtc": "2021-11-25 21:20Z",
         "terminal": "1"
        },
        "number": "U2 5640",
        "status": "Unknown"
       },
       {
        "aircraft": {
         "model": "Airbus A320"
        },
        "airline": {
         "name": "easyJet"
        },
        "codeshareStatus": "Unknown",
        "isCargo": false,
        "movement": {
         "airport": {
          "iata": "CPH",
          "icao": "EKCH",
          "name": "Copenhagen"
         },
         "quality": [
          "Basic"
         ],
         "scheduledTimeLocal": "2021-11-25 22:30+01:00",
         "scheduledTimeUtc": "2021-11-25 21:30Z",
         "terminal": "1"
        },
        "number": "U2 5690",
        "status": "Unknown"
       },
       {
        "aircraft": {
         "model": "Airbus A320"
        },
        "airline": {
         "name": "easyJet"
        },
        "codeshareStatus": "Unknown",
        "isCargo": false,
        "movement": {
         "airport": {
          "iata": "PMI",
          "icao": "LEPA",
          "name": "Palma De Mallorca"
         },
         "quality": [
          "Basic"
         ],
         "scheduledTimeLocal": "2021-11-25 22:30+01:00",
         "scheduledTimeUtc": "2021-11-25 21:30Z",
         "terminal": "1"
        },
        "number": "U2 5808",
        "status": "Unknown"
       },
       {
        "aircraft": {
         "model": "Airbus A320"
        },
        "airline": {
         "name": "easyJet"
        },
        "codeshareStatus": "Unknown",
        "isCargo": false,
        "movement": {
         "airport": {
          "iata": "TFS",
          "icao": "GCTS",
          "name": "Tenerife Island"
         },
         "quality": [
          "Basic"
         ],
         "scheduledTimeLocal": "2021-11-25 22:25+01:00",
         "scheduledTimeUtc": "2021-11-25 21:25Z",
         "terminal": "1"
        },
        "number": "U2 5916",
        "status": "Unknown"
       },
       {
        "aircraft": {
         "model": "Boeing 737-800"
        },
        "airline": {
         "name": "Ryanair"
        },
        "codeshareStatus": "Unknown",
        "isCargo": false,
        "movement": {
         "airport": {
          "iata": "STN",
          "icao": "EGSS",
          "name": "London"
         },
         "quality": [
          "Basic"
         ],
         "scheduledTimeLocal": "2021-11-25 22:10+01:00",
         "scheduledTimeUtc": "2021-11-25 21:10Z"
        },
        "number": "FR 147",
        "status": "Unknown"
       },
       {
        "aircraft": {
         "model": "Boeing 737-800"
        },
        "airline": {
         "name": "Ryanair"
        },
        "codeshareStatus": "Unknown",
        "isCargo": false,
        "movement": {
         "airport": {
          "name": "Bologna"
         },
         "quality": [
          "Basic"
         ],
         "scheduledTimeLocal": "2021-11-25 22:00+01:00",
         "scheduledTimeUtc": "2021-11-25 21:00Z"
        },
        "number": "FR 137",
        "status": "Unknown"
       },
       {
        "aircraft": {
         "model": "Boeing 737-800"
        },
        "airline": {
         "name": "Ryanair"
        },
        "codeshareStatus": "Unknown",
        "isCargo": false,
        "movement": {
         "airport": {
          "iata": "LIS",
          "icao": "LPPT",
          "name": "Lisbon"
         },
         "quality": [
          "Basic"
         ],
         "scheduledTimeLocal": "2021-11-25 22:15+01:00",
         "scheduledTimeUtc": "2021-11-25 21:15Z"
        },
        "number": "FR 1143",
        "status": "Unknown"
       }
      ],
      "text/plain": [
       "<IPython.core.display.JSON object>"
      ]
     },
     "execution_count": 71,
     "metadata": {
      "application/json": {
       "expanded": false,
       "root": "root"
      }
     },
     "output_type": "execute_result"
    }
   ],
   "source": [
    "arrivals = json_1[\"arrivals\"] + json_2[\"arrivals\"]\n",
    "JSON(arrivals)"
   ]
  },
  {
   "cell_type": "code",
   "execution_count": 89,
   "id": "231d3833-9d14-45bb-bfdf-f45a1e32f086",
   "metadata": {},
   "outputs": [
    {
     "data": {
      "text/html": [
       "<div>\n",
       "<style scoped>\n",
       "    .dataframe tbody tr th:only-of-type {\n",
       "        vertical-align: middle;\n",
       "    }\n",
       "\n",
       "    .dataframe tbody tr th {\n",
       "        vertical-align: top;\n",
       "    }\n",
       "\n",
       "    .dataframe thead th {\n",
       "        text-align: right;\n",
       "    }\n",
       "</style>\n",
       "<table border=\"1\" class=\"dataframe\">\n",
       "  <thead>\n",
       "    <tr style=\"text-align: right;\">\n",
       "      <th></th>\n",
       "      <th>airport</th>\n",
       "      <th>scheduledTimeLocal</th>\n",
       "      <th>airline</th>\n",
       "      <th>aircraft</th>\n",
       "      <th>number</th>\n",
       "    </tr>\n",
       "  </thead>\n",
       "  <tbody>\n",
       "    <tr>\n",
       "      <th>0</th>\n",
       "      <td>Riga</td>\n",
       "      <td>2021-11-25 07:55+01:00</td>\n",
       "      <td>Air Baltic</td>\n",
       "      <td>Airbus A220-300</td>\n",
       "      <td>BT 211</td>\n",
       "    </tr>\n",
       "    <tr>\n",
       "      <th>0</th>\n",
       "      <td>Cologne</td>\n",
       "      <td>2021-11-25 07:20+01:00</td>\n",
       "      <td>Eurowings</td>\n",
       "      <td>Boeing 737-800</td>\n",
       "      <td>EW 12</td>\n",
       "    </tr>\n",
       "    <tr>\n",
       "      <th>0</th>\n",
       "      <td>Stuttgart</td>\n",
       "      <td>2021-11-25 07:30+01:00</td>\n",
       "      <td>Eurowings</td>\n",
       "      <td>Airbus A319</td>\n",
       "      <td>EW 2002</td>\n",
       "    </tr>\n",
       "    <tr>\n",
       "      <th>0</th>\n",
       "      <td>Duesseldorf</td>\n",
       "      <td>2021-11-25 07:35+01:00</td>\n",
       "      <td>Eurowings</td>\n",
       "      <td>Airbus A320</td>\n",
       "      <td>EW 9048</td>\n",
       "    </tr>\n",
       "    <tr>\n",
       "      <th>0</th>\n",
       "      <td>Frankfurt-am-Main</td>\n",
       "      <td>2021-11-25 07:55+01:00</td>\n",
       "      <td>Lufthansa</td>\n",
       "      <td>Airbus A321</td>\n",
       "      <td>LH 170</td>\n",
       "    </tr>\n",
       "    <tr>\n",
       "      <th>...</th>\n",
       "      <td>...</td>\n",
       "      <td>...</td>\n",
       "      <td>...</td>\n",
       "      <td>...</td>\n",
       "      <td>...</td>\n",
       "    </tr>\n",
       "    <tr>\n",
       "      <th>0</th>\n",
       "      <td>Palma De Mallorca</td>\n",
       "      <td>2021-11-25 22:30+01:00</td>\n",
       "      <td>easyJet</td>\n",
       "      <td>Airbus A320</td>\n",
       "      <td>U2 5808</td>\n",
       "    </tr>\n",
       "    <tr>\n",
       "      <th>0</th>\n",
       "      <td>Tenerife Island</td>\n",
       "      <td>2021-11-25 22:25+01:00</td>\n",
       "      <td>easyJet</td>\n",
       "      <td>Airbus A320</td>\n",
       "      <td>U2 5916</td>\n",
       "    </tr>\n",
       "    <tr>\n",
       "      <th>0</th>\n",
       "      <td>London</td>\n",
       "      <td>2021-11-25 22:10+01:00</td>\n",
       "      <td>Ryanair</td>\n",
       "      <td>Boeing 737-800</td>\n",
       "      <td>FR 147</td>\n",
       "    </tr>\n",
       "    <tr>\n",
       "      <th>0</th>\n",
       "      <td>Bologna</td>\n",
       "      <td>2021-11-25 22:00+01:00</td>\n",
       "      <td>Ryanair</td>\n",
       "      <td>Boeing 737-800</td>\n",
       "      <td>FR 137</td>\n",
       "    </tr>\n",
       "    <tr>\n",
       "      <th>0</th>\n",
       "      <td>Lisbon</td>\n",
       "      <td>2021-11-25 22:15+01:00</td>\n",
       "      <td>Ryanair</td>\n",
       "      <td>Boeing 737-800</td>\n",
       "      <td>FR 1143</td>\n",
       "    </tr>\n",
       "  </tbody>\n",
       "</table>\n",
       "<p>180 rows × 5 columns</p>\n",
       "</div>"
      ],
      "text/plain": [
       "              airport      scheduledTimeLocal     airline         aircraft  \\\n",
       "0                Riga  2021-11-25 07:55+01:00  Air Baltic  Airbus A220-300   \n",
       "0             Cologne  2021-11-25 07:20+01:00   Eurowings   Boeing 737-800   \n",
       "0           Stuttgart  2021-11-25 07:30+01:00   Eurowings      Airbus A319   \n",
       "0         Duesseldorf  2021-11-25 07:35+01:00   Eurowings      Airbus A320   \n",
       "0   Frankfurt-am-Main  2021-11-25 07:55+01:00   Lufthansa      Airbus A321   \n",
       "..                ...                     ...         ...              ...   \n",
       "0   Palma De Mallorca  2021-11-25 22:30+01:00     easyJet      Airbus A320   \n",
       "0     Tenerife Island  2021-11-25 22:25+01:00     easyJet      Airbus A320   \n",
       "0              London  2021-11-25 22:10+01:00     Ryanair   Boeing 737-800   \n",
       "0             Bologna  2021-11-25 22:00+01:00     Ryanair   Boeing 737-800   \n",
       "0              Lisbon  2021-11-25 22:15+01:00     Ryanair   Boeing 737-800   \n",
       "\n",
       "     number  \n",
       "0    BT 211  \n",
       "0     EW 12  \n",
       "0   EW 2002  \n",
       "0   EW 9048  \n",
       "0    LH 170  \n",
       "..      ...  \n",
       "0   U2 5808  \n",
       "0   U2 5916  \n",
       "0    FR 147  \n",
       "0    FR 137  \n",
       "0   FR 1143  \n",
       "\n",
       "[180 rows x 5 columns]"
      ]
     },
     "execution_count": 89,
     "metadata": {},
     "output_type": "execute_result"
    }
   ],
   "source": [
    "time = []\n",
    "airportname = [] \n",
    "airlinename = []\n",
    "import pandas as pd\n",
    "def dailyflights(flights):\n",
    "   return pd.json_normalize({\n",
    "       'airport' :  flights['movement']['airport']['name'],\n",
    "       'scheduledTimeLocal' :  flights['movement']['scheduledTimeLocal'], \n",
    "       'airline': flights['airline']['name'],\n",
    "       'aircraft': flights['aircraft']['model'],\n",
    "       'number': flights['number'],\n",
    "       \n",
    "    })\n",
    "     \n",
    "flights = []\n",
    "\n",
    "#for arrival in arrivals:\n",
    "  #flights.append(dailyflights(arrival))\n",
    "        \n",
    "\n",
    "flights = pd.concat(\n",
    "    [dailyflights(arrival) for arrival in arrivals]\n",
    ")\n",
    "\n",
    "flights"
   ]
  }
 ],
 "metadata": {
  "kernelspec": {
   "display_name": "Python 3",
   "language": "python",
   "name": "python3"
  },
  "language_info": {
   "codemirror_mode": {
    "name": "ipython",
    "version": 3
   },
   "file_extension": ".py",
   "mimetype": "text/x-python",
   "name": "python",
   "nbconvert_exporter": "python",
   "pygments_lexer": "ipython3",
   "version": "3.8.8"
  }
 },
 "nbformat": 4,
 "nbformat_minor": 5
}
