{
 "cells": [
  {
   "cell_type": "markdown",
   "metadata": {},
   "source": [
    "# Intro to web scraping"
   ]
  },
  {
   "cell_type": "markdown",
   "metadata": {},
   "source": [
    "The first step of web scraping is to identify a website and download the html code from it. \n",
    "\n",
    "Real html from websites tends to be long and a bit too chaotic for a total beginner. Here we will start with a dummy html document and learn the basics of extracting info with beautifulsoup."
   ]
  },
  {
   "cell_type": "code",
   "execution_count": 1,
   "metadata": {},
   "outputs": [],
   "source": [
    "html_doc = \"\"\"\n",
    "<!DOCTYPE html>\n",
    "<html><head><title>The Dormouse's story</title></head>\n",
    "<body>\n",
    "<p class=\"title\"><b>The Dormouse's story</b></p>\n",
    "\n",
    "<p class=\"story\">Once upon a time there were three little sisters; and their names were\n",
    "<a href=\"http://example.com/elsie\" class=\"sister\" id=\"link1\">Elsie</a>,\n",
    "<a href=\"http://example.com/lacie\" class=\"sister\" id=\"link2\">Lacie</a> and\n",
    "<a href=\"http://example.com/tillie\" class=\"sister\" id=\"link3\">Tillie</a>;\n",
    "and they lived at the bottom of a well.</p>\n",
    "\n",
    "<p class=\"story\">...</p>\n",
    "</html>\n",
    "\"\"\""
   ]
  },
  {
   "cell_type": "code",
   "execution_count": 2,
   "metadata": {},
   "outputs": [
    {
     "data": {
      "text/plain": [
       "'\\n<!DOCTYPE html>\\n<html><head><title>The Dormouse\\'s story</title></head>\\n<body>\\n<p class=\"title\"><b>The Dormouse\\'s story</b></p>\\n\\n<p class=\"story\">Once upon a time there were three little sisters; and their names were\\n<a href=\"http://example.com/elsie\" class=\"sister\" id=\"link1\">Elsie</a>,\\n<a href=\"http://example.com/lacie\" class=\"sister\" id=\"link2\">Lacie</a> and\\n<a href=\"http://example.com/tillie\" class=\"sister\" id=\"link3\">Tillie</a>;\\nand they lived at the bottom of a well.</p>\\n\\n<p class=\"story\">...</p>\\n</html>\\n'"
      ]
     },
     "execution_count": 2,
     "metadata": {},
     "output_type": "execute_result"
    }
   ],
   "source": [
    "html_doc"
   ]
  },
  {
   "cell_type": "code",
   "execution_count": 3,
   "metadata": {},
   "outputs": [],
   "source": [
    "from bs4 import BeautifulSoup"
   ]
  },
  {
   "cell_type": "markdown",
   "metadata": {},
   "source": [
    "#### \"creating the soup\""
   ]
  },
  {
   "cell_type": "code",
   "execution_count": 4,
   "metadata": {},
   "outputs": [],
   "source": [
    "# parse the element\n",
    "soup = BeautifulSoup(html_doc, 'html.parser')"
   ]
  },
  {
   "cell_type": "code",
   "execution_count": 5,
   "metadata": {},
   "outputs": [
    {
     "data": {
      "text/plain": [
       "<bound method Tag.prettify of \n",
       "<!DOCTYPE html>\n",
       "\n",
       "<html><head><title>The Dormouse's story</title></head>\n",
       "<body>\n",
       "<p class=\"title\"><b>The Dormouse's story</b></p>\n",
       "<p class=\"story\">Once upon a time there were three little sisters; and their names were\n",
       "<a class=\"sister\" href=\"http://example.com/elsie\" id=\"link1\">Elsie</a>,\n",
       "<a class=\"sister\" href=\"http://example.com/lacie\" id=\"link2\">Lacie</a> and\n",
       "<a class=\"sister\" href=\"http://example.com/tillie\" id=\"link3\">Tillie</a>;\n",
       "and they lived at the bottom of a well.</p>\n",
       "<p class=\"story\">...</p>\n",
       "</body></html>\n",
       ">"
      ]
     },
     "execution_count": 5,
     "metadata": {},
     "output_type": "execute_result"
    }
   ],
   "source": [
    "soup.prettify"
   ]
  },
  {
   "cell_type": "markdown",
   "metadata": {},
   "source": [
    "#### accessing single elements"
   ]
  },
  {
   "cell_type": "code",
   "execution_count": 6,
   "metadata": {},
   "outputs": [
    {
     "data": {
      "text/plain": [
       "<title>The Dormouse's story</title>"
      ]
     },
     "execution_count": 6,
     "metadata": {},
     "output_type": "execute_result"
    }
   ],
   "source": [
    "soup.title"
   ]
  },
  {
   "cell_type": "code",
   "execution_count": 7,
   "metadata": {},
   "outputs": [
    {
     "data": {
      "text/plain": [
       "\"The Dormouse's story\""
      ]
     },
     "execution_count": 7,
     "metadata": {},
     "output_type": "execute_result"
    }
   ],
   "source": [
    "soup.title.string"
   ]
  },
  {
   "cell_type": "code",
   "execution_count": 8,
   "metadata": {},
   "outputs": [
    {
     "data": {
      "text/plain": [
       "'head'"
      ]
     },
     "execution_count": 8,
     "metadata": {},
     "output_type": "execute_result"
    }
   ],
   "source": [
    "soup.title.parent.name"
   ]
  },
  {
   "cell_type": "code",
   "execution_count": 9,
   "metadata": {},
   "outputs": [
    {
     "data": {
      "text/plain": [
       "<body>\n",
       "<p class=\"title\"><b>The Dormouse's story</b></p>\n",
       "<p class=\"story\">Once upon a time there were three little sisters; and their names were\n",
       "<a class=\"sister\" href=\"http://example.com/elsie\" id=\"link1\">Elsie</a>,\n",
       "<a class=\"sister\" href=\"http://example.com/lacie\" id=\"link2\">Lacie</a> and\n",
       "<a class=\"sister\" href=\"http://example.com/tillie\" id=\"link3\">Tillie</a>;\n",
       "and they lived at the bottom of a well.</p>\n",
       "<p class=\"story\">...</p>\n",
       "</body>"
      ]
     },
     "execution_count": 9,
     "metadata": {},
     "output_type": "execute_result"
    }
   ],
   "source": [
    "soup.body"
   ]
  },
  {
   "cell_type": "code",
   "execution_count": 10,
   "metadata": {},
   "outputs": [
    {
     "data": {
      "text/plain": [
       "<p class=\"title\"><b>The Dormouse's story</b></p>"
      ]
     },
     "execution_count": 10,
     "metadata": {},
     "output_type": "execute_result"
    }
   ],
   "source": [
    "# this method only retrieves the first element of the specified tag\n",
    "soup.p"
   ]
  },
  {
   "cell_type": "markdown",
   "metadata": {},
   "source": [
    "#### finding all elements of a tag with find_all()"
   ]
  },
  {
   "cell_type": "code",
   "execution_count": 11,
   "metadata": {},
   "outputs": [],
   "source": [
    "p_tags = soup.find_all(\"p\")"
   ]
  },
  {
   "cell_type": "code",
   "execution_count": 12,
   "metadata": {},
   "outputs": [
    {
     "name": "stdout",
     "output_type": "stream",
     "text": [
      "The Dormouse's story\n",
      "Once upon a time there were three little sisters; and their names were\n",
      "Elsie,\n",
      "Lacie and\n",
      "Tillie;\n",
      "and they lived at the bottom of a well.\n",
      "...\n"
     ]
    }
   ],
   "source": [
    "for p in p_tags:\n",
    "    print(p.get_text())"
   ]
  },
  {
   "cell_type": "markdown",
   "metadata": {},
   "source": [
    "#### Using css selectors\n",
    "\n",
    "Let's learn first the syntax of css selectors playing this game: https://flukeout.github.io/\n",
    "\n",
    "Everyone should reach level 12!"
   ]
  },
  {
   "cell_type": "code",
   "execution_count": 13,
   "metadata": {},
   "outputs": [
    {
     "name": "stdout",
     "output_type": "stream",
     "text": [
      "Elsie\n",
      "Lacie\n",
      "Tillie\n"
     ]
    }
   ],
   "source": [
    "soup.select(\"a\")\n",
    "\n",
    "for a in soup.select('a'):\n",
    "    print(a.get_text())"
   ]
  },
  {
   "cell_type": "code",
   "execution_count": 14,
   "metadata": {},
   "outputs": [
    {
     "data": {
      "text/plain": [
       "[<p class=\"title\"><b>The Dormouse's story</b></p>]"
      ]
     },
     "execution_count": 14,
     "metadata": {},
     "output_type": "execute_result"
    }
   ],
   "source": [
    "soup.select(\".title\")"
   ]
  },
  {
   "cell_type": "code",
   "execution_count": 15,
   "metadata": {},
   "outputs": [
    {
     "data": {
      "text/plain": [
       "[<a class=\"sister\" href=\"http://example.com/lacie\" id=\"link2\">Lacie</a>]"
      ]
     },
     "execution_count": 15,
     "metadata": {},
     "output_type": "execute_result"
    }
   ],
   "source": [
    "soup.select(\"#link2\")"
   ]
  },
  {
   "cell_type": "code",
   "execution_count": 16,
   "metadata": {
    "scrolled": true
   },
   "outputs": [
    {
     "data": {
      "text/plain": [
       "[<a class=\"sister\" href=\"http://example.com/elsie\" id=\"link1\">Elsie</a>,\n",
       " <a class=\"sister\" href=\"http://example.com/lacie\" id=\"link2\">Lacie</a>,\n",
       " <a class=\"sister\" href=\"http://example.com/tillie\" id=\"link3\">Tillie</a>]"
      ]
     },
     "execution_count": 16,
     "metadata": {},
     "output_type": "execute_result"
    }
   ],
   "source": [
    "soup.select(\".sister\")"
   ]
  },
  {
   "cell_type": "markdown",
   "metadata": {},
   "source": [
    "We can combine the `select()` method with other bs4 methods, such as `get_text()`.\n",
    "\n",
    "`get_text()`, however, can only be applied to single elements, while `select()` might return multiple elements. It's common to iterate through the output of `select()`"
   ]
  },
  {
   "cell_type": "code",
   "execution_count": 17,
   "metadata": {},
   "outputs": [
    {
     "name": "stdout",
     "output_type": "stream",
     "text": [
      "Once upon a time there were three little sisters; and their names were\n",
      "Elsie,\n",
      "Lacie and\n",
      "Tillie;\n",
      "and they lived at the bottom of a well.\n"
     ]
    }
   ],
   "source": [
    "print(soup.select(\"p.story\")[0].get_text())"
   ]
  },
  {
   "cell_type": "code",
   "execution_count": 18,
   "metadata": {},
   "outputs": [
    {
     "name": "stdout",
     "output_type": "stream",
     "text": [
      "Once upon a time there were three little sisters; and their names were\n",
      "Elsie,\n",
      "Lacie and\n",
      "Tillie;\n",
      "and they lived at the bottom of a well.\n",
      "...\n"
     ]
    }
   ],
   "source": [
    "for p in soup.select(\"p.story\"):\n",
    "    print(p.get_text())"
   ]
  },
  {
   "cell_type": "markdown",
   "metadata": {},
   "source": [
    "### Your turn:\n",
    "\n",
    "Write code to print the following contents (not including the html tags, only human-readable text): \n",
    "\n",
    "1. All the \"fun facts\". \n",
    "\n",
    "2. The names of all the places. \n",
    "\n",
    "3. The content (name and fact) of all the cities (only cities, not countries!) \n",
    "\n",
    "4. The names (not facts!) of all the cities (not countries!)"
   ]
  },
  {
   "cell_type": "code",
   "execution_count": 19,
   "metadata": {},
   "outputs": [],
   "source": [
    "geography = \"\"\"\n",
    "<!DOCTYPE html>\n",
    "<html>\n",
    "<head> Geography</head>\n",
    "<body>\n",
    "\n",
    "<div class=\"city\">\n",
    "  <h2>London</h2>\n",
    "  <p>London is the most popular tourist destination in the world.</p>\n",
    "</div>\n",
    "\n",
    "<div class=\"city\">\n",
    "  <h2>Paris</h2>\n",
    "  <p>Paris was originally a Roman City called Lutetia.</p>\n",
    "</div>\n",
    "\n",
    "<div class=\"country\">\n",
    "  <h2>Spain</h2>\n",
    "  <p>Spain produces 43,8% of all the world's Olive Oil.</p>\n",
    "</div>\n",
    "\n",
    "</body>\n",
    "</html>\n",
    "\"\"\""
   ]
  },
  {
   "cell_type": "code",
   "execution_count": 20,
   "metadata": {},
   "outputs": [
    {
     "name": "stdout",
     "output_type": "stream",
     "text": [
      "<!DOCTYPE html>\n",
      "<html>\n",
      " <head>\n",
      "  Geography\n",
      " </head>\n",
      " <body>\n",
      "  <div class=\"city\">\n",
      "   <h2>\n",
      "    London\n",
      "   </h2>\n",
      "   <p>\n",
      "    London is the most popular tourist destination in the world.\n",
      "   </p>\n",
      "  </div>\n",
      "  <div class=\"city\">\n",
      "   <h2>\n",
      "    Paris\n",
      "   </h2>\n",
      "   <p>\n",
      "    Paris was originally a Roman City called Lutetia.\n",
      "   </p>\n",
      "  </div>\n",
      "  <div class=\"country\">\n",
      "   <h2>\n",
      "    Spain\n",
      "   </h2>\n",
      "   <p>\n",
      "    Spain produces 43,8% of all the world's Olive Oil.\n",
      "   </p>\n",
      "  </div>\n",
      " </body>\n",
      "</html>\n",
      "\n"
     ]
    }
   ],
   "source": [
    "soup = BeautifulSoup(geography, 'html.parser')\n",
    "\n",
    "print(soup.prettify())"
   ]
  },
  {
   "cell_type": "code",
   "execution_count": 21,
   "metadata": {},
   "outputs": [
    {
     "name": "stdout",
     "output_type": "stream",
     "text": [
      "London is the most popular tourist destination in the world.\n",
      "Paris was originally a Roman City called Lutetia.\n",
      "Spain produces 43,8% of all the world's Olive Oil.\n"
     ]
    }
   ],
   "source": [
    "# 1. All the \"fun facts\"\n",
    "for i in soup.find_all(\"p\"):\n",
    "    print(i.get_text())"
   ]
  },
  {
   "cell_type": "code",
   "execution_count": 22,
   "metadata": {},
   "outputs": [
    {
     "name": "stdout",
     "output_type": "stream",
     "text": [
      "London\n",
      "Paris\n",
      "Spain\n"
     ]
    }
   ],
   "source": [
    "# 2. The names of all the places.\n",
    "for i in soup.find_all(\"h2\"):\n",
    "    print(i.get_text())"
   ]
  },
  {
   "cell_type": "code",
   "execution_count": 23,
   "metadata": {},
   "outputs": [
    {
     "name": "stdout",
     "output_type": "stream",
     "text": [
      "\n",
      "London\n",
      "London is the most popular tourist destination in the world.\n",
      "\n",
      "\n",
      "Paris\n",
      "Paris was originally a Roman City called Lutetia.\n",
      "\n"
     ]
    }
   ],
   "source": [
    "# 3. All the content (name and fact) of all the cities (only cities, not countries!)\n",
    "for i in soup.find_all(\"div\", {\"class\":\"city\"}):\n",
    "    print(i.get_text())"
   ]
  },
  {
   "cell_type": "code",
   "execution_count": 24,
   "metadata": {},
   "outputs": [
    {
     "name": "stdout",
     "output_type": "stream",
     "text": [
      "London\n",
      "Paris\n"
     ]
    }
   ],
   "source": [
    "# 4. The names (not facts!) of all the cities (not countries!)\n",
    "for i in soup.find_all(\"div\", {\"class\":\"city\"}):\n",
    "    print(i.h2.get_text())"
   ]
  },
  {
   "cell_type": "markdown",
   "metadata": {},
   "source": [
    "## Use case: imdb top charts\n",
    "\n",
    "Let's go to https://www.imdb.com/chart/top, where we'll see the top 250 movies according to IMDb ratings.\n",
    "\n",
    "Notice how each movie has the following elements:\n",
    "\n",
    "- Title\n",
    "\n",
    "- Release Year\n",
    "\n",
    "- IMDb rating\n",
    "\n",
    "- Director & main stars (they appear when you hover over the title)\n",
    "\n",
    "Our objective is going to be to scrape this information and store it in a pandas dataframe.\n",
    "\n"
   ]
  },
  {
   "cell_type": "code",
   "execution_count": 25,
   "metadata": {},
   "outputs": [],
   "source": [
    "# 1. import libraries\n",
    "from bs4 import BeautifulSoup\n",
    "import requests\n",
    "import pandas as pd"
   ]
  },
  {
   "cell_type": "code",
   "execution_count": 33,
   "metadata": {},
   "outputs": [],
   "source": [
    "# 2. find url and store it in a variable\n",
    "url = \"https://www.imdb.com/chart/top\""
   ]
  },
  {
   "cell_type": "code",
   "execution_count": 34,
   "metadata": {},
   "outputs": [
    {
     "data": {
      "text/plain": [
       "200"
      ]
     },
     "execution_count": 34,
     "metadata": {},
     "output_type": "execute_result"
    }
   ],
   "source": [
    "# 3. download html with a get request\n",
    "response = requests.get(url)\n",
    "response.status_code # 200 status code means OK!"
   ]
  },
  {
   "cell_type": "code",
   "execution_count": 42,
   "metadata": {
    "tags": []
   },
   "outputs": [],
   "source": [
    "# 4.1. parse html (create the 'soup')\n",
    "soup = BeautifulSoup(response.content, \"html.parser\")\n",
    "# 4.2. check that the html code looks like it should\n",
    "# soup"
   ]
  },
  {
   "cell_type": "code",
   "execution_count": 44,
   "metadata": {},
   "outputs": [
    {
     "data": {
      "text/plain": [
       "'Cadena perpetua'"
      ]
     },
     "execution_count": 44,
     "metadata": {},
     "output_type": "execute_result"
    }
   ],
   "source": [
    "# 5. retrieve/extract the desired info (here, you'll paste the \"Selector\" you copied before to get the element that belongs to the top movie)\n",
    "\n",
    "soup.select(\"#main > div > span > div > div > div.lister > table > tbody > tr:nth-child(1) > td.titleColumn > a\")[0].get_text()"
   ]
  },
  {
   "cell_type": "markdown",
   "metadata": {},
   "source": [
    "This long selector we copied is kind of long and ugly, isn't it? And it only selects one single movie, while we will want to collect data from all of them. Going from that particular selector to one that's more \"general\" and \"elegant\" is the actual work the web scraper needs to do.\n",
    "\n",
    "In this case, we can play around a bit with different tags and classes, until we notice that all the information about the movies is under the tag <td class=\"titleColumn\">. We're lucky that under this tag there's not much \"trash\", just the info we need."
   ]
  },
  {
   "cell_type": "code",
   "execution_count": 1,
   "metadata": {
    "tags": []
   },
   "outputs": [],
   "source": [
    "#soup.select(\"td.titleColumn\") # all the info about all the movies"
   ]
  },
  {
   "cell_type": "code",
   "execution_count": 38,
   "metadata": {
    "tags": []
   },
   "outputs": [
    {
     "data": {
      "text/plain": [
       "[<a href=\"/title/tt0111161/\" title=\"Frank Darabont (dir.), Tim Robbins, Morgan Freeman\">Cadena perpetua</a>,\n",
       " <a href=\"/title/tt0068646/\" title=\"Francis Ford Coppola (dir.), Marlon Brando, Al Pacino\">El padrino</a>,\n",
       " <a href=\"/title/tt0071562/\" title=\"Francis Ford Coppola (dir.), Al Pacino, Robert De Niro\">El padrino: Parte II</a>,\n",
       " <a href=\"/title/tt0468569/\" title=\"Christopher Nolan (dir.), Christian Bale, Heath Ledger\">El caballero oscuro</a>,\n",
       " <a href=\"/title/tt0050083/\" title=\"Sidney Lumet (dir.), Henry Fonda, Lee J. Cobb\">12 hombres sin piedad</a>,\n",
       " <a href=\"/title/tt0108052/\" title=\"Steven Spielberg (dir.), Liam Neeson, Ralph Fiennes\">La lista de Schindler</a>,\n",
       " <a href=\"/title/tt0167260/\" title=\"Peter Jackson (dir.), Elijah Wood, Viggo Mortensen\">El señor de los anillos: El retorno del rey</a>,\n",
       " <a href=\"/title/tt0110912/\" title=\"Quentin Tarantino (dir.), John Travolta, Uma Thurman\">Pulp Fiction</a>,\n",
       " <a href=\"/title/tt0060196/\" title=\"Sergio Leone (dir.), Clint Eastwood, Eli Wallach\">El bueno, el feo y el malo</a>,\n",
       " <a href=\"/title/tt0120737/\" title=\"Peter Jackson (dir.), Elijah Wood, Ian McKellen\">El señor de los anillos: La comunidad del anillo</a>,\n",
       " <a href=\"/title/tt0137523/\" title=\"David Fincher (dir.), Brad Pitt, Edward Norton\">El club de la lucha</a>,\n",
       " <a href=\"/title/tt0109830/\" title=\"Robert Zemeckis (dir.), Tom Hanks, Robin Wright\">Forrest Gump</a>,\n",
       " <a href=\"/title/tt1375666/\" title=\"Christopher Nolan (dir.), Leonardo DiCaprio, Joseph Gordon-Levitt\">Origen</a>,\n",
       " <a href=\"/title/tt0167261/\" title=\"Peter Jackson (dir.), Elijah Wood, Ian McKellen\">El señor de los anillos: Las dos torres</a>,\n",
       " <a href=\"/title/tt0080684/\" title=\"Irvin Kershner (dir.), Mark Hamill, Harrison Ford\">El Imperio contraataca</a>,\n",
       " <a href=\"/title/tt0133093/\" title=\"Lana Wachowski (dir.), Keanu Reeves, Laurence Fishburne\">Matrix</a>,\n",
       " <a href=\"/title/tt0099685/\" title=\"Martin Scorsese (dir.), Robert De Niro, Ray Liotta\">Uno de los nuestros</a>,\n",
       " <a href=\"/title/tt0073486/\" title=\"Milos Forman (dir.), Jack Nicholson, Louise Fletcher\">Alguien voló sobre el nido del cuco</a>,\n",
       " <a href=\"/title/tt0047478/\" title=\"Akira Kurosawa (dir.), Toshirô Mifune, Takashi Shimura\">Los siete samuráis</a>,\n",
       " <a href=\"/title/tt0114369/\" title=\"David Fincher (dir.), Morgan Freeman, Brad Pitt\">Seven</a>,\n",
       " <a href=\"/title/tt0102926/\" title=\"Jonathan Demme (dir.), Jodie Foster, Anthony Hopkins\">El silencio de los corderos</a>,\n",
       " <a href=\"/title/tt0317248/\" title=\"Fernando Meirelles (dir.), Alexandre Rodrigues, Leandro Firmino\">Ciudad de Dios</a>,\n",
       " <a href=\"/title/tt0118799/\" title=\"Roberto Benigni (dir.), Roberto Benigni, Nicoletta Braschi\">La vida es bella</a>,\n",
       " <a href=\"/title/tt0038650/\" title=\"Frank Capra (dir.), James Stewart, Donna Reed\">¡Qué bello es vivir!</a>,\n",
       " <a href=\"/title/tt0076759/\" title=\"George Lucas (dir.), Mark Hamill, Harrison Ford\">La guerra de las galaxias</a>,\n",
       " <a href=\"/title/tt0120815/\" title=\"Steven Spielberg (dir.), Tom Hanks, Matt Damon\">Salvar al soldado Ryan</a>,\n",
       " <a href=\"/title/tt0816692/\" title=\"Christopher Nolan (dir.), Matthew McConaughey, Anne Hathaway\">Interstellar</a>,\n",
       " <a href=\"/title/tt0245429/\" title=\"Hayao Miyazaki (dir.), Daveigh Chase, Suzanne Pleshette\">El viaje de Chihiro</a>,\n",
       " <a href=\"/title/tt0120689/\" title=\"Frank Darabont (dir.), Tom Hanks, Michael Clarke Duncan\">La milla verde</a>,\n",
       " <a href=\"/title/tt6751668/\" title=\"Bong Joon Ho (dir.), Kang-ho Song, Sun-kyun Lee\">Parásitos</a>,\n",
       " <a href=\"/title/tt0110413/\" title=\"Luc Besson (dir.), Jean Reno, Gary Oldman\">El profesional (Léon)</a>,\n",
       " <a href=\"/title/tt0056058/\" title=\"Masaki Kobayashi (dir.), Tatsuya Nakadai, Akira Ishihama\">Harakiri</a>,\n",
       " <a href=\"/title/tt0253474/\" title=\"Roman Polanski (dir.), Adrien Brody, Thomas Kretschmann\">El pianista</a>,\n",
       " <a href=\"/title/tt0103064/\" title=\"James Cameron (dir.), Arnold Schwarzenegger, Linda Hamilton\">Terminator 2: El juicio final</a>,\n",
       " <a href=\"/title/tt0114814/\" title=\"Bryan Singer (dir.), Kevin Spacey, Gabriel Byrne\">Sospechosos habituales</a>,\n",
       " <a href=\"/title/tt0088763/\" title=\"Robert Zemeckis (dir.), Michael J. Fox, Christopher Lloyd\">Regreso al futuro</a>,\n",
       " <a href=\"/title/tt0054215/\" title=\"Alfred Hitchcock (dir.), Anthony Perkins, Janet Leigh\">Psicosis</a>,\n",
       " <a href=\"/title/tt0110357/\" title=\"Roger Allers (dir.), Matthew Broderick, Jeremy Irons\">El rey león</a>,\n",
       " <a href=\"/title/tt0027977/\" title=\"Charles Chaplin (dir.), Charles Chaplin, Paulette Goddard\">Tiempos modernos</a>,\n",
       " <a href=\"/title/tt0120586/\" title=\"Tony Kaye (dir.), Edward Norton, Edward Furlong\">American History X</a>,\n",
       " <a href=\"/title/tt0095327/\" title=\"Isao Takahata (dir.), Tsutomu Tatsumi, Ayano Shiraishi\">La tumba de las luciérnagas</a>,\n",
       " <a href=\"/title/tt0021749/\" title=\"Charles Chaplin (dir.), Charles Chaplin, Virginia Cherrill\">Luces de la ciudad</a>,\n",
       " <a href=\"/title/tt2582802/\" title=\"Damien Chazelle (dir.), Miles Teller, J.K. Simmons\">Whiplash</a>,\n",
       " <a href=\"/title/tt0172495/\" title=\"Ridley Scott (dir.), Russell Crowe, Joaquin Phoenix\">Gladiator (El gladiador)</a>,\n",
       " <a href=\"/title/tt0407887/\" title=\"Martin Scorsese (dir.), Leonardo DiCaprio, Matt Damon\">Infiltrados</a>,\n",
       " <a href=\"/title/tt1675434/\" title=\"Olivier Nakache (dir.), François Cluzet, Omar Sy\">Intocable</a>,\n",
       " <a href=\"/title/tt0482571/\" title=\"Christopher Nolan (dir.), Christian Bale, Hugh Jackman\">El truco final (El prestigio)</a>,\n",
       " <a href=\"/title/tt0034583/\" title=\"Michael Curtiz (dir.), Humphrey Bogart, Ingrid Bergman\">Casablanca</a>,\n",
       " <a href=\"/title/tt0064116/\" title=\"Sergio Leone (dir.), Henry Fonda, Charles Bronson\">Hasta que llegó su hora</a>,\n",
       " <a href=\"/title/tt0047396/\" title=\"Alfred Hitchcock (dir.), James Stewart, Grace Kelly\">La ventana indiscreta</a>,\n",
       " <a href=\"/title/tt0095765/\" title=\"Giuseppe Tornatore (dir.), Philippe Noiret, Enzo Cannavale\">Cinema Paradiso</a>,\n",
       " <a href=\"/title/tt0078748/\" title=\"Ridley Scott (dir.), Sigourney Weaver, Tom Skerritt\">Alien, el octavo pasajero</a>,\n",
       " <a href=\"/title/tt0078788/\" title=\"Francis Ford Coppola (dir.), Martin Sheen, Marlon Brando\">Apocalypse Now</a>,\n",
       " <a href=\"/title/tt0209144/\" title=\"Christopher Nolan (dir.), Guy Pearce, Carrie-Anne Moss\">Memento</a>,\n",
       " <a href=\"/title/tt0082971/\" title=\"Steven Spielberg (dir.), Harrison Ford, Karen Allen\">En busca del arca perdida</a>,\n",
       " <a href=\"/title/tt0032553/\" title=\"Charles Chaplin (dir.), Charles Chaplin, Paulette Goddard\">El gran dictador</a>,\n",
       " <a href=\"/title/tt0405094/\" title=\"Florian Henckel von Donnersmarck (dir.), Ulrich Mühe, Martina Gedeck\">La vida de los otros</a>,\n",
       " <a href=\"/title/tt1853728/\" title=\"Quentin Tarantino (dir.), Jamie Foxx, Christoph Waltz\">Django desencadenado</a>,\n",
       " <a href=\"/title/tt0050825/\" title=\"Stanley Kubrick (dir.), Kirk Douglas, Ralph Meeker\">Senderos de gloria</a>,\n",
       " <a href=\"/title/tt0043014/\" title=\"Billy Wilder (dir.), William Holden, Gloria Swanson\">El crepúsculo de los dioses</a>,\n",
       " <a href=\"/title/tt0910970/\" title=\"Andrew Stanton (dir.), Ben Burtt, Elissa Knight\">WALL·E</a>,\n",
       " <a href=\"/title/tt4154756/\" title=\"Anthony Russo (dir.), Robert Downey Jr., Chris Hemsworth\">Vengadores: Infinity War</a>,\n",
       " <a href=\"/title/tt0051201/\" title=\"Billy Wilder (dir.), Tyrone Power, Marlene Dietrich\">Testigo de cargo</a>,\n",
       " <a href=\"/title/tt0081505/\" title=\"Stanley Kubrick (dir.), Jack Nicholson, Shelley Duvall\">El resplandor</a>,\n",
       " <a href=\"/title/tt4633694/\" title=\"Bob Persichetti (dir.), Shameik Moore, Jake Johnson\">Spider-Man: Un nuevo universo</a>,\n",
       " <a href=\"/title/tt0057012/\" title=\"Stanley Kubrick (dir.), Peter Sellers, George C. Scott\">¿Teléfono rojo? Volamos hacia Moscú</a>,\n",
       " <a href=\"/title/tt0119698/\" title=\"Hayao Miyazaki (dir.), Yôji Matsuda, Yuriko Ishida\">La princesa Mononoke</a>,\n",
       " <a href=\"/title/tt7286456/\" title=\"Todd Phillips (dir.), Joaquin Phoenix, Robert De Niro\">Joker</a>,\n",
       " <a href=\"/title/tt0364569/\" title=\"Park Chan-Wook (dir.), Choi Min-sik, Yoo Ji-Tae\">Old Boy</a>,\n",
       " <a href=\"/title/tt5311514/\" title=\"Makoto Shinkai (dir.), Ryûnosuke Kamiki, Mone Kamishiraishi\">Your Name.</a>,\n",
       " <a href=\"/title/tt1345836/\" title=\"Christopher Nolan (dir.), Christian Bale, Tom Hardy\">El caballero oscuro: La leyenda renace</a>,\n",
       " <a href=\"/title/tt2380307/\" title=\"Lee Unkrich (dir.), Anthony Gonzalez, Gael García Bernal\">Coco</a>,\n",
       " <a href=\"/title/tt0090605/\" title=\"James Cameron (dir.), Sigourney Weaver, Michael Biehn\">Aliens: El regreso</a>,\n",
       " <a href=\"/title/tt0087843/\" title=\"Sergio Leone (dir.), Robert De Niro, James Woods\">Érase una vez en América</a>,\n",
       " <a href=\"/title/tt4154796/\" title=\"Anthony Russo (dir.), Robert Downey Jr., Chris Evans\">Vengadores: Endgame</a>,\n",
       " <a href=\"/title/tt8267604/\" title=\"Nadine Labaki (dir.), Zain Al Rafeea, Yordanos Shiferaw\">Cafarnaúm</a>,\n",
       " <a href=\"/title/tt0082096/\" title=\"Wolfgang Petersen (dir.), Jürgen Prochnow, Herbert Grönemeyer\">El submarino (Das Boot)</a>,\n",
       " <a href=\"/title/tt0057565/\" title=\"Akira Kurosawa (dir.), Toshirô Mifune, Yutaka Sada\">El infierno del odio</a>,\n",
       " <a href=\"/title/tt0169547/\" title=\"Sam Mendes (dir.), Kevin Spacey, Annette Bening\">American Beauty</a>,\n",
       " <a href=\"/title/tt0114709/\" title=\"John Lasseter (dir.), Tom Hanks, Tim Allen\">Toy Story</a>,\n",
       " <a href=\"/title/tt1187043/\" title=\"Rajkumar Hirani (dir.), Aamir Khan, Madhavan\">3 Idiots</a>,\n",
       " <a href=\"/title/tt0086879/\" title=\"Milos Forman (dir.), F. Murray Abraham, Tom Hulce\">Amadeus</a>,\n",
       " <a href=\"/title/tt0112573/\" title=\"Mel Gibson (dir.), Mel Gibson, Sophie Marceau\">Braveheart</a>,\n",
       " <a href=\"/title/tt8503618/\" title=\"Thomas Kail (dir.), Lin-Manuel Miranda, Phillipa Soo\">Hamilton</a>,\n",
       " <a href=\"/title/tt0361748/\" title=\"Quentin Tarantino (dir.), Brad Pitt, Diane Kruger\">Malditos bastardos</a>,\n",
       " <a href=\"/title/tt0119217/\" title=\"Gus Van Sant (dir.), Robin Williams, Matt Damon\">El indomable Will Hunting</a>,\n",
       " <a href=\"/title/tt0086190/\" title=\"Richard Marquand (dir.), Mark Hamill, Harrison Ford\">El retorno del jedi</a>,\n",
       " <a href=\"/title/tt0062622/\" title=\"Stanley Kubrick (dir.), Keir Dullea, Gary Lockwood\">2001: Una odisea del espacio</a>,\n",
       " <a href=\"/title/tt0105236/\" title=\"Quentin Tarantino (dir.), Harvey Keitel, Tim Roth\">Reservoir Dogs</a>,\n",
       " <a href=\"/title/tt0022100/\" title=\"Fritz Lang (dir.), Peter Lorre, Ellen Widmann\">M, el vampiro de Düsseldorf</a>,\n",
       " <a href=\"/title/tt0052357/\" title=\"Alfred Hitchcock (dir.), James Stewart, Kim Novak\">Vértigo (De entre los muertos)</a>,\n",
       " <a href=\"/title/tt0986264/\" title=\"Aamir Khan (dir.), Darsheel Safary, Aamir Khan\">Taare Zameen Par</a>,\n",
       " <a href=\"/title/tt0091251/\" title=\"Elem Klimov (dir.), Aleksey Kravchenko, Olga Mironova\">Masacre (Ven y mira)</a>,\n",
       " <a href=\"/title/tt0033467/\" title=\"Orson Welles (dir.), Orson Welles, Joseph Cotten\">Ciudadano Kane</a>,\n",
       " <a href=\"/title/tt2106476/\" title=\"Thomas Vinterberg (dir.), Mads Mikkelsen, Thomas Bo Larsen\">La caza</a>,\n",
       " <a href=\"/title/tt0180093/\" title=\"Darren Aronofsky (dir.), Ellen Burstyn, Jared Leto\">Réquiem por un sueño</a>,\n",
       " <a href=\"/title/tt0045152/\" title=\"Stanley Donen (dir.), Gene Kelly, Donald O'Connor\">Cantando bajo la lluvia</a>,\n",
       " <a href=\"/title/tt0053125/\" title=\"Alfred Hitchcock (dir.), Cary Grant, Eva Marie Saint\">Con la muerte en los talones</a>,\n",
       " <a href=\"/title/tt0338013/\" title=\"Michel Gondry (dir.), Jim Carrey, Kate Winslet\">¡Olvídate de mí!</a>,\n",
       " <a href=\"/title/tt0040522/\" title=\"Vittorio De Sica (dir.), Lamberto Maggiorani, Enzo Staiola\">Ladrón de bicicletas</a>,\n",
       " <a href=\"/title/tt0044741/\" title=\"Akira Kurosawa (dir.), Takashi Shimura, Nobuo Kaneko\">Ikiru (Vivir)</a>,\n",
       " <a href=\"/title/tt0056172/\" title=\"David Lean (dir.), Peter O'Toole, Alec Guinness\">Lawrence de Arabia</a>,\n",
       " <a href=\"/title/tt0012349/\" title=\"Charles Chaplin (dir.), Charles Chaplin, Edna Purviance\">El chico</a>,\n",
       " <a href=\"/title/tt0093058/\" title=\"Stanley Kubrick (dir.), Matthew Modine, R. Lee Ermey\">La chaqueta metálica</a>,\n",
       " <a href=\"/title/tt5074352/\" title=\"Nitesh Tiwari (dir.), Aamir Khan, Sakshi Tanwar\">Dangal</a>,\n",
       " <a href=\"/title/tt10272386/\" title=\"Florian Zeller (dir.), Anthony Hopkins, Olivia Colman\">El padre</a>,\n",
       " <a href=\"/title/tt0053604/\" title=\"Billy Wilder (dir.), Jack Lemmon, Shirley MacLaine\">El apartamento</a>,\n",
       " <a href=\"/title/tt1255953/\" title=\"Denis Villeneuve (dir.), Lubna Azabal, Mélissa Désormeaux-Poulin\">Incendios</a>,\n",
       " <a href=\"/title/tt0048473/\" title=\"Satyajit Ray (dir.), Kanu Bannerjee, Karuna Bannerjee\">Pather Panchali (La canción del camino)</a>,\n",
       " <a href=\"/title/tt0066921/\" title=\"Stanley Kubrick (dir.), Malcolm McDowell, Patrick Magee\">La naranja mecánica</a>,\n",
       " <a href=\"/title/tt0017136/\" title=\"Fritz Lang (dir.), Brigitte Helm, Alfred Abel\">Metrópolis</a>,\n",
       " <a href=\"/title/tt0075314/\" title=\"Martin Scorsese (dir.), Robert De Niro, Jodie Foster\">Taxi Driver</a>,\n",
       " <a href=\"/title/tt0036775/\" title=\"Billy Wilder (dir.), Fred MacMurray, Barbara Stanwyck\">Perdición</a>,\n",
       " <a href=\"/title/tt15097216/\" title=\"T.J. Gnanavel (dir.), Suriya, Lijo Mol Jose\">Jai Bhim</a>,\n",
       " <a href=\"/title/tt1832382/\" title=\"Asghar Farhadi (dir.), Payman Maadi, Leila Hatami\">Nader y Simin, una separación</a>,\n",
       " <a href=\"/title/tt0070735/\" title=\"George Roy Hill (dir.), Paul Newman, Robert Redford\">El golpe</a>,\n",
       " <a href=\"/title/tt0086250/\" title=\"Brian De Palma (dir.), Al Pacino, Michelle Pfeiffer\">El precio del poder</a>,\n",
       " <a href=\"/title/tt0208092/\" title=\"Guy Ritchie (dir.), Jason Statham, Brad Pitt\">Snatch: Cerdos y diamantes</a>,\n",
       " <a href=\"/title/tt8579674/\" title=\"Sam Mendes (dir.), Dean-Charles Chapman, George MacKay\">1917</a>,\n",
       " <a href=\"/title/tt0211915/\" title=\"Jean-Pierre Jeunet (dir.), Audrey Tautou, Mathieu Kassovitz\">Amelie</a>,\n",
       " <a href=\"/title/tt0056592/\" title=\"Robert Mulligan (dir.), Gregory Peck, John Megna\">Matar un ruiseñor</a>,\n",
       " <a href=\"/title/tt0435761/\" title=\"Lee Unkrich (dir.), Tom Hanks, Tim Allen\">Toy Story 3</a>,\n",
       " <a href=\"/title/tt0059578/\" title=\"Sergio Leone (dir.), Clint Eastwood, Lee Van Cleef\">La muerte tenía un precio</a>,\n",
       " <a href=\"/title/tt1049413/\" title=\"Pete Docter (dir.), Ed Asner, Jordan Nagai\">Up</a>,\n",
       " <a href=\"/title/tt0097576/\" title=\"Steven Spielberg (dir.), Harrison Ford, Sean Connery\">Indiana Jones y la última cruzada</a>,\n",
       " <a href=\"/title/tt0113277/\" title=\"Michael Mann (dir.), Al Pacino, Robert De Niro\">Heat</a>,\n",
       " <a href=\"/title/tt0119488/\" title=\"Curtis Hanson (dir.), Kevin Spacey, Russell Crowe\">L.A. Confidential</a>,\n",
       " <a href=\"/title/tt0055630/\" title=\"Akira Kurosawa (dir.), Toshirô Mifune, Eijirô Tôno\">Yojimbo</a>,\n",
       " <a href=\"/title/tt0089881/\" title=\"Akira Kurosawa (dir.), Tatsuya Nakadai, Akira Terao\">Ran</a>,\n",
       " <a href=\"/title/tt0095016/\" title=\"John McTiernan (dir.), Bruce Willis, Alan Rickman\">Jungla de cristal</a>,\n",
       " <a href=\"/title/tt0042876/\" title=\"Akira Kurosawa (dir.), Toshirô Mifune, Machiko Kyô\">Rashomon</a>,\n",
       " <a href=\"/title/tt6966692/\" title=\"Peter Farrelly (dir.), Viggo Mortensen, Mahershala Ali\">Green Book</a>,\n",
       " <a href=\"/title/tt0363163/\" title=\"Oliver Hirschbiegel (dir.), Bruno Ganz, Alexandra Maria Lara\">El hundimiento</a>,\n",
       " <a href=\"/title/tt0071853/\" title=\"Terry Gilliam (dir.), Graham Chapman, John Cleese\">Los caballeros de la mesa cuadrada y sus locos seguidores</a>,\n",
       " <a href=\"/title/tt0042192/\" title=\"Joseph L. Mankiewicz (dir.), Bette Davis, Anne Baxter\">Eva al desnudo</a>,\n",
       " <a href=\"/title/tt0053291/\" title=\"Billy Wilder (dir.), Marilyn Monroe, Tony Curtis\">Con faldas y a lo loco</a>,\n",
       " <a href=\"/title/tt0372784/\" title=\"Christopher Nolan (dir.), Christian Bale, Michael Caine\">Batman Begins</a>,\n",
       " <a href=\"/title/tt0105695/\" title=\"Clint Eastwood (dir.), Clint Eastwood, Gene Hackman\">Sin perdón</a>,\n",
       " <a href=\"/title/tt0118849/\" title=\"Majid Majidi (dir.), Mohammad Amir Naji, Amir Farrokh Hashemian\">Children of Heaven</a>,\n",
       " <a href=\"/title/tt0347149/\" title=\"Hayao Miyazaki (dir.), Chieko Baishô, Takuya Kimura\">El castillo ambulante</a>,\n",
       " <a href=\"/title/tt0993846/\" title=\"Martin Scorsese (dir.), Leonardo DiCaprio, Jonah Hill\">El lobo de Wall Street</a>,\n",
       " <a href=\"/title/tt0055031/\" title=\"Stanley Kramer (dir.), Spencer Tracy, Burt Lancaster\">Vencedores o vencidos</a>,\n",
       " <a href=\"/title/tt0057115/\" title=\"John Sturges (dir.), Steve McQueen, James Garner\">La gran evasión</a>,\n",
       " <a href=\"/title/tt0112641/\" title=\"Martin Scorsese (dir.), Robert De Niro, Sharon Stone\">Casino</a>,\n",
       " <a href=\"/title/tt0469494/\" title=\"Paul Thomas Anderson (dir.), Daniel Day-Lewis, Paul Dano\">Pozos de ambición</a>,\n",
       " <a href=\"/title/tt0040897/\" title=\"John Huston (dir.), Humphrey Bogart, Walter Huston\">El tesoro de Sierra Madre</a>,\n",
       " <a href=\"/title/tt0457430/\" title=\"Guillermo del Toro (dir.), Ivana Baquero, Ariadna Gil\">El laberinto del fauno</a>,\n",
       " <a href=\"/title/tt0268978/\" title=\"Ron Howard (dir.), Russell Crowe, Ed Harris\">Una mente maravillosa</a>,\n",
       " <a href=\"/title/tt1305806/\" title=\"Juan José Campanella (dir.), Ricardo Darín, Soledad Villamil\">El secreto de sus ojos</a>,\n",
       " <a href=\"/title/tt0071411/\" title=\"Akira Kurosawa (dir.), Maksim Munzuk, Yuriy Solomin\">Dersu Uzala (El cazador)</a>,\n",
       " <a href=\"/title/tt1160419/\" title=\"Denis Villeneuve (dir.), Timothée Chalamet, Rebecca Ferguson\">Dune</a>,\n",
       " <a href=\"/title/tt0081398/\" title=\"Martin Scorsese (dir.), Robert De Niro, Cathy Moriarty\">Toro salvaje</a>,\n",
       " <a href=\"/title/tt0071315/\" title=\"Roman Polanski (dir.), Jack Nicholson, Faye Dunaway\">Chinatown</a>,\n",
       " <a href=\"/title/tt0096283/\" title=\"Hayao Miyazaki (dir.), Hitoshi Takagi, Noriko Hidaka\">Mi vecino Totoro</a>,\n",
       " <a href=\"/title/tt0120735/\" title=\"Guy Ritchie (dir.), Jason Flemyng, Dexter Fletcher\">Lock &amp; Stock</a>,\n",
       " <a href=\"/title/tt1130884/\" title=\"Martin Scorsese (dir.), Leonardo DiCaprio, Emily Mortimer\">Shutter Island</a>,\n",
       " <a href=\"/title/tt0015864/\" title=\"Charles Chaplin (dir.), Charles Chaplin, Mack Swain\">La quimera del oro</a>,\n",
       " <a href=\"/title/tt0477348/\" title=\"Ethan Coen (dir.), Tommy Lee Jones, Javier Bardem\">No es país para viejos</a>,\n",
       " <a href=\"/title/tt0046912/\" title=\"Alfred Hitchcock (dir.), Ray Milland, Grace Kelly\">Crimen perfecto</a>,\n",
       " <a href=\"/title/tt0050976/\" title=\"Ingmar Bergman (dir.), Max von Sydow, Gunnar Björnstrand\">El séptimo sello</a>,\n",
       " <a href=\"/title/tt5027774/\" title=\"Martin McDonagh (dir.), Frances McDormand, Woody Harrelson\">Tres anuncios en las afueras</a>,\n",
       " <a href=\"/title/tt0084787/\" title=\"John Carpenter (dir.), Kurt Russell, Wilford Brimley\">La cosa</a>,\n",
       " <a href=\"/title/tt0080678/\" title=\"David Lynch (dir.), Anthony Hopkins, John Hurt\">El hombre elefante</a>,\n",
       " <a href=\"/title/tt0167404/\" title=\"M. Night Shyamalan (dir.), Bruce Willis, Haley Joel Osment\">El sexto sentido</a>,\n",
       " <a href=\"/title/tt4729430/\" title=\"Sergio Pablos (dir.), Jason Schwartzman, J.K. Simmons\">Klaus</a>,\n",
       " <a href=\"/title/tt0050986/\" title=\"Ingmar Bergman (dir.), Victor Sjöström, Bibi Andersson\">Fresas salvajes</a>,\n",
       " <a href=\"/title/tt0041959/\" title=\"Carol Reed (dir.), Orson Welles, Joseph Cotten\">El tercer hombre</a>,\n",
       " <a href=\"/title/tt0120382/\" title=\"Peter Weir (dir.), Jim Carrey, Ed Harris\">El show de Truman</a>,\n",
       " <a href=\"/title/tt0107290/\" title=\"Steven Spielberg (dir.), Sam Neill, Laura Dern\">Jurassic Park (Parque Jurásico)</a>,\n",
       " <a href=\"/title/tt0434409/\" title=\"James McTeigue (dir.), Hugo Weaving, Natalie Portman\">V de Vendetta</a>,\n",
       " <a href=\"/title/tt0353969/\" title=\"Bong Joon Ho (dir.), Kang-ho Song, Kim Sang-kyung\">Memories of Murder (Crónica de un asesino en serie)</a>,\n",
       " <a href=\"/title/tt0083658/\" title=\"Ridley Scott (dir.), Harrison Ford, Rutger Hauer\">Blade Runner</a>,\n",
       " <a href=\"/title/tt2096673/\" title=\"Pete Docter (dir.), Amy Poehler, Bill Hader\">Del revés (Inside Out)</a>,\n",
       " <a href=\"/title/tt0117951/\" title=\"Danny Boyle (dir.), Ewan McGregor, Ewen Bremner\">Trainspotting</a>,\n",
       " <a href=\"/title/tt0050212/\" title=\"David Lean (dir.), William Holden, Alec Guinness\">El puente sobre el río Kwai</a>,\n",
       " <a href=\"/title/tt0116282/\" title=\"Joel Coen (dir.), William H. Macy, Frances McDormand\">Fargo</a>,\n",
       " <a href=\"/title/tt1291584/\" title=\"Gavin O'Connor (dir.), Tom Hardy, Nick Nolte\">Warrior</a>,\n",
       " <a href=\"/title/tt0266543/\" title=\"Andrew Stanton (dir.), Albert Brooks, Ellen DeGeneres\">Buscando a Nemo</a>,\n",
       " <a href=\"/title/tt0266697/\" title=\"Quentin Tarantino (dir.), Uma Thurman, David Carradine\">Kill Bill: Volumen 1</a>,\n",
       " <a href=\"/title/tt0031381/\" title=\"Victor Fleming (dir.), Clark Gable, Vivien Leigh\">Lo que el viento se llevó</a>,\n",
       " <a href=\"/title/tt0046438/\" title=\"Yasujirô Ozu (dir.), Chishû Ryû, Chieko Higashiyama\">Cuentos de Tokio</a>,\n",
       " <a href=\"/title/tt0047296/\" title=\"Elia Kazan (dir.), Marlon Brando, Karl Malden\">La ley del silencio</a>,\n",
       " <a href=\"/title/tt0476735/\" title=\"Cagan Irmak (dir.), Eser Sariyar, Çetin Tekindor\">Mi padre y mi hijo</a>,\n",
       " <a href=\"/title/tt0079944/\" title=\"Andrei Tarkovsky (dir.), Alisa Freyndlikh, Aleksandr Kaydanovskiy\">Stalker</a>,\n",
       " <a href=\"/title/tt3011894/\" title=\"Damián Szifron (dir.), Darío Grandinetti, María Marull\">Relatos salvajes</a>,\n",
       " <a href=\"/title/tt0065234/\" title=\"Costa-Gavras (dir.), Yves Montand, Irene Papas\">Z</a>,\n",
       " <a href=\"/title/tt0077416/\" title=\"Michael Cimino (dir.), Robert De Niro, Christopher Walken\">El cazador</a>,\n",
       " <a href=\"/title/tt0015324/\" title=\"Buster Keaton (dir.), Buster Keaton, Kathryn McGuire\">El moderno Sherlock Holmes</a>,\n",
       " <a href=\"/title/tt1205489/\" title=\"Clint Eastwood (dir.), Clint Eastwood, Bee Vang\">Gran Torino</a>,\n",
       " <a href=\"/title/tt0060827/\" title=\"Ingmar Bergman (dir.), Bibi Andersson, Liv Ullmann\">Persona</a>,\n",
       " <a href=\"/title/tt0017925/\" title=\"Clyde Bruckman (dir.), Buster Keaton, Marion Mack\">El maquinista de La General</a>,\n",
       " <a href=\"/title/tt1392214/\" title=\"Denis Villeneuve (dir.), Hugh Jackman, Jake Gyllenhaal\">Prisioneros</a>,\n",
       " <a href=\"/title/tt2278388/\" title=\"Wes Anderson (dir.), Ralph Fiennes, F. Murray Abraham\">El gran hotel Budapest</a>,\n",
       " <a href=\"/title/tt0112471/\" title=\"Richard Linklater (dir.), Ethan Hawke, Julie Delpy\">Antes de amanecer</a>,\n",
       " <a href=\"/title/tt0978762/\" title=\"Adam Elliot (dir.), Toni Collette, Philip Seymour Hoffman\">Mary and Max</a>,\n",
       " <a href=\"/title/tt0031679/\" title=\"Frank Capra (dir.), James Stewart, Jean Arthur\">Caballero sin espada</a>,\n",
       " <a href=\"/title/tt0264464/\" title=\"Steven Spielberg (dir.), Leonardo DiCaprio, Tom Hanks\">Atrápame si puedes</a>,\n",
       " <a href=\"/title/tt0107207/\" title=\"Jim Sheridan (dir.), Daniel Day-Lewis, Pete Postlethwaite\">En el nombre del padre</a>,\n",
       " <a href=\"/title/tt3170832/\" title=\"Lenny Abrahamson (dir.), Brie Larson, Jacob Tremblay\">La habitación</a>,\n",
       " <a href=\"/title/tt0072684/\" title=\"Stanley Kubrick (dir.), Ryan O'Neal, Marisa Berenson\">Barry Lyndon</a>,\n",
       " <a href=\"/title/tt2267998/\" title=\"David Fincher (dir.), Ben Affleck, Rosamund Pike\">Perdida</a>,\n",
       " <a href=\"/title/tt2119532/\" title=\"Mel Gibson (dir.), Andrew Garfield, Sam Worthington\">Hasta el último hombre</a>,\n",
       " <a href=\"/title/tt0019254/\" title=\"Carl Theodor Dreyer (dir.), Maria Falconetti, Eugene Silvain\">La pasión de Juana de Arco</a>,\n",
       " <a href=\"/title/tt8108198/\" title=\"Sriram Raghavan (dir.), Ayushmann Khurrana, Tabu\">Andhadhun</a>,\n",
       " <a href=\"/title/tt1950186/\" title=\"James Mangold (dir.), Matt Damon, Christian Bale\">Le Mans '66</a>,\n",
       " <a href=\"/title/tt2024544/\" title=\"Steve McQueen (dir.), Chiwetel Ejiofor, Michael Kenneth Williams\">12 años de esclavitud</a>,\n",
       " <a href=\"/title/tt0035446/\" title=\"Ernst Lubitsch (dir.), Carole Lombard, Jack Benny\">Ser o no ser</a>,\n",
       " <a href=\"/title/tt0118715/\" title=\"Joel Coen (dir.), Jeff Bridges, John Goodman\">El gran Lebowski</a>,\n",
       " <a href=\"/title/tt0077711/\" title=\"Ingmar Bergman (dir.), Ingrid Bergman, Liv Ullmann\">Sonata de otoño</a>,\n",
       " <a href=\"/title/tt0892769/\" title=\"Dean DeBlois (dir.), Jay Baruchel, Gerard Butler\">Cómo entrenar a tu dragón</a>,\n",
       " <a href=\"/title/tt0097165/\" title=\"Peter Weir (dir.), Robin Williams, Robert Sean Leonard\">El club de los poetas muertos</a>,\n",
       " <a href=\"/title/tt1392190/\" title=\"George Miller (dir.), Tom Hardy, Charlize Theron\">Mad Max: Furia en la carretera</a>,\n",
       " <a href=\"/title/tt0052618/\" title=\"William Wyler (dir.), Charlton Heston, Jack Hawkins\">Ben-Hur</a>,\n",
       " <a href=\"/title/tt1201607/\" title=\"David Yates (dir.), Daniel Radcliffe, Emma Watson\">Harry Potter y las Reliquias de la Muerte - Parte 2</a>,\n",
       " <a href=\"/title/tt0405159/\" title=\"Clint Eastwood (dir.), Hilary Swank, Clint Eastwood\">Million Dollar Baby</a>,\n",
       " <a href=\"/title/tt0046268/\" title=\"Henri-Georges Clouzot (dir.), Yves Montand, Charles Vanel\">El salario del miedo</a>,\n",
       " <a href=\"/title/tt4016934/\" title=\"Park Chan-Wook (dir.), Kim Min-hee, Ha Jung-woo\">La doncella</a>,\n",
       " <a href=\"/title/tt0092005/\" title=\"Rob Reiner (dir.), Wil Wheaton, River Phoenix\">Cuenta conmigo</a>,\n",
       " <a href=\"/title/tt0074958/\" title=\"Sidney Lumet (dir.), Faye Dunaway, William Holden\">Network, un mundo implacable</a>,\n",
       " <a href=\"/title/tt3315342/\" title=\"James Mangold (dir.), Hugh Jackman, Patrick Stewart\">Logan</a>,\n",
       " <a href=\"/title/tt0061512/\" title=\"Stuart Rosenberg (dir.), Paul Newman, George Kennedy\">La leyenda del indomable</a>,\n",
       " <a href=\"/title/tt1028532/\" title=\"Lasse Hallström (dir.), Richard Gere, Joan Allen\">Siempre a tu lado (Hachiko)</a>,\n",
       " <a href=\"/title/tt1954470/\" title=\"Anurag Kashyap (dir.), Manoj Bajpayee, Richa Chadha\">Gangs of Wasseypur</a>,\n",
       " <a href=\"/title/tt0053198/\" title=\"François Truffaut (dir.), Jean-Pierre Léaud, Albert Rémy\">Los cuatrocientos golpes</a>,\n",
       " <a href=\"/title/tt0113247/\" title=\"Mathieu Kassovitz (dir.), Vincent Cassel, Hubert Koundé\">El odio</a>,\n",
       " <a href=\"/title/tt0091763/\" title=\"Oliver Stone (dir.), Charlie Sheen, Tom Berenger\">Platoon</a>,\n",
       " <a href=\"/title/tt1895587/\" title=\"Tom McCarthy (dir.), Mark Ruffalo, Michael Keaton\">Spotlight</a>,\n",
       " <a href=\"/title/tt5323662/\" title=\"Naoko Yamada (dir.), Miyu Irino, Saori Hayami\">A Silent Voice</a>,\n",
       " <a href=\"/title/tt0032976/\" title=\"Alfred Hitchcock (dir.), Laurence Olivier, Joan Fontaine\">Rebeca</a>,\n",
       " <a href=\"/title/tt0198781/\" title=\"Pete Docter (dir.), Billy Crystal, John Goodman\">Monstruos, S.A.</a>,\n",
       " <a href=\"/title/tt0079470/\" title=\"Terry Jones (dir.), Graham Chapman, John Cleese\">La vida de Brian</a>,\n",
       " <a href=\"/title/tt0116231/\" title=\"Yavuz Turgul (dir.), Sener Sen, Ugur Yücel\">Eskiya</a>,\n",
       " <a href=\"/title/tt0395169/\" title=\"Terry George (dir.), Don Cheadle, Sophie Okonedo\">Hotel Rwanda</a>,\n",
       " <a href=\"/title/tt0118694/\" title=\"Kar-Wai Wong (dir.), Tony Chiu-Wai Leung, Maggie Cheung\">Deseando amar</a>,\n",
       " <a href=\"/title/tt1979320/\" title=\"Ron Howard (dir.), Daniel Brühl, Chris Hemsworth\">Rush</a>,\n",
       " <a href=\"/title/tt0758758/\" title=\"Sean Penn (dir.), Emile Hirsch, Vince Vaughn\">Hacia rutas salvajes</a>,\n",
       " <a href=\"/title/tt0245712/\" title=\"Alejandro G. Iñárritu (dir.), Emilio Echevarría, Gael García Bernal\">Amores perros</a>,\n",
       " <a href=\"/title/tt0075148/\" title=\"John G. Avildsen (dir.), Sylvester Stallone, Talia Shire\">Rocky</a>,\n",
       " <a href=\"/title/tt0087544/\" title=\"Hayao Miyazaki (dir.), Sumi Shimamoto, Mahito Tsujimura\">Nausicaä del Valle del Viento</a>,\n",
       " <a href=\"/title/tt0025316/\" title=\"Frank Capra (dir.), Clark Gable, Claudette Colbert\">Sucedió una noche</a>,\n",
       " <a href=\"/title/tt0060107/\" title=\"Andrei Tarkovsky (dir.), Anatoliy Solonitsyn, Ivan Lapikov\">Andrei Rublev</a>,\n",
       " <a href=\"/title/tt0381681/\" title=\"Richard Linklater (dir.), Ethan Hawke, Julie Delpy\">Antes del atardecer</a>,\n",
       " <a href=\"/title/tt0083922/\" title=\"Ingmar Bergman (dir.), Bertil Guve, Pernilla Allwin\">Fanny y Alexander</a>,\n",
       " <a href=\"/title/tt0058946/\" title=\"Gillo Pontecorvo (dir.), Brahim Hadjadj, Jean Martin\">La batalla de Argel</a>,\n",
       " <a href=\"/title/tt0169858/\" title=\"Hideaki Anno (dir.), Megumi Ogata, Megumi Hayashibara\">Neon Genesis Evangelion: The End of Evangelion</a>,\n",
       " <a href=\"/title/tt0093779/\" title=\"Rob Reiner (dir.), Cary Elwes, Mandy Patinkin\">La princesa prometida</a>,\n",
       " <a href=\"/title/tt0050783/\" title=\"Federico Fellini (dir.), Giulietta Masina, François Périer\">Las noches de Cabiria</a>,\n",
       " <a href=\"/title/tt0087884/\" title=\"Wim Wenders (dir.), Harry Dean Stanton, Nastassja Kinski\">Paris, Texas</a>,\n",
       " <a href=\"/title/tt0111495/\" title=\"Krzysztof Kieslowski (dir.), Irène Jacob, Jean-Louis Trintignant\">Tres colores: Rojo</a>,\n",
       " <a href=\"/title/tt2991224/\" title=\"Zaza Urushadze (dir.), Lembit Ulfsak, Elmo Nüganen\">Mandarinas</a>]"
      ]
     },
     "execution_count": 38,
     "metadata": {},
     "output_type": "execute_result"
    }
   ],
   "source": [
    "soup.select(\"td.titleColumn a\") # all elements containing movie titles"
   ]
  },
  {
   "cell_type": "code",
   "execution_count": 39,
   "metadata": {},
   "outputs": [
    {
     "data": {
      "text/plain": [
       "'Cadena perpetua'"
      ]
     },
     "execution_count": 39,
     "metadata": {},
     "output_type": "execute_result"
    }
   ],
   "source": [
    "# we can use .get_text() to extract the content of the tags we selected\n",
    "# we'll need to do it to each tag with a for loop: here we do it to the first one\n",
    "soup.select(\"td.titleColumn a\")[0]\n",
    "soup.select(\"td.titleColumn a\")[0].get_text()"
   ]
  },
  {
   "cell_type": "code",
   "execution_count": 40,
   "metadata": {},
   "outputs": [
    {
     "data": {
      "text/plain": [
       "'Frank Darabont (dir.), Tim Robbins, Morgan Freeman'"
      ]
     },
     "execution_count": 40,
     "metadata": {},
     "output_type": "execute_result"
    }
   ],
   "source": [
    "# the director and main stars are in the same tag, but as a value of the attribute \"title\"\n",
    "# we can access attributes as key-value pairs of dictionaries: using [\"key\"] to get the value:\n",
    "soup.select(\"td.titleColumn a\")[0][\"title\"] \n",
    "\n",
    "# instead of [\"title\"] we could use .get(\"title\"): choose whatever you prefer"
   ]
  },
  {
   "cell_type": "code",
   "execution_count": 41,
   "metadata": {},
   "outputs": [
    {
     "data": {
      "text/plain": [
       "'(1994)'"
      ]
     },
     "execution_count": 41,
     "metadata": {},
     "output_type": "execute_result"
    }
   ],
   "source": [
    "# the years are inside a 'span' tag with the 'secondaryInfo' class\n",
    "# we also specify the parent tag and its class, which is the same we used before\n",
    "# the years are inside parentheses, but we'll take care of that later\n",
    "soup.select(\"td.titleColumn span.secondaryInfo\")[0].get_text()"
   ]
  },
  {
   "cell_type": "markdown",
   "metadata": {},
   "source": [
    "#### Building the dataframe"
   ]
  },
  {
   "cell_type": "code",
   "execution_count": 92,
   "metadata": {},
   "outputs": [],
   "source": [
    "#initialize empty lists\n",
    "title = []\n",
    "dir_stars = []\n",
    "year = []"
   ]
  },
  {
   "cell_type": "code",
   "execution_count": 93,
   "metadata": {},
   "outputs": [],
   "source": [
    "# define the number of iterations of our for loop \n",
    "# by checking how many elements are in the retrieved result set\n",
    "# (this is equivalent but more robust than just explicitly defining 250 iterations)\n",
    "num_iter = len(soup.select(\"td.titleColumn a\"))"
   ]
  },
  {
   "cell_type": "code",
   "execution_count": 94,
   "metadata": {},
   "outputs": [],
   "source": [
    "# iterate through the result set and retrive all the data\n",
    "for i in range(num_iter):\n",
    "    title.append(soup.select(\"td.titleColumn a\")[i].get_text())\n",
    "    dir_stars.append(soup.select(\"td.titleColumn a\")[i][\"title\"])\n",
    "    year.append(soup.select(\"td.titleColumn span.secondaryInfo\")[i].get_text())"
   ]
  },
  {
   "cell_type": "code",
   "execution_count": null,
   "metadata": {},
   "outputs": [],
   "source": [
    "print(title)"
   ]
  },
  {
   "cell_type": "code",
   "execution_count": null,
   "metadata": {},
   "outputs": [],
   "source": [
    "print(dir_stars)"
   ]
  },
  {
   "cell_type": "code",
   "execution_count": null,
   "metadata": {},
   "outputs": [],
   "source": [
    "print(year)"
   ]
  },
  {
   "cell_type": "code",
   "execution_count": null,
   "metadata": {},
   "outputs": [],
   "source": [
    "# each list becomes a column\n",
    "movies = pd.DataFrame({\"title\":title,\n",
    "                       \"dir_stars\":dir_stars,\n",
    "                       \"year\":year\n",
    "                      })\n",
    "\n",
    "movies.head()"
   ]
  },
  {
   "cell_type": "markdown",
   "metadata": {},
   "source": [
    "#### Cleaning the data\n",
    "\n",
    "An inherent part of web scraping is data cleaning. We managed to get the information we needed, but for it to be useful, we still need some extra steps:\n",
    "\n",
    "- Take the year out of the parentheses: we know we can totally do that with regex, but string methods such as str.replace() might be simpler to use.\n",
    "\n",
    "- Change the data type of the year column to integer.\n",
    "\n",
    "- Split dir_stars into 3 columns, one for each person: \"director\", \"star_1\", \"star_2\". This could have been done by filtering when extracting the data from the html document, but it looks easier afterwards:\n",
    "\n",
    "    - The \"(dir.)\" pattern can be totally removed\n",
    "    - We can split the string at each comma"
   ]
  },
  {
   "cell_type": "code",
   "execution_count": null,
   "metadata": {},
   "outputs": [],
   "source": [
    "director = []\n",
    "star_1 = []\n",
    "star_2 = []\n",
    "\n",
    "for movie in dir_stars:\n",
    "    crew = movie.split(\",\")\n",
    "    director.append(crew[0].replace(\" (dir.)\", \"\"))\n",
    "    star_1.append(crew[1])\n",
    "    star_2.append(crew[2])\n",
    "\n",
    "# each list becomes a column\n",
    "movies = pd.DataFrame({\"title\":title,\n",
    "                       \"director\":director,\n",
    "                       \"star_1\":star_1,\n",
    "                       \"star_2\":star_2\n",
    "                      })\n",
    "\n",
    "movies.head()"
   ]
  }
 ],
 "metadata": {
  "kernelspec": {
   "display_name": "Python 3",
   "language": "python",
   "name": "python3"
  },
  "language_info": {
   "codemirror_mode": {
    "name": "ipython",
    "version": 3
   },
   "file_extension": ".py",
   "mimetype": "text/x-python",
   "name": "python",
   "nbconvert_exporter": "python",
   "pygments_lexer": "ipython3",
   "version": "3.8.8"
  },
  "toc": {
   "base_numbering": 1,
   "nav_menu": {},
   "number_sections": true,
   "sideBar": true,
   "skip_h1_title": false,
   "title_cell": "Table of Contents",
   "title_sidebar": "Contents",
   "toc_cell": false,
   "toc_position": {},
   "toc_section_display": true,
   "toc_window_display": false
  },
  "varInspector": {
   "cols": {
    "lenName": 16,
    "lenType": 16,
    "lenVar": 40
   },
   "kernels_config": {
    "python": {
     "delete_cmd_postfix": "",
     "delete_cmd_prefix": "del ",
     "library": "var_list.py",
     "varRefreshCmd": "print(var_dic_list())"
    },
    "r": {
     "delete_cmd_postfix": ") ",
     "delete_cmd_prefix": "rm(",
     "library": "var_list.r",
     "varRefreshCmd": "cat(var_dic_list()) "
    }
   },
   "types_to_exclude": [
    "module",
    "function",
    "builtin_function_or_method",
    "instance",
    "_Feature"
   ],
   "window_display": false
  }
 },
 "nbformat": 4,
 "nbformat_minor": 4
}
