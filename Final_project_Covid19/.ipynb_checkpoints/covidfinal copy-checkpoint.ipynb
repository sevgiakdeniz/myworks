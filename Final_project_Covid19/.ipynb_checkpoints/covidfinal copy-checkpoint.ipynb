{
 "cells": [
  {
   "cell_type": "code",
   "execution_count": 192,
   "id": "699fb5cf-888c-4fac-ba92-36138a865cd5",
   "metadata": {},
   "outputs": [],
   "source": [
    "import pandas as pd\n",
    "import numpy as np\n",
    "import matplotlib.pyplot as plt \n",
    "import datetime\n",
    "import seaborn as sns"
   ]
  },
  {
   "cell_type": "code",
   "execution_count": 193,
   "id": "ef7f0d31-8b93-4c71-bef1-cc0d2c14c39c",
   "metadata": {
    "tags": []
   },
   "outputs": [],
   "source": [
    "confirmed = pd.read_csv('time_series_covid19_confirmed_global.csv')"
   ]
  },
  {
   "cell_type": "code",
   "execution_count": 194,
   "id": "3b45e000-8f70-4fca-8d3c-94c47486e949",
   "metadata": {},
   "outputs": [],
   "source": [
    "confirmed.rename(columns={'Province/State':'province', 'Country/Region': 'country'}, inplace=True)"
   ]
  },
  {
   "cell_type": "code",
   "execution_count": 195,
   "id": "f3b96728-61cf-4409-a4b9-4e68f52df58e",
   "metadata": {},
   "outputs": [
    {
     "data": {
      "text/html": [
       "<div>\n",
       "<style scoped>\n",
       "    .dataframe tbody tr th:only-of-type {\n",
       "        vertical-align: middle;\n",
       "    }\n",
       "\n",
       "    .dataframe tbody tr th {\n",
       "        vertical-align: top;\n",
       "    }\n",
       "\n",
       "    .dataframe thead th {\n",
       "        text-align: right;\n",
       "    }\n",
       "</style>\n",
       "<table border=\"1\" class=\"dataframe\">\n",
       "  <thead>\n",
       "    <tr style=\"text-align: right;\">\n",
       "      <th></th>\n",
       "      <th>province</th>\n",
       "      <th>country</th>\n",
       "      <th>Lat</th>\n",
       "      <th>Long</th>\n",
       "      <th>1/22/20</th>\n",
       "      <th>1/23/20</th>\n",
       "      <th>1/24/20</th>\n",
       "      <th>1/25/20</th>\n",
       "      <th>1/26/20</th>\n",
       "      <th>1/27/20</th>\n",
       "      <th>...</th>\n",
       "      <th>1/10/22</th>\n",
       "      <th>1/11/22</th>\n",
       "      <th>1/12/22</th>\n",
       "      <th>1/13/22</th>\n",
       "      <th>1/14/22</th>\n",
       "      <th>1/15/22</th>\n",
       "      <th>1/16/22</th>\n",
       "      <th>1/17/22</th>\n",
       "      <th>1/18/22</th>\n",
       "      <th>1/19/22</th>\n",
       "    </tr>\n",
       "  </thead>\n",
       "  <tbody>\n",
       "    <tr>\n",
       "      <th>0</th>\n",
       "      <td>NaN</td>\n",
       "      <td>Afghanistan</td>\n",
       "      <td>33.93911</td>\n",
       "      <td>67.709953</td>\n",
       "      <td>0</td>\n",
       "      <td>0</td>\n",
       "      <td>0</td>\n",
       "      <td>0</td>\n",
       "      <td>0</td>\n",
       "      <td>0</td>\n",
       "      <td>...</td>\n",
       "      <td>158394</td>\n",
       "      <td>158471</td>\n",
       "      <td>158511</td>\n",
       "      <td>158602</td>\n",
       "      <td>158639</td>\n",
       "      <td>158678</td>\n",
       "      <td>158717</td>\n",
       "      <td>158826</td>\n",
       "      <td>158974</td>\n",
       "      <td>159070</td>\n",
       "    </tr>\n",
       "    <tr>\n",
       "      <th>1</th>\n",
       "      <td>NaN</td>\n",
       "      <td>Albania</td>\n",
       "      <td>41.15330</td>\n",
       "      <td>20.168300</td>\n",
       "      <td>0</td>\n",
       "      <td>0</td>\n",
       "      <td>0</td>\n",
       "      <td>0</td>\n",
       "      <td>0</td>\n",
       "      <td>0</td>\n",
       "      <td>...</td>\n",
       "      <td>220487</td>\n",
       "      <td>222664</td>\n",
       "      <td>224569</td>\n",
       "      <td>226598</td>\n",
       "      <td>228777</td>\n",
       "      <td>230940</td>\n",
       "      <td>232637</td>\n",
       "      <td>233654</td>\n",
       "      <td>236486</td>\n",
       "      <td>239129</td>\n",
       "    </tr>\n",
       "    <tr>\n",
       "      <th>2</th>\n",
       "      <td>NaN</td>\n",
       "      <td>Algeria</td>\n",
       "      <td>28.03390</td>\n",
       "      <td>1.659600</td>\n",
       "      <td>0</td>\n",
       "      <td>0</td>\n",
       "      <td>0</td>\n",
       "      <td>0</td>\n",
       "      <td>0</td>\n",
       "      <td>0</td>\n",
       "      <td>...</td>\n",
       "      <td>222639</td>\n",
       "      <td>223196</td>\n",
       "      <td>223806</td>\n",
       "      <td>224383</td>\n",
       "      <td>224979</td>\n",
       "      <td>225484</td>\n",
       "      <td>226057</td>\n",
       "      <td>226749</td>\n",
       "      <td>227559</td>\n",
       "      <td>228918</td>\n",
       "    </tr>\n",
       "    <tr>\n",
       "      <th>3</th>\n",
       "      <td>NaN</td>\n",
       "      <td>Andorra</td>\n",
       "      <td>42.50630</td>\n",
       "      <td>1.521800</td>\n",
       "      <td>0</td>\n",
       "      <td>0</td>\n",
       "      <td>0</td>\n",
       "      <td>0</td>\n",
       "      <td>0</td>\n",
       "      <td>0</td>\n",
       "      <td>...</td>\n",
       "      <td>27983</td>\n",
       "      <td>28542</td>\n",
       "      <td>28899</td>\n",
       "      <td>28899</td>\n",
       "      <td>29888</td>\n",
       "      <td>29888</td>\n",
       "      <td>29888</td>\n",
       "      <td>29888</td>\n",
       "      <td>29888</td>\n",
       "      <td>29888</td>\n",
       "    </tr>\n",
       "    <tr>\n",
       "      <th>4</th>\n",
       "      <td>NaN</td>\n",
       "      <td>Angola</td>\n",
       "      <td>-11.20270</td>\n",
       "      <td>17.873900</td>\n",
       "      <td>0</td>\n",
       "      <td>0</td>\n",
       "      <td>0</td>\n",
       "      <td>0</td>\n",
       "      <td>0</td>\n",
       "      <td>0</td>\n",
       "      <td>...</td>\n",
       "      <td>90316</td>\n",
       "      <td>91148</td>\n",
       "      <td>91907</td>\n",
       "      <td>92581</td>\n",
       "      <td>93302</td>\n",
       "      <td>93524</td>\n",
       "      <td>93694</td>\n",
       "      <td>93974</td>\n",
       "      <td>94275</td>\n",
       "      <td>94779</td>\n",
       "    </tr>\n",
       "  </tbody>\n",
       "</table>\n",
       "<p>5 rows × 733 columns</p>\n",
       "</div>"
      ],
      "text/plain": [
       "  province      country       Lat       Long  1/22/20  1/23/20  1/24/20  \\\n",
       "0      NaN  Afghanistan  33.93911  67.709953        0        0        0   \n",
       "1      NaN      Albania  41.15330  20.168300        0        0        0   \n",
       "2      NaN      Algeria  28.03390   1.659600        0        0        0   \n",
       "3      NaN      Andorra  42.50630   1.521800        0        0        0   \n",
       "4      NaN       Angola -11.20270  17.873900        0        0        0   \n",
       "\n",
       "   1/25/20  1/26/20  1/27/20  ...  1/10/22  1/11/22  1/12/22  1/13/22  \\\n",
       "0        0        0        0  ...   158394   158471   158511   158602   \n",
       "1        0        0        0  ...   220487   222664   224569   226598   \n",
       "2        0        0        0  ...   222639   223196   223806   224383   \n",
       "3        0        0        0  ...    27983    28542    28899    28899   \n",
       "4        0        0        0  ...    90316    91148    91907    92581   \n",
       "\n",
       "   1/14/22  1/15/22  1/16/22  1/17/22  1/18/22  1/19/22  \n",
       "0   158639   158678   158717   158826   158974   159070  \n",
       "1   228777   230940   232637   233654   236486   239129  \n",
       "2   224979   225484   226057   226749   227559   228918  \n",
       "3    29888    29888    29888    29888    29888    29888  \n",
       "4    93302    93524    93694    93974    94275    94779  \n",
       "\n",
       "[5 rows x 733 columns]"
      ]
     },
     "execution_count": 195,
     "metadata": {},
     "output_type": "execute_result"
    }
   ],
   "source": [
    "confirmed.head()"
   ]
  },
  {
   "cell_type": "code",
   "execution_count": 196,
   "id": "91a25dba-2843-4348-92bb-117183e7a4c1",
   "metadata": {},
   "outputs": [],
   "source": [
    "\n",
    "confirmed = pd.melt(confirmed, id_vars=confirmed.columns[:4], \n",
    "                    value_vars = confirmed.columns[4:], \n",
    "                    var_name = 'date', \n",
    "                    value_name = 'confirmed')"
   ]
  },
  {
   "cell_type": "code",
   "execution_count": 197,
   "id": "75f4e459-0a44-42d3-bbd5-4becadb56968",
   "metadata": {},
   "outputs": [
    {
     "data": {
      "text/html": [
       "<div>\n",
       "<style scoped>\n",
       "    .dataframe tbody tr th:only-of-type {\n",
       "        vertical-align: middle;\n",
       "    }\n",
       "\n",
       "    .dataframe tbody tr th {\n",
       "        vertical-align: top;\n",
       "    }\n",
       "\n",
       "    .dataframe thead th {\n",
       "        text-align: right;\n",
       "    }\n",
       "</style>\n",
       "<table border=\"1\" class=\"dataframe\">\n",
       "  <thead>\n",
       "    <tr style=\"text-align: right;\">\n",
       "      <th></th>\n",
       "      <th>province</th>\n",
       "      <th>country</th>\n",
       "      <th>Lat</th>\n",
       "      <th>Long</th>\n",
       "      <th>date</th>\n",
       "      <th>confirmed</th>\n",
       "    </tr>\n",
       "  </thead>\n",
       "  <tbody>\n",
       "    <tr>\n",
       "      <th>0</th>\n",
       "      <td>NaN</td>\n",
       "      <td>Afghanistan</td>\n",
       "      <td>33.939110</td>\n",
       "      <td>67.709953</td>\n",
       "      <td>1/22/20</td>\n",
       "      <td>0</td>\n",
       "    </tr>\n",
       "    <tr>\n",
       "      <th>1</th>\n",
       "      <td>NaN</td>\n",
       "      <td>Albania</td>\n",
       "      <td>41.153300</td>\n",
       "      <td>20.168300</td>\n",
       "      <td>1/22/20</td>\n",
       "      <td>0</td>\n",
       "    </tr>\n",
       "    <tr>\n",
       "      <th>2</th>\n",
       "      <td>NaN</td>\n",
       "      <td>Algeria</td>\n",
       "      <td>28.033900</td>\n",
       "      <td>1.659600</td>\n",
       "      <td>1/22/20</td>\n",
       "      <td>0</td>\n",
       "    </tr>\n",
       "    <tr>\n",
       "      <th>3</th>\n",
       "      <td>NaN</td>\n",
       "      <td>Andorra</td>\n",
       "      <td>42.506300</td>\n",
       "      <td>1.521800</td>\n",
       "      <td>1/22/20</td>\n",
       "      <td>0</td>\n",
       "    </tr>\n",
       "    <tr>\n",
       "      <th>4</th>\n",
       "      <td>NaN</td>\n",
       "      <td>Angola</td>\n",
       "      <td>-11.202700</td>\n",
       "      <td>17.873900</td>\n",
       "      <td>1/22/20</td>\n",
       "      <td>0</td>\n",
       "    </tr>\n",
       "    <tr>\n",
       "      <th>...</th>\n",
       "      <td>...</td>\n",
       "      <td>...</td>\n",
       "      <td>...</td>\n",
       "      <td>...</td>\n",
       "      <td>...</td>\n",
       "      <td>...</td>\n",
       "    </tr>\n",
       "    <tr>\n",
       "      <th>204115</th>\n",
       "      <td>NaN</td>\n",
       "      <td>Vietnam</td>\n",
       "      <td>14.058324</td>\n",
       "      <td>108.277199</td>\n",
       "      <td>1/19/22</td>\n",
       "      <td>2078087</td>\n",
       "    </tr>\n",
       "    <tr>\n",
       "      <th>204116</th>\n",
       "      <td>NaN</td>\n",
       "      <td>West Bank and Gaza</td>\n",
       "      <td>31.952200</td>\n",
       "      <td>35.233200</td>\n",
       "      <td>1/19/22</td>\n",
       "      <td>478084</td>\n",
       "    </tr>\n",
       "    <tr>\n",
       "      <th>204117</th>\n",
       "      <td>NaN</td>\n",
       "      <td>Yemen</td>\n",
       "      <td>15.552727</td>\n",
       "      <td>48.516388</td>\n",
       "      <td>1/19/22</td>\n",
       "      <td>10449</td>\n",
       "    </tr>\n",
       "    <tr>\n",
       "      <th>204118</th>\n",
       "      <td>NaN</td>\n",
       "      <td>Zambia</td>\n",
       "      <td>-13.133897</td>\n",
       "      <td>27.849332</td>\n",
       "      <td>1/19/22</td>\n",
       "      <td>299172</td>\n",
       "    </tr>\n",
       "    <tr>\n",
       "      <th>204119</th>\n",
       "      <td>NaN</td>\n",
       "      <td>Zimbabwe</td>\n",
       "      <td>-19.015438</td>\n",
       "      <td>29.154857</td>\n",
       "      <td>1/19/22</td>\n",
       "      <td>226887</td>\n",
       "    </tr>\n",
       "  </tbody>\n",
       "</table>\n",
       "<p>204120 rows × 6 columns</p>\n",
       "</div>"
      ],
      "text/plain": [
       "       province             country        Lat        Long     date  confirmed\n",
       "0           NaN         Afghanistan  33.939110   67.709953  1/22/20          0\n",
       "1           NaN             Albania  41.153300   20.168300  1/22/20          0\n",
       "2           NaN             Algeria  28.033900    1.659600  1/22/20          0\n",
       "3           NaN             Andorra  42.506300    1.521800  1/22/20          0\n",
       "4           NaN              Angola -11.202700   17.873900  1/22/20          0\n",
       "...         ...                 ...        ...         ...      ...        ...\n",
       "204115      NaN             Vietnam  14.058324  108.277199  1/19/22    2078087\n",
       "204116      NaN  West Bank and Gaza  31.952200   35.233200  1/19/22     478084\n",
       "204117      NaN               Yemen  15.552727   48.516388  1/19/22      10449\n",
       "204118      NaN              Zambia -13.133897   27.849332  1/19/22     299172\n",
       "204119      NaN            Zimbabwe -19.015438   29.154857  1/19/22     226887\n",
       "\n",
       "[204120 rows x 6 columns]"
      ]
     },
     "execution_count": 197,
     "metadata": {},
     "output_type": "execute_result"
    }
   ],
   "source": [
    "confirmed"
   ]
  },
  {
   "cell_type": "code",
   "execution_count": 198,
   "id": "046a024d-f37b-40ea-a46a-26523215839a",
   "metadata": {},
   "outputs": [],
   "source": [
    "#confirmed['province'].unique().tolist()"
   ]
  },
  {
   "cell_type": "code",
   "execution_count": 199,
   "id": "0043411f-db51-4dfa-a71d-736f9a598536",
   "metadata": {},
   "outputs": [],
   "source": [
    "#confirmed['country'].unique().tolist()"
   ]
  },
  {
   "cell_type": "code",
   "execution_count": 200,
   "id": "6edc330b-b0e8-439d-b24b-e1a473a39985",
   "metadata": {
    "tags": []
   },
   "outputs": [],
   "source": [
    "recovered = pd.read_csv('time_series_covid19_recovered_global.csv')"
   ]
  },
  {
   "cell_type": "code",
   "execution_count": 201,
   "id": "5867c406-a18f-4eee-aa10-0ab103e82412",
   "metadata": {},
   "outputs": [],
   "source": [
    "recovered.rename(columns={'Province/State':'province', 'Country/Region': 'country'}, inplace=True)"
   ]
  },
  {
   "cell_type": "code",
   "execution_count": 202,
   "id": "88cf93ca-1447-471c-9e77-2edce6e7aab5",
   "metadata": {},
   "outputs": [
    {
     "data": {
      "text/html": [
       "<div>\n",
       "<style scoped>\n",
       "    .dataframe tbody tr th:only-of-type {\n",
       "        vertical-align: middle;\n",
       "    }\n",
       "\n",
       "    .dataframe tbody tr th {\n",
       "        vertical-align: top;\n",
       "    }\n",
       "\n",
       "    .dataframe thead th {\n",
       "        text-align: right;\n",
       "    }\n",
       "</style>\n",
       "<table border=\"1\" class=\"dataframe\">\n",
       "  <thead>\n",
       "    <tr style=\"text-align: right;\">\n",
       "      <th></th>\n",
       "      <th>province</th>\n",
       "      <th>country</th>\n",
       "      <th>Lat</th>\n",
       "      <th>Long</th>\n",
       "      <th>1/22/20</th>\n",
       "      <th>1/23/20</th>\n",
       "      <th>1/24/20</th>\n",
       "      <th>1/25/20</th>\n",
       "      <th>1/26/20</th>\n",
       "      <th>1/27/20</th>\n",
       "      <th>...</th>\n",
       "      <th>1/10/22</th>\n",
       "      <th>1/11/22</th>\n",
       "      <th>1/12/22</th>\n",
       "      <th>1/13/22</th>\n",
       "      <th>1/14/22</th>\n",
       "      <th>1/15/22</th>\n",
       "      <th>1/16/22</th>\n",
       "      <th>1/17/22</th>\n",
       "      <th>1/18/22</th>\n",
       "      <th>1/19/22</th>\n",
       "    </tr>\n",
       "  </thead>\n",
       "  <tbody>\n",
       "    <tr>\n",
       "      <th>0</th>\n",
       "      <td>NaN</td>\n",
       "      <td>Afghanistan</td>\n",
       "      <td>33.93911</td>\n",
       "      <td>67.709953</td>\n",
       "      <td>0</td>\n",
       "      <td>0</td>\n",
       "      <td>0</td>\n",
       "      <td>0</td>\n",
       "      <td>0</td>\n",
       "      <td>0</td>\n",
       "      <td>...</td>\n",
       "      <td>0</td>\n",
       "      <td>0</td>\n",
       "      <td>0</td>\n",
       "      <td>0</td>\n",
       "      <td>0</td>\n",
       "      <td>0</td>\n",
       "      <td>0</td>\n",
       "      <td>0</td>\n",
       "      <td>0</td>\n",
       "      <td>0</td>\n",
       "    </tr>\n",
       "    <tr>\n",
       "      <th>1</th>\n",
       "      <td>NaN</td>\n",
       "      <td>Albania</td>\n",
       "      <td>41.15330</td>\n",
       "      <td>20.168300</td>\n",
       "      <td>0</td>\n",
       "      <td>0</td>\n",
       "      <td>0</td>\n",
       "      <td>0</td>\n",
       "      <td>0</td>\n",
       "      <td>0</td>\n",
       "      <td>...</td>\n",
       "      <td>0</td>\n",
       "      <td>0</td>\n",
       "      <td>0</td>\n",
       "      <td>0</td>\n",
       "      <td>0</td>\n",
       "      <td>0</td>\n",
       "      <td>0</td>\n",
       "      <td>0</td>\n",
       "      <td>0</td>\n",
       "      <td>0</td>\n",
       "    </tr>\n",
       "    <tr>\n",
       "      <th>2</th>\n",
       "      <td>NaN</td>\n",
       "      <td>Algeria</td>\n",
       "      <td>28.03390</td>\n",
       "      <td>1.659600</td>\n",
       "      <td>0</td>\n",
       "      <td>0</td>\n",
       "      <td>0</td>\n",
       "      <td>0</td>\n",
       "      <td>0</td>\n",
       "      <td>0</td>\n",
       "      <td>...</td>\n",
       "      <td>0</td>\n",
       "      <td>0</td>\n",
       "      <td>0</td>\n",
       "      <td>0</td>\n",
       "      <td>0</td>\n",
       "      <td>0</td>\n",
       "      <td>0</td>\n",
       "      <td>0</td>\n",
       "      <td>0</td>\n",
       "      <td>0</td>\n",
       "    </tr>\n",
       "    <tr>\n",
       "      <th>3</th>\n",
       "      <td>NaN</td>\n",
       "      <td>Andorra</td>\n",
       "      <td>42.50630</td>\n",
       "      <td>1.521800</td>\n",
       "      <td>0</td>\n",
       "      <td>0</td>\n",
       "      <td>0</td>\n",
       "      <td>0</td>\n",
       "      <td>0</td>\n",
       "      <td>0</td>\n",
       "      <td>...</td>\n",
       "      <td>0</td>\n",
       "      <td>0</td>\n",
       "      <td>0</td>\n",
       "      <td>0</td>\n",
       "      <td>0</td>\n",
       "      <td>0</td>\n",
       "      <td>0</td>\n",
       "      <td>0</td>\n",
       "      <td>0</td>\n",
       "      <td>0</td>\n",
       "    </tr>\n",
       "    <tr>\n",
       "      <th>4</th>\n",
       "      <td>NaN</td>\n",
       "      <td>Angola</td>\n",
       "      <td>-11.20270</td>\n",
       "      <td>17.873900</td>\n",
       "      <td>0</td>\n",
       "      <td>0</td>\n",
       "      <td>0</td>\n",
       "      <td>0</td>\n",
       "      <td>0</td>\n",
       "      <td>0</td>\n",
       "      <td>...</td>\n",
       "      <td>0</td>\n",
       "      <td>0</td>\n",
       "      <td>0</td>\n",
       "      <td>0</td>\n",
       "      <td>0</td>\n",
       "      <td>0</td>\n",
       "      <td>0</td>\n",
       "      <td>0</td>\n",
       "      <td>0</td>\n",
       "      <td>0</td>\n",
       "    </tr>\n",
       "  </tbody>\n",
       "</table>\n",
       "<p>5 rows × 733 columns</p>\n",
       "</div>"
      ],
      "text/plain": [
       "  province      country       Lat       Long  1/22/20  1/23/20  1/24/20  \\\n",
       "0      NaN  Afghanistan  33.93911  67.709953        0        0        0   \n",
       "1      NaN      Albania  41.15330  20.168300        0        0        0   \n",
       "2      NaN      Algeria  28.03390   1.659600        0        0        0   \n",
       "3      NaN      Andorra  42.50630   1.521800        0        0        0   \n",
       "4      NaN       Angola -11.20270  17.873900        0        0        0   \n",
       "\n",
       "   1/25/20  1/26/20  1/27/20  ...  1/10/22  1/11/22  1/12/22  1/13/22  \\\n",
       "0        0        0        0  ...        0        0        0        0   \n",
       "1        0        0        0  ...        0        0        0        0   \n",
       "2        0        0        0  ...        0        0        0        0   \n",
       "3        0        0        0  ...        0        0        0        0   \n",
       "4        0        0        0  ...        0        0        0        0   \n",
       "\n",
       "   1/14/22  1/15/22  1/16/22  1/17/22  1/18/22  1/19/22  \n",
       "0        0        0        0        0        0        0  \n",
       "1        0        0        0        0        0        0  \n",
       "2        0        0        0        0        0        0  \n",
       "3        0        0        0        0        0        0  \n",
       "4        0        0        0        0        0        0  \n",
       "\n",
       "[5 rows x 733 columns]"
      ]
     },
     "execution_count": 202,
     "metadata": {},
     "output_type": "execute_result"
    }
   ],
   "source": [
    "recovered.head()"
   ]
  },
  {
   "cell_type": "code",
   "execution_count": 203,
   "id": "fec1d9a9-4c15-4034-b840-aa2265fbfd79",
   "metadata": {},
   "outputs": [],
   "source": [
    "recovered = pd.melt(recovered, id_vars=recovered.columns[:4], \n",
    "                    value_vars = recovered.columns[4:], \n",
    "                    var_name = 'date', \n",
    "                    value_name = 'recovered')"
   ]
  },
  {
   "cell_type": "code",
   "execution_count": 204,
   "id": "8cf8c805-e13f-4b6b-a70e-e6c25cd9d001",
   "metadata": {},
   "outputs": [],
   "source": [
    "deaths = pd.read_csv('time_series_covid19_deaths_global.csv')"
   ]
  },
  {
   "cell_type": "code",
   "execution_count": 205,
   "id": "aafc8a47-cd16-4c2d-ae3e-7d3e711e2e44",
   "metadata": {},
   "outputs": [],
   "source": [
    "deaths.rename(columns={'Province/State':'province', 'Country/Region': 'country'}, inplace=True)"
   ]
  },
  {
   "cell_type": "code",
   "execution_count": 206,
   "id": "a69d24c2-ccd2-4cef-9aef-3c22014e9d09",
   "metadata": {},
   "outputs": [
    {
     "data": {
      "text/html": [
       "<div>\n",
       "<style scoped>\n",
       "    .dataframe tbody tr th:only-of-type {\n",
       "        vertical-align: middle;\n",
       "    }\n",
       "\n",
       "    .dataframe tbody tr th {\n",
       "        vertical-align: top;\n",
       "    }\n",
       "\n",
       "    .dataframe thead th {\n",
       "        text-align: right;\n",
       "    }\n",
       "</style>\n",
       "<table border=\"1\" class=\"dataframe\">\n",
       "  <thead>\n",
       "    <tr style=\"text-align: right;\">\n",
       "      <th></th>\n",
       "      <th>province</th>\n",
       "      <th>country</th>\n",
       "      <th>Lat</th>\n",
       "      <th>Long</th>\n",
       "      <th>1/22/20</th>\n",
       "      <th>1/23/20</th>\n",
       "      <th>1/24/20</th>\n",
       "      <th>1/25/20</th>\n",
       "      <th>1/26/20</th>\n",
       "      <th>1/27/20</th>\n",
       "      <th>...</th>\n",
       "      <th>1/10/22</th>\n",
       "      <th>1/11/22</th>\n",
       "      <th>1/12/22</th>\n",
       "      <th>1/13/22</th>\n",
       "      <th>1/14/22</th>\n",
       "      <th>1/15/22</th>\n",
       "      <th>1/16/22</th>\n",
       "      <th>1/17/22</th>\n",
       "      <th>1/18/22</th>\n",
       "      <th>1/19/22</th>\n",
       "    </tr>\n",
       "  </thead>\n",
       "  <tbody>\n",
       "    <tr>\n",
       "      <th>0</th>\n",
       "      <td>NaN</td>\n",
       "      <td>Afghanistan</td>\n",
       "      <td>33.93911</td>\n",
       "      <td>67.709953</td>\n",
       "      <td>0</td>\n",
       "      <td>0</td>\n",
       "      <td>0</td>\n",
       "      <td>0</td>\n",
       "      <td>0</td>\n",
       "      <td>0</td>\n",
       "      <td>...</td>\n",
       "      <td>7373</td>\n",
       "      <td>7374</td>\n",
       "      <td>7376</td>\n",
       "      <td>7376</td>\n",
       "      <td>7376</td>\n",
       "      <td>7378</td>\n",
       "      <td>7379</td>\n",
       "      <td>7381</td>\n",
       "      <td>7383</td>\n",
       "      <td>7386</td>\n",
       "    </tr>\n",
       "    <tr>\n",
       "      <th>1</th>\n",
       "      <td>NaN</td>\n",
       "      <td>Albania</td>\n",
       "      <td>41.15330</td>\n",
       "      <td>20.168300</td>\n",
       "      <td>0</td>\n",
       "      <td>0</td>\n",
       "      <td>0</td>\n",
       "      <td>0</td>\n",
       "      <td>0</td>\n",
       "      <td>0</td>\n",
       "      <td>...</td>\n",
       "      <td>3241</td>\n",
       "      <td>3247</td>\n",
       "      <td>3253</td>\n",
       "      <td>3255</td>\n",
       "      <td>3262</td>\n",
       "      <td>3265</td>\n",
       "      <td>3269</td>\n",
       "      <td>3271</td>\n",
       "      <td>3277</td>\n",
       "      <td>3283</td>\n",
       "    </tr>\n",
       "    <tr>\n",
       "      <th>2</th>\n",
       "      <td>NaN</td>\n",
       "      <td>Algeria</td>\n",
       "      <td>28.03390</td>\n",
       "      <td>1.659600</td>\n",
       "      <td>0</td>\n",
       "      <td>0</td>\n",
       "      <td>0</td>\n",
       "      <td>0</td>\n",
       "      <td>0</td>\n",
       "      <td>0</td>\n",
       "      <td>...</td>\n",
       "      <td>6349</td>\n",
       "      <td>6363</td>\n",
       "      <td>6372</td>\n",
       "      <td>6383</td>\n",
       "      <td>6393</td>\n",
       "      <td>6404</td>\n",
       "      <td>6412</td>\n",
       "      <td>6423</td>\n",
       "      <td>6435</td>\n",
       "      <td>6443</td>\n",
       "    </tr>\n",
       "    <tr>\n",
       "      <th>3</th>\n",
       "      <td>NaN</td>\n",
       "      <td>Andorra</td>\n",
       "      <td>42.50630</td>\n",
       "      <td>1.521800</td>\n",
       "      <td>0</td>\n",
       "      <td>0</td>\n",
       "      <td>0</td>\n",
       "      <td>0</td>\n",
       "      <td>0</td>\n",
       "      <td>0</td>\n",
       "      <td>...</td>\n",
       "      <td>141</td>\n",
       "      <td>141</td>\n",
       "      <td>141</td>\n",
       "      <td>141</td>\n",
       "      <td>142</td>\n",
       "      <td>142</td>\n",
       "      <td>142</td>\n",
       "      <td>142</td>\n",
       "      <td>142</td>\n",
       "      <td>142</td>\n",
       "    </tr>\n",
       "    <tr>\n",
       "      <th>4</th>\n",
       "      <td>NaN</td>\n",
       "      <td>Angola</td>\n",
       "      <td>-11.20270</td>\n",
       "      <td>17.873900</td>\n",
       "      <td>0</td>\n",
       "      <td>0</td>\n",
       "      <td>0</td>\n",
       "      <td>0</td>\n",
       "      <td>0</td>\n",
       "      <td>0</td>\n",
       "      <td>...</td>\n",
       "      <td>1832</td>\n",
       "      <td>1840</td>\n",
       "      <td>1842</td>\n",
       "      <td>1847</td>\n",
       "      <td>1852</td>\n",
       "      <td>1857</td>\n",
       "      <td>1863</td>\n",
       "      <td>1866</td>\n",
       "      <td>1870</td>\n",
       "      <td>1877</td>\n",
       "    </tr>\n",
       "  </tbody>\n",
       "</table>\n",
       "<p>5 rows × 733 columns</p>\n",
       "</div>"
      ],
      "text/plain": [
       "  province      country       Lat       Long  1/22/20  1/23/20  1/24/20  \\\n",
       "0      NaN  Afghanistan  33.93911  67.709953        0        0        0   \n",
       "1      NaN      Albania  41.15330  20.168300        0        0        0   \n",
       "2      NaN      Algeria  28.03390   1.659600        0        0        0   \n",
       "3      NaN      Andorra  42.50630   1.521800        0        0        0   \n",
       "4      NaN       Angola -11.20270  17.873900        0        0        0   \n",
       "\n",
       "   1/25/20  1/26/20  1/27/20  ...  1/10/22  1/11/22  1/12/22  1/13/22  \\\n",
       "0        0        0        0  ...     7373     7374     7376     7376   \n",
       "1        0        0        0  ...     3241     3247     3253     3255   \n",
       "2        0        0        0  ...     6349     6363     6372     6383   \n",
       "3        0        0        0  ...      141      141      141      141   \n",
       "4        0        0        0  ...     1832     1840     1842     1847   \n",
       "\n",
       "   1/14/22  1/15/22  1/16/22  1/17/22  1/18/22  1/19/22  \n",
       "0     7376     7378     7379     7381     7383     7386  \n",
       "1     3262     3265     3269     3271     3277     3283  \n",
       "2     6393     6404     6412     6423     6435     6443  \n",
       "3      142      142      142      142      142      142  \n",
       "4     1852     1857     1863     1866     1870     1877  \n",
       "\n",
       "[5 rows x 733 columns]"
      ]
     },
     "execution_count": 206,
     "metadata": {},
     "output_type": "execute_result"
    }
   ],
   "source": [
    "deaths.head()"
   ]
  },
  {
   "cell_type": "code",
   "execution_count": 207,
   "id": "46c95e40-1a9b-4562-8178-b63dcbe688f8",
   "metadata": {},
   "outputs": [],
   "source": [
    "deaths = pd.melt(deaths, id_vars=deaths.columns[:4], \n",
    "                    value_vars = deaths.columns[4:], \n",
    "                    var_name = 'date', \n",
    "                    value_name = 'deaths')"
   ]
  },
  {
   "cell_type": "code",
   "execution_count": 208,
   "id": "0d3bf745-449b-4a11-a054-9e9b16b37947",
   "metadata": {},
   "outputs": [
    {
     "data": {
      "text/html": [
       "<div>\n",
       "<style scoped>\n",
       "    .dataframe tbody tr th:only-of-type {\n",
       "        vertical-align: middle;\n",
       "    }\n",
       "\n",
       "    .dataframe tbody tr th {\n",
       "        vertical-align: top;\n",
       "    }\n",
       "\n",
       "    .dataframe thead th {\n",
       "        text-align: right;\n",
       "    }\n",
       "</style>\n",
       "<table border=\"1\" class=\"dataframe\">\n",
       "  <thead>\n",
       "    <tr style=\"text-align: right;\">\n",
       "      <th></th>\n",
       "      <th>province</th>\n",
       "      <th>country</th>\n",
       "      <th>Lat</th>\n",
       "      <th>Long</th>\n",
       "      <th>date</th>\n",
       "      <th>deaths</th>\n",
       "    </tr>\n",
       "  </thead>\n",
       "  <tbody>\n",
       "    <tr>\n",
       "      <th>0</th>\n",
       "      <td>NaN</td>\n",
       "      <td>Afghanistan</td>\n",
       "      <td>33.93911</td>\n",
       "      <td>67.709953</td>\n",
       "      <td>1/22/20</td>\n",
       "      <td>0</td>\n",
       "    </tr>\n",
       "    <tr>\n",
       "      <th>1</th>\n",
       "      <td>NaN</td>\n",
       "      <td>Albania</td>\n",
       "      <td>41.15330</td>\n",
       "      <td>20.168300</td>\n",
       "      <td>1/22/20</td>\n",
       "      <td>0</td>\n",
       "    </tr>\n",
       "    <tr>\n",
       "      <th>2</th>\n",
       "      <td>NaN</td>\n",
       "      <td>Algeria</td>\n",
       "      <td>28.03390</td>\n",
       "      <td>1.659600</td>\n",
       "      <td>1/22/20</td>\n",
       "      <td>0</td>\n",
       "    </tr>\n",
       "    <tr>\n",
       "      <th>3</th>\n",
       "      <td>NaN</td>\n",
       "      <td>Andorra</td>\n",
       "      <td>42.50630</td>\n",
       "      <td>1.521800</td>\n",
       "      <td>1/22/20</td>\n",
       "      <td>0</td>\n",
       "    </tr>\n",
       "    <tr>\n",
       "      <th>4</th>\n",
       "      <td>NaN</td>\n",
       "      <td>Angola</td>\n",
       "      <td>-11.20270</td>\n",
       "      <td>17.873900</td>\n",
       "      <td>1/22/20</td>\n",
       "      <td>0</td>\n",
       "    </tr>\n",
       "  </tbody>\n",
       "</table>\n",
       "</div>"
      ],
      "text/plain": [
       "  province      country       Lat       Long     date  deaths\n",
       "0      NaN  Afghanistan  33.93911  67.709953  1/22/20       0\n",
       "1      NaN      Albania  41.15330  20.168300  1/22/20       0\n",
       "2      NaN      Algeria  28.03390   1.659600  1/22/20       0\n",
       "3      NaN      Andorra  42.50630   1.521800  1/22/20       0\n",
       "4      NaN       Angola -11.20270  17.873900  1/22/20       0"
      ]
     },
     "execution_count": 208,
     "metadata": {},
     "output_type": "execute_result"
    }
   ],
   "source": [
    "deaths.head()"
   ]
  },
  {
   "cell_type": "code",
   "execution_count": 209,
   "id": "19f99fb0-df66-4b16-a5f3-9375599ceb2c",
   "metadata": {},
   "outputs": [],
   "source": [
    "data = confirmed.merge(deaths, how='outer', on=['country','province','date'])\n",
    "data = data.merge(recovered, how='outer', on=['country','province','date'])\n"
   ]
  },
  {
   "cell_type": "code",
   "execution_count": 210,
   "id": "99e70423-93c0-4dee-a746-9cf4c87673d3",
   "metadata": {},
   "outputs": [
    {
     "data": {
      "text/plain": [
       "['province',\n",
       " 'country',\n",
       " 'Lat_x',\n",
       " 'Long_x',\n",
       " 'date',\n",
       " 'confirmed',\n",
       " 'Lat_y',\n",
       " 'Long_y',\n",
       " 'deaths',\n",
       " 'Lat',\n",
       " 'Long',\n",
       " 'recovered']"
      ]
     },
     "execution_count": 210,
     "metadata": {},
     "output_type": "execute_result"
    }
   ],
   "source": [
    "data.columns.tolist()"
   ]
  },
  {
   "cell_type": "code",
   "execution_count": 211,
   "id": "c2f7c949-1b7c-4f7a-bb38-dd5f4bb6f965",
   "metadata": {},
   "outputs": [],
   "source": [
    "data.drop(['Lat_x', 'Lat_y','Long_x', 'Long_y'], axis=1, inplace=True) "
   ]
  },
  {
   "cell_type": "code",
   "execution_count": 212,
   "id": "aacfccfd-7938-4480-952a-acb1e1214dd2",
   "metadata": {},
   "outputs": [
    {
     "name": "stdout",
     "output_type": "stream",
     "text": [
      "<class 'pandas.core.frame.DataFrame'>\n",
      "Int64Index: 204849 entries, 0 to 204848\n",
      "Data columns (total 8 columns):\n",
      " #   Column     Non-Null Count   Dtype  \n",
      "---  ------     --------------   -----  \n",
      " 0   province   63423 non-null   object \n",
      " 1   country    204849 non-null  object \n",
      " 2   date       204849 non-null  object \n",
      " 3   confirmed  204120 non-null  float64\n",
      " 4   deaths     204120 non-null  float64\n",
      " 5   Lat        192456 non-null  float64\n",
      " 6   Long       192456 non-null  float64\n",
      " 7   recovered  193185 non-null  float64\n",
      "dtypes: float64(5), object(3)\n",
      "memory usage: 14.1+ MB\n"
     ]
    }
   ],
   "source": [
    "data.info()"
   ]
  },
  {
   "cell_type": "code",
   "execution_count": 213,
   "id": "a7ea87c3-19c5-4341-a809-741c0ffe82ec",
   "metadata": {},
   "outputs": [],
   "source": [
    "data['date'] = pd.to_datetime(data['date'])"
   ]
  },
  {
   "cell_type": "code",
   "execution_count": 214,
   "id": "64f77eb2-aaaa-421b-b142-e556d2f30c82",
   "metadata": {},
   "outputs": [
    {
     "name": "stdout",
     "output_type": "stream",
     "text": [
      "<class 'pandas.core.frame.DataFrame'>\n",
      "Int64Index: 204849 entries, 0 to 204848\n",
      "Data columns (total 8 columns):\n",
      " #   Column     Non-Null Count   Dtype         \n",
      "---  ------     --------------   -----         \n",
      " 0   province   63423 non-null   object        \n",
      " 1   country    204849 non-null  object        \n",
      " 2   date       204849 non-null  datetime64[ns]\n",
      " 3   confirmed  204120 non-null  float64       \n",
      " 4   deaths     204120 non-null  float64       \n",
      " 5   Lat        192456 non-null  float64       \n",
      " 6   Long       192456 non-null  float64       \n",
      " 7   recovered  193185 non-null  float64       \n",
      "dtypes: datetime64[ns](1), float64(5), object(2)\n",
      "memory usage: 14.1+ MB\n"
     ]
    }
   ],
   "source": [
    "data.info()"
   ]
  },
  {
   "cell_type": "code",
   "execution_count": 215,
   "id": "d50a15c8-545f-4e6f-9f70-0ca9bdaca5da",
   "metadata": {},
   "outputs": [
    {
     "data": {
      "text/plain": [
       "province     141426\n",
       "country           0\n",
       "date              0\n",
       "confirmed       729\n",
       "deaths          729\n",
       "Lat           12393\n",
       "Long          12393\n",
       "recovered     11664\n",
       "dtype: int64"
      ]
     },
     "execution_count": 215,
     "metadata": {},
     "output_type": "execute_result"
    }
   ],
   "source": [
    "data.isna().sum()"
   ]
  },
  {
   "cell_type": "code",
   "execution_count": 216,
   "id": "d3a1c561-65aa-49ad-bcf9-b3193ade5ac9",
   "metadata": {
    "tags": []
   },
   "outputs": [
    {
     "data": {
      "text/plain": [
       "0"
      ]
     },
     "execution_count": 216,
     "metadata": {},
     "output_type": "execute_result"
    }
   ],
   "source": [
    "data.duplicated().sum()"
   ]
  },
  {
   "cell_type": "code",
   "execution_count": 217,
   "id": "595efbc1-f27b-4b75-9e04-cc4e65f9d5bf",
   "metadata": {
    "tags": []
   },
   "outputs": [],
   "source": [
    "#data['year'] =pd.DatetimeIndex(data['date']).year"
   ]
  },
  {
   "cell_type": "code",
   "execution_count": 218,
   "id": "b53c39f4-0032-407d-8b15-01a67ba8dede",
   "metadata": {},
   "outputs": [],
   "source": [
    "#data['year_month'] = pd.to_datetime(data['date']).dt.to_period('M')"
   ]
  },
  {
   "cell_type": "code",
   "execution_count": 219,
   "id": "f4baafeb-fc9e-4134-b31b-3ef296f153d4",
   "metadata": {},
   "outputs": [
    {
     "data": {
      "text/html": [
       "<div>\n",
       "<style scoped>\n",
       "    .dataframe tbody tr th:only-of-type {\n",
       "        vertical-align: middle;\n",
       "    }\n",
       "\n",
       "    .dataframe tbody tr th {\n",
       "        vertical-align: top;\n",
       "    }\n",
       "\n",
       "    .dataframe thead th {\n",
       "        text-align: right;\n",
       "    }\n",
       "</style>\n",
       "<table border=\"1\" class=\"dataframe\">\n",
       "  <thead>\n",
       "    <tr style=\"text-align: right;\">\n",
       "      <th></th>\n",
       "      <th>province</th>\n",
       "      <th>country</th>\n",
       "      <th>date</th>\n",
       "      <th>confirmed</th>\n",
       "      <th>deaths</th>\n",
       "      <th>Lat</th>\n",
       "      <th>Long</th>\n",
       "      <th>recovered</th>\n",
       "    </tr>\n",
       "  </thead>\n",
       "  <tbody>\n",
       "    <tr>\n",
       "      <th>0</th>\n",
       "      <td>NaN</td>\n",
       "      <td>Afghanistan</td>\n",
       "      <td>2020-01-22</td>\n",
       "      <td>0.0</td>\n",
       "      <td>0.0</td>\n",
       "      <td>33.93911</td>\n",
       "      <td>67.709953</td>\n",
       "      <td>0.0</td>\n",
       "    </tr>\n",
       "    <tr>\n",
       "      <th>1</th>\n",
       "      <td>NaN</td>\n",
       "      <td>Albania</td>\n",
       "      <td>2020-01-22</td>\n",
       "      <td>0.0</td>\n",
       "      <td>0.0</td>\n",
       "      <td>41.15330</td>\n",
       "      <td>20.168300</td>\n",
       "      <td>0.0</td>\n",
       "    </tr>\n",
       "    <tr>\n",
       "      <th>2</th>\n",
       "      <td>NaN</td>\n",
       "      <td>Algeria</td>\n",
       "      <td>2020-01-22</td>\n",
       "      <td>0.0</td>\n",
       "      <td>0.0</td>\n",
       "      <td>28.03390</td>\n",
       "      <td>1.659600</td>\n",
       "      <td>0.0</td>\n",
       "    </tr>\n",
       "    <tr>\n",
       "      <th>3</th>\n",
       "      <td>NaN</td>\n",
       "      <td>Andorra</td>\n",
       "      <td>2020-01-22</td>\n",
       "      <td>0.0</td>\n",
       "      <td>0.0</td>\n",
       "      <td>42.50630</td>\n",
       "      <td>1.521800</td>\n",
       "      <td>0.0</td>\n",
       "    </tr>\n",
       "    <tr>\n",
       "      <th>4</th>\n",
       "      <td>NaN</td>\n",
       "      <td>Angola</td>\n",
       "      <td>2020-01-22</td>\n",
       "      <td>0.0</td>\n",
       "      <td>0.0</td>\n",
       "      <td>-11.20270</td>\n",
       "      <td>17.873900</td>\n",
       "      <td>0.0</td>\n",
       "    </tr>\n",
       "  </tbody>\n",
       "</table>\n",
       "</div>"
      ],
      "text/plain": [
       "  province      country       date  confirmed  deaths       Lat       Long  \\\n",
       "0      NaN  Afghanistan 2020-01-22        0.0     0.0  33.93911  67.709953   \n",
       "1      NaN      Albania 2020-01-22        0.0     0.0  41.15330  20.168300   \n",
       "2      NaN      Algeria 2020-01-22        0.0     0.0  28.03390   1.659600   \n",
       "3      NaN      Andorra 2020-01-22        0.0     0.0  42.50630   1.521800   \n",
       "4      NaN       Angola 2020-01-22        0.0     0.0 -11.20270  17.873900   \n",
       "\n",
       "   recovered  \n",
       "0        0.0  \n",
       "1        0.0  \n",
       "2        0.0  \n",
       "3        0.0  \n",
       "4        0.0  "
      ]
     },
     "execution_count": 219,
     "metadata": {},
     "output_type": "execute_result"
    }
   ],
   "source": [
    "data.head()"
   ]
  },
  {
   "cell_type": "code",
   "execution_count": 220,
   "id": "dbb5023e-9084-4370-889d-8a609db6611d",
   "metadata": {},
   "outputs": [],
   "source": [
    "# Active Case = confirmed - deaths - recovered\n",
    "data['Active'] = data['confirmed'] - data['deaths'] - data['recovered']"
   ]
  },
  {
   "cell_type": "code",
   "execution_count": 221,
   "id": "20084f02-4530-4e7b-9142-3ed58a5e07a2",
   "metadata": {},
   "outputs": [],
   "source": [
    "#full_grouped = data.groupby(['date', 'country'])['confirmed', 'deaths', 'recovered', 'Active'].sum().reset_index()"
   ]
  },
  {
   "cell_type": "code",
   "execution_count": 222,
   "id": "e6a712e7-4795-43e2-9282-675aa688f6fb",
   "metadata": {},
   "outputs": [],
   "source": [
    "#full_grouped.head()"
   ]
  },
  {
   "cell_type": "code",
   "execution_count": 223,
   "id": "969149ea-9648-4fa0-b45b-57f7f1825ef3",
   "metadata": {},
   "outputs": [
    {
     "name": "stderr",
     "output_type": "stream",
     "text": [
      "<ipython-input-223-65dab0683b34>:2: FutureWarning: Indexing with multiple keys (implicitly converted to a tuple of keys) will be deprecated, use a list instead.\n",
      "  temp = data.groupby(['country', 'date', ])['confirmed', 'deaths', 'recovered']\n"
     ]
    }
   ],
   "source": [
    "# new cases \n",
    "temp = data.groupby(['country', 'date', ])['confirmed', 'deaths', 'recovered']\n",
    "temp = temp.sum().diff().reset_index()\n",
    "mask = temp['country'] != temp['country'].shift(1)\n",
    "temp.loc[mask, 'confirmed'] = np.nan\n",
    "temp.loc[mask, 'deaths'] = np.nan\n",
    "temp.loc[mask, 'recovered'] = np.nan\n",
    "# renaming columns\n",
    "temp.columns = ['country', 'date', 'New cases', 'New deaths', 'New recovered']\n",
    "# merging new values\n",
    "data_final = pd.merge(data, temp, on=['country', 'date'])\n",
    "# filling na with 0\n",
    "data_final = data_final.fillna(0)\n",
    "# fixing data types\n",
    "cols = ['New cases', 'New deaths', 'New recovered']\n",
    "data_final[cols] = data_final[cols].astype('int')\n",
    "# \n",
    "data_final['New cases'] = data_final['New cases'].apply(lambda x: 0 if x<0 else x)"
   ]
  },
  {
   "cell_type": "code",
   "execution_count": 224,
   "id": "42b9386c-8c85-4b87-8613-0fdb4d385e38",
   "metadata": {},
   "outputs": [
    {
     "data": {
      "text/html": [
       "<div>\n",
       "<style scoped>\n",
       "    .dataframe tbody tr th:only-of-type {\n",
       "        vertical-align: middle;\n",
       "    }\n",
       "\n",
       "    .dataframe tbody tr th {\n",
       "        vertical-align: top;\n",
       "    }\n",
       "\n",
       "    .dataframe thead th {\n",
       "        text-align: right;\n",
       "    }\n",
       "</style>\n",
       "<table border=\"1\" class=\"dataframe\">\n",
       "  <thead>\n",
       "    <tr style=\"text-align: right;\">\n",
       "      <th></th>\n",
       "      <th>province</th>\n",
       "      <th>country</th>\n",
       "      <th>date</th>\n",
       "      <th>confirmed</th>\n",
       "      <th>deaths</th>\n",
       "      <th>Lat</th>\n",
       "      <th>Long</th>\n",
       "      <th>recovered</th>\n",
       "      <th>Active</th>\n",
       "      <th>New cases</th>\n",
       "      <th>New deaths</th>\n",
       "      <th>New recovered</th>\n",
       "    </tr>\n",
       "  </thead>\n",
       "  <tbody>\n",
       "    <tr>\n",
       "      <th>0</th>\n",
       "      <td>0</td>\n",
       "      <td>Afghanistan</td>\n",
       "      <td>2020-01-22</td>\n",
       "      <td>0.0</td>\n",
       "      <td>0.0</td>\n",
       "      <td>33.93911</td>\n",
       "      <td>67.709953</td>\n",
       "      <td>0.0</td>\n",
       "      <td>0.0</td>\n",
       "      <td>0</td>\n",
       "      <td>0</td>\n",
       "      <td>0</td>\n",
       "    </tr>\n",
       "    <tr>\n",
       "      <th>1</th>\n",
       "      <td>0</td>\n",
       "      <td>Albania</td>\n",
       "      <td>2020-01-22</td>\n",
       "      <td>0.0</td>\n",
       "      <td>0.0</td>\n",
       "      <td>41.15330</td>\n",
       "      <td>20.168300</td>\n",
       "      <td>0.0</td>\n",
       "      <td>0.0</td>\n",
       "      <td>0</td>\n",
       "      <td>0</td>\n",
       "      <td>0</td>\n",
       "    </tr>\n",
       "    <tr>\n",
       "      <th>2</th>\n",
       "      <td>0</td>\n",
       "      <td>Algeria</td>\n",
       "      <td>2020-01-22</td>\n",
       "      <td>0.0</td>\n",
       "      <td>0.0</td>\n",
       "      <td>28.03390</td>\n",
       "      <td>1.659600</td>\n",
       "      <td>0.0</td>\n",
       "      <td>0.0</td>\n",
       "      <td>0</td>\n",
       "      <td>0</td>\n",
       "      <td>0</td>\n",
       "    </tr>\n",
       "    <tr>\n",
       "      <th>3</th>\n",
       "      <td>0</td>\n",
       "      <td>Andorra</td>\n",
       "      <td>2020-01-22</td>\n",
       "      <td>0.0</td>\n",
       "      <td>0.0</td>\n",
       "      <td>42.50630</td>\n",
       "      <td>1.521800</td>\n",
       "      <td>0.0</td>\n",
       "      <td>0.0</td>\n",
       "      <td>0</td>\n",
       "      <td>0</td>\n",
       "      <td>0</td>\n",
       "    </tr>\n",
       "    <tr>\n",
       "      <th>4</th>\n",
       "      <td>0</td>\n",
       "      <td>Angola</td>\n",
       "      <td>2020-01-22</td>\n",
       "      <td>0.0</td>\n",
       "      <td>0.0</td>\n",
       "      <td>-11.20270</td>\n",
       "      <td>17.873900</td>\n",
       "      <td>0.0</td>\n",
       "      <td>0.0</td>\n",
       "      <td>0</td>\n",
       "      <td>0</td>\n",
       "      <td>0</td>\n",
       "    </tr>\n",
       "  </tbody>\n",
       "</table>\n",
       "</div>"
      ],
      "text/plain": [
       "  province      country       date  confirmed  deaths       Lat       Long  \\\n",
       "0        0  Afghanistan 2020-01-22        0.0     0.0  33.93911  67.709953   \n",
       "1        0      Albania 2020-01-22        0.0     0.0  41.15330  20.168300   \n",
       "2        0      Algeria 2020-01-22        0.0     0.0  28.03390   1.659600   \n",
       "3        0      Andorra 2020-01-22        0.0     0.0  42.50630   1.521800   \n",
       "4        0       Angola 2020-01-22        0.0     0.0 -11.20270  17.873900   \n",
       "\n",
       "   recovered  Active  New cases  New deaths  New recovered  \n",
       "0        0.0     0.0          0           0              0  \n",
       "1        0.0     0.0          0           0              0  \n",
       "2        0.0     0.0          0           0              0  \n",
       "3        0.0     0.0          0           0              0  \n",
       "4        0.0     0.0          0           0              0  "
      ]
     },
     "execution_count": 224,
     "metadata": {},
     "output_type": "execute_result"
    }
   ],
   "source": [
    "data_final.head()"
   ]
  },
  {
   "cell_type": "code",
   "execution_count": null,
   "id": "87324a64-1370-4b91-975d-c298d3a2e9ac",
   "metadata": {},
   "outputs": [],
   "source": []
  },
  {
   "cell_type": "code",
   "execution_count": null,
   "id": "6b3f1b34-3088-4a44-87f3-f7b642b5c96e",
   "metadata": {},
   "outputs": [],
   "source": []
  },
  {
   "cell_type": "code",
   "execution_count": null,
   "id": "36714d4e-d093-4808-baa3-09a3b5989952",
   "metadata": {},
   "outputs": [],
   "source": []
  },
  {
   "cell_type": "code",
   "execution_count": null,
   "id": "821a8aa8-2698-4d9c-af13-33da40eb17b6",
   "metadata": {},
   "outputs": [],
   "source": []
  },
  {
   "cell_type": "code",
   "execution_count": 225,
   "id": "31d84239-03cf-49a4-8158-c0771730e7b4",
   "metadata": {},
   "outputs": [
    {
     "data": {
      "text/html": [
       "<div>\n",
       "<style scoped>\n",
       "    .dataframe tbody tr th:only-of-type {\n",
       "        vertical-align: middle;\n",
       "    }\n",
       "\n",
       "    .dataframe tbody tr th {\n",
       "        vertical-align: top;\n",
       "    }\n",
       "\n",
       "    .dataframe thead th {\n",
       "        text-align: right;\n",
       "    }\n",
       "</style>\n",
       "<table border=\"1\" class=\"dataframe\">\n",
       "  <thead>\n",
       "    <tr style=\"text-align: right;\">\n",
       "      <th></th>\n",
       "      <th>iso_code</th>\n",
       "      <th>country</th>\n",
       "      <th>2021_last_updated</th>\n",
       "      <th>2020_population</th>\n",
       "      <th>area</th>\n",
       "      <th>density_sq_km</th>\n",
       "      <th>growth_rate</th>\n",
       "      <th>world_%</th>\n",
       "      <th>rank</th>\n",
       "    </tr>\n",
       "  </thead>\n",
       "  <tbody>\n",
       "    <tr>\n",
       "      <th>0</th>\n",
       "      <td>CHN</td>\n",
       "      <td>China</td>\n",
       "      <td>1,446,615,874</td>\n",
       "      <td>1,439,323,776</td>\n",
       "      <td>9,706,961 sq_km</td>\n",
       "      <td>149/sq_km</td>\n",
       "      <td>0.34%</td>\n",
       "      <td>18.34%</td>\n",
       "      <td>1</td>\n",
       "    </tr>\n",
       "    <tr>\n",
       "      <th>1</th>\n",
       "      <td>IND</td>\n",
       "      <td>India</td>\n",
       "      <td>1,400,064,125</td>\n",
       "      <td>1,380,004,385</td>\n",
       "      <td>3,287,590 sq_km</td>\n",
       "      <td>424/sq_km</td>\n",
       "      <td>0.97%</td>\n",
       "      <td>17.69%</td>\n",
       "      <td>2</td>\n",
       "    </tr>\n",
       "    <tr>\n",
       "      <th>2</th>\n",
       "      <td>USA</td>\n",
       "      <td>United States</td>\n",
       "      <td>333,878,066</td>\n",
       "      <td>331,002,651</td>\n",
       "      <td>9,372,610 sq_km</td>\n",
       "      <td>36/sq_km</td>\n",
       "      <td>0.58%</td>\n",
       "      <td>4.23%</td>\n",
       "      <td>3</td>\n",
       "    </tr>\n",
       "    <tr>\n",
       "      <th>3</th>\n",
       "      <td>IDN</td>\n",
       "      <td>Indonesia</td>\n",
       "      <td>277,772,962</td>\n",
       "      <td>273,523,615</td>\n",
       "      <td>1,904,569 sq_km</td>\n",
       "      <td>145/sq_km</td>\n",
       "      <td>1.04%</td>\n",
       "      <td>3.51%</td>\n",
       "      <td>4</td>\n",
       "    </tr>\n",
       "    <tr>\n",
       "      <th>4</th>\n",
       "      <td>PAK</td>\n",
       "      <td>Pakistan</td>\n",
       "      <td>227,326,508</td>\n",
       "      <td>220,892,340</td>\n",
       "      <td>881,912 sq_km</td>\n",
       "      <td>255/sq_km</td>\n",
       "      <td>1.95%</td>\n",
       "      <td>2.86%</td>\n",
       "      <td>5</td>\n",
       "    </tr>\n",
       "  </tbody>\n",
       "</table>\n",
       "</div>"
      ],
      "text/plain": [
       "  iso_code        country 2021_last_updated 2020_population             area  \\\n",
       "0      CHN          China     1,446,615,874   1,439,323,776  9,706,961 sq_km   \n",
       "1      IND          India     1,400,064,125   1,380,004,385  3,287,590 sq_km   \n",
       "2      USA  United States       333,878,066     331,002,651  9,372,610 sq_km   \n",
       "3      IDN      Indonesia       277,772,962     273,523,615  1,904,569 sq_km   \n",
       "4      PAK       Pakistan       227,326,508     220,892,340    881,912 sq_km   \n",
       "\n",
       "  density_sq_km growth_rate world_%  rank  \n",
       "0     149/sq_km       0.34%  18.34%     1  \n",
       "1     424/sq_km       0.97%  17.69%     2  \n",
       "2      36/sq_km       0.58%   4.23%     3  \n",
       "3     145/sq_km       1.04%   3.51%     4  \n",
       "4     255/sq_km       1.95%   2.86%     5  "
      ]
     },
     "execution_count": 225,
     "metadata": {},
     "output_type": "execute_result"
    }
   ],
   "source": [
    "population = pd.read_csv('2021_population.csv')\n",
    "population.head()"
   ]
  },
  {
   "cell_type": "code",
   "execution_count": 226,
   "id": "fb320f65-23e9-4c1d-a39f-ae2b9688b66f",
   "metadata": {
    "tags": []
   },
   "outputs": [],
   "source": [
    "population.drop(['2020_population', 'area','density_sq_km', 'growth_rate', 'world_%', 'rank'], axis=1, inplace=True) "
   ]
  },
  {
   "cell_type": "code",
   "execution_count": 227,
   "id": "4a67d98f-af98-4a67-ba16-65f258d4b416",
   "metadata": {},
   "outputs": [],
   "source": [
    "population.rename(columns={'2021_last_updated':'population'}, inplace=True)"
   ]
  },
  {
   "cell_type": "code",
   "execution_count": 228,
   "id": "c6574c06-0889-475a-96e9-c9692fc63491",
   "metadata": {},
   "outputs": [
    {
     "name": "stdout",
     "output_type": "stream",
     "text": [
      "<class 'pandas.core.frame.DataFrame'>\n",
      "RangeIndex: 224 entries, 0 to 223\n",
      "Data columns (total 3 columns):\n",
      " #   Column      Non-Null Count  Dtype \n",
      "---  ------      --------------  ----- \n",
      " 0   iso_code    224 non-null    object\n",
      " 1   country     224 non-null    object\n",
      " 2   population  224 non-null    object\n",
      "dtypes: object(3)\n",
      "memory usage: 5.4+ KB\n"
     ]
    }
   ],
   "source": [
    "population.info()"
   ]
  },
  {
   "cell_type": "code",
   "execution_count": 229,
   "id": "142f80ce-6900-445f-9dc1-9e7618e40572",
   "metadata": {},
   "outputs": [],
   "source": [
    "population['population'] = population['population'].str.replace(',', '')"
   ]
  },
  {
   "cell_type": "code",
   "execution_count": 230,
   "id": "4b6de90a-55e2-4a8c-9944-adc606d3135c",
   "metadata": {},
   "outputs": [],
   "source": [
    "population['population'] = population['population'].astype(int)"
   ]
  },
  {
   "cell_type": "code",
   "execution_count": 231,
   "id": "298eab01-dfe8-418d-8275-8811bf409342",
   "metadata": {},
   "outputs": [
    {
     "name": "stdout",
     "output_type": "stream",
     "text": [
      "<class 'pandas.core.frame.DataFrame'>\n",
      "RangeIndex: 224 entries, 0 to 223\n",
      "Data columns (total 3 columns):\n",
      " #   Column      Non-Null Count  Dtype \n",
      "---  ------      --------------  ----- \n",
      " 0   iso_code    224 non-null    object\n",
      " 1   country     224 non-null    object\n",
      " 2   population  224 non-null    int64 \n",
      "dtypes: int64(1), object(2)\n",
      "memory usage: 5.4+ KB\n"
     ]
    }
   ],
   "source": [
    "population.info()"
   ]
  },
  {
   "cell_type": "code",
   "execution_count": null,
   "id": "e7cb89cc-f751-4787-aa51-8144a5bb9976",
   "metadata": {},
   "outputs": [],
   "source": []
  },
  {
   "cell_type": "code",
   "execution_count": 232,
   "id": "8d54e312-cece-49f9-9011-6680cac18747",
   "metadata": {},
   "outputs": [],
   "source": [
    "data_pop = pd.merge(data_final, population, how='left', on='country')"
   ]
  },
  {
   "cell_type": "code",
   "execution_count": 233,
   "id": "b35e2e39-32ce-4a3b-bb53-e8d5e090055c",
   "metadata": {},
   "outputs": [
    {
     "name": "stdout",
     "output_type": "stream",
     "text": [
      "<class 'pandas.core.frame.DataFrame'>\n",
      "Int64Index: 204849 entries, 0 to 204848\n",
      "Data columns (total 14 columns):\n",
      " #   Column         Non-Null Count   Dtype         \n",
      "---  ------         --------------   -----         \n",
      " 0   province       204849 non-null  object        \n",
      " 1   country        204849 non-null  object        \n",
      " 2   date           204849 non-null  datetime64[ns]\n",
      " 3   confirmed      204849 non-null  float64       \n",
      " 4   deaths         204849 non-null  float64       \n",
      " 5   Lat            204849 non-null  float64       \n",
      " 6   Long           204849 non-null  float64       \n",
      " 7   recovered      204849 non-null  float64       \n",
      " 8   Active         204849 non-null  float64       \n",
      " 9   New cases      204849 non-null  int64         \n",
      " 10  New deaths     204849 non-null  int64         \n",
      " 11  New recovered  204849 non-null  int64         \n",
      " 12  iso_code       187353 non-null  object        \n",
      " 13  population     187353 non-null  float64       \n",
      "dtypes: datetime64[ns](1), float64(7), int64(3), object(3)\n",
      "memory usage: 23.4+ MB\n"
     ]
    }
   ],
   "source": [
    "data_pop.info()"
   ]
  },
  {
   "cell_type": "code",
   "execution_count": 234,
   "id": "183afb29-9d3d-4cc7-9e84-51c23816415e",
   "metadata": {},
   "outputs": [],
   "source": [
    "#Positivity_rate= confirmed cases/ population\n",
    "#tests per capita = total number of tests / population\n",
    "#mortality rate = deaths / confirmed\n",
    "#recovery_rate = recovered/ confirmed\n",
    "#total active= confirmed-recovered-deaths"
   ]
  },
  {
   "cell_type": "code",
   "execution_count": null,
   "id": "f2da3369-9fe6-45c6-9abc-8a1fc1dfdb38",
   "metadata": {},
   "outputs": [],
   "source": []
  },
  {
   "cell_type": "code",
   "execution_count": 235,
   "id": "28ee3d79-f688-48ec-885a-db623ba3dc17",
   "metadata": {},
   "outputs": [],
   "source": [
    "data_pop = data_pop.assign(positivity_rate = lambda x: x['confirmed'] / x['population'])"
   ]
  },
  {
   "cell_type": "code",
   "execution_count": 236,
   "id": "b660a2a6-22a3-4e54-afe6-718544b3e645",
   "metadata": {},
   "outputs": [],
   "source": [
    "data_pop = data_pop.assign(mortality_rate = lambda x: x['deaths'] / x['confirmed'])"
   ]
  },
  {
   "cell_type": "code",
   "execution_count": 237,
   "id": "324f21be-5533-4d61-87ea-6be396f078b9",
   "metadata": {},
   "outputs": [],
   "source": [
    "#data_pop = data_pop.assign(total_active = lambda x: x['confirmed'] - x['recovered'] - x['deaths'])"
   ]
  },
  {
   "cell_type": "code",
   "execution_count": 238,
   "id": "8f4d0537-fb34-40f1-8f5e-b9292b315f30",
   "metadata": {},
   "outputs": [
    {
     "data": {
      "text/html": [
       "<div>\n",
       "<style scoped>\n",
       "    .dataframe tbody tr th:only-of-type {\n",
       "        vertical-align: middle;\n",
       "    }\n",
       "\n",
       "    .dataframe tbody tr th {\n",
       "        vertical-align: top;\n",
       "    }\n",
       "\n",
       "    .dataframe thead th {\n",
       "        text-align: right;\n",
       "    }\n",
       "</style>\n",
       "<table border=\"1\" class=\"dataframe\">\n",
       "  <thead>\n",
       "    <tr style=\"text-align: right;\">\n",
       "      <th></th>\n",
       "      <th>province</th>\n",
       "      <th>country</th>\n",
       "      <th>date</th>\n",
       "      <th>confirmed</th>\n",
       "      <th>deaths</th>\n",
       "      <th>Lat</th>\n",
       "      <th>Long</th>\n",
       "      <th>recovered</th>\n",
       "      <th>Active</th>\n",
       "      <th>New cases</th>\n",
       "      <th>New deaths</th>\n",
       "      <th>New recovered</th>\n",
       "      <th>iso_code</th>\n",
       "      <th>population</th>\n",
       "      <th>positivity_rate</th>\n",
       "      <th>mortality_rate</th>\n",
       "    </tr>\n",
       "  </thead>\n",
       "  <tbody>\n",
       "    <tr>\n",
       "      <th>0</th>\n",
       "      <td>0</td>\n",
       "      <td>Afghanistan</td>\n",
       "      <td>2020-01-22</td>\n",
       "      <td>0.0</td>\n",
       "      <td>0.0</td>\n",
       "      <td>33.93911</td>\n",
       "      <td>67.709953</td>\n",
       "      <td>0.0</td>\n",
       "      <td>0.0</td>\n",
       "      <td>0</td>\n",
       "      <td>0</td>\n",
       "      <td>0</td>\n",
       "      <td>AFG</td>\n",
       "      <td>40289605.0</td>\n",
       "      <td>0.0</td>\n",
       "      <td>NaN</td>\n",
       "    </tr>\n",
       "    <tr>\n",
       "      <th>1</th>\n",
       "      <td>0</td>\n",
       "      <td>Albania</td>\n",
       "      <td>2020-01-22</td>\n",
       "      <td>0.0</td>\n",
       "      <td>0.0</td>\n",
       "      <td>41.15330</td>\n",
       "      <td>20.168300</td>\n",
       "      <td>0.0</td>\n",
       "      <td>0.0</td>\n",
       "      <td>0</td>\n",
       "      <td>0</td>\n",
       "      <td>0</td>\n",
       "      <td>ALB</td>\n",
       "      <td>2870210.0</td>\n",
       "      <td>0.0</td>\n",
       "      <td>NaN</td>\n",
       "    </tr>\n",
       "    <tr>\n",
       "      <th>2</th>\n",
       "      <td>0</td>\n",
       "      <td>Algeria</td>\n",
       "      <td>2020-01-22</td>\n",
       "      <td>0.0</td>\n",
       "      <td>0.0</td>\n",
       "      <td>28.03390</td>\n",
       "      <td>1.659600</td>\n",
       "      <td>0.0</td>\n",
       "      <td>0.0</td>\n",
       "      <td>0</td>\n",
       "      <td>0</td>\n",
       "      <td>0</td>\n",
       "      <td>DZA</td>\n",
       "      <td>44991656.0</td>\n",
       "      <td>0.0</td>\n",
       "      <td>NaN</td>\n",
       "    </tr>\n",
       "    <tr>\n",
       "      <th>3</th>\n",
       "      <td>0</td>\n",
       "      <td>Andorra</td>\n",
       "      <td>2020-01-22</td>\n",
       "      <td>0.0</td>\n",
       "      <td>0.0</td>\n",
       "      <td>42.50630</td>\n",
       "      <td>1.521800</td>\n",
       "      <td>0.0</td>\n",
       "      <td>0.0</td>\n",
       "      <td>0</td>\n",
       "      <td>0</td>\n",
       "      <td>0</td>\n",
       "      <td>AND</td>\n",
       "      <td>77355.0</td>\n",
       "      <td>0.0</td>\n",
       "      <td>NaN</td>\n",
       "    </tr>\n",
       "    <tr>\n",
       "      <th>4</th>\n",
       "      <td>0</td>\n",
       "      <td>Angola</td>\n",
       "      <td>2020-01-22</td>\n",
       "      <td>0.0</td>\n",
       "      <td>0.0</td>\n",
       "      <td>-11.20270</td>\n",
       "      <td>17.873900</td>\n",
       "      <td>0.0</td>\n",
       "      <td>0.0</td>\n",
       "      <td>0</td>\n",
       "      <td>0</td>\n",
       "      <td>0</td>\n",
       "      <td>AGO</td>\n",
       "      <td>34466387.0</td>\n",
       "      <td>0.0</td>\n",
       "      <td>NaN</td>\n",
       "    </tr>\n",
       "  </tbody>\n",
       "</table>\n",
       "</div>"
      ],
      "text/plain": [
       "  province      country       date  confirmed  deaths       Lat       Long  \\\n",
       "0        0  Afghanistan 2020-01-22        0.0     0.0  33.93911  67.709953   \n",
       "1        0      Albania 2020-01-22        0.0     0.0  41.15330  20.168300   \n",
       "2        0      Algeria 2020-01-22        0.0     0.0  28.03390   1.659600   \n",
       "3        0      Andorra 2020-01-22        0.0     0.0  42.50630   1.521800   \n",
       "4        0       Angola 2020-01-22        0.0     0.0 -11.20270  17.873900   \n",
       "\n",
       "   recovered  Active  New cases  New deaths  New recovered iso_code  \\\n",
       "0        0.0     0.0          0           0              0      AFG   \n",
       "1        0.0     0.0          0           0              0      ALB   \n",
       "2        0.0     0.0          0           0              0      DZA   \n",
       "3        0.0     0.0          0           0              0      AND   \n",
       "4        0.0     0.0          0           0              0      AGO   \n",
       "\n",
       "   population  positivity_rate  mortality_rate  \n",
       "0  40289605.0              0.0             NaN  \n",
       "1   2870210.0              0.0             NaN  \n",
       "2  44991656.0              0.0             NaN  \n",
       "3     77355.0              0.0             NaN  \n",
       "4  34466387.0              0.0             NaN  "
      ]
     },
     "execution_count": 238,
     "metadata": {},
     "output_type": "execute_result"
    }
   ],
   "source": [
    "data_pop.head()"
   ]
  },
  {
   "cell_type": "code",
   "execution_count": 239,
   "id": "ab9367f8-31fe-4610-ae3b-635930239b1b",
   "metadata": {},
   "outputs": [],
   "source": [
    "data_pop.to_csv('final.csv')"
   ]
  },
  {
   "cell_type": "code",
   "execution_count": null,
   "id": "dd6699bf-cb90-4351-ac0f-f3dfc10a3e65",
   "metadata": {},
   "outputs": [],
   "source": []
  },
  {
   "cell_type": "code",
   "execution_count": null,
   "id": "f882cb12-16e8-45a7-9da4-c4bd9e5e90ac",
   "metadata": {},
   "outputs": [],
   "source": []
  },
  {
   "cell_type": "code",
   "execution_count": null,
   "id": "30269275-a0a5-4ba5-bf10-d629db73ab2b",
   "metadata": {},
   "outputs": [],
   "source": []
  },
  {
   "cell_type": "code",
   "execution_count": null,
   "id": "65a87ca0-4af0-49bd-9dd7-9771e9fe3e90",
   "metadata": {},
   "outputs": [],
   "source": []
  },
  {
   "cell_type": "code",
   "execution_count": null,
   "id": "2272935e-6d5b-44e9-b85f-a4995bea01f2",
   "metadata": {},
   "outputs": [],
   "source": []
  },
  {
   "cell_type": "code",
   "execution_count": null,
   "id": "d7841f5d-8e5c-4c08-86b7-6002d0fa4011",
   "metadata": {},
   "outputs": [],
   "source": []
  },
  {
   "cell_type": "code",
   "execution_count": 240,
   "id": "3bfd0676-cf01-42be-9013-30b5281a3c98",
   "metadata": {},
   "outputs": [],
   "source": [
    "vaccination = pd.read_csv('vaccinations.csv')\n",
    "vaccination_age = pd.read_csv('vaccinations-by-age-group.csv')\n",
    "vaccination_m = pd.read_csv('vaccinations-by-manufacturer.csv')"
   ]
  },
  {
   "cell_type": "code",
   "execution_count": 241,
   "id": "d0220d40-2065-4fed-ad7c-fd363a829b5a",
   "metadata": {},
   "outputs": [
    {
     "data": {
      "text/html": [
       "<div>\n",
       "<style scoped>\n",
       "    .dataframe tbody tr th:only-of-type {\n",
       "        vertical-align: middle;\n",
       "    }\n",
       "\n",
       "    .dataframe tbody tr th {\n",
       "        vertical-align: top;\n",
       "    }\n",
       "\n",
       "    .dataframe thead th {\n",
       "        text-align: right;\n",
       "    }\n",
       "</style>\n",
       "<table border=\"1\" class=\"dataframe\">\n",
       "  <thead>\n",
       "    <tr style=\"text-align: right;\">\n",
       "      <th></th>\n",
       "      <th>location</th>\n",
       "      <th>iso_code</th>\n",
       "      <th>date</th>\n",
       "      <th>total_vaccinations</th>\n",
       "      <th>people_vaccinated</th>\n",
       "      <th>people_fully_vaccinated</th>\n",
       "      <th>total_boosters</th>\n",
       "      <th>daily_vaccinations_raw</th>\n",
       "      <th>daily_vaccinations</th>\n",
       "      <th>total_vaccinations_per_hundred</th>\n",
       "      <th>people_vaccinated_per_hundred</th>\n",
       "      <th>people_fully_vaccinated_per_hundred</th>\n",
       "      <th>total_boosters_per_hundred</th>\n",
       "      <th>daily_vaccinations_per_million</th>\n",
       "      <th>daily_people_vaccinated</th>\n",
       "      <th>daily_people_vaccinated_per_hundred</th>\n",
       "    </tr>\n",
       "  </thead>\n",
       "  <tbody>\n",
       "    <tr>\n",
       "      <th>0</th>\n",
       "      <td>Afghanistan</td>\n",
       "      <td>AFG</td>\n",
       "      <td>2021-02-22</td>\n",
       "      <td>0.0</td>\n",
       "      <td>0.0</td>\n",
       "      <td>NaN</td>\n",
       "      <td>NaN</td>\n",
       "      <td>NaN</td>\n",
       "      <td>NaN</td>\n",
       "      <td>0.0</td>\n",
       "      <td>0.0</td>\n",
       "      <td>NaN</td>\n",
       "      <td>NaN</td>\n",
       "      <td>NaN</td>\n",
       "      <td>NaN</td>\n",
       "      <td>NaN</td>\n",
       "    </tr>\n",
       "    <tr>\n",
       "      <th>1</th>\n",
       "      <td>Afghanistan</td>\n",
       "      <td>AFG</td>\n",
       "      <td>2021-02-23</td>\n",
       "      <td>NaN</td>\n",
       "      <td>NaN</td>\n",
       "      <td>NaN</td>\n",
       "      <td>NaN</td>\n",
       "      <td>NaN</td>\n",
       "      <td>1367.0</td>\n",
       "      <td>NaN</td>\n",
       "      <td>NaN</td>\n",
       "      <td>NaN</td>\n",
       "      <td>NaN</td>\n",
       "      <td>34.0</td>\n",
       "      <td>1367.0</td>\n",
       "      <td>0.003</td>\n",
       "    </tr>\n",
       "    <tr>\n",
       "      <th>2</th>\n",
       "      <td>Afghanistan</td>\n",
       "      <td>AFG</td>\n",
       "      <td>2021-02-24</td>\n",
       "      <td>NaN</td>\n",
       "      <td>NaN</td>\n",
       "      <td>NaN</td>\n",
       "      <td>NaN</td>\n",
       "      <td>NaN</td>\n",
       "      <td>1367.0</td>\n",
       "      <td>NaN</td>\n",
       "      <td>NaN</td>\n",
       "      <td>NaN</td>\n",
       "      <td>NaN</td>\n",
       "      <td>34.0</td>\n",
       "      <td>1367.0</td>\n",
       "      <td>0.003</td>\n",
       "    </tr>\n",
       "    <tr>\n",
       "      <th>3</th>\n",
       "      <td>Afghanistan</td>\n",
       "      <td>AFG</td>\n",
       "      <td>2021-02-25</td>\n",
       "      <td>NaN</td>\n",
       "      <td>NaN</td>\n",
       "      <td>NaN</td>\n",
       "      <td>NaN</td>\n",
       "      <td>NaN</td>\n",
       "      <td>1367.0</td>\n",
       "      <td>NaN</td>\n",
       "      <td>NaN</td>\n",
       "      <td>NaN</td>\n",
       "      <td>NaN</td>\n",
       "      <td>34.0</td>\n",
       "      <td>1367.0</td>\n",
       "      <td>0.003</td>\n",
       "    </tr>\n",
       "    <tr>\n",
       "      <th>4</th>\n",
       "      <td>Afghanistan</td>\n",
       "      <td>AFG</td>\n",
       "      <td>2021-02-26</td>\n",
       "      <td>NaN</td>\n",
       "      <td>NaN</td>\n",
       "      <td>NaN</td>\n",
       "      <td>NaN</td>\n",
       "      <td>NaN</td>\n",
       "      <td>1367.0</td>\n",
       "      <td>NaN</td>\n",
       "      <td>NaN</td>\n",
       "      <td>NaN</td>\n",
       "      <td>NaN</td>\n",
       "      <td>34.0</td>\n",
       "      <td>1367.0</td>\n",
       "      <td>0.003</td>\n",
       "    </tr>\n",
       "  </tbody>\n",
       "</table>\n",
       "</div>"
      ],
      "text/plain": [
       "      location iso_code        date  total_vaccinations  people_vaccinated  \\\n",
       "0  Afghanistan      AFG  2021-02-22                 0.0                0.0   \n",
       "1  Afghanistan      AFG  2021-02-23                 NaN                NaN   \n",
       "2  Afghanistan      AFG  2021-02-24                 NaN                NaN   \n",
       "3  Afghanistan      AFG  2021-02-25                 NaN                NaN   \n",
       "4  Afghanistan      AFG  2021-02-26                 NaN                NaN   \n",
       "\n",
       "   people_fully_vaccinated  total_boosters  daily_vaccinations_raw  \\\n",
       "0                      NaN             NaN                     NaN   \n",
       "1                      NaN             NaN                     NaN   \n",
       "2                      NaN             NaN                     NaN   \n",
       "3                      NaN             NaN                     NaN   \n",
       "4                      NaN             NaN                     NaN   \n",
       "\n",
       "   daily_vaccinations  total_vaccinations_per_hundred  \\\n",
       "0                 NaN                             0.0   \n",
       "1              1367.0                             NaN   \n",
       "2              1367.0                             NaN   \n",
       "3              1367.0                             NaN   \n",
       "4              1367.0                             NaN   \n",
       "\n",
       "   people_vaccinated_per_hundred  people_fully_vaccinated_per_hundred  \\\n",
       "0                            0.0                                  NaN   \n",
       "1                            NaN                                  NaN   \n",
       "2                            NaN                                  NaN   \n",
       "3                            NaN                                  NaN   \n",
       "4                            NaN                                  NaN   \n",
       "\n",
       "   total_boosters_per_hundred  daily_vaccinations_per_million  \\\n",
       "0                         NaN                             NaN   \n",
       "1                         NaN                            34.0   \n",
       "2                         NaN                            34.0   \n",
       "3                         NaN                            34.0   \n",
       "4                         NaN                            34.0   \n",
       "\n",
       "   daily_people_vaccinated  daily_people_vaccinated_per_hundred  \n",
       "0                      NaN                                  NaN  \n",
       "1                   1367.0                                0.003  \n",
       "2                   1367.0                                0.003  \n",
       "3                   1367.0                                0.003  \n",
       "4                   1367.0                                0.003  "
      ]
     },
     "execution_count": 241,
     "metadata": {},
     "output_type": "execute_result"
    }
   ],
   "source": [
    "vaccination.head()"
   ]
  },
  {
   "cell_type": "code",
   "execution_count": 242,
   "id": "2c0b7b5c-9690-48da-94b7-51164834b6d8",
   "metadata": {},
   "outputs": [
    {
     "name": "stdout",
     "output_type": "stream",
     "text": [
      "<class 'pandas.core.frame.DataFrame'>\n",
      "RangeIndex: 76512 entries, 0 to 76511\n",
      "Data columns (total 16 columns):\n",
      " #   Column                               Non-Null Count  Dtype  \n",
      "---  ------                               --------------  -----  \n",
      " 0   location                             76512 non-null  object \n",
      " 1   iso_code                             76512 non-null  object \n",
      " 2   date                                 76512 non-null  object \n",
      " 3   total_vaccinations                   42157 non-null  float64\n",
      " 4   people_vaccinated                    40355 non-null  float64\n",
      " 5   people_fully_vaccinated              37407 non-null  float64\n",
      " 6   total_boosters                       13897 non-null  float64\n",
      " 7   daily_vaccinations_raw               35224 non-null  float64\n",
      " 8   daily_vaccinations                   76137 non-null  float64\n",
      " 9   total_vaccinations_per_hundred       42157 non-null  float64\n",
      " 10  people_vaccinated_per_hundred        40355 non-null  float64\n",
      " 11  people_fully_vaccinated_per_hundred  37407 non-null  float64\n",
      " 12  total_boosters_per_hundred           13897 non-null  float64\n",
      " 13  daily_vaccinations_per_million       76137 non-null  float64\n",
      " 14  daily_people_vaccinated              75111 non-null  float64\n",
      " 15  daily_people_vaccinated_per_hundred  75111 non-null  float64\n",
      "dtypes: float64(13), object(3)\n",
      "memory usage: 9.3+ MB\n"
     ]
    }
   ],
   "source": [
    "vaccination.info()"
   ]
  },
  {
   "cell_type": "code",
   "execution_count": 243,
   "id": "c178a293-1dc0-43ad-bf0f-59d5b757df1b",
   "metadata": {},
   "outputs": [],
   "source": [
    "vaccination.rename(columns={'location':'country'}, inplace=True)"
   ]
  },
  {
   "cell_type": "code",
   "execution_count": 244,
   "id": "50787927-2f10-4911-8f6b-b824870f88cb",
   "metadata": {},
   "outputs": [],
   "source": [
    "vaccination['date']= pd.to_datetime(vaccination['date'])"
   ]
  },
  {
   "cell_type": "code",
   "execution_count": 245,
   "id": "0318a235-1d7e-40af-862f-7ab7eda1d507",
   "metadata": {},
   "outputs": [],
   "source": [
    "vaccination['year_month'] = pd.to_datetime(vaccination['date']).dt.to_period('M')"
   ]
  },
  {
   "cell_type": "code",
   "execution_count": 246,
   "id": "3095f2cc-bbe3-42d6-95d5-e74c952d2086",
   "metadata": {},
   "outputs": [],
   "source": [
    "vaccination['year'] = pd.to_datetime(vaccination['date']).dt.to_period('Y')"
   ]
  },
  {
   "cell_type": "code",
   "execution_count": 247,
   "id": "c508633c-3c0d-4f75-840c-2fafc4982246",
   "metadata": {},
   "outputs": [],
   "source": [
    "vaccination_pop = pd.merge(vaccination, population, how='left', on='country')"
   ]
  },
  {
   "cell_type": "code",
   "execution_count": 248,
   "id": "6a034d40-ffd2-46e4-a37a-492dae63591c",
   "metadata": {},
   "outputs": [
    {
     "name": "stdout",
     "output_type": "stream",
     "text": [
      "<class 'pandas.core.frame.DataFrame'>\n",
      "Int64Index: 76512 entries, 0 to 76511\n",
      "Data columns (total 20 columns):\n",
      " #   Column                               Non-Null Count  Dtype         \n",
      "---  ------                               --------------  -----         \n",
      " 0   country                              76512 non-null  object        \n",
      " 1   iso_code_x                           76512 non-null  object        \n",
      " 2   date                                 76512 non-null  datetime64[ns]\n",
      " 3   total_vaccinations                   42157 non-null  float64       \n",
      " 4   people_vaccinated                    40355 non-null  float64       \n",
      " 5   people_fully_vaccinated              37407 non-null  float64       \n",
      " 6   total_boosters                       13897 non-null  float64       \n",
      " 7   daily_vaccinations_raw               35224 non-null  float64       \n",
      " 8   daily_vaccinations                   76137 non-null  float64       \n",
      " 9   total_vaccinations_per_hundred       42157 non-null  float64       \n",
      " 10  people_vaccinated_per_hundred        40355 non-null  float64       \n",
      " 11  people_fully_vaccinated_per_hundred  37407 non-null  float64       \n",
      " 12  total_boosters_per_hundred           13897 non-null  float64       \n",
      " 13  daily_vaccinations_per_million       76137 non-null  float64       \n",
      " 14  daily_people_vaccinated              75111 non-null  float64       \n",
      " 15  daily_people_vaccinated_per_hundred  75111 non-null  float64       \n",
      " 16  year_month                           76512 non-null  period[M]     \n",
      " 17  year                                 76512 non-null  period[A-DEC] \n",
      " 18  iso_code_y                           62596 non-null  object        \n",
      " 19  population                           62596 non-null  float64       \n",
      "dtypes: datetime64[ns](1), float64(14), object(3), period[A-DEC](1), period[M](1)\n",
      "memory usage: 12.3+ MB\n"
     ]
    }
   ],
   "source": [
    "vaccination_pop.info()"
   ]
  },
  {
   "cell_type": "code",
   "execution_count": 249,
   "id": "da6a26ca-412d-43b9-a469-0d94492a6e02",
   "metadata": {},
   "outputs": [],
   "source": [
    "vaccination_pop = vaccination_pop.assign(vac_per_pop = lambda x: x['people_fully_vaccinated'] / x['population'])"
   ]
  },
  {
   "cell_type": "code",
   "execution_count": 250,
   "id": "a737de42-4c78-4d49-8798-be93356f5c98",
   "metadata": {},
   "outputs": [
    {
     "data": {
      "text/html": [
       "<div>\n",
       "<style scoped>\n",
       "    .dataframe tbody tr th:only-of-type {\n",
       "        vertical-align: middle;\n",
       "    }\n",
       "\n",
       "    .dataframe tbody tr th {\n",
       "        vertical-align: top;\n",
       "    }\n",
       "\n",
       "    .dataframe thead th {\n",
       "        text-align: right;\n",
       "    }\n",
       "</style>\n",
       "<table border=\"1\" class=\"dataframe\">\n",
       "  <thead>\n",
       "    <tr style=\"text-align: right;\">\n",
       "      <th></th>\n",
       "      <th>country</th>\n",
       "      <th>iso_code_x</th>\n",
       "      <th>date</th>\n",
       "      <th>total_vaccinations</th>\n",
       "      <th>people_vaccinated</th>\n",
       "      <th>people_fully_vaccinated</th>\n",
       "      <th>total_boosters</th>\n",
       "      <th>daily_vaccinations_raw</th>\n",
       "      <th>daily_vaccinations</th>\n",
       "      <th>total_vaccinations_per_hundred</th>\n",
       "      <th>...</th>\n",
       "      <th>people_fully_vaccinated_per_hundred</th>\n",
       "      <th>total_boosters_per_hundred</th>\n",
       "      <th>daily_vaccinations_per_million</th>\n",
       "      <th>daily_people_vaccinated</th>\n",
       "      <th>daily_people_vaccinated_per_hundred</th>\n",
       "      <th>year_month</th>\n",
       "      <th>year</th>\n",
       "      <th>iso_code_y</th>\n",
       "      <th>population</th>\n",
       "      <th>vac_per_pop</th>\n",
       "    </tr>\n",
       "  </thead>\n",
       "  <tbody>\n",
       "    <tr>\n",
       "      <th>0</th>\n",
       "      <td>Afghanistan</td>\n",
       "      <td>AFG</td>\n",
       "      <td>2021-02-22</td>\n",
       "      <td>0.0</td>\n",
       "      <td>0.0</td>\n",
       "      <td>NaN</td>\n",
       "      <td>NaN</td>\n",
       "      <td>NaN</td>\n",
       "      <td>NaN</td>\n",
       "      <td>0.0</td>\n",
       "      <td>...</td>\n",
       "      <td>NaN</td>\n",
       "      <td>NaN</td>\n",
       "      <td>NaN</td>\n",
       "      <td>NaN</td>\n",
       "      <td>NaN</td>\n",
       "      <td>2021-02</td>\n",
       "      <td>2021</td>\n",
       "      <td>AFG</td>\n",
       "      <td>40289605.0</td>\n",
       "      <td>NaN</td>\n",
       "    </tr>\n",
       "    <tr>\n",
       "      <th>1</th>\n",
       "      <td>Afghanistan</td>\n",
       "      <td>AFG</td>\n",
       "      <td>2021-02-23</td>\n",
       "      <td>NaN</td>\n",
       "      <td>NaN</td>\n",
       "      <td>NaN</td>\n",
       "      <td>NaN</td>\n",
       "      <td>NaN</td>\n",
       "      <td>1367.0</td>\n",
       "      <td>NaN</td>\n",
       "      <td>...</td>\n",
       "      <td>NaN</td>\n",
       "      <td>NaN</td>\n",
       "      <td>34.0</td>\n",
       "      <td>1367.0</td>\n",
       "      <td>0.003</td>\n",
       "      <td>2021-02</td>\n",
       "      <td>2021</td>\n",
       "      <td>AFG</td>\n",
       "      <td>40289605.0</td>\n",
       "      <td>NaN</td>\n",
       "    </tr>\n",
       "    <tr>\n",
       "      <th>2</th>\n",
       "      <td>Afghanistan</td>\n",
       "      <td>AFG</td>\n",
       "      <td>2021-02-24</td>\n",
       "      <td>NaN</td>\n",
       "      <td>NaN</td>\n",
       "      <td>NaN</td>\n",
       "      <td>NaN</td>\n",
       "      <td>NaN</td>\n",
       "      <td>1367.0</td>\n",
       "      <td>NaN</td>\n",
       "      <td>...</td>\n",
       "      <td>NaN</td>\n",
       "      <td>NaN</td>\n",
       "      <td>34.0</td>\n",
       "      <td>1367.0</td>\n",
       "      <td>0.003</td>\n",
       "      <td>2021-02</td>\n",
       "      <td>2021</td>\n",
       "      <td>AFG</td>\n",
       "      <td>40289605.0</td>\n",
       "      <td>NaN</td>\n",
       "    </tr>\n",
       "    <tr>\n",
       "      <th>3</th>\n",
       "      <td>Afghanistan</td>\n",
       "      <td>AFG</td>\n",
       "      <td>2021-02-25</td>\n",
       "      <td>NaN</td>\n",
       "      <td>NaN</td>\n",
       "      <td>NaN</td>\n",
       "      <td>NaN</td>\n",
       "      <td>NaN</td>\n",
       "      <td>1367.0</td>\n",
       "      <td>NaN</td>\n",
       "      <td>...</td>\n",
       "      <td>NaN</td>\n",
       "      <td>NaN</td>\n",
       "      <td>34.0</td>\n",
       "      <td>1367.0</td>\n",
       "      <td>0.003</td>\n",
       "      <td>2021-02</td>\n",
       "      <td>2021</td>\n",
       "      <td>AFG</td>\n",
       "      <td>40289605.0</td>\n",
       "      <td>NaN</td>\n",
       "    </tr>\n",
       "    <tr>\n",
       "      <th>4</th>\n",
       "      <td>Afghanistan</td>\n",
       "      <td>AFG</td>\n",
       "      <td>2021-02-26</td>\n",
       "      <td>NaN</td>\n",
       "      <td>NaN</td>\n",
       "      <td>NaN</td>\n",
       "      <td>NaN</td>\n",
       "      <td>NaN</td>\n",
       "      <td>1367.0</td>\n",
       "      <td>NaN</td>\n",
       "      <td>...</td>\n",
       "      <td>NaN</td>\n",
       "      <td>NaN</td>\n",
       "      <td>34.0</td>\n",
       "      <td>1367.0</td>\n",
       "      <td>0.003</td>\n",
       "      <td>2021-02</td>\n",
       "      <td>2021</td>\n",
       "      <td>AFG</td>\n",
       "      <td>40289605.0</td>\n",
       "      <td>NaN</td>\n",
       "    </tr>\n",
       "  </tbody>\n",
       "</table>\n",
       "<p>5 rows × 21 columns</p>\n",
       "</div>"
      ],
      "text/plain": [
       "       country iso_code_x       date  total_vaccinations  people_vaccinated  \\\n",
       "0  Afghanistan        AFG 2021-02-22                 0.0                0.0   \n",
       "1  Afghanistan        AFG 2021-02-23                 NaN                NaN   \n",
       "2  Afghanistan        AFG 2021-02-24                 NaN                NaN   \n",
       "3  Afghanistan        AFG 2021-02-25                 NaN                NaN   \n",
       "4  Afghanistan        AFG 2021-02-26                 NaN                NaN   \n",
       "\n",
       "   people_fully_vaccinated  total_boosters  daily_vaccinations_raw  \\\n",
       "0                      NaN             NaN                     NaN   \n",
       "1                      NaN             NaN                     NaN   \n",
       "2                      NaN             NaN                     NaN   \n",
       "3                      NaN             NaN                     NaN   \n",
       "4                      NaN             NaN                     NaN   \n",
       "\n",
       "   daily_vaccinations  total_vaccinations_per_hundred  ...  \\\n",
       "0                 NaN                             0.0  ...   \n",
       "1              1367.0                             NaN  ...   \n",
       "2              1367.0                             NaN  ...   \n",
       "3              1367.0                             NaN  ...   \n",
       "4              1367.0                             NaN  ...   \n",
       "\n",
       "   people_fully_vaccinated_per_hundred  total_boosters_per_hundred  \\\n",
       "0                                  NaN                         NaN   \n",
       "1                                  NaN                         NaN   \n",
       "2                                  NaN                         NaN   \n",
       "3                                  NaN                         NaN   \n",
       "4                                  NaN                         NaN   \n",
       "\n",
       "   daily_vaccinations_per_million  daily_people_vaccinated  \\\n",
       "0                             NaN                      NaN   \n",
       "1                            34.0                   1367.0   \n",
       "2                            34.0                   1367.0   \n",
       "3                            34.0                   1367.0   \n",
       "4                            34.0                   1367.0   \n",
       "\n",
       "   daily_people_vaccinated_per_hundred  year_month  year iso_code_y  \\\n",
       "0                                  NaN     2021-02  2021        AFG   \n",
       "1                                0.003     2021-02  2021        AFG   \n",
       "2                                0.003     2021-02  2021        AFG   \n",
       "3                                0.003     2021-02  2021        AFG   \n",
       "4                                0.003     2021-02  2021        AFG   \n",
       "\n",
       "   population  vac_per_pop  \n",
       "0  40289605.0          NaN  \n",
       "1  40289605.0          NaN  \n",
       "2  40289605.0          NaN  \n",
       "3  40289605.0          NaN  \n",
       "4  40289605.0          NaN  \n",
       "\n",
       "[5 rows x 21 columns]"
      ]
     },
     "execution_count": 250,
     "metadata": {},
     "output_type": "execute_result"
    }
   ],
   "source": [
    "vaccination_pop.head()"
   ]
  },
  {
   "cell_type": "code",
   "execution_count": null,
   "id": "72ab7089-eb06-4942-8b88-2c564c6c446d",
   "metadata": {},
   "outputs": [],
   "source": []
  },
  {
   "cell_type": "code",
   "execution_count": 251,
   "id": "ddcb583a-4acf-440c-a88b-f199f08152d1",
   "metadata": {},
   "outputs": [],
   "source": [
    "Germany = vaccination_pop[vaccination_pop['country'] == 'Germany']"
   ]
  },
  {
   "cell_type": "code",
   "execution_count": 252,
   "id": "7bcc4cc0-19a6-4477-a377-bd6d77bfb013",
   "metadata": {},
   "outputs": [
    {
     "data": {
      "image/png": "[encoded data removed]",
      "text/plain": [
       "<Figure size 1296x360 with 1 Axes>"
      ]
     },
     "metadata": {
      "needs_background": "light"
     },
     "output_type": "display_data"
    }
   ],
   "source": [
    "plt.subplots(figsize=(18, 5))\n",
    "\n",
    "p = sns.barplot(data=vaccination_pop, x='year_month', y='people_fully_vaccinated')\n",
    "\n",
    "p.axhline(Germany['people_fully_vaccinated'].mean(), linestyle='--', color='gray')\n",
    "\n",
    "plt.xlabel('country', fontsize=0.5)\n",
    "plt.ylabel('people_fully_vaccinated', fontsize=1.5)\n",
    "#plt.title('Average Discount by Categories', fontsize=45)\n",
    "sns.set_style('dark')\n",
    "sns.set_context('talk', font_scale=0.5)"
   ]
  },
  {
   "cell_type": "code",
   "execution_count": 253,
   "id": "aa63b6e6-6271-4f47-a705-b74e96f925f0",
   "metadata": {},
   "outputs": [
    {
     "data": {
      "image/png": "[encoded data removed]",
      "text/plain": [
       "<Figure size 1296x360 with 1 Axes>"
      ]
     },
     "metadata": {},
     "output_type": "display_data"
    }
   ],
   "source": [
    "plt.subplots(figsize=(18, 5))\n",
    "\n",
    "p = sns.barplot(data=vaccination_pop, x='year_month', y='vac_per_pop')\n",
    "\n",
    "p.axhline(Germany['people_fully_vaccinated'].mean(), linestyle='--', color='gray')\n",
    "\n",
    "plt.xlabel('country', fontsize=0.5)\n",
    "plt.ylabel('people_fully_vaccinated', fontsize=1.5)\n",
    "#plt.title('Average Discount by Categories', fontsize=45)\n",
    "sns.set_style('dark')\n",
    "sns.set_context('talk', font_scale=0.5)"
   ]
  },
  {
   "cell_type": "code",
   "execution_count": 254,
   "id": "d1bc72b5-4e0f-4873-93aa-608cc5bb0e6c",
   "metadata": {},
   "outputs": [],
   "source": [
    "vaccination_pop.to_csv('vaccination_pop.csv')"
   ]
  },
  {
   "cell_type": "code",
   "execution_count": null,
   "id": "5efe49ae-b4d5-4794-b337-16668a3e706b",
   "metadata": {},
   "outputs": [],
   "source": []
  },
  {
   "cell_type": "code",
   "execution_count": 255,
   "id": "c82b6fbf-9f52-4615-ac55-280ad3783e96",
   "metadata": {
    "tags": []
   },
   "outputs": [
    {
     "name": "stdout",
     "output_type": "stream",
     "text": [
      "<class 'pandas.core.frame.DataFrame'>\n",
      "RangeIndex: 17124 entries, 0 to 17123\n",
      "Data columns (total 6 columns):\n",
      " #   Column                               Non-Null Count  Dtype  \n",
      "---  ------                               --------------  -----  \n",
      " 0   location                             17124 non-null  object \n",
      " 1   date                                 17124 non-null  object \n",
      " 2   age_group                            17124 non-null  object \n",
      " 3   people_vaccinated_per_hundred        17124 non-null  float64\n",
      " 4   people_fully_vaccinated_per_hundred  17112 non-null  float64\n",
      " 5   people_with_booster_per_hundred      12836 non-null  float64\n",
      "dtypes: float64(3), object(3)\n",
      "memory usage: 802.8+ KB\n"
     ]
    }
   ],
   "source": [
    "vaccination_age.info()"
   ]
  },
  {
   "cell_type": "code",
   "execution_count": 256,
   "id": "6d6015b8-417f-4b16-80b0-b1ffef95cbb8",
   "metadata": {},
   "outputs": [],
   "source": [
    "vaccination_age['date']= pd.to_datetime(vaccination_age['date'])"
   ]
  },
  {
   "cell_type": "code",
   "execution_count": null,
   "id": "2724026f-9c4e-42e4-bfd9-207109de5bab",
   "metadata": {},
   "outputs": [],
   "source": []
  },
  {
   "cell_type": "code",
   "execution_count": null,
   "id": "c04e85ff-0fca-4b9c-85c6-31757e903f4a",
   "metadata": {},
   "outputs": [],
   "source": []
  },
  {
   "cell_type": "code",
   "execution_count": null,
   "id": "bfeec55d-654d-4a6d-944f-17be9924cf1b",
   "metadata": {},
   "outputs": [],
   "source": []
  },
  {
   "cell_type": "code",
   "execution_count": 257,
   "id": "be77c096-47cd-43e9-96af-c5738d3ecfe0",
   "metadata": {},
   "outputs": [
    {
     "name": "stdout",
     "output_type": "stream",
     "text": [
      "<class 'pandas.core.frame.DataFrame'>\n",
      "RangeIndex: 25783 entries, 0 to 25782\n",
      "Data columns (total 4 columns):\n",
      " #   Column              Non-Null Count  Dtype \n",
      "---  ------              --------------  ----- \n",
      " 0   location            25783 non-null  object\n",
      " 1   date                25783 non-null  object\n",
      " 2   vaccine             25783 non-null  object\n",
      " 3   total_vaccinations  25783 non-null  int64 \n",
      "dtypes: int64(1), object(3)\n",
      "memory usage: 805.8+ KB\n"
     ]
    }
   ],
   "source": [
    "vaccination_m.info()"
   ]
  },
  {
   "cell_type": "code",
   "execution_count": 258,
   "id": "3cab5c67-479f-42a3-9033-804bcc956045",
   "metadata": {},
   "outputs": [],
   "source": [
    "vaccination_m['date']= pd.to_datetime(vaccination_m['date'])"
   ]
  },
  {
   "cell_type": "code",
   "execution_count": 259,
   "id": "d745a43d-d68a-40ea-a35b-f3c532b069a7",
   "metadata": {},
   "outputs": [],
   "source": [
    "vaccination_m.rename(columns={'location':'country'}, inplace=True)"
   ]
  },
  {
   "cell_type": "code",
   "execution_count": 260,
   "id": "ae1219cd-2d9e-46c5-be0a-21f80153896c",
   "metadata": {},
   "outputs": [
    {
     "data": {
      "text/html": [
       "<div>\n",
       "<style scoped>\n",
       "    .dataframe tbody tr th:only-of-type {\n",
       "        vertical-align: middle;\n",
       "    }\n",
       "\n",
       "    .dataframe tbody tr th {\n",
       "        vertical-align: top;\n",
       "    }\n",
       "\n",
       "    .dataframe thead th {\n",
       "        text-align: right;\n",
       "    }\n",
       "</style>\n",
       "<table border=\"1\" class=\"dataframe\">\n",
       "  <thead>\n",
       "    <tr style=\"text-align: right;\">\n",
       "      <th></th>\n",
       "      <th>country</th>\n",
       "      <th>date</th>\n",
       "      <th>vaccine</th>\n",
       "      <th>total_vaccinations</th>\n",
       "    </tr>\n",
       "  </thead>\n",
       "  <tbody>\n",
       "    <tr>\n",
       "      <th>0</th>\n",
       "      <td>Austria</td>\n",
       "      <td>2021-01-08</td>\n",
       "      <td>Johnson&amp;Johnson</td>\n",
       "      <td>0</td>\n",
       "    </tr>\n",
       "    <tr>\n",
       "      <th>1</th>\n",
       "      <td>Austria</td>\n",
       "      <td>2021-01-08</td>\n",
       "      <td>Moderna</td>\n",
       "      <td>0</td>\n",
       "    </tr>\n",
       "    <tr>\n",
       "      <th>2</th>\n",
       "      <td>Austria</td>\n",
       "      <td>2021-01-08</td>\n",
       "      <td>Oxford/AstraZeneca</td>\n",
       "      <td>0</td>\n",
       "    </tr>\n",
       "    <tr>\n",
       "      <th>3</th>\n",
       "      <td>Austria</td>\n",
       "      <td>2021-01-08</td>\n",
       "      <td>Pfizer/BioNTech</td>\n",
       "      <td>31513</td>\n",
       "    </tr>\n",
       "    <tr>\n",
       "      <th>4</th>\n",
       "      <td>Austria</td>\n",
       "      <td>2021-01-15</td>\n",
       "      <td>Johnson&amp;Johnson</td>\n",
       "      <td>0</td>\n",
       "    </tr>\n",
       "    <tr>\n",
       "      <th>...</th>\n",
       "      <td>...</td>\n",
       "      <td>...</td>\n",
       "      <td>...</td>\n",
       "      <td>...</td>\n",
       "    </tr>\n",
       "    <tr>\n",
       "      <th>25778</th>\n",
       "      <td>European Union</td>\n",
       "      <td>2022-01-19</td>\n",
       "      <td>Oxford/AstraZeneca</td>\n",
       "      <td>67360430</td>\n",
       "    </tr>\n",
       "    <tr>\n",
       "      <th>25779</th>\n",
       "      <td>European Union</td>\n",
       "      <td>2022-01-19</td>\n",
       "      <td>Pfizer/BioNTech</td>\n",
       "      <td>547608975</td>\n",
       "    </tr>\n",
       "    <tr>\n",
       "      <th>25780</th>\n",
       "      <td>European Union</td>\n",
       "      <td>2022-01-19</td>\n",
       "      <td>Sinopharm/Beijing</td>\n",
       "      <td>2260921</td>\n",
       "    </tr>\n",
       "    <tr>\n",
       "      <th>25781</th>\n",
       "      <td>European Union</td>\n",
       "      <td>2022-01-19</td>\n",
       "      <td>Sinovac</td>\n",
       "      <td>9</td>\n",
       "    </tr>\n",
       "    <tr>\n",
       "      <th>25782</th>\n",
       "      <td>European Union</td>\n",
       "      <td>2022-01-19</td>\n",
       "      <td>Sputnik V</td>\n",
       "      <td>1845080</td>\n",
       "    </tr>\n",
       "  </tbody>\n",
       "</table>\n",
       "<p>25783 rows × 4 columns</p>\n",
       "</div>"
      ],
      "text/plain": [
       "              country       date             vaccine  total_vaccinations\n",
       "0             Austria 2021-01-08     Johnson&Johnson                   0\n",
       "1             Austria 2021-01-08             Moderna                   0\n",
       "2             Austria 2021-01-08  Oxford/AstraZeneca                   0\n",
       "3             Austria 2021-01-08     Pfizer/BioNTech               31513\n",
       "4             Austria 2021-01-15     Johnson&Johnson                   0\n",
       "...               ...        ...                 ...                 ...\n",
       "25778  European Union 2022-01-19  Oxford/AstraZeneca            67360430\n",
       "25779  European Union 2022-01-19     Pfizer/BioNTech           547608975\n",
       "25780  European Union 2022-01-19   Sinopharm/Beijing             2260921\n",
       "25781  European Union 2022-01-19             Sinovac                   9\n",
       "25782  European Union 2022-01-19           Sputnik V             1845080\n",
       "\n",
       "[25783 rows x 4 columns]"
      ]
     },
     "execution_count": 260,
     "metadata": {},
     "output_type": "execute_result"
    }
   ],
   "source": [
    "vaccination_m"
   ]
  },
  {
   "cell_type": "code",
   "execution_count": 261,
   "id": "69c4f23b-9926-4808-80de-64e7d9e21461",
   "metadata": {},
   "outputs": [
    {
     "data": {
      "text/plain": [
       "['Johnson&Johnson',\n",
       " 'Moderna',\n",
       " 'Oxford/AstraZeneca',\n",
       " 'Pfizer/BioNTech',\n",
       " 'Sinovac',\n",
       " 'CanSino',\n",
       " 'Sputnik V',\n",
       " 'Sinopharm/Beijing']"
      ]
     },
     "execution_count": 261,
     "metadata": {},
     "output_type": "execute_result"
    }
   ],
   "source": [
    "vaccination_m['vaccine'].unique().tolist()"
   ]
  },
  {
   "cell_type": "code",
   "execution_count": 262,
   "id": "51e19b8b-db3f-498a-bded-9c32c8527362",
   "metadata": {},
   "outputs": [
    {
     "name": "stdout",
     "output_type": "stream",
     "text": [
      "<class 'pandas.core.frame.DataFrame'>\n",
      "RangeIndex: 25783 entries, 0 to 25782\n",
      "Data columns (total 4 columns):\n",
      " #   Column              Non-Null Count  Dtype         \n",
      "---  ------              --------------  -----         \n",
      " 0   country             25783 non-null  object        \n",
      " 1   date                25783 non-null  datetime64[ns]\n",
      " 2   vaccine             25783 non-null  object        \n",
      " 3   total_vaccinations  25783 non-null  int64         \n",
      "dtypes: datetime64[ns](1), int64(1), object(2)\n",
      "memory usage: 805.8+ KB\n"
     ]
    }
   ],
   "source": [
    "vaccination_m.info()"
   ]
  },
  {
   "cell_type": "code",
   "execution_count": 263,
   "id": "c2588af5-6942-4e41-b982-61a10a7b2c3c",
   "metadata": {},
   "outputs": [],
   "source": [
    "vaccination_m.to_csv('vaccination_m.csv')"
   ]
  },
  {
   "cell_type": "code",
   "execution_count": null,
   "id": "7877b23a-771a-48ba-9d26-4d1aa3cd5d9e",
   "metadata": {},
   "outputs": [],
   "source": []
  },
  {
   "cell_type": "code",
   "execution_count": null,
   "id": "feec92ab-6338-4e99-be3b-cfb65dd55e18",
   "metadata": {},
   "outputs": [],
   "source": []
  },
  {
   "cell_type": "code",
   "execution_count": 264,
   "id": "4bf3f13a-8ea3-49a0-bc94-f0efe7eaffe5",
   "metadata": {},
   "outputs": [],
   "source": [
    "hos = pd.read_csv('covid-hospitalizations.csv')"
   ]
  },
  {
   "cell_type": "code",
   "execution_count": 265,
   "id": "b34f53cc-e1e3-422a-9f2e-82df00e4193b",
   "metadata": {},
   "outputs": [
    {
     "name": "stdout",
     "output_type": "stream",
     "text": [
      "<class 'pandas.core.frame.DataFrame'>\n",
      "RangeIndex: 113702 entries, 0 to 113701\n",
      "Data columns (total 5 columns):\n",
      " #   Column     Non-Null Count   Dtype  \n",
      "---  ------     --------------   -----  \n",
      " 0   entity     113702 non-null  object \n",
      " 1   iso_code   113702 non-null  object \n",
      " 2   date       113702 non-null  object \n",
      " 3   indicator  113702 non-null  object \n",
      " 4   value      113702 non-null  float64\n",
      "dtypes: float64(1), object(4)\n",
      "memory usage: 4.3+ MB\n"
     ]
    }
   ],
   "source": [
    "hos.info()"
   ]
  },
  {
   "cell_type": "code",
   "execution_count": 266,
   "id": "e744061f-9bc1-4262-bb17-23f9aff0f152",
   "metadata": {},
   "outputs": [],
   "source": [
    "hos['date']= pd.to_datetime(hos['date'])"
   ]
  },
  {
   "cell_type": "code",
   "execution_count": 267,
   "id": "34817141-d7f4-4d4b-874d-6c526bf8dc30",
   "metadata": {},
   "outputs": [],
   "source": [
    "hos['year_month'] = pd.to_datetime(hos['date']).dt.to_period('M')"
   ]
  },
  {
   "cell_type": "code",
   "execution_count": 268,
   "id": "5ad8f4f6-d620-4540-9fc8-769cc1421e15",
   "metadata": {},
   "outputs": [
    {
     "data": {
      "text/plain": [
       "array(['Daily ICU occupancy', 'Daily ICU occupancy per million',\n",
       "       'Daily hospital occupancy', 'Daily hospital occupancy per million',\n",
       "       'Weekly new hospital admissions',\n",
       "       'Weekly new hospital admissions per million',\n",
       "       'Weekly new ICU admissions',\n",
       "       'Weekly new ICU admissions per million'], dtype=object)"
      ]
     },
     "execution_count": 268,
     "metadata": {},
     "output_type": "execute_result"
    }
   ],
   "source": [
    "hos['indicator'].unique()"
   ]
  },
  {
   "cell_type": "code",
   "execution_count": 269,
   "id": "169cc09c-f57d-43f4-ab4d-2e1ca902ec64",
   "metadata": {},
   "outputs": [
    {
     "data": {
      "text/html": [
       "<div>\n",
       "<style scoped>\n",
       "    .dataframe tbody tr th:only-of-type {\n",
       "        vertical-align: middle;\n",
       "    }\n",
       "\n",
       "    .dataframe tbody tr th {\n",
       "        vertical-align: top;\n",
       "    }\n",
       "\n",
       "    .dataframe thead th {\n",
       "        text-align: right;\n",
       "    }\n",
       "</style>\n",
       "<table border=\"1\" class=\"dataframe\">\n",
       "  <thead>\n",
       "    <tr style=\"text-align: right;\">\n",
       "      <th></th>\n",
       "      <th>entity</th>\n",
       "      <th>iso_code</th>\n",
       "      <th>date</th>\n",
       "      <th>indicator</th>\n",
       "      <th>value</th>\n",
       "      <th>year_month</th>\n",
       "    </tr>\n",
       "  </thead>\n",
       "  <tbody>\n",
       "    <tr>\n",
       "      <th>0</th>\n",
       "      <td>Algeria</td>\n",
       "      <td>DZA</td>\n",
       "      <td>2020-07-17</td>\n",
       "      <td>Daily ICU occupancy</td>\n",
       "      <td>62.0</td>\n",
       "      <td>2020-07</td>\n",
       "    </tr>\n",
       "    <tr>\n",
       "      <th>2</th>\n",
       "      <td>Algeria</td>\n",
       "      <td>DZA</td>\n",
       "      <td>2020-07-18</td>\n",
       "      <td>Daily ICU occupancy</td>\n",
       "      <td>67.0</td>\n",
       "      <td>2020-07</td>\n",
       "    </tr>\n",
       "    <tr>\n",
       "      <th>4</th>\n",
       "      <td>Algeria</td>\n",
       "      <td>DZA</td>\n",
       "      <td>2020-07-20</td>\n",
       "      <td>Daily ICU occupancy</td>\n",
       "      <td>64.0</td>\n",
       "      <td>2020-07</td>\n",
       "    </tr>\n",
       "    <tr>\n",
       "      <th>6</th>\n",
       "      <td>Algeria</td>\n",
       "      <td>DZA</td>\n",
       "      <td>2020-07-21</td>\n",
       "      <td>Daily ICU occupancy</td>\n",
       "      <td>56.0</td>\n",
       "      <td>2020-07</td>\n",
       "    </tr>\n",
       "    <tr>\n",
       "      <th>8</th>\n",
       "      <td>Algeria</td>\n",
       "      <td>DZA</td>\n",
       "      <td>2020-07-22</td>\n",
       "      <td>Daily ICU occupancy</td>\n",
       "      <td>51.0</td>\n",
       "      <td>2020-07</td>\n",
       "    </tr>\n",
       "  </tbody>\n",
       "</table>\n",
       "</div>"
      ],
      "text/plain": [
       "    entity iso_code       date            indicator  value year_month\n",
       "0  Algeria      DZA 2020-07-17  Daily ICU occupancy   62.0    2020-07\n",
       "2  Algeria      DZA 2020-07-18  Daily ICU occupancy   67.0    2020-07\n",
       "4  Algeria      DZA 2020-07-20  Daily ICU occupancy   64.0    2020-07\n",
       "6  Algeria      DZA 2020-07-21  Daily ICU occupancy   56.0    2020-07\n",
       "8  Algeria      DZA 2020-07-22  Daily ICU occupancy   51.0    2020-07"
      ]
     },
     "execution_count": 269,
     "metadata": {},
     "output_type": "execute_result"
    }
   ],
   "source": [
    "hos = hos[hos['indicator'] == 'Daily ICU occupancy']\n",
    "hos.head()"
   ]
  },
  {
   "cell_type": "code",
   "execution_count": 270,
   "id": "758004b5-0803-430f-aa02-3f23695434c2",
   "metadata": {},
   "outputs": [],
   "source": [
    "hos.rename(columns={'entity':'country'}, inplace=True)"
   ]
  },
  {
   "cell_type": "code",
   "execution_count": 271,
   "id": "2f3bf1e0-36c8-4ca1-9573-e6b6b12c6f9f",
   "metadata": {},
   "outputs": [],
   "source": [
    "hos_Germany = hos[hos['country'] == 'Germany']"
   ]
  },
  {
   "cell_type": "code",
   "execution_count": 272,
   "id": "ae5623cd-23a3-4a9d-8df9-2db4ce73bccc",
   "metadata": {},
   "outputs": [
    {
     "data": {
      "text/html": [
       "<div>\n",
       "<style scoped>\n",
       "    .dataframe tbody tr th:only-of-type {\n",
       "        vertical-align: middle;\n",
       "    }\n",
       "\n",
       "    .dataframe tbody tr th {\n",
       "        vertical-align: top;\n",
       "    }\n",
       "\n",
       "    .dataframe thead th {\n",
       "        text-align: right;\n",
       "    }\n",
       "</style>\n",
       "<table border=\"1\" class=\"dataframe\">\n",
       "  <thead>\n",
       "    <tr style=\"text-align: right;\">\n",
       "      <th></th>\n",
       "      <th>country</th>\n",
       "      <th>iso_code</th>\n",
       "      <th>date</th>\n",
       "      <th>indicator</th>\n",
       "      <th>value</th>\n",
       "      <th>year_month</th>\n",
       "    </tr>\n",
       "  </thead>\n",
       "  <tbody>\n",
       "    <tr>\n",
       "      <th>41192</th>\n",
       "      <td>Germany</td>\n",
       "      <td>DEU</td>\n",
       "      <td>2020-03-20</td>\n",
       "      <td>Daily ICU occupancy</td>\n",
       "      <td>200.0</td>\n",
       "      <td>2020-03</td>\n",
       "    </tr>\n",
       "    <tr>\n",
       "      <th>41196</th>\n",
       "      <td>Germany</td>\n",
       "      <td>DEU</td>\n",
       "      <td>2020-03-21</td>\n",
       "      <td>Daily ICU occupancy</td>\n",
       "      <td>308.0</td>\n",
       "      <td>2020-03</td>\n",
       "    </tr>\n",
       "    <tr>\n",
       "      <th>41200</th>\n",
       "      <td>Germany</td>\n",
       "      <td>DEU</td>\n",
       "      <td>2020-03-22</td>\n",
       "      <td>Daily ICU occupancy</td>\n",
       "      <td>364.0</td>\n",
       "      <td>2020-03</td>\n",
       "    </tr>\n",
       "    <tr>\n",
       "      <th>41204</th>\n",
       "      <td>Germany</td>\n",
       "      <td>DEU</td>\n",
       "      <td>2020-03-23</td>\n",
       "      <td>Daily ICU occupancy</td>\n",
       "      <td>451.0</td>\n",
       "      <td>2020-03</td>\n",
       "    </tr>\n",
       "    <tr>\n",
       "      <th>41208</th>\n",
       "      <td>Germany</td>\n",
       "      <td>DEU</td>\n",
       "      <td>2020-03-24</td>\n",
       "      <td>Daily ICU occupancy</td>\n",
       "      <td>616.0</td>\n",
       "      <td>2020-03</td>\n",
       "    </tr>\n",
       "  </tbody>\n",
       "</table>\n",
       "</div>"
      ],
      "text/plain": [
       "       country iso_code       date            indicator  value year_month\n",
       "41192  Germany      DEU 2020-03-20  Daily ICU occupancy  200.0    2020-03\n",
       "41196  Germany      DEU 2020-03-21  Daily ICU occupancy  308.0    2020-03\n",
       "41200  Germany      DEU 2020-03-22  Daily ICU occupancy  364.0    2020-03\n",
       "41204  Germany      DEU 2020-03-23  Daily ICU occupancy  451.0    2020-03\n",
       "41208  Germany      DEU 2020-03-24  Daily ICU occupancy  616.0    2020-03"
      ]
     },
     "execution_count": 272,
     "metadata": {},
     "output_type": "execute_result"
    }
   ],
   "source": [
    "hos_Germany.head()"
   ]
  },
  {
   "cell_type": "code",
   "execution_count": 273,
   "id": "75a4ccb7-79ad-4d8d-b013-5c646a5c628d",
   "metadata": {},
   "outputs": [
    {
     "data": {
      "image/png": "[encoded data removed]",
      "text/plain": [
       "<Figure size 1296x360 with 1 Axes>"
      ]
     },
     "metadata": {},
     "output_type": "display_data"
    }
   ],
   "source": [
    "plt.subplots(figsize=(18, 5))\n",
    "\n",
    "p = sns.barplot(data=hos_Germany, x='year_month', y='value')\n",
    "\n",
    "#p.axhline(Germany['people_fully_vaccinated'].mean(), linestyle='--', color='gray')\n",
    "\n",
    "plt.xlabel('year_month', fontsize=0.5)\n",
    "plt.ylabel('value', fontsize=1.5)\n",
    "#plt.title('Average Discount by Categories', fontsize=45)\n",
    "sns.set_style('dark')\n",
    "sns.set_context('talk', font_scale=0.5)"
   ]
  },
  {
   "cell_type": "code",
   "execution_count": 274,
   "id": "46401654-1acc-45c4-8104-a4a1f6dbdf67",
   "metadata": {},
   "outputs": [],
   "source": [
    "hos_pop = pd.merge(hos, population, how='left', on='country')"
   ]
  },
  {
   "cell_type": "code",
   "execution_count": 275,
   "id": "0705325a-95f4-405f-838c-b6e5ea7fa253",
   "metadata": {},
   "outputs": [
    {
     "name": "stdout",
     "output_type": "stream",
     "text": [
      "<class 'pandas.core.frame.DataFrame'>\n",
      "Int64Index: 21251 entries, 0 to 21250\n",
      "Data columns (total 8 columns):\n",
      " #   Column      Non-Null Count  Dtype         \n",
      "---  ------      --------------  -----         \n",
      " 0   country     21251 non-null  object        \n",
      " 1   iso_code_x  21251 non-null  object        \n",
      " 2   date        21251 non-null  datetime64[ns]\n",
      " 3   indicator   21251 non-null  object        \n",
      " 4   value       21251 non-null  float64       \n",
      " 5   year_month  21251 non-null  period[M]     \n",
      " 6   iso_code_y  20575 non-null  object        \n",
      " 7   population  20575 non-null  float64       \n",
      "dtypes: datetime64[ns](1), float64(2), object(4), period[M](1)\n",
      "memory usage: 1.5+ MB\n"
     ]
    }
   ],
   "source": [
    "hos_pop.info()"
   ]
  },
  {
   "cell_type": "code",
   "execution_count": 276,
   "id": "22619500-432c-4feb-824f-0263c25b6369",
   "metadata": {},
   "outputs": [],
   "source": [
    "hos_pop = hos_pop.assign(hos_per_pop = lambda x: x['value'] / x['population'])"
   ]
  },
  {
   "cell_type": "code",
   "execution_count": 277,
   "id": "9b528f0e-9eb9-4b6b-b6a1-df21a1edf4e2",
   "metadata": {},
   "outputs": [
    {
     "data": {
      "text/html": [
       "<div>\n",
       "<style scoped>\n",
       "    .dataframe tbody tr th:only-of-type {\n",
       "        vertical-align: middle;\n",
       "    }\n",
       "\n",
       "    .dataframe tbody tr th {\n",
       "        vertical-align: top;\n",
       "    }\n",
       "\n",
       "    .dataframe thead th {\n",
       "        text-align: right;\n",
       "    }\n",
       "</style>\n",
       "<table border=\"1\" class=\"dataframe\">\n",
       "  <thead>\n",
       "    <tr style=\"text-align: right;\">\n",
       "      <th></th>\n",
       "      <th>country</th>\n",
       "      <th>iso_code_x</th>\n",
       "      <th>date</th>\n",
       "      <th>indicator</th>\n",
       "      <th>value</th>\n",
       "      <th>year_month</th>\n",
       "      <th>iso_code_y</th>\n",
       "      <th>population</th>\n",
       "      <th>hos_per_pop</th>\n",
       "    </tr>\n",
       "  </thead>\n",
       "  <tbody>\n",
       "    <tr>\n",
       "      <th>0</th>\n",
       "      <td>Algeria</td>\n",
       "      <td>DZA</td>\n",
       "      <td>2020-07-17</td>\n",
       "      <td>Daily ICU occupancy</td>\n",
       "      <td>62.0</td>\n",
       "      <td>2020-07</td>\n",
       "      <td>DZA</td>\n",
       "      <td>44991656.0</td>\n",
       "      <td>0.000001</td>\n",
       "    </tr>\n",
       "    <tr>\n",
       "      <th>1</th>\n",
       "      <td>Algeria</td>\n",
       "      <td>DZA</td>\n",
       "      <td>2020-07-18</td>\n",
       "      <td>Daily ICU occupancy</td>\n",
       "      <td>67.0</td>\n",
       "      <td>2020-07</td>\n",
       "      <td>DZA</td>\n",
       "      <td>44991656.0</td>\n",
       "      <td>0.000001</td>\n",
       "    </tr>\n",
       "    <tr>\n",
       "      <th>2</th>\n",
       "      <td>Algeria</td>\n",
       "      <td>DZA</td>\n",
       "      <td>2020-07-20</td>\n",
       "      <td>Daily ICU occupancy</td>\n",
       "      <td>64.0</td>\n",
       "      <td>2020-07</td>\n",
       "      <td>DZA</td>\n",
       "      <td>44991656.0</td>\n",
       "      <td>0.000001</td>\n",
       "    </tr>\n",
       "    <tr>\n",
       "      <th>3</th>\n",
       "      <td>Algeria</td>\n",
       "      <td>DZA</td>\n",
       "      <td>2020-07-21</td>\n",
       "      <td>Daily ICU occupancy</td>\n",
       "      <td>56.0</td>\n",
       "      <td>2020-07</td>\n",
       "      <td>DZA</td>\n",
       "      <td>44991656.0</td>\n",
       "      <td>0.000001</td>\n",
       "    </tr>\n",
       "    <tr>\n",
       "      <th>4</th>\n",
       "      <td>Algeria</td>\n",
       "      <td>DZA</td>\n",
       "      <td>2020-07-22</td>\n",
       "      <td>Daily ICU occupancy</td>\n",
       "      <td>51.0</td>\n",
       "      <td>2020-07</td>\n",
       "      <td>DZA</td>\n",
       "      <td>44991656.0</td>\n",
       "      <td>0.000001</td>\n",
       "    </tr>\n",
       "  </tbody>\n",
       "</table>\n",
       "</div>"
      ],
      "text/plain": [
       "   country iso_code_x       date            indicator  value year_month  \\\n",
       "0  Algeria        DZA 2020-07-17  Daily ICU occupancy   62.0    2020-07   \n",
       "1  Algeria        DZA 2020-07-18  Daily ICU occupancy   67.0    2020-07   \n",
       "2  Algeria        DZA 2020-07-20  Daily ICU occupancy   64.0    2020-07   \n",
       "3  Algeria        DZA 2020-07-21  Daily ICU occupancy   56.0    2020-07   \n",
       "4  Algeria        DZA 2020-07-22  Daily ICU occupancy   51.0    2020-07   \n",
       "\n",
       "  iso_code_y  population  hos_per_pop  \n",
       "0        DZA  44991656.0     0.000001  \n",
       "1        DZA  44991656.0     0.000001  \n",
       "2        DZA  44991656.0     0.000001  \n",
       "3        DZA  44991656.0     0.000001  \n",
       "4        DZA  44991656.0     0.000001  "
      ]
     },
     "execution_count": 277,
     "metadata": {},
     "output_type": "execute_result"
    }
   ],
   "source": [
    "hos_pop.head()"
   ]
  },
  {
   "cell_type": "code",
   "execution_count": 278,
   "id": "7e3a3fe5-c5d5-4521-b8f3-f92e8e7f1c7c",
   "metadata": {},
   "outputs": [
    {
     "data": {
      "image/png": "[encoded data removed]",
      "text/plain": [
       "<Figure size 1296x360 with 1 Axes>"
      ]
     },
     "metadata": {},
     "output_type": "display_data"
    }
   ],
   "source": [
    "plt.subplots(figsize=(18, 5))\n",
    "\n",
    "p = sns.barplot(data=hos_pop, x='year_month', y='hos_per_pop')\n",
    "\n",
    "#p.axhline(Germany['people_fully_vaccinated'].mean(), linestyle='--', color='gray')\n",
    "\n",
    "plt.xlabel('year_month', fontsize=0.5)\n",
    "plt.ylabel('value', fontsize=1.5)\n",
    "#plt.title('Average Discount by Categories', fontsize=45)\n",
    "sns.set_style('dark')\n",
    "sns.set_context('talk', font_scale=0.5)"
   ]
  },
  {
   "cell_type": "code",
   "execution_count": 279,
   "id": "19843217-4d9f-48d4-8e33-3f07b50ad25b",
   "metadata": {},
   "outputs": [],
   "source": [
    "hos_pop.to_csv('hos_pop.csv')"
   ]
  },
  {
   "cell_type": "code",
   "execution_count": 280,
   "id": "53aa9721-2dfc-4c99-8e56-d2f1ca44ec9b",
   "metadata": {},
   "outputs": [
    {
     "data": {
      "text/plain": [
       "['Algeria',\n",
       " 'Argentina',\n",
       " 'Australia',\n",
       " 'Austria',\n",
       " 'Belgium',\n",
       " 'Bulgaria',\n",
       " 'Canada',\n",
       " 'Cyprus',\n",
       " 'Czechia',\n",
       " 'Denmark',\n",
       " 'Estonia',\n",
       " 'Finland',\n",
       " 'France',\n",
       " 'Germany',\n",
       " 'Ireland',\n",
       " 'Israel',\n",
       " 'Italy',\n",
       " 'Japan',\n",
       " 'Luxembourg',\n",
       " 'Malaysia',\n",
       " 'Malta',\n",
       " 'Netherlands',\n",
       " 'Portugal',\n",
       " 'Romania',\n",
       " 'Serbia',\n",
       " 'Singapore',\n",
       " 'Slovakia',\n",
       " 'Slovenia',\n",
       " 'South Korea',\n",
       " 'Spain',\n",
       " 'Sweden',\n",
       " 'Switzerland',\n",
       " 'United Kingdom',\n",
       " 'United States']"
      ]
     },
     "execution_count": 280,
     "metadata": {},
     "output_type": "execute_result"
    }
   ],
   "source": [
    "hos_pop.country.unique().tolist()"
   ]
  },
  {
   "cell_type": "code",
   "execution_count": null,
   "id": "015868b3-ee12-498e-9676-acbfc08c964c",
   "metadata": {},
   "outputs": [],
   "source": []
  },
  {
   "cell_type": "code",
   "execution_count": null,
   "id": "49160a16-6c42-4d05-bf7e-cd13282d4c4f",
   "metadata": {},
   "outputs": [],
   "source": []
  },
  {
   "cell_type": "code",
   "execution_count": 91,
   "id": "e2360a6a-573f-46e4-9510-8260289167df",
   "metadata": {
    "tags": []
   },
   "outputs": [],
   "source": [
    "response = pd.read_csv('response.csv')"
   ]
  },
  {
   "cell_type": "code",
   "execution_count": 92,
   "id": "4b869cf2-a3e4-421a-bea6-21a21636aab0",
   "metadata": {},
   "outputs": [
    {
     "name": "stdout",
     "output_type": "stream",
     "text": [
      "<class 'pandas.core.frame.DataFrame'>\n",
      "RangeIndex: 1996 entries, 0 to 1995\n",
      "Data columns (total 4 columns):\n",
      " #   Column            Non-Null Count  Dtype \n",
      "---  ------            --------------  ----- \n",
      " 0   Country           1996 non-null   object\n",
      " 1   Response_measure  1996 non-null   object\n",
      " 2   date_start        1996 non-null   object\n",
      " 3   date_end          1643 non-null   object\n",
      "dtypes: object(4)\n",
      "memory usage: 62.5+ KB\n"
     ]
    }
   ],
   "source": [
    "response.info()"
   ]
  },
  {
   "cell_type": "code",
   "execution_count": 93,
   "id": "a41926a8-aad7-48d8-b1b2-68f5aa50f816",
   "metadata": {},
   "outputs": [],
   "source": [
    "response['date_start'] = pd.to_datetime(response['date_start'])\n",
    "response['date_end'] = pd.to_datetime(response['date_end'])"
   ]
  },
  {
   "cell_type": "code",
   "execution_count": 94,
   "id": "8d255c5d-e3d6-49e6-9b48-c6c7cd02e6d4",
   "metadata": {},
   "outputs": [],
   "source": [
    "response['year_start']=pd.DatetimeIndex(response['date_start']).year\n",
    "response['year_end']=pd.DatetimeIndex(response['date_end']).year"
   ]
  },
  {
   "cell_type": "code",
   "execution_count": 95,
   "id": "a5198abc-2917-49cb-b6d1-82a29fc7b5f2",
   "metadata": {},
   "outputs": [
    {
     "data": {
      "text/plain": [
       "Country               0\n",
       "Response_measure      0\n",
       "date_start            0\n",
       "date_end            353\n",
       "year_start            0\n",
       "year_end            353\n",
       "dtype: int64"
      ]
     },
     "execution_count": 95,
     "metadata": {},
     "output_type": "execute_result"
    }
   ],
   "source": [
    "response.isna().sum()"
   ]
  },
  {
   "cell_type": "code",
   "execution_count": 96,
   "id": "6df035b3-4ff7-42a0-a609-294d17eda2e2",
   "metadata": {},
   "outputs": [],
   "source": [
    "response.dropna(axis=0, inplace=True)"
   ]
  },
  {
   "cell_type": "code",
   "execution_count": 97,
   "id": "bf4b98b9-3e1c-45ca-8d2b-a0270b82bc12",
   "metadata": {},
   "outputs": [
    {
     "data": {
      "text/plain": [
       "Country             0\n",
       "Response_measure    0\n",
       "date_start          0\n",
       "date_end            0\n",
       "year_start          0\n",
       "year_end            0\n",
       "dtype: int64"
      ]
     },
     "execution_count": 97,
     "metadata": {},
     "output_type": "execute_result"
    }
   ],
   "source": [
    "response.isna().sum()"
   ]
  },
  {
   "cell_type": "code",
   "execution_count": 98,
   "id": "0842b0fe-f5f2-449a-8397-98459213737e",
   "metadata": {},
   "outputs": [
    {
     "name": "stdout",
     "output_type": "stream",
     "text": [
      "<class 'pandas.core.frame.DataFrame'>\n",
      "Int64Index: 1643 entries, 0 to 1995\n",
      "Data columns (total 6 columns):\n",
      " #   Column            Non-Null Count  Dtype         \n",
      "---  ------            --------------  -----         \n",
      " 0   Country           1643 non-null   object        \n",
      " 1   Response_measure  1643 non-null   object        \n",
      " 2   date_start        1643 non-null   datetime64[ns]\n",
      " 3   date_end          1643 non-null   datetime64[ns]\n",
      " 4   year_start        1643 non-null   int64         \n",
      " 5   year_end          1643 non-null   float64       \n",
      "dtypes: datetime64[ns](2), float64(1), int64(1), object(2)\n",
      "memory usage: 89.9+ KB\n"
     ]
    }
   ],
   "source": [
    "response.info()"
   ]
  },
  {
   "cell_type": "code",
   "execution_count": 99,
   "id": "c4b31886-0337-4b44-b8da-2c29c2188c06",
   "metadata": {},
   "outputs": [
    {
     "data": {
      "text/plain": [
       "0       2020\n",
       "2       2021\n",
       "3       2020\n",
       "4       2020\n",
       "5       2020\n",
       "        ... \n",
       "1990    2021\n",
       "1991    2021\n",
       "1993    2021\n",
       "1994    2020\n",
       "1995    2021\n",
       "Name: year_end, Length: 1643, dtype: int64"
      ]
     },
     "execution_count": 99,
     "metadata": {},
     "output_type": "execute_result"
    }
   ],
   "source": [
    "response['year_end'].astype(int)"
   ]
  },
  {
   "cell_type": "code",
   "execution_count": 100,
   "id": "badf1bca-7639-4ff3-ba4a-57b5866ae4d6",
   "metadata": {},
   "outputs": [
    {
     "data": {
      "text/html": [
       "<div>\n",
       "<style scoped>\n",
       "    .dataframe tbody tr th:only-of-type {\n",
       "        vertical-align: middle;\n",
       "    }\n",
       "\n",
       "    .dataframe tbody tr th {\n",
       "        vertical-align: top;\n",
       "    }\n",
       "\n",
       "    .dataframe thead th {\n",
       "        text-align: right;\n",
       "    }\n",
       "</style>\n",
       "<table border=\"1\" class=\"dataframe\">\n",
       "  <thead>\n",
       "    <tr style=\"text-align: right;\">\n",
       "      <th></th>\n",
       "      <th>Country</th>\n",
       "      <th>Response_measure</th>\n",
       "      <th>date_start</th>\n",
       "      <th>date_end</th>\n",
       "      <th>year_start</th>\n",
       "      <th>year_end</th>\n",
       "    </tr>\n",
       "  </thead>\n",
       "  <tbody>\n",
       "    <tr>\n",
       "      <th>0</th>\n",
       "      <td>Austria</td>\n",
       "      <td>AdaptationOfWorkplace</td>\n",
       "      <td>2020-03-16</td>\n",
       "      <td>2020-04-13</td>\n",
       "      <td>2020</td>\n",
       "      <td>2020.0</td>\n",
       "    </tr>\n",
       "    <tr>\n",
       "      <th>2</th>\n",
       "      <td>Austria</td>\n",
       "      <td>BanOnAllEvents</td>\n",
       "      <td>2020-11-03</td>\n",
       "      <td>2021-05-18</td>\n",
       "      <td>2020</td>\n",
       "      <td>2021.0</td>\n",
       "    </tr>\n",
       "    <tr>\n",
       "      <th>3</th>\n",
       "      <td>Austria</td>\n",
       "      <td>ClosDaycare</td>\n",
       "      <td>2020-03-16</td>\n",
       "      <td>2020-05-04</td>\n",
       "      <td>2020</td>\n",
       "      <td>2020.0</td>\n",
       "    </tr>\n",
       "    <tr>\n",
       "      <th>4</th>\n",
       "      <td>Austria</td>\n",
       "      <td>ClosDaycare</td>\n",
       "      <td>2020-11-17</td>\n",
       "      <td>2020-12-07</td>\n",
       "      <td>2020</td>\n",
       "      <td>2020.0</td>\n",
       "    </tr>\n",
       "    <tr>\n",
       "      <th>5</th>\n",
       "      <td>Austria</td>\n",
       "      <td>ClosHigh</td>\n",
       "      <td>2020-03-16</td>\n",
       "      <td>2020-09-30</td>\n",
       "      <td>2020</td>\n",
       "      <td>2020.0</td>\n",
       "    </tr>\n",
       "  </tbody>\n",
       "</table>\n",
       "</div>"
      ],
      "text/plain": [
       "   Country       Response_measure date_start   date_end  year_start  year_end\n",
       "0  Austria  AdaptationOfWorkplace 2020-03-16 2020-04-13        2020    2020.0\n",
       "2  Austria         BanOnAllEvents 2020-11-03 2021-05-18        2020    2021.0\n",
       "3  Austria            ClosDaycare 2020-03-16 2020-05-04        2020    2020.0\n",
       "4  Austria            ClosDaycare 2020-11-17 2020-12-07        2020    2020.0\n",
       "5  Austria               ClosHigh 2020-03-16 2020-09-30        2020    2020.0"
      ]
     },
     "execution_count": 100,
     "metadata": {},
     "output_type": "execute_result"
    }
   ],
   "source": [
    "response.head()"
   ]
  },
  {
   "cell_type": "code",
   "execution_count": 101,
   "id": "8fd05ae6-ef02-4ccc-8c29-4da47f46355b",
   "metadata": {},
   "outputs": [],
   "source": [
    "#response['month_year'] = pd.to_datetime(response['date_end']).dt.to_period('Y')"
   ]
  },
  {
   "cell_type": "code",
   "execution_count": 102,
   "id": "c214a90a-555a-4b29-a299-66443ffe7e80",
   "metadata": {},
   "outputs": [],
   "source": [
    "response['Days'] = response['date_end'] - response['date_start']"
   ]
  },
  {
   "cell_type": "code",
   "execution_count": 103,
   "id": "130b83ad-22fc-4bb9-9f39-613d4b9742e5",
   "metadata": {
    "tags": []
   },
   "outputs": [
    {
     "name": "stdout",
     "output_type": "stream",
     "text": [
      "<class 'pandas.core.frame.DataFrame'>\n",
      "Int64Index: 1643 entries, 0 to 1995\n",
      "Data columns (total 7 columns):\n",
      " #   Column            Non-Null Count  Dtype          \n",
      "---  ------            --------------  -----          \n",
      " 0   Country           1643 non-null   object         \n",
      " 1   Response_measure  1643 non-null   object         \n",
      " 2   date_start        1643 non-null   datetime64[ns] \n",
      " 3   date_end          1643 non-null   datetime64[ns] \n",
      " 4   year_start        1643 non-null   int64          \n",
      " 5   year_end          1643 non-null   float64        \n",
      " 6   Days              1643 non-null   timedelta64[ns]\n",
      "dtypes: datetime64[ns](2), float64(1), int64(1), object(2), timedelta64[ns](1)\n",
      "memory usage: 102.7+ KB\n"
     ]
    }
   ],
   "source": [
    "response.info()"
   ]
  },
  {
   "cell_type": "code",
   "execution_count": 104,
   "id": "8ce56496-14a0-4cea-bf64-a1044c6310ac",
   "metadata": {},
   "outputs": [
    {
     "data": {
      "text/plain": [
       "0       28 days\n",
       "2      196 days\n",
       "3       49 days\n",
       "4       20 days\n",
       "5      198 days\n",
       "         ...   \n",
       "1990   207 days\n",
       "1991   303 days\n",
       "1993   365 days\n",
       "1994   204 days\n",
       "1995   563 days\n",
       "Name: Days, Length: 1643, dtype: timedelta64[ns]"
      ]
     },
     "execution_count": 104,
     "metadata": {},
     "output_type": "execute_result"
    }
   ],
   "source": [
    "response['Days']"
   ]
  },
  {
   "cell_type": "code",
   "execution_count": 105,
   "id": "6cb49204-b7df-4246-85e8-39277a0d4087",
   "metadata": {},
   "outputs": [
    {
     "data": {
      "text/html": [
       "<div>\n",
       "<style scoped>\n",
       "    .dataframe tbody tr th:only-of-type {\n",
       "        vertical-align: middle;\n",
       "    }\n",
       "\n",
       "    .dataframe tbody tr th {\n",
       "        vertical-align: top;\n",
       "    }\n",
       "\n",
       "    .dataframe thead th {\n",
       "        text-align: right;\n",
       "    }\n",
       "</style>\n",
       "<table border=\"1\" class=\"dataframe\">\n",
       "  <thead>\n",
       "    <tr style=\"text-align: right;\">\n",
       "      <th></th>\n",
       "      <th>Country</th>\n",
       "      <th>Response_measure</th>\n",
       "      <th>date_start</th>\n",
       "      <th>date_end</th>\n",
       "      <th>year_start</th>\n",
       "      <th>year_end</th>\n",
       "      <th>Days</th>\n",
       "    </tr>\n",
       "  </thead>\n",
       "  <tbody>\n",
       "    <tr>\n",
       "      <th>0</th>\n",
       "      <td>Austria</td>\n",
       "      <td>AdaptationOfWorkplace</td>\n",
       "      <td>2020-03-16</td>\n",
       "      <td>2020-04-13</td>\n",
       "      <td>2020</td>\n",
       "      <td>2020.0</td>\n",
       "      <td>28 days</td>\n",
       "    </tr>\n",
       "    <tr>\n",
       "      <th>2</th>\n",
       "      <td>Austria</td>\n",
       "      <td>BanOnAllEvents</td>\n",
       "      <td>2020-11-03</td>\n",
       "      <td>2021-05-18</td>\n",
       "      <td>2020</td>\n",
       "      <td>2021.0</td>\n",
       "      <td>196 days</td>\n",
       "    </tr>\n",
       "    <tr>\n",
       "      <th>3</th>\n",
       "      <td>Austria</td>\n",
       "      <td>ClosDaycare</td>\n",
       "      <td>2020-03-16</td>\n",
       "      <td>2020-05-04</td>\n",
       "      <td>2020</td>\n",
       "      <td>2020.0</td>\n",
       "      <td>49 days</td>\n",
       "    </tr>\n",
       "    <tr>\n",
       "      <th>4</th>\n",
       "      <td>Austria</td>\n",
       "      <td>ClosDaycare</td>\n",
       "      <td>2020-11-17</td>\n",
       "      <td>2020-12-07</td>\n",
       "      <td>2020</td>\n",
       "      <td>2020.0</td>\n",
       "      <td>20 days</td>\n",
       "    </tr>\n",
       "    <tr>\n",
       "      <th>5</th>\n",
       "      <td>Austria</td>\n",
       "      <td>ClosHigh</td>\n",
       "      <td>2020-03-16</td>\n",
       "      <td>2020-09-30</td>\n",
       "      <td>2020</td>\n",
       "      <td>2020.0</td>\n",
       "      <td>198 days</td>\n",
       "    </tr>\n",
       "    <tr>\n",
       "      <th>...</th>\n",
       "      <td>...</td>\n",
       "      <td>...</td>\n",
       "      <td>...</td>\n",
       "      <td>...</td>\n",
       "      <td>...</td>\n",
       "      <td>...</td>\n",
       "      <td>...</td>\n",
       "    </tr>\n",
       "    <tr>\n",
       "      <th>1990</th>\n",
       "      <td>Sweden</td>\n",
       "      <td>OutdoorOver500</td>\n",
       "      <td>2021-03-06</td>\n",
       "      <td>2021-09-29</td>\n",
       "      <td>2021</td>\n",
       "      <td>2021.0</td>\n",
       "      <td>207 days</td>\n",
       "    </tr>\n",
       "    <tr>\n",
       "      <th>1991</th>\n",
       "      <td>Sweden</td>\n",
       "      <td>PrivateGatheringRestrictions</td>\n",
       "      <td>2020-11-30</td>\n",
       "      <td>2021-09-29</td>\n",
       "      <td>2020</td>\n",
       "      <td>2021.0</td>\n",
       "      <td>303 days</td>\n",
       "    </tr>\n",
       "    <tr>\n",
       "      <th>1993</th>\n",
       "      <td>Sweden</td>\n",
       "      <td>RestaurantsCafesPartial</td>\n",
       "      <td>2020-07-01</td>\n",
       "      <td>2021-07-01</td>\n",
       "      <td>2020</td>\n",
       "      <td>2021.0</td>\n",
       "      <td>365 days</td>\n",
       "    </tr>\n",
       "    <tr>\n",
       "      <th>1994</th>\n",
       "      <td>Sweden</td>\n",
       "      <td>StayHomeRiskG</td>\n",
       "      <td>2020-04-01</td>\n",
       "      <td>2020-10-22</td>\n",
       "      <td>2020</td>\n",
       "      <td>2020.0</td>\n",
       "      <td>204 days</td>\n",
       "    </tr>\n",
       "    <tr>\n",
       "      <th>1995</th>\n",
       "      <td>Sweden</td>\n",
       "      <td>Teleworking</td>\n",
       "      <td>2020-03-16</td>\n",
       "      <td>2021-09-30</td>\n",
       "      <td>2020</td>\n",
       "      <td>2021.0</td>\n",
       "      <td>563 days</td>\n",
       "    </tr>\n",
       "  </tbody>\n",
       "</table>\n",
       "<p>1643 rows × 7 columns</p>\n",
       "</div>"
      ],
      "text/plain": [
       "      Country              Response_measure date_start   date_end  year_start  \\\n",
       "0     Austria         AdaptationOfWorkplace 2020-03-16 2020-04-13        2020   \n",
       "2     Austria                BanOnAllEvents 2020-11-03 2021-05-18        2020   \n",
       "3     Austria                   ClosDaycare 2020-03-16 2020-05-04        2020   \n",
       "4     Austria                   ClosDaycare 2020-11-17 2020-12-07        2020   \n",
       "5     Austria                      ClosHigh 2020-03-16 2020-09-30        2020   \n",
       "...       ...                           ...        ...        ...         ...   \n",
       "1990   Sweden                OutdoorOver500 2021-03-06 2021-09-29        2021   \n",
       "1991   Sweden  PrivateGatheringRestrictions 2020-11-30 2021-09-29        2020   \n",
       "1993   Sweden       RestaurantsCafesPartial 2020-07-01 2021-07-01        2020   \n",
       "1994   Sweden                 StayHomeRiskG 2020-04-01 2020-10-22        2020   \n",
       "1995   Sweden                   Teleworking 2020-03-16 2021-09-30        2020   \n",
       "\n",
       "      year_end     Days  \n",
       "0       2020.0  28 days  \n",
       "2       2021.0 196 days  \n",
       "3       2020.0  49 days  \n",
       "4       2020.0  20 days  \n",
       "5       2020.0 198 days  \n",
       "...        ...      ...  \n",
       "1990    2021.0 207 days  \n",
       "1991    2021.0 303 days  \n",
       "1993    2021.0 365 days  \n",
       "1994    2020.0 204 days  \n",
       "1995    2021.0 563 days  \n",
       "\n",
       "[1643 rows x 7 columns]"
      ]
     },
     "execution_count": 105,
     "metadata": {},
     "output_type": "execute_result"
    }
   ],
   "source": [
    "response"
   ]
  },
  {
   "cell_type": "code",
   "execution_count": 106,
   "id": "998f4f52-76d9-485d-9e92-e24b8645edc4",
   "metadata": {
    "tags": []
   },
   "outputs": [],
   "source": [
    "response_group = response.groupby(['Country','year_start','Response_measure'])['Days'].sum().reset_index()"
   ]
  },
  {
   "cell_type": "code",
   "execution_count": 107,
   "id": "523048d8-8f03-4f03-8eb1-48b416825a3f",
   "metadata": {},
   "outputs": [
    {
     "data": {
      "text/html": [
       "<div>\n",
       "<style scoped>\n",
       "    .dataframe tbody tr th:only-of-type {\n",
       "        vertical-align: middle;\n",
       "    }\n",
       "\n",
       "    .dataframe tbody tr th {\n",
       "        vertical-align: top;\n",
       "    }\n",
       "\n",
       "    .dataframe thead th {\n",
       "        text-align: right;\n",
       "    }\n",
       "</style>\n",
       "<table border=\"1\" class=\"dataframe\">\n",
       "  <thead>\n",
       "    <tr style=\"text-align: right;\">\n",
       "      <th></th>\n",
       "      <th>Country</th>\n",
       "      <th>year_start</th>\n",
       "      <th>Response_measure</th>\n",
       "      <th>Days</th>\n",
       "    </tr>\n",
       "  </thead>\n",
       "  <tbody>\n",
       "    <tr>\n",
       "      <th>0</th>\n",
       "      <td>Austria</td>\n",
       "      <td>2020</td>\n",
       "      <td>AdaptationOfWorkplace</td>\n",
       "      <td>28 days</td>\n",
       "    </tr>\n",
       "    <tr>\n",
       "      <th>1</th>\n",
       "      <td>Austria</td>\n",
       "      <td>2020</td>\n",
       "      <td>BanOnAllEvents</td>\n",
       "      <td>196 days</td>\n",
       "    </tr>\n",
       "    <tr>\n",
       "      <th>2</th>\n",
       "      <td>Austria</td>\n",
       "      <td>2020</td>\n",
       "      <td>ClosDaycare</td>\n",
       "      <td>69 days</td>\n",
       "    </tr>\n",
       "    <tr>\n",
       "      <th>3</th>\n",
       "      <td>Austria</td>\n",
       "      <td>2020</td>\n",
       "      <td>ClosHigh</td>\n",
       "      <td>198 days</td>\n",
       "    </tr>\n",
       "    <tr>\n",
       "      <th>4</th>\n",
       "      <td>Austria</td>\n",
       "      <td>2020</td>\n",
       "      <td>ClosPrim</td>\n",
       "      <td>62 days</td>\n",
       "    </tr>\n",
       "  </tbody>\n",
       "</table>\n",
       "</div>"
      ],
      "text/plain": [
       "   Country  year_start       Response_measure     Days\n",
       "0  Austria        2020  AdaptationOfWorkplace  28 days\n",
       "1  Austria        2020         BanOnAllEvents 196 days\n",
       "2  Austria        2020            ClosDaycare  69 days\n",
       "3  Austria        2020               ClosHigh 198 days\n",
       "4  Austria        2020               ClosPrim  62 days"
      ]
     },
     "execution_count": 107,
     "metadata": {},
     "output_type": "execute_result"
    }
   ],
   "source": [
    "response_group.head()"
   ]
  },
  {
   "cell_type": "code",
   "execution_count": 108,
   "id": "689659e4-3e15-4d78-89c9-644920236dd0",
   "metadata": {},
   "outputs": [
    {
     "name": "stdout",
     "output_type": "stream",
     "text": [
      "<class 'pandas.core.frame.DataFrame'>\n",
      "RangeIndex: 1271 entries, 0 to 1270\n",
      "Data columns (total 4 columns):\n",
      " #   Column            Non-Null Count  Dtype          \n",
      "---  ------            --------------  -----          \n",
      " 0   Country           1271 non-null   object         \n",
      " 1   year_start        1271 non-null   int64          \n",
      " 2   Response_measure  1271 non-null   object         \n",
      " 3   Days              1271 non-null   timedelta64[ns]\n",
      "dtypes: int64(1), object(2), timedelta64[ns](1)\n",
      "memory usage: 39.8+ KB\n"
     ]
    }
   ],
   "source": [
    "response_group.info()"
   ]
  },
  {
   "cell_type": "code",
   "execution_count": 109,
   "id": "f4160983-9682-4a22-a44c-ef47715b9556",
   "metadata": {},
   "outputs": [],
   "source": [
    "response_group['Days'] = response_group['Days'].astype(str)"
   ]
  },
  {
   "cell_type": "code",
   "execution_count": 110,
   "id": "3f31508c-0932-4c63-8b29-3e2066d35cf2",
   "metadata": {},
   "outputs": [
    {
     "name": "stdout",
     "output_type": "stream",
     "text": [
      "<class 'pandas.core.frame.DataFrame'>\n",
      "RangeIndex: 1271 entries, 0 to 1270\n",
      "Data columns (total 4 columns):\n",
      " #   Column            Non-Null Count  Dtype \n",
      "---  ------            --------------  ----- \n",
      " 0   Country           1271 non-null   object\n",
      " 1   year_start        1271 non-null   int64 \n",
      " 2   Response_measure  1271 non-null   object\n",
      " 3   Days              1271 non-null   object\n",
      "dtypes: int64(1), object(3)\n",
      "memory usage: 39.8+ KB\n"
     ]
    }
   ],
   "source": [
    "response_group.info()"
   ]
  },
  {
   "cell_type": "code",
   "execution_count": 111,
   "id": "b213c34f-d29c-48f1-89ae-4059f62945ce",
   "metadata": {},
   "outputs": [
    {
     "data": {
      "text/html": [
       "<div>\n",
       "<style scoped>\n",
       "    .dataframe tbody tr th:only-of-type {\n",
       "        vertical-align: middle;\n",
       "    }\n",
       "\n",
       "    .dataframe tbody tr th {\n",
       "        vertical-align: top;\n",
       "    }\n",
       "\n",
       "    .dataframe thead th {\n",
       "        text-align: right;\n",
       "    }\n",
       "</style>\n",
       "<table border=\"1\" class=\"dataframe\">\n",
       "  <thead>\n",
       "    <tr style=\"text-align: right;\">\n",
       "      <th></th>\n",
       "      <th>Country</th>\n",
       "      <th>year_start</th>\n",
       "      <th>Response_measure</th>\n",
       "      <th>Days</th>\n",
       "    </tr>\n",
       "  </thead>\n",
       "  <tbody>\n",
       "    <tr>\n",
       "      <th>0</th>\n",
       "      <td>Austria</td>\n",
       "      <td>2020</td>\n",
       "      <td>AdaptationOfWorkplace</td>\n",
       "      <td>28 days</td>\n",
       "    </tr>\n",
       "    <tr>\n",
       "      <th>1</th>\n",
       "      <td>Austria</td>\n",
       "      <td>2020</td>\n",
       "      <td>BanOnAllEvents</td>\n",
       "      <td>196 days</td>\n",
       "    </tr>\n",
       "    <tr>\n",
       "      <th>2</th>\n",
       "      <td>Austria</td>\n",
       "      <td>2020</td>\n",
       "      <td>ClosDaycare</td>\n",
       "      <td>69 days</td>\n",
       "    </tr>\n",
       "    <tr>\n",
       "      <th>3</th>\n",
       "      <td>Austria</td>\n",
       "      <td>2020</td>\n",
       "      <td>ClosHigh</td>\n",
       "      <td>198 days</td>\n",
       "    </tr>\n",
       "    <tr>\n",
       "      <th>4</th>\n",
       "      <td>Austria</td>\n",
       "      <td>2020</td>\n",
       "      <td>ClosPrim</td>\n",
       "      <td>62 days</td>\n",
       "    </tr>\n",
       "  </tbody>\n",
       "</table>\n",
       "</div>"
      ],
      "text/plain": [
       "   Country  year_start       Response_measure      Days\n",
       "0  Austria        2020  AdaptationOfWorkplace   28 days\n",
       "1  Austria        2020         BanOnAllEvents  196 days\n",
       "2  Austria        2020            ClosDaycare   69 days\n",
       "3  Austria        2020               ClosHigh  198 days\n",
       "4  Austria        2020               ClosPrim   62 days"
      ]
     },
     "execution_count": 111,
     "metadata": {},
     "output_type": "execute_result"
    }
   ],
   "source": [
    "response_group.head()"
   ]
  },
  {
   "cell_type": "code",
   "execution_count": 112,
   "id": "d9a3ac33-840a-4ccb-8747-8962b8fb2998",
   "metadata": {},
   "outputs": [],
   "source": [
    "response_group['Days'] = response_group.Days.str.split(\" \",expand=True)\n"
   ]
  },
  {
   "cell_type": "code",
   "execution_count": 113,
   "id": "26eac01c-eef1-4598-9c85-80629bc4d40a",
   "metadata": {},
   "outputs": [
    {
     "data": {
      "text/html": [
       "<div>\n",
       "<style scoped>\n",
       "    .dataframe tbody tr th:only-of-type {\n",
       "        vertical-align: middle;\n",
       "    }\n",
       "\n",
       "    .dataframe tbody tr th {\n",
       "        vertical-align: top;\n",
       "    }\n",
       "\n",
       "    .dataframe thead th {\n",
       "        text-align: right;\n",
       "    }\n",
       "</style>\n",
       "<table border=\"1\" class=\"dataframe\">\n",
       "  <thead>\n",
       "    <tr style=\"text-align: right;\">\n",
       "      <th></th>\n",
       "      <th>Country</th>\n",
       "      <th>year_start</th>\n",
       "      <th>Response_measure</th>\n",
       "      <th>Days</th>\n",
       "    </tr>\n",
       "  </thead>\n",
       "  <tbody>\n",
       "    <tr>\n",
       "      <th>0</th>\n",
       "      <td>Austria</td>\n",
       "      <td>2020</td>\n",
       "      <td>AdaptationOfWorkplace</td>\n",
       "      <td>28</td>\n",
       "    </tr>\n",
       "    <tr>\n",
       "      <th>1</th>\n",
       "      <td>Austria</td>\n",
       "      <td>2020</td>\n",
       "      <td>BanOnAllEvents</td>\n",
       "      <td>196</td>\n",
       "    </tr>\n",
       "    <tr>\n",
       "      <th>2</th>\n",
       "      <td>Austria</td>\n",
       "      <td>2020</td>\n",
       "      <td>ClosDaycare</td>\n",
       "      <td>69</td>\n",
       "    </tr>\n",
       "    <tr>\n",
       "      <th>3</th>\n",
       "      <td>Austria</td>\n",
       "      <td>2020</td>\n",
       "      <td>ClosHigh</td>\n",
       "      <td>198</td>\n",
       "    </tr>\n",
       "    <tr>\n",
       "      <th>4</th>\n",
       "      <td>Austria</td>\n",
       "      <td>2020</td>\n",
       "      <td>ClosPrim</td>\n",
       "      <td>62</td>\n",
       "    </tr>\n",
       "    <tr>\n",
       "      <th>...</th>\n",
       "      <td>...</td>\n",
       "      <td>...</td>\n",
       "      <td>...</td>\n",
       "      <td>...</td>\n",
       "    </tr>\n",
       "    <tr>\n",
       "      <th>1266</th>\n",
       "      <td>Sweden</td>\n",
       "      <td>2021</td>\n",
       "      <td>IndoorOver500</td>\n",
       "      <td>207</td>\n",
       "    </tr>\n",
       "    <tr>\n",
       "      <th>1267</th>\n",
       "      <td>Sweden</td>\n",
       "      <td>2021</td>\n",
       "      <td>MasksVoluntaryClosedSpacesPartial</td>\n",
       "      <td>175</td>\n",
       "    </tr>\n",
       "    <tr>\n",
       "      <th>1268</th>\n",
       "      <td>Sweden</td>\n",
       "      <td>2021</td>\n",
       "      <td>MassGatherAll</td>\n",
       "      <td>207</td>\n",
       "    </tr>\n",
       "    <tr>\n",
       "      <th>1269</th>\n",
       "      <td>Sweden</td>\n",
       "      <td>2021</td>\n",
       "      <td>NonEssentialShopsPartial</td>\n",
       "      <td>69</td>\n",
       "    </tr>\n",
       "    <tr>\n",
       "      <th>1270</th>\n",
       "      <td>Sweden</td>\n",
       "      <td>2021</td>\n",
       "      <td>OutdoorOver500</td>\n",
       "      <td>207</td>\n",
       "    </tr>\n",
       "  </tbody>\n",
       "</table>\n",
       "<p>1271 rows × 4 columns</p>\n",
       "</div>"
      ],
      "text/plain": [
       "      Country  year_start                   Response_measure Days\n",
       "0     Austria        2020              AdaptationOfWorkplace   28\n",
       "1     Austria        2020                     BanOnAllEvents  196\n",
       "2     Austria        2020                        ClosDaycare   69\n",
       "3     Austria        2020                           ClosHigh  198\n",
       "4     Austria        2020                           ClosPrim   62\n",
       "...       ...         ...                                ...  ...\n",
       "1266   Sweden        2021                      IndoorOver500  207\n",
       "1267   Sweden        2021  MasksVoluntaryClosedSpacesPartial  175\n",
       "1268   Sweden        2021                      MassGatherAll  207\n",
       "1269   Sweden        2021           NonEssentialShopsPartial   69\n",
       "1270   Sweden        2021                     OutdoorOver500  207\n",
       "\n",
       "[1271 rows x 4 columns]"
      ]
     },
     "execution_count": 113,
     "metadata": {},
     "output_type": "execute_result"
    }
   ],
   "source": [
    "response_group"
   ]
  },
  {
   "cell_type": "code",
   "execution_count": 114,
   "id": "fa7b49e9-a176-47da-b25b-d0c532d20188",
   "metadata": {},
   "outputs": [],
   "source": [
    "response_group['Days'] = response_group['Days'].astype(int)"
   ]
  },
  {
   "cell_type": "code",
   "execution_count": 115,
   "id": "7e9d6c64-8fd0-41a9-bea1-e64d475240b9",
   "metadata": {},
   "outputs": [
    {
     "name": "stdout",
     "output_type": "stream",
     "text": [
      "<class 'pandas.core.frame.DataFrame'>\n",
      "RangeIndex: 1271 entries, 0 to 1270\n",
      "Data columns (total 4 columns):\n",
      " #   Column            Non-Null Count  Dtype \n",
      "---  ------            --------------  ----- \n",
      " 0   Country           1271 non-null   object\n",
      " 1   year_start        1271 non-null   int64 \n",
      " 2   Response_measure  1271 non-null   object\n",
      " 3   Days              1271 non-null   int64 \n",
      "dtypes: int64(2), object(2)\n",
      "memory usage: 39.8+ KB\n"
     ]
    }
   ],
   "source": [
    "response_group.info()"
   ]
  },
  {
   "cell_type": "code",
   "execution_count": 116,
   "id": "2fb25ea1-fc9d-4056-a2c9-ec59e62e3ac9",
   "metadata": {},
   "outputs": [],
   "source": [
    "response_group.to_csv('response_groupfinal.csv')"
   ]
  },
  {
   "cell_type": "code",
   "execution_count": null,
   "id": "2275798f-52ad-46a7-a096-0b2ec073517c",
   "metadata": {},
   "outputs": [],
   "source": []
  },
  {
   "cell_type": "code",
   "execution_count": 119,
   "id": "58eee80a-6834-4deb-9730-6ce75694ab73",
   "metadata": {},
   "outputs": [
    {
     "data": {
      "text/html": [
       "<div>\n",
       "<style scoped>\n",
       "    .dataframe tbody tr th:only-of-type {\n",
       "        vertical-align: middle;\n",
       "    }\n",
       "\n",
       "    .dataframe tbody tr th {\n",
       "        vertical-align: top;\n",
       "    }\n",
       "\n",
       "    .dataframe thead th {\n",
       "        text-align: right;\n",
       "    }\n",
       "</style>\n",
       "<table border=\"1\" class=\"dataframe\">\n",
       "  <thead>\n",
       "    <tr style=\"text-align: right;\">\n",
       "      <th></th>\n",
       "      <th>province</th>\n",
       "      <th>country</th>\n",
       "      <th>date</th>\n",
       "      <th>confirmed</th>\n",
       "      <th>deaths</th>\n",
       "      <th>Lat</th>\n",
       "      <th>Long</th>\n",
       "      <th>recovered</th>\n",
       "      <th>Active</th>\n",
       "      <th>New cases</th>\n",
       "      <th>New deaths</th>\n",
       "      <th>New recovered</th>\n",
       "      <th>iso_code</th>\n",
       "      <th>population</th>\n",
       "      <th>positivity_rate</th>\n",
       "      <th>mortality_rate</th>\n",
       "    </tr>\n",
       "  </thead>\n",
       "  <tbody>\n",
       "    <tr>\n",
       "      <th>0</th>\n",
       "      <td>0</td>\n",
       "      <td>Afghanistan</td>\n",
       "      <td>2020-01-22</td>\n",
       "      <td>0.0</td>\n",
       "      <td>0.0</td>\n",
       "      <td>33.93911</td>\n",
       "      <td>67.709953</td>\n",
       "      <td>0.0</td>\n",
       "      <td>0.0</td>\n",
       "      <td>0</td>\n",
       "      <td>0</td>\n",
       "      <td>0</td>\n",
       "      <td>AFG</td>\n",
       "      <td>40289605.0</td>\n",
       "      <td>0.0</td>\n",
       "      <td>NaN</td>\n",
       "    </tr>\n",
       "    <tr>\n",
       "      <th>1</th>\n",
       "      <td>0</td>\n",
       "      <td>Albania</td>\n",
       "      <td>2020-01-22</td>\n",
       "      <td>0.0</td>\n",
       "      <td>0.0</td>\n",
       "      <td>41.15330</td>\n",
       "      <td>20.168300</td>\n",
       "      <td>0.0</td>\n",
       "      <td>0.0</td>\n",
       "      <td>0</td>\n",
       "      <td>0</td>\n",
       "      <td>0</td>\n",
       "      <td>ALB</td>\n",
       "      <td>2870210.0</td>\n",
       "      <td>0.0</td>\n",
       "      <td>NaN</td>\n",
       "    </tr>\n",
       "    <tr>\n",
       "      <th>2</th>\n",
       "      <td>0</td>\n",
       "      <td>Algeria</td>\n",
       "      <td>2020-01-22</td>\n",
       "      <td>0.0</td>\n",
       "      <td>0.0</td>\n",
       "      <td>28.03390</td>\n",
       "      <td>1.659600</td>\n",
       "      <td>0.0</td>\n",
       "      <td>0.0</td>\n",
       "      <td>0</td>\n",
       "      <td>0</td>\n",
       "      <td>0</td>\n",
       "      <td>DZA</td>\n",
       "      <td>44991656.0</td>\n",
       "      <td>0.0</td>\n",
       "      <td>NaN</td>\n",
       "    </tr>\n",
       "    <tr>\n",
       "      <th>3</th>\n",
       "      <td>0</td>\n",
       "      <td>Andorra</td>\n",
       "      <td>2020-01-22</td>\n",
       "      <td>0.0</td>\n",
       "      <td>0.0</td>\n",
       "      <td>42.50630</td>\n",
       "      <td>1.521800</td>\n",
       "      <td>0.0</td>\n",
       "      <td>0.0</td>\n",
       "      <td>0</td>\n",
       "      <td>0</td>\n",
       "      <td>0</td>\n",
       "      <td>AND</td>\n",
       "      <td>77355.0</td>\n",
       "      <td>0.0</td>\n",
       "      <td>NaN</td>\n",
       "    </tr>\n",
       "    <tr>\n",
       "      <th>4</th>\n",
       "      <td>0</td>\n",
       "      <td>Angola</td>\n",
       "      <td>2020-01-22</td>\n",
       "      <td>0.0</td>\n",
       "      <td>0.0</td>\n",
       "      <td>-11.20270</td>\n",
       "      <td>17.873900</td>\n",
       "      <td>0.0</td>\n",
       "      <td>0.0</td>\n",
       "      <td>0</td>\n",
       "      <td>0</td>\n",
       "      <td>0</td>\n",
       "      <td>AGO</td>\n",
       "      <td>34466387.0</td>\n",
       "      <td>0.0</td>\n",
       "      <td>NaN</td>\n",
       "    </tr>\n",
       "  </tbody>\n",
       "</table>\n",
       "</div>"
      ],
      "text/plain": [
       "  province      country       date  confirmed  deaths       Lat       Long  \\\n",
       "0        0  Afghanistan 2020-01-22        0.0     0.0  33.93911  67.709953   \n",
       "1        0      Albania 2020-01-22        0.0     0.0  41.15330  20.168300   \n",
       "2        0      Algeria 2020-01-22        0.0     0.0  28.03390   1.659600   \n",
       "3        0      Andorra 2020-01-22        0.0     0.0  42.50630   1.521800   \n",
       "4        0       Angola 2020-01-22        0.0     0.0 -11.20270  17.873900   \n",
       "\n",
       "   recovered  Active  New cases  New deaths  New recovered iso_code  \\\n",
       "0        0.0     0.0          0           0              0      AFG   \n",
       "1        0.0     0.0          0           0              0      ALB   \n",
       "2        0.0     0.0          0           0              0      DZA   \n",
       "3        0.0     0.0          0           0              0      AND   \n",
       "4        0.0     0.0          0           0              0      AGO   \n",
       "\n",
       "   population  positivity_rate  mortality_rate  \n",
       "0  40289605.0              0.0             NaN  \n",
       "1   2870210.0              0.0             NaN  \n",
       "2  44991656.0              0.0             NaN  \n",
       "3     77355.0              0.0             NaN  \n",
       "4  34466387.0              0.0             NaN  "
      ]
     },
     "execution_count": 119,
     "metadata": {},
     "output_type": "execute_result"
    }
   ],
   "source": [
    "data_pop.head()"
   ]
  },
  {
   "cell_type": "code",
   "execution_count": null,
   "id": "171aba79-80e4-42e7-8c4e-efc517042745",
   "metadata": {},
   "outputs": [],
   "source": []
  },
  {
   "cell_type": "code",
   "execution_count": null,
   "id": "da03898a-2765-4819-a06a-8c0007620f76",
   "metadata": {},
   "outputs": [],
   "source": []
  },
  {
   "cell_type": "code",
   "execution_count": 182,
   "id": "9a279d3f-fa6a-4100-86c8-09291390f13b",
   "metadata": {},
   "outputs": [],
   "source": [
    "import pandas as pd\n",
    "import matplotlib.pyplot as plt\n",
    "import seaborn as sns\n",
    "\n",
    "from sklearn.preprocessing import MinMaxScaler\n",
    "from sklearn.preprocessing import StandardScaler\n",
    "from sklearn.cluster import KMeans\n",
    "from sklearn.metrics import silhouette_score,silhouette_samples\n",
    "from sklearn.linear_model import LinearRegression,Ridge,Lasso\n",
    "std=StandardScaler()"
   ]
  },
  {
   "cell_type": "code",
   "execution_count": null,
   "id": "b97e8cc3-10b7-4ba8-8348-8a9034a0cad2",
   "metadata": {},
   "outputs": [],
   "source": []
  },
  {
   "cell_type": "code",
   "execution_count": null,
   "id": "8772df97-e6fe-48ac-a181-1b76b20e3e46",
   "metadata": {},
   "outputs": [],
   "source": []
  },
  {
   "cell_type": "code",
   "execution_count": 183,
   "id": "4c0f9801-5553-40d1-a4b8-ab29691b93d5",
   "metadata": {},
   "outputs": [
    {
     "data": {
      "text/html": [
       "<div>\n",
       "<style scoped>\n",
       "    .dataframe tbody tr th:only-of-type {\n",
       "        vertical-align: middle;\n",
       "    }\n",
       "\n",
       "    .dataframe tbody tr th {\n",
       "        vertical-align: top;\n",
       "    }\n",
       "\n",
       "    .dataframe thead th {\n",
       "        text-align: right;\n",
       "    }\n",
       "</style>\n",
       "<table border=\"1\" class=\"dataframe\">\n",
       "  <thead>\n",
       "    <tr style=\"text-align: right;\">\n",
       "      <th></th>\n",
       "      <th>deaths</th>\n",
       "      <th>recovered</th>\n",
       "    </tr>\n",
       "  </thead>\n",
       "  <tbody>\n",
       "    <tr>\n",
       "      <th>0</th>\n",
       "      <td>0.0</td>\n",
       "      <td>0.0</td>\n",
       "    </tr>\n",
       "    <tr>\n",
       "      <th>1</th>\n",
       "      <td>0.0</td>\n",
       "      <td>0.0</td>\n",
       "    </tr>\n",
       "    <tr>\n",
       "      <th>2</th>\n",
       "      <td>0.0</td>\n",
       "      <td>0.0</td>\n",
       "    </tr>\n",
       "  </tbody>\n",
       "</table>\n",
       "</div>"
      ],
      "text/plain": [
       "   deaths  recovered\n",
       "0     0.0        0.0\n",
       "1     0.0        0.0\n",
       "2     0.0        0.0"
      ]
     },
     "execution_count": 183,
     "metadata": {},
     "output_type": "execute_result"
    }
   ],
   "source": [
    "columns = ['deaths', 'recovered']\n",
    "\n",
    "p_sample = data_pop.filter(columns)\n",
    "p_sample.head(3)"
   ]
  },
  {
   "cell_type": "code",
   "execution_count": 184,
   "id": "41f7692f-76cd-4a5e-b497-21e6e19f1f0c",
   "metadata": {},
   "outputs": [],
   "source": [
    "p_norm = MinMaxScaler().fit_transform(p_sample)"
   ]
  },
  {
   "cell_type": "code",
   "execution_count": 185,
   "id": "e903735c-5955-4251-ab06-d92e519180b5",
   "metadata": {},
   "outputs": [
    {
     "data": {
      "text/html": [
       "<div>\n",
       "<style scoped>\n",
       "    .dataframe tbody tr th:only-of-type {\n",
       "        vertical-align: middle;\n",
       "    }\n",
       "\n",
       "    .dataframe tbody tr th {\n",
       "        vertical-align: top;\n",
       "    }\n",
       "\n",
       "    .dataframe thead th {\n",
       "        text-align: right;\n",
       "    }\n",
       "</style>\n",
       "<table border=\"1\" class=\"dataframe\">\n",
       "  <thead>\n",
       "    <tr style=\"text-align: right;\">\n",
       "      <th></th>\n",
       "      <th>0</th>\n",
       "      <th>1</th>\n",
       "    </tr>\n",
       "  </thead>\n",
       "  <tbody>\n",
       "    <tr>\n",
       "      <th>0</th>\n",
       "      <td>0.0</td>\n",
       "      <td>0.0</td>\n",
       "    </tr>\n",
       "    <tr>\n",
       "      <th>1</th>\n",
       "      <td>0.0</td>\n",
       "      <td>0.0</td>\n",
       "    </tr>\n",
       "    <tr>\n",
       "      <th>2</th>\n",
       "      <td>0.0</td>\n",
       "      <td>0.0</td>\n",
       "    </tr>\n",
       "    <tr>\n",
       "      <th>3</th>\n",
       "      <td>0.0</td>\n",
       "      <td>0.0</td>\n",
       "    </tr>\n",
       "    <tr>\n",
       "      <th>4</th>\n",
       "      <td>0.0</td>\n",
       "      <td>0.0</td>\n",
       "    </tr>\n",
       "  </tbody>\n",
       "</table>\n",
       "</div>"
      ],
      "text/plain": [
       "     0    1\n",
       "0  0.0  0.0\n",
       "1  0.0  0.0\n",
       "2  0.0  0.0\n",
       "3  0.0  0.0\n",
       "4  0.0  0.0"
      ]
     },
     "execution_count": 185,
     "metadata": {},
     "output_type": "execute_result"
    }
   ],
   "source": [
    "pd.DataFrame(p_norm).head()"
   ]
  },
  {
   "cell_type": "code",
   "execution_count": 186,
   "id": "18f813a9-d702-4fdf-8660-59bcb9d977cb",
   "metadata": {},
   "outputs": [],
   "source": [
    "from sklearn.cluster import KMeans\n",
    "p_kmeans = KMeans(n_clusters=3).fit(p_norm)"
   ]
  },
  {
   "cell_type": "code",
   "execution_count": 187,
   "id": "f4254bea-672c-4fa0-962f-13671a9886c2",
   "metadata": {},
   "outputs": [
    {
     "data": {
      "text/html": [
       "<div>\n",
       "<style scoped>\n",
       "    .dataframe tbody tr th:only-of-type {\n",
       "        vertical-align: middle;\n",
       "    }\n",
       "\n",
       "    .dataframe tbody tr th {\n",
       "        vertical-align: top;\n",
       "    }\n",
       "\n",
       "    .dataframe thead th {\n",
       "        text-align: right;\n",
       "    }\n",
       "</style>\n",
       "<table border=\"1\" class=\"dataframe\">\n",
       "  <thead>\n",
       "    <tr style=\"text-align: right;\">\n",
       "      <th></th>\n",
       "      <th>deaths</th>\n",
       "      <th>recovered</th>\n",
       "    </tr>\n",
       "  </thead>\n",
       "  <tbody>\n",
       "    <tr>\n",
       "      <th>0</th>\n",
       "      <td>0.002800</td>\n",
       "      <td>0.001445</td>\n",
       "    </tr>\n",
       "    <tr>\n",
       "      <th>1</th>\n",
       "      <td>0.632085</td>\n",
       "      <td>0.150085</td>\n",
       "    </tr>\n",
       "    <tr>\n",
       "      <th>2</th>\n",
       "      <td>0.142986</td>\n",
       "      <td>0.053508</td>\n",
       "    </tr>\n",
       "  </tbody>\n",
       "</table>\n",
       "</div>"
      ],
      "text/plain": [
       "     deaths  recovered\n",
       "0  0.002800   0.001445\n",
       "1  0.632085   0.150085\n",
       "2  0.142986   0.053508"
      ]
     },
     "execution_count": 187,
     "metadata": {},
     "output_type": "execute_result"
    }
   ],
   "source": [
    "# Find the values of the centroids to plot on graph\n",
    "centroids = pd.DataFrame(p_kmeans.cluster_centers_)\n",
    "centroids.columns = columns\n",
    "centroids"
   ]
  },
  {
   "cell_type": "code",
   "execution_count": 188,
   "id": "48feef57-788b-49c1-a76f-55f6e4caaf84",
   "metadata": {},
   "outputs": [
    {
     "data": {
      "text/html": [
       "<div>\n",
       "<style scoped>\n",
       "    .dataframe tbody tr th:only-of-type {\n",
       "        vertical-align: middle;\n",
       "    }\n",
       "\n",
       "    .dataframe tbody tr th {\n",
       "        vertical-align: top;\n",
       "    }\n",
       "\n",
       "    .dataframe thead th {\n",
       "        text-align: right;\n",
       "    }\n",
       "</style>\n",
       "<table border=\"1\" class=\"dataframe\">\n",
       "  <thead>\n",
       "    <tr style=\"text-align: right;\">\n",
       "      <th></th>\n",
       "      <th>deaths</th>\n",
       "      <th>recovered</th>\n",
       "      <th>cluster</th>\n",
       "      <th>country</th>\n",
       "    </tr>\n",
       "  </thead>\n",
       "  <tbody>\n",
       "    <tr>\n",
       "      <th>0</th>\n",
       "      <td>0.0</td>\n",
       "      <td>0.0</td>\n",
       "      <td>0</td>\n",
       "      <td>Afghanistan</td>\n",
       "    </tr>\n",
       "    <tr>\n",
       "      <th>1</th>\n",
       "      <td>0.0</td>\n",
       "      <td>0.0</td>\n",
       "      <td>0</td>\n",
       "      <td>Albania</td>\n",
       "    </tr>\n",
       "    <tr>\n",
       "      <th>2</th>\n",
       "      <td>0.0</td>\n",
       "      <td>0.0</td>\n",
       "      <td>0</td>\n",
       "      <td>Algeria</td>\n",
       "    </tr>\n",
       "    <tr>\n",
       "      <th>3</th>\n",
       "      <td>0.0</td>\n",
       "      <td>0.0</td>\n",
       "      <td>0</td>\n",
       "      <td>Andorra</td>\n",
       "    </tr>\n",
       "    <tr>\n",
       "      <th>4</th>\n",
       "      <td>0.0</td>\n",
       "      <td>0.0</td>\n",
       "      <td>0</td>\n",
       "      <td>Angola</td>\n",
       "    </tr>\n",
       "  </tbody>\n",
       "</table>\n",
       "</div>"
      ],
      "text/plain": [
       "   deaths  recovered  cluster      country\n",
       "0     0.0        0.0        0  Afghanistan\n",
       "1     0.0        0.0        0      Albania\n",
       "2     0.0        0.0        0      Algeria\n",
       "3     0.0        0.0        0      Andorra\n",
       "4     0.0        0.0        0       Angola"
      ]
     },
     "execution_count": 188,
     "metadata": {},
     "output_type": "execute_result"
    }
   ],
   "source": [
    "# Make a dataframe of the normalised data to plot on graph\n",
    "plot_data = pd.DataFrame(p_norm)\n",
    "plot_data.columns = columns\n",
    "\n",
    "# Add a column to say which cluster a penguin belongs to\n",
    "plot_data['cluster'] = p_kmeans.labels_\n",
    "\n",
    "# readd the species as a column so it can be seen on the chart\n",
    "plot_data = pd.concat([plot_data, data_pop.country], axis=1)\n",
    "\n",
    "plot_data.head()"
   ]
  },
  {
   "cell_type": "code",
   "execution_count": 189,
   "id": "344da3a5-b279-49a7-bc57-a854ee7da8c0",
   "metadata": {},
   "outputs": [
    {
     "data": {
      "image/png": "[encoded data removed]",
      "text/plain": [
       "<Figure size 432x288 with 1 Axes>"
      ]
     },
     "metadata": {
      "needs_background": "light"
     },
     "output_type": "display_data"
    }
   ],
   "source": [
    "# Time to plot the data, 'hue' determines which categories to colour by, 'palette' determines the colours used\n",
    "sns.scatterplot(data=plot_data, x='deaths', y='recovered', hue='cluster', palette='Set2', style='country')\n",
    "sns.scatterplot(data=centroids, x='deaths', y='recovered', color='red', s=150)\n",
    "plt.show()"
   ]
  },
  {
   "cell_type": "code",
   "execution_count": 190,
   "id": "9d26b1e7-46c7-4968-af31-f59db175d9ae",
   "metadata": {},
   "outputs": [
    {
     "ename": "KeyError",
     "evalue": "'country'",
     "output_type": "error",
     "traceback": [
      "\u001b[0;31m---------------------------------------------------------------------------\u001b[0m",
      "\u001b[0;31mKeyError\u001b[0m                                  Traceback (most recent call last)",
      "\u001b[0;32m~/opt/anaconda3/lib/python3.8/site-packages/pandas/core/indexes/base.py\u001b[0m in \u001b[0;36mget_loc\u001b[0;34m(self, key, method, tolerance)\u001b[0m\n\u001b[1;32m   3079\u001b[0m             \u001b[0;32mtry\u001b[0m\u001b[0;34m:\u001b[0m\u001b[0;34m\u001b[0m\u001b[0;34m\u001b[0m\u001b[0m\n\u001b[0;32m-> 3080\u001b[0;31m                 \u001b[0;32mreturn\u001b[0m \u001b[0mself\u001b[0m\u001b[0;34m.\u001b[0m\u001b[0m_engine\u001b[0m\u001b[0;34m.\u001b[0m\u001b[0mget_loc\u001b[0m\u001b[0;34m(\u001b[0m\u001b[0mcasted_key\u001b[0m\u001b[0;34m)\u001b[0m\u001b[0;34m\u001b[0m\u001b[0;34m\u001b[0m\u001b[0m\n\u001b[0m\u001b[1;32m   3081\u001b[0m             \u001b[0;32mexcept\u001b[0m \u001b[0mKeyError\u001b[0m \u001b[0;32mas\u001b[0m \u001b[0merr\u001b[0m\u001b[0;34m:\u001b[0m\u001b[0;34m\u001b[0m\u001b[0;34m\u001b[0m\u001b[0m\n",
      "\u001b[0;32mpandas/_libs/index.pyx\u001b[0m in \u001b[0;36mpandas._libs.index.IndexEngine.get_loc\u001b[0;34m()\u001b[0m\n",
      "\u001b[0;32mpandas/_libs/index.pyx\u001b[0m in \u001b[0;36mpandas._libs.index.IndexEngine.get_loc\u001b[0;34m()\u001b[0m\n",
      "\u001b[0;32mpandas/_libs/hashtable_class_helper.pxi\u001b[0m in \u001b[0;36mpandas._libs.hashtable.PyObjectHashTable.get_item\u001b[0;34m()\u001b[0m\n",
      "\u001b[0;32mpandas/_libs/hashtable_class_helper.pxi\u001b[0m in \u001b[0;36mpandas._libs.hashtable.PyObjectHashTable.get_item\u001b[0;34m()\u001b[0m\n",
      "\u001b[0;31mKeyError\u001b[0m: 'country'",
      "\nThe above exception was the direct cause of the following exception:\n",
      "\u001b[0;31mKeyError\u001b[0m                                  Traceback (most recent call last)",
      "\u001b[0;32m<ipython-input-190-6bb3e770d997>\u001b[0m in \u001b[0;36m<module>\u001b[0;34m\u001b[0m\n\u001b[1;32m     15\u001b[0m         \u001b[0mx\u001b[0m\u001b[0;34m=\u001b[0m\u001b[0mcentroids_temp\u001b[0m\u001b[0;34m[\u001b[0m\u001b[0;34m'deaths'\u001b[0m\u001b[0;34m]\u001b[0m\u001b[0;34m[\u001b[0m\u001b[0mi\u001b[0m\u001b[0;34m]\u001b[0m\u001b[0;34m,\u001b[0m\u001b[0;34m\u001b[0m\u001b[0;34m\u001b[0m\u001b[0m\n\u001b[1;32m     16\u001b[0m         \u001b[0my\u001b[0m\u001b[0;34m=\u001b[0m\u001b[0mcentroids_temp\u001b[0m\u001b[0;34m[\u001b[0m\u001b[0;34m'recovered'\u001b[0m\u001b[0;34m]\u001b[0m\u001b[0;34m[\u001b[0m\u001b[0mi\u001b[0m\u001b[0;34m]\u001b[0m\u001b[0;34m,\u001b[0m\u001b[0;34m\u001b[0m\u001b[0;34m\u001b[0m\u001b[0m\n\u001b[0;32m---> 17\u001b[0;31m         \u001b[0ms\u001b[0m\u001b[0;34m=\u001b[0m\u001b[0mcentroids_temp\u001b[0m\u001b[0;34m[\u001b[0m\u001b[0;34m'country'\u001b[0m\u001b[0;34m]\u001b[0m\u001b[0;34m[\u001b[0m\u001b[0mi\u001b[0m\u001b[0;34m]\u001b[0m\u001b[0;34m,\u001b[0m\u001b[0;34m\u001b[0m\u001b[0;34m\u001b[0m\u001b[0m\n\u001b[0m\u001b[1;32m     18\u001b[0m         \u001b[0msize\u001b[0m\u001b[0;34m=\u001b[0m\u001b[0;36m20\u001b[0m\u001b[0;34m\u001b[0m\u001b[0;34m\u001b[0m\u001b[0m\n\u001b[1;32m     19\u001b[0m     )\n",
      "\u001b[0;32m~/opt/anaconda3/lib/python3.8/site-packages/pandas/core/frame.py\u001b[0m in \u001b[0;36m__getitem__\u001b[0;34m(self, key)\u001b[0m\n\u001b[1;32m   3022\u001b[0m             \u001b[0;32mif\u001b[0m \u001b[0mself\u001b[0m\u001b[0;34m.\u001b[0m\u001b[0mcolumns\u001b[0m\u001b[0;34m.\u001b[0m\u001b[0mnlevels\u001b[0m \u001b[0;34m>\u001b[0m \u001b[0;36m1\u001b[0m\u001b[0;34m:\u001b[0m\u001b[0;34m\u001b[0m\u001b[0;34m\u001b[0m\u001b[0m\n\u001b[1;32m   3023\u001b[0m                 \u001b[0;32mreturn\u001b[0m \u001b[0mself\u001b[0m\u001b[0;34m.\u001b[0m\u001b[0m_getitem_multilevel\u001b[0m\u001b[0;34m(\u001b[0m\u001b[0mkey\u001b[0m\u001b[0;34m)\u001b[0m\u001b[0;34m\u001b[0m\u001b[0;34m\u001b[0m\u001b[0m\n\u001b[0;32m-> 3024\u001b[0;31m             \u001b[0mindexer\u001b[0m \u001b[0;34m=\u001b[0m \u001b[0mself\u001b[0m\u001b[0;34m.\u001b[0m\u001b[0mcolumns\u001b[0m\u001b[0;34m.\u001b[0m\u001b[0mget_loc\u001b[0m\u001b[0;34m(\u001b[0m\u001b[0mkey\u001b[0m\u001b[0;34m)\u001b[0m\u001b[0;34m\u001b[0m\u001b[0;34m\u001b[0m\u001b[0m\n\u001b[0m\u001b[1;32m   3025\u001b[0m             \u001b[0;32mif\u001b[0m \u001b[0mis_integer\u001b[0m\u001b[0;34m(\u001b[0m\u001b[0mindexer\u001b[0m\u001b[0;34m)\u001b[0m\u001b[0;34m:\u001b[0m\u001b[0;34m\u001b[0m\u001b[0;34m\u001b[0m\u001b[0m\n\u001b[1;32m   3026\u001b[0m                 \u001b[0mindexer\u001b[0m \u001b[0;34m=\u001b[0m \u001b[0;34m[\u001b[0m\u001b[0mindexer\u001b[0m\u001b[0;34m]\u001b[0m\u001b[0;34m\u001b[0m\u001b[0;34m\u001b[0m\u001b[0m\n",
      "\u001b[0;32m~/opt/anaconda3/lib/python3.8/site-packages/pandas/core/indexes/base.py\u001b[0m in \u001b[0;36mget_loc\u001b[0;34m(self, key, method, tolerance)\u001b[0m\n\u001b[1;32m   3080\u001b[0m                 \u001b[0;32mreturn\u001b[0m \u001b[0mself\u001b[0m\u001b[0;34m.\u001b[0m\u001b[0m_engine\u001b[0m\u001b[0;34m.\u001b[0m\u001b[0mget_loc\u001b[0m\u001b[0;34m(\u001b[0m\u001b[0mcasted_key\u001b[0m\u001b[0;34m)\u001b[0m\u001b[0;34m\u001b[0m\u001b[0;34m\u001b[0m\u001b[0m\n\u001b[1;32m   3081\u001b[0m             \u001b[0;32mexcept\u001b[0m \u001b[0mKeyError\u001b[0m \u001b[0;32mas\u001b[0m \u001b[0merr\u001b[0m\u001b[0;34m:\u001b[0m\u001b[0;34m\u001b[0m\u001b[0;34m\u001b[0m\u001b[0m\n\u001b[0;32m-> 3082\u001b[0;31m                 \u001b[0;32mraise\u001b[0m \u001b[0mKeyError\u001b[0m\u001b[0;34m(\u001b[0m\u001b[0mkey\u001b[0m\u001b[0;34m)\u001b[0m \u001b[0;32mfrom\u001b[0m \u001b[0merr\u001b[0m\u001b[0;34m\u001b[0m\u001b[0;34m\u001b[0m\u001b[0m\n\u001b[0m\u001b[1;32m   3083\u001b[0m \u001b[0;34m\u001b[0m\u001b[0m\n\u001b[1;32m   3084\u001b[0m         \u001b[0;32mif\u001b[0m \u001b[0mtolerance\u001b[0m \u001b[0;32mis\u001b[0m \u001b[0;32mnot\u001b[0m \u001b[0;32mNone\u001b[0m\u001b[0;34m:\u001b[0m\u001b[0;34m\u001b[0m\u001b[0;34m\u001b[0m\u001b[0m\n",
      "\u001b[0;31mKeyError\u001b[0m: 'country'"
     ]
    },
    {
     "data": {
      "image/png": "[encoded data removed]",
      "text/plain": [
       "<Figure size 576x432 with 1 Axes>"
      ]
     },
     "metadata": {
      "needs_background": "light"
     },
     "output_type": "display_data"
    }
   ],
   "source": [
    "# Now that we've seen how 3 clusters perform, ket's see what happens when we use the data to create 10 clusters\n",
    "temp_kmeans = KMeans(n_clusters=3).fit(p_norm)\n",
    "\n",
    "centroids_temp = pd.DataFrame(temp_kmeans.cluster_centers_)\n",
    "centroids_temp.columns = columns\n",
    "centroids_temp['cluster_name'] = centroids_temp.index\n",
    "\n",
    "plot_data['cluster'] = temp_kmeans.labels_\n",
    "\n",
    "fig, ax = plt.subplots(figsize=(8, 6))\n",
    "sns.scatterplot(data=plot_data, x='deaths', y='recovered', hue='country', palette='Set2')\n",
    "sns.scatterplot(data=centroids_temp, x='deaths', y='recovered', color='red', s=150)\n",
    "for i in range(centroids_temp.shape[0]):\n",
    "    plt.text(\n",
    "        x=centroids_temp['deaths'][i], \n",
    "        y=centroids_temp['recovered'][i],\n",
    "        s=centroids_temp['country'][i], \n",
    "        size=20\n",
    "    )\n",
    "plt.show()\n",
    "\n",
    "dist_temp = get_distances(centroids_temp.drop('cluster_name', axis=1))"
   ]
  },
  {
   "cell_type": "code",
   "execution_count": null,
   "id": "d07afe7d-e3d0-444c-9f07-2752da9bc3f4",
   "metadata": {},
   "outputs": [],
   "source": []
  },
  {
   "cell_type": "code",
   "execution_count": null,
   "id": "4f14d64b-1bf8-44f0-9e5c-3830c26cb1a6",
   "metadata": {},
   "outputs": [],
   "source": []
  },
  {
   "cell_type": "code",
   "execution_count": null,
   "id": "a86f3497-d014-4657-91d3-9bbbe3473191",
   "metadata": {},
   "outputs": [],
   "source": []
  },
  {
   "cell_type": "code",
   "execution_count": null,
   "id": "5f2bc1a0-14c2-4be6-95fd-62eda1868774",
   "metadata": {},
   "outputs": [],
   "source": []
  },
  {
   "cell_type": "code",
   "execution_count": null,
   "id": "6343ea18-ee84-4403-ac6e-3e710310df27",
   "metadata": {},
   "outputs": [],
   "source": []
  },
  {
   "cell_type": "code",
   "execution_count": null,
   "id": "1ced7ec0-c96a-4630-bec4-8fae3a2efc18",
   "metadata": {},
   "outputs": [],
   "source": [
    "country_kmeans = KMeans(n_clusters=3).fit(peng_norm)"
   ]
  },
  {
   "cell_type": "code",
   "execution_count": null,
   "id": "2f4e3f5b-08a2-4179-ba60-b3c32e5bd2ea",
   "metadata": {},
   "outputs": [],
   "source": []
  },
  {
   "cell_type": "code",
   "execution_count": null,
   "id": "3b9bbaf0-2c05-4ce5-ba34-33bf892741be",
   "metadata": {},
   "outputs": [],
   "source": []
  },
  {
   "cell_type": "code",
   "execution_count": null,
   "id": "9b497c15-9a88-41af-bb34-9e0ab210ced9",
   "metadata": {},
   "outputs": [],
   "source": []
  },
  {
   "cell_type": "code",
   "execution_count": 109,
   "id": "819b7ee8-02dc-4f68-8f54-ea1aa87197be",
   "metadata": {},
   "outputs": [],
   "source": [
    "X=data_pop[[\"deaths\",\"recovered\"]]\n",
    "#Standard Scaling since K-Means Clustering is a distance based alogrithm\n",
    "X=std.fit_transform(X) "
   ]
  },
  {
   "cell_type": "code",
   "execution_count": 125,
   "id": "a5ced072-bc68-47b2-a1f1-2c5e5da4eaa6",
   "metadata": {},
   "outputs": [],
   "source": [
    "wcss=[]\n",
    "sil=[]\n",
    "for i in range(2,11):\n",
    "    clf=KMeans(n_clusters=i,init='k-means++',random_state=42)\n",
    "    clf.fit(X)\n",
    "    labels=clf.labels_\n",
    "    centroids=clf.cluster_centers_\n",
    "    sil.append(silhouette_score(X, labels, metric='euclidean'))\n",
    "    wcss.append(clf.inertia_)"
   ]
  },
  {
   "cell_type": "code",
   "execution_count": 126,
   "id": "6c7ac576-d4f8-4c2e-a5cc-9eba20a1ea16",
   "metadata": {},
   "outputs": [
    {
     "data": {
      "text/plain": [
       "Text(0.5, 1.0, 'Elbow Method')"
      ]
     },
     "execution_count": 126,
     "metadata": {},
     "output_type": "execute_result"
    },
    {
     "data": {
      "image/png": "[encoded data removed]",
      "text/plain": [
       "<Figure size 720x360 with 1 Axes>"
      ]
     },
     "metadata": {},
     "output_type": "display_data"
    }
   ],
   "source": [
    "x=np.arange(2,11)\n",
    "plt.figure(figsize=(10,5))\n",
    "plt.plot(x,wcss,marker='o')\n",
    "plt.xlabel(\"Number of Clusters\")\n",
    "plt.ylabel(\"Within Cluster Sum of Squares (WCSS)\")\n",
    "plt.title(\"Elbow Method\")"
   ]
  },
  {
   "cell_type": "code",
   "execution_count": 111,
   "id": "5e962763-ad89-4aeb-8a3d-6515d7f7a0bd",
   "metadata": {
    "tags": []
   },
   "outputs": [],
   "source": [
    "import matplotlib.pyplot as plt"
   ]
  },
  {
   "cell_type": "code",
   "execution_count": 127,
   "id": "d949fc61-5d4c-41f4-bb44-f2cd23af1e8a",
   "metadata": {},
   "outputs": [],
   "source": [
    "X=data_pop[[\"deaths\",\"recovered\"]]\n",
    "#Standard Scaling since K-Means Clustering is a distance based alogrithm\n",
    "X=std.fit_transform(X) "
   ]
  },
  {
   "cell_type": "code",
   "execution_count": 113,
   "id": "5d449921-e758-4af6-99c0-a80e73e868fa",
   "metadata": {},
   "outputs": [
    {
     "data": {
      "text/plain": [
       "KMeans(n_clusters=3, random_state=6)"
      ]
     },
     "execution_count": 113,
     "metadata": {},
     "output_type": "execute_result"
    }
   ],
   "source": [
    "clf_final=KMeans(n_clusters=3,init='k-means++',random_state=6)\n",
    "clf_final.fit(X)"
   ]
  },
  {
   "cell_type": "code",
   "execution_count": 114,
   "id": "4d372539-6aeb-4f3d-a4a1-34369e3bbc08",
   "metadata": {},
   "outputs": [],
   "source": [
    "data_pop[\"Clusters\"]=clf_final.predict(X)"
   ]
  },
  {
   "cell_type": "code",
   "execution_count": 122,
   "id": "b38081d5-9307-487d-8393-d4d26d6c21d3",
   "metadata": {},
   "outputs": [],
   "source": [
    "cluster_summary=pd.concat([data_pop[data_pop[\"Clusters\"]==1].head(15),data_pop[data_pop[\"Clusters\"]==2].head(15),data_pop[data_pop[\"Clusters\"]==0].head(15)])\n",
    "#cluster_summary.style.background_gradient(cmap='Reds').format(\"{:.2f}\")"
   ]
  },
  {
   "cell_type": "code",
   "execution_count": 130,
   "id": "e7811919-f861-44d1-b62c-db246cc89157",
   "metadata": {},
   "outputs": [],
   "source": [
    "clster1 = data_pop[data_pop[\"Clusters\"]==1]"
   ]
  },
  {
   "cell_type": "code",
   "execution_count": 132,
   "id": "9f8cf11e-ad33-4e7b-90f7-4b3db3d1582c",
   "metadata": {},
   "outputs": [
    {
     "data": {
      "text/plain": [
       "['India', 'Brazil']"
      ]
     },
     "execution_count": 132,
     "metadata": {},
     "output_type": "execute_result"
    }
   ],
   "source": [
    "clster1['country'].unique().tolist()"
   ]
  },
  {
   "cell_type": "code",
   "execution_count": 133,
   "id": "317377c3-f35b-4d97-9d51-0ceaff9c001b",
   "metadata": {},
   "outputs": [],
   "source": [
    "clster2 = data_pop[data_pop[\"Clusters\"]==2]"
   ]
  },
  {
   "cell_type": "code",
   "execution_count": 134,
   "id": "48e6fc55-9fdc-4361-9b1c-709b6f49e04b",
   "metadata": {},
   "outputs": [
    {
     "data": {
      "text/plain": [
       "['US', 'Brazil', 'India', 'Mexico', 'Russia']"
      ]
     },
     "execution_count": 134,
     "metadata": {},
     "output_type": "execute_result"
    }
   ],
   "source": [
    "clster2['country'].unique().tolist()"
   ]
  },
  {
   "cell_type": "code",
   "execution_count": 136,
   "id": "6fb0cc6c-09ed-4658-a55a-92d61abe2948",
   "metadata": {},
   "outputs": [],
   "source": [
    "clster3 = data_pop[data_pop[\"Clusters\"]==3]"
   ]
  },
  {
   "cell_type": "code",
   "execution_count": 137,
   "id": "887cdf2f-62d6-4716-be5f-60a89a28dba4",
   "metadata": {},
   "outputs": [
    {
     "data": {
      "text/plain": [
       "[]"
      ]
     },
     "execution_count": 137,
     "metadata": {},
     "output_type": "execute_result"
    }
   ],
   "source": [
    "clster3['country'].unique().tolist()"
   ]
  },
  {
   "cell_type": "code",
   "execution_count": 123,
   "id": "a84191a6-193c-4036-bfb9-c1d08558f8fa",
   "metadata": {},
   "outputs": [
    {
     "name": "stdout",
     "output_type": "stream",
     "text": [
      "Avergae Mortality Rate of Cluster 0:  5469.2282223369475\n",
      "Avergae Recovery Rate of Cluster 0:  79927.95942670305\n",
      "Avergae Mortality Rate of Cluster 1:  288494.1825557809\n",
      "Avergae Recovery Rate of Cluster 1:  14417635.888438134\n",
      "Avergae Mortality Rate of Cluster 2:  505784.9351184346\n",
      "Avergae Recovery Rate of Cluster 2:  131218.7703398558\n"
     ]
    }
   ],
   "source": [
    "print(\"Avergae Mortality Rate of Cluster 0: \",data_pop[data_pop[\"Clusters\"]==0][\"deaths\"].mean())\n",
    "print(\"Avergae Recovery Rate of Cluster 0: \",data_pop[data_pop[\"Clusters\"]==0][\"recovered\"].mean())\n",
    "print(\"Avergae Mortality Rate of Cluster 1: \",data_pop[data_pop[\"Clusters\"]==1][\"deaths\"].mean())\n",
    "print(\"Avergae Recovery Rate of Cluster 1: \",data_pop[data_pop[\"Clusters\"]==1][\"recovered\"].mean())\n",
    "print(\"Avergae Mortality Rate of Cluster 2: \",data_pop[data_pop[\"Clusters\"]==2][\"deaths\"].mean())\n",
    "print(\"Avergae Recovery Rate of Cluster 2: \",data_pop[data_pop[\"Clusters\"]==2][\"recovered\"].mean())"
   ]
  },
  {
   "cell_type": "code",
   "execution_count": 124,
   "id": "25b0c1af-9ea6-479f-89c3-2ce207cd91af",
   "metadata": {},
   "outputs": [
    {
     "data": {
      "text/plain": [
       "<matplotlib.legend.Legend at 0x7fb6d9ea34f0>"
      ]
     },
     "execution_count": 124,
     "metadata": {},
     "output_type": "execute_result"
    },
    {
     "data": {
      "image/png": "[encoded data removed]",
      "text/plain": [
       "<Figure size 720x360 with 1 Axes>"
      ]
     },
     "metadata": {
      "needs_background": "light"
     },
     "output_type": "display_data"
    }
   ],
   "source": [
    "plt.figure(figsize=(10,5))\n",
    "sns.scatterplot(x=data_pop[\"recovered\"],y=data_pop[\"deaths\"],hue=data_pop[\"Clusters\"],s=100)\n",
    "#plt.axvline(((datewise[\"recovered\"]/datewise[\"Confirmed\"])*100).mean(),\n",
    "            #color='red',linestyle=\"--\",label=\"Mean Recovery Rate around the World\")\n",
    "#plt.axhline(((datewise[\"deaths\"]/datewise[\"Confirmed\"])*100).mean(),\n",
    "           # color='black',linestyle=\"--\",label=\"Mean Mortality Rate around the World\")\n",
    "plt.legend()"
   ]
  },
  {
   "cell_type": "code",
   "execution_count": 125,
   "id": "ab98bbf0-80ec-4a82-838c-25f8b4ebbc58",
   "metadata": {},
   "outputs": [
    {
     "name": "stdout",
     "output_type": "stream",
     "text": [
      "Few Countries belonging to Cluster 0:  [0, 1, 2, 3, 4, 5, 6, 7, 8, 9]\n",
      "Few Countries belonging to Cluster 1:  [79671, 79952, 80233, 80514, 80795, 81076, 81357, 81638, 81919, 82200]\n",
      "Few Countries belonging to Cluster 2:  [85399, 85680, 85961, 86242, 86523, 86804, 87085, 87366, 87647, 87928]\n"
     ]
    }
   ],
   "source": [
    "print(\"Few Countries belonging to Cluster 0: \",list(data_pop[data_pop[\"Clusters\"]==0].head(10).index))\n",
    "print(\"Few Countries belonging to Cluster 1: \",list(data_pop[data_pop[\"Clusters\"]==1].head(10).index))\n",
    "print(\"Few Countries belonging to Cluster 2: \",list(data_pop[data_pop[\"Clusters\"]==2].head(10).index))"
   ]
  },
  {
   "cell_type": "code",
   "execution_count": 284,
   "id": "43474d8d-e95d-42a8-b06b-9afe0438274c",
   "metadata": {},
   "outputs": [
    {
     "ename": "EmptyDataError",
     "evalue": "No columns to parse from file",
     "output_type": "error",
     "traceback": [
      "\u001b[0;31m---------------------------------------------------------------------------\u001b[0m",
      "\u001b[0;31mEmptyDataError\u001b[0m                            Traceback (most recent call last)",
      "\u001b[0;32m<ipython-input-284-71c1e8392863>\u001b[0m in \u001b[0;36m<module>\u001b[0;34m\u001b[0m\n\u001b[1;32m      1\u001b[0m \u001b[0;32mimport\u001b[0m \u001b[0mpandas\u001b[0m \u001b[0;32mas\u001b[0m \u001b[0mpd\u001b[0m\u001b[0;34m\u001b[0m\u001b[0;34m\u001b[0m\u001b[0m\n\u001b[0;32m----> 2\u001b[0;31m \u001b[0mowid\u001b[0m \u001b[0;34m=\u001b[0m \u001b[0mpd\u001b[0m\u001b[0;34m.\u001b[0m\u001b[0mread_csv\u001b[0m\u001b[0;34m(\u001b[0m\u001b[0;34m'owid.csv'\u001b[0m\u001b[0;34m)\u001b[0m\u001b[0;34m\u001b[0m\u001b[0;34m\u001b[0m\u001b[0m\n\u001b[0m",
      "\u001b[0;32m~/opt/anaconda3/lib/python3.8/site-packages/pandas/io/parsers.py\u001b[0m in \u001b[0;36mread_csv\u001b[0;34m(filepath_or_buffer, sep, delimiter, header, names, index_col, usecols, squeeze, prefix, mangle_dupe_cols, dtype, engine, converters, true_values, false_values, skipinitialspace, skiprows, skipfooter, nrows, na_values, keep_default_na, na_filter, verbose, skip_blank_lines, parse_dates, infer_datetime_format, keep_date_col, date_parser, dayfirst, cache_dates, iterator, chunksize, compression, thousands, decimal, lineterminator, quotechar, quoting, doublequote, escapechar, comment, encoding, dialect, error_bad_lines, warn_bad_lines, delim_whitespace, low_memory, memory_map, float_precision, storage_options)\u001b[0m\n\u001b[1;32m    608\u001b[0m     \u001b[0mkwds\u001b[0m\u001b[0;34m.\u001b[0m\u001b[0mupdate\u001b[0m\u001b[0;34m(\u001b[0m\u001b[0mkwds_defaults\u001b[0m\u001b[0;34m)\u001b[0m\u001b[0;34m\u001b[0m\u001b[0;34m\u001b[0m\u001b[0m\n\u001b[1;32m    609\u001b[0m \u001b[0;34m\u001b[0m\u001b[0m\n\u001b[0;32m--> 610\u001b[0;31m     \u001b[0;32mreturn\u001b[0m \u001b[0m_read\u001b[0m\u001b[0;34m(\u001b[0m\u001b[0mfilepath_or_buffer\u001b[0m\u001b[0;34m,\u001b[0m \u001b[0mkwds\u001b[0m\u001b[0;34m)\u001b[0m\u001b[0;34m\u001b[0m\u001b[0;34m\u001b[0m\u001b[0m\n\u001b[0m\u001b[1;32m    611\u001b[0m \u001b[0;34m\u001b[0m\u001b[0m\n\u001b[1;32m    612\u001b[0m \u001b[0;34m\u001b[0m\u001b[0m\n",
      "\u001b[0;32m~/opt/anaconda3/lib/python3.8/site-packages/pandas/io/parsers.py\u001b[0m in \u001b[0;36m_read\u001b[0;34m(filepath_or_buffer, kwds)\u001b[0m\n\u001b[1;32m    460\u001b[0m \u001b[0;34m\u001b[0m\u001b[0m\n\u001b[1;32m    461\u001b[0m     \u001b[0;31m# Create the parser.\u001b[0m\u001b[0;34m\u001b[0m\u001b[0;34m\u001b[0m\u001b[0;34m\u001b[0m\u001b[0m\n\u001b[0;32m--> 462\u001b[0;31m     \u001b[0mparser\u001b[0m \u001b[0;34m=\u001b[0m \u001b[0mTextFileReader\u001b[0m\u001b[0;34m(\u001b[0m\u001b[0mfilepath_or_buffer\u001b[0m\u001b[0;34m,\u001b[0m \u001b[0;34m**\u001b[0m\u001b[0mkwds\u001b[0m\u001b[0;34m)\u001b[0m\u001b[0;34m\u001b[0m\u001b[0;34m\u001b[0m\u001b[0m\n\u001b[0m\u001b[1;32m    463\u001b[0m \u001b[0;34m\u001b[0m\u001b[0m\n\u001b[1;32m    464\u001b[0m     \u001b[0;32mif\u001b[0m \u001b[0mchunksize\u001b[0m \u001b[0;32mor\u001b[0m \u001b[0miterator\u001b[0m\u001b[0;34m:\u001b[0m\u001b[0;34m\u001b[0m\u001b[0;34m\u001b[0m\u001b[0m\n",
      "\u001b[0;32m~/opt/anaconda3/lib/python3.8/site-packages/pandas/io/parsers.py\u001b[0m in \u001b[0;36m__init__\u001b[0;34m(self, f, engine, **kwds)\u001b[0m\n\u001b[1;32m    817\u001b[0m             \u001b[0mself\u001b[0m\u001b[0;34m.\u001b[0m\u001b[0moptions\u001b[0m\u001b[0;34m[\u001b[0m\u001b[0;34m\"has_index_names\"\u001b[0m\u001b[0;34m]\u001b[0m \u001b[0;34m=\u001b[0m \u001b[0mkwds\u001b[0m\u001b[0;34m[\u001b[0m\u001b[0;34m\"has_index_names\"\u001b[0m\u001b[0;34m]\u001b[0m\u001b[0;34m\u001b[0m\u001b[0;34m\u001b[0m\u001b[0m\n\u001b[1;32m    818\u001b[0m \u001b[0;34m\u001b[0m\u001b[0m\n\u001b[0;32m--> 819\u001b[0;31m         \u001b[0mself\u001b[0m\u001b[0;34m.\u001b[0m\u001b[0m_engine\u001b[0m \u001b[0;34m=\u001b[0m \u001b[0mself\u001b[0m\u001b[0;34m.\u001b[0m\u001b[0m_make_engine\u001b[0m\u001b[0;34m(\u001b[0m\u001b[0mself\u001b[0m\u001b[0;34m.\u001b[0m\u001b[0mengine\u001b[0m\u001b[0;34m)\u001b[0m\u001b[0;34m\u001b[0m\u001b[0;34m\u001b[0m\u001b[0m\n\u001b[0m\u001b[1;32m    820\u001b[0m \u001b[0;34m\u001b[0m\u001b[0m\n\u001b[1;32m    821\u001b[0m     \u001b[0;32mdef\u001b[0m \u001b[0mclose\u001b[0m\u001b[0;34m(\u001b[0m\u001b[0mself\u001b[0m\u001b[0;34m)\u001b[0m\u001b[0;34m:\u001b[0m\u001b[0;34m\u001b[0m\u001b[0;34m\u001b[0m\u001b[0m\n",
      "\u001b[0;32m~/opt/anaconda3/lib/python3.8/site-packages/pandas/io/parsers.py\u001b[0m in \u001b[0;36m_make_engine\u001b[0;34m(self, engine)\u001b[0m\n\u001b[1;32m   1048\u001b[0m             )\n\u001b[1;32m   1049\u001b[0m         \u001b[0;31m# error: Too many arguments for \"ParserBase\"\u001b[0m\u001b[0;34m\u001b[0m\u001b[0;34m\u001b[0m\u001b[0;34m\u001b[0m\u001b[0m\n\u001b[0;32m-> 1050\u001b[0;31m         \u001b[0;32mreturn\u001b[0m \u001b[0mmapping\u001b[0m\u001b[0;34m[\u001b[0m\u001b[0mengine\u001b[0m\u001b[0;34m]\u001b[0m\u001b[0;34m(\u001b[0m\u001b[0mself\u001b[0m\u001b[0;34m.\u001b[0m\u001b[0mf\u001b[0m\u001b[0;34m,\u001b[0m \u001b[0;34m**\u001b[0m\u001b[0mself\u001b[0m\u001b[0;34m.\u001b[0m\u001b[0moptions\u001b[0m\u001b[0;34m)\u001b[0m  \u001b[0;31m# type: ignore[call-arg]\u001b[0m\u001b[0;34m\u001b[0m\u001b[0;34m\u001b[0m\u001b[0m\n\u001b[0m\u001b[1;32m   1051\u001b[0m \u001b[0;34m\u001b[0m\u001b[0m\n\u001b[1;32m   1052\u001b[0m     \u001b[0;32mdef\u001b[0m \u001b[0m_failover_to_python\u001b[0m\u001b[0;34m(\u001b[0m\u001b[0mself\u001b[0m\u001b[0;34m)\u001b[0m\u001b[0;34m:\u001b[0m\u001b[0;34m\u001b[0m\u001b[0;34m\u001b[0m\u001b[0m\n",
      "\u001b[0;32m~/opt/anaconda3/lib/python3.8/site-packages/pandas/io/parsers.py\u001b[0m in \u001b[0;36m__init__\u001b[0;34m(self, src, **kwds)\u001b[0m\n\u001b[1;32m   1896\u001b[0m \u001b[0;34m\u001b[0m\u001b[0m\n\u001b[1;32m   1897\u001b[0m         \u001b[0;32mtry\u001b[0m\u001b[0;34m:\u001b[0m\u001b[0;34m\u001b[0m\u001b[0;34m\u001b[0m\u001b[0m\n\u001b[0;32m-> 1898\u001b[0;31m             \u001b[0mself\u001b[0m\u001b[0;34m.\u001b[0m\u001b[0m_reader\u001b[0m \u001b[0;34m=\u001b[0m \u001b[0mparsers\u001b[0m\u001b[0;34m.\u001b[0m\u001b[0mTextReader\u001b[0m\u001b[0;34m(\u001b[0m\u001b[0mself\u001b[0m\u001b[0;34m.\u001b[0m\u001b[0mhandles\u001b[0m\u001b[0;34m.\u001b[0m\u001b[0mhandle\u001b[0m\u001b[0;34m,\u001b[0m \u001b[0;34m**\u001b[0m\u001b[0mkwds\u001b[0m\u001b[0;34m)\u001b[0m\u001b[0;34m\u001b[0m\u001b[0;34m\u001b[0m\u001b[0m\n\u001b[0m\u001b[1;32m   1899\u001b[0m         \u001b[0;32mexcept\u001b[0m \u001b[0mException\u001b[0m\u001b[0;34m:\u001b[0m\u001b[0;34m\u001b[0m\u001b[0;34m\u001b[0m\u001b[0m\n\u001b[1;32m   1900\u001b[0m             \u001b[0mself\u001b[0m\u001b[0;34m.\u001b[0m\u001b[0mhandles\u001b[0m\u001b[0;34m.\u001b[0m\u001b[0mclose\u001b[0m\u001b[0;34m(\u001b[0m\u001b[0;34m)\u001b[0m\u001b[0;34m\u001b[0m\u001b[0;34m\u001b[0m\u001b[0m\n",
      "\u001b[0;32mpandas/_libs/parsers.pyx\u001b[0m in \u001b[0;36mpandas._libs.parsers.TextReader.__cinit__\u001b[0;34m()\u001b[0m\n",
      "\u001b[0;31mEmptyDataError\u001b[0m: No columns to parse from file"
     ]
    }
   ],
   "source": [
    "import pandas as pd\n",
    "owid = pd.read_csv('owid.csv')"
   ]
  },
  {
   "cell_type": "code",
   "execution_count": null,
   "id": "9986d2eb-03d3-402e-87f1-a3fd9fc4e101",
   "metadata": {},
   "outputs": [],
   "source": []
  }
 ],
 "metadata": {
  "kernelspec": {
   "display_name": "Python 3",
   "language": "python",
   "name": "python3"
  },
  "language_info": {
   "codemirror_mode": {
    "name": "ipython",
    "version": 3
   },
   "file_extension": ".py",
   "mimetype": "text/x-python",
   "name": "python",
   "nbconvert_exporter": "python",
   "pygments_lexer": "ipython3",
   "version": "3.8.8"
  }
 },
 "nbformat": 4,
 "nbformat_minor": 5
}
