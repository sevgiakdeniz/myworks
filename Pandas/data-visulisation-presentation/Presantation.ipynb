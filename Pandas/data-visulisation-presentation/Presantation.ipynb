{
 "cells": [
  {
   "cell_type": "code",
   "execution_count": 3,
   "id": "ab4662a4-51ce-4039-8f29-038235a0e3a3",
   "metadata": {},
   "outputs": [],
   "source": [
    "import pandas as pd\n",
    "\n",
    "import matplotlib.pyplot as plt\n",
    "import seaborn as sns\n",
    "\n",
    "# do not display the number with scientific notation\n",
    "pd.options.display.float_format = '{:.2f}'.format"
   ]
  },
  {
   "cell_type": "code",
   "execution_count": 4,
   "id": "4d324677-7fe2-4e02-8056-3dca0e98b17e",
   "metadata": {},
   "outputs": [],
   "source": [
    "path = './'\n",
    "orderlines = pd.read_csv(path + 'orderlines_cl.csv')\n",
    "orders = pd.read_csv(path + 'orders_cl.csv')\n",
    "brands = pd.read_csv(path + 'brands_cl.csv')\n",
    "products = pd.read_csv(path + 'products_cl.csv')"
   ]
  },
  {
   "cell_type": "code",
   "execution_count": 5,
   "id": "3b376935-d551-4499-9407-79558757ac59",
   "metadata": {},
   "outputs": [],
   "source": [
    "orders['created_date'] = pd.to_datetime(orders['created_date'])\n",
    "orderlines['date'] = pd.to_datetime(orderlines['date'])"
   ]
  },
  {
   "cell_type": "code",
   "execution_count": 6,
   "id": "9c9b4f59-ef0a-4e1b-80af-b5ef0f5e84ed",
   "metadata": {},
   "outputs": [],
   "source": [
    "import numpy as np"
   ]
  },
  {
   "cell_type": "code",
   "execution_count": null,
   "id": "61f85867-82d3-45a6-8a97-7acaadb809ff",
   "metadata": {},
   "outputs": [],
   "source": []
  },
  {
   "cell_type": "code",
   "execution_count": 7,
   "id": "f4e7f9c9-8807-4fc4-8028-bd6ca1c8b3d6",
   "metadata": {},
   "outputs": [],
   "source": [
    "p_df1 = (\n",
    "orderlines\n",
    "    .merge(orders, how='left', left_on='id_order', right_on='order_id')\n",
    "    .query('state == \"Completed\"')\n",
    "    .merge(products, how='left')\n",
    "    .assign(price = lambda x: np.where(np.isnan(x['price']), x['max_price_orderlines'], x['price']))\n",
    "    .assign(disc = lambda x: x['price'] - x['unit_price'],\n",
    "           disc_perc = lambda x: round((1 - x['unit_price'] / x['price'])*100), \n",
    "           year_month = lambda x: x['date'].dt.to_period('M'))\n",
    "    #.groupby(['year_month'])\n",
    "   # .agg({'disc_perc':'mean'})\n",
    "    #.reset_index()\n",
    ")\n"
   ]
  },
  {
   "cell_type": "code",
   "execution_count": null,
   "id": "0faa60c0-62f9-4617-8279-6cc4f74594c3",
   "metadata": {},
   "outputs": [],
   "source": []
  },
  {
   "cell_type": "code",
   "execution_count": 8,
   "id": "83b43f2c-b9c9-4c8b-95a4-8dc3b52ebd2b",
   "metadata": {},
   "outputs": [
    {
     "data": {
      "text/html": [
       "<div>\n",
       "<style scoped>\n",
       "    .dataframe tbody tr th:only-of-type {\n",
       "        vertical-align: middle;\n",
       "    }\n",
       "\n",
       "    .dataframe tbody tr th {\n",
       "        vertical-align: top;\n",
       "    }\n",
       "\n",
       "    .dataframe thead th {\n",
       "        text-align: right;\n",
       "    }\n",
       "</style>\n",
       "<table border=\"1\" class=\"dataframe\">\n",
       "  <thead>\n",
       "    <tr style=\"text-align: right;\">\n",
       "      <th></th>\n",
       "      <th>id</th>\n",
       "      <th>id_order</th>\n",
       "      <th>product_id</th>\n",
       "      <th>product_quantity</th>\n",
       "      <th>sku</th>\n",
       "      <th>unit_price</th>\n",
       "      <th>date</th>\n",
       "      <th>total_price</th>\n",
       "      <th>check_orders_x</th>\n",
       "      <th>order_id</th>\n",
       "      <th>...</th>\n",
       "      <th>total_paid</th>\n",
       "      <th>state</th>\n",
       "      <th>check_orders_y</th>\n",
       "      <th>name</th>\n",
       "      <th>desc</th>\n",
       "      <th>price</th>\n",
       "      <th>max_price_orderlines</th>\n",
       "      <th>disc</th>\n",
       "      <th>disc_perc</th>\n",
       "      <th>year_month</th>\n",
       "    </tr>\n",
       "  </thead>\n",
       "  <tbody>\n",
       "    <tr>\n",
       "      <th>0</th>\n",
       "      <td>1119116</td>\n",
       "      <td>299545</td>\n",
       "      <td>0</td>\n",
       "      <td>1</td>\n",
       "      <td>OWC0100</td>\n",
       "      <td>47.49</td>\n",
       "      <td>2017-01-01 01:46:16</td>\n",
       "      <td>47.49</td>\n",
       "      <td>True</td>\n",
       "      <td>299545</td>\n",
       "      <td>...</td>\n",
       "      <td>51.48</td>\n",
       "      <td>Completed</td>\n",
       "      <td>True</td>\n",
       "      <td>OWC In-line Digital Temperature Sensor Kit HDD...</td>\n",
       "      <td>Kit temperature sensor for HDD iMac 21 inch an...</td>\n",
       "      <td>60.99</td>\n",
       "      <td>NaN</td>\n",
       "      <td>13.50</td>\n",
       "      <td>22.00</td>\n",
       "      <td>2017-01</td>\n",
       "    </tr>\n",
       "    <tr>\n",
       "      <th>1</th>\n",
       "      <td>1119119</td>\n",
       "      <td>299546</td>\n",
       "      <td>0</td>\n",
       "      <td>1</td>\n",
       "      <td>IOT0014</td>\n",
       "      <td>18.99</td>\n",
       "      <td>2017-01-01 01:50:34</td>\n",
       "      <td>18.99</td>\n",
       "      <td>True</td>\n",
       "      <td>299546</td>\n",
       "      <td>...</td>\n",
       "      <td>18.99</td>\n",
       "      <td>Completed</td>\n",
       "      <td>True</td>\n",
       "      <td>iOttie Easy View 2 Car Black Support</td>\n",
       "      <td>IPhone car holder 7 plus / 7/6 Plus / 6 / 5s /...</td>\n",
       "      <td>22.95</td>\n",
       "      <td>NaN</td>\n",
       "      <td>3.96</td>\n",
       "      <td>17.00</td>\n",
       "      <td>2017-01</td>\n",
       "    </tr>\n",
       "    <tr>\n",
       "      <th>2</th>\n",
       "      <td>1119120</td>\n",
       "      <td>295347</td>\n",
       "      <td>0</td>\n",
       "      <td>1</td>\n",
       "      <td>APP0700</td>\n",
       "      <td>72.19</td>\n",
       "      <td>2017-01-01 01:54:11</td>\n",
       "      <td>72.19</td>\n",
       "      <td>True</td>\n",
       "      <td>295347</td>\n",
       "      <td>...</td>\n",
       "      <td>72.19</td>\n",
       "      <td>Completed</td>\n",
       "      <td>True</td>\n",
       "      <td>Apple 85W MagSafe 2 charger MacBook Pro screen...</td>\n",
       "      <td>Apple MagSafe 2 Charger for MacBook Pro 15-inc...</td>\n",
       "      <td>89.00</td>\n",
       "      <td>NaN</td>\n",
       "      <td>16.81</td>\n",
       "      <td>19.00</td>\n",
       "      <td>2017-01</td>\n",
       "    </tr>\n",
       "    <tr>\n",
       "      <th>3</th>\n",
       "      <td>1119126</td>\n",
       "      <td>299549</td>\n",
       "      <td>0</td>\n",
       "      <td>1</td>\n",
       "      <td>PAC0929</td>\n",
       "      <td>2565.99</td>\n",
       "      <td>2017-01-01 02:07:42</td>\n",
       "      <td>2565.99</td>\n",
       "      <td>True</td>\n",
       "      <td>299549</td>\n",
       "      <td>...</td>\n",
       "      <td>2565.99</td>\n",
       "      <td>Completed</td>\n",
       "      <td>True</td>\n",
       "      <td>Apple iMac 27 \"Core i5 3.2GHz Retina 5K | 32GB...</td>\n",
       "      <td>IMac desktop computer 27 inch Retina 5K RAM 32...</td>\n",
       "      <td>3209.00</td>\n",
       "      <td>NaN</td>\n",
       "      <td>643.01</td>\n",
       "      <td>20.00</td>\n",
       "      <td>2017-01</td>\n",
       "    </tr>\n",
       "    <tr>\n",
       "      <th>4</th>\n",
       "      <td>1119134</td>\n",
       "      <td>299556</td>\n",
       "      <td>0</td>\n",
       "      <td>1</td>\n",
       "      <td>CRU0039-A</td>\n",
       "      <td>60.90</td>\n",
       "      <td>2017-01-01 02:20:14</td>\n",
       "      <td>60.90</td>\n",
       "      <td>True</td>\n",
       "      <td>299556</td>\n",
       "      <td>...</td>\n",
       "      <td>65.89</td>\n",
       "      <td>Completed</td>\n",
       "      <td>True</td>\n",
       "      <td>(Open) Crucial 240GB SSD 7mm BX200</td>\n",
       "      <td>SSD hard drive and high-speed performance with...</td>\n",
       "      <td>76.99</td>\n",
       "      <td>NaN</td>\n",
       "      <td>16.09</td>\n",
       "      <td>21.00</td>\n",
       "      <td>2017-01</td>\n",
       "    </tr>\n",
       "    <tr>\n",
       "      <th>...</th>\n",
       "      <td>...</td>\n",
       "      <td>...</td>\n",
       "      <td>...</td>\n",
       "      <td>...</td>\n",
       "      <td>...</td>\n",
       "      <td>...</td>\n",
       "      <td>...</td>\n",
       "      <td>...</td>\n",
       "      <td>...</td>\n",
       "      <td>...</td>\n",
       "      <td>...</td>\n",
       "      <td>...</td>\n",
       "      <td>...</td>\n",
       "      <td>...</td>\n",
       "      <td>...</td>\n",
       "      <td>...</td>\n",
       "      <td>...</td>\n",
       "      <td>...</td>\n",
       "      <td>...</td>\n",
       "      <td>...</td>\n",
       "      <td>...</td>\n",
       "    </tr>\n",
       "    <tr>\n",
       "      <th>62098</th>\n",
       "      <td>1649474</td>\n",
       "      <td>525664</td>\n",
       "      <td>0</td>\n",
       "      <td>1</td>\n",
       "      <td>TUC0207</td>\n",
       "      <td>16.52</td>\n",
       "      <td>2018-03-14 11:45:05</td>\n",
       "      <td>16.52</td>\n",
       "      <td>True</td>\n",
       "      <td>525664</td>\n",
       "      <td>...</td>\n",
       "      <td>85.73</td>\n",
       "      <td>Completed</td>\n",
       "      <td>True</td>\n",
       "      <td>Tucano Elements Second Skin Macbook Sleeve 12 ...</td>\n",
       "      <td>velvety inner protective case for MacBook 12 i...</td>\n",
       "      <td>24.99</td>\n",
       "      <td>NaN</td>\n",
       "      <td>8.47</td>\n",
       "      <td>34.00</td>\n",
       "      <td>2018-03</td>\n",
       "    </tr>\n",
       "    <tr>\n",
       "      <th>62099</th>\n",
       "      <td>1649512</td>\n",
       "      <td>527070</td>\n",
       "      <td>0</td>\n",
       "      <td>2</td>\n",
       "      <td>APP0698</td>\n",
       "      <td>9.99</td>\n",
       "      <td>2018-03-14 11:49:01</td>\n",
       "      <td>19.98</td>\n",
       "      <td>True</td>\n",
       "      <td>527070</td>\n",
       "      <td>...</td>\n",
       "      <td>24.97</td>\n",
       "      <td>Completed</td>\n",
       "      <td>True</td>\n",
       "      <td>Apple Lightning Cable Connector to USB 1m Whit...</td>\n",
       "      <td>Apple Lightning USB Cable 1 meter to charge an...</td>\n",
       "      <td>25.00</td>\n",
       "      <td>NaN</td>\n",
       "      <td>15.01</td>\n",
       "      <td>60.00</td>\n",
       "      <td>2018-03</td>\n",
       "    </tr>\n",
       "    <tr>\n",
       "      <th>62100</th>\n",
       "      <td>1649522</td>\n",
       "      <td>527074</td>\n",
       "      <td>0</td>\n",
       "      <td>2</td>\n",
       "      <td>APP0698</td>\n",
       "      <td>9.99</td>\n",
       "      <td>2018-03-14 11:49:36</td>\n",
       "      <td>19.98</td>\n",
       "      <td>True</td>\n",
       "      <td>527074</td>\n",
       "      <td>...</td>\n",
       "      <td>24.97</td>\n",
       "      <td>Completed</td>\n",
       "      <td>True</td>\n",
       "      <td>Apple Lightning Cable Connector to USB 1m Whit...</td>\n",
       "      <td>Apple Lightning USB Cable 1 meter to charge an...</td>\n",
       "      <td>25.00</td>\n",
       "      <td>NaN</td>\n",
       "      <td>15.01</td>\n",
       "      <td>60.00</td>\n",
       "      <td>2018-03</td>\n",
       "    </tr>\n",
       "    <tr>\n",
       "      <th>62101</th>\n",
       "      <td>1649565</td>\n",
       "      <td>527096</td>\n",
       "      <td>0</td>\n",
       "      <td>3</td>\n",
       "      <td>APP0698</td>\n",
       "      <td>9.99</td>\n",
       "      <td>2018-03-14 11:54:35</td>\n",
       "      <td>29.97</td>\n",
       "      <td>True</td>\n",
       "      <td>527096</td>\n",
       "      <td>...</td>\n",
       "      <td>34.96</td>\n",
       "      <td>Completed</td>\n",
       "      <td>True</td>\n",
       "      <td>Apple Lightning Cable Connector to USB 1m Whit...</td>\n",
       "      <td>Apple Lightning USB Cable 1 meter to charge an...</td>\n",
       "      <td>25.00</td>\n",
       "      <td>NaN</td>\n",
       "      <td>15.01</td>\n",
       "      <td>60.00</td>\n",
       "      <td>2018-03</td>\n",
       "    </tr>\n",
       "    <tr>\n",
       "      <th>62102</th>\n",
       "      <td>1649593</td>\n",
       "      <td>527112</td>\n",
       "      <td>0</td>\n",
       "      <td>1</td>\n",
       "      <td>APP0698</td>\n",
       "      <td>9.99</td>\n",
       "      <td>2018-03-14 11:58:13</td>\n",
       "      <td>9.99</td>\n",
       "      <td>True</td>\n",
       "      <td>527112</td>\n",
       "      <td>...</td>\n",
       "      <td>14.98</td>\n",
       "      <td>Completed</td>\n",
       "      <td>True</td>\n",
       "      <td>Apple Lightning Cable Connector to USB 1m Whit...</td>\n",
       "      <td>Apple Lightning USB Cable 1 meter to charge an...</td>\n",
       "      <td>25.00</td>\n",
       "      <td>NaN</td>\n",
       "      <td>15.01</td>\n",
       "      <td>60.00</td>\n",
       "      <td>2018-03</td>\n",
       "    </tr>\n",
       "  </tbody>\n",
       "</table>\n",
       "<p>62103 rows × 21 columns</p>\n",
       "</div>"
      ],
      "text/plain": [
       "            id  id_order  product_id  product_quantity        sku  unit_price  \\\n",
       "0      1119116    299545           0                 1    OWC0100       47.49   \n",
       "1      1119119    299546           0                 1    IOT0014       18.99   \n",
       "2      1119120    295347           0                 1    APP0700       72.19   \n",
       "3      1119126    299549           0                 1    PAC0929     2565.99   \n",
       "4      1119134    299556           0                 1  CRU0039-A       60.90   \n",
       "...        ...       ...         ...               ...        ...         ...   \n",
       "62098  1649474    525664           0                 1    TUC0207       16.52   \n",
       "62099  1649512    527070           0                 2    APP0698        9.99   \n",
       "62100  1649522    527074           0                 2    APP0698        9.99   \n",
       "62101  1649565    527096           0                 3    APP0698        9.99   \n",
       "62102  1649593    527112           0                 1    APP0698        9.99   \n",
       "\n",
       "                     date  total_price  check_orders_x  order_id  ...  \\\n",
       "0     2017-01-01 01:46:16        47.49            True    299545  ...   \n",
       "1     2017-01-01 01:50:34        18.99            True    299546  ...   \n",
       "2     2017-01-01 01:54:11        72.19            True    295347  ...   \n",
       "3     2017-01-01 02:07:42      2565.99            True    299549  ...   \n",
       "4     2017-01-01 02:20:14        60.90            True    299556  ...   \n",
       "...                   ...          ...             ...       ...  ...   \n",
       "62098 2018-03-14 11:45:05        16.52            True    525664  ...   \n",
       "62099 2018-03-14 11:49:01        19.98            True    527070  ...   \n",
       "62100 2018-03-14 11:49:36        19.98            True    527074  ...   \n",
       "62101 2018-03-14 11:54:35        29.97            True    527096  ...   \n",
       "62102 2018-03-14 11:58:13         9.99            True    527112  ...   \n",
       "\n",
       "      total_paid      state check_orders_y  \\\n",
       "0          51.48  Completed           True   \n",
       "1          18.99  Completed           True   \n",
       "2          72.19  Completed           True   \n",
       "3        2565.99  Completed           True   \n",
       "4          65.89  Completed           True   \n",
       "...          ...        ...            ...   \n",
       "62098      85.73  Completed           True   \n",
       "62099      24.97  Completed           True   \n",
       "62100      24.97  Completed           True   \n",
       "62101      34.96  Completed           True   \n",
       "62102      14.98  Completed           True   \n",
       "\n",
       "                                                    name  \\\n",
       "0      OWC In-line Digital Temperature Sensor Kit HDD...   \n",
       "1                   iOttie Easy View 2 Car Black Support   \n",
       "2      Apple 85W MagSafe 2 charger MacBook Pro screen...   \n",
       "3      Apple iMac 27 \"Core i5 3.2GHz Retina 5K | 32GB...   \n",
       "4                     (Open) Crucial 240GB SSD 7mm BX200   \n",
       "...                                                  ...   \n",
       "62098  Tucano Elements Second Skin Macbook Sleeve 12 ...   \n",
       "62099  Apple Lightning Cable Connector to USB 1m Whit...   \n",
       "62100  Apple Lightning Cable Connector to USB 1m Whit...   \n",
       "62101  Apple Lightning Cable Connector to USB 1m Whit...   \n",
       "62102  Apple Lightning Cable Connector to USB 1m Whit...   \n",
       "\n",
       "                                                    desc   price  \\\n",
       "0      Kit temperature sensor for HDD iMac 21 inch an...   60.99   \n",
       "1      IPhone car holder 7 plus / 7/6 Plus / 6 / 5s /...   22.95   \n",
       "2      Apple MagSafe 2 Charger for MacBook Pro 15-inc...   89.00   \n",
       "3      IMac desktop computer 27 inch Retina 5K RAM 32... 3209.00   \n",
       "4      SSD hard drive and high-speed performance with...   76.99   \n",
       "...                                                  ...     ...   \n",
       "62098  velvety inner protective case for MacBook 12 i...   24.99   \n",
       "62099  Apple Lightning USB Cable 1 meter to charge an...   25.00   \n",
       "62100  Apple Lightning USB Cable 1 meter to charge an...   25.00   \n",
       "62101  Apple Lightning USB Cable 1 meter to charge an...   25.00   \n",
       "62102  Apple Lightning USB Cable 1 meter to charge an...   25.00   \n",
       "\n",
       "       max_price_orderlines   disc  disc_perc  year_month  \n",
       "0                       NaN  13.50      22.00     2017-01  \n",
       "1                       NaN   3.96      17.00     2017-01  \n",
       "2                       NaN  16.81      19.00     2017-01  \n",
       "3                       NaN 643.01      20.00     2017-01  \n",
       "4                       NaN  16.09      21.00     2017-01  \n",
       "...                     ...    ...        ...         ...  \n",
       "62098                   NaN   8.47      34.00     2018-03  \n",
       "62099                   NaN  15.01      60.00     2018-03  \n",
       "62100                   NaN  15.01      60.00     2018-03  \n",
       "62101                   NaN  15.01      60.00     2018-03  \n",
       "62102                   NaN  15.01      60.00     2018-03  \n",
       "\n",
       "[62103 rows x 21 columns]"
      ]
     },
     "execution_count": 8,
     "metadata": {},
     "output_type": "execute_result"
    }
   ],
   "source": [
    "p_df1"
   ]
  },
  {
   "cell_type": "code",
   "execution_count": 9,
   "id": "7a3a4050-8f42-4025-95e5-d09c391e5ddf",
   "metadata": {},
   "outputs": [],
   "source": [
    "import re"
   ]
  },
  {
   "cell_type": "code",
   "execution_count": 10,
   "id": "e0d1dcc8-a702-4370-ad11-cdfe9bc4c149",
   "metadata": {},
   "outputs": [
    {
     "name": "stderr",
     "output_type": "stream",
     "text": [
      "/Users/sevgiakdeniz/opt/anaconda3/lib/python3.8/site-packages/pandas/core/strings/accessor.py:101: UserWarning: This pattern has match groups. To actually get the groups, use str.extract.\n",
      "  return func(self, *args, **kwargs)\n"
     ]
    },
    {
     "data": {
      "text/plain": [
       "Others        2179\n",
       "iPhone        2102\n",
       "Ipad          1639\n",
       "Macbook       1441\n",
       "iMac           708\n",
       "hard drive     687\n",
       "USB            514\n",
       "memory         370\n",
       "watch          320\n",
       "monitor        242\n",
       "protect        198\n",
       "Mac mini       128\n",
       "headset         25\n",
       "wacom           19\n",
       "unknown          7\n",
       "Name: category, dtype: int64"
      ]
     },
     "execution_count": 10,
     "metadata": {},
     "output_type": "execute_result"
    }
   ],
   "source": [
    "regexp_dict = {\n",
    "    'wacom':'(wacom|Wacom)',\n",
    "    'Macbook':'(Macbook|macbook)',\n",
    "    'Ipad':'(IPad|iPad)',\n",
    "    'iPhone':'(iPhone|IPhone)',\n",
    "    'headset':'(headset|headphones|Headset)',\n",
    "    'memory':'(memory)',\n",
    "    'hard drive':'(hard drive|Hard drive)',\n",
    "    'protect':'(protect|cover|sleeve|Screensaver|shell)',\n",
    "    'watch':'(^.{0,6}apple watch|smartwatch|smart watch|Apple watch|Watch)',\n",
    "    'monitor':'(Monitor|monitor)',\n",
    "    'iMac':'(iMac|IMac)',\n",
    "    'Mac mini':'Mac mini|mac mini',\n",
    "    'USB':'USB',\n",
    "    'Others':''\n",
    "}\n",
    "\n",
    "temp = products.copy().assign(category = 'unknown')\n",
    "\n",
    "\n",
    "for val in regexp_dict.items(): \n",
    "    label = val[0]\n",
    "    regexp = re.compile(val[1], flags=re.IGNORECASE)\n",
    "    temp = (\n",
    "    temp\n",
    "        .assign(\n",
    "            category = lambda x: np.where(\n",
    "                (x['desc'].str.contains(regexp, regex=True)) &\n",
    "                (x['category'] == 'unknown'), label, x['category'])))\n",
    "\n",
    "temp['category'].value_counts()"
   ]
  },
  {
   "cell_type": "code",
   "execution_count": 11,
   "id": "116dd70b-b91a-408b-9f6b-276930b03b43",
   "metadata": {},
   "outputs": [],
   "source": [
    "products = products.merge(temp, how='left')"
   ]
  },
  {
   "cell_type": "code",
   "execution_count": 12,
   "id": "dc60f29a-fe85-40a1-95fd-feaf7687ac7c",
   "metadata": {},
   "outputs": [
    {
     "data": {
      "text/plain": [
       "Index(['sku', 'name', 'desc', 'price', 'max_price_orderlines', 'category'], dtype='object')"
      ]
     },
     "execution_count": 12,
     "metadata": {},
     "output_type": "execute_result"
    }
   ],
   "source": [
    "products.columns"
   ]
  },
  {
   "cell_type": "code",
   "execution_count": 13,
   "id": "ff113335-5177-4172-a1fd-995dbfdd00b1",
   "metadata": {},
   "outputs": [],
   "source": [
    "d = orderlines.merge(orders, how='left', left_on='id_order', right_on='order_id').query('state == \"Completed\"').merge(products, how='left').assign(price = lambda x: np.where(np.isnan(x['price']), x['max_price_orderlines'], x['price'])).assign(disc = lambda x: x['price'] - x['unit_price'],\n",
    "disc_perc = lambda x: round((1 - x['unit_price'] / x['price'])*100), year_month = lambda x: x['date'].dt.to_period('M'))"
   ]
  },
  {
   "cell_type": "code",
   "execution_count": 14,
   "id": "8b99651e-957b-45a2-a10d-245cda0003c8",
   "metadata": {},
   "outputs": [],
   "source": [
    "e = d.groupby(['category']).agg({'product_quantity':'sum', 'total_price':'sum', 'disc':'mean', 'disc_perc':'mean'}).reset_index().sort_values('disc', ascending = False).reset_index()"
   ]
  },
  {
   "cell_type": "code",
   "execution_count": 15,
   "id": "a2e15e34-7236-43e0-80fb-7a5f15494009",
   "metadata": {},
   "outputs": [
    {
     "data": {
      "text/html": [
       "<div>\n",
       "<style scoped>\n",
       "    .dataframe tbody tr th:only-of-type {\n",
       "        vertical-align: middle;\n",
       "    }\n",
       "\n",
       "    .dataframe tbody tr th {\n",
       "        vertical-align: top;\n",
       "    }\n",
       "\n",
       "    .dataframe thead th {\n",
       "        text-align: right;\n",
       "    }\n",
       "</style>\n",
       "<table border=\"1\" class=\"dataframe\">\n",
       "  <thead>\n",
       "    <tr style=\"text-align: right;\">\n",
       "      <th></th>\n",
       "      <th>index</th>\n",
       "      <th>category</th>\n",
       "      <th>product_quantity</th>\n",
       "      <th>total_price</th>\n",
       "      <th>disc</th>\n",
       "      <th>disc_perc</th>\n",
       "    </tr>\n",
       "  </thead>\n",
       "  <tbody>\n",
       "    <tr>\n",
       "      <th>0</th>\n",
       "      <td>7</td>\n",
       "      <td>iMac</td>\n",
       "      <td>2717</td>\n",
       "      <td>2947176.34</td>\n",
       "      <td>194.31</td>\n",
       "      <td>17.83</td>\n",
       "    </tr>\n",
       "    <tr>\n",
       "      <th>1</th>\n",
       "      <td>1</td>\n",
       "      <td>Mac mini</td>\n",
       "      <td>483</td>\n",
       "      <td>232369.21</td>\n",
       "      <td>60.05</td>\n",
       "      <td>13.15</td>\n",
       "    </tr>\n",
       "    <tr>\n",
       "      <th>2</th>\n",
       "      <td>10</td>\n",
       "      <td>monitor</td>\n",
       "      <td>2001</td>\n",
       "      <td>821671.18</td>\n",
       "      <td>58.00</td>\n",
       "      <td>12.10</td>\n",
       "    </tr>\n",
       "    <tr>\n",
       "      <th>3</th>\n",
       "      <td>2</td>\n",
       "      <td>Macbook</td>\n",
       "      <td>11437</td>\n",
       "      <td>3966248.32</td>\n",
       "      <td>47.89</td>\n",
       "      <td>18.20</td>\n",
       "    </tr>\n",
       "    <tr>\n",
       "      <th>4</th>\n",
       "      <td>13</td>\n",
       "      <td>wacom</td>\n",
       "      <td>214</td>\n",
       "      <td>38592.51</td>\n",
       "      <td>45.22</td>\n",
       "      <td>11.48</td>\n",
       "    </tr>\n",
       "    <tr>\n",
       "      <th>5</th>\n",
       "      <td>9</td>\n",
       "      <td>memory</td>\n",
       "      <td>1045</td>\n",
       "      <td>230144.11</td>\n",
       "      <td>33.35</td>\n",
       "      <td>13.35</td>\n",
       "    </tr>\n",
       "    <tr>\n",
       "      <th>6</th>\n",
       "      <td>5</td>\n",
       "      <td>hard drive</td>\n",
       "      <td>6831</td>\n",
       "      <td>1166897.72</td>\n",
       "      <td>32.43</td>\n",
       "      <td>17.18</td>\n",
       "    </tr>\n",
       "    <tr>\n",
       "      <th>7</th>\n",
       "      <td>3</td>\n",
       "      <td>Others</td>\n",
       "      <td>12330</td>\n",
       "      <td>1854046.00</td>\n",
       "      <td>29.52</td>\n",
       "      <td>19.90</td>\n",
       "    </tr>\n",
       "    <tr>\n",
       "      <th>8</th>\n",
       "      <td>0</td>\n",
       "      <td>Ipad</td>\n",
       "      <td>11881</td>\n",
       "      <td>1213410.40</td>\n",
       "      <td>26.99</td>\n",
       "      <td>28.66</td>\n",
       "    </tr>\n",
       "    <tr>\n",
       "      <th>9</th>\n",
       "      <td>4</td>\n",
       "      <td>USB</td>\n",
       "      <td>4505</td>\n",
       "      <td>456811.43</td>\n",
       "      <td>23.68</td>\n",
       "      <td>21.28</td>\n",
       "    </tr>\n",
       "    <tr>\n",
       "      <th>10</th>\n",
       "      <td>12</td>\n",
       "      <td>unknown</td>\n",
       "      <td>4</td>\n",
       "      <td>403.40</td>\n",
       "      <td>21.35</td>\n",
       "      <td>17.00</td>\n",
       "    </tr>\n",
       "    <tr>\n",
       "      <th>11</th>\n",
       "      <td>8</td>\n",
       "      <td>iPhone</td>\n",
       "      <td>12453</td>\n",
       "      <td>2272180.65</td>\n",
       "      <td>20.79</td>\n",
       "      <td>21.01</td>\n",
       "    </tr>\n",
       "    <tr>\n",
       "      <th>12</th>\n",
       "      <td>14</td>\n",
       "      <td>watch</td>\n",
       "      <td>1363</td>\n",
       "      <td>263744.63</td>\n",
       "      <td>17.88</td>\n",
       "      <td>17.37</td>\n",
       "    </tr>\n",
       "    <tr>\n",
       "      <th>13</th>\n",
       "      <td>6</td>\n",
       "      <td>headset</td>\n",
       "      <td>665</td>\n",
       "      <td>94713.98</td>\n",
       "      <td>17.47</td>\n",
       "      <td>13.15</td>\n",
       "    </tr>\n",
       "    <tr>\n",
       "      <th>14</th>\n",
       "      <td>11</td>\n",
       "      <td>protect</td>\n",
       "      <td>1300</td>\n",
       "      <td>79650.64</td>\n",
       "      <td>11.43</td>\n",
       "      <td>24.57</td>\n",
       "    </tr>\n",
       "  </tbody>\n",
       "</table>\n",
       "</div>"
      ],
      "text/plain": [
       "    index    category  product_quantity  total_price   disc  disc_perc\n",
       "0       7        iMac              2717   2947176.34 194.31      17.83\n",
       "1       1    Mac mini               483    232369.21  60.05      13.15\n",
       "2      10     monitor              2001    821671.18  58.00      12.10\n",
       "3       2     Macbook             11437   3966248.32  47.89      18.20\n",
       "4      13       wacom               214     38592.51  45.22      11.48\n",
       "5       9      memory              1045    230144.11  33.35      13.35\n",
       "6       5  hard drive              6831   1166897.72  32.43      17.18\n",
       "7       3      Others             12330   1854046.00  29.52      19.90\n",
       "8       0        Ipad             11881   1213410.40  26.99      28.66\n",
       "9       4         USB              4505    456811.43  23.68      21.28\n",
       "10     12     unknown                 4       403.40  21.35      17.00\n",
       "11      8      iPhone             12453   2272180.65  20.79      21.01\n",
       "12     14       watch              1363    263744.63  17.88      17.37\n",
       "13      6     headset               665     94713.98  17.47      13.15\n",
       "14     11     protect              1300     79650.64  11.43      24.57"
      ]
     },
     "execution_count": 15,
     "metadata": {},
     "output_type": "execute_result"
    }
   ],
   "source": [
    "e"
   ]
  },
  {
   "cell_type": "code",
   "execution_count": 16,
   "id": "3e8a41b6-cf73-4ebb-9adc-b45b7f3ba4e7",
   "metadata": {},
   "outputs": [
    {
     "data": {
      "text/plain": [
       "37.68425966116722"
      ]
     },
     "execution_count": 16,
     "metadata": {},
     "output_type": "execute_result"
    }
   ],
   "source": [
    "p_df1.disc.mean()"
   ]
  },
  {
   "cell_type": "code",
   "execution_count": 17,
   "id": "33dd6e46-ba43-426f-8c80-9fca4f34a260",
   "metadata": {},
   "outputs": [
    {
     "data": {
      "image/png": "[encoded data removed]",
      "text/plain": [
       "<Figure size 2160x864 with 1 Axes>"
      ]
     },
     "metadata": {
      "needs_background": "light"
     },
     "output_type": "display_data"
    }
   ],
   "source": [
    "plt.subplots(figsize=(30, 12))\n",
    "\n",
    "p = sns.barplot(data=e, x='category', y='disc')\n",
    "\n",
    "p.axhline(p_df1['disc'].mean(), linestyle='--', color='gray')\n",
    "\n",
    "plt.xlabel('Categories', fontsize=35)\n",
    "plt.ylabel('Average Discount', fontsize=35)\n",
    "#plt.title('Average Discount by Categories', fontsize=45)\n",
    "sns.set_style('dark')\n",
    "sns.set_context('talk', font_scale=1.5)\n",
    "\n",
    "\n",
    "\n",
    "\n",
    "\n",
    "plt.show()"
   ]
  },
  {
   "cell_type": "code",
   "execution_count": 18,
   "id": "29f52058-59d6-4eb0-8911-0f681ac1161a",
   "metadata": {},
   "outputs": [
    {
     "data": {
      "image/png": "[encoded data removed]",
      "text/plain": [
       "<Figure size 2160x864 with 1 Axes>"
      ]
     },
     "metadata": {},
     "output_type": "display_data"
    }
   ],
   "source": [
    "plt.subplots(figsize=(30, 12))\n",
    "\n",
    "sns.barplot(data=e, x='category', y='total_price')\n",
    "plt.xlabel('Categories', fontsize=35)\n",
    "plt.ylabel('Total Price Million Euros', fontsize=35)\n",
    "#plt.title('Total Price by Categories', fontsize=45)\n",
    "sns.set_style('dark')\n",
    "sns.set_context('talk', font_scale=1.5)\n",
    "plt.show()"
   ]
  },
  {
   "cell_type": "code",
   "execution_count": null,
   "id": "7d4a479a-64d3-4b0c-8ebd-a0b717e3b38c",
   "metadata": {},
   "outputs": [],
   "source": []
  },
  {
   "cell_type": "code",
   "execution_count": null,
   "id": "26dbf50f-53db-42ff-b469-f4f1ec7bb43b",
   "metadata": {},
   "outputs": [],
   "source": []
  },
  {
   "cell_type": "code",
   "execution_count": 19,
   "id": "98adaa33-0b58-4e1e-afe3-0a99409cb5c0",
   "metadata": {
    "tags": []
   },
   "outputs": [],
   "source": [
    "p_df2 = (\n",
    "orderlines\n",
    "    .merge(orders, how='left', left_on='id_order', right_on='order_id')\n",
    "    #.query('state == \"Completed\"')\n",
    "    .merge(products, how='left')\n",
    "    .assign(price = lambda x: np.where(np.isnan(x['price']), x['max_price_orderlines'], x['price']))\n",
    "    .assign(disc = lambda x: x['price'] - x['unit_price'],\n",
    "           disc_perc = lambda x: round((1 - x['unit_price'] / x['price'])*100), \n",
    "           year_month = lambda x: x['date'].dt.to_period('M')))"
   ]
  },
  {
   "cell_type": "code",
   "execution_count": 20,
   "id": "e1ee44bb-bee2-4f73-b661-83f7467b7717",
   "metadata": {},
   "outputs": [],
   "source": [
    "sta = p_df2.groupby('state').agg({'disc':['mean', 'median', 'sum'], 'total_price':'sum', 'product_quantity':'sum'}).reset_index()"
   ]
  },
  {
   "cell_type": "code",
   "execution_count": 21,
   "id": "d6296355-040f-4b50-9a59-382a38e65f0d",
   "metadata": {},
   "outputs": [
    {
     "data": {
      "text/html": [
       "<div>\n",
       "<style scoped>\n",
       "    .dataframe tbody tr th:only-of-type {\n",
       "        vertical-align: middle;\n",
       "    }\n",
       "\n",
       "    .dataframe tbody tr th {\n",
       "        vertical-align: top;\n",
       "    }\n",
       "\n",
       "    .dataframe thead tr th {\n",
       "        text-align: left;\n",
       "    }\n",
       "</style>\n",
       "<table border=\"1\" class=\"dataframe\">\n",
       "  <thead>\n",
       "    <tr>\n",
       "      <th></th>\n",
       "      <th>state</th>\n",
       "      <th colspan=\"3\" halign=\"left\">disc</th>\n",
       "      <th>total_price</th>\n",
       "      <th>product_quantity</th>\n",
       "    </tr>\n",
       "    <tr>\n",
       "      <th></th>\n",
       "      <th></th>\n",
       "      <th>mean</th>\n",
       "      <th>median</th>\n",
       "      <th>sum</th>\n",
       "      <th>sum</th>\n",
       "      <th>sum</th>\n",
       "    </tr>\n",
       "  </thead>\n",
       "  <tbody>\n",
       "    <tr>\n",
       "      <th>0</th>\n",
       "      <td>Cancelled</td>\n",
       "      <td>62.59</td>\n",
       "      <td>20.00</td>\n",
       "      <td>564280.64</td>\n",
       "      <td>5525459.62</td>\n",
       "      <td>10034</td>\n",
       "    </tr>\n",
       "    <tr>\n",
       "      <th>1</th>\n",
       "      <td>Completed</td>\n",
       "      <td>37.68</td>\n",
       "      <td>15.91</td>\n",
       "      <td>2326701.56</td>\n",
       "      <td>15709704.82</td>\n",
       "      <td>69631</td>\n",
       "    </tr>\n",
       "    <tr>\n",
       "      <th>2</th>\n",
       "      <td>Pending</td>\n",
       "      <td>35.79</td>\n",
       "      <td>15.00</td>\n",
       "      <td>665332.70</td>\n",
       "      <td>4675847.09</td>\n",
       "      <td>20723</td>\n",
       "    </tr>\n",
       "    <tr>\n",
       "      <th>3</th>\n",
       "      <td>Place Order</td>\n",
       "      <td>46.67</td>\n",
       "      <td>15.12</td>\n",
       "      <td>1604133.13</td>\n",
       "      <td>17013355.86</td>\n",
       "      <td>38243</td>\n",
       "    </tr>\n",
       "    <tr>\n",
       "      <th>4</th>\n",
       "      <td>Shopping Basket</td>\n",
       "      <td>56.97</td>\n",
       "      <td>16.00</td>\n",
       "      <td>9605624.31</td>\n",
       "      <td>85735026.38</td>\n",
       "      <td>190680</td>\n",
       "    </tr>\n",
       "  </tbody>\n",
       "</table>\n",
       "</div>"
      ],
      "text/plain": [
       "             state  disc                   total_price product_quantity\n",
       "                    mean median        sum         sum              sum\n",
       "0        Cancelled 62.59  20.00  564280.64  5525459.62            10034\n",
       "1        Completed 37.68  15.91 2326701.56 15709704.82            69631\n",
       "2          Pending 35.79  15.00  665332.70  4675847.09            20723\n",
       "3      Place Order 46.67  15.12 1604133.13 17013355.86            38243\n",
       "4  Shopping Basket 56.97  16.00 9605624.31 85735026.38           190680"
      ]
     },
     "execution_count": 21,
     "metadata": {},
     "output_type": "execute_result"
    }
   ],
   "source": [
    "sta"
   ]
  },
  {
   "cell_type": "code",
   "execution_count": 22,
   "id": "2ff85f35-4dea-4966-81a5-e53bfff114f9",
   "metadata": {},
   "outputs": [],
   "source": [
    "sta2 = p_df2.groupby(['state', 'year_month'])['disc'].mean().reset_index()"
   ]
  },
  {
   "cell_type": "code",
   "execution_count": 23,
   "id": "7af50b6d-95e4-426a-b4fd-31588846d210",
   "metadata": {},
   "outputs": [
    {
     "data": {
      "image/png": "[encoded data removed]",
      "text/plain": [
       "<Figure size 720x432 with 1 Axes>"
      ]
     },
     "metadata": {},
     "output_type": "display_data"
    }
   ],
   "source": [
    "f, ax = plt.subplots(figsize=(10, 6))\n",
    "\n",
    "#plt.plot_date(data=sta2.query('state == \"Cancelled\"'), x='year_month', y='disc', linestyle='--', label='Cancelled')\n",
    "plt.plot_date(data=sta2.query('state == \"Completed\"'), x='year_month', y='disc', linestyle='--', label='Completed')\n",
    "#plt.plot_date(data=sta2.query('state == \"Pending\"'), x='year_month', y='disc', linestyle='--', label='Pending')\n",
    "#plt.plot_date(data=sta2.query('state == \"Place Order\"'), x='year_month', y='disc', linestyle='--', label='Place Order')\n",
    "plt.plot_date(data=sta2.query('state == \"Shopping Basket\"'), x='year_month', y='disc', linestyle='--', label='Shopping Basket')\n",
    "ax.legend()\n",
    "\n",
    "#plt.title('Evolution of discounts % overtime')\n",
    "plt.ylabel('Average discount')\n",
    "sns.despine()\n",
    "plt.show()"
   ]
  },
  {
   "cell_type": "code",
   "execution_count": 24,
   "id": "cbaec296-3c7a-4baf-a01b-540846728703",
   "metadata": {},
   "outputs": [],
   "source": [
    "sta3 = p_df2.groupby(['state', 'year_month'])['total_price'].sum().reset_index()"
   ]
  },
  {
   "cell_type": "code",
   "execution_count": 25,
   "id": "97b93af3-3219-46c1-8d25-2545b74aa85d",
   "metadata": {},
   "outputs": [
    {
     "data": {
      "image/png": "[encoded data removed]",
      "text/plain": [
       "<Figure size 720x432 with 1 Axes>"
      ]
     },
     "metadata": {},
     "output_type": "display_data"
    }
   ],
   "source": [
    "f, ax = plt.subplots(figsize=(10, 6))\n",
    "\n",
    "#plt.plot_date(data=sta3.query('state == \"Cancelled\"'), x='year_month', y='total_price', linestyle='--', label='Cancelled')\n",
    "plt.plot_date(data=sta3.query('state == \"Completed\"'), x='year_month', y='total_price', linestyle='--', label='Completed')\n",
    "#plt.plot_date(data=sta3.query('state == \"Pending\"'), x='year_month', y='total_price', linestyle='--', label='Pending')\n",
    "#plt.plot_date(data=sta3.query('state == \"Place Order\"'), x='year_month', y='total_price', linestyle='--', label='Place Order')\n",
    "plt.plot_date(data=sta3.query('state == \"Shopping Basket\"'), x='year_month', y='total_price', linestyle='--', label='Shopping Basket')\n",
    "ax.legend()\n",
    "\n",
    "#plt.title('Evolution of total_price overtime')\n",
    "plt.ylabel('Total price (Million Euros)')\n",
    "sns.despine()\n",
    "plt.show()"
   ]
  },
  {
   "cell_type": "code",
   "execution_count": null,
   "id": "1acfb6af-96da-404c-b674-8691bbb8eb5f",
   "metadata": {},
   "outputs": [],
   "source": []
  },
  {
   "cell_type": "code",
   "execution_count": 25,
   "id": "1773f4b0-b639-4533-9e47-b7308fbd2a17",
   "metadata": {
    "tags": []
   },
   "outputs": [
    {
     "data": {
      "text/plain": [
       "2326701.5599999996"
      ]
     },
     "execution_count": 25,
     "metadata": {},
     "output_type": "execute_result"
    }
   ],
   "source": [
    "p_df1.disc.sum()"
   ]
  },
  {
   "cell_type": "code",
   "execution_count": 24,
   "id": "3c284b1f-f279-486f-81a7-e5f86b916c21",
   "metadata": {},
   "outputs": [
    {
     "data": {
      "text/plain": [
       "17158715.33"
      ]
     },
     "execution_count": 24,
     "metadata": {},
     "output_type": "execute_result"
    }
   ],
   "source": [
    "p_df1.price.sum()"
   ]
  },
  {
   "cell_type": "code",
   "execution_count": 89,
   "id": "e1b8f683-7815-4ce1-b79d-e517e4de1f8f",
   "metadata": {},
   "outputs": [
    {
     "data": {
      "text/plain": [
       "69631"
      ]
     },
     "execution_count": 89,
     "metadata": {},
     "output_type": "execute_result"
    }
   ],
   "source": [
    "p_df1.product_quantity.sum()"
   ]
  },
  {
   "cell_type": "code",
   "execution_count": 25,
   "id": "f400deac-9040-446a-8a33-72639fa3a24d",
   "metadata": {},
   "outputs": [
    {
     "data": {
      "text/plain": [
       "0.13559882049747835"
      ]
     },
     "execution_count": 25,
     "metadata": {},
     "output_type": "execute_result"
    }
   ],
   "source": [
    "p_df1.disc.sum() / 17158715.33"
   ]
  },
  {
   "cell_type": "code",
   "execution_count": 26,
   "id": "016b3f66-7653-483e-b11c-a3c55f407719",
   "metadata": {},
   "outputs": [],
   "source": [
    "##TOTAL REVENUE"
   ]
  },
  {
   "cell_type": "code",
   "execution_count": 27,
   "id": "c23596ee-4a84-4c90-a5a2-02c245461eb3",
   "metadata": {},
   "outputs": [
    {
     "data": {
      "text/plain": [
       "15709704.819999998"
      ]
     },
     "execution_count": 27,
     "metadata": {},
     "output_type": "execute_result"
    }
   ],
   "source": [
    "p_df1.total_price.sum()"
   ]
  },
  {
   "cell_type": "code",
   "execution_count": 28,
   "id": "eed83bc9-7995-46ba-8c08-5f86ef82394e",
   "metadata": {},
   "outputs": [],
   "source": [
    "## total product quantity of completed orders"
   ]
  },
  {
   "cell_type": "code",
   "execution_count": 29,
   "id": "2de0c451-9071-4201-9b12-fcf780d57069",
   "metadata": {},
   "outputs": [
    {
     "data": {
      "text/plain": [
       "63944"
      ]
     },
     "execution_count": 29,
     "metadata": {},
     "output_type": "execute_result"
    }
   ],
   "source": [
    "p_df1.loc[p_df1.disc > 0]['product_quantity'].sum()"
   ]
  },
  {
   "cell_type": "code",
   "execution_count": 35,
   "id": "2feefea8-9bc0-42ea-918b-00fabb7feeef",
   "metadata": {},
   "outputs": [],
   "source": [
    "top_500 = p_df1.groupby(['name', 'sku']).agg({'product_quantity':'sum', 'total_price':'sum', 'disc':'sum'}).reset_index().sort_values('total_price', ascending = False).head(500)"
   ]
  },
  {
   "cell_type": "code",
   "execution_count": 36,
   "id": "6cce84b5-da65-48bd-a4b3-a8a7a2b7b884",
   "metadata": {},
   "outputs": [
    {
     "data": {
      "text/plain": [
       "10880709.92"
      ]
     },
     "execution_count": 36,
     "metadata": {},
     "output_type": "execute_result"
    }
   ],
   "source": [
    "top_500['total_price'].sum()"
   ]
  },
  {
   "cell_type": "code",
   "execution_count": 37,
   "id": "00855d60-8442-4a4a-814c-512e94c1fa1d",
   "metadata": {},
   "outputs": [
    {
     "data": {
      "text/plain": [
       "69.26107170484697"
      ]
     },
     "execution_count": 37,
     "metadata": {},
     "output_type": "execute_result"
    }
   ],
   "source": [
    "top_500['total_price'].sum() * 100 / p_df1['total_price'].sum()"
   ]
  },
  {
   "cell_type": "code",
   "execution_count": 38,
   "id": "e260f9a8-f63b-442f-8dba-58132fb82793",
   "metadata": {},
   "outputs": [
    {
     "data": {
      "text/plain": [
       "55.301129380770284"
      ]
     },
     "execution_count": 38,
     "metadata": {},
     "output_type": "execute_result"
    }
   ],
   "source": [
    "top_500['disc'].sum() * 100 / p_df1.disc.sum()"
   ]
  },
  {
   "cell_type": "code",
   "execution_count": 39,
   "id": "50cbb21b-0246-4eff-984c-26a2162cecd2",
   "metadata": {},
   "outputs": [
    {
     "data": {
      "text/plain": [
       "15709704.819999998"
      ]
     },
     "execution_count": 39,
     "metadata": {},
     "output_type": "execute_result"
    }
   ],
   "source": [
    "p_df1['total_price'].sum()"
   ]
  },
  {
   "cell_type": "code",
   "execution_count": 90,
   "id": "c12a1743-d55a-41d4-a1b2-d93547d6e4b1",
   "metadata": {},
   "outputs": [
    {
     "data": {
      "text/plain": [
       "1286692.2400000002"
      ]
     },
     "execution_count": 90,
     "metadata": {},
     "output_type": "execute_result"
    }
   ],
   "source": [
    "top_500['disc'].sum()"
   ]
  },
  {
   "cell_type": "code",
   "execution_count": null,
   "id": "6cd42134-28e4-4a22-807b-2f2b8b9cda63",
   "metadata": {},
   "outputs": [],
   "source": []
  }
 ],
 "metadata": {
  "kernelspec": {
   "display_name": "Python 3",
   "language": "python",
   "name": "python3"
  },
  "language_info": {
   "codemirror_mode": {
    "name": "ipython",
    "version": 3
   },
   "file_extension": ".py",
   "mimetype": "text/x-python",
   "name": "python",
   "nbconvert_exporter": "python",
   "pygments_lexer": "ipython3",
   "version": "3.8.8"
  }
 },
 "nbformat": 4,
 "nbformat_minor": 5
}
