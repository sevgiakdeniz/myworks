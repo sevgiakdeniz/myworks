{
 "cells": [
  {
   "cell_type": "markdown",
   "id": "97c4f4cf-9ae7-4295-a243-dae507dcd24d",
   "metadata": {},
   "source": [
    "# Recommender systems"
   ]
  },
  {
   "cell_type": "markdown",
   "id": "67fd2341-a12b-4b69-b5e6-12310f22ee74",
   "metadata": {},
   "source": [
    "## Load the dataset"
   ]
  },
  {
   "cell_type": "markdown",
   "id": "b66b7890-b74b-499e-94a2-70a6c76d3578",
   "metadata": {},
   "source": [
    "We have collected food ratings from different students. The numbers have the following meaning:\n",
    "\n",
    "Rating explanation (range from 0 to 10):\t\n",
    "\n",
    "|Rating|Description|\n",
    "|-|-|\n",
    "| 0\t|I have never tried this food|\n",
    "| 1\t|I hate this food, would never eat that|\n",
    "| 5\t|I don't mind eating this but not a fan either|\n",
    "| 10|\tI absolutely LOVE this food|"
   ]
  },
  {
   "cell_type": "code",
   "execution_count": null,
   "id": "7838d402-6459-4e62-81d2-1241634d2986",
   "metadata": {},
   "outputs": [],
   "source": [
    "import pandas as pd\n",
    "import numpy as np\n",
    "import seaborn as sns\n",
    "import matplotlib.pyplot as plt\n",
    "sparse_matrix = pd.read_csv('./food_ratings - DS003.csv', index_col='student')\n",
    "sparse_matrix.drop(['age','favorite_color'], axis=1, inplace=True)\n",
    "sparse_matrix = sparse_matrix.iloc[:13]\n",
    "sparse_matrix"
   ]
  },
  {
   "cell_type": "code",
   "execution_count": null,
   "id": "665c395f-d6c5-4fec-b479-d734c26a3d21",
   "metadata": {},
   "outputs": [],
   "source": [
    "sparse_matrix.info()"
   ]
  },
  {
   "cell_type": "code",
   "execution_count": null,
   "id": "e7925eaa-8a42-40d3-bd7d-ddb7185b1036",
   "metadata": {},
   "outputs": [],
   "source": [
    "sparse_matrix['oysters (raw)'] = sparse_matrix['oysters (raw)'].astype('float')\n",
    "sparse_matrix['hamburger'] = sparse_matrix['hamburger'].astype('float')"
   ]
  },
  {
   "cell_type": "code",
   "execution_count": null,
   "id": "df16b7e4-c824-4b25-928e-b22b9ec770e4",
   "metadata": {},
   "outputs": [],
   "source": [
    "sparse_matrix.info()"
   ]
  },
  {
   "cell_type": "markdown",
   "id": "2cad3ae4",
   "metadata": {},
   "source": [
    "## Popularity base"
   ]
  },
  {
   "cell_type": "code",
   "execution_count": null,
   "id": "57f65e14",
   "metadata": {},
   "outputs": [],
   "source": [
    "# by ratings\n",
    "(\n",
    "sparse_matrix\n",
    "    .reset_index()\n",
    "    .melt(id_vars=['student'], value_vars=sparse_matrix.columns)\n",
    "    .query('value != 0')\n",
    "    .groupby('variable')\n",
    "    .agg(mean_rating = ('value', 'mean'))\n",
    "    .reset_index()\n",
    "    .sort_values('mean_rating', ascending=False)\n",
    "    .head(10)\n",
    "    )"
   ]
  },
  {
   "cell_type": "code",
   "execution_count": null,
   "id": "98716fcc-930f-4750-9c4b-b9fc7f73ac75",
   "metadata": {},
   "outputs": [],
   "source": [
    "(\n",
    "sparse_matrix\n",
    "    .reset_index()\n",
    "    .melt(id_vars=['student'], value_vars=sparse_matrix.columns)\n",
    "    .query('value != 0')\n",
    "    .groupby('variable')\n",
    "    .agg(mean_rating = ('value', 'mean'))\n",
    "    .reset_index()\n",
    "    .sort_values('mean_rating', ascending=False\n",
    "    .head(10))"
   ]
  },
  {
   "cell_type": "code",
   "execution_count": null,
   "id": "a6e7e216",
   "metadata": {},
   "outputs": [],
   "source": [
    "# by ratings count\n",
    "(\n",
    "sparse_matrix\n",
    "    .reset_index()\n",
    "    .melt(id_vars=['student'], value_vars=sparse_matrix.columns)\n",
    "    .query('value != 0')\n",
    "    .groupby('variable')\n",
    "    .agg(count_rating = ('value', 'count'))\n",
    "    .reset_index()\n",
    "    .sort_values('count_rating', ascending=False)\n",
    "    .head(10)\n",
    "    )"
   ]
  },
  {
   "cell_type": "code",
   "execution_count": null,
   "id": "b61912c4-2cef-4a6d-808a-63909a84c1e8",
   "metadata": {},
   "outputs": [],
   "source": [
    "dense_matrix = (\n",
    "    sparse_matrix\n",
    "    .reset_index()\n",
    "    .melt(id_vars=['student'], value_vars=sparse_matrix.columns,\n",
    "          var_name='item', value_name='rating')\n",
    "    .rename(columns={'student':'user'})\n",
    "    .query('rating != 0')\n",
    "    )\n",
    "dense_matrix.head()"
   ]
  },
  {
   "cell_type": "code",
   "execution_count": null,
   "id": "7ae3ab4c-4922-41d5-8d5b-1d973ccad339",
   "metadata": {},
   "outputs": [],
   "source": [
    "dense_matrix =(\n",
    "    sparse_matrix\n",
    "    .reset_index()\n",
    "    .melt(id_vars=['student'], value_vars=sparse_matrix.columns,\n",
    "          var_name=['item'], value_name=['rating'])\n",
    "    .rename(columns={'student':'user'})\n",
    "    .query('rating != 0')\n",
    "    )\n",
    "dense_matrix()"
   ]
  },
  {
   "cell_type": "code",
   "execution_count": 17,
   "id": "da4d4fbf",
   "metadata": {},
   "outputs": [
    {
     "data": {
      "text/html": [
       "<div>\n",
       "<style scoped>\n",
       "    .dataframe tbody tr th:only-of-type {\n",
       "        vertical-align: middle;\n",
       "    }\n",
       "\n",
       "    .dataframe tbody tr th {\n",
       "        vertical-align: top;\n",
       "    }\n",
       "\n",
       "    .dataframe thead th {\n",
       "        text-align: right;\n",
       "    }\n",
       "</style>\n",
       "<table border=\"1\" class=\"dataframe\">\n",
       "  <thead>\n",
       "    <tr style=\"text-align: right;\">\n",
       "      <th></th>\n",
       "      <th>item</th>\n",
       "      <th>mean_rating</th>\n",
       "      <th>count_rating</th>\n",
       "    </tr>\n",
       "  </thead>\n",
       "  <tbody>\n",
       "    <tr>\n",
       "      <th>5</th>\n",
       "      <td>olives</td>\n",
       "      <td>8.538462</td>\n",
       "      <td>13</td>\n",
       "    </tr>\n",
       "    <tr>\n",
       "      <th>7</th>\n",
       "      <td>peas</td>\n",
       "      <td>6.333333</td>\n",
       "      <td>12</td>\n",
       "    </tr>\n",
       "    <tr>\n",
       "      <th>1</th>\n",
       "      <td>blue_cheese</td>\n",
       "      <td>6.000000</td>\n",
       "      <td>13</td>\n",
       "    </tr>\n",
       "  </tbody>\n",
       "</table>\n",
       "</div>"
      ],
      "text/plain": [
       "          item  mean_rating  count_rating\n",
       "5       olives     8.538462            13\n",
       "7         peas     6.333333            12\n",
       "1  blue_cheese     6.000000            13"
      ]
     },
     "execution_count": 17,
     "metadata": {},
     "output_type": "execute_result"
    }
   ],
   "source": [
    "# create a metric based on popularity and rating\n",
    "# def item_based_recommender(data: pd.DataFrame, user: str, n=5): \n",
    "def popularity_based_recommender(data: pd.DataFrame, min_n_ratings: int):\n",
    "\n",
    "    return (\n",
    "    data\n",
    "        .groupby('item')\n",
    "        .agg(\n",
    "            mean_rating = ('rating', 'mean'),\n",
    "            count_rating = ('rating', 'count')\n",
    "        )\n",
    "        .reset_index()\n",
    "        .sort_values('mean_rating', ascending=False)\n",
    "        .query('count_rating > @min_n_ratings')\n",
    "        .head(10)\n",
    "        )\n",
    "\n",
    "popularity_based_recommender(dense_matrix.copy(), 11)"
   ]
  },
  {
   "cell_type": "code",
   "execution_count": null,
   "id": "e58fd331-2baf-4b8c-9f24-1c609293d103",
   "metadata": {},
   "outputs": [],
   "source": [
    "def popularity_based_recommender(data:pd.DataFrame, min_n_ratings:int):\n",
    "    \n",
    "    return (\n",
    "    data\n",
    "        .groupby('item')\n",
    "        .agg(\n",
    "            mean_counting = ('rating', 'mean'),\n",
    "            count_rating = ('rating', 'count')\n",
    "    )\n",
    "        .reset_index()\n",
    "        .sort_values('mean_rating', ascending=False)\n",
    "        .query('count_rating > @min_n_ratings')\n",
    "        .head(10)\n",
    "        )\n",
    "popularity_based_recommender(dense_matrix.copy(), 11)"
   ]
  },
  {
   "cell_type": "code",
   "execution_count": 18,
   "id": "374db831-ef89-4ee2-ba9b-5304d17a788a",
   "metadata": {},
   "outputs": [
    {
     "data": {
      "text/html": [
       "<div>\n",
       "<style scoped>\n",
       "    .dataframe tbody tr th:only-of-type {\n",
       "        vertical-align: middle;\n",
       "    }\n",
       "\n",
       "    .dataframe tbody tr th {\n",
       "        vertical-align: top;\n",
       "    }\n",
       "\n",
       "    .dataframe thead th {\n",
       "        text-align: right;\n",
       "    }\n",
       "</style>\n",
       "<table border=\"1\" class=\"dataframe\">\n",
       "  <thead>\n",
       "    <tr style=\"text-align: right;\">\n",
       "      <th></th>\n",
       "      <th>user</th>\n",
       "      <th>item</th>\n",
       "      <th>rating</th>\n",
       "    </tr>\n",
       "  </thead>\n",
       "  <tbody>\n",
       "    <tr>\n",
       "      <th>0</th>\n",
       "      <td>Akbar</td>\n",
       "      <td>broccoli</td>\n",
       "      <td>7.0</td>\n",
       "    </tr>\n",
       "    <tr>\n",
       "      <th>1</th>\n",
       "      <td>Andreas</td>\n",
       "      <td>broccoli</td>\n",
       "      <td>7.0</td>\n",
       "    </tr>\n",
       "    <tr>\n",
       "      <th>2</th>\n",
       "      <td>Dónal</td>\n",
       "      <td>broccoli</td>\n",
       "      <td>8.0</td>\n",
       "    </tr>\n",
       "    <tr>\n",
       "      <th>4</th>\n",
       "      <td>Konstantinos</td>\n",
       "      <td>broccoli</td>\n",
       "      <td>7.0</td>\n",
       "    </tr>\n",
       "    <tr>\n",
       "      <th>5</th>\n",
       "      <td>Kristina</td>\n",
       "      <td>broccoli</td>\n",
       "      <td>9.0</td>\n",
       "    </tr>\n",
       "  </tbody>\n",
       "</table>\n",
       "</div>"
      ],
      "text/plain": [
       "           user      item  rating\n",
       "0         Akbar  broccoli     7.0\n",
       "1       Andreas  broccoli     7.0\n",
       "2         Dónal  broccoli     8.0\n",
       "4  Konstantinos  broccoli     7.0\n",
       "5      Kristina  broccoli     9.0"
      ]
     },
     "execution_count": 18,
     "metadata": {},
     "output_type": "execute_result"
    }
   ],
   "source": [
    "dense_matrix.head()"
   ]
  },
  {
   "cell_type": "markdown",
   "id": "2b873f7b",
   "metadata": {},
   "source": [
    "## Item-based recommender system"
   ]
  },
  {
   "cell_type": "code",
   "execution_count": 19,
   "id": "30862a96",
   "metadata": {},
   "outputs": [
    {
     "data": {
      "image/png": "[encoded data removed]",
      "text/plain": [
       "<Figure size 432x288 with 1 Axes>"
      ]
     },
     "metadata": {
      "needs_background": "light"
     },
     "output_type": "display_data"
    }
   ],
   "source": [
    "import matplotlib.pyplot as plt\n",
    "import seaborn as sns\n",
    "\n",
    "sns.scatterplot(data=sparse_matrix, x='broccoli', y='peas')\n",
    "plt.title('Is there a correlation between this two foods?')\n",
    "plt.show()"
   ]
  },
  {
   "cell_type": "code",
   "execution_count": 20,
   "id": "6fe2f576",
   "metadata": {},
   "outputs": [
    {
     "data": {
      "text/plain": [
       "hamburger          -0.304354\n",
       "oysters (raw)      -0.142466\n",
       "blue_cheese        -0.094231\n",
       "whisky              0.007481\n",
       "olives              0.047733\n",
       "brussels_sprouts    0.102460\n",
       " onion (raw)        0.115584\n",
       "peas                0.327144\n",
       "broccoli            1.000000\n",
       "dtype: float64"
      ]
     },
     "execution_count": 20,
     "metadata": {},
     "output_type": "execute_result"
    }
   ],
   "source": [
    "sparse_matrix.corrwith(sparse_matrix['broccoli']).sort_values()"
   ]
  },
  {
   "cell_type": "markdown",
   "id": "d30f27ea",
   "metadata": {},
   "source": [
    "## Simple function"
   ]
  },
  {
   "cell_type": "code",
   "execution_count": 21,
   "id": "dfa915e9",
   "metadata": {},
   "outputs": [
    {
     "data": {
      "text/plain": [
       "['broccoli', 'whisky', 'hamburger', 'brussels_sprouts', 'oysters (raw)']"
      ]
     },
     "execution_count": 21,
     "metadata": {},
     "output_type": "execute_result"
    }
   ],
   "source": [
    "def get_user_prefered_item(data: pd.DataFrame, user): \n",
    "    \n",
    "    return (\n",
    "    data\n",
    "        .query('user == @user')\n",
    "        .sort_values('rating', ascending=False)\n",
    "        ['item'].tolist()[0]\n",
    "        )\n",
    "\n",
    "\n",
    "def get_sparse_matrix(data: pd.DataFrame): \n",
    "    \n",
    "    return (\n",
    "    data\n",
    "        .filter(['user','item','rating'])\n",
    "        .pivot('user','item','rating')\n",
    "        )\n",
    "\n",
    "def item_based_recommender(data: pd.DataFrame, item, n=6): \n",
    "    \n",
    "    sparse_data = get_sparse_matrix(data)\n",
    "    \n",
    "    return(\n",
    "    sparse_data\n",
    "        .corrwith(sparse_data[item])\n",
    "        .sort_values(ascending=False)\n",
    "        .index\n",
    "        .tolist()[1:n+1]   \n",
    "    )\n",
    "\n",
    "user = 'Joan'\n",
    "prefered_item = get_user_prefered_item(data=dense_matrix, user=user)\n",
    "item_based_recommender(data=dense_matrix, item=prefered_item, n=5)"
   ]
  },
  {
   "cell_type": "markdown",
   "id": "d7f26dcb",
   "metadata": {},
   "source": [
    "## Food chat bot"
   ]
  },
  {
   "cell_type": "code",
   "execution_count": null,
   "id": "af95ca2d",
   "metadata": {},
   "outputs": [],
   "source": [
    "def chat_bot(data):\n",
    "    print(\"Hi! I'm your personal recommender. Tell me a food that you've liked.\")\n",
    "    selected_item = input()\n",
    "    recom = item_based_recommender(data, item=selected_item, n=1)[0]\n",
    "    print(f\"You will probably like {recom.replace('_',' ')}\")\n",
    "    \n",
    "chat_bot(dense_matrix)"
   ]
  },
  {
   "cell_type": "code",
   "execution_count": null,
   "id": "cd3b9f19-21dc-412d-8a4a-3b7e944151c5",
   "metadata": {},
   "outputs": [],
   "source": [
    "def get_user_preffered_item(data:pd.DataFrame, user):\n",
    "    return (\n",
    "    data\n",
    "        .query('user== @))\n",
    "   "
   ]
  }
 ],
 "metadata": {
  "kernelspec": {
   "display_name": "Python 3",
   "language": "python",
   "name": "python3"
  },
  "language_info": {
   "codemirror_mode": {
    "name": "ipython",
    "version": 3
   },
   "file_extension": ".py",
   "mimetype": "text/x-python",
   "name": "python",
   "nbconvert_exporter": "python",
   "pygments_lexer": "ipython3",
   "version": "3.8.8"
  }
 },
 "nbformat": 4,
 "nbformat_minor": 5
}
