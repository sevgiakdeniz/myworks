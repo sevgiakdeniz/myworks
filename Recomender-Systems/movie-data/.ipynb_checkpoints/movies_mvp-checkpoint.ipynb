{
 "cells": [
  {
   "cell_type": "markdown",
   "metadata": {},
   "source": [
    "# Movies recommender"
   ]
  },
  {
   "cell_type": "markdown",
   "metadata": {},
   "source": [
    "The goal of this notebook is to build a simple chat bot with 3 types of recommender systems: \n",
    "\n",
    "* Popularity \n",
    "* Item-based with correlation\n",
    "* User-based with cosine similarity"
   ]
  },
  {
   "cell_type": "code",
   "execution_count": 1,
   "metadata": {},
   "outputs": [],
   "source": [
    "import pandas as pd\n",
    "import numpy as np\n",
    "import matplotlib.pyplot as plt\n",
    "import seaborn as sns\n",
    "\n"
   ]
  },
  {
   "cell_type": "code",
   "execution_count": 2,
   "metadata": {},
   "outputs": [
    {
     "data": {
      "text/html": [
       "<div>\n",
       "<style scoped>\n",
       "    .dataframe tbody tr th:only-of-type {\n",
       "        vertical-align: middle;\n",
       "    }\n",
       "\n",
       "    .dataframe tbody tr th {\n",
       "        vertical-align: top;\n",
       "    }\n",
       "\n",
       "    .dataframe thead th {\n",
       "        text-align: right;\n",
       "    }\n",
       "</style>\n",
       "<table border=\"1\" class=\"dataframe\">\n",
       "  <thead>\n",
       "    <tr style=\"text-align: right;\">\n",
       "      <th></th>\n",
       "      <th>userId</th>\n",
       "      <th>movieId</th>\n",
       "      <th>rating</th>\n",
       "      <th>timestamp</th>\n",
       "    </tr>\n",
       "  </thead>\n",
       "  <tbody>\n",
       "    <tr>\n",
       "      <th>0</th>\n",
       "      <td>1</td>\n",
       "      <td>1</td>\n",
       "      <td>4.0</td>\n",
       "      <td>964982703</td>\n",
       "    </tr>\n",
       "    <tr>\n",
       "      <th>1</th>\n",
       "      <td>1</td>\n",
       "      <td>3</td>\n",
       "      <td>4.0</td>\n",
       "      <td>964981247</td>\n",
       "    </tr>\n",
       "    <tr>\n",
       "      <th>2</th>\n",
       "      <td>1</td>\n",
       "      <td>6</td>\n",
       "      <td>4.0</td>\n",
       "      <td>964982224</td>\n",
       "    </tr>\n",
       "    <tr>\n",
       "      <th>3</th>\n",
       "      <td>1</td>\n",
       "      <td>47</td>\n",
       "      <td>5.0</td>\n",
       "      <td>964983815</td>\n",
       "    </tr>\n",
       "    <tr>\n",
       "      <th>4</th>\n",
       "      <td>1</td>\n",
       "      <td>50</td>\n",
       "      <td>5.0</td>\n",
       "      <td>964982931</td>\n",
       "    </tr>\n",
       "  </tbody>\n",
       "</table>\n",
       "</div>"
      ],
      "text/plain": [
       "   userId  movieId  rating  timestamp\n",
       "0       1        1     4.0  964982703\n",
       "1       1        3     4.0  964981247\n",
       "2       1        6     4.0  964982224\n",
       "3       1       47     5.0  964983815\n",
       "4       1       50     5.0  964982931"
      ]
     },
     "execution_count": 2,
     "metadata": {},
     "output_type": "execute_result"
    }
   ],
   "source": [
    "movies = pd.read_csv('./ml-latest-small/movies.csv')\n",
    "ratings = pd.read_csv('./ml-latest-small/ratings.csv')\n",
    "ratings.head()"
   ]
  },
  {
   "cell_type": "markdown",
   "metadata": {},
   "source": [
    "## Popularity based"
   ]
  },
  {
   "cell_type": "markdown",
   "metadata": {},
   "source": [
    "### Model creation"
   ]
  },
  {
   "cell_type": "code",
   "execution_count": 3,
   "metadata": {},
   "outputs": [
    {
     "data": {
      "text/html": [
       "<div>\n",
       "<style scoped>\n",
       "    .dataframe tbody tr th:only-of-type {\n",
       "        vertical-align: middle;\n",
       "    }\n",
       "\n",
       "    .dataframe tbody tr th {\n",
       "        vertical-align: top;\n",
       "    }\n",
       "\n",
       "    .dataframe thead th {\n",
       "        text-align: right;\n",
       "    }\n",
       "</style>\n",
       "<table border=\"1\" class=\"dataframe\">\n",
       "  <thead>\n",
       "    <tr style=\"text-align: right;\">\n",
       "      <th></th>\n",
       "      <th>item</th>\n",
       "      <th>avg_rating</th>\n",
       "      <th>count</th>\n",
       "    </tr>\n",
       "  </thead>\n",
       "  <tbody>\n",
       "    <tr>\n",
       "      <th>0</th>\n",
       "      <td>318</td>\n",
       "      <td>4.43</td>\n",
       "      <td>317</td>\n",
       "    </tr>\n",
       "    <tr>\n",
       "      <th>1</th>\n",
       "      <td>858</td>\n",
       "      <td>4.29</td>\n",
       "      <td>192</td>\n",
       "    </tr>\n",
       "    <tr>\n",
       "      <th>2</th>\n",
       "      <td>2959</td>\n",
       "      <td>4.27</td>\n",
       "      <td>218</td>\n",
       "    </tr>\n",
       "    <tr>\n",
       "      <th>3</th>\n",
       "      <td>1221</td>\n",
       "      <td>4.26</td>\n",
       "      <td>129</td>\n",
       "    </tr>\n",
       "    <tr>\n",
       "      <th>4</th>\n",
       "      <td>48516</td>\n",
       "      <td>4.25</td>\n",
       "      <td>107</td>\n",
       "    </tr>\n",
       "  </tbody>\n",
       "</table>\n",
       "</div>"
      ],
      "text/plain": [
       "    item  avg_rating  count\n",
       "0    318        4.43    317\n",
       "1    858        4.29    192\n",
       "2   2959        4.27    218\n",
       "3   1221        4.26    129\n",
       "4  48516        4.25    107"
      ]
     },
     "execution_count": 3,
     "metadata": {},
     "output_type": "execute_result"
    }
   ],
   "source": [
    "# get a dictionary of item id to movie title\n",
    "dictionary = movies.filter(['movieId','title']).drop_duplicates()\n",
    "\n",
    "def item_to_movie_title(item_ids: list, dictionary=dictionary):\n",
    "    return (\n",
    "    dictionary\n",
    "        .query('movieId == @item_ids')\n",
    "        ['title'].tolist()\n",
    "    )\n",
    "\n",
    "def dense_df_preparation(data: pd.DataFrame): \n",
    "   \n",
    "    if len(data.columns) != 3: \n",
    "        print(\"\"\"\n",
    "            Be sure to have added a dataframe with only the columns: \n",
    "                users, items and ratings\n",
    "            They have to be sorted in the same way!\n",
    "        \"\"\")\n",
    "        return False\n",
    "    data.columns = ['user','item','rating']\n",
    "\n",
    "    return data\n",
    "\n",
    "def popularity_recommender(data: pd.DataFrame, min_n_ratings=100, n_pop_movies=5):\n",
    " \n",
    "    dense_df = dense_df_preparation(data)\n",
    "    if dense_df is False: \n",
    "        return\n",
    "    recommended_movies = (\n",
    "    dense_df\n",
    "        .groupby('item')\n",
    "        .agg(\n",
    "            avg_rating = ('rating','mean'),\n",
    "            count = ('item','count')\n",
    "            )\n",
    "        .query('count > @min_n_ratings')\n",
    "        .sort_values('avg_rating', ascending=False)\n",
    "        .head(n_pop_movies)\n",
    "        .reset_index()\n",
    "        .assign(avg_rating = lambda x: round(x['avg_rating'], 2))\n",
    "    )\n",
    "\n",
    "    return recommended_movies\n",
    "\n",
    "popular_movies = popularity_recommender(ratings.drop(columns='timestamp'))\n",
    "popular_movies"
   ]
  },
  {
   "cell_type": "markdown",
   "metadata": {},
   "source": [
    "### Implementation: Popularity chat bot"
   ]
  },
  {
   "cell_type": "code",
   "execution_count": 4,
   "metadata": {},
   "outputs": [
    {
     "name": "stdout",
     "output_type": "stream",
     "text": [
      "Hi! I'm your personal recommender. Let me recommend you a film!.\n",
      "You will probably like Shawshank Redemption, The (1994)\n"
     ]
    }
   ],
   "source": [
    "def popularity_chat_bot(): \n",
    "    print(\"Hi! I'm your personal recommender. Let me recommend you a film!.\")\n",
    "    recommendations = popularity_recommender(ratings.drop(columns='timestamp'))\n",
    "    popular_movie = item_to_movie_title(recommendations['item'].tolist())[0]\n",
    "    print(f\"You will probably like {popular_movie}\")\n",
    "    \n",
    "popularity_chat_bot()"
   ]
  },
  {
   "cell_type": "markdown",
   "metadata": {},
   "source": [
    "## Item-based"
   ]
  },
  {
   "cell_type": "markdown",
   "metadata": {},
   "source": [
    "The goal of the item-based recommender is that given a movie title, recommend me a similar movie. \n",
    "\n",
    "To achieve this goal, we are going do define some rules: \n",
    "\n",
    "* As the user will not know the move id, will have to find ask to introduce the movie title.\n",
    "* It is very likely that the movie titel will note be exactly as the one we have, so our function has to be flexible enough to find a title containing what the user is looking for. \n",
    "* To define which movie is similar to another, we will look for the correlationbetween the movies. "
   ]
  },
  {
   "cell_type": "markdown",
   "metadata": {},
   "source": [
    "### Model creation"
   ]
  },
  {
   "cell_type": "markdown",
   "metadata": {},
   "source": [
    "#### Create the movie finder function"
   ]
  },
  {
   "cell_type": "code",
   "execution_count": 6,
   "metadata": {},
   "outputs": [
    {
     "name": "stdin",
     "output_type": "stream",
     "text": [
      " titanic\n"
     ]
    },
    {
     "name": "stdout",
     "output_type": "stream",
     "text": [
      "Which one of the following movies do you mean? \n",
      "\tRaise the Titanic (1980) [type 1]\n",
      "\tTitanic (1953) [type 2]\n",
      "\tTitanic (1997) [type 3]\n",
      "\tTitanica (1992) [type 4]\n"
     ]
    },
    {
     "name": "stdin",
     "output_type": "stream",
     "text": [
      " 4\n"
     ]
    },
    {
     "name": "stdout",
     "output_type": "stream",
     "text": [
      "The selected movie is Titanica (1992)\n"
     ]
    },
    {
     "data": {
      "text/plain": [
       "4864"
      ]
     },
     "execution_count": 6,
     "metadata": {},
     "output_type": "execute_result"
    }
   ],
   "source": [
    "def movie_id_finder(): \n",
    "    \"\"\"\n",
    "    Given a title, find the closest movie title and return its id\n",
    "    \"\"\"  \n",
    "    title = input().lower()\n",
    "\n",
    "    fitlered_movies = (\n",
    "    dictionary\n",
    "        .assign(check = lambda x: x['title'].str.lower().str.contains(title))\n",
    "        .query('check')\n",
    "        .sort_values('title')\n",
    "    )\n",
    "    \n",
    "    if fitlered_movies.shape[0] > 1: \n",
    "        print(\"Which one of the following movies do you mean? \")\n",
    "        n_movie = 1\n",
    "        movies_titles = fitlered_movies['title'].tolist()\n",
    "        for movie in movies_titles: \n",
    "            print(\"\\t\" + movie + \" [type \" + str(n_movie) + \"]\")\n",
    "            n_movie += 1\n",
    "\n",
    "        n_movie = input()\n",
    "        selected_title = movies_titles[int(n_movie) - 1]\n",
    "        fitlered_movies = fitlered_movies.query('title == @selected_title')\n",
    "    elif fitlered_movies.shape[0] == 0: \n",
    "        print('No movies has been found')\n",
    "        return False\n",
    "    \n",
    "    print(f\"The selected movie is {fitlered_movies['title'].values[0]}\")\n",
    "    return fitlered_movies['movieId'].values[0]\n",
    "\n",
    "movie_id_finder()"
   ]
  },
  {
   "cell_type": "markdown",
   "metadata": {},
   "source": [
    "#### Item-based recommender"
   ]
  },
  {
   "cell_type": "code",
   "execution_count": 19,
   "metadata": {},
   "outputs": [],
   "source": [
    "def sparse_df_preparation(data: pd.DataFrame): \n",
    "    \"\"\"\n",
    "    Given a data return an sparse matrix with index user, columns items\n",
    "    and values rating\n",
    "    \"\"\"\n",
    "    dense_df = dense_df_preparation(data)\n",
    "    if dense_df is False: \n",
    "        return False\n",
    "    \n",
    "    sparse_df = dense_df.pivot('user','item','rating')\n",
    "\n",
    "    return sparse_df\n",
    "\n",
    "import warnings\n",
    "\n",
    "def item_based_recommender(data: pd.DataFrame, item, n=5):\n",
    "\n",
    "    sparse_df = sparse_df_preparation(data)\n",
    "    if sparse_df is False: \n",
    "        return\n",
    "    warnings.filterwarnings('ignore')\n",
    "    correlated_items = sparse_df.corrwith(sparse_df[item])\n",
    "    if np.isnan(correlated_items.values).all(): \n",
    "        print('No correlation with any other film!')\n",
    "        return\n",
    "    else: \n",
    "        top_corr_item = (\n",
    "        correlated_items\n",
    "            .sort_values(ascending=False)\n",
    "            .reset_index()\n",
    "            .query('item != @item')\n",
    "            .head(n)            \n",
    "            )\n",
    "        return top_corr_item['item'].tolist()\n"
   ]
  },
  {
   "cell_type": "markdown",
   "metadata": {},
   "source": [
    "### Implementation: Item-based chat bot"
   ]
  },
  {
   "cell_type": "code",
   "execution_count": 8,
   "metadata": {},
   "outputs": [
    {
     "name": "stdout",
     "output_type": "stream",
     "text": [
      "Hi! I'm your personal recommender. Tell me a film you've liked.\n"
     ]
    },
    {
     "name": "stdin",
     "output_type": "stream",
     "text": [
      " moana\n"
     ]
    },
    {
     "name": "stdout",
     "output_type": "stream",
     "text": [
      "The selected movie is Moana (2016)\n",
      "You will probably like Men in Black II (a.k.a. MIIB) (a.k.a. MIB 2) (2002)\n"
     ]
    }
   ],
   "source": [
    "def item_based_chat_bot(): \n",
    "    print(\"Hi! I'm your personal recommender. Tell me a film you've liked.\")\n",
    "    movie_id = movie_id_finder()\n",
    "    recommendations = item_based_recommender(\n",
    "        ratings.drop(columns='timestamp'), item=movie_id)\n",
    "    if not recommendations: \n",
    "        return\n",
    "    recommended_movie = item_to_movie_title(recommendations)[0]\n",
    "    print(f\"You will probably like {recommended_movie}\")\n",
    "    \n",
    "item_based_chat_bot()"
   ]
  },
  {
   "cell_type": "markdown",
   "metadata": {},
   "source": [
    "## User-based"
   ]
  },
  {
   "cell_type": "markdown",
   "metadata": {},
   "source": [
    "Steps to build a user based recommender system:\n",
    "    \n",
    "1. We know the items that all users have rated and the ones that have not and if they like or not (value of the rating).\n",
    "2. Based on that info, I can look at how similar one student is to the others. To achieve it, we can use the cosine distance. It will return us a value between 0 and 1; 0 will be closer to our user, and 1 would be far away from our user. To transform them as a similitude metric, we can apply: $cosine\\ similitude = 1 - cosine\\ distance$. Then the users closer to each other will have a value closer to 1, and the other will be closer to 0. To know more information about cosine distance, I recommend to watch the following [video](https://www.youtube.com/watch?v=ieMjGVYw9ag).\n",
    "\n",
    "3. Once we have found the most similar user, we will ponderate the results to see which item has not been seen by our user that is closer to its ratings. \n"
   ]
  },
  {
   "cell_type": "markdown",
   "metadata": {},
   "source": [
    "## Model creation"
   ]
  },
  {
   "cell_type": "markdown",
   "metadata": {},
   "source": [
    "#### Split the sparsed matrix between train and test"
   ]
  },
  {
   "cell_type": "code",
   "execution_count": 9,
   "metadata": {},
   "outputs": [],
   "source": [
    "from sklearn.model_selection import train_test_split\n",
    "\n",
    "def train_test_creation(data, random_state=1, train_size=.8):\n",
    "    \"\"\"\n",
    "    Given a ratings data, transform it into a sparse matrix and return\n",
    "    a train, test, train_pos, test_pos (in that order)\n",
    "    \"\"\"\n",
    "    sparse_df = sparse_df_preparation(data)\n",
    "    # locate all positions with a rating\n",
    "    ratings_pos = pd.DataFrame(\n",
    "       \n",
    "        np.argwhere(~np.isnan(np.array(sparse_df)))\n",
    "    )\n",
    "\n",
    "    train_pos, test_pos = train_test_split(\n",
    "        ratings_pos, random_state=random_state, train_size=train_size)\n",
    "\n",
    "    \n",
    "    train = np.zeros(sparse_df.shape)\n",
    "  \n",
    "    for pos in train_pos.values: \n",
    "        index = pos[0]\n",
    "        col = pos[1]\n",
    "        train[index, col] = sparse_df.iloc[index, col]\n",
    "    train = pd.DataFrame(\n",
    "        train, \n",
    "        columns=sparse_df.columns, \n",
    "        index=sparse_df.index\n",
    "        )\n",
    "\n",
    "    # now it is time for the test set. We will follow the same process\n",
    "    test = np.zeros(sparse_df.shape)\n",
    "    for pos in test_pos.values: \n",
    "        index = pos[0]\n",
    "        col = pos[1]\n",
    "        test[index, col] = sparse_df.iloc[index, col]\n",
    "    test = pd.DataFrame(\n",
    "        test, \n",
    "        columns=sparse_df.columns, \n",
    "        index=sparse_df.index\n",
    "        )\n",
    "\n",
    "    return train, test, train_pos, test_pos\n",
    "\n",
    "rdy_rat = ratings.drop(columns='timestamp')\n",
    "train, test, train_pos, test_pos = train_test_creation(rdy_rat)"
   ]
  },
  {
   "cell_type": "markdown",
   "metadata": {},
   "source": [
    "### Find all the user similitudes with the train sparsed data"
   ]
  },
  {
   "cell_type": "code",
   "execution_count": 10,
   "metadata": {},
   "outputs": [],
   "source": [
    "from sklearn.metrics.pairwise import cosine_similarity\n",
    "# train the model\n",
    "train_similitudes = pd.DataFrame(\n",
    "    cosine_similarity(train), \n",
    "    columns=train.index, index=train.index\n",
    "    )"
   ]
  },
  {
   "cell_type": "markdown",
   "metadata": {},
   "source": [
    "### Create our recommender"
   ]
  },
  {
   "cell_type": "code",
   "execution_count": 11,
   "metadata": {},
   "outputs": [],
   "source": [
    "def user_based_recommender(index_name, column_name, sim_df, sparse_df): \n",
    "    results = (\n",
    "    pd.DataFrame({\n",
    "        'ratings': sparse_df.loc[:,column_name], \n",
    "        'similitudes' : sim_df.loc[index_name,:].tolist()\n",
    "    })\n",
    "        .query('ratings != 0')\n",
    "        .assign(weighted_ratings = lambda x: x.ratings * x.similitudes)\n",
    "        .agg({\n",
    "            'weighted_ratings':'sum', \n",
    "            'similitudes':'sum'\n",
    "        })\n",
    "    )\n",
    "    pred_rating = (results['weighted_ratings'] / results['similitudes'])\n",
    "    return pred_rating\n",
    "# user_based_recommender(353, 6416, train_similitudes, test)"
   ]
  },
  {
   "cell_type": "markdown",
   "metadata": {},
   "source": [
    "### Model evaluation"
   ]
  },
  {
   "cell_type": "code",
   "execution_count": 12,
   "metadata": {},
   "outputs": [],
   "source": [
    "def round_off_rating(number):\n",
    " \n",
    "    return round(number * 2) / 2\n",
    "\n",
    "predictions = [\n",
    "    round_off_rating(\n",
    "        user_based_recommender(\n",
    "            test.index[pos[0]], test.columns[pos[1]], train_similitudes, test\n",
    "            )\n",
    "        ) \n",
    "    for pos in test_pos.values]\n",
    "true_values = [test.iloc[pos[0],pos[1]] for pos in test_pos.values]"
   ]
  },
  {
   "cell_type": "code",
   "execution_count": 13,
   "metadata": {},
   "outputs": [
    {
     "name": "stdout",
     "output_type": "stream",
     "text": [
      "\n",
      "        MSE: 0.29694317731059106\n",
      "        RMSE: 0.544924928142025\n",
      "        MAE: 0.3507784609282031\n",
      "        MAPE: 0.1473720548975904\n",
      "        \n",
      "Head() plot data:\n",
      "   preds  true  count_perc\n",
      "0    0.5   0.5  100.000000\n",
      "1    1.0   0.5   25.000000\n",
      "2    1.0   1.0   75.000000\n",
      "3    1.5   0.5   14.626866\n",
      "4    1.5   1.0   45.074627\n",
      "5    1.5   1.5   35.522388\n",
      "6    1.5   2.0    4.776119\n",
      "7    2.0   0.5    5.529954\n",
      "8    2.0   1.0   15.437788\n",
      "9    2.0   1.5   11.290323\n"
     ]
    },
    {
     "data": {
      "image/png": "[encoded data removed]",
      "text/plain": [
       "<Figure size 576x576 with 1 Axes>"
      ]
     },
     "metadata": {
      "needs_background": "light"
     },
     "output_type": "display_data"
    }
   ],
   "source": [
    "from sklearn.metrics import mean_squared_error\n",
    "from sklearn.metrics import mean_absolute_error\n",
    "from sklearn.metrics import mean_absolute_percentage_error\n",
    "def predictions_analysis(y_true, preds): \n",
    "    print(\n",
    "        f\"\"\"\n",
    "        MSE: {mean_squared_error(y_true, preds)}\n",
    "        RMSE: {mean_squared_error(y_true, preds)**0.5}\n",
    "        MAE: {mean_absolute_error(y_true, preds)}\n",
    "        MAPE: {mean_absolute_percentage_error(y_true, preds)}\n",
    "        \"\"\"\n",
    "    )\n",
    "\n",
    "    p_df = (\n",
    "    pd.DataFrame({\n",
    "        'preds':preds, \n",
    "        'true':y_true\n",
    "        })\n",
    "        .groupby(['preds','true'])['preds']\n",
    "        .count()\n",
    "        .groupby(level=0)\n",
    "        .apply(lambda x: 100 * x / float(x.sum()))\n",
    "        .reset_index(name='count_perc'))#.reset_index(name='count')\n",
    "    print('Head() plot data:')\n",
    "    print(p_df.head(10))\n",
    "    plt.subplots(figsize=(8, 8))\n",
    "    sns.scatterplot(\n",
    "        data=p_df, x='preds',y='true', \n",
    "        size='count_perc', hue='count_perc', sizes=(20, 2000)\n",
    "        )\n",
    "    sns.lineplot(x=[0,5], y=[0,5], color='lightgrey')\n",
    "    plt.title('Percentage of observations by each predicted\\n rating compared to true rating')\n",
    "    plt.xlabel('Predicted ratings')\n",
    "    plt.ylabel('True ratings')\n",
    "    plt.legend([],[], frameon=False)\n",
    "    sns.despine()\n",
    "    plt.show()\n",
    "\n",
    "predictions_analysis(true_values, predictions)"
   ]
  },
  {
   "cell_type": "markdown",
   "metadata": {},
   "source": [
    "A further improvement would be to try to predict our ratings only to the most similiar users (define a number of neighbours to look at)."
   ]
  },
  {
   "cell_type": "markdown",
   "metadata": {},
   "source": [
    "User-based recommender creation"
   ]
  },
  {
   "cell_type": "code",
   "execution_count": 16,
   "metadata": {},
   "outputs": [],
   "source": [
    "import sys\n",
    "def get_user_based_recommendations(data, user, top_n=5):\n",
    "\n",
    "    sparse_df = sparse_df_preparation(data).replace(np.nan, 0)\n",
    "    if user not in sparse_df.index: \n",
    "        print('User not found!')\n",
    "        return False\n",
    "  \n",
    "    similitudes_df = pd.DataFrame(\n",
    "        cosine_similarity(sparse_df), \n",
    "        columns=sparse_df.index, index=sparse_df.index\n",
    "        )\n",
    "\n",
    "    non_rated_movies = (\n",
    "        sparse_df\n",
    "        .loc[user, :]\n",
    "        .reset_index(name='user_rating')\n",
    "        .query('user_rating == 0')\n",
    "        )\n",
    "\n",
    "    pred_rat = []\n",
    "    i = 0\n",
    "    n=len(non_rated_movies['item'])\n",
    "    for item in non_rated_movies['item'].tolist():\n",
    "        pred_rat.append(\n",
    "            user_based_recommender(user, item, similitudes_df, sparse_df)\n",
    "            )\n",
    "       \n",
    "    # add the predicted ratings and sort them\n",
    "    top_pred_ratings = (\n",
    "    non_rated_movies\n",
    "        .assign(pred = pred_rat)\n",
    "        .sort_values('pred', ascending=False)\n",
    "        .head(top_n)\n",
    "        )\n",
    "    # return a list of the movies id with a higer predicted rating\n",
    "    return top_pred_ratings['item'].tolist()\n",
    "\n",
    "# recommendations = get_user_based_recommendations(rdy_rat, 70)\n",
    "# item_to_movie_title(recommendations)"
   ]
  },
  {
   "cell_type": "markdown",
   "metadata": {},
   "source": [
    "## Model Implementation"
   ]
  },
  {
   "cell_type": "code",
   "execution_count": 17,
   "metadata": {},
   "outputs": [
    {
     "name": "stdout",
     "output_type": "stream",
     "text": [
      "Hi! I'm your personal recommender. Can you remember me your user id?\n"
     ]
    },
    {
     "name": "stdin",
     "output_type": "stream",
     "text": [
      " 353\n"
     ]
    },
    {
     "name": "stdout",
     "output_type": "stream",
     "text": [
      "Based on your previous ratings, let me recommend you one film!\n",
      "\n",
      "You will probably like My Man Godfrey (1957)\n"
     ]
    }
   ],
   "source": [
    "def user_based_chat_bot(): \n",
    "    print(\"Hi! I'm your personal recommender. Can you remember me your user id?\")\n",
    "    # help user to find the movie name\n",
    "    user_id = int(input())\n",
    "    # find out the most correlated films to the given movie id\n",
    "    print('Based on your previous ratings, let me recommend you one film!')\n",
    "    recommendations = get_user_based_recommendations(\n",
    "        ratings.drop(columns='timestamp'), \n",
    "        user=user_id,\n",
    "        top_n=1)\n",
    "    if not recommendations: \n",
    "        return\n",
    "    # get top movie title\n",
    "    recommended_movie = item_to_movie_title(recommendations)[0]\n",
    "    print(f\"\\nYou will probably like {recommended_movie}\")\n",
    "    \n",
    "user_based_chat_bot()"
   ]
  }
 ],
 "metadata": {
  "interpreter": {
   "hash": "8557169e40f946b7b2d53c2523703920421f68fc791b17347e1c368925750859"
  },
  "kernelspec": {
   "display_name": "Python 3",
   "language": "python",
   "name": "python3"
  },
  "language_info": {
   "codemirror_mode": {
    "name": "ipython",
    "version": 3
   },
   "file_extension": ".py",
   "mimetype": "text/x-python",
   "name": "python",
   "nbconvert_exporter": "python",
   "pygments_lexer": "ipython3",
   "version": "3.8.8"
  }
 },
 "nbformat": 4,
 "nbformat_minor": 4
}
