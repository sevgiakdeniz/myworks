{
 "cells": [
  {
   "cell_type": "markdown",
   "metadata": {},
   "source": [
    "# Intro to inferential statistics: the Central Limit Therem"
   ]
  },
  {
   "cell_type": "code",
   "execution_count": 5,
   "metadata": {},
   "outputs": [],
   "source": [
    "import numpy as np\n",
    "import pandas as pd\n",
    "import scipy.stats as stats\n",
    "import random"
   ]
  },
  {
   "cell_type": "markdown",
   "metadata": {},
   "source": [
    "## Generate a population\n",
    "\n",
    "We  artificially generate 10,000 random observations that follow a weird distribution. This is going to be our population.\n",
    "\n",
    "Note: we generally don't have access to data about the entire population. We only do this for learning purposes, to demonstrate where do some concepts emerge from."
   ]
  },
  {
   "cell_type": "code",
   "execution_count": 6,
   "metadata": {},
   "outputs": [],
   "source": [
    "# some of the observations follow an exponential dist\n",
    "r1 = stats.expon.rvs(size=4000, random_state=1000)\n",
    "\n",
    "# some follow a normal dist\n",
    "r2 = stats.norm.rvs(loc=2, scale=1.5, size=500, random_state=847)\n",
    "\n",
    "# some follow a constant dist\n",
    "r3 = stats.uniform.rvs(loc=-2, scale=9, size=4000, random_state=128)\n",
    "\n",
    "# there's a weird spike at some point\n",
    "r4 = stats.uniform.rvs(loc=5.5, scale=1, size=4000, random_state=128)\n",
    "\n",
    "pop = pd.Series(np.concatenate([r1, r2, r3, r4]))\n",
    "\n",
    "pop = np.abs(pop) + 0.1"
   ]
  },
  {
   "cell_type": "markdown",
   "metadata": {},
   "source": [
    "Here's the distribution of our population:"
   ]
  },
  {
   "cell_type": "code",
   "execution_count": 7,
   "metadata": {},
   "outputs": [
    {
     "data": {
      "image/png": "[encoded data removed]",
      "text/plain": [
       "<Figure size 432x288 with 1 Axes>"
      ]
     },
     "metadata": {
      "needs_background": "light"
     },
     "output_type": "display_data"
    }
   ],
   "source": [
    "pop.hist(bins=50);"
   ]
  },
  {
   "cell_type": "code",
   "execution_count": 8,
   "metadata": {},
   "outputs": [
    {
     "data": {
      "text/plain": [
       "3.387146352373622"
      ]
     },
     "execution_count": 8,
     "metadata": {},
     "output_type": "execute_result"
    }
   ],
   "source": [
    "# Population mean:\n",
    "pop_mean = np.mean(pop)\n",
    "pop_mean"
   ]
  },
  {
   "cell_type": "code",
   "execution_count": 9,
   "metadata": {},
   "outputs": [
    {
     "data": {
      "text/plain": [
       "2.4383710869547723"
      ]
     },
     "execution_count": 9,
     "metadata": {},
     "output_type": "execute_result"
    }
   ],
   "source": [
    "# Population standard deviation:\n",
    "pop_std = np.std(pop)\n",
    "pop_std"
   ]
  },
  {
   "cell_type": "markdown",
   "metadata": {},
   "source": [
    "Let's take a sample from our population."
   ]
  },
  {
   "cell_type": "code",
   "execution_count": 6,
   "metadata": {},
   "outputs": [
    {
     "data": {
      "text/plain": [
       "3802     0.861175\n",
       "957      0.438652\n",
       "6571     0.547272\n",
       "9897     6.345165\n",
       "2164     1.330450\n",
       "8145     1.843843\n",
       "4616     1.364181\n",
       "6315     3.839597\n",
       "1421     0.465314\n",
       "7733     1.242397\n",
       "7299     3.866450\n",
       "9768     6.362500\n",
       "8461     0.602888\n",
       "6729     1.233476\n",
       "4844     6.716101\n",
       "8388     1.606900\n",
       "3843     0.576907\n",
       "591      0.399612\n",
       "8637     6.277815\n",
       "10090    6.078741\n",
       "11522    6.028725\n",
       "9640     6.535160\n",
       "8488     3.549672\n",
       "9025     5.926596\n",
       "3242     1.630294\n",
       "3145     0.916438\n",
       "10999    6.548737\n",
       "2512     0.465762\n",
       "9976     6.427194\n",
       "2682     1.161607\n",
       "1183     1.075996\n",
       "10787    6.192950\n",
       "2947     0.728226\n",
       "9280     5.627765\n",
       "5275     4.589773\n",
       "3674     1.397651\n",
       "2785     2.230015\n",
       "2886     0.227609\n",
       "7167     0.857430\n",
       "11048    6.436175\n",
       "4422     2.816546\n",
       "6682     5.883390\n",
       "10991    6.315292\n",
       "12175    5.600536\n",
       "7753     1.672898\n",
       "6552     1.882510\n",
       "562      0.299647\n",
       "6047     1.560643\n",
       "2683     0.151006\n",
       "12415    6.295093\n",
       "dtype: float64"
      ]
     },
     "execution_count": 6,
     "metadata": {},
     "output_type": "execute_result"
    }
   ],
   "source": [
    "# sample of size 50\n",
    "sample = pop.sample(50, random_state=9)\n",
    "sample"
   ]
  },
  {
   "cell_type": "markdown",
   "metadata": {},
   "source": [
    "The mean of the sample is similar but not equal to the mean of the population. By the way, the mean of the sample is called... well, **sample mean**."
   ]
  },
  {
   "cell_type": "code",
   "execution_count": 7,
   "metadata": {},
   "outputs": [
    {
     "data": {
      "text/plain": [
       "3.0606154642076495"
      ]
     },
     "execution_count": 7,
     "metadata": {},
     "output_type": "execute_result"
    }
   ],
   "source": [
    "# Sample mean\n",
    "np.mean(sample)"
   ]
  },
  {
   "cell_type": "code",
   "execution_count": 8,
   "metadata": {},
   "outputs": [
    {
     "data": {
      "text/plain": [
       "2.4693495546872994"
      ]
     },
     "execution_count": 8,
     "metadata": {},
     "output_type": "execute_result"
    }
   ],
   "source": [
    "# The same happens with the sample standard deviation\n",
    "np.std(sample, ddof=1)"
   ]
  },
  {
   "cell_type": "markdown",
   "metadata": {},
   "source": [
    "If we take a diferent sample, the parameters will vary:"
   ]
  },
  {
   "cell_type": "code",
   "execution_count": 9,
   "metadata": {},
   "outputs": [
    {
     "data": {
      "text/plain": [
       "3.3525982314987193"
      ]
     },
     "execution_count": 9,
     "metadata": {},
     "output_type": "execute_result"
    }
   ],
   "source": [
    "# sample of size n\n",
    "sample_size = 50\n",
    "sample = pop.sample(sample_size, random_state=314159)\n",
    "\n",
    "# sample mean\n",
    "np.mean(sample)"
   ]
  },
  {
   "cell_type": "markdown",
   "metadata": {},
   "source": [
    "Now we take 10,000 samples, each one of size 50"
   ]
  },
  {
   "cell_type": "code",
   "execution_count": 10,
   "metadata": {},
   "outputs": [],
   "source": [
    "samples = []\n",
    "number_of_samples = 10000\n",
    "sample_size = 50\n",
    "\n",
    "\n",
    "for number in range(number_of_samples): \n",
    "    simple_random_sample = pop.sample(n=sample_size)\n",
    "    samples.append([simple_random_sample])"
   ]
  },
  {
   "cell_type": "code",
   "execution_count": 11,
   "metadata": {},
   "outputs": [
    {
     "data": {
      "text/plain": [
       "2.5789054809840075"
      ]
     },
     "execution_count": 11,
     "metadata": {},
     "output_type": "execute_result"
    }
   ],
   "source": [
    "np.mean(samples[1])"
   ]
  },
  {
   "cell_type": "markdown",
   "metadata": {},
   "source": [
    "Let's take the means of all those samples"
   ]
  },
  {
   "cell_type": "code",
   "execution_count": 12,
   "metadata": {},
   "outputs": [],
   "source": [
    "sample_means = [np.mean(s) for s in samples]"
   ]
  },
  {
   "cell_type": "markdown",
   "metadata": {},
   "source": [
    "The result is the **sampling distribution** of the **sample means**:"
   ]
  },
  {
   "cell_type": "code",
   "execution_count": 13,
   "metadata": {},
   "outputs": [
    {
     "data": {
      "image/png": "[encoded data removed]",
      "text/plain": [
       "<Figure size 432x288 with 1 Axes>"
      ]
     },
     "metadata": {
      "needs_background": "light"
     },
     "output_type": "display_data"
    }
   ],
   "source": [
    "sampling_dist_sample_means=pd.Series(sample_means)\n",
    "\n",
    "sampling_dist_sample_means.hist(bins=30);"
   ]
  },
  {
   "cell_type": "markdown",
   "metadata": {},
   "source": [
    "If the samples are random, independent and large enough (rule of thumb: at least of size 30), and the population does not contain very extreme outliers, the sampling distribution will ressemble a normal distribution. This is the essence of the **Central Limit Theorem**."
   ]
  },
  {
   "cell_type": "markdown",
   "metadata": {
    "tags": []
   },
   "source": [
    "This is not super important, but in case you wanna double check this distribution follows a normal distribution, you can use a \"Quantile-quantile plot\".\n",
    "\n",
    "Learn more about qqplots here:\n",
    "https://www.statisticshowto.com/q-q-plots/#:~:text=Q%20Q%20Plots%20 \n"
   ]
  },
  {
   "cell_type": "code",
   "execution_count": 14,
   "metadata": {
    "tags": []
   },
   "outputs": [
    {
     "data": {
      "image/png": "[encoded data removed]",
      "text/plain": [
       "<Figure size 432x288 with 1 Axes>"
      ]
     },
     "metadata": {
      "needs_background": "light"
     },
     "output_type": "display_data"
    }
   ],
   "source": [
    "import scipy.stats as stats\n",
    "import matplotlib.pyplot as plt\n",
    "\n",
    "stats.probplot(sampling_dist_sample_means,\n",
    "               dist=\"norm\",\n",
    "               plot=plt);"
   ]
  },
  {
   "cell_type": "markdown",
   "metadata": {},
   "source": [
    "The mean of the sampling distribution of the sample means should be pretty close to the true mean of the population:"
   ]
  },
  {
   "cell_type": "code",
   "execution_count": 15,
   "metadata": {},
   "outputs": [
    {
     "data": {
      "text/plain": [
       "3.387146352373622"
      ]
     },
     "execution_count": 15,
     "metadata": {},
     "output_type": "execute_result"
    }
   ],
   "source": [
    "pop_mean"
   ]
  },
  {
   "cell_type": "code",
   "execution_count": 16,
   "metadata": {},
   "outputs": [
    {
     "name": "stdout",
     "output_type": "stream",
     "text": [
      "3.3877198972134623\n",
      "-0.0005735448398405119\n"
     ]
    }
   ],
   "source": [
    "mean_sdsm = np.mean(sampling_dist_sample_means)\n",
    "print(mean_sdsm)\n",
    "print(pop_mean - mean_sdsm)"
   ]
  },
  {
   "cell_type": "markdown",
   "metadata": {},
   "source": [
    "But we can do better than that: we know that in a normal distribution, 95% of the values fall within 2 standard deviations of the mean. Let's check that:"
   ]
  },
  {
   "cell_type": "code",
   "execution_count": 17,
   "metadata": {},
   "outputs": [
    {
     "data": {
      "text/plain": [
       "0.34756030415223166"
      ]
     },
     "execution_count": 17,
     "metadata": {},
     "output_type": "execute_result"
    }
   ],
   "source": [
    "np.std(sampling_dist_sample_means)"
   ]
  },
  {
   "cell_type": "code",
   "execution_count": 18,
   "metadata": {},
   "outputs": [
    {
     "name": "stdout",
     "output_type": "stream",
     "text": [
      "2.69 - 4.08\n"
     ]
    }
   ],
   "source": [
    "# Standard deviation of the samp. dist. of sample means\n",
    "std_sdsm = np.std(sampling_dist_sample_means)\n",
    "\n",
    "# The lower and upper bound of the interval that should contain\n",
    "# ~95% of the sample means\n",
    "lower_bound = mean_sdsm - 2*std_sdsm\n",
    "upper_bound = mean_sdsm + 2*std_sdsm\n",
    "\n",
    "print(round(lower_bound, 2), \"-\", round(upper_bound, 2))"
   ]
  },
  {
   "cell_type": "code",
   "execution_count": 19,
   "metadata": {},
   "outputs": [
    {
     "name": "stdout",
     "output_type": "stream",
     "text": [
      "Percentage of sample means within 2 std of the mean = 95.61\n"
     ]
    }
   ],
   "source": [
    "# How many of the sample means fall within this interval?\n",
    "count = 0\n",
    "for i in sample_means:\n",
    "    if i > lower_bound and i < upper_bound:\n",
    "        count +=1\n",
    "print(f\"Percentage of sample means within 2 std of the mean = {count/len(sample_means)*100}\")"
   ]
  },
  {
   "cell_type": "markdown",
   "metadata": {},
   "source": [
    "Another cool property of the sampling distribution of the sample means is that its *standard deviation* is equal to the standard deviation of the population divided by the square root of n. \n",
    "\n",
    "Let's see how this checks out with our data:"
   ]
  },
  {
   "cell_type": "code",
   "execution_count": 20,
   "metadata": {},
   "outputs": [
    {
     "data": {
      "text/plain": [
       "0.34756030415223166"
      ]
     },
     "execution_count": 20,
     "metadata": {},
     "output_type": "execute_result"
    }
   ],
   "source": [
    "# standard deviation of the sample distribution of sample means\n",
    "std_sdsm"
   ]
  },
  {
   "cell_type": "code",
   "execution_count": 21,
   "metadata": {
    "scrolled": true
   },
   "outputs": [
    {
     "data": {
      "text/plain": [
       "0.3448377461269864"
      ]
     },
     "execution_count": 21,
     "metadata": {},
     "output_type": "execute_result"
    }
   ],
   "source": [
    "# population standard deviation / square root of population size\n",
    "pop_std/np.sqrt(sample_size)"
   ]
  },
  {
   "cell_type": "code",
   "execution_count": 22,
   "metadata": {},
   "outputs": [
    {
     "data": {
      "text/plain": [
       "0.32816046296788187"
      ]
     },
     "execution_count": 22,
     "metadata": {},
     "output_type": "execute_result"
    }
   ],
   "source": [
    "np.std(sample)/np.sqrt(sample_size)"
   ]
  },
  {
   "cell_type": "code",
   "execution_count": 23,
   "metadata": {},
   "outputs": [
    {
     "data": {
      "text/plain": [
       "0.32816046296788187"
      ]
     },
     "execution_count": 23,
     "metadata": {},
     "output_type": "execute_result"
    }
   ],
   "source": [
    "stats.sem(sample, \n",
    "          ddof=0)"
   ]
  },
  {
   "cell_type": "markdown",
   "metadata": {},
   "source": [
    "The *standard deviation of the sampling distribution of the sample means* is also called the **standard error of the mean** and we'll use it in the next lessons.\n",
    "\n",
    "Before moving on, repeat the experiment with diferent sample sizes (both smaller and greater), and see what happens."
   ]
  },
  {
   "cell_type": "markdown",
   "metadata": {},
   "source": [
    "## Squirrels example\n",
    "\n",
    "Let's assume that the 'pop' values represent the weights of squirrels. We go to the forest, take a random sample of 50 squirrels and register their weight:"
   ]
  },
  {
   "cell_type": "code",
   "execution_count": 24,
   "metadata": {},
   "outputs": [],
   "source": [
    "squirrels = pop.sample(50, random_state=1990)"
   ]
  },
  {
   "cell_type": "code",
   "execution_count": 25,
   "metadata": {},
   "outputs": [
    {
     "data": {
      "image/png": "[encoded data removed]",
      "text/plain": [
       "<Figure size 432x288 with 1 Axes>"
      ]
     },
     "metadata": {
      "needs_background": "light"
     },
     "output_type": "display_data"
    }
   ],
   "source": [
    "# this is the distribution of the sample\n",
    "squirrels.hist();"
   ]
  },
  {
   "cell_type": "code",
   "execution_count": 26,
   "metadata": {},
   "outputs": [
    {
     "data": {
      "text/plain": [
       "3.3492958902381855"
      ]
     },
     "execution_count": 26,
     "metadata": {},
     "output_type": "execute_result"
    }
   ],
   "source": [
    "# We wonder if the mean of the weights of the squirrels is\n",
    "# close to the 'true' mean of the population (which we can't measure)\n",
    "np.mean(squirrels)"
   ]
  },
  {
   "cell_type": "markdown",
   "metadata": {},
   "source": [
    "The standard error of the mean is an estimate of how far the sample mean is likely to be from the population mean.\n",
    "\n",
    "It is an estimate of the standard deviation of the distribution of the sample means, which, as we've seen, follows a normal ditribution."
   ]
  },
  {
   "cell_type": "code",
   "execution_count": 27,
   "metadata": {},
   "outputs": [
    {
     "data": {
      "text/plain": [
       "0.3416431445218166"
      ]
     },
     "execution_count": 27,
     "metadata": {},
     "output_type": "execute_result"
    }
   ],
   "source": [
    "# standard error of the mean\n",
    "np.std(squirrels)/np.sqrt(len(squirrels))"
   ]
  },
  {
   "cell_type": "code",
   "execution_count": 28,
   "metadata": {},
   "outputs": [
    {
     "data": {
      "text/plain": [
       "0.34164314452181666"
      ]
     },
     "execution_count": 28,
     "metadata": {},
     "output_type": "execute_result"
    }
   ],
   "source": [
    "# using scipy you can also calculate the standard error of the mean\n",
    "stats.sem(squirrels, \n",
    "          ddof=0) # degrees of freedom. the default is 1,\n",
    "                  # which results in a more conservative estimate"
   ]
  },
  {
   "cell_type": "markdown",
   "metadata": {},
   "source": [
    "We know that no matter the distribution of our sample or the population, the sampling distribution of the sample means is normal (Central Limit Theorem).\n",
    "\n",
    "Knowing that, we can use the properties of the normal distribution to gain information about our sample and how much it might differ from the true population.\n",
    "\n",
    "In a normal distribution, 95% of the observations fall within 2 standard deviations above and below the mean.\n",
    "\n",
    "We have the mean of the sample. And we also computed the standard error, which is an estimate of the standard deviation of the sample means.\n",
    "\n",
    "With those values, we can compute the confidence interval.\n",
    "\n",
    "The **confidence interval** is a 'plausible range of values' for a population parameter (in this case, the mean).\n"
   ]
  },
  {
   "cell_type": "code",
   "execution_count": 29,
   "metadata": {},
   "outputs": [
    {
     "data": {
      "text/plain": [
       "4.039519273773249"
      ]
     },
     "execution_count": 29,
     "metadata": {},
     "output_type": "execute_result"
    }
   ],
   "source": [
    "# upper bound of the confidence interval\n",
    "np.mean(squirrels) + stats.sem(squirrels)*2"
   ]
  },
  {
   "cell_type": "code",
   "execution_count": 30,
   "metadata": {},
   "outputs": [
    {
     "data": {
      "text/plain": [
       "2.6590725067031222"
      ]
     },
     "execution_count": 30,
     "metadata": {},
     "output_type": "execute_result"
    }
   ],
   "source": [
    "# lower bound of the confidence interval\n",
    "np.mean(squirrels) - stats.sem(squirrels)*2"
   ]
  },
  {
   "cell_type": "code",
   "execution_count": 31,
   "metadata": {},
   "outputs": [
    {
     "data": {
      "text/plain": [
       "(2.672889403730135, 4.025702376746236)"
      ]
     },
     "execution_count": 31,
     "metadata": {},
     "output_type": "execute_result"
    }
   ],
   "source": [
    "# using scipy to calculate the confidence interval:\n",
    "stats.norm.interval(0.95, # the confidence level\n",
    "                 loc=np.mean(squirrels), # mean of our sample\n",
    "                 scale=stats.sem(squirrels)) # standard error of the mean"
   ]
  },
  {
   "cell_type": "code",
   "execution_count": 32,
   "metadata": {},
   "outputs": [
    {
     "data": {
      "text/plain": [
       "(2.6557679813294803, 4.042823799146891)"
      ]
     },
     "execution_count": 32,
     "metadata": {},
     "output_type": "execute_result"
    }
   ],
   "source": [
    "# using a t distribution:\n",
    "stats.t.interval(0.95, # the confidence level\n",
    "                 len(squirrels)-1, # degrees of freedom = sample size - 1\n",
    "                 loc=np.mean(squirrels), # mean of our sample\n",
    "                 scale=stats.sem(squirrels)) # standard error of the mean"
   ]
  },
  {
   "cell_type": "markdown",
   "metadata": {},
   "source": [
    "In the second interval we've used a t distribution, instead of a normal distribution, to get a more conservative estimate of the confidence intermal.\n",
    "\n",
    "A t distribution is 'flatter' and has 'fat tails' for small populations, and is indistinguishable from a normal distribution for bigger populations.\n",
    "\n",
    "The confidence interval is slightly thinner if we use a normal distribution."
   ]
  },
  {
   "cell_type": "code",
   "execution_count": null,
   "metadata": {},
   "outputs": [],
   "source": []
  },
  {
   "cell_type": "code",
   "execution_count": null,
   "metadata": {},
   "outputs": [],
   "source": []
  }
 ],
 "metadata": {
  "kernelspec": {
   "display_name": "Python 3",
   "language": "python",
   "name": "python3"
  },
  "language_info": {
   "codemirror_mode": {
    "name": "ipython",
    "version": 3
   },
   "file_extension": ".py",
   "mimetype": "text/x-python",
   "name": "python",
   "nbconvert_exporter": "python",
   "pygments_lexer": "ipython3",
   "version": "3.8.8"
  },
  "toc": {
   "base_numbering": 1,
   "nav_menu": {},
   "number_sections": true,
   "sideBar": true,
   "skip_h1_title": false,
   "title_cell": "Table of Contents",
   "title_sidebar": "Contents",
   "toc_cell": false,
   "toc_position": {},
   "toc_section_display": true,
   "toc_window_display": false
  },
  "varInspector": {
   "cols": {
    "lenName": 16,
    "lenType": 16,
    "lenVar": 40
   },
   "kernels_config": {
    "python": {
     "delete_cmd_postfix": "",
     "delete_cmd_prefix": "del ",
     "library": "var_list.py",
     "varRefreshCmd": "print(var_dic_list())"
    },
    "r": {
     "delete_cmd_postfix": ") ",
     "delete_cmd_prefix": "rm(",
     "library": "var_list.r",
     "varRefreshCmd": "cat(var_dic_list()) "
    }
   },
   "types_to_exclude": [
    "module",
    "function",
    "builtin_function_or_method",
    "instance",
    "_Feature"
   ],
   "window_display": false
  }
 },
 "nbformat": 4,
 "nbformat_minor": 4
}
