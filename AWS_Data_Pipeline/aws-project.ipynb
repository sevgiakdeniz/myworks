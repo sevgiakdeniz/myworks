{
 "cells": [
  {
   "cell_type": "code",
   "execution_count": 154,
   "id": "5237e33c-9f17-4dc7-8e5f-8110b176d935",
   "metadata": {},
   "outputs": [],
   "source": [
    "#import api keys\n",
    "from api_keys import *"
   ]
  },
  {
   "cell_type": "markdown",
   "id": "eaf89b69-98fd-44ba-920e-936dff6b21df",
   "metadata": {},
   "source": [
    "## Flights API"
   ]
  },
  {
   "cell_type": "code",
   "execution_count": 181,
   "id": "118559ad-79e4-4155-aa82-a4193204bf33",
   "metadata": {
    "tags": []
   },
   "outputs": [
    {
     "data": {
      "application/json": {
       "arrivals": [
        {
         "aircraft": {
          "modeS": "440138",
          "model": "Airbus A320-100/200",
          "reg": "OE-IZT"
         },
         "airline": {
          "name": "EasyJet Europe"
         },
         "arrival": {
          "actualTimeLocal": "2021-10-04 20:10+02:00",
          "actualTimeUtc": "2021-10-04 18:10Z",
          "quality": [
           "Basic",
           "Live"
          ],
          "runwayTimeLocal": "2021-10-04 20:03+02:00",
          "runwayTimeUtc": "2021-10-04 18:03Z",
          "scheduledTimeLocal": "2021-10-04 19:59+02:00",
          "scheduledTimeUtc": "2021-10-04 17:59Z"
         },
         "callSign": "EJU94FM",
         "codeshareStatus": "IsOperator",
         "departure": {
          "airport": {
           "iata": "OLB",
           "icao": "LIEO",
           "name": "Olbia"
          },
          "quality": []
         },
         "isCargo": false,
         "number": "EC 94FM",
         "status": "Arrived"
        },
        {
         "aircraft": {
          "modeS": "406B62",
          "model": "Airbus A320-200 (Sharklets)",
          "reg": "G-EUYX"
         },
         "airline": {
          "name": "British Airways"
         },
         "arrival": {
          "actualTimeLocal": "2021-10-04 20:43+02:00",
          "actualTimeUtc": "2021-10-04 18:43Z",
          "quality": [
           "Basic",
           "Live"
          ],
          "runway": "25L",
          "runwayTimeLocal": "2021-10-04 20:37+02:00",
          "runwayTimeUtc": "2021-10-04 18:37Z",
          "scheduledTimeLocal": "2021-10-04 20:35+02:00",
          "scheduledTimeUtc": "2021-10-04 18:35Z",
          "terminal": "1"
         },
         "callSign": "BAW998",
         "codeshareStatus": "IsOperator",
         "departure": {
          "airport": {
           "name": "London"
          },
          "quality": []
         },
         "isCargo": false,
         "number": "BA 998",
         "status": "Arrived"
        },
        {
         "aircraft": {
          "modeS": "4B1A29",
          "model": "Airbus A320-100/200",
          "reg": "HB-JXP"
         },
         "airline": {
          "name": "Easyjet Switzerland"
         },
         "arrival": {
          "actualTimeLocal": "2021-10-04 20:22+01:59",
          "actualTimeUtc": "2021-10-04 18:22Z",
          "quality": [
           "Basic",
           "Live"
          ],
          "runway": "25L",
          "runwayTimeLocal": "2021-10-04 20:16+02:00",
          "runwayTimeUtc": "2021-10-04 18:16Z",
          "scheduledTimeLocal": "2021-10-04 20:14+02:00",
          "scheduledTimeUtc": "2021-10-04 18:14Z"
         },
         "callSign": "EZS18KE",
         "codeshareStatus": "IsOperator",
         "departure": {
          "airport": {
           "name": "Unknown"
          },
          "quality": []
         },
         "isCargo": false,
         "number": "DS 18KE",
         "status": "Arrived"
        },
        {
         "aircraft": {
          "modeS": "47A32E",
          "model": "Boeing 737-800"
         },
         "airline": {
          "name": "Norwegian Air Shuttle"
         },
         "arrival": {
          "actualTimeLocal": "2021-10-04 20:11+01:59",
          "actualTimeUtc": "2021-10-04 18:11Z",
          "quality": [
           "Basic",
           "Live"
          ],
          "runway": "25R",
          "runwayTimeLocal": "2021-10-04 20:04+02:00",
          "runwayTimeUtc": "2021-10-04 18:04Z",
          "scheduledTimeLocal": "2021-10-04 20:05+02:00",
          "scheduledTimeUtc": "2021-10-04 18:05Z",
          "terminal": "1"
         },
         "callSign": "NAX8GB",
         "codeshareStatus": "IsOperator",
         "departure": {
          "actualTimeLocal": "2021-10-04 18:27+02:00",
          "actualTimeUtc": "2021-10-04 16:27Z",
          "airport": {
           "iata": "OSL",
           "icao": "ENGM",
           "name": "Oslo"
          },
          "checkInDesk": "23",
          "gate": "D6",
          "quality": [
           "Basic",
           "Live"
          ],
          "scheduledTimeLocal": "2021-10-04 18:30+02:00",
          "scheduledTimeUtc": "2021-10-04 16:30Z"
         },
         "isCargo": false,
         "number": "DY 1108",
         "status": "Arrived"
        },
        {
         "aircraft": {
          "modeS": "440145",
          "model": "Airbus A320-100/200",
          "reg": "OE-IZS"
         },
         "airline": {
          "name": "EasyJet Europe"
         },
         "arrival": {
          "actualTimeLocal": "2021-10-04 20:35+02:00",
          "actualTimeUtc": "2021-10-04 18:35Z",
          "quality": [
           "Basic",
           "Live"
          ],
          "runway": "25L",
          "runwayTimeLocal": "2021-10-04 20:35+02:00",
          "runwayTimeUtc": "2021-10-04 18:35Z",
          "scheduledTimeLocal": "2021-10-04 20:33+02:00",
          "scheduledTimeUtc": "2021-10-04 18:33Z"
         },
         "callSign": "EJU52NY",
         "codeshareStatus": "IsOperator",
         "departure": {
          "airport": {
           "iata": "ATH",
           "icao": "LGAV",
           "name": "Athens"
          },
          "quality": []
         },
         "isCargo": false,
         "number": "EC 52NY",
         "status": "Arrived"
        },
        {
         "aircraft": {
          "modeS": "440A8F",
          "model": "Airbus A320-100/200",
          "reg": "OE-IZB"
         },
         "airline": {
          "name": "EasyJet Europe"
         },
         "arrival": {
          "actualTimeLocal": "2021-10-04 20:12+02:00",
          "actualTimeUtc": "2021-10-04 18:12Z",
          "quality": [
           "Basic",
           "Live"
          ],
          "runwayTimeLocal": "2021-10-04 20:07+02:00",
          "runwayTimeUtc": "2021-10-04 18:07Z",
          "scheduledTimeLocal": "2021-10-04 20:07+02:00",
          "scheduledTimeUtc": "2021-10-04 18:07Z"
         },
         "callSign": "EJU68TX",
         "codeshareStatus": "IsOperator",
         "departure": {
          "airport": {
           "iata": "CHQ",
           "icao": "LGSA",
           "name": "Souda"
          },
          "quality": []
         },
         "isCargo": false,
         "number": "EC 68TX",
         "status": "Arrived"
        },
        {
         "aircraft": {
          "model": "Boeing 737-800"
         },
         "airline": {
          "name": "Ryanair"
         },
         "arrival": {
          "quality": [
           "Basic"
          ],
          "scheduledTimeLocal": "2021-10-04 20:15+02:00",
          "scheduledTimeUtc": "2021-10-04 18:15Z"
         },
         "codeshareStatus": "Unknown",
         "departure": {
          "actualTimeLocal": "2021-10-04 17:31+02:00",
          "actualTimeUtc": "2021-10-04 15:31Z",
          "airport": {
           "iata": "BCN",
           "icao": "LEBL",
           "name": "Barcelona"
          },
          "checkInDesk": "B72-B77",
          "gate": "U39",
          "quality": [
           "Basic",
           "Live"
          ],
          "scheduledTimeLocal": "2021-10-04 17:30+02:00",
          "scheduledTimeUtc": "2021-10-04 15:30Z",
          "terminal": "2"
         },
         "isCargo": false,
         "number": "FR 1135",
         "status": "Unknown"
        },
        {
         "aircraft": {
          "modeS": "4CA303",
          "model": "Boeing 737-800 (winglets)",
          "reg": "EI-DLX"
         },
         "airline": {
          "name": "Ryanair"
         },
         "arrival": {
          "actualTimeLocal": "2021-10-04 20:10+01:59",
          "actualTimeUtc": "2021-10-04 18:10Z",
          "quality": [
           "Basic",
           "Live"
          ],
          "runway": "25L",
          "runwayTimeLocal": "2021-10-04 20:10+02:00",
          "runwayTimeUtc": "2021-10-04 18:10Z",
          "scheduledTimeLocal": "2021-10-04 20:25+02:00",
          "scheduledTimeUtc": "2021-10-04 18:25Z"
         },
         "callSign": "RYR802M",
         "codeshareStatus": "IsOperator",
         "departure": {
          "actualTimeLocal": "2021-10-04 17:50+02:00",
          "actualTimeUtc": "2021-10-04 15:50Z",
          "airport": {
           "iata": "PMI",
           "icao": "LEPA",
           "name": "Palma De Mallorca"
          },
          "checkInDesk": "002-017",
          "gate": "D94",
          "quality": [
           "Basic",
           "Live"
          ],
          "scheduledTimeLocal": "2021-10-04 17:40+02:00",
          "scheduledTimeUtc": "2021-10-04 15:40Z",
          "terminal": "N"
         },
         "isCargo": false,
         "number": "FR 1467",
         "status": "Arrived"
        },
        {
         "aircraft": {
          "modeS": "4CA625",
          "model": "Boeing 737-800 (winglets)",
          "reg": "EI-DWY"
         },
         "airline": {
          "name": "Ryanair"
         },
         "arrival": {
          "actualTimeLocal": "2021-10-04 20:45+02:00",
          "actualTimeUtc": "2021-10-04 18:45Z",
          "quality": [
           "Basic",
           "Live"
          ],
          "scheduledTimeLocal": "2021-10-04 20:50+02:00",
          "scheduledTimeUtc": "2021-10-04 18:50Z"
         },
         "callSign": "RYR1FV",
         "codeshareStatus": "IsOperator",
         "departure": {
          "airport": {
           "iata": "TLS",
           "icao": "LFBO",
           "name": "Toulouse-Blagnac"
          },
          "quality": [
           "Basic"
          ],
          "scheduledTimeLocal": "2021-10-04 18:35+02:00",
          "scheduledTimeUtc": "2021-10-04 16:35Z"
         },
         "isCargo": false,
         "number": "FR 2034",
         "status": "Approaching"
        },
        {
         "aircraft": {
          "modeS": "4D00C9",
          "model": "De Havilland Canada DHC-8-400 Dash 8Q",
          "reg": "LX-LGF"
         },
         "airline": {
          "name": "Luxair"
         },
         "arrival": {
          "actualTimeLocal": "2021-10-04 20:17+02:00",
          "actualTimeUtc": "2021-10-04 18:17Z",
          "quality": [
           "Basic",
           "Live"
          ],
          "runwayTimeLocal": "2021-10-04 20:05+02:00",
          "runwayTimeUtc": "2021-10-04 18:05Z",
          "scheduledTimeLocal": "2021-10-04 20:10+02:00",
          "scheduledTimeUtc": "2021-10-04 18:10Z",
          "terminal": "1"
         },
         "callSign": "LGL9473",
         "codeshareStatus": "IsOperator",
         "departure": {
          "actualTimeLocal": "2021-10-04 18:40+02:00",
          "actualTimeUtc": "2021-10-04 16:40Z",
          "airport": {
           "iata": "LUX",
           "icao": "ELLX",
           "name": "Luxembourg"
          },
          "quality": [
           "Basic",
           "Live"
          ],
          "scheduledTimeLocal": "2021-10-04 18:40+02:00",
          "scheduledTimeUtc": "2021-10-04 16:40Z"
         },
         "isCargo": false,
         "number": "LG 9473",
         "status": "Arrived"
        },
        {
         "aircraft": {
          "modeS": "3C65DA",
          "model": "Airbus A320",
          "reg": "D-AINT"
         },
         "airline": {
          "name": "Lufthansa"
         },
         "arrival": {
          "actualTimeLocal": "2021-10-04 20:22+01:59",
          "actualTimeUtc": "2021-10-04 18:22Z",
          "quality": [
           "Basic",
           "Live"
          ],
          "runwayTimeLocal": "2021-10-04 20:19+02:00",
          "runwayTimeUtc": "2021-10-04 18:19Z",
          "scheduledTimeLocal": "2021-10-04 20:25+02:00",
          "scheduledTimeUtc": "2021-10-04 18:25Z",
          "terminal": "1"
         },
         "callSign": "DLH2N",
         "codeshareStatus": "IsOperator",
         "departure": {
          "airport": {
           "iata": "MUC",
           "icao": "EDDM",
           "name": "Munich"
          },
          "quality": [
           "Basic"
          ],
          "scheduledTimeLocal": "2021-10-04 19:20+02:00",
          "scheduledTimeUtc": "2021-10-04 17:20Z",
          "terminal": "2"
         },
         "isCargo": false,
         "number": "LH 1964",
         "status": "Arrived"
        },
        {
         "aircraft": {
          "modeS": "738050",
          "model": "Boeing 737-900 (winglets)",
          "reg": "4X-EHA"
         },
         "airline": {
          "name": "El Al"
         },
         "arrival": {
          "actualTimeLocal": "2021-10-04 21:01+02:00",
          "actualTimeUtc": "2021-10-04 19:01Z",
          "quality": [
           "Basic",
           "Live"
          ],
          "runwayTimeLocal": "2021-10-04 20:54+02:00",
          "runwayTimeUtc": "2021-10-04 18:54Z",
          "scheduledTimeLocal": "2021-10-04 20:50+02:00",
          "scheduledTimeUtc": "2021-10-04 18:50Z",
          "terminal": "1"
         },
         "callSign": "ELY2373",
         "codeshareStatus": "IsOperator",
         "departure": {
          "airport": {
           "iata": "TLV",
           "icao": "LLBG",
           "name": "Tel Aviv Yafo"
          },
          "quality": [
           "Basic"
          ],
          "scheduledTimeLocal": "2021-10-04 17:30+03:00",
          "scheduledTimeUtc": "2021-10-04 14:30Z",
          "terminal": "3"
         },
         "isCargo": false,
         "number": "LY 2373",
         "status": "Arrived"
        },
        {
         "aircraft": {
          "modeS": "AD1CA5",
          "model": "Bombardier Global Express",
          "reg": "N944GL"
         },
         "airline": {
          "name": "TWY"
         },
         "arrival": {
          "actualTimeLocal": "2021-10-04 20:17+02:00",
          "actualTimeUtc": "2021-10-04 18:17Z",
          "quality": [
           "Basic",
           "Live"
          ],
          "runwayTimeLocal": "2021-10-04 20:17+02:00",
          "runwayTimeUtc": "2021-10-04 18:17Z",
          "scheduledTimeLocal": "2021-10-04 20:17+02:00",
          "scheduledTimeUtc": "2021-10-04 18:17Z"
         },
         "callSign": "TWY94",
         "codeshareStatus": "IsOperator",
         "departure": {
          "actualTimeLocal": "2021-10-04 07:00-04:00",
          "actualTimeUtc": "2021-10-04 11:00Z",
          "airport": {
           "iata": "TEB",
           "icao": "KTEB",
           "name": "Teterboro"
          },
          "quality": [
           "Basic",
           "Live"
          ],
          "scheduledTimeLocal": "2021-10-04 07:00-04:00",
          "scheduledTimeUtc": "2021-10-04 11:00Z"
         },
         "isCargo": false,
         "number": "TWY 94",
         "status": "Arrived"
        },
        {
         "aircraft": {
          "model": "Airbus A320"
         },
         "airline": {
          "name": "easyJet"
         },
         "arrival": {
          "quality": [
           "Basic"
          ],
          "scheduledTimeLocal": "2021-10-04 20:35+02:00",
          "scheduledTimeUtc": "2021-10-04 18:35Z",
          "terminal": "1"
         },
         "codeshareStatus": "Unknown",
         "departure": {
          "airport": {
           "iata": "BSL",
           "icao": "LFSB",
           "name": "Bâle/Mulhouse"
          },
          "quality": [
           "Basic"
          ],
          "scheduledTimeLocal": "2021-10-04 19:00+02:00",
          "scheduledTimeUtc": "2021-10-04 17:00Z"
         },
         "isCargo": false,
         "number": "U2 4640",
         "status": "CanceledUncertain"
        },
        {
         "aircraft": {
          "model": "Airbus A320"
         },
         "airline": {
          "name": "easyJet"
         },
         "arrival": {
          "quality": [
           "Basic"
          ],
          "scheduledTimeLocal": "2021-10-04 20:05+02:00",
          "scheduledTimeUtc": "2021-10-04 18:05Z",
          "terminal": "1"
         },
         "codeshareStatus": "Unknown",
         "departure": {
          "airport": {
           "iata": "CHQ",
           "icao": "LGSA",
           "name": "Souda"
          },
          "quality": [
           "Basic"
          ],
          "scheduledTimeLocal": "2021-10-04 17:50+03:00",
          "scheduledTimeUtc": "2021-10-04 14:50Z"
         },
         "isCargo": false,
         "number": "U2 5006",
         "status": "Unknown"
        },
        {
         "aircraft": {
          "model": "Airbus A320"
         },
         "airline": {
          "name": "easyJet"
         },
         "arrival": {
          "quality": [
           "Basic"
          ],
          "scheduledTimeLocal": "2021-10-04 20:45+02:00",
          "scheduledTimeUtc": "2021-10-04 18:45Z",
          "terminal": "1"
         },
         "codeshareStatus": "Unknown",
         "departure": {
          "airport": {
           "iata": "ATH",
           "icao": "LGAV",
           "name": "Athens"
          },
          "quality": [
           "Basic"
          ],
          "scheduledTimeLocal": "2021-10-04 18:40+03:00",
          "scheduledTimeUtc": "2021-10-04 15:40Z"
         },
         "isCargo": false,
         "number": "U2 5938",
         "status": "Unknown"
        },
        {
         "aircraft": {
          "modeS": "4BCDE2",
          "model": "Boeing 737-800",
          "reg": "TC-SOB"
         },
         "airline": {
          "name": "SunExpress"
         },
         "arrival": {
          "actualTimeLocal": "2021-10-04 20:16+02:00",
          "actualTimeUtc": "2021-10-04 18:16Z",
          "quality": [
           "Basic",
           "Live"
          ],
          "runway": "25R",
          "runwayTimeLocal": "2021-10-04 20:11+02:00",
          "runwayTimeUtc": "2021-10-04 18:11Z",
          "scheduledTimeLocal": "2021-10-04 20:25+02:00",
          "scheduledTimeUtc": "2021-10-04 18:25Z",
          "terminal": "1"
         },
         "callSign": "SXS59D",
         "codeshareStatus": "IsOperator",
         "departure": {
          "actualTimeLocal": "2021-10-04 17:50+03:00",
          "actualTimeUtc": "2021-10-04 14:50Z",
          "airport": {
           "iata": "AYT",
           "icao": "LTAI",
           "name": "Antalya"
          },
          "checkInDesk": "141-143",
          "quality": [
           "Basic",
           "Live"
          ],
          "scheduledTimeLocal": "2021-10-04 17:50+03:00",
          "scheduledTimeUtc": "2021-10-04 14:50Z",
          "terminal": "T1"
         },
         "isCargo": false,
         "number": "XQ 662",
         "status": "Arrived"
        },
        {
         "aircraft": {
          "modeS": "440118",
          "model": "Boeing 737-400",
          "reg": "OE-IBO"
         },
         "airline": {
          "name": "ASL  Belgium"
         },
         "arrival": {
          "actualTimeLocal": "2021-10-04 21:45+01:59",
          "actualTimeUtc": "2021-10-04 19:45Z",
          "quality": [
           "Basic",
           "Live"
          ],
          "runwayTimeLocal": "2021-10-04 21:39+02:00",
          "runwayTimeUtc": "2021-10-04 19:39Z",
          "scheduledTimeLocal": "2021-10-04 21:39+02:00",
          "scheduledTimeUtc": "2021-10-04 19:39Z"
         },
         "callSign": "TAY4324",
         "codeshareStatus": "IsOperator",
         "departure": {
          "airport": {
           "name": "Unknown"
          },
          "quality": []
         },
         "isCargo": false,
         "number": "3V 4324",
         "status": "Arrived"
        },
        {
         "aircraft": {
          "modeS": "3C56F2",
          "model": "Airbus A320-100/200",
          "reg": "D-AEWR"
         },
         "airline": {
          "name": "Germanwings"
         },
         "arrival": {
          "actualTimeLocal": "2021-10-04 22:00+02:00",
          "actualTimeUtc": "2021-10-04 20:00Z",
          "quality": [
           "Basic",
           "Live"
          ],
          "runway": "25L",
          "runwayTimeLocal": "2021-10-04 21:53+02:00",
          "runwayTimeUtc": "2021-10-04 19:53Z",
          "scheduledTimeLocal": "2021-10-04 21:48+02:00",
          "scheduledTimeUtc": "2021-10-04 19:48Z"
         },
         "callSign": "GWI2FT",
         "codeshareStatus": "IsOperator",
         "departure": {
          "actualTimeLocal": "2021-10-04 21:02+02:00",
          "actualTimeUtc": "2021-10-04 19:02Z",
          "airport": {
           "iata": "STR",
           "icao": "EDDS",
           "name": "Stuttgart"
          },
          "quality": [
           "Basic",
           "Live"
          ],
          "runway": "07",
          "runwayTimeLocal": "2021-10-04 21:03+02:00",
          "runwayTimeUtc": "2021-10-04 19:03Z",
          "scheduledTimeLocal": "2021-10-04 21:02+02:00",
          "scheduledTimeUtc": "2021-10-04 19:02Z"
         },
         "isCargo": false,
         "number": "4U 2FT",
         "status": "Arrived"
        },
        {
         "aircraft": {
          "modeS": "3C56F7",
          "model": "Airbus A320-100/200",
          "reg": "D-AEWW"
         },
         "airline": {
          "name": "Germanwings"
         },
         "arrival": {
          "actualTimeLocal": "2021-10-04 22:04+02:00",
          "actualTimeUtc": "2021-10-04 20:04Z",
          "quality": [
           "Basic",
           "Live"
          ],
          "runwayTimeLocal": "2021-10-04 21:57+02:00",
          "runwayTimeUtc": "2021-10-04 19:57Z",
          "scheduledTimeLocal": "2021-10-04 21:53+02:00",
          "scheduledTimeUtc": "2021-10-04 19:53Z"
         },
         "callSign": "GWI8043",
         "codeshareStatus": "IsOperator",
         "departure": {
          "airport": {
           "iata": "DUS",
           "icao": "EDDL",
           "name": "Duesseldorf"
          },
          "quality": []
         },
         "isCargo": false,
         "number": "4U 8043",
         "status": "Arrived"
        },
        {
         "aircraft": {
          "modeS": "440062",
          "model": "Airbus A320-100/200",
          "reg": "OE-IVF"
         },
         "airline": {
          "name": "EasyJet Europe"
         },
         "arrival": {
          "actualTimeLocal": "2021-10-04 21:55+02:00",
          "actualTimeUtc": "2021-10-04 19:55Z",
          "quality": [
           "Basic",
           "Live"
          ],
          "scheduledTimeLocal": "2021-10-04 21:55+02:00",
          "scheduledTimeUtc": "2021-10-04 19:55Z"
         },
         "callSign": "EJU38GC",
         "codeshareStatus": "IsOperator",
         "departure": {
          "airport": {
           "iata": "KGS",
           "icao": "LGKO",
           "name": "Kos Island"
          },
          "quality": []
         },
         "isCargo": false,
         "number": "EC 38GC",
         "status": "Approaching"
        },
        {
         "aircraft": {
          "modeS": "440309",
          "model": "Airbus A320-100/200",
          "reg": "OE-IZD"
         },
         "airline": {
          "name": "EasyJet Europe"
         },
         "arrival": {
          "actualTimeLocal": "2021-10-04 22:02+02:00",
          "actualTimeUtc": "2021-10-04 20:02Z",
          "quality": [
           "Basic",
           "Live"
          ],
          "runwayTimeLocal": "2021-10-04 22:02+02:00",
          "runwayTimeUtc": "2021-10-04 20:02Z",
          "scheduledTimeLocal": "2021-10-04 21:59+02:00",
          "scheduledTimeUtc": "2021-10-04 19:59Z"
         },
         "callSign": "EJU75XC",
         "codeshareStatus": "IsOperator",
         "departure": {
          "airport": {
           "iata": "ARN",
           "icao": "ESSA",
           "name": "Stockholm"
          },
          "quality": []
         },
         "isCargo": false,
         "number": "EC 75XC",
         "status": "Arrived"
        },
        {
         "aircraft": {
          "modeS": "4CA9EC",
          "model": "Boeing 737-800 (winglets)",
          "reg": "EI-EVO"
         },
         "airline": {
          "name": "Ryanair"
         },
         "arrival": {
          "actualTimeLocal": "2021-10-04 21:42+02:00",
          "actualTimeUtc": "2021-10-04 19:42Z",
          "quality": [
           "Basic",
           "Live"
          ],
          "runway": "25L",
          "runwayTimeLocal": "2021-10-04 21:38+02:00",
          "runwayTimeUtc": "2021-10-04 19:38Z",
          "scheduledTimeLocal": "2021-10-04 21:20+02:00",
          "scheduledTimeUtc": "2021-10-04 19:20Z"
         },
         "callSign": "RYR11WZ",
         "codeshareStatus": "IsOperator",
         "departure": {
          "actualTimeLocal": "2021-10-04 19:14+01:00",
          "actualTimeUtc": "2021-10-04 18:14Z",
          "airport": {
           "iata": "STN",
           "icao": "EGSS",
           "name": "London"
          },
          "quality": [
           "Basic",
           "Live"
          ],
          "runway": "22",
          "runwayTimeLocal": "2021-10-04 19:15+01:00",
          "runwayTimeUtc": "2021-10-04 18:15Z",
          "scheduledTimeLocal": "2021-10-04 18:35+01:00",
          "scheduledTimeUtc": "2021-10-04 17:35Z",
          "terminal": "T1"
         },
         "isCargo": false,
         "number": "FR 147",
         "status": "Arrived"
        },
        {
         "aircraft": {
          "modeS": "4D220B",
          "model": "Boeing 737-800",
          "reg": "9H-QCS"
         },
         "airline": {
          "name": "Ryanair"
         },
         "arrival": {
          "actualTimeLocal": "2021-10-04 23:17+02:00",
          "actualTimeUtc": "2021-10-04 21:17Z",
          "quality": [
           "Basic",
           "Live"
          ],
          "runway": "25L",
          "runwayTimeLocal": "2021-10-04 23:17+02:00",
          "runwayTimeUtc": "2021-10-04 21:17Z",
          "scheduledTimeLocal": "2021-10-04 21:40+02:00",
          "scheduledTimeUtc": "2021-10-04 19:40Z"
         },
         "callSign": "RYR2QM",
         "codeshareStatus": "IsOperator",
         "departure": {
          "actualTimeLocal": "2021-10-04 21:58+02:00",
          "actualTimeUtc": "2021-10-04 19:58Z",
          "airport": {
           "iata": "BUD",
           "icao": "LHBP",
           "name": "Budapest"
          },
          "quality": [
           "Basic",
           "Live"
          ],
          "scheduledTimeLocal": "2021-10-04 20:10+02:00",
          "scheduledTimeUtc": "2021-10-04 18:10Z",
          "terminal": "2B"
         },
         "isCargo": false,
         "number": "FR 197",
         "status": "Arrived"
        },
        {
         "aircraft": {
          "model": "Boeing 737-800"
         },
         "airline": {
          "name": "Ryanair"
         },
         "arrival": {
          "quality": [
           "Basic"
          ],
          "scheduledTimeLocal": "2021-10-04 21:30+02:00",
          "scheduledTimeUtc": "2021-10-04 19:30Z"
         },
         "codeshareStatus": "Unknown",
         "departure": {
          "airport": {
           "iata": "PMI",
           "icao": "LEPA",
           "name": "Palma De Mallorca"
          },
          "quality": [
           "Basic"
          ],
          "scheduledTimeLocal": "2021-10-04 18:45+02:00",
          "scheduledTimeUtc": "2021-10-04 16:45Z"
         },
         "isCargo": false,
         "number": "FR 227",
         "status": "CanceledUncertain"
        },
        {
         "aircraft": {
          "modeS": "4D2256",
          "model": "Boeing 737-800",
          "reg": "9H-QBD"
         },
         "airline": {
          "name": "Ryanair"
         },
         "arrival": {
          "actualTimeLocal": "2021-10-04 21:48+01:59",
          "actualTimeUtc": "2021-10-04 19:48Z",
          "quality": [
           "Basic",
           "Live"
          ],
          "runway": "25L",
          "runwayTimeLocal": "2021-10-04 21:44+02:00",
          "runwayTimeUtc": "2021-10-04 19:44Z",
          "scheduledTimeLocal": "2021-10-04 21:35+02:00",
          "scheduledTimeUtc": "2021-10-04 19:35Z"
         },
         "callSign": "RYR9AW",
         "codeshareStatus": "IsOperator",
         "departure": {
          "actualTimeLocal": "2021-10-04 17:31+01:00",
          "actualTimeUtc": "2021-10-04 16:31Z",
          "airport": {
           "iata": "FAO",
           "icao": "LPFR",
           "name": "Faro"
          },
          "quality": [
           "Basic",
           "Live"
          ],
          "scheduledTimeLocal": "2021-10-04 17:05+01:00",
          "scheduledTimeUtc": "2021-10-04 16:05Z",
          "terminal": "T1"
         },
         "isCargo": false,
         "number": "FR 254",
         "status": "Arrived"
        },
        {
         "aircraft": {
          "modeS": "4D224E",
          "model": "Boeing 737-800",
          "reg": "9H-QDY"
         },
         "airline": {
          "name": "Ryanair"
         },
         "arrival": {
          "actualTimeLocal": "2021-10-04 22:58+01:59",
          "actualTimeUtc": "2021-10-04 20:58Z",
          "quality": [
           "Basic",
           "Live"
          ],
          "runway": "25L",
          "runwayTimeLocal": "2021-10-04 22:51+02:00",
          "runwayTimeUtc": "2021-10-04 20:51Z",
          "scheduledTimeLocal": "2021-10-04 21:45+02:00",
          "scheduledTimeUtc": "2021-10-04 19:45Z"
         },
         "callSign": "RYR4WC",
         "codeshareStatus": "IsOperator",
         "departure": {
          "actualTimeLocal": "2021-10-04 19:10+01:00",
          "actualTimeUtc": "2021-10-04 18:10Z",
          "airport": {
           "iata": "OPO",
           "icao": "LPPR",
           "name": "Porto"
          },
          "quality": [
           "Basic",
           "Live"
          ],
          "scheduledTimeLocal": "2021-10-04 17:40+01:00",
          "scheduledTimeUtc": "2021-10-04 16:40Z",
          "terminal": "T1"
         },
         "isCargo": false,
         "number": "FR 2945",
         "status": "Arrived"
        },
        {
         "aircraft": {
          "modeS": "4D227B",
          "model": "Boeing 737-800 (winglets)",
          "reg": "9H-QDV"
         },
         "airline": {
          "name": "Ryanair"
         },
         "arrival": {
          "actualTimeLocal": "2021-10-04 22:19+01:59",
          "actualTimeUtc": "2021-10-04 20:19Z",
          "quality": [
           "Basic",
           "Live"
          ],
          "runway": "25L",
          "runwayTimeLocal": "2021-10-04 22:17+02:00",
          "runwayTimeUtc": "2021-10-04 20:17Z",
          "scheduledTimeLocal": "2021-10-04 21:50+02:00",
          "scheduledTimeUtc": "2021-10-04 19:50Z"
         },
         "callSign": "RYR49GF",
         "codeshareStatus": "IsOperator",
         "departure": {
          "airport": {
           "iata": "BGY",
           "icao": "LIME",
           "name": "Bergamo"
          },
          "quality": [
           "Basic"
          ],
          "scheduledTimeLocal": "2021-10-04 20:10+02:00",
          "scheduledTimeUtc": "2021-10-04 18:10Z"
         },
         "isCargo": false,
         "number": "FR 4733",
         "status": "Arrived"
        },
        {
         "aircraft": {
          "model": "Airbus A320"
         },
         "airline": {
          "name": "easyJet"
         },
         "arrival": {
          "quality": [
           "Basic"
          ],
          "scheduledTimeLocal": "2021-10-04 21:20+02:00",
          "scheduledTimeUtc": "2021-10-04 19:20Z",
          "terminal": "1"
         },
         "codeshareStatus": "Unknown",
         "departure": {
          "airport": {
           "iata": "CPH",
           "icao": "EKCH",
           "name": "Copenhagen"
          },
          "quality": [
           "Basic"
          ],
          "scheduledTimeLocal": "2021-10-04 20:15+02:00",
          "scheduledTimeUtc": "2021-10-04 18:15Z",
          "terminal": "2"
         },
         "isCargo": false,
         "number": "U2 5686",
         "status": "CanceledUncertain"
        },
        {
         "aircraft": {
          "model": "Airbus A320"
         },
         "airline": {
          "name": "easyJet"
         },
         "arrival": {
          "quality": [
           "Basic"
          ],
          "scheduledTimeLocal": "2021-10-04 21:45+02:00",
          "scheduledTimeUtc": "2021-10-04 19:45Z",
          "terminal": "1"
         },
         "codeshareStatus": "Unknown",
         "departure": {
          "airport": {
           "iata": "KGS",
           "icao": "LGKO",
           "name": "Kos Island"
          },
          "quality": [
           "Basic"
          ],
          "scheduledTimeLocal": "2021-10-04 19:20+03:00",
          "scheduledTimeUtc": "2021-10-04 16:20Z"
         },
         "isCargo": false,
         "number": "U2 5790",
         "status": "Unknown"
        },
        {
         "aircraft": {
          "model": "Airbus A319"
         },
         "airline": {
          "name": "easyJet"
         },
         "arrival": {
          "quality": [
           "Basic"
          ],
          "scheduledTimeLocal": "2021-10-04 21:55+02:00",
          "scheduledTimeUtc": "2021-10-04 19:55Z",
          "terminal": "1"
         },
         "codeshareStatus": "Unknown",
         "departure": {
          "airport": {
           "iata": "ARN",
           "icao": "ESSA",
           "name": "Stockholm"
          },
          "quality": [
           "Basic"
          ],
          "scheduledTimeLocal": "2021-10-04 20:10+02:00",
          "scheduledTimeUtc": "2021-10-04 18:10Z",
          "terminal": "2"
         },
         "isCargo": false,
         "number": "U2 5888",
         "status": "CanceledUncertain"
        },
        {
         "aircraft": {
          "model": "Airbus A319"
         },
         "airline": {
          "name": "easyJet"
         },
         "arrival": {
          "quality": [
           "Basic"
          ],
          "scheduledTimeLocal": "2021-10-04 21:00+02:00",
          "scheduledTimeUtc": "2021-10-04 19:00Z",
          "terminal": "1"
         },
         "codeshareStatus": "Unknown",
         "departure": {
          "actualTimeLocal": "2021-10-04 18:00+01:00",
          "actualTimeUtc": "2021-10-04 17:00Z",
          "airport": {
           "iata": "LGW",
           "icao": "EGKK",
           "name": "London"
          },
          "gate": "102",
          "quality": [
           "Basic",
           "Live"
          ],
          "scheduledTimeLocal": "2021-10-04 18:00+01:00",
          "scheduledTimeUtc": "2021-10-04 17:00Z",
          "terminal": "N"
         },
         "isCargo": false,
         "number": "U2 8125",
         "status": "Unknown"
        },
        {
         "aircraft": {
          "modeS": "44006E",
          "model": "Airbus A320-100/200",
          "reg": "OE-LBU"
         },
         "airline": {
          "name": "Austrian"
         },
         "arrival": {
          "actualTimeLocal": "2021-10-04 21:36+01:59",
          "actualTimeUtc": "2021-10-04 19:36Z",
          "quality": [
           "Basic",
           "Live"
          ],
          "runway": "25R",
          "runwayTimeLocal": "2021-10-04 21:32+02:00",
          "runwayTimeUtc": "2021-10-04 19:32Z",
          "scheduledTimeLocal": "2021-10-04 21:55+02:00",
          "scheduledTimeUtc": "2021-10-04 19:55Z",
          "terminal": "1"
         },
         "callSign": "AUA2T",
         "codeshareStatus": "IsOperator",
         "departure": {
          "actualTimeLocal": "2021-10-04 20:43+02:00",
          "actualTimeUtc": "2021-10-04 18:43Z",
          "airport": {
           "iata": "VIE",
           "icao": "LOWW",
           "name": "Vienna"
          },
          "checkInDesk": "351-378",
          "gate": "F26",
          "quality": [
           "Basic",
           "Live"
          ],
          "runway": "29",
          "runwayTimeLocal": "2021-10-04 20:44+02:00",
          "runwayTimeUtc": "2021-10-04 18:44Z",
          "scheduledTimeLocal": "2021-10-04 20:40+02:00",
          "scheduledTimeUtc": "2021-10-04 18:40Z",
          "terminal": "T3"
         },
         "isCargo": false,
         "number": "OS 239",
         "status": "Arrived"
        },
        {
         "aircraft": {
          "modeS": "4D20F7",
          "model": "Bombardier Global Express",
          "reg": "9H-VJO"
         },
         "airline": {
          "name": "VistaJet"
         },
         "arrival": {
          "actualTimeLocal": "2021-10-04 21:32+01:59",
          "actualTimeUtc": "2021-10-04 19:32Z",
          "quality": [
           "Basic",
           "Live"
          ],
          "runway": "25L",
          "runwayTimeLocal": "2021-10-04 21:24+02:00",
          "runwayTimeUtc": "2021-10-04 19:24Z",
          "scheduledTimeLocal": "2021-10-04 21:24+02:00",
          "scheduledTimeUtc": "2021-10-04 19:24Z"
         },
         "callSign": "VJT878",
         "codeshareStatus": "IsOperator",
         "departure": {
          "actualTimeLocal": "2021-10-04 19:08+01:00",
          "actualTimeUtc": "2021-10-04 18:08Z",
          "airport": {
           "iata": "LTN",
           "icao": "EGGW",
           "name": "London"
          },
          "quality": [
           "Basic",
           "Live"
          ],
          "runway": "26",
          "runwayTimeLocal": "2021-10-04 19:08+01:00",
          "runwayTimeUtc": "2021-10-04 18:08Z",
          "scheduledTimeLocal": "2021-10-04 19:08+01:00",
          "scheduledTimeUtc": "2021-10-04 18:08Z"
         },
         "isCargo": false,
         "number": "VJT 878",
         "status": "Arrived"
        },
        {
         "aircraft": {
          "modeS": "471F82",
          "model": "Airbus A320-200 (Sharklets)",
          "reg": "HA-LYG"
         },
         "airline": {
          "name": "Wizz Air"
         },
         "arrival": {
          "actualTimeLocal": "2021-10-04 22:05+02:00",
          "actualTimeUtc": "2021-10-04 20:05Z",
          "quality": [
           "Basic",
           "Live"
          ],
          "runway": "25L",
          "runwayTimeLocal": "2021-10-04 22:01+02:00",
          "runwayTimeUtc": "2021-10-04 20:01Z",
          "scheduledTimeLocal": "2021-10-04 21:25+02:00",
          "scheduledTimeUtc": "2021-10-04 19:25Z",
          "terminal": "0"
         },
         "callSign": "WZZ6113",
         "codeshareStatus": "IsOperator",
         "departure": {
          "actualTimeLocal": "2021-10-04 21:17+03:00",
          "actualTimeUtc": "2021-10-04 18:17Z",
          "airport": {
           "iata": "IEV",
           "icao": "UKKK",
           "name": "Kiev"
          },
          "quality": [
           "Basic",
           "Live"
          ],
          "runway": "08",
          "runwayTimeLocal": "2021-10-04 21:17+03:00",
          "runwayTimeUtc": "2021-10-04 18:17Z",
          "scheduledTimeLocal": "2021-10-04 20:15+03:00",
          "scheduledTimeUtc": "2021-10-04 17:15Z",
          "terminal": "A"
         },
         "isCargo": false,
         "number": "W6 6113",
         "status": "Arrived"
        },
        {
         "aircraft": {
          "modeS": "3944EE",
          "model": "Airbus A319",
          "reg": "F-GRHO"
         },
         "airline": {
          "name": "Air France"
         },
         "arrival": {
          "actualTimeLocal": "2021-10-04 22:32+01:59",
          "actualTimeUtc": "2021-10-04 20:32Z",
          "quality": [
           "Basic",
           "Live"
          ],
          "runway": "25L",
          "runwayTimeLocal": "2021-10-04 22:26+02:00",
          "runwayTimeUtc": "2021-10-04 20:26Z",
          "scheduledTimeLocal": "2021-10-04 22:30+02:00",
          "scheduledTimeUtc": "2021-10-04 20:30Z",
          "terminal": "1"
         },
         "callSign": "AFR24DN",
         "codeshareStatus": "IsOperator",
         "departure": {
          "airport": {
           "iata": "CDG",
           "icao": "LFPG",
           "name": "Paris"
          },
          "quality": [
           "Basic"
          ],
          "scheduledTimeLocal": "2021-10-04 20:45+02:00",
          "scheduledTimeUtc": "2021-10-04 18:45Z",
          "terminal": "2F"
         },
         "isCargo": false,
         "number": "AF 1134",
         "status": "Arrived"
        },
        {
         "aircraft": {
          "modeS": "440380",
          "model": "Airbus A320-100/200",
          "reg": "OE-IZP"
         },
         "airline": {
          "name": "EasyJet Europe"
         },
         "arrival": {
          "actualTimeLocal": "2021-10-04 22:44+01:59",
          "actualTimeUtc": "2021-10-04 20:44Z",
          "quality": [
           "Basic",
           "Live"
          ],
          "runway": "25L",
          "runwayTimeLocal": "2021-10-04 22:40+02:00",
          "runwayTimeUtc": "2021-10-04 20:40Z",
          "scheduledTimeLocal": "2021-10-04 22:40+02:00",
          "scheduledTimeUtc": "2021-10-04 20:40Z"
         },
         "callSign": "EJU13QN",
         "codeshareStatus": "IsOperator",
         "departure": {
          "airport": {
           "iata": "NCE",
           "icao": "LFMN",
           "name": "Nice"
          },
          "quality": []
         },
         "isCargo": false,
         "number": "EC 13QN",
         "status": "Arrived"
        },
        {
         "aircraft": {
          "modeS": "440BD0",
          "model": "Airbus A320-100/200",
          "reg": "OE-IZC"
         },
         "airline": {
          "name": "EasyJet Europe"
         },
         "arrival": {
          "actualTimeLocal": "2021-10-04 22:57+01:59",
          "actualTimeUtc": "2021-10-04 20:57Z",
          "quality": [
           "Basic",
           "Live"
          ],
          "runway": "25L",
          "runwayTimeLocal": "2021-10-04 22:54+02:00",
          "runwayTimeUtc": "2021-10-04 20:54Z",
          "scheduledTimeLocal": "2021-10-04 22:54+02:00",
          "scheduledTimeUtc": "2021-10-04 20:54Z"
         },
         "callSign": "EJU37YA",
         "codeshareStatus": "IsOperator",
         "departure": {
          "airport": {
           "iata": "BCN",
           "icao": "LEBL",
           "name": "Barcelona"
          },
          "quality": []
         },
         "isCargo": false,
         "number": "EC 37YA",
         "status": "Arrived"
        },
        {
         "aircraft": {
          "modeS": "440219",
          "model": "Airbus A320-100/200",
          "reg": "OE-IZJ"
         },
         "airline": {
          "name": "EasyJet Europe"
         },
         "arrival": {
          "actualTimeLocal": "2021-10-04 22:09+02:00",
          "actualTimeUtc": "2021-10-04 20:09Z",
          "quality": [
           "Basic",
           "Live"
          ],
          "runway": "25L",
          "runwayTimeLocal": "2021-10-04 22:09+02:00",
          "runwayTimeUtc": "2021-10-04 20:09Z",
          "scheduledTimeLocal": "2021-10-04 22:09+02:00",
          "scheduledTimeUtc": "2021-10-04 20:09Z"
         },
         "callSign": "EJU42NA",
         "codeshareStatus": "IsOperator",
         "departure": {
          "airport": {
           "name": "Unknown"
          },
          "quality": []
         },
         "isCargo": false,
         "number": "EC 42NA",
         "status": "Arrived"
        },
        {
         "aircraft": {
          "modeS": "440486",
          "model": "Airbus A320-100/200",
          "reg": "OE-IZV"
         },
         "airline": {
          "name": "EasyJet Europe"
         },
         "arrival": {
          "actualTimeLocal": "2021-10-04 22:11+01:59",
          "actualTimeUtc": "2021-10-04 20:11Z",
          "quality": [
           "Basic",
           "Live"
          ],
          "runway": "25L",
          "runwayTimeLocal": "2021-10-04 22:06+02:00",
          "runwayTimeUtc": "2021-10-04 20:06Z",
          "scheduledTimeLocal": "2021-10-04 22:05+02:00",
          "scheduledTimeUtc": "2021-10-04 20:05Z"
         },
         "callSign": "EJU46EZ",
         "codeshareStatus": "IsOperator",
         "departure": {
          "airport": {
           "iata": "FCO",
           "icao": "LIRF",
           "name": "Rome"
          },
          "quality": []
         },
         "isCargo": false,
         "number": "EC 46EZ",
         "status": "Arrived"
        },
        {
         "aircraft": {
          "modeS": "440148",
          "model": "Airbus A320-100/200",
          "reg": "OE-ICZ"
         },
         "airline": {
          "name": "EasyJet Europe"
         },
         "arrival": {
          "actualTimeLocal": "2021-10-04 22:29+01:59",
          "actualTimeUtc": "2021-10-04 20:29Z",
          "quality": [
           "Basic",
           "Live"
          ],
          "runway": "25L",
          "runwayTimeLocal": "2021-10-04 22:20+02:00",
          "runwayTimeUtc": "2021-10-04 20:20Z",
          "scheduledTimeLocal": "2021-10-04 22:11+02:00",
          "scheduledTimeUtc": "2021-10-04 20:11Z"
         },
         "callSign": "EJU47BH",
         "codeshareStatus": "IsOperator",
         "departure": {
          "airport": {
           "iata": "TFS",
           "icao": "GCTS",
           "name": "Tenerife Island"
          },
          "quality": []
         },
         "isCargo": false,
         "number": "EC 47BH",
         "status": "Arrived"
        },
        {
         "aircraft": {
          "modeS": "440395",
          "model": "Airbus A320-100/200",
          "reg": "OE-IZO"
         },
         "airline": {
          "name": "EasyJet Europe"
         },
         "arrival": {
          "actualTimeLocal": "2021-10-04 22:52+02:00",
          "actualTimeUtc": "2021-10-04 20:52Z",
          "quality": [
           "Basic",
           "Live"
          ],
          "runway": "25L",
          "runwayTimeLocal": "2021-10-04 22:42+02:00",
          "runwayTimeUtc": "2021-10-04 20:42Z",
          "scheduledTimeLocal": "2021-10-04 22:42+02:00",
          "scheduledTimeUtc": "2021-10-04 20:42Z"
         },
         "callSign": "EJU54HD",
         "codeshareStatus": "IsOperator",
         "departure": {
          "airport": {
           "iata": "ORY",
           "icao": "LFPO",
           "name": "Paris"
          },
          "quality": []
         },
         "isCargo": false,
         "number": "EC 54HD",
         "status": "Arrived"
        },
        {
         "aircraft": {
          "modeS": "440713",
          "model": "Airbus A320-100/200",
          "reg": "OE-IJE"
         },
         "airline": {
          "name": "EasyJet Europe"
         },
         "arrival": {
          "actualTimeLocal": "2021-10-04 22:40+02:00",
          "actualTimeUtc": "2021-10-04 20:40Z",
          "quality": [
           "Basic",
           "Live"
          ],
          "runway": "25L",
          "runwayTimeLocal": "2021-10-04 22:31+02:00",
          "runwayTimeUtc": "2021-10-04 20:31Z",
          "scheduledTimeLocal": "2021-10-04 22:31+02:00",
          "scheduledTimeUtc": "2021-10-04 20:31Z"
         },
         "callSign": "EJU61DY",
         "codeshareStatus": "IsOperator",
         "departure": {
          "airport": {
           "iata": "PMI",
           "icao": "LEPA",
           "name": "Palma De Mallorca"
          },
          "quality": []
         },
         "isCargo": false,
         "number": "EC 61DY",
         "status": "Arrived"
        },
        {
         "aircraft": {
          "modeS": "44039E",
          "model": "Airbus A319",
          "reg": "OE-LKI"
         },
         "airline": {
          "name": "EasyJet Europe"
         },
         "arrival": {
          "actualTimeLocal": "2021-10-04 22:37+02:00",
          "actualTimeUtc": "2021-10-04 20:37Z",
          "quality": [
           "Basic",
           "Live"
          ],
          "runway": "25L",
          "runwayTimeLocal": "2021-10-04 22:33+02:00",
          "runwayTimeUtc": "2021-10-04 20:33Z",
          "scheduledTimeLocal": "2021-10-04 22:34+02:00",
          "scheduledTimeUtc": "2021-10-04 20:34Z"
         },
         "callSign": "EJU82PD",
         "codeshareStatus": "IsOperator",
         "departure": {
          "airport": {
           "iata": "NAP",
           "icao": "LIRN",
           "name": "Nápoli"
          },
          "quality": []
         },
         "isCargo": false,
         "number": "EC 82PD",
         "status": "Arrived"
        },
        {
         "aircraft": {
          "modeS": "44034B",
          "model": "Airbus A319",
          "reg": "OE-LQR"
         },
         "airline": {
          "name": "EasyJet Europe"
         },
         "arrival": {
          "actualTimeLocal": "2021-10-04 22:15+01:59",
          "actualTimeUtc": "2021-10-04 20:15Z",
          "quality": [
           "Basic",
           "Live"
          ],
          "runway": "25L",
          "runwayTimeLocal": "2021-10-04 22:12+02:00",
          "runwayTimeUtc": "2021-10-04 20:12Z",
          "scheduledTimeLocal": "2021-10-04 22:12+02:00",
          "scheduledTimeUtc": "2021-10-04 20:12Z"
         },
         "callSign": "EJU83AC",
         "codeshareStatus": "IsOperator",
         "departure": {
          "airport": {
           "iata": "LGW",
           "icao": "EGKK",
           "name": "London"
          },
          "quality": []
         },
         "isCargo": false,
         "number": "EC 83AC",
         "status": "Arrived"
        },
        {
         "aircraft": {
          "modeS": "440C96",
          "model": "Airbus A320-100/200",
          "reg": "OE-ICJ"
         },
         "airline": {
          "name": "EasyJet Europe"
         },
         "arrival": {
          "actualTimeLocal": "2021-10-04 22:16+02:00",
          "actualTimeUtc": "2021-10-04 20:16Z",
          "quality": [
           "Basic",
           "Live"
          ],
          "runway": "25L",
          "runwayTimeLocal": "2021-10-04 22:13+02:00",
          "runwayTimeUtc": "2021-10-04 20:13Z",
          "scheduledTimeLocal": "2021-10-04 22:13+02:00",
          "scheduledTimeUtc": "2021-10-04 20:13Z"
         },
         "callSign": "EJU87QL",
         "codeshareStatus": "IsOperator",
         "departure": {
          "airport": {
           "iata": "VLC",
           "icao": "LEVC",
           "name": "Valencia"
          },
          "quality": []
         },
         "isCargo": false,
         "number": "EC 87QL",
         "status": "Arrived"
        },
        {
         "aircraft": {
          "model": "Airbus A320"
         },
         "airline": {
          "name": "Eurowings"
         },
         "arrival": {
          "quality": [
           "Basic"
          ],
          "scheduledTimeLocal": "2021-10-04 22:20+02:00",
          "scheduledTimeUtc": "2021-10-04 20:20Z",
          "terminal": "1"
         },
         "codeshareStatus": "Unknown",
         "departure": {
          "actualTimeLocal": "2021-10-04 21:00+02:00",
          "actualTimeUtc": "2021-10-04 19:00Z",
          "airport": {
           "iata": "STR",
           "icao": "EDDS",
           "name": "Stuttgart"
          },
          "gate": "140",
          "quality": [
           "Basic",
           "Live"
          ],
          "scheduledTimeLocal": "2021-10-04 21:00+02:00",
          "scheduledTimeUtc": "2021-10-04 19:00Z",
          "terminal": "T1"
         },
         "isCargo": false,
         "number": "EW 8007",
         "status": "Unknown"
        },
        {
         "aircraft": {
          "model": "Airbus A320",
          "reg": "D-AEWW"
         },
         "airline": {
          "name": "Eurowings"
         },
         "arrival": {
          "quality": [
           "Basic"
          ],
          "scheduledTimeLocal": "2021-10-04 22:10+02:00",
          "scheduledTimeUtc": "2021-10-04 20:10Z",
          "terminal": "1"
         },
         "codeshareStatus": "Unknown",
         "departure": {
          "actualTimeLocal": "2021-10-04 20:58+02:00",
          "actualTimeUtc": "2021-10-04 18:58Z",
          "airport": {
           "iata": "DUS",
           "icao": "EDDL",
           "name": "Duesseldorf"
          },
          "checkInDesk": "153,170",
          "gate": "B71",
          "quality": [
           "Basic",
           "Live"
          ],
          "runwayTimeLocal": "2021-10-04 21:07+02:00",
          "runwayTimeUtc": "2021-10-04 19:07Z",
          "scheduledTimeLocal": "2021-10-04 20:55+02:00",
          "scheduledTimeUtc": "2021-10-04 18:55Z",
          "terminal": "B"
         },
         "isCargo": false,
         "number": "EW 8043",
         "status": "Unknown"
        },
        {
         "aircraft": {
          "modeS": "3C5EF8",
          "model": "Airbus A319",
          "reg": "D-AGWX"
         },
         "airline": {
          "name": "Eurowings"
         },
         "arrival": {
          "actualTimeLocal": "2021-10-04 22:23+01:59",
          "actualTimeUtc": "2021-10-04 20:23Z",
          "quality": [
           "Basic",
           "Live"
          ],
          "runway": "25L",
          "runwayTimeLocal": "2021-10-04 22:15+02:00",
          "runwayTimeUtc": "2021-10-04 20:15Z",
          "scheduledTimeLocal": "2021-10-04 22:20+02:00",
          "scheduledTimeUtc": "2021-10-04 20:20Z",
          "terminal": "1"
         },
         "callSign": "EWG8593",
         "codeshareStatus": "IsOperator",
         "departure": {
          "actualTimeLocal": "2021-10-04 19:59+02:00",
          "actualTimeUtc": "2021-10-04 17:59Z",
          "airport": {
           "iata": "PMI",
           "icao": "LEPA",
           "name": "Palma De Mallorca"
          },
          "checkInDesk": "120-145",
          "gate": "C58",
          "quality": [
           "Basic",
           "Live"
          ],
          "scheduledTimeLocal": "2021-10-04 19:35+02:00",
          "scheduledTimeUtc": "2021-10-04 17:35Z",
          "terminal": "N"
         },
         "isCargo": false,
         "number": "EW 8593",
         "status": "Arrived"
        },
        {
         "aircraft": {
          "modeS": "4D2279",
          "model": "Boeing 737-800",
          "reg": "9H-QBH"
         },
         "airline": {
          "name": "Ryanair"
         },
         "arrival": {
          "actualTimeLocal": "2021-10-04 23:10+02:00",
          "actualTimeUtc": "2021-10-04 21:10Z",
          "quality": [
           "Basic",
           "Live"
          ],
          "runway": "25L",
          "runwayTimeLocal": "2021-10-04 23:10+02:00",
          "runwayTimeUtc": "2021-10-04 21:10Z",
          "scheduledTimeLocal": "2021-10-04 22:30+02:00",
          "scheduledTimeUtc": "2021-10-04 20:30Z"
         },
         "callSign": "RYR30QE",
         "codeshareStatus": "IsOperator",
         "departure": {
          "actualTimeLocal": "2021-10-04 19:00+01:00",
          "actualTimeUtc": "2021-10-04 18:00Z",
          "airport": {
           "iata": "LIS",
           "icao": "LPPT",
           "name": "Lisbon"
          },
          "quality": [
           "Basic",
           "Live"
          ],
          "runway": "03",
          "runwayTimeLocal": "2021-10-04 19:01+01:00",
          "runwayTimeUtc": "2021-10-04 18:01Z",
          "scheduledTimeLocal": "2021-10-04 18:05+01:00",
          "scheduledTimeUtc": "2021-10-04 17:05Z",
          "terminal": "T2"
         },
         "isCargo": false,
         "number": "FR 1143",
         "status": "Arrived"
        },
        {
         "aircraft": {
          "modeS": "4D225D",
          "model": "Boeing 737-800 (winglets)",
          "reg": "9H-QDN"
         },
         "airline": {
          "name": "Ryanair"
         },
         "arrival": {
          "actualTimeLocal": "2021-10-04 23:11+01:59",
          "actualTimeUtc": "2021-10-04 21:11Z",
          "quality": [
           "Basic",
           "Live"
          ],
          "runwayTimeLocal": "2021-10-04 23:05+02:00",
          "runwayTimeUtc": "2021-10-04 21:05Z",
          "scheduledTimeLocal": "2021-10-04 22:00+02:00",
          "scheduledTimeUtc": "2021-10-04 20:00Z"
         },
         "callSign": "RYR45UK",
         "codeshareStatus": "IsOperator",
         "departure": {
          "airport": {
           "iata": "SKG",
           "icao": "LGTS",
           "name": "Thessaloniki"
          },
          "quality": [
           "Basic"
          ],
          "scheduledTimeLocal": "2021-10-04 20:35+03:00",
          "scheduledTimeUtc": "2021-10-04 17:35Z"
         },
         "isCargo": false,
         "number": "FR 1147",
         "status": "Arrived"
        },
        {
         "aircraft": {
          "modeS": "4D226F",
          "model": "Boeing 737-800",
          "reg": "9H-QBG"
         },
         "airline": {
          "name": "Ryanair"
         },
         "arrival": {
          "actualTimeLocal": "2021-10-04 23:00+02:00",
          "actualTimeUtc": "2021-10-04 21:00Z",
          "quality": [
           "Basic",
           "Live"
          ],
          "runway": "25L",
          "runwayTimeLocal": "2021-10-04 23:00+02:00",
          "runwayTimeUtc": "2021-10-04 21:00Z",
          "scheduledTimeLocal": "2021-10-04 22:20+02:00",
          "scheduledTimeUtc": "2021-10-04 20:20Z"
         },
         "callSign": "RYR75MD",
         "codeshareStatus": "IsOperator",
         "departure": {
          "airport": {
           "iata": "CIA",
           "icao": "LIRA",
           "name": "Roma"
          },
          "quality": [
           "Basic"
          ],
          "scheduledTimeLocal": "2021-10-04 20:15+02:00",
          "scheduledTimeUtc": "2021-10-04 18:15Z"
         },
         "isCargo": false,
         "number": "FR 135",
         "status": "Arrived"
        },
        {
         "aircraft": {
          "model": "Boeing 737-800",
          "reg": "EI-EVP"
         },
         "airline": {
          "name": "Ryanair"
         },
         "arrival": {
          "quality": [
           "Basic"
          ],
          "scheduledTimeLocal": "2021-10-04 22:15+02:00",
          "scheduledTimeUtc": "2021-10-04 20:15Z"
         },
         "codeshareStatus": "Unknown",
         "departure": {
          "actualTimeLocal": "2021-10-04 20:45+02:00",
          "actualTimeUtc": "2021-10-04 18:45Z",
          "airport": {
           "iata": "BRU",
           "icao": "EBBR",
           "name": "Brussels"
          },
          "quality": [
           "Basic",
           "Live"
          ],
          "runwayTimeLocal": "2021-10-04 21:57+02:00",
          "runwayTimeUtc": "2021-10-04 19:57Z",
          "scheduledTimeLocal": "2021-10-04 20:45+02:00",
          "scheduledTimeUtc": "2021-10-04 18:45Z"
         },
         "isCargo": false,
         "number": "FR 167",
         "status": "Unknown"
        },
        {
         "aircraft": {
          "modeS": "4D2234",
          "model": "Boeing 737-800 (winglets)",
          "reg": "9H-QCF"
         },
         "airline": {
          "name": "Ryanair"
         },
         "arrival": {
          "actualTimeLocal": "2021-10-04 22:31+01:59",
          "actualTimeUtc": "2021-10-04 20:31Z",
          "quality": [
           "Basic",
           "Live"
          ],
          "runway": "25L",
          "runwayTimeLocal": "2021-10-04 22:29+02:00",
          "runwayTimeUtc": "2021-10-04 20:29Z",
          "scheduledTimeLocal": "2021-10-04 22:00+02:00",
          "scheduledTimeUtc": "2021-10-04 20:00Z"
         },
         "callSign": "RYR98NR",
         "codeshareStatus": "IsOperator",
         "departure": {
          "airport": {
           "iata": "ATH",
           "icao": "LGAV",
           "name": "Athens"
          },
          "quality": [
           "Basic"
          ],
          "scheduledTimeLocal": "2021-10-04 20:05+03:00",
          "scheduledTimeUtc": "2021-10-04 17:05Z"
         },
         "isCargo": false,
         "number": "FR 171",
         "status": "Arrived"
        },
        {
         "aircraft": {
          "modeS": "4D21E9",
          "model": "Boeing 737-800",
          "reg": "9H-QAQ"
         },
         "airline": {
          "name": "Ryanair"
         },
         "arrival": {
          "actualTimeLocal": "2021-10-04 22:16+02:00",
          "actualTimeUtc": "2021-10-04 20:16Z",
          "quality": [
           "Basic",
           "Live"
          ],
          "runway": "25L",
          "runwayTimeLocal": "2021-10-04 22:16+02:00",
          "runwayTimeUtc": "2021-10-04 20:16Z",
          "scheduledTimeLocal": "2021-10-04 22:05+02:00",
          "scheduledTimeUtc": "2021-10-04 20:05Z"
         },
         "callSign": "RYR2XV",
         "codeshareStatus": "IsOperator",
         "departure": {
          "airport": {
           "iata": "HER",
           "icao": "LGIR",
           "name": "Heraklion"
          },
          "quality": [
           "Basic"
          ],
          "scheduledTimeLocal": "2021-10-04 19:50+03:00",
          "scheduledTimeUtc": "2021-10-04 16:50Z"
         },
         "isCargo": false,
         "number": "FR 31",
         "status": "Arrived"
        },
        {
         "aircraft": {
          "model": "Boeing 737-800"
         },
         "airline": {
          "name": "Ryanair"
         },
         "arrival": {
          "quality": [
           "Basic"
          ],
          "scheduledTimeLocal": "2021-10-04 22:05+02:00",
          "scheduledTimeUtc": "2021-10-04 20:05Z"
         },
         "codeshareStatus": "Unknown",
         "departure": {
          "airport": {
           "iata": "OTP",
           "icao": "LROP",
           "name": "Bucharest"
          },
          "quality": [
           "Basic"
          ],
          "scheduledTimeLocal": "2021-10-04 20:55+03:00",
          "scheduledTimeUtc": "2021-10-04 17:55Z"
         },
         "isCargo": false,
         "number": "FR 328",
         "status": "CanceledUncertain"
        },
        {
         "aircraft": {
          "modeS": "44D068",
          "model": "Airbus A320-100/200",
          "reg": "OO-TCH"
         },
         "airline": {
          "name": "Brussels"
         },
         "arrival": {
          "actualTimeLocal": "2021-10-04 22:26+02:00",
          "actualTimeUtc": "2021-10-04 20:26Z",
          "quality": [
           "Basic",
           "Live"
          ],
          "runway": "25L",
          "runwayTimeLocal": "2021-10-04 22:23+02:00",
          "runwayTimeUtc": "2021-10-04 20:23Z",
          "scheduledTimeLocal": "2021-10-04 22:35+02:00",
          "scheduledTimeUtc": "2021-10-04 20:35Z",
          "terminal": "1"
         },
         "callSign": "BEL2591",
         "codeshareStatus": "IsOperator",
         "departure": {
          "actualTimeLocal": "2021-10-04 21:21+02:00",
          "actualTimeUtc": "2021-10-04 19:21Z",
          "airport": {
           "iata": "BRU",
           "icao": "EBBR",
           "name": "Brussels"
          },
          "checkInDesk": "04",
          "quality": [
           "Basic",
           "Live"
          ],
          "runway": "25R",
          "runwayTimeLocal": "2021-10-04 21:22+02:00",
          "runwayTimeUtc": "2021-10-04 19:22Z",
          "scheduledTimeLocal": "2021-10-04 21:00+02:00",
          "scheduledTimeUtc": "2021-10-04 19:00Z"
         },
         "isCargo": false,
         "number": "SN 2591",
         "status": "Arrived"
        },
        {
         "airline": {
          "name": "SundAir"
         },
         "arrival": {
          "actualTimeLocal": "2021-10-04 22:22+02:00",
          "actualTimeUtc": "2021-10-04 20:22Z",
          "quality": [
           "Basic",
           "Live"
          ],
          "runway": "25L",
          "runwayTimeLocal": "2021-10-04 22:19+02:00",
          "runwayTimeUtc": "2021-10-04 20:19Z",
          "scheduledTimeLocal": "2021-10-04 22:19+02:00",
          "scheduledTimeUtc": "2021-10-04 20:19Z"
         },
         "callSign": "SDR49PD",
         "codeshareStatus": "IsOperator",
         "departure": {
          "airport": {
           "name": "Unknown"
          },
          "quality": []
         },
         "isCargo": false,
         "number": "SR 49PD",
         "status": "Arrived"
        },
        {
         "aircraft": {
          "modeS": "49D31F",
          "model": "Beechcraft 400",
          "reg": "OK-NTD"
         },
         "airline": {
          "name": "TIE"
         },
         "arrival": {
          "actualTimeLocal": "2021-10-04 22:16+02:00",
          "actualTimeUtc": "2021-10-04 20:16Z",
          "quality": [
           "Basic",
           "Live"
          ],
          "runway": "25L",
          "runwayTimeLocal": "2021-10-04 22:04+02:00",
          "runwayTimeUtc": "2021-10-04 20:04Z",
          "scheduledTimeLocal": "2021-10-04 22:16+02:00",
          "scheduledTimeUtc": "2021-10-04 20:16Z"
         },
         "callSign": "TIE27BD",
         "codeshareStatus": "IsOperator",
         "departure": {
          "actualTimeLocal": "2021-10-04 21:05+02:00",
          "actualTimeUtc": "2021-10-04 19:05Z",
          "airport": {
           "iata": "ZRH",
           "icao": "LSZH",
           "name": "Zurich"
          },
          "quality": [
           "Basic",
           "Live"
          ],
          "runway": "32",
          "runwayTimeLocal": "2021-10-04 21:06+02:00",
          "runwayTimeUtc": "2021-10-04 19:06Z",
          "scheduledTimeLocal": "2021-10-04 21:05+02:00",
          "scheduledTimeUtc": "2021-10-04 19:05Z"
         },
         "isCargo": false,
         "number": "TIE 27BD",
         "status": "Arrived"
        },
        {
         "aircraft": {
          "model": "Airbus A320"
         },
         "airline": {
          "name": "easyJet"
         },
         "arrival": {
          "quality": [
           "Basic"
          ],
          "scheduledTimeLocal": "2021-10-04 22:10+02:00",
          "scheduledTimeUtc": "2021-10-04 20:10Z",
          "terminal": "1"
         },
         "codeshareStatus": "Unknown",
         "departure": {
          "airport": {
           "iata": "VLC",
           "icao": "LEVC",
           "name": "Valencia"
          },
          "quality": [
           "Basic"
          ],
          "scheduledTimeLocal": "2021-10-04 19:00+02:00",
          "scheduledTimeUtc": "2021-10-04 17:00Z"
         },
         "isCargo": false,
         "number": "U2 4518",
         "status": "CanceledUncertain"
        },
        {
         "aircraft": {
          "model": "Airbus A320"
         },
         "airline": {
          "name": "easyJet"
         },
         "arrival": {
          "quality": [
           "Basic"
          ],
          "scheduledTimeLocal": "2021-10-04 22:35+02:00",
          "scheduledTimeUtc": "2021-10-04 20:35Z",
          "terminal": "1"
         },
         "codeshareStatus": "Unknown",
         "departure": {
          "airport": {
           "iata": "BCN",
           "icao": "LEBL",
           "name": "Barcelona"
          },
          "quality": [
           "Basic"
          ],
          "scheduledTimeLocal": "2021-10-04 19:45+02:00",
          "scheduledTimeUtc": "2021-10-04 17:45Z",
          "terminal": "2"
         },
         "isCargo": false,
         "number": "U2 4530",
         "status": "CanceledUncertain"
        },
        {
         "aircraft": {
          "model": "Airbus A319"
         },
         "airline": {
          "name": "easyJet"
         },
         "arrival": {
          "quality": [
           "Basic"
          ],
          "scheduledTimeLocal": "2021-10-04 22:55+02:00",
          "scheduledTimeUtc": "2021-10-04 20:55Z",
          "terminal": "1"
         },
         "codeshareStatus": "Unknown",
         "departure": {
          "airport": {
           "iata": "AMS",
           "icao": "EHAM",
           "name": "Amsterdam"
          },
          "quality": [
           "Basic"
          ],
          "scheduledTimeLocal": "2021-10-04 21:30+02:00",
          "scheduledTimeUtc": "2021-10-04 19:30Z"
         },
         "isCargo": false,
         "number": "U2 4568",
         "status": "CanceledUncertain"
        },
        {
         "aircraft": {
          "model": "Airbus A319"
         },
         "airline": {
          "name": "easyJet"
         },
         "arrival": {
          "quality": [
           "Basic"
          ],
          "scheduledTimeLocal": "2021-10-04 22:20+02:00",
          "scheduledTimeUtc": "2021-10-04 20:20Z",
          "terminal": "1"
         },
         "codeshareStatus": "Unknown",
         "departure": {
          "airport": {
           "iata": "NAP",
           "icao": "LIRN",
           "name": "Nápoli"
          },
          "quality": [
           "Basic"
          ],
          "scheduledTimeLocal": "2021-10-04 20:00+02:00",
          "scheduledTimeUtc": "2021-10-04 18:00Z"
         },
         "isCargo": false,
         "number": "U2 4576",
         "status": "Unknown"
        },
        {
         "aircraft": {
          "model": "Airbus A320"
         },
         "airline": {
          "name": "easyJet"
         },
         "arrival": {
          "quality": [
           "Basic"
          ],
          "scheduledTimeLocal": "2021-10-04 22:30+02:00",
          "scheduledTimeUtc": "2021-10-04 20:30Z",
          "terminal": "1"
         },
         "codeshareStatus": "Unknown",
         "departure": {
          "airport": {
           "iata": "MXP",
           "icao": "LIMC",
           "name": "Milan"
          },
          "quality": [
           "Basic"
          ],
          "scheduledTimeLocal": "2021-10-04 20:40+02:00",
          "scheduledTimeUtc": "2021-10-04 18:40Z",
          "terminal": "1"
         },
         "isCargo": false,
         "number": "U2 4676",
         "status": "Unknown"
        },
        {
         "aircraft": {
          "model": "Airbus A320"
         },
         "airline": {
          "name": "easyJet"
         },
         "arrival": {
          "quality": [
           "Basic"
          ],
          "scheduledTimeLocal": "2021-10-04 22:45+02:00",
          "scheduledTimeUtc": "2021-10-04 20:45Z",
          "terminal": "1"
         },
         "codeshareStatus": "Unknown",
         "departure": {
          "airport": {
           "iata": "TFS",
           "icao": "GCTS",
           "name": "Tenerife Island"
          },
          "quality": [
           "Basic"
          ],
          "scheduledTimeLocal": "2021-10-04 16:25+01:00",
          "scheduledTimeUtc": "2021-10-04 15:25Z"
         },
         "isCargo": false,
         "number": "U2 4718",
         "status": "CanceledUncertain"
        },
        {
         "aircraft": {
          "model": "Airbus A320"
         },
         "airline": {
          "name": "easyJet"
         },
         "arrival": {
          "quality": [
           "Basic"
          ],
          "scheduledTimeLocal": "2021-10-04 22:15+02:00",
          "scheduledTimeUtc": "2021-10-04 20:15Z",
          "terminal": "1"
         },
         "codeshareStatus": "Unknown",
         "departure": {
          "airport": {
           "iata": "ORY",
           "icao": "LFPO",
           "name": "Paris"
          },
          "quality": [
           "Basic"
          ],
          "scheduledTimeLocal": "2021-10-04 20:30+02:00",
          "scheduledTimeUtc": "2021-10-04 18:30Z",
          "terminal": "1"
         },
         "isCargo": false,
         "number": "U2 5540",
         "status": "Unknown"
        },
        {
         "aircraft": {
          "model": "Airbus A320"
         },
         "airline": {
          "name": "easyJet"
         },
         "arrival": {
          "quality": [
           "Basic"
          ],
          "scheduledTimeLocal": "2021-10-04 22:10+02:00",
          "scheduledTimeUtc": "2021-10-04 20:10Z",
          "terminal": "1"
         },
         "codeshareStatus": "Unknown",
         "departure": {
          "airport": {
           "iata": "FCO",
           "icao": "LIRF",
           "name": "Rome"
          },
          "quality": [
           "Basic"
          ],
          "scheduledTimeLocal": "2021-10-04 19:55+02:00",
          "scheduledTimeUtc": "2021-10-04 17:55Z",
          "terminal": "3"
         },
         "isCargo": false,
         "number": "U2 5708",
         "status": "Unknown"
        },
        {
         "aircraft": {
          "model": "Airbus A320"
         },
         "airline": {
          "name": "easyJet"
         },
         "arrival": {
          "quality": [
           "Basic"
          ],
          "scheduledTimeLocal": "2021-10-04 22:15+02:00",
          "scheduledTimeUtc": "2021-10-04 20:15Z",
          "terminal": "1"
         },
         "codeshareStatus": "Unknown",
         "departure": {
          "airport": {
           "iata": "GOT",
           "icao": "ESGG",
           "name": "Goteborg"
          },
          "quality": [
           "Basic"
          ],
          "scheduledTimeLocal": "2021-10-04 21:00+02:00",
          "scheduledTimeUtc": "2021-10-04 19:00Z"
         },
         "isCargo": false,
         "number": "U2 5722",
         "status": "CanceledUncertain"
        },
        {
         "aircraft": {
          "model": "Airbus A320"
         },
         "airline": {
          "name": "easyJet"
         },
         "arrival": {
          "quality": [
           "Basic"
          ],
          "scheduledTimeLocal": "2021-10-04 22:25+02:00",
          "scheduledTimeUtc": "2021-10-04 20:25Z",
          "terminal": "1"
         },
         "codeshareStatus": "Unknown",
         "departure": {
          "airport": {
           "iata": "NCE",
           "icao": "LFMN",
           "name": "Nice"
          },
          "quality": [
           "Basic"
          ],
          "scheduledTimeLocal": "2021-10-04 20:20+02:00",
          "scheduledTimeUtc": "2021-10-04 18:20Z",
          "terminal": "2"
         },
         "isCargo": false,
         "number": "U2 5762",
         "status": "Unknown"
        },
        {
         "aircraft": {
          "model": "Airbus A320"
         },
         "airline": {
          "name": "easyJet"
         },
         "arrival": {
          "quality": [
           "Basic"
          ],
          "scheduledTimeLocal": "2021-10-04 22:30+02:00",
          "scheduledTimeUtc": "2021-10-04 20:30Z",
          "terminal": "1"
         },
         "codeshareStatus": "Unknown",
         "departure": {
          "airport": {
           "iata": "PMI",
           "icao": "LEPA",
           "name": "Palma De Mallorca"
          },
          "quality": [
           "Basic"
          ],
          "scheduledTimeLocal": "2021-10-04 19:35+02:00",
          "scheduledTimeUtc": "2021-10-04 17:35Z"
         },
         "isCargo": false,
         "number": "U2 5816",
         "status": "CanceledUncertain"
        },
        {
         "aircraft": {
          "modeS": "405638",
          "model": "Airbus A319",
          "reg": "G-EZDJ"
         },
         "airline": {
          "name": "easyJet"
         },
         "arrival": {
          "actualTimeLocal": "2021-10-04 22:43+01:59",
          "actualTimeUtc": "2021-10-04 20:43Z",
          "quality": [
           "Basic",
           "Live"
          ],
          "runway": "25L",
          "runwayTimeLocal": "2021-10-04 22:39+02:00",
          "runwayTimeUtc": "2021-10-04 20:39Z",
          "scheduledTimeLocal": "2021-10-04 22:30+02:00",
          "scheduledTimeUtc": "2021-10-04 20:30Z",
          "terminal": "1"
         },
         "callSign": "EZY16ZP",
         "codeshareStatus": "IsOperator",
         "departure": {
          "airport": {
           "iata": "LGW",
           "icao": "EGKK",
           "name": "London"
          },
          "quality": [
           "Basic"
          ],
          "scheduledTimeLocal": "2021-10-04 19:30+01:00",
          "scheduledTimeUtc": "2021-10-04 18:30Z",
          "terminal": "N"
         },
         "isCargo": false,
         "number": "U2 8217",
         "status": "Arrived"
        },
        {
         "aircraft": {
          "modeS": "440138",
          "model": "Airbus A320-100/200",
          "reg": "OE-IZT"
         },
         "airline": {
          "name": "EasyJet Europe"
         },
         "arrival": {
          "actualTimeLocal": "2021-10-04 23:12+01:59",
          "actualTimeUtc": "2021-10-04 21:12Z",
          "quality": [
           "Basic",
           "Live"
          ],
          "runway": "25L",
          "runwayTimeLocal": "2021-10-04 23:08+02:00",
          "runwayTimeUtc": "2021-10-04 21:08Z",
          "scheduledTimeLocal": "2021-10-04 23:08+02:00",
          "scheduledTimeUtc": "2021-10-04 21:08Z"
         },
         "callSign": "EJU5686",
         "codeshareStatus": "IsOperator",
         "departure": {
          "actualTimeLocal": "2021-10-04 22:27+02:00",
          "actualTimeUtc": "2021-10-04 20:27Z",
          "airport": {
           "iata": "CPH",
           "icao": "EKCH",
           "name": "Copenhagen"
          },
          "quality": [
           "Basic",
           "Live"
          ],
          "runway": "22R",
          "runwayTimeLocal": "2021-10-04 22:27+02:00",
          "runwayTimeUtc": "2021-10-04 20:27Z",
          "scheduledTimeLocal": "2021-10-04 22:27+02:00",
          "scheduledTimeUtc": "2021-10-04 20:27Z"
         },
         "isCargo": false,
         "number": "EC 5686",
         "status": "Arrived"
        },
        {
         "aircraft": {
          "modeS": "44061C",
          "model": "Airbus A319",
          "reg": "OE-LKL"
         },
         "airline": {
          "name": "EasyJet Europe"
         },
         "arrival": {
          "actualTimeLocal": "2021-10-04 23:25+02:00",
          "actualTimeUtc": "2021-10-04 21:25Z",
          "quality": [
           "Basic",
           "Live"
          ],
          "runway": "25L",
          "runwayTimeLocal": "2021-10-04 23:18+02:00",
          "runwayTimeUtc": "2021-10-04 21:18Z",
          "scheduledTimeLocal": "2021-10-04 23:15+02:00",
          "scheduledTimeUtc": "2021-10-04 21:15Z"
         },
         "callSign": "EJU98EP",
         "codeshareStatus": "IsOperator",
         "departure": {
          "airport": {
           "iata": "AMS",
           "icao": "EHAM",
           "name": "Amsterdam"
          },
          "quality": []
         },
         "isCargo": false,
         "number": "EC 98EP",
         "status": "Arrived"
        },
        {
         "aircraft": {
          "modeS": "3C5EED",
          "model": "Airbus A319",
          "reg": "D-AGWM"
         },
         "airline": {
          "name": "Germanwings"
         },
         "arrival": {
          "actualTimeLocal": "2021-10-05 01:16+02:00",
          "actualTimeUtc": "2021-10-04 23:16Z",
          "quality": [
           "Basic",
           "Live"
          ],
          "runway": "07R",
          "runwayTimeLocal": "2021-10-05 01:11+02:00",
          "runwayTimeUtc": "2021-10-04 23:11Z",
          "scheduledTimeLocal": "2021-10-05 01:11+02:00",
          "scheduledTimeUtc": "2021-10-04 23:11Z"
         },
         "callSign": "GWI3002",
         "codeshareStatus": "IsOperator",
         "departure": {
          "airport": {
           "iata": "STR",
           "icao": "EDDS",
           "name": "Stuttgart"
          },
          "quality": []
         },
         "isCargo": false,
         "number": "4U 3002",
         "status": "Arrived"
        },
        {
         "aircraft": {
          "modeS": "440575",
          "model": "Boeing 737-400 Freighter",
          "reg": "OE-IAP"
         },
         "airline": {
          "name": "ASL  Belgium"
         },
         "arrival": {
          "actualTimeLocal": "2021-10-05 05:34+01:59",
          "actualTimeUtc": "2021-10-05 03:34Z",
          "quality": [
           "Basic",
           "Live"
          ],
          "runway": "25L",
          "runwayTimeLocal": "2021-10-05 05:30+02:00",
          "runwayTimeUtc": "2021-10-05 03:30Z",
          "scheduledTimeLocal": "2021-10-05 05:27+02:00",
          "scheduledTimeUtc": "2021-10-05 03:27Z"
         },
         "callSign": "TAY4542",
         "codeshareStatus": "IsOperator",
         "departure": {
          "airport": {
           "iata": "LGG",
           "icao": "EBLG",
           "name": "Liège"
          },
          "quality": []
         },
         "isCargo": true,
         "number": "3V 4542",
         "status": "Arrived"
        },
        {
         "aircraft": {
          "modeS": "45CE4E",
          "model": "Boeing 767-200",
          "reg": "OY-SRN"
         },
         "airline": {
          "name": "Star Air A/S"
         },
         "arrival": {
          "actualTimeLocal": "2021-10-05 05:47+02:00",
          "actualTimeUtc": "2021-10-05 03:47Z",
          "quality": [
           "Basic",
           "Live"
          ],
          "runway": "07R",
          "runwayTimeLocal": "2021-10-05 05:40+02:00",
          "runwayTimeUtc": "2021-10-05 03:40Z",
          "scheduledTimeLocal": "2021-10-05 05:39+02:00",
          "scheduledTimeUtc": "2021-10-05 03:39Z"
         },
         "callSign": "SRR6228",
         "codeshareStatus": "IsOperator",
         "departure": {
          "actualTimeLocal": "2021-10-05 04:50+02:00",
          "actualTimeUtc": "2021-10-05 02:50Z",
          "airport": {
           "iata": "CGN",
           "icao": "EDDK",
           "name": "Cologne"
          },
          "quality": [
           "Basic",
           "Live"
          ],
          "runway": "14L",
          "runwayTimeLocal": "2021-10-05 04:50+02:00",
          "runwayTimeUtc": "2021-10-05 02:50Z",
          "scheduledTimeLocal": "2021-10-05 04:50+02:00",
          "scheduledTimeUtc": "2021-10-05 02:50Z"
         },
         "isCargo": false,
         "number": "DJ 6228",
         "status": "Arrived"
        },
        {
         "airline": {
          "name": "ASL  Belgium"
         },
         "arrival": {
          "actualTimeLocal": "2021-10-05 06:32+01:59",
          "actualTimeUtc": "2021-10-05 04:32Z",
          "quality": [
           "Basic",
           "Live"
          ],
          "runway": "07R",
          "runwayTimeLocal": "2021-10-05 06:29+02:00",
          "runwayTimeUtc": "2021-10-05 04:29Z",
          "scheduledTimeLocal": "2021-10-05 06:29+02:00",
          "scheduledTimeUtc": "2021-10-05 04:29Z"
         },
         "callSign": "TAY4634",
         "codeshareStatus": "IsOperator",
         "departure": {
          "actualTimeLocal": "2021-10-05 05:56+02:00",
          "actualTimeUtc": "2021-10-05 03:56Z",
          "airport": {
           "iata": "HAJ",
           "icao": "EDDV",
           "name": "Hanover"
          },
          "quality": [
           "Basic",
           "Live"
          ],
          "runway": "09L",
          "runwayTimeLocal": "2021-10-05 06:02+02:00",
          "runwayTimeUtc": "2021-10-05 04:02Z",
          "scheduledTimeLocal": "2021-10-05 05:56+02:00",
          "scheduledTimeUtc": "2021-10-05 03:56Z"
         },
         "isCargo": false,
         "number": "3V 4634",
         "status": "Arrived"
        },
        {
         "aircraft": {
          "modeS": "3F7DC1",
          "model": "Airbus A319",
          "reg": "1501"
         },
         "airline": {
          "name": "Luftwaffe"
         },
         "arrival": {
          "actualTimeLocal": "2021-10-04 23:13+01:59",
          "actualTimeUtc": "2021-10-04 21:13Z",
          "quality": [
           "Basic",
           "Live"
          ],
          "runway": "25L",
          "runwayTimeLocal": "2021-10-04 22:56+02:00",
          "runwayTimeUtc": "2021-10-04 20:56Z",
          "scheduledTimeLocal": "2021-10-04 22:57+02:00",
          "scheduledTimeUtc": "2021-10-04 20:57Z"
         },
         "callSign": "GAF813",
         "codeshareStatus": "IsOperator",
         "departure": {
          "actualTimeLocal": "2021-10-04 22:11+02:00",
          "actualTimeUtc": "2021-10-04 20:11Z",
          "airport": {
           "iata": "VIE",
           "icao": "LOWW",
           "name": "Vienna"
          },
          "quality": [
           "Basic",
           "Live"
          ],
          "runwayTimeLocal": "2021-10-04 22:11+02:00",
          "runwayTimeUtc": "2021-10-04 20:11Z",
          "scheduledTimeLocal": "2021-10-04 22:11+02:00",
          "scheduledTimeUtc": "2021-10-04 20:11Z"
         },
         "isCargo": false,
         "number": "GAF 813",
         "status": "Arrived"
        },
        {
         "aircraft": {
          "modeS": "484FDF",
          "model": "Boeing 737-800 (winglets)",
          "reg": "PH-BCE"
         },
         "airline": {
          "name": "KLM"
         },
         "arrival": {
          "actualTimeLocal": "2021-10-04 22:36+02:00",
          "actualTimeUtc": "2021-10-04 20:36Z",
          "quality": [
           "Basic",
           "Live"
          ],
          "runway": "25L",
          "runwayTimeLocal": "2021-10-04 22:36+02:00",
          "runwayTimeUtc": "2021-10-04 20:36Z",
          "scheduledTimeLocal": "2021-10-04 22:00+02:00",
          "scheduledTimeUtc": "2021-10-04 20:00Z",
          "terminal": "0"
         },
         "callSign": "KLM51T",
         "codeshareStatus": "IsOperator",
         "departure": {
          "actualTimeLocal": "2021-10-04 21:36+02:00",
          "actualTimeUtc": "2021-10-04 19:36Z",
          "airport": {
           "iata": "AMS",
           "icao": "EHAM",
           "name": "Amsterdam"
          },
          "checkInDesk": "5-7",
          "gate": "D62",
          "quality": [
           "Basic",
           "Live"
          ],
          "runway": "09",
          "runwayTimeLocal": "2021-10-04 21:46+02:00",
          "runwayTimeUtc": "2021-10-04 19:46Z",
          "scheduledTimeLocal": "2021-10-04 20:45+02:00",
          "scheduledTimeUtc": "2021-10-04 18:45Z",
          "terminal": "1"
         },
         "isCargo": false,
         "number": "KL 1835",
         "status": "Arrived"
        },
        {
         "aircraft": {
          "modeS": "3C6747",
          "model": "Airbus A320-100/200",
          "reg": "D-AIZG"
         },
         "airline": {
          "name": "Lufthansa"
         },
         "arrival": {
          "actualTimeLocal": "2021-10-04 23:08+02:00",
          "actualTimeUtc": "2021-10-04 21:08Z",
          "quality": [
           "Basic",
           "Live"
          ],
          "runway": "25L",
          "runwayTimeLocal": "2021-10-04 23:06+02:00",
          "runwayTimeUtc": "2021-10-04 21:06Z",
          "scheduledTimeLocal": "2021-10-04 22:35+02:00",
          "scheduledTimeUtc": "2021-10-04 20:35Z",
          "terminal": "1"
         },
         "callSign": "DLH1N",
         "codeshareStatus": "IsOperator",
         "departure": {
          "actualTimeLocal": "2021-10-04 22:20+02:00",
          "actualTimeUtc": "2021-10-04 20:20Z",
          "airport": {
           "iata": "MUC",
           "icao": "EDDM",
           "name": "Munich"
          },
          "quality": [
           "Basic",
           "Live"
          ],
          "runwayTimeLocal": "2021-10-04 22:21+02:00",
          "runwayTimeUtc": "2021-10-04 20:21Z",
          "scheduledTimeLocal": "2021-10-04 21:30+02:00",
          "scheduledTimeUtc": "2021-10-04 19:30Z",
          "terminal": "2"
         },
         "isCargo": false,
         "number": "LH 1962",
         "status": "Arrived"
        },
        {
         "aircraft": {
          "modeS": "3C6488",
          "model": "Airbus A321-100/200",
          "reg": "D-AIDH"
         },
         "airline": {
          "name": "Lufthansa"
         },
         "arrival": {
          "actualTimeLocal": "2021-10-04 23:11+01:59",
          "actualTimeUtc": "2021-10-04 21:11Z",
          "quality": [
           "Basic",
           "Live"
          ],
          "runway": "25L",
          "runwayTimeLocal": "2021-10-04 23:09+02:00",
          "runwayTimeUtc": "2021-10-04 21:09Z",
          "scheduledTimeLocal": "2021-10-04 22:40+02:00",
          "scheduledTimeUtc": "2021-10-04 20:40Z",
          "terminal": "1"
         },
         "callSign": "DLH198",
         "codeshareStatus": "IsOperator",
         "departure": {
          "actualTimeLocal": "2021-10-04 22:15+02:00",
          "actualTimeUtc": "2021-10-04 20:15Z",
          "airport": {
           "iata": "FRA",
           "icao": "EDDF",
           "name": "Frankfurt-am-Main"
          },
          "checkInDesk": "263-453",
          "gate": "A17",
          "quality": [
           "Basic",
           "Live"
          ],
          "runway": "25C",
          "runwayTimeLocal": "2021-10-04 22:25+02:00",
          "runwayTimeUtc": "2021-10-04 20:25Z",
          "scheduledTimeLocal": "2021-10-04 21:30+02:00",
          "scheduledTimeUtc": "2021-10-04 19:30Z",
          "terminal": "1"
         },
         "isCargo": false,
         "number": "LH 198",
         "status": "Arrived"
        },
        {
         "aircraft": {
          "modeS": "4D2279",
          "model": "Boeing 737-800",
          "reg": "9H-QBH"
         },
         "airline": {
          "name": "Ryanair"
         },
         "arrival": {
          "actualTimeLocal": "2021-10-05 06:23+02:00",
          "actualTimeUtc": "2021-10-05 04:23Z",
          "quality": [
           "Basic",
           "Live"
          ],
          "runwayTimeLocal": "2021-10-05 06:17+02:00",
          "runwayTimeUtc": "2021-10-05 04:17Z",
          "scheduledTimeLocal": "2021-10-05 06:17+02:00",
          "scheduledTimeUtc": "2021-10-05 04:17Z"
         },
         "callSign": "RYR267",
         "codeshareStatus": "IsOperator",
         "departure": {
          "airport": {
           "name": "Unknown"
          },
          "quality": []
         },
         "isCargo": false,
         "number": "FR 267",
         "status": "Arrived"
        },
        {
         "aircraft": {
          "modeS": "4BCDD6",
          "model": "Boeing 737-800 (winglets)",
          "reg": "TC-SNV"
         },
         "airline": {
          "name": "SunExpress"
         },
         "arrival": {
          "actualTimeLocal": "2021-10-05 05:44+01:59",
          "actualTimeUtc": "2021-10-05 03:44Z",
          "quality": [
           "Basic",
           "Live"
          ],
          "runway": "07R",
          "runwayTimeLocal": "2021-10-05 05:42+02:00",
          "runwayTimeUtc": "2021-10-05 03:42Z",
          "scheduledTimeLocal": "2021-10-05 06:10+02:00",
          "scheduledTimeUtc": "2021-10-05 04:10Z",
          "terminal": "1"
         },
         "callSign": "SXS5DY",
         "codeshareStatus": "IsOperator",
         "departure": {
          "airport": {
           "iata": "ADB",
           "icao": "LTBJ",
           "name": "İzmir"
          },
          "quality": [
           "Basic"
          ],
          "scheduledTimeLocal": "2021-10-05 04:00+03:00",
          "scheduledTimeUtc": "2021-10-05 01:00Z",
          "terminal": "I"
         },
         "isCargo": false,
         "number": "XQ 966",
         "status": "Arrived"
        },
        {
         "aircraft": {
          "modeS": "3C6754",
          "model": "Airbus A320-200 (Sharklets)",
          "reg": "D-AIZT"
         },
         "airline": {
          "name": "Germanwings"
         },
         "arrival": {
          "actualTimeLocal": "2021-10-05 07:11+01:59",
          "actualTimeUtc": "2021-10-05 05:11Z",
          "quality": [
           "Basic",
           "Live"
          ],
          "runway": "07R",
          "runwayTimeLocal": "2021-10-05 07:03+02:00",
          "runwayTimeUtc": "2021-10-05 05:03Z",
          "scheduledTimeLocal": "2021-10-05 07:03+02:00",
          "scheduledTimeUtc": "2021-10-05 05:03Z"
         },
         "callSign": "GWI2002",
         "codeshareStatus": "IsOperator",
         "departure": {
          "actualTimeLocal": "2021-10-05 06:17+02:00",
          "actualTimeUtc": "2021-10-05 04:17Z",
          "airport": {
           "iata": "STR",
           "icao": "EDDS",
           "name": "Stuttgart"
          },
          "quality": [
           "Basic",
           "Live"
          ],
          "runwayTimeLocal": "2021-10-05 06:17+02:00",
          "runwayTimeUtc": "2021-10-05 04:17Z",
          "scheduledTimeLocal": "2021-10-05 06:17+02:00",
          "scheduledTimeUtc": "2021-10-05 04:17Z"
         },
         "isCargo": false,
         "number": "4U 2002",
         "status": "Arrived"
        },
        {
         "aircraft": {
          "modeS": "4B1A3E",
          "model": "Airbus A319",
          "reg": "HB-JYK"
         },
         "airline": {
          "name": "Easyjet Switzerland"
         },
         "arrival": {
          "actualTimeLocal": "2021-10-05 07:29+01:59",
          "actualTimeUtc": "2021-10-05 05:29Z",
          "quality": [
           "Basic",
           "Live"
          ],
          "runway": "07R",
          "runwayTimeLocal": "2021-10-05 07:22+02:00",
          "runwayTimeUtc": "2021-10-05 05:22Z",
          "scheduledTimeLocal": "2021-10-05 07:19+02:00",
          "scheduledTimeUtc": "2021-10-05 05:19Z"
         },
         "callSign": "EZS4634",
         "codeshareStatus": "IsOperator",
         "departure": {
          "actualTimeLocal": "2021-10-05 06:24+02:00",
          "actualTimeUtc": "2021-10-05 04:24Z",
          "airport": {
           "iata": "BSL",
           "icao": "LFSB",
           "name": "Bâle/Mulhouse"
          },
          "checkInDesk": "42-50",
          "gate": "82",
          "quality": [
           "Basic",
           "Live"
          ],
          "runway": "33",
          "runwayTimeLocal": "2021-10-05 06:25+02:00",
          "runwayTimeUtc": "2021-10-05 04:25Z",
          "scheduledTimeLocal": "2021-10-05 06:20+02:00",
          "scheduledTimeUtc": "2021-10-05 04:20Z"
         },
         "isCargo": false,
         "number": "DS 4634",
         "status": "Arrived"
        },
        {
         "aircraft": {
          "model": "Airbus A319"
         },
         "airline": {
          "name": "Eurowings"
         },
         "arrival": {
          "quality": [
           "Basic"
          ],
          "scheduledTimeLocal": "2021-10-05 07:25+02:00",
          "scheduledTimeUtc": "2021-10-05 05:25Z",
          "terminal": "1"
         },
         "codeshareStatus": "Unknown",
         "departure": {
          "airport": {
           "iata": "CGN",
           "icao": "EDDK",
           "name": "Cologne"
          },
          "quality": [
           "Basic"
          ],
          "scheduledTimeLocal": "2021-10-05 06:15+02:00",
          "scheduledTimeUtc": "2021-10-05 04:15Z",
          "terminal": "1"
         },
         "isCargo": false,
         "number": "EW 12",
         "status": "Unknown"
        },
        {
         "aircraft": {
          "model": "Airbus A320"
         },
         "airline": {
          "name": "Eurowings"
         },
         "arrival": {
          "quality": [
           "Basic"
          ],
          "scheduledTimeLocal": "2021-10-05 07:35+02:00",
          "scheduledTimeUtc": "2021-10-05 05:35Z",
          "terminal": "1"
         },
         "codeshareStatus": "Unknown",
         "departure": {
          "actualTimeLocal": "2021-10-05 06:20+02:00",
          "actualTimeUtc": "2021-10-05 04:20Z",
          "airport": {
           "iata": "STR",
           "icao": "EDDS",
           "name": "Stuttgart"
          },
          "gate": "322",
          "quality": [
           "Basic",
           "Live"
          ],
          "scheduledTimeLocal": "2021-10-05 06:20+02:00",
          "scheduledTimeUtc": "2021-10-05 04:20Z",
          "terminal": "T1"
         },
         "isCargo": false,
         "number": "EW 2002",
         "status": "Unknown"
        },
        {
         "aircraft": {
          "model": "Airbus A320",
          "reg": "D-ABZI"
         },
         "airline": {
          "name": "Eurowings"
         },
         "arrival": {
          "quality": [
           "Basic"
          ],
          "scheduledTimeLocal": "2021-10-05 07:35+02:00",
          "scheduledTimeUtc": "2021-10-05 05:35Z",
          "terminal": "1"
         },
         "codeshareStatus": "Unknown",
         "departure": {
          "actualTimeLocal": "2021-10-05 06:21+02:00",
          "actualTimeUtc": "2021-10-05 04:21Z",
          "airport": {
           "iata": "DUS",
           "icao": "EDDL",
           "name": "Duesseldorf"
          },
          "checkInDesk": "153,170",
          "gate": "A66",
          "quality": [
           "Basic",
           "Live"
          ],
          "runwayTimeLocal": "2021-10-05 06:29+02:00",
          "runwayTimeUtc": "2021-10-05 04:29Z",
          "scheduledTimeLocal": "2021-10-05 06:25+02:00",
          "scheduledTimeUtc": "2021-10-05 04:25Z",
          "terminal": "B"
         },
         "isCargo": false,
         "number": "EW 9048",
         "status": "Unknown"
        },
        {
         "aircraft": {
          "modeS": "3C648D",
          "model": "Airbus A321-100/200",
          "reg": "D-AIDM"
         },
         "airline": {
          "name": "Lufthansa"
         },
         "arrival": {
          "actualTimeLocal": "2021-10-05 07:53+02:00",
          "actualTimeUtc": "2021-10-05 05:53Z",
          "quality": [
           "Basic",
           "Live"
          ],
          "runway": "07R",
          "runwayTimeLocal": "2021-10-05 07:45+02:00",
          "runwayTimeUtc": "2021-10-05 05:45Z",
          "scheduledTimeLocal": "2021-10-05 07:55+02:00",
          "scheduledTimeUtc": "2021-10-05 05:55Z",
          "terminal": "1"
         },
         "callSign": "DLH3WU",
         "codeshareStatus": "IsOperator",
         "departure": {
          "actualTimeLocal": "2021-10-05 06:45+02:00",
          "actualTimeUtc": "2021-10-05 04:45Z",
          "airport": {
           "iata": "FRA",
           "icao": "EDDF",
           "name": "Frankfurt-am-Main"
          },
          "checkInDesk": "263-453",
          "gate": "A21",
          "quality": [
           "Basic",
           "Live"
          ],
          "runway": "25L",
          "runwayTimeLocal": "2021-10-05 07:06+02:00",
          "runwayTimeUtc": "2021-10-05 05:06Z",
          "scheduledTimeLocal": "2021-10-05 06:45+02:00",
          "scheduledTimeUtc": "2021-10-05 04:45Z",
          "terminal": "1"
         },
         "isCargo": false,
         "number": "LH 170",
         "status": "Arrived"
        },
        {
         "aircraft": {
          "modeS": "471EA9",
          "model": "Airbus A320-100/200",
          "reg": "HA-LPX"
         },
         "airline": {
          "name": "Wizz Air"
         },
         "arrival": {
          "actualTimeLocal": "2021-10-05 07:15+02:00",
          "actualTimeUtc": "2021-10-05 05:15Z",
          "quality": [
           "Basic",
           "Live"
          ],
          "runway": "07R",
          "runwayTimeLocal": "2021-10-05 07:08+02:00",
          "runwayTimeUtc": "2021-10-05 05:08Z",
          "scheduledTimeLocal": "2021-10-05 07:40+02:00",
          "scheduledTimeUtc": "2021-10-05 05:40Z",
          "terminal": "0"
         },
         "callSign": "WZZ5234",
         "codeshareStatus": "IsOperator",
         "departure": {
          "airport": {
           "iata": "VAR",
           "icao": "LBWN",
           "name": "Varna"
          },
          "quality": [
           "Basic"
          ],
          "scheduledTimeLocal": "2021-10-05 06:10+03:00",
          "scheduledTimeUtc": "2021-10-05 03:10Z"
         },
         "isCargo": false,
         "number": "W6 4515",
         "status": "Arrived"
        },
        {
         "aircraft": {
          "modeS": "4852F4",
          "model": "Embraer EMB 175",
          "reg": "PH-EXG"
         },
         "airline": {
          "name": "KLM"
         },
         "arrival": {
          "actualTimeLocal": "2021-10-05 08:00+02:00",
          "actualTimeUtc": "2021-10-05 06:00Z",
          "quality": [
           "Basic",
           "Live"
          ],
          "runway": "07R",
          "runwayTimeLocal": "2021-10-05 08:00+02:00",
          "runwayTimeUtc": "2021-10-05 06:00Z",
          "scheduledTimeLocal": "2021-10-05 08:20+02:00",
          "scheduledTimeUtc": "2021-10-05 06:20Z",
          "terminal": "0"
         },
         "callSign": "KLM69H",
         "codeshareStatus": "IsOperator",
         "departure": {
          "actualTimeLocal": "2021-10-05 06:57+02:00",
          "actualTimeUtc": "2021-10-05 04:57Z",
          "airport": {
           "iata": "AMS",
           "icao": "EHAM",
           "name": "Amsterdam"
          },
          "checkInDesk": "9-16",
          "gate": "B27",
          "quality": [
           "Basic",
           "Live"
          ],
          "runway": "24",
          "runwayTimeLocal": "2021-10-05 07:07+02:00",
          "runwayTimeUtc": "2021-10-05 05:07Z",
          "scheduledTimeLocal": "2021-10-05 07:00+02:00",
          "scheduledTimeUtc": "2021-10-05 05:00Z",
          "terminal": "2"
         },
         "isCargo": false,
         "number": "KL 1821",
         "status": "Arrived"
        }
       ],
       "departures": [
        {
         "aircraft": {
          "modeS": "440614",
          "model": "Airbus A321 NEO",
          "reg": "OE-ISC"
         },
         "airline": {
          "name": "EasyJet Europe"
         },
         "arrival": {
          "airport": {
           "iata": "CDG",
           "icao": "LFPG",
           "name": "Paris"
          },
          "quality": []
         },
         "callSign": "EJU62LZ",
         "codeshareStatus": "IsOperator",
         "departure": {
          "actualTimeLocal": "2021-10-04 20:33+02:00",
          "actualTimeUtc": "2021-10-04 18:33Z",
          "quality": [
           "Basic",
           "Live"
          ],
          "runway": "25L",
          "runwayTimeLocal": "2021-10-04 20:37+02:00",
          "runwayTimeUtc": "2021-10-04 18:37Z",
          "scheduledTimeLocal": "2021-10-04 20:33+02:00",
          "scheduledTimeUtc": "2021-10-04 18:33Z"
         },
         "isCargo": false,
         "number": "EC 62LZ",
         "status": "Departed"
        },
        {
         "aircraft": {
          "modeS": "4B8DF2",
          "model": "Boeing 737-800",
          "reg": "TC-COR"
         },
         "airline": {
          "name": "Corendon  Europe"
         },
         "arrival": {
          "airport": {
           "name": "Unknown"
          },
          "quality": []
         },
         "callSign": "CXI192",
         "codeshareStatus": "IsOperator",
         "departure": {
          "actualTimeLocal": "2021-10-04 20:31+02:00",
          "actualTimeUtc": "2021-10-04 18:31Z",
          "quality": [
           "Basic",
           "Live"
          ],
          "runway": "25L",
          "runwayTimeLocal": "2021-10-04 20:42+02:00",
          "runwayTimeUtc": "2021-10-04 18:42Z",
          "scheduledTimeLocal": "2021-10-04 20:31+02:00",
          "scheduledTimeUtc": "2021-10-04 18:31Z"
         },
         "isCargo": false,
         "number": "XR 192",
         "status": "Departed"
        },
        {
         "aircraft": {
          "modeS": "440062",
          "model": "Airbus A320-100/200",
          "reg": "OE-IVF"
         },
         "airline": {
          "name": "EasyJet Europe"
         },
         "arrival": {
          "airport": {
           "name": "Unknown"
          },
          "quality": []
         },
         "callSign": "EJU38GC",
         "codeshareStatus": "IsOperator",
         "departure": {
          "actualTimeLocal": "2021-10-04 21:54+02:00",
          "actualTimeUtc": "2021-10-04 19:54Z",
          "quality": [
           "Basic",
           "Live"
          ],
          "runwayTimeLocal": "2021-10-04 21:55+02:00",
          "runwayTimeUtc": "2021-10-04 19:55Z",
          "scheduledTimeLocal": "2021-10-04 21:54+02:00",
          "scheduledTimeUtc": "2021-10-04 19:54Z"
         },
         "isCargo": false,
         "number": "EC 38GC",
         "status": "Departed"
        },
        {
         "aircraft": {
          "modeS": "440118",
          "model": "Boeing 737-400",
          "reg": "OE-IBO"
         },
         "airline": {
          "name": "ASL  Belgium"
         },
         "arrival": {
          "airport": {
           "name": "Unknown"
          },
          "quality": []
         },
         "callSign": "TAY4324",
         "codeshareStatus": "IsOperator",
         "departure": {
          "actualTimeLocal": "2021-10-04 22:34+02:00",
          "actualTimeUtc": "2021-10-04 20:34Z",
          "quality": [
           "Basic",
           "Live"
          ],
          "runway": "25L",
          "runwayTimeLocal": "2021-10-04 22:46+02:00",
          "runwayTimeUtc": "2021-10-04 20:46Z",
          "scheduledTimeLocal": "2021-10-04 22:34+02:00",
          "scheduledTimeUtc": "2021-10-04 20:34Z"
         },
         "isCargo": false,
         "number": "3V 4324",
         "status": "Departed"
        },
        {
         "aircraft": {
          "modeS": "502CED",
          "model": "Airbus A321-100/200",
          "reg": "YL-LCV"
         },
         "airline": {
          "name": "SmartLynx"
         },
         "arrival": {
          "airport": {
           "name": "Unknown"
          },
          "quality": []
         },
         "callSign": "ART3178",
         "codeshareStatus": "IsOperator",
         "departure": {
          "actualTimeLocal": "2021-10-04 22:18+02:00",
          "actualTimeUtc": "2021-10-04 20:18Z",
          "quality": [
           "Basic",
           "Live"
          ],
          "runway": "25L",
          "runwayTimeLocal": "2021-10-04 22:32+02:00",
          "runwayTimeUtc": "2021-10-04 20:32Z",
          "scheduledTimeLocal": "2021-10-04 22:18+02:00",
          "scheduledTimeUtc": "2021-10-04 20:18Z"
         },
         "isCargo": false,
         "number": "6Y 3178",
         "status": "Departed"
        },
        {
         "aircraft": {
          "modeS": "4D20F7",
          "model": "Bombardier Global Express",
          "reg": "9H-VJO"
         },
         "airline": {
          "name": "VistaJet"
         },
         "arrival": {
          "airport": {
           "name": "Unknown"
          },
          "quality": []
         },
         "callSign": "VJT878",
         "codeshareStatus": "IsOperator",
         "departure": {
          "actualTimeLocal": "2021-10-04 22:47+02:00",
          "actualTimeUtc": "2021-10-04 20:47Z",
          "quality": [
           "Basic",
           "Live"
          ],
          "runway": "25L",
          "runwayTimeLocal": "2021-10-04 23:13+02:00",
          "runwayTimeUtc": "2021-10-04 21:13Z",
          "scheduledTimeLocal": "2021-10-04 22:47+02:00",
          "scheduledTimeUtc": "2021-10-04 20:47Z"
         },
         "isCargo": false,
         "number": "VJT 878",
         "status": "Departed"
        },
        {
         "aircraft": {
          "modeS": "3F7DC1",
          "model": "Airbus A319",
          "reg": "1501"
         },
         "airline": {
          "name": "Luftwaffe"
         },
         "arrival": {
          "airport": {
           "name": "Unknown"
          },
          "quality": []
         },
         "callSign": "GAF813",
         "codeshareStatus": "IsOperator",
         "departure": {
          "actualTimeLocal": "2021-10-04 23:42+02:00",
          "actualTimeUtc": "2021-10-04 21:42Z",
          "quality": [
           "Basic",
           "Live"
          ],
          "runway": "25L",
          "runwayTimeLocal": "2021-10-04 23:56+02:00",
          "runwayTimeUtc": "2021-10-04 21:56Z",
          "scheduledTimeLocal": "2021-10-04 23:42+02:00",
          "scheduledTimeUtc": "2021-10-04 21:42Z"
         },
         "isCargo": false,
         "number": "GAF 813",
         "status": "Departed"
        },
        {
         "aircraft": {
          "modeS": "440575",
          "model": "Boeing 737-400 Freighter",
          "reg": "OE-IAP"
         },
         "airline": {
          "name": "ASL  Belgium"
         },
         "arrival": {
          "airport": {
           "name": "Unknown"
          },
          "quality": []
         },
         "callSign": "TAY4542",
         "codeshareStatus": "IsOperator",
         "departure": {
          "actualTimeLocal": "2021-10-05 06:36+02:00",
          "actualTimeUtc": "2021-10-05 04:36Z",
          "quality": [
           "Basic",
           "Live"
          ],
          "runway": "07R",
          "runwayTimeLocal": "2021-10-05 06:47+02:00",
          "runwayTimeUtc": "2021-10-05 04:47Z",
          "scheduledTimeLocal": "2021-10-05 06:36+02:00",
          "scheduledTimeUtc": "2021-10-05 04:36Z"
         },
         "isCargo": true,
         "number": "3V 4542",
         "status": "Departed"
        },
        {
         "aircraft": {
          "modeS": "44061C",
          "model": "Airbus A319",
          "reg": "OE-LKL"
         },
         "airline": {
          "name": "EasyJet Europe"
         },
         "arrival": {
          "airport": {
           "iata": "PMI",
           "icao": "LEPA",
           "name": "Palma De Mallorca"
          },
          "quality": []
         },
         "callSign": "EJU71EF",
         "codeshareStatus": "IsOperator",
         "departure": {
          "actualTimeLocal": "2021-10-05 06:26+02:00",
          "actualTimeUtc": "2021-10-05 04:26Z",
          "quality": [
           "Basic",
           "Live"
          ],
          "runwayTimeLocal": "2021-10-05 06:35+02:00",
          "runwayTimeUtc": "2021-10-05 04:35Z",
          "scheduledTimeLocal": "2021-10-05 06:26+02:00",
          "scheduledTimeUtc": "2021-10-05 04:26Z"
         },
         "isCargo": false,
         "number": "EC 71EF",
         "status": "Departed"
        },
        {
         "aircraft": {
          "modeS": "3C0893",
          "model": "Airbus A320-100/200",
          "reg": "D-ASGK"
         },
         "airline": {
          "name": "SundAir"
         },
         "arrival": {
          "airport": {
           "name": "Unknown"
          },
          "quality": []
         },
         "callSign": "SDR49PA",
         "codeshareStatus": "IsOperator",
         "departure": {
          "actualTimeLocal": "2021-10-05 06:09+02:00",
          "actualTimeUtc": "2021-10-05 04:09Z",
          "quality": [
           "Basic",
           "Live"
          ],
          "runwayTimeLocal": "2021-10-05 06:24+02:00",
          "runwayTimeUtc": "2021-10-05 04:24Z",
          "scheduledTimeLocal": "2021-10-05 06:09+02:00",
          "scheduledTimeUtc": "2021-10-05 04:09Z"
         },
         "isCargo": false,
         "number": "SR 11DL",
         "status": "Departed"
        },
        {
         "aircraft": {
          "modeS": "440138",
          "model": "Airbus A320-100/200",
          "reg": "OE-IZT"
         },
         "airline": {
          "name": "EasyJet Europe"
         },
         "arrival": {
          "airport": {
           "name": "Unknown"
          },
          "quality": []
         },
         "callSign": "EJU12KJ",
         "codeshareStatus": "IsOperator",
         "departure": {
          "actualTimeLocal": "2021-10-05 07:14+02:00",
          "actualTimeUtc": "2021-10-05 05:14Z",
          "quality": [
           "Basic",
           "Live"
          ],
          "runway": "07R",
          "runwayTimeLocal": "2021-10-05 07:28+02:00",
          "runwayTimeUtc": "2021-10-05 05:28Z",
          "scheduledTimeLocal": "2021-10-05 07:14+02:00",
          "scheduledTimeUtc": "2021-10-05 05:14Z"
         },
         "isCargo": false,
         "number": "EC 12KJ",
         "status": "Departed"
        },
        {
         "aircraft": {
          "modeS": "440395",
          "model": "Airbus A320-100/200",
          "reg": "OE-IZO"
         },
         "airline": {
          "name": "EasyJet Europe"
         },
         "arrival": {
          "airport": {
           "iata": "HER",
           "icao": "LGIR",
           "name": "Heraklion"
          },
          "quality": []
         },
         "callSign": "EJU4745",
         "codeshareStatus": "IsOperator",
         "departure": {
          "actualTimeLocal": "2021-10-05 07:40+02:00",
          "actualTimeUtc": "2021-10-05 05:40Z",
          "quality": [
           "Basic",
           "Live"
          ],
          "runwayTimeLocal": "2021-10-05 07:40+02:00",
          "runwayTimeUtc": "2021-10-05 05:40Z",
          "scheduledTimeLocal": "2021-10-05 07:40+02:00",
          "scheduledTimeUtc": "2021-10-05 05:40Z"
         },
         "isCargo": false,
         "number": "EC 4745",
         "status": "Departed"
        },
        {
         "aircraft": {
          "modeS": "440145",
          "model": "Airbus A320-100/200",
          "reg": "OE-IZS"
         },
         "airline": {
          "name": "EasyJet Europe"
         },
         "arrival": {
          "airport": {
           "iata": "AMS",
           "icao": "EHAM",
           "name": "Amsterdam"
          },
          "quality": []
         },
         "callSign": "EJU61BT",
         "codeshareStatus": "IsOperator",
         "departure": {
          "actualTimeLocal": "2021-10-05 07:10+02:00",
          "actualTimeUtc": "2021-10-05 05:10Z",
          "quality": [
           "Basic",
           "Live"
          ],
          "runway": "07R",
          "runwayTimeLocal": "2021-10-05 07:24+02:00",
          "runwayTimeUtc": "2021-10-05 05:24Z",
          "scheduledTimeLocal": "2021-10-05 07:10+02:00",
          "scheduledTimeUtc": "2021-10-05 05:10Z"
         },
         "isCargo": false,
         "number": "EC 61BT",
         "status": "Departed"
        },
        {
         "aircraft": {
          "modeS": "440309",
          "model": "Airbus A320-100/200",
          "reg": "OE-IZD"
         },
         "airline": {
          "name": "EasyJet Europe"
         },
         "arrival": {
          "airport": {
           "iata": "ATH",
           "icao": "LGAV",
           "name": "Athens"
          },
          "quality": []
         },
         "callSign": "EJU96FH",
         "codeshareStatus": "IsOperator",
         "departure": {
          "actualTimeLocal": "2021-10-05 07:51+02:00",
          "actualTimeUtc": "2021-10-05 05:51Z",
          "quality": [
           "Basic",
           "Live"
          ],
          "runway": "07R",
          "runwayTimeLocal": "2021-10-05 07:57+02:00",
          "runwayTimeUtc": "2021-10-05 05:57Z",
          "scheduledTimeLocal": "2021-10-05 07:51+02:00",
          "scheduledTimeUtc": "2021-10-05 05:51Z"
         },
         "isCargo": false,
         "number": "EC 96FH",
         "status": "Departed"
        },
        {
         "aircraft": {
          "model": "Boeing 737-800"
         },
         "airline": {
          "name": "Ryanair"
         },
         "arrival": {
          "airport": {
           "iata": "BRU",
           "icao": "EBBR",
           "name": "Brussels"
          },
          "quality": [
           "Basic"
          ],
          "scheduledTimeLocal": "2021-10-05 07:50+02:00",
          "scheduledTimeUtc": "2021-10-05 05:50Z"
         },
         "codeshareStatus": "Unknown",
         "departure": {
          "quality": [
           "Basic"
          ],
          "scheduledTimeLocal": "2021-10-05 06:20+02:00",
          "scheduledTimeUtc": "2021-10-05 04:20Z"
         },
         "isCargo": false,
         "number": "FR 162",
         "status": "CanceledUncertain"
        },
        {
         "aircraft": {
          "modeS": "44D068",
          "model": "Airbus A320-100/200",
          "reg": "OO-TCH"
         },
         "airline": {
          "name": "Brussels"
         },
         "arrival": {
          "actualTimeLocal": "2021-10-05 08:19+02:00",
          "actualTimeUtc": "2021-10-05 06:19Z",
          "airport": {
           "iata": "BRU",
           "icao": "EBBR",
           "name": "Brussels"
          },
          "quality": [
           "Basic",
           "Live"
          ],
          "runway": "25R",
          "runwayTimeLocal": "2021-10-05 08:16+02:00",
          "runwayTimeUtc": "2021-10-05 06:16Z",
          "scheduledTimeLocal": "2021-10-05 08:25+02:00",
          "scheduledTimeUtc": "2021-10-05 06:25Z"
         },
         "callSign": "BEL2592",
         "codeshareStatus": "IsOperator",
         "departure": {
          "actualTimeLocal": "2021-10-05 07:01+02:00",
          "actualTimeUtc": "2021-10-05 05:01Z",
          "quality": [
           "Basic",
           "Live"
          ],
          "runway": "07R",
          "runwayTimeLocal": "2021-10-05 07:14+02:00",
          "runwayTimeUtc": "2021-10-05 05:14Z",
          "scheduledTimeLocal": "2021-10-05 07:00+02:00",
          "scheduledTimeUtc": "2021-10-05 05:00Z",
          "terminal": "1"
         },
         "isCargo": false,
         "number": "SN 2592",
         "status": "Departed"
        },
        {
         "aircraft": {
          "modeS": "3C65CB",
          "model": "Airbus A320",
          "reg": "D-AINK"
         },
         "airline": {
          "name": "Lufthansa"
         },
         "arrival": {
          "actualTimeLocal": "2021-10-04 21:11+02:00",
          "actualTimeUtc": "2021-10-04 19:11Z",
          "airport": {
           "iata": "FRA",
           "icao": "EDDF",
           "name": "Frankfurt-am-Main"
          },
          "gate": "A2",
          "quality": [
           "Basic",
           "Live"
          ],
          "scheduledTimeLocal": "2021-10-04 21:10+02:00",
          "scheduledTimeUtc": "2021-10-04 19:10Z",
          "terminal": "1"
         },
         "callSign": "DLH2WJ",
         "codeshareStatus": "IsOperator",
         "departure": {
          "actualTimeLocal": "2021-10-04 20:05+02:00",
          "actualTimeUtc": "2021-10-04 18:05Z",
          "quality": [
           "Basic",
           "Live"
          ],
          "runway": "25L",
          "runwayTimeLocal": "2021-10-04 20:15+02:00",
          "runwayTimeUtc": "2021-10-04 18:15Z",
          "scheduledTimeLocal": "2021-10-04 20:00+02:00",
          "scheduledTimeUtc": "2021-10-04 18:00Z",
          "terminal": "1"
         },
         "isCargo": false,
         "number": "LH 199",
         "status": "Departed"
        },
        {
         "aircraft": {
          "modeS": "3C6488",
          "model": "Airbus A321-100/200",
          "reg": "D-AIDH"
         },
         "airline": {
          "name": "Lufthansa"
         },
         "arrival": {
          "actualTimeLocal": "2021-10-05 07:55+02:00",
          "actualTimeUtc": "2021-10-05 05:55Z",
          "airport": {
           "iata": "FRA",
           "icao": "EDDF",
           "name": "Frankfurt-am-Main"
          },
          "gate": "A2",
          "quality": [
           "Basic",
           "Live"
          ],
          "runway": "25R",
          "runwayTimeLocal": "2021-10-05 07:45+02:00",
          "runwayTimeUtc": "2021-10-05 05:45Z",
          "scheduledTimeLocal": "2021-10-05 07:55+02:00",
          "scheduledTimeUtc": "2021-10-05 05:55Z",
          "terminal": "1"
         },
         "callSign": "DLH173",
         "codeshareStatus": "IsOperator",
         "departure": {
          "actualTimeLocal": "2021-10-05 06:48+02:00",
          "actualTimeUtc": "2021-10-05 04:48Z",
          "quality": [
           "Basic",
           "Live"
          ],
          "runwayTimeLocal": "2021-10-05 07:00+02:00",
          "runwayTimeUtc": "2021-10-05 05:00Z",
          "scheduledTimeLocal": "2021-10-05 06:45+02:00",
          "scheduledTimeUtc": "2021-10-05 04:45Z",
          "terminal": "1"
         },
         "isCargo": false,
         "number": "LH 173",
         "status": "Departed"
        },
        {
         "aircraft": {
          "modeS": "3C6447",
          "model": "Airbus A319",
          "reg": "D-AIBG"
         },
         "airline": {
          "name": "Lufthansa"
         },
         "arrival": {
          "actualTimeLocal": "2021-10-05 08:58+02:00",
          "actualTimeUtc": "2021-10-05 06:58Z",
          "airport": {
           "iata": "FRA",
           "icao": "EDDF",
           "name": "Frankfurt-am-Main"
          },
          "gate": "B1",
          "quality": [
           "Basic",
           "Live"
          ],
          "runway": "25C",
          "runwayTimeLocal": "2021-10-05 08:46+02:00",
          "runwayTimeUtc": "2021-10-05 06:46Z",
          "scheduledTimeLocal": "2021-10-05 08:55+02:00",
          "scheduledTimeUtc": "2021-10-05 06:55Z",
          "terminal": "1"
         },
         "callSign": "DLH6LL",
         "codeshareStatus": "IsOperator",
         "departure": {
          "actualTimeLocal": "2021-10-05 07:46+02:00",
          "actualTimeUtc": "2021-10-05 05:46Z",
          "quality": [
           "Basic",
           "Live"
          ],
          "runway": "07R",
          "runwayTimeLocal": "2021-10-05 07:58+02:00",
          "runwayTimeUtc": "2021-10-05 05:58Z",
          "scheduledTimeLocal": "2021-10-05 07:45+02:00",
          "scheduledTimeUtc": "2021-10-05 05:45Z",
          "terminal": "1"
         },
         "isCargo": false,
         "number": "LH 175",
         "status": "Departed"
        },
        {
         "aircraft": {
          "modeS": "45CE4E",
          "model": "Boeing 767-200",
          "reg": "OY-SRN"
         },
         "airline": {
          "name": "Star Air A/S"
         },
         "arrival": {
          "actualTimeLocal": "2021-10-05 00:16+02:00",
          "actualTimeUtc": "2021-10-04 22:16Z",
          "airport": {
           "iata": "CGN",
           "icao": "EDDK",
           "name": "Cologne"
          },
          "quality": [
           "Basic",
           "Live"
          ],
          "runway": "14L",
          "scheduledTimeLocal": "2021-10-05 00:16+02:00",
          "scheduledTimeUtc": "2021-10-04 22:16Z"
         },
         "callSign": "SRR6227",
         "codeshareStatus": "IsOperator",
         "departure": {
          "actualTimeLocal": "2021-10-04 23:04+02:00",
          "actualTimeUtc": "2021-10-04 21:04Z",
          "quality": [
           "Basic",
           "Live"
          ],
          "runway": "25L",
          "runwayTimeLocal": "2021-10-04 23:25+02:00",
          "runwayTimeUtc": "2021-10-04 21:25Z",
          "scheduledTimeLocal": "2021-10-04 23:04+02:00",
          "scheduledTimeUtc": "2021-10-04 21:04Z"
         },
         "isCargo": false,
         "number": "DJ 6227",
         "status": "Departed"
        },
        {
         "aircraft": {
          "modeS": "3C5EED",
          "model": "Airbus A319",
          "reg": "D-AGWM"
         },
         "airline": {
          "name": "Germanwings"
         },
         "arrival": {
          "actualTimeLocal": "2021-10-05 09:02+02:00",
          "actualTimeUtc": "2021-10-05 07:02Z",
          "airport": {
           "iata": "CGN",
           "icao": "EDDK",
           "name": "Cologne"
          },
          "quality": [
           "Basic",
           "Live"
          ],
          "runway": "14L",
          "scheduledTimeLocal": "2021-10-05 07:09+02:00",
          "scheduledTimeUtc": "2021-10-05 05:09Z"
         },
         "callSign": "GWI9AF",
         "codeshareStatus": "IsOperator",
         "departure": {
          "actualTimeLocal": "2021-10-05 06:03+02:00",
          "actualTimeUtc": "2021-10-05 04:03Z",
          "quality": [
           "Basic",
           "Live"
          ],
          "runwayTimeLocal": "2021-10-05 06:19+02:00",
          "runwayTimeUtc": "2021-10-05 04:19Z",
          "scheduledTimeLocal": "2021-10-05 06:03+02:00",
          "scheduledTimeUtc": "2021-10-05 04:03Z"
         },
         "isCargo": false,
         "number": "4U 9AF",
         "status": "Departed"
        },
        {
         "aircraft": {
          "model": "Airbus A319"
         },
         "airline": {
          "name": "Eurowings"
         },
         "arrival": {
          "airport": {
           "iata": "CGN",
           "icao": "EDDK",
           "name": "Cologne"
          },
          "quality": [
           "Basic"
          ],
          "scheduledTimeLocal": "2021-10-05 07:20+02:00",
          "scheduledTimeUtc": "2021-10-05 05:20Z",
          "terminal": "1"
         },
         "codeshareStatus": "Unknown",
         "departure": {
          "quality": [
           "Basic"
          ],
          "scheduledTimeLocal": "2021-10-05 06:10+02:00",
          "scheduledTimeUtc": "2021-10-05 04:10Z",
          "terminal": "1"
         },
         "isCargo": false,
         "number": "EW 8058",
         "status": "Unknown"
        },
        {
         "aircraft": {
          "modeS": "3C65DA",
          "model": "Airbus A320",
          "reg": "D-AINT"
         },
         "airline": {
          "name": "Lufthansa"
         },
         "arrival": {
          "actualTimeLocal": "2021-10-04 22:20+01:59",
          "actualTimeUtc": "2021-10-04 20:20Z",
          "airport": {
           "iata": "MUC",
           "icao": "EDDM",
           "name": "Munich"
          },
          "quality": [
           "Basic",
           "Live"
          ],
          "runwayTimeLocal": "2021-10-04 22:05+02:00",
          "runwayTimeUtc": "2021-10-04 20:05Z",
          "scheduledTimeLocal": "2021-10-04 22:25+02:00",
          "scheduledTimeUtc": "2021-10-04 20:25Z",
          "terminal": "2"
         },
         "callSign": "DLH5AA",
         "codeshareStatus": "IsOperator",
         "departure": {
          "actualTimeLocal": "2021-10-04 21:09+02:00",
          "actualTimeUtc": "2021-10-04 19:09Z",
          "quality": [
           "Basic",
           "Live"
          ],
          "runway": "25L",
          "runwayTimeLocal": "2021-10-04 21:19+02:00",
          "runwayTimeUtc": "2021-10-04 19:19Z",
          "scheduledTimeLocal": "2021-10-04 21:15+02:00",
          "scheduledTimeUtc": "2021-10-04 19:15Z",
          "terminal": "1"
         },
         "isCargo": false,
         "number": "LH 1965",
         "status": "Departed"
        },
        {
         "aircraft": {
          "modeS": "3C6747",
          "model": "Airbus A320-100/200",
          "reg": "D-AIZG"
         },
         "airline": {
          "name": "Lufthansa"
         },
         "arrival": {
          "actualTimeLocal": "2021-10-05 08:48+02:00",
          "actualTimeUtc": "2021-10-05 06:48Z",
          "airport": {
           "iata": "MUC",
           "icao": "EDDM",
           "name": "Munich"
          },
          "quality": [
           "Basic",
           "Live"
          ],
          "scheduledTimeLocal": "2021-10-05 07:40+02:00",
          "scheduledTimeUtc": "2021-10-05 05:40Z",
          "terminal": "2"
         },
         "callSign": "DLH6KX",
         "codeshareStatus": "IsOperator",
         "departure": {
          "actualTimeLocal": "2021-10-05 07:47+02:00",
          "actualTimeUtc": "2021-10-05 05:47Z",
          "quality": [
           "Basic",
           "Live"
          ],
          "runway": "07R",
          "runwayTimeLocal": "2021-10-05 08:00+02:00",
          "runwayTimeUtc": "2021-10-05 06:00Z",
          "scheduledTimeLocal": "2021-10-05 06:30+02:00",
          "scheduledTimeUtc": "2021-10-05 04:30Z",
          "terminal": "1"
         },
         "isCargo": false,
         "number": "LH 1927",
         "status": "Departed"
        },
        {
         "aircraft": {
          "modeS": "3C56F7",
          "model": "Airbus A320-100/200",
          "reg": "D-AEWW"
         },
         "airline": {
          "name": "Germanwings"
         },
         "arrival": {
          "actualTimeLocal": "2021-10-05 08:05+01:59",
          "actualTimeUtc": "2021-10-05 06:05Z",
          "airport": {
           "iata": "STR",
           "icao": "EDDS",
           "name": "Stuttgart"
          },
          "quality": [
           "Basic",
           "Live"
          ],
          "runwayTimeLocal": "2021-10-05 07:33+02:00",
          "runwayTimeUtc": "2021-10-05 05:33Z",
          "scheduledTimeLocal": "2021-10-05 07:33+02:00",
          "scheduledTimeUtc": "2021-10-05 05:33Z"
         },
         "callSign": "GWI4EP",
         "codeshareStatus": "IsOperator",
         "departure": {
          "actualTimeLocal": "2021-10-05 06:27+02:00",
          "actualTimeUtc": "2021-10-05 04:27Z",
          "quality": [
           "Basic",
           "Live"
          ],
          "runway": "07R",
          "runwayTimeLocal": "2021-10-05 06:39+02:00",
          "runwayTimeUtc": "2021-10-05 04:39Z",
          "scheduledTimeLocal": "2021-10-05 06:27+02:00",
          "scheduledTimeUtc": "2021-10-05 04:27Z"
         },
         "isCargo": false,
         "number": "4U 4EP",
         "status": "Departed"
        },
        {
         "aircraft": {
          "model": "Airbus A320"
         },
         "airline": {
          "name": "Eurowings"
         },
         "arrival": {
          "actualTimeLocal": "2021-10-05 07:45+02:00",
          "actualTimeUtc": "2021-10-05 05:45Z",
          "airport": {
           "iata": "STR",
           "icao": "EDDS",
           "name": "Stuttgart"
          },
          "quality": [
           "Basic",
           "Live"
          ],
          "scheduledTimeLocal": "2021-10-05 07:50+02:00",
          "scheduledTimeUtc": "2021-10-05 05:50Z",
          "terminal": "T1"
         },
         "codeshareStatus": "Unknown",
         "departure": {
          "quality": [
           "Basic"
          ],
          "scheduledTimeLocal": "2021-10-05 06:30+02:00",
          "scheduledTimeUtc": "2021-10-05 04:30Z",
          "terminal": "1"
         },
         "isCargo": false,
         "number": "EW 8000",
         "status": "Departed"
        },
        {
         "airline": {
          "name": "ASL  Belgium"
         },
         "arrival": {
          "actualTimeLocal": "2021-10-04 22:56+01:59",
          "actualTimeUtc": "2021-10-04 20:56Z",
          "airport": {
           "iata": "HAJ",
           "icao": "EDDV",
           "name": "Hanover"
          },
          "quality": [
           "Basic",
           "Live"
          ],
          "runway": "27R",
          "runwayTimeLocal": "2021-10-04 22:51+02:00",
          "runwayTimeUtc": "2021-10-04 20:51Z",
          "scheduledTimeLocal": "2021-10-04 22:51+02:00",
          "scheduledTimeUtc": "2021-10-04 20:51Z"
         },
         "callSign": "TAY4635",
         "codeshareStatus": "IsOperator",
         "departure": {
          "actualTimeLocal": "2021-10-04 22:08+02:00",
          "actualTimeUtc": "2021-10-04 20:08Z",
          "quality": [
           "Basic",
           "Live"
          ],
          "runway": "25L",
          "runwayTimeLocal": "2021-10-04 22:24+02:00",
          "runwayTimeUtc": "2021-10-04 20:24Z",
          "scheduledTimeLocal": "2021-10-04 22:08+02:00",
          "scheduledTimeUtc": "2021-10-04 20:08Z"
         },
         "isCargo": false,
         "number": "3V 4635",
         "status": "Departed"
        },
        {
         "aircraft": {
          "modeS": "405638",
          "model": "Airbus A319",
          "reg": "G-EZDJ"
         },
         "airline": {
          "name": "easyJet"
         },
         "arrival": {
          "actualTimeLocal": "2021-10-04 22:35+01:00",
          "actualTimeUtc": "2021-10-04 21:35Z",
          "airport": {
           "iata": "LGW",
           "icao": "EGKK",
           "name": "London"
          },
          "quality": [
           "Basic",
           "Live"
          ],
          "runway": "26L",
          "scheduledTimeLocal": "2021-10-04 22:35+01:00",
          "scheduledTimeUtc": "2021-10-04 21:35Z",
          "terminal": "N"
         },
         "callSign": "EZY29QP",
         "codeshareStatus": "IsOperator",
         "departure": {
          "actualTimeLocal": "2021-10-04 23:16+02:00",
          "actualTimeUtc": "2021-10-04 21:16Z",
          "quality": [
           "Basic",
           "Live"
          ],
          "runwayTimeLocal": "2021-10-04 23:24+02:00",
          "runwayTimeUtc": "2021-10-04 21:24Z",
          "scheduledTimeLocal": "2021-10-04 21:35+02:00",
          "scheduledTimeUtc": "2021-10-04 19:35Z",
          "terminal": "1"
         },
         "isCargo": false,
         "number": "U2 8126",
         "status": "Departed"
        },
        {
         "aircraft": {
          "modeS": "406B62",
          "model": "Airbus A320-200 (Sharklets)",
          "reg": "G-EUYX"
         },
         "airline": {
          "name": "British Airways"
         },
         "arrival": {
          "actualTimeLocal": "2021-10-05 07:48+01:00",
          "actualTimeUtc": "2021-10-05 06:48Z",
          "airport": {
           "iata": "LHR",
           "icao": "EGLL",
           "name": "London"
          },
          "baggageBelt": "5",
          "quality": [
           "Basic",
           "Live"
          ],
          "runway": "27L",
          "runwayTimeLocal": "2021-10-05 07:48+01:00",
          "runwayTimeUtc": "2021-10-05 06:48Z",
          "scheduledTimeLocal": "2021-10-05 08:10+01:00",
          "scheduledTimeUtc": "2021-10-05 07:10Z",
          "terminal": "5"
         },
         "callSign": "BAW981",
         "codeshareStatus": "IsOperator",
         "departure": {
          "actualTimeLocal": "2021-10-05 07:03+02:00",
          "actualTimeUtc": "2021-10-05 05:03Z",
          "quality": [
           "Basic",
           "Live"
          ],
          "runway": "07R",
          "runwayTimeLocal": "2021-10-05 07:18+02:00",
          "runwayTimeUtc": "2021-10-05 05:18Z",
          "scheduledTimeLocal": "2021-10-05 07:05+02:00",
          "scheduledTimeUtc": "2021-10-05 05:05Z",
          "terminal": "1"
         },
         "isCargo": false,
         "number": "BA 981",
         "status": "Departed"
        },
        {
         "aircraft": {
          "modeS": "4CA9EC",
          "model": "Boeing 737-800 (winglets)",
          "reg": "EI-EVO"
         },
         "airline": {
          "name": "Ryanair"
         },
         "arrival": {
          "actualTimeLocal": "2021-10-04 23:04+01:00",
          "actualTimeUtc": "2021-10-04 22:04Z",
          "airport": {
           "iata": "STN",
           "icao": "EGSS",
           "name": "London"
          },
          "quality": [
           "Basic",
           "Live"
          ],
          "scheduledTimeLocal": "2021-10-04 22:35+01:00",
          "scheduledTimeUtc": "2021-10-04 21:35Z",
          "terminal": "T1"
         },
         "callSign": "RYR46MJ",
         "codeshareStatus": "IsOperator",
         "departure": {
          "actualTimeLocal": "2021-10-04 22:20+02:00",
          "actualTimeUtc": "2021-10-04 20:20Z",
          "quality": [
           "Basic",
           "Live"
          ],
          "runway": "25L",
          "runwayTimeLocal": "2021-10-04 22:37+02:00",
          "runwayTimeUtc": "2021-10-04 20:37Z",
          "scheduledTimeLocal": "2021-10-04 21:45+02:00",
          "scheduledTimeUtc": "2021-10-04 19:45Z"
         },
         "isCargo": false,
         "number": "FR 146",
         "status": "Departed"
        },
        {
         "aircraft": {
          "modeS": "4D2256",
          "model": "Boeing 737-800",
          "reg": "9H-QBD"
         },
         "airline": {
          "name": "Ryanair"
         },
         "arrival": {
          "actualTimeLocal": "2021-10-05 07:16+01:00",
          "actualTimeUtc": "2021-10-05 06:16Z",
          "airport": {
           "iata": "STN",
           "icao": "EGSS",
           "name": "London"
          },
          "quality": [
           "Basic",
           "Live"
          ],
          "runway": "22",
          "runwayTimeLocal": "2021-10-05 07:15+01:00",
          "runwayTimeUtc": "2021-10-05 06:15Z",
          "scheduledTimeLocal": "2021-10-05 07:20+01:00",
          "scheduledTimeUtc": "2021-10-05 06:20Z",
          "terminal": "T1"
         },
         "callSign": "RYR57ZW",
         "codeshareStatus": "IsOperator",
         "departure": {
          "actualTimeLocal": "2021-10-05 06:34+02:00",
          "actualTimeUtc": "2021-10-05 04:34Z",
          "quality": [
           "Basic",
           "Live"
          ],
          "runway": "07R",
          "runwayTimeLocal": "2021-10-05 06:51+02:00",
          "runwayTimeUtc": "2021-10-05 04:51Z",
          "scheduledTimeLocal": "2021-10-05 06:30+02:00",
          "scheduledTimeUtc": "2021-10-05 04:30Z"
         },
         "isCargo": false,
         "number": "FR 144",
         "status": "Departed"
        },
        {
         "aircraft": {
          "modeS": "484FDF",
          "model": "Boeing 737-800 (winglets)",
          "reg": "PH-BCE"
         },
         "airline": {
          "name": "KLM"
         },
         "arrival": {
          "actualTimeLocal": "2021-10-05 07:16+02:00",
          "actualTimeUtc": "2021-10-05 05:16Z",
          "airport": {
           "iata": "AMS",
           "icao": "EHAM",
           "name": "Amsterdam"
          },
          "baggageBelt": "12",
          "gate": "Z02",
          "quality": [
           "Basic",
           "Live"
          ],
          "runway": "18C",
          "runwayTimeLocal": "2021-10-05 07:16+02:00",
          "runwayTimeUtc": "2021-10-05 05:16Z",
          "scheduledTimeLocal": "2021-10-05 07:20+02:00",
          "scheduledTimeUtc": "2021-10-05 05:20Z",
          "terminal": "2"
         },
         "callSign": "KLM44R",
         "codeshareStatus": "IsOperator",
         "departure": {
          "actualTimeLocal": "2021-10-05 06:09+02:00",
          "actualTimeUtc": "2021-10-05 04:09Z",
          "quality": [
           "Basic",
           "Live"
          ],
          "runwayTimeLocal": "2021-10-05 06:15+02:00",
          "runwayTimeUtc": "2021-10-05 04:15Z",
          "scheduledTimeLocal": "2021-10-05 06:00+02:00",
          "scheduledTimeUtc": "2021-10-05 04:00Z",
          "terminal": "1"
         },
         "isCargo": false,
         "number": "KL 1818",
         "status": "Departed"
        },
        {
         "aircraft": {
          "model": "Airbus A320"
         },
         "airline": {
          "name": "easyJet"
         },
         "arrival": {
          "airport": {
           "iata": "AMS",
           "icao": "EHAM",
           "name": "Amsterdam"
          },
          "quality": [
           "Basic"
          ],
          "scheduledTimeLocal": "2021-10-05 08:35+02:00",
          "scheduledTimeUtc": "2021-10-05 06:35Z"
         },
         "codeshareStatus": "Unknown",
         "departure": {
          "quality": [
           "Basic"
          ],
          "scheduledTimeLocal": "2021-10-05 07:05+02:00",
          "scheduledTimeUtc": "2021-10-05 05:05Z",
          "terminal": "1"
         },
         "isCargo": false,
         "number": "U2 4561",
         "status": "CanceledUncertain"
        },
        {
         "aircraft": {
          "modeS": "440138",
          "model": "Airbus A320-100/200",
          "reg": "OE-IZT"
         },
         "airline": {
          "name": "EasyJet Europe"
         },
         "arrival": {
          "actualTimeLocal": "2021-10-04 21:39+02:00",
          "actualTimeUtc": "2021-10-04 19:39Z",
          "airport": {
           "iata": "CPH",
           "icao": "EKCH",
           "name": "Copenhagen"
          },
          "quality": [
           "Basic",
           "Live"
          ],
          "scheduledTimeLocal": "2021-10-04 21:39+02:00",
          "scheduledTimeUtc": "2021-10-04 19:39Z"
         },
         "callSign": "EJU45KJ",
         "codeshareStatus": "IsOperator",
         "departure": {
          "actualTimeLocal": "2021-10-04 20:57+02:00",
          "actualTimeUtc": "2021-10-04 18:57Z",
          "quality": [
           "Basic",
           "Live"
          ],
          "runway": "25L",
          "runwayTimeLocal": "2021-10-04 21:00+02:00",
          "runwayTimeUtc": "2021-10-04 19:00Z",
          "scheduledTimeLocal": "2021-10-04 20:57+02:00",
          "scheduledTimeUtc": "2021-10-04 18:57Z"
         },
         "isCargo": false,
         "number": "EC 45KJ",
         "status": "Departed"
        },
        {
         "aircraft": {
          "modeS": "440486",
          "model": "Airbus A320-100/200",
          "reg": "OE-IZV"
         },
         "airline": {
          "name": "EasyJet Europe"
         },
         "arrival": {
          "actualTimeLocal": "2021-10-05 08:00+02:00",
          "actualTimeUtc": "2021-10-05 06:00Z",
          "airport": {
           "iata": "CPH",
           "icao": "EKCH",
           "name": "Copenhagen"
          },
          "quality": [
           "Basic",
           "Live"
          ],
          "runway": "22L",
          "runwayTimeLocal": "2021-10-05 08:00+02:00",
          "runwayTimeUtc": "2021-10-05 06:00Z",
          "scheduledTimeLocal": "2021-10-05 07:59+02:00",
          "scheduledTimeUtc": "2021-10-05 05:59Z"
         },
         "callSign": "EJU18PX",
         "codeshareStatus": "IsOperator",
         "departure": {
          "actualTimeLocal": "2021-10-05 07:22+02:00",
          "actualTimeUtc": "2021-10-05 05:22Z",
          "quality": [
           "Basic",
           "Live"
          ],
          "runway": "07R",
          "runwayTimeLocal": "2021-10-05 07:22+02:00",
          "runwayTimeUtc": "2021-10-05 05:22Z",
          "scheduledTimeLocal": "2021-10-05 07:22+02:00",
          "scheduledTimeUtc": "2021-10-05 05:22Z"
         },
         "isCargo": false,
         "number": "EC 18PX",
         "status": "Departed"
        },
        {
         "aircraft": {
          "model": "Airbus A320"
         },
         "airline": {
          "name": "easyJet"
         },
         "arrival": {
          "airport": {
           "iata": "CPH",
           "icao": "EKCH",
           "name": "Copenhagen"
          },
          "quality": [
           "Basic"
          ],
          "scheduledTimeLocal": "2021-10-05 08:10+02:00",
          "scheduledTimeUtc": "2021-10-05 06:10Z",
          "terminal": "2"
         },
         "codeshareStatus": "Unknown",
         "departure": {
          "quality": [
           "Basic"
          ],
          "scheduledTimeLocal": "2021-10-05 07:00+02:00",
          "scheduledTimeUtc": "2021-10-05 05:00Z",
          "terminal": "1"
         },
         "isCargo": false,
         "number": "U2 5681",
         "status": "CanceledUncertain"
        },
        {
         "aircraft": {
          "modeS": "4D00C9",
          "model": "De Havilland Canada DHC-8-400 Dash 8Q",
          "reg": "LX-LGF"
         },
         "airline": {
          "name": "Luxair"
         },
         "arrival": {
          "actualTimeLocal": "2021-10-04 22:25+02:00",
          "actualTimeUtc": "2021-10-04 20:25Z",
          "airport": {
           "iata": "LUX",
           "icao": "ELLX",
           "name": "Luxembourg"
          },
          "quality": [
           "Basic",
           "Live"
          ],
          "scheduledTimeLocal": "2021-10-04 22:25+02:00",
          "scheduledTimeUtc": "2021-10-04 20:25Z"
         },
         "callSign": "LGL9474",
         "codeshareStatus": "IsOperator",
         "departure": {
          "actualTimeLocal": "2021-10-04 21:04+02:00",
          "actualTimeUtc": "2021-10-04 19:04Z",
          "quality": [
           "Basic",
           "Live"
          ],
          "runway": "25L",
          "runwayTimeLocal": "2021-10-04 21:14+02:00",
          "runwayTimeUtc": "2021-10-04 19:14Z",
          "scheduledTimeLocal": "2021-10-04 20:55+02:00",
          "scheduledTimeUtc": "2021-10-04 18:55Z",
          "terminal": "1"
         },
         "isCargo": false,
         "number": "LG 9474",
         "status": "Departed"
        },
        {
         "aircraft": {
          "modeS": "47A32E",
          "model": "Boeing 737-800"
         },
         "airline": {
          "name": "Norwegian Air Shuttle"
         },
         "arrival": {
          "actualTimeLocal": "2021-10-04 22:12+02:00",
          "actualTimeUtc": "2021-10-04 20:12Z",
          "airport": {
           "iata": "OSL",
           "icao": "ENGM",
           "name": "Oslo"
          },
          "baggageBelt": "4",
          "quality": [
           "Basic",
           "Live"
          ],
          "runwayTimeLocal": "2021-10-04 22:10+02:00",
          "runwayTimeUtc": "2021-10-04 20:10Z",
          "scheduledTimeLocal": "2021-10-04 22:25+02:00",
          "scheduledTimeUtc": "2021-10-04 20:25Z"
         },
         "callSign": "NAX109B",
         "codeshareStatus": "IsOperator",
         "departure": {
          "actualTimeLocal": "2021-10-04 20:48+02:00",
          "actualTimeUtc": "2021-10-04 18:48Z",
          "quality": [
           "Basic",
           "Live"
          ],
          "runway": "25L",
          "runwayTimeLocal": "2021-10-04 20:58+02:00",
          "runwayTimeUtc": "2021-10-04 18:58Z",
          "scheduledTimeLocal": "2021-10-04 20:45+02:00",
          "scheduledTimeUtc": "2021-10-04 18:45Z",
          "terminal": "1"
         },
         "isCargo": false,
         "number": "DY 1109",
         "status": "Departed"
        },
        {
         "aircraft": {
          "modeS": "4D2223",
          "model": "Boeing 737-800",
          "reg": "9H-QEK"
         },
         "airline": {
          "name": "Ryanair"
         },
         "arrival": {
          "actualTimeLocal": "2021-10-05 11:00+01:00",
          "actualTimeUtc": "2021-10-05 10:00Z",
          "airport": {
           "iata": "FUE",
           "icao": "GCFV",
           "name": "Fuerteventura Island"
          },
          "quality": [
           "Basic",
           "Live"
          ],
          "scheduledTimeLocal": "2021-10-05 10:55+01:00",
          "scheduledTimeUtc": "2021-10-05 09:55Z",
          "terminal": "1"
         },
         "callSign": "RYR5UZ",
         "codeshareStatus": "IsOperator",
         "departure": {
          "actualTimeLocal": "2021-10-05 06:59+02:00",
          "actualTimeUtc": "2021-10-05 04:59Z",
          "quality": [
           "Basic",
           "Live"
          ],
          "runway": "07R",
          "runwayTimeLocal": "2021-10-05 07:16+02:00",
          "runwayTimeUtc": "2021-10-05 05:16Z",
          "scheduledTimeLocal": "2021-10-05 06:50+02:00",
          "scheduledTimeUtc": "2021-10-05 04:50Z"
         },
         "isCargo": false,
         "number": "FR 1101",
         "status": "Departed"
        },
        {
         "aircraft": {
          "model": "Airbus A320"
         },
         "airline": {
          "name": "easyJet"
         },
         "arrival": {
          "airport": {
           "iata": "LCA",
           "icao": "LCLK",
           "name": "Larnarca"
          },
          "quality": [
           "Basic"
          ],
          "scheduledTimeLocal": "2021-10-05 12:15+03:00",
          "scheduledTimeUtc": "2021-10-05 09:15Z"
         },
         "codeshareStatus": "Unknown",
         "departure": {
          "quality": [
           "Basic"
          ],
          "scheduledTimeLocal": "2021-10-05 07:30+02:00",
          "scheduledTimeUtc": "2021-10-05 05:30Z",
          "terminal": "1"
         },
         "isCargo": false,
         "number": "U2 4727",
         "status": "Unknown"
        },
        {
         "aircraft": {
          "model": "Boeing 737-800"
         },
         "airline": {
          "name": "Ryanair"
         },
         "arrival": {
          "actualTimeLocal": "2021-10-04 23:22+02:00",
          "actualTimeUtc": "2021-10-04 21:22Z",
          "airport": {
           "iata": "BCN",
           "icao": "LEBL",
           "name": "Barcelona"
          },
          "quality": [
           "Basic",
           "Live"
          ],
          "scheduledTimeLocal": "2021-10-04 23:15+02:00",
          "scheduledTimeUtc": "2021-10-04 21:15Z",
          "terminal": "2"
         },
         "codeshareStatus": "Unknown",
         "departure": {
          "quality": [
           "Basic"
          ],
          "scheduledTimeLocal": "2021-10-04 20:40+02:00",
          "scheduledTimeUtc": "2021-10-04 18:40Z"
         },
         "isCargo": false,
         "number": "FR 1134",
         "status": "Departed"
        },
        {
         "aircraft": {
          "modeS": "342107",
          "model": "Airbus A321-100/200",
          "reg": "EC-JDM"
         },
         "airline": {
          "name": "Iberia Express"
         },
         "arrival": {
          "actualTimeLocal": "2021-10-04 23:30+02:00",
          "actualTimeUtc": "2021-10-04 21:30Z",
          "airport": {
           "iata": "MAD",
           "icao": "LEMD",
           "name": "Madrid"
          },
          "quality": [
           "Basic",
           "Live"
          ],
          "runwayTimeLocal": "2021-10-04 23:16+02:00",
          "runwayTimeUtc": "2021-10-04 21:16Z",
          "scheduledTimeLocal": "2021-10-04 23:00+02:00",
          "scheduledTimeUtc": "2021-10-04 21:00Z",
          "terminal": "4"
         },
         "callSign": "IBS3671",
         "codeshareStatus": "IsOperator",
         "departure": {
          "actualTimeLocal": "2021-10-04 20:36+02:00",
          "actualTimeUtc": "2021-10-04 18:36Z",
          "quality": [
           "Basic",
           "Live"
          ],
          "runway": "25L",
          "runwayTimeLocal": "2021-10-04 20:38+02:00",
          "runwayTimeUtc": "2021-10-04 18:38Z",
          "scheduledTimeLocal": "2021-10-04 20:36+02:00",
          "scheduledTimeUtc": "2021-10-04 18:36Z"
         },
         "isCargo": false,
         "number": "I2 3671",
         "status": "Departed"
        },
        {
         "aircraft": {
          "modeS": "4D21E9",
          "model": "Boeing 737-800",
          "reg": "9H-QAQ"
         },
         "airline": {
          "name": "Ryanair"
         },
         "arrival": {
          "actualTimeLocal": "2021-10-05 10:13+02:00",
          "actualTimeUtc": "2021-10-05 08:13Z",
          "airport": {
           "iata": "AGP",
           "icao": "LEMG",
           "name": "Málaga"
          },
          "quality": [
           "Basic",
           "Live"
          ],
          "scheduledTimeLocal": "2021-10-05 09:40+02:00",
          "scheduledTimeUtc": "2021-10-05 07:40Z",
          "terminal": "PAX"
         },
         "callSign": "RYR4SB",
         "codeshareStatus": "IsOperator",
         "departure": {
          "actualTimeLocal": "2021-10-05 06:45+02:00",
          "actualTimeUtc": "2021-10-05 04:45Z",
          "quality": [
           "Basic",
           "Live"
          ],
          "runway": "07R",
          "runwayTimeLocal": "2021-10-05 06:47+02:00",
          "runwayTimeUtc": "2021-10-05 04:47Z",
          "scheduledTimeLocal": "2021-10-05 06:10+02:00",
          "scheduledTimeUtc": "2021-10-05 04:10Z"
         },
         "isCargo": false,
         "number": "FR 234",
         "status": "Departed"
        },
        {
         "aircraft": {
          "modeS": "4CA303",
          "model": "Boeing 737-800 (winglets)",
          "reg": "EI-DLX"
         },
         "airline": {
          "name": "Ryanair"
         },
         "arrival": {
          "actualTimeLocal": "2021-10-04 23:37+02:00",
          "actualTimeUtc": "2021-10-04 21:37Z",
          "airport": {
           "iata": "PMI",
           "icao": "LEPA",
           "name": "Palma De Mallorca"
          },
          "quality": [
           "Basic",
           "Live"
          ],
          "scheduledTimeLocal": "2021-10-04 23:35+02:00",
          "scheduledTimeUtc": "2021-10-04 21:35Z",
          "terminal": "N"
         },
         "callSign": "RYR7ZG",
         "codeshareStatus": "IsOperator",
         "departure": {
          "actualTimeLocal": "2021-10-04 20:52+02:00",
          "actualTimeUtc": "2021-10-04 18:52Z",
          "quality": [
           "Basic",
           "Live"
          ],
          "runwayTimeLocal": "2021-10-04 20:56+02:00",
          "runwayTimeUtc": "2021-10-04 18:56Z",
          "scheduledTimeLocal": "2021-10-04 20:50+02:00",
          "scheduledTimeUtc": "2021-10-04 18:50Z"
         },
         "isCargo": false,
         "number": "FR 1468",
         "status": "Departed"
        },
        {
         "aircraft": {
          "model": "Boeing 737-800"
         },
         "airline": {
          "name": "Ryanair"
         },
         "arrival": {
          "airport": {
           "iata": "PMI",
           "icao": "LEPA",
           "name": "Palma De Mallorca"
          },
          "quality": [
           "Basic"
          ],
          "scheduledTimeLocal": "2021-10-05 08:40+02:00",
          "scheduledTimeUtc": "2021-10-05 06:40Z"
         },
         "codeshareStatus": "Unknown",
         "departure": {
          "quality": [
           "Basic"
          ],
          "scheduledTimeLocal": "2021-10-05 06:00+02:00",
          "scheduledTimeUtc": "2021-10-05 04:00Z"
         },
         "isCargo": false,
         "number": "FR 226",
         "status": "CanceledUncertain"
        },
        {
         "aircraft": {
          "modeS": "4D225D",
          "model": "Boeing 737-800 (winglets)",
          "reg": "9H-QDN"
         },
         "airline": {
          "name": "Ryanair"
         },
         "arrival": {
          "actualTimeLocal": "2021-10-05 09:15+02:00",
          "actualTimeUtc": "2021-10-05 07:15Z",
          "airport": {
           "iata": "VLC",
           "icao": "LEVC",
           "name": "Valencia"
          },
          "quality": [
           "Basic",
           "Live"
          ],
          "scheduledTimeLocal": "2021-10-05 09:05+02:00",
          "scheduledTimeUtc": "2021-10-05 07:05Z",
          "terminal": "1"
         },
         "callSign": "RYR138",
         "codeshareStatus": "IsOperator",
         "departure": {
          "actualTimeLocal": "2021-10-05 06:21+02:00",
          "actualTimeUtc": "2021-10-05 04:21Z",
          "quality": [
           "Basic",
           "Live"
          ],
          "runwayTimeLocal": "2021-10-05 06:33+02:00",
          "runwayTimeUtc": "2021-10-05 04:33Z",
          "scheduledTimeLocal": "2021-10-05 06:10+02:00",
          "scheduledTimeUtc": "2021-10-05 04:10Z"
         },
         "isCargo": false,
         "number": "FR 138",
         "status": "Departed"
        },
        {
         "aircraft": {
          "model": "Airbus A321"
         },
         "airline": {
          "name": "easyJet"
         },
         "arrival": {
          "airport": {
           "iata": "CDG",
           "icao": "LFPG",
           "name": "Paris"
          },
          "quality": [
           "Basic"
          ],
          "scheduledTimeLocal": "2021-10-04 21:55+02:00",
          "scheduledTimeUtc": "2021-10-04 19:55Z",
          "terminal": "2D"
         },
         "codeshareStatus": "Unknown",
         "departure": {
          "quality": [
           "Basic"
          ],
          "scheduledTimeLocal": "2021-10-04 20:05+02:00",
          "scheduledTimeUtc": "2021-10-04 18:05Z",
          "terminal": "1"
         },
         "isCargo": false,
         "number": "U2 5675",
         "status": "Unknown"
        },
        {
         "aircraft": {
          "modeS": "3944EE",
          "model": "Airbus A319",
          "reg": "F-GRHO"
         },
         "airline": {
          "name": "Air France"
         },
         "arrival": {
          "actualTimeLocal": "2021-10-05 07:46+02:00",
          "actualTimeUtc": "2021-10-05 05:46Z",
          "airport": {
           "iata": "CDG",
           "icao": "LFPG",
           "name": "Paris"
          },
          "quality": [
           "Basic",
           "Live"
          ],
          "scheduledTimeLocal": "2021-10-05 08:05+02:00",
          "scheduledTimeUtc": "2021-10-05 06:05Z",
          "terminal": "2F"
         },
         "callSign": "AFR83YA",
         "codeshareStatus": "IsOperator",
         "departure": {
          "actualTimeLocal": "2021-10-05 06:15+02:00",
          "actualTimeUtc": "2021-10-05 04:15Z",
          "quality": [
           "Basic",
           "Live"
          ],
          "runwayTimeLocal": "2021-10-05 06:26+02:00",
          "runwayTimeUtc": "2021-10-05 04:26Z",
          "scheduledTimeLocal": "2021-10-05 06:15+02:00",
          "scheduledTimeUtc": "2021-10-05 04:15Z",
          "terminal": "1"
         },
         "isCargo": false,
         "number": "AF 1135",
         "status": "Departed"
        },
        {
         "aircraft": {
          "modeS": "4B1A29",
          "model": "Airbus A320-100/200",
          "reg": "HB-JXP"
         },
         "airline": {
          "name": "Easyjet Switzerland"
         },
         "arrival": {
          "actualTimeLocal": "2021-10-04 22:25+02:00",
          "actualTimeUtc": "2021-10-04 20:25Z",
          "airport": {
           "iata": "BSL",
           "icao": "LFSB",
           "name": "Bâle/Mulhouse"
          },
          "baggageBelt": "3",
          "quality": [
           "Basic",
           "Live"
          ],
          "runwayTimeLocal": "2021-10-04 22:23+02:00",
          "runwayTimeUtc": "2021-10-04 20:23Z",
          "scheduledTimeLocal": "2021-10-04 22:40+02:00",
          "scheduledTimeUtc": "2021-10-04 20:40Z"
         },
         "callSign": "EZS4641",
         "codeshareStatus": "IsOperator",
         "departure": {
          "actualTimeLocal": "2021-10-04 21:12+02:00",
          "actualTimeUtc": "2021-10-04 19:12Z",
          "quality": [
           "Basic",
           "Live"
          ],
          "runway": "25L",
          "runwayTimeLocal": "2021-10-04 21:12+02:00",
          "runwayTimeUtc": "2021-10-04 19:12Z",
          "scheduledTimeLocal": "2021-10-04 21:12+02:00",
          "scheduledTimeUtc": "2021-10-04 19:12Z"
         },
         "isCargo": false,
         "number": "DS 4641",
         "status": "Departed"
        },
        {
         "aircraft": {
          "model": "Airbus A320"
         },
         "airline": {
          "name": "easyJet"
         },
         "arrival": {
          "airport": {
           "iata": "BSL",
           "icao": "LFSB",
           "name": "Bâle/Mulhouse"
          },
          "quality": [
           "Basic"
          ],
          "scheduledTimeLocal": "2021-10-04 22:40+02:00",
          "scheduledTimeUtc": "2021-10-04 20:40Z"
         },
         "codeshareStatus": "Unknown",
         "departure": {
          "quality": [
           "Basic"
          ],
          "scheduledTimeLocal": "2021-10-04 21:10+02:00",
          "scheduledTimeUtc": "2021-10-04 19:10Z",
          "terminal": "1"
         },
         "isCargo": false,
         "number": "U2 4641",
         "status": "CanceledUncertain"
        },
        {
         "aircraft": {
          "model": "Airbus A320"
         },
         "airline": {
          "name": "easyJet"
         },
         "arrival": {
          "airport": {
           "iata": "ATH",
           "icao": "LGAV",
           "name": "Athens"
          },
          "quality": [
           "Basic"
          ],
          "scheduledTimeLocal": "2021-10-05 11:40+03:00",
          "scheduledTimeUtc": "2021-10-05 08:40Z"
         },
         "codeshareStatus": "Unknown",
         "departure": {
          "quality": [
           "Basic"
          ],
          "scheduledTimeLocal": "2021-10-05 07:45+02:00",
          "scheduledTimeUtc": "2021-10-05 05:45Z",
          "terminal": "1"
         },
         "isCargo": false,
         "number": "U2 5937",
         "status": "Unknown"
        },
        {
         "aircraft": {
          "modeS": "3C56F2",
          "model": "Airbus A320-100/200",
          "reg": "D-AEWR"
         },
         "airline": {
          "name": "Eurowings"
         },
         "arrival": {
          "airport": {
           "iata": "HER",
           "icao": "LGIR",
           "name": "Heraklion"
          },
          "quality": [
           "Basic"
          ],
          "scheduledTimeLocal": "2021-10-05 10:10+03:00",
          "scheduledTimeUtc": "2021-10-05 07:10Z"
         },
         "callSign": "EWG6HP",
         "codeshareStatus": "IsOperator",
         "departure": {
          "actualTimeLocal": "2021-10-05 05:57+02:00",
          "actualTimeUtc": "2021-10-05 03:57Z",
          "quality": [
           "Basic",
           "Live"
          ],
          "runwayTimeLocal": "2021-10-05 06:13+02:00",
          "runwayTimeUtc": "2021-10-05 04:13Z",
          "scheduledTimeLocal": "2021-10-05 06:00+02:00",
          "scheduledTimeUtc": "2021-10-05 04:00Z",
          "terminal": "1"
         },
         "isCargo": false,
         "number": "EW 8678",
         "status": "Departed"
        },
        {
         "aircraft": {
          "model": "Airbus A320"
         },
         "airline": {
          "name": "easyJet"
         },
         "arrival": {
          "airport": {
           "iata": "HER",
           "icao": "LGIR",
           "name": "Heraklion"
          },
          "quality": [
           "Basic"
          ],
          "scheduledTimeLocal": "2021-10-05 11:25+03:00",
          "scheduledTimeUtc": "2021-10-05 08:25Z"
         },
         "codeshareStatus": "Unknown",
         "departure": {
          "quality": [
           "Basic"
          ],
          "scheduledTimeLocal": "2021-10-05 07:05+02:00",
          "scheduledTimeUtc": "2021-10-05 05:05Z",
          "terminal": "1"
         },
         "isCargo": false,
         "number": "U2 4745",
         "status": "Unknown"
        },
        {
         "aircraft": {
          "modeS": "4D2279",
          "model": "Boeing 737-800",
          "reg": "9H-QBH"
         },
         "airline": {
          "name": "Ryanair"
         },
         "arrival": {
          "airport": {
           "iata": "CFU",
           "icao": "LGKR",
           "name": "Kerkyra Island"
          },
          "quality": [
           "Basic"
          ],
          "scheduledTimeLocal": "2021-10-05 09:25+03:00",
          "scheduledTimeUtc": "2021-10-05 06:25Z"
         },
         "callSign": "RYR267",
         "codeshareStatus": "IsOperator",
         "departure": {
          "actualTimeLocal": "2021-10-05 06:16+02:00",
          "actualTimeUtc": "2021-10-05 04:16Z",
          "quality": [
           "Basic",
           "Live"
          ],
          "runway": "07R",
          "runwayTimeLocal": "2021-10-05 06:28+02:00",
          "runwayTimeUtc": "2021-10-05 04:28Z",
          "scheduledTimeLocal": "2021-10-05 06:00+02:00",
          "scheduledTimeUtc": "2021-10-05 04:00Z"
         },
         "isCargo": false,
         "number": "FR 267",
         "status": "Departed"
        },
        {
         "aircraft": {
          "model": "Airbus A320"
         },
         "airline": {
          "name": "easyJet"
         },
         "arrival": {
          "airport": {
           "iata": "CFU",
           "icao": "LGKR",
           "name": "Kerkyra Island"
          },
          "quality": [
           "Basic"
          ],
          "scheduledTimeLocal": "2021-10-05 11:35+03:00",
          "scheduledTimeUtc": "2021-10-05 08:35Z"
         },
         "codeshareStatus": "Unknown",
         "departure": {
          "quality": [
           "Basic"
          ],
          "scheduledTimeLocal": "2021-10-05 07:55+02:00",
          "scheduledTimeUtc": "2021-10-05 05:55Z",
          "terminal": "1"
         },
         "isCargo": false,
         "number": "U2 4731",
         "status": "Unknown"
        },
        {
         "aircraft": {
          "modeS": "4D227B",
          "model": "Boeing 737-800 (winglets)",
          "reg": "9H-QDV"
         },
         "airline": {
          "name": "Ryanair"
         },
         "arrival": {
          "airport": {
           "iata": "BGY",
           "icao": "LIME",
           "name": "Bergamo"
          },
          "quality": [
           "Basic"
          ],
          "scheduledTimeLocal": "2021-10-04 23:55+02:00",
          "scheduledTimeUtc": "2021-10-04 21:55Z"
         },
         "callSign": "RYR4YP",
         "codeshareStatus": "IsOperator",
         "departure": {
          "actualTimeLocal": "2021-10-04 23:05+02:00",
          "actualTimeUtc": "2021-10-04 21:05Z",
          "quality": [
           "Basic",
           "Live"
          ],
          "runway": "25L",
          "runwayTimeLocal": "2021-10-04 23:18+02:00",
          "runwayTimeUtc": "2021-10-04 21:18Z",
          "scheduledTimeLocal": "2021-10-04 22:15+02:00",
          "scheduledTimeUtc": "2021-10-04 20:15Z"
         },
         "isCargo": false,
         "number": "FR 4734",
         "status": "Departed"
        },
        {
         "aircraft": {
          "modeS": "4D226F",
          "model": "Boeing 737-800",
          "reg": "9H-QBG"
         },
         "airline": {
          "name": "Ryanair"
         },
         "arrival": {
          "airport": {
           "iata": "CIA",
           "icao": "LIRA",
           "name": "Roma"
          },
          "quality": [
           "Basic"
          ],
          "scheduledTimeLocal": "2021-10-05 08:30+02:00",
          "scheduledTimeUtc": "2021-10-05 06:30Z"
         },
         "callSign": "RYR5DP",
         "codeshareStatus": "IsOperator",
         "departure": {
          "actualTimeLocal": "2021-10-05 06:47+02:00",
          "actualTimeUtc": "2021-10-05 04:47Z",
          "quality": [
           "Basic",
           "Live"
          ],
          "runway": "07R",
          "runwayTimeLocal": "2021-10-05 06:49+02:00",
          "runwayTimeUtc": "2021-10-05 04:49Z",
          "scheduledTimeLocal": "2021-10-05 06:30+02:00",
          "scheduledTimeUtc": "2021-10-05 04:30Z"
         },
         "isCargo": false,
         "number": "FR 134",
         "status": "Departed"
        },
        {
         "aircraft": {
          "model": "Airbus A319"
         },
         "airline": {
          "name": "easyJet"
         },
         "arrival": {
          "airport": {
           "iata": "FCO",
           "icao": "LIRF",
           "name": "Rome"
          },
          "quality": [
           "Basic"
          ],
          "scheduledTimeLocal": "2021-10-05 09:40+02:00",
          "scheduledTimeUtc": "2021-10-05 07:40Z",
          "terminal": "3"
         },
         "codeshareStatus": "Unknown",
         "departure": {
          "quality": [
           "Basic"
          ],
          "scheduledTimeLocal": "2021-10-05 07:20+02:00",
          "scheduledTimeUtc": "2021-10-05 05:20Z",
          "terminal": "1"
         },
         "isCargo": false,
         "number": "U2 5701",
         "status": "Unknown"
        },
        {
         "aircraft": {
          "model": "Boeing 737-800"
         },
         "airline": {
          "name": "Ryanair"
         },
         "arrival": {
          "airport": {
           "iata": "NAP",
           "icao": "LIRN",
           "name": "Nápoli"
          },
          "quality": [
           "Basic"
          ],
          "scheduledTimeLocal": "2021-10-05 09:15+02:00",
          "scheduledTimeUtc": "2021-10-05 07:15Z"
         },
         "codeshareStatus": "Unknown",
         "departure": {
          "quality": [
           "Basic"
          ],
          "scheduledTimeLocal": "2021-10-05 07:00+02:00",
          "scheduledTimeUtc": "2021-10-05 05:00Z"
         },
         "isCargo": false,
         "number": "FR 329",
         "status": "Unknown"
        },
        {
         "aircraft": {
          "modeS": "738285",
          "model": "Airbus A320-100/200",
          "reg": "4X-ABG"
         },
         "airline": {
          "name": "Israir"
         },
         "arrival": {
          "actualTimeLocal": "2021-10-05 00:53+03:00",
          "actualTimeUtc": "2021-10-04 21:53Z",
          "airport": {
           "iata": "TLV",
           "icao": "LLBG",
           "name": "Tel Aviv Yafo"
          },
          "quality": [
           "Basic",
           "Live"
          ],
          "runway": "12",
          "runwayTimeLocal": "2021-10-05 00:53+03:00",
          "runwayTimeUtc": "2021-10-04 21:53Z",
          "scheduledTimeLocal": "2021-10-05 00:53+03:00",
          "scheduledTimeUtc": "2021-10-04 21:53Z"
         },
         "callSign": "ISR254",
         "codeshareStatus": "IsOperator",
         "departure": {
          "actualTimeLocal": "2021-10-04 20:08+02:00",
          "actualTimeUtc": "2021-10-04 18:08Z",
          "quality": [
           "Basic",
           "Live"
          ],
          "runway": "25L",
          "runwayTimeLocal": "2021-10-04 20:18+02:00",
          "runwayTimeUtc": "2021-10-04 18:18Z",
          "scheduledTimeLocal": "2021-10-04 21:00+02:00",
          "scheduledTimeUtc": "2021-10-04 19:00Z",
          "terminal": "0"
         },
         "isCargo": false,
         "number": "6H 254",
         "status": "Departed"
        },
        {
         "aircraft": {
          "modeS": "738050",
          "model": "Boeing 737-900 (winglets)",
          "reg": "4X-EHA"
         },
         "airline": {
          "name": "El Al"
         },
         "arrival": {
          "actualTimeLocal": "2021-10-05 02:42+03:00",
          "actualTimeUtc": "2021-10-04 23:42Z",
          "airport": {
           "iata": "TLV",
           "icao": "LLBG",
           "name": "Tel Aviv Yafo"
          },
          "quality": [
           "Basic",
           "Live"
          ],
          "runway": "12",
          "runwayTimeLocal": "2021-10-05 02:42+03:00",
          "runwayTimeUtc": "2021-10-04 23:42Z",
          "scheduledTimeLocal": "2021-10-05 03:10+03:00",
          "scheduledTimeUtc": "2021-10-05 00:10Z",
          "terminal": "3"
         },
         "callSign": "ELY2374",
         "codeshareStatus": "IsOperator",
         "departure": {
          "actualTimeLocal": "2021-10-04 22:04+02:00",
          "actualTimeUtc": "2021-10-04 20:04Z",
          "quality": [
           "Basic",
           "Live"
          ],
          "runway": "25L",
          "runwayTimeLocal": "2021-10-04 22:13+02:00",
          "runwayTimeUtc": "2021-10-04 20:13Z",
          "scheduledTimeLocal": "2021-10-04 22:05+02:00",
          "scheduledTimeUtc": "2021-10-04 20:05Z",
          "terminal": "1"
         },
         "isCargo": false,
         "number": "LY 2374",
         "status": "Departed"
        },
        {
         "aircraft": {
          "model": "Airbus A320"
         },
         "airline": {
          "name": "easyJet"
         },
         "arrival": {
          "airport": {
           "iata": "TLV",
           "icao": "LLBG",
           "name": "Tel Aviv Yafo"
          },
          "quality": [
           "Basic"
          ],
          "scheduledTimeLocal": "2021-10-05 13:15+03:00",
          "scheduledTimeUtc": "2021-10-05 10:15Z",
          "terminal": "3"
         },
         "codeshareStatus": "Unknown",
         "departure": {
          "quality": [
           "Basic"
          ],
          "scheduledTimeLocal": "2021-10-05 08:00+02:00",
          "scheduledTimeUtc": "2021-10-05 06:00Z",
          "terminal": "1"
         },
         "isCargo": false,
         "number": "U2 5831",
         "status": "Unknown"
        },
        {
         "aircraft": {
          "modeS": "44006E",
          "model": "Airbus A320-100/200",
          "reg": "OE-LBU"
         },
         "airline": {
          "name": "Austrian"
         },
         "arrival": {
          "actualTimeLocal": "2021-10-05 08:06+02:00",
          "actualTimeUtc": "2021-10-05 06:06Z",
          "airport": {
           "iata": "VIE",
           "icao": "LOWW",
           "name": "Vienna"
          },
          "baggageBelt": "07",
          "quality": [
           "Basic",
           "Live"
          ],
          "runway": "11",
          "runwayTimeLocal": "2021-10-05 07:57+02:00",
          "runwayTimeUtc": "2021-10-05 05:57Z",
          "scheduledTimeLocal": "2021-10-05 08:15+02:00",
          "scheduledTimeUtc": "2021-10-05 06:15Z",
          "terminal": "3"
         },
         "callSign": "AUA2TU",
         "codeshareStatus": "IsOperator",
         "departure": {
          "actualTimeLocal": "2021-10-05 06:54+02:00",
          "actualTimeUtc": "2021-10-05 04:54Z",
          "quality": [
           "Basic",
           "Live"
          ],
          "runwayTimeLocal": "2021-10-05 07:06+02:00",
          "runwayTimeUtc": "2021-10-05 05:06Z",
          "scheduledTimeLocal": "2021-10-05 07:00+02:00",
          "scheduledTimeUtc": "2021-10-05 05:00Z",
          "terminal": "1"
         },
         "isCargo": false,
         "number": "OS 240",
         "status": "Departed"
        },
        {
         "aircraft": {
          "modeS": "4B169A",
          "model": "Airbus A321-100/200",
          "reg": "HB-IOO"
         },
         "airline": {
          "name": "SWISS"
         },
         "arrival": {
          "actualTimeLocal": "2021-10-04 22:02+02:00",
          "actualTimeUtc": "2021-10-04 20:02Z",
          "airport": {
           "iata": "ZRH",
           "icao": "LSZH",
           "name": "Zurich"
          },
          "baggageBelt": "15",
          "quality": [
           "Basic",
           "Live"
          ],
          "scheduledTimeLocal": "2021-10-04 22:00+02:00",
          "scheduledTimeUtc": "2021-10-04 20:00Z",
          "terminal": "1"
         },
         "callSign": "SWR98R",
         "codeshareStatus": "IsOperator",
         "departure": {
          "actualTimeLocal": "2021-10-04 20:40+02:00",
          "actualTimeUtc": "2021-10-04 18:40Z",
          "quality": [
           "Basic",
           "Live"
          ],
          "runway": "25L",
          "runwayTimeLocal": "2021-10-04 20:50+02:00",
          "runwayTimeUtc": "2021-10-04 18:50Z",
          "scheduledTimeLocal": "2021-10-04 20:35+02:00",
          "scheduledTimeUtc": "2021-10-04 18:35Z",
          "terminal": "1"
         },
         "isCargo": false,
         "number": "LX 979",
         "status": "Departed"
        },
        {
         "aircraft": {
          "modeS": "4BCDE2",
          "model": "Boeing 737-800",
          "reg": "TC-SOB"
         },
         "airline": {
          "name": "SunExpress"
         },
         "arrival": {
          "actualTimeLocal": "2021-10-05 01:30+03:00",
          "actualTimeUtc": "2021-10-04 22:30Z",
          "airport": {
           "iata": "AYT",
           "icao": "LTAI",
           "name": "Antalya"
          },
          "baggageBelt": "102",
          "quality": [
           "Basic",
           "Live"
          ],
          "scheduledTimeLocal": "2021-10-05 01:35+03:00",
          "scheduledTimeUtc": "2021-10-04 22:35Z",
          "terminal": "T1"
         },
         "callSign": "SXS25V",
         "codeshareStatus": "IsOperator",
         "departure": {
          "actualTimeLocal": "2021-10-04 21:27+02:00",
          "actualTimeUtc": "2021-10-04 19:27Z",
          "quality": [
           "Basic",
           "Live"
          ],
          "runway": "25L",
          "runwayTimeLocal": "2021-10-04 21:37+02:00",
          "runwayTimeUtc": "2021-10-04 19:37Z",
          "scheduledTimeLocal": "2021-10-04 21:15+02:00",
          "scheduledTimeUtc": "2021-10-04 19:15Z",
          "terminal": "1"
         },
         "isCargo": false,
         "number": "XQ 663",
         "status": "Departed"
        },
        {
         "aircraft": {
          "modeS": "4BCDD6",
          "model": "Boeing 737-800 (winglets)",
          "reg": "TC-SNV"
         },
         "airline": {
          "name": "SunExpress"
         },
         "arrival": {
          "airport": {
           "iata": "ADB",
           "icao": "LTBJ",
           "name": "İzmir"
          },
          "quality": [
           "Basic"
          ],
          "scheduledTimeLocal": "2021-10-05 11:00+03:00",
          "scheduledTimeUtc": "2021-10-05 08:00Z",
          "terminal": "I"
         },
         "callSign": "SXS1PT",
         "codeshareStatus": "IsOperator",
         "departure": {
          "actualTimeLocal": "2021-10-05 07:12+02:00",
          "actualTimeUtc": "2021-10-05 05:12Z",
          "quality": [
           "Basic",
           "Live"
          ],
          "runwayTimeLocal": "2021-10-05 07:12+02:00",
          "runwayTimeUtc": "2021-10-05 05:12Z",
          "scheduledTimeLocal": "2021-10-05 07:00+02:00",
          "scheduledTimeUtc": "2021-10-05 05:00Z",
          "terminal": "1"
         },
         "isCargo": false,
         "number": "XQ 967",
         "status": "Departed"
        },
        {
         "aircraft": {
          "modeS": "4C01EB",
          "model": "Airbus A319",
          "reg": "YU-APL"
         },
         "airline": {
          "name": "Air Serbia"
         },
         "arrival": {
          "airport": {
           "iata": "BEG",
           "icao": "LYBE",
           "name": "Belgrade"
          },
          "quality": [
           "Basic"
          ],
          "scheduledTimeLocal": "2021-10-04 22:20+02:00",
          "scheduledTimeUtc": "2021-10-04 20:20Z",
          "terminal": "2"
         },
         "callSign": "ASL72U",
         "codeshareStatus": "IsOperator",
         "departure": {
          "actualTimeLocal": "2021-10-04 20:45+02:00",
          "actualTimeUtc": "2021-10-04 18:45Z",
          "quality": [
           "Basic",
           "Live"
          ],
          "runway": "25L",
          "runwayTimeLocal": "2021-10-04 20:55+02:00",
          "runwayTimeUtc": "2021-10-04 18:55Z",
          "scheduledTimeLocal": "2021-10-04 20:40+02:00",
          "scheduledTimeUtc": "2021-10-04 18:40Z",
          "terminal": "1"
         },
         "isCargo": false,
         "number": "JU 355",
         "status": "Departed"
        },
        {
         "aircraft": {
          "modeS": "471F82",
          "model": "Airbus A320-200 (Sharklets)",
          "reg": "HA-LYG"
         },
         "airline": {
          "name": "Wizz Air"
         },
         "arrival": {
          "actualTimeLocal": "2021-10-05 01:59+02:59",
          "actualTimeUtc": "2021-10-04 22:59Z",
          "airport": {
           "iata": "IEV",
           "icao": "UKKK",
           "name": "Kiev"
          },
          "quality": [
           "Basic",
           "Live"
          ],
          "runway": "08",
          "runwayTimeLocal": "2021-10-05 01:52+03:00",
          "runwayTimeUtc": "2021-10-04 22:52Z",
          "scheduledTimeLocal": "2021-10-05 00:55+03:00",
          "scheduledTimeUtc": "2021-10-04 21:55Z",
          "terminal": "A"
         },
         "callSign": "WZZ6114",
         "codeshareStatus": "IsOperator",
         "departure": {
          "actualTimeLocal": "2021-10-04 23:01+02:00",
          "actualTimeUtc": "2021-10-04 21:01Z",
          "quality": [
           "Basic",
           "Live"
          ],
          "runway": "25L",
          "runwayTimeLocal": "2021-10-04 23:15+02:00",
          "runwayTimeUtc": "2021-10-04 21:15Z",
          "scheduledTimeLocal": "2021-10-04 21:55+02:00",
          "scheduledTimeUtc": "2021-10-04 19:55Z",
          "terminal": "0"
         },
         "isCargo": false,
         "number": "W6 6114",
         "status": "Departed"
        }
       ]
      },
      "text/plain": [
       "<IPython.core.display.JSON object>"
      ]
     },
     "execution_count": 181,
     "metadata": {
      "application/json": {
       "expanded": false,
       "root": "root"
      }
     },
     "output_type": "execute_result"
    }
   ],
   "source": [
    "import requests\n",
    "\n",
    "airport_icoa = \"EDDB\"\n",
    "to_local_time = \"2021-10-04T20:00\"\n",
    "from_local_time = \"2021-10-05T08:00\"\n",
    "\n",
    "url = f\"https://aerodatabox.p.rapidapi.com/flights/airports/icao/{airport_icoa}/{to_local_time}/{from_local_time}\"\n",
    "\n",
    "querystring = {\"withLeg\":\"true\",\"withCancelled\":\"true\",\"withCodeshared\":\"true\",\"withCargo\":\"true\",\"withPrivate\":\"false\",\"withLocation\":\"false\"}\n",
    "\n",
    "headers = {\n",
    "    'x-rapidapi-host': \"aerodatabox.p.rapidapi.com\",\n",
    "    'x-rapidapi-key': flight_api_key\n",
    "    }\n",
    "\n",
    "response = requests.request(\"GET\", url, headers=headers, params=querystring)\n",
    "\n",
    "from IPython.display import JSON\n",
    "JSON(response.json())"
   ]
  },
  {
   "cell_type": "code",
   "execution_count": 182,
   "id": "7089cd61-639d-455b-9333-b524fc8fca13",
   "metadata": {},
   "outputs": [
    {
     "data": {
      "text/html": [
       "<div>\n",
       "<style scoped>\n",
       "    .dataframe tbody tr th:only-of-type {\n",
       "        vertical-align: middle;\n",
       "    }\n",
       "\n",
       "    .dataframe tbody tr th {\n",
       "        vertical-align: top;\n",
       "    }\n",
       "\n",
       "    .dataframe thead th {\n",
       "        text-align: right;\n",
       "    }\n",
       "</style>\n",
       "<table border=\"1\" class=\"dataframe\">\n",
       "  <thead>\n",
       "    <tr style=\"text-align: right;\">\n",
       "      <th></th>\n",
       "      <th>dep_airport</th>\n",
       "      <th>sched_arr_loc_time</th>\n",
       "      <th>terminal</th>\n",
       "      <th>status</th>\n",
       "      <th>aircraft</th>\n",
       "      <th>icao_code</th>\n",
       "    </tr>\n",
       "  </thead>\n",
       "  <tbody>\n",
       "    <tr>\n",
       "      <th>0</th>\n",
       "      <td>Olbia</td>\n",
       "      <td>2021-10-04 19:59+02:00</td>\n",
       "      <td>None</td>\n",
       "      <td>Arrived</td>\n",
       "      <td>Airbus A320-100/200</td>\n",
       "      <td>EDDB</td>\n",
       "    </tr>\n",
       "    <tr>\n",
       "      <th>1</th>\n",
       "      <td>London</td>\n",
       "      <td>2021-10-04 20:35+02:00</td>\n",
       "      <td>1</td>\n",
       "      <td>Arrived</td>\n",
       "      <td>Airbus A320-200 (Sharklets)</td>\n",
       "      <td>EDDB</td>\n",
       "    </tr>\n",
       "    <tr>\n",
       "      <th>2</th>\n",
       "      <td>Unknown</td>\n",
       "      <td>2021-10-04 20:14+02:00</td>\n",
       "      <td>None</td>\n",
       "      <td>Arrived</td>\n",
       "      <td>Airbus A320-100/200</td>\n",
       "      <td>EDDB</td>\n",
       "    </tr>\n",
       "    <tr>\n",
       "      <th>3</th>\n",
       "      <td>Oslo</td>\n",
       "      <td>2021-10-04 20:05+02:00</td>\n",
       "      <td>1</td>\n",
       "      <td>Arrived</td>\n",
       "      <td>Boeing 737-800</td>\n",
       "      <td>EDDB</td>\n",
       "    </tr>\n",
       "    <tr>\n",
       "      <th>4</th>\n",
       "      <td>Athens</td>\n",
       "      <td>2021-10-04 20:33+02:00</td>\n",
       "      <td>None</td>\n",
       "      <td>Arrived</td>\n",
       "      <td>Airbus A320-100/200</td>\n",
       "      <td>EDDB</td>\n",
       "    </tr>\n",
       "    <tr>\n",
       "      <th>...</th>\n",
       "      <td>...</td>\n",
       "      <td>...</td>\n",
       "      <td>...</td>\n",
       "      <td>...</td>\n",
       "      <td>...</td>\n",
       "      <td>...</td>\n",
       "    </tr>\n",
       "    <tr>\n",
       "      <th>86</th>\n",
       "      <td>Stuttgart</td>\n",
       "      <td>2021-10-05 07:35+02:00</td>\n",
       "      <td>1</td>\n",
       "      <td>Unknown</td>\n",
       "      <td>Airbus A320</td>\n",
       "      <td>EDDB</td>\n",
       "    </tr>\n",
       "    <tr>\n",
       "      <th>87</th>\n",
       "      <td>Duesseldorf</td>\n",
       "      <td>2021-10-05 07:35+02:00</td>\n",
       "      <td>1</td>\n",
       "      <td>Unknown</td>\n",
       "      <td>Airbus A320</td>\n",
       "      <td>EDDB</td>\n",
       "    </tr>\n",
       "    <tr>\n",
       "      <th>88</th>\n",
       "      <td>Frankfurt-am-Main</td>\n",
       "      <td>2021-10-05 07:55+02:00</td>\n",
       "      <td>1</td>\n",
       "      <td>Arrived</td>\n",
       "      <td>Airbus A321-100/200</td>\n",
       "      <td>EDDB</td>\n",
       "    </tr>\n",
       "    <tr>\n",
       "      <th>89</th>\n",
       "      <td>Varna</td>\n",
       "      <td>2021-10-05 07:40+02:00</td>\n",
       "      <td>0</td>\n",
       "      <td>Arrived</td>\n",
       "      <td>Airbus A320-100/200</td>\n",
       "      <td>EDDB</td>\n",
       "    </tr>\n",
       "    <tr>\n",
       "      <th>90</th>\n",
       "      <td>Amsterdam</td>\n",
       "      <td>2021-10-05 08:20+02:00</td>\n",
       "      <td>0</td>\n",
       "      <td>Arrived</td>\n",
       "      <td>Embraer EMB 175</td>\n",
       "      <td>EDDB</td>\n",
       "    </tr>\n",
       "  </tbody>\n",
       "</table>\n",
       "<p>91 rows × 6 columns</p>\n",
       "</div>"
      ],
      "text/plain": [
       "          dep_airport      sched_arr_loc_time terminal   status  \\\n",
       "0               Olbia  2021-10-04 19:59+02:00     None  Arrived   \n",
       "1              London  2021-10-04 20:35+02:00        1  Arrived   \n",
       "2             Unknown  2021-10-04 20:14+02:00     None  Arrived   \n",
       "3                Oslo  2021-10-04 20:05+02:00        1  Arrived   \n",
       "4              Athens  2021-10-04 20:33+02:00     None  Arrived   \n",
       "..                ...                     ...      ...      ...   \n",
       "86          Stuttgart  2021-10-05 07:35+02:00        1  Unknown   \n",
       "87        Duesseldorf  2021-10-05 07:35+02:00        1  Unknown   \n",
       "88  Frankfurt-am-Main  2021-10-05 07:55+02:00        1  Arrived   \n",
       "89              Varna  2021-10-05 07:40+02:00        0  Arrived   \n",
       "90          Amsterdam  2021-10-05 08:20+02:00        0  Arrived   \n",
       "\n",
       "                       aircraft icao_code  \n",
       "0           Airbus A320-100/200      EDDB  \n",
       "1   Airbus A320-200 (Sharklets)      EDDB  \n",
       "2           Airbus A320-100/200      EDDB  \n",
       "3                Boeing 737-800      EDDB  \n",
       "4           Airbus A320-100/200      EDDB  \n",
       "..                          ...       ...  \n",
       "86                  Airbus A320      EDDB  \n",
       "87                  Airbus A320      EDDB  \n",
       "88          Airbus A321-100/200      EDDB  \n",
       "89          Airbus A320-100/200      EDDB  \n",
       "90              Embraer EMB 175      EDDB  \n",
       "\n",
       "[91 rows x 6 columns]"
      ]
     },
     "execution_count": 182,
     "metadata": {},
     "output_type": "execute_result"
    }
   ],
   "source": [
    "### Option 1\n",
    "arrivals_berlin = response.json()['arrivals']\n",
    "\n",
    "def get_flight_info(flight_json):\n",
    "    # terminal\n",
    "    try: terminal = flight_json['arrival']['terminal']\n",
    "    except: terminal = None\n",
    "    # aircraft\n",
    "    try: aircraft = flight_json['aircraft']['model']\n",
    "    except: aircraft = None\n",
    "\n",
    "    return {\n",
    "        'dep_airport':flight_json['departure']['airport']['name'],\n",
    "        'sched_arr_loc_time':flight_json['arrival']['scheduledTimeLocal'],\n",
    "        'terminal':terminal,\n",
    "        'status':flight_json['status'],\n",
    "        'aircraft':aircraft,\n",
    "        'icao_code':airport_icoa\n",
    "    }\n",
    "\n",
    "\n",
    "import pandas as pd\n",
    "# [get_flight_info(flight) for flight in arrivals_berlin]\n",
    "arrivals_berlin = pd.DataFrame([get_flight_info(flight) for flight in arrivals_berlin])\n",
    "arrivals_berlin"
   ]
  },
  {
   "cell_type": "code",
   "execution_count": 183,
   "id": "3317f616-0e53-42ca-9085-bec1352cc2d5",
   "metadata": {},
   "outputs": [
    {
     "data": {
      "text/html": [
       "<div>\n",
       "<style scoped>\n",
       "    .dataframe tbody tr th:only-of-type {\n",
       "        vertical-align: middle;\n",
       "    }\n",
       "\n",
       "    .dataframe tbody tr th {\n",
       "        vertical-align: top;\n",
       "    }\n",
       "\n",
       "    .dataframe thead th {\n",
       "        text-align: right;\n",
       "    }\n",
       "</style>\n",
       "<table border=\"1\" class=\"dataframe\">\n",
       "  <thead>\n",
       "    <tr style=\"text-align: right;\">\n",
       "      <th></th>\n",
       "      <th>departure.airport.name</th>\n",
       "      <th>arrival.scheduledTimeLocal</th>\n",
       "      <th>arrival.terminal</th>\n",
       "      <th>status</th>\n",
       "      <th>aircraft.model</th>\n",
       "      <th>icao_code</th>\n",
       "    </tr>\n",
       "  </thead>\n",
       "  <tbody>\n",
       "    <tr>\n",
       "      <th>0</th>\n",
       "      <td>Olbia</td>\n",
       "      <td>2021-10-04 19:59+02:00</td>\n",
       "      <td>NaN</td>\n",
       "      <td>Arrived</td>\n",
       "      <td>Airbus A320-100/200</td>\n",
       "      <td>EDDB</td>\n",
       "    </tr>\n",
       "    <tr>\n",
       "      <th>1</th>\n",
       "      <td>London</td>\n",
       "      <td>2021-10-04 20:35+02:00</td>\n",
       "      <td>1</td>\n",
       "      <td>Arrived</td>\n",
       "      <td>Airbus A320-200 (Sharklets)</td>\n",
       "      <td>EDDB</td>\n",
       "    </tr>\n",
       "    <tr>\n",
       "      <th>2</th>\n",
       "      <td>Unknown</td>\n",
       "      <td>2021-10-04 20:14+02:00</td>\n",
       "      <td>NaN</td>\n",
       "      <td>Arrived</td>\n",
       "      <td>Airbus A320-100/200</td>\n",
       "      <td>EDDB</td>\n",
       "    </tr>\n",
       "    <tr>\n",
       "      <th>3</th>\n",
       "      <td>Oslo</td>\n",
       "      <td>2021-10-04 20:05+02:00</td>\n",
       "      <td>1</td>\n",
       "      <td>Arrived</td>\n",
       "      <td>Boeing 737-800</td>\n",
       "      <td>EDDB</td>\n",
       "    </tr>\n",
       "    <tr>\n",
       "      <th>4</th>\n",
       "      <td>Athens</td>\n",
       "      <td>2021-10-04 20:33+02:00</td>\n",
       "      <td>NaN</td>\n",
       "      <td>Arrived</td>\n",
       "      <td>Airbus A320-100/200</td>\n",
       "      <td>EDDB</td>\n",
       "    </tr>\n",
       "    <tr>\n",
       "      <th>...</th>\n",
       "      <td>...</td>\n",
       "      <td>...</td>\n",
       "      <td>...</td>\n",
       "      <td>...</td>\n",
       "      <td>...</td>\n",
       "      <td>...</td>\n",
       "    </tr>\n",
       "    <tr>\n",
       "      <th>86</th>\n",
       "      <td>Stuttgart</td>\n",
       "      <td>2021-10-05 07:35+02:00</td>\n",
       "      <td>1</td>\n",
       "      <td>Unknown</td>\n",
       "      <td>Airbus A320</td>\n",
       "      <td>EDDB</td>\n",
       "    </tr>\n",
       "    <tr>\n",
       "      <th>87</th>\n",
       "      <td>Duesseldorf</td>\n",
       "      <td>2021-10-05 07:35+02:00</td>\n",
       "      <td>1</td>\n",
       "      <td>Unknown</td>\n",
       "      <td>Airbus A320</td>\n",
       "      <td>EDDB</td>\n",
       "    </tr>\n",
       "    <tr>\n",
       "      <th>88</th>\n",
       "      <td>Frankfurt-am-Main</td>\n",
       "      <td>2021-10-05 07:55+02:00</td>\n",
       "      <td>1</td>\n",
       "      <td>Arrived</td>\n",
       "      <td>Airbus A321-100/200</td>\n",
       "      <td>EDDB</td>\n",
       "    </tr>\n",
       "    <tr>\n",
       "      <th>89</th>\n",
       "      <td>Varna</td>\n",
       "      <td>2021-10-05 07:40+02:00</td>\n",
       "      <td>0</td>\n",
       "      <td>Arrived</td>\n",
       "      <td>Airbus A320-100/200</td>\n",
       "      <td>EDDB</td>\n",
       "    </tr>\n",
       "    <tr>\n",
       "      <th>90</th>\n",
       "      <td>Amsterdam</td>\n",
       "      <td>2021-10-05 08:20+02:00</td>\n",
       "      <td>0</td>\n",
       "      <td>Arrived</td>\n",
       "      <td>Embraer EMB 175</td>\n",
       "      <td>EDDB</td>\n",
       "    </tr>\n",
       "  </tbody>\n",
       "</table>\n",
       "<p>91 rows × 6 columns</p>\n",
       "</div>"
      ],
      "text/plain": [
       "   departure.airport.name arrival.scheduledTimeLocal arrival.terminal  \\\n",
       "0                   Olbia     2021-10-04 19:59+02:00              NaN   \n",
       "1                  London     2021-10-04 20:35+02:00                1   \n",
       "2                 Unknown     2021-10-04 20:14+02:00              NaN   \n",
       "3                    Oslo     2021-10-04 20:05+02:00                1   \n",
       "4                  Athens     2021-10-04 20:33+02:00              NaN   \n",
       "..                    ...                        ...              ...   \n",
       "86              Stuttgart     2021-10-05 07:35+02:00                1   \n",
       "87            Duesseldorf     2021-10-05 07:35+02:00                1   \n",
       "88      Frankfurt-am-Main     2021-10-05 07:55+02:00                1   \n",
       "89                  Varna     2021-10-05 07:40+02:00                0   \n",
       "90              Amsterdam     2021-10-05 08:20+02:00                0   \n",
       "\n",
       "     status               aircraft.model icao_code  \n",
       "0   Arrived          Airbus A320-100/200      EDDB  \n",
       "1   Arrived  Airbus A320-200 (Sharklets)      EDDB  \n",
       "2   Arrived          Airbus A320-100/200      EDDB  \n",
       "3   Arrived               Boeing 737-800      EDDB  \n",
       "4   Arrived          Airbus A320-100/200      EDDB  \n",
       "..      ...                          ...       ...  \n",
       "86  Unknown                  Airbus A320      EDDB  \n",
       "87  Unknown                  Airbus A320      EDDB  \n",
       "88  Arrived          Airbus A321-100/200      EDDB  \n",
       "89  Arrived          Airbus A320-100/200      EDDB  \n",
       "90  Arrived              Embraer EMB 175      EDDB  \n",
       "\n",
       "[91 rows x 6 columns]"
      ]
     },
     "execution_count": 183,
     "metadata": {},
     "output_type": "execute_result"
    }
   ],
   "source": [
    "### Option 2\n",
    "import pandas as pd\n",
    "arrivals = pd.json_normalize(response.json()['arrivals'])\n",
    "# next step: select the columns you want to incude on your database\n",
    "(\n",
    "arrivals\n",
    "    .filter(['departure.airport.name','arrival.scheduledTimeLocal',\n",
    "             'arrival.terminal','status','aircraft.model'])\n",
    "    .assign(icao_code = airport_icoa)\n",
    ")"
   ]
  },
  {
   "cell_type": "markdown",
   "id": "18faf618-b292-4ab6-a818-d4efb73dd186",
   "metadata": {},
   "source": [
    "## Wheather API"
   ]
  },
  {
   "cell_type": "markdown",
   "id": "62105324-ef89-4609-af79-a7c816b515fc",
   "metadata": {},
   "source": [
    "### Connecting to OWM API"
   ]
  },
  {
   "cell_type": "code",
   "execution_count": 184,
   "id": "db3ea2a3-6efd-4c19-8afa-cb1800fdaf5f",
   "metadata": {
    "tags": []
   },
   "outputs": [
    {
     "data": {
      "application/json": {
       "city": {
        "coord": {
         "lat": 52.5244,
         "lon": 13.4105
        },
        "country": "DE",
        "id": 2950159,
        "name": "Berlin",
        "population": 1000000,
        "sunrise": 1638341685,
        "sunset": 1638370589,
        "timezone": 3600
       },
       "cnt": 40,
       "cod": "200",
       "list": [
        {
         "clouds": {
          "all": 75
         },
         "dt": 1638360000,
         "dt_txt": "2021-12-01 12:00:00",
         "main": {
          "feels_like": 1.92,
          "grnd_level": 984,
          "humidity": 93,
          "pressure": 982,
          "sea_level": 982,
          "temp": 6.38,
          "temp_kf": -0.26,
          "temp_max": 6.64,
          "temp_min": 6.38
         },
         "pop": 1,
         "rain": {
          "3h": 0.73
         },
         "sys": {
          "pod": "d"
         },
         "visibility": 10000,
         "weather": [
          {
           "description": "light rain",
           "icon": "10d",
           "id": 500,
           "main": "Rain"
          }
         ],
         "wind": {
          "deg": 221,
          "gust": 16.37,
          "speed": 8.16
         }
        },
        {
         "clouds": {
          "all": 83
         },
         "dt": 1638370800,
         "dt_txt": "2021-12-01 15:00:00",
         "main": {
          "feels_like": 2.31,
          "grnd_level": 982,
          "humidity": 88,
          "pressure": 984,
          "sea_level": 984,
          "temp": 6.71,
          "temp_kf": -0.66,
          "temp_max": 7.37,
          "temp_min": 6.71
         },
         "pop": 0.3,
         "rain": {
          "3h": 0.41
         },
         "sys": {
          "pod": "n"
         },
         "visibility": 10000,
         "weather": [
          {
           "description": "light rain",
           "icon": "10n",
           "id": 500,
           "main": "Rain"
          }
         ],
         "wind": {
          "deg": 220,
          "gust": 17.12,
          "speed": 8.3
         }
        },
        {
         "clouds": {
          "all": 92
         },
         "dt": 1638381600,
         "dt_txt": "2021-12-01 18:00:00",
         "main": {
          "feels_like": 3.01,
          "grnd_level": 980,
          "humidity": 82,
          "pressure": 985,
          "sea_level": 985,
          "temp": 7.25,
          "temp_kf": -0.44,
          "temp_max": 7.69,
          "temp_min": 7.25
         },
         "pop": 0.09,
         "sys": {
          "pod": "n"
         },
         "visibility": 10000,
         "weather": [
          {
           "description": "overcast clouds",
           "icon": "04n",
           "id": 804,
           "main": "Clouds"
          }
         ],
         "wind": {
          "deg": 225,
          "gust": 17.63,
          "speed": 8.32
         }
        },
        {
         "clouds": {
          "all": 99
         },
         "dt": 1638392400,
         "dt_txt": "2021-12-01 21:00:00",
         "main": {
          "feels_like": 2.56,
          "grnd_level": 980,
          "humidity": 72,
          "pressure": 986,
          "sea_level": 986,
          "temp": 7.32,
          "temp_kf": 0,
          "temp_max": 7.32,
          "temp_min": 7.32
         },
         "pop": 0.2,
         "rain": {
          "3h": 0.13
         },
         "sys": {
          "pod": "n"
         },
         "visibility": 10000,
         "weather": [
          {
           "description": "light rain",
           "icon": "10n",
           "id": 500,
           "main": "Rain"
          }
         ],
         "wind": {
          "deg": 237,
          "gust": 21.52,
          "speed": 10.44
         }
        },
        {
         "clouds": {
          "all": 98
         },
         "dt": 1638403200,
         "dt_txt": "2021-12-02 00:00:00",
         "main": {
          "feels_like": -0.54,
          "grnd_level": 982,
          "humidity": 65,
          "pressure": 987,
          "sea_level": 987,
          "temp": 5.11,
          "temp_kf": 0,
          "temp_max": 5.11,
          "temp_min": 5.11
         },
         "pop": 0.02,
         "sys": {
          "pod": "n"
         },
         "visibility": 10000,
         "weather": [
          {
           "description": "overcast clouds",
           "icon": "04n",
           "id": 804,
           "main": "Clouds"
          }
         ],
         "wind": {
          "deg": 262,
          "gust": 21.44,
          "speed": 11.1
         }
        },
        {
         "clouds": {
          "all": 99
         },
         "dt": 1638414000,
         "dt_txt": "2021-12-02 03:00:00",
         "main": {
          "feels_like": -2.09,
          "grnd_level": 985,
          "humidity": 68,
          "pressure": 990,
          "sea_level": 990,
          "temp": 3.53,
          "temp_kf": 0,
          "temp_max": 3.53,
          "temp_min": 3.53
         },
         "pop": 0,
         "sys": {
          "pod": "n"
         },
         "visibility": 10000,
         "weather": [
          {
           "description": "overcast clouds",
           "icon": "04n",
           "id": 804,
           "main": "Clouds"
          }
         ],
         "wind": {
          "deg": 275,
          "gust": 17.13,
          "speed": 9.09
         }
        },
        {
         "clouds": {
          "all": 76
         },
         "dt": 1638424800,
         "dt_txt": "2021-12-02 06:00:00",
         "main": {
          "feels_like": -3.57,
          "grnd_level": 988,
          "humidity": 68,
          "pressure": 993,
          "sea_level": 993,
          "temp": 1.91,
          "temp_kf": 0,
          "temp_max": 1.91,
          "temp_min": 1.91
         },
         "pop": 0,
         "sys": {
          "pod": "n"
         },
         "visibility": 10000,
         "weather": [
          {
           "description": "broken clouds",
           "icon": "04n",
           "id": 803,
           "main": "Clouds"
          }
         ],
         "wind": {
          "deg": 276,
          "gust": 14.35,
          "speed": 7.27
         }
        },
        {
         "clouds": {
          "all": 9
         },
         "dt": 1638435600,
         "dt_txt": "2021-12-02 09:00:00",
         "main": {
          "feels_like": -2.95,
          "grnd_level": 991,
          "humidity": 67,
          "pressure": 996,
          "sea_level": 996,
          "temp": 2.07,
          "temp_kf": 0,
          "temp_max": 2.07,
          "temp_min": 2.07
         },
         "pop": 0,
         "sys": {
          "pod": "d"
         },
         "visibility": 10000,
         "weather": [
          {
           "description": "clear sky",
           "icon": "01d",
           "id": 800,
           "main": "Clear"
          }
         ],
         "wind": {
          "deg": 277,
          "gust": 11.69,
          "speed": 6.27
         }
        },
        {
         "clouds": {
          "all": 21
         },
         "dt": 1638446400,
         "dt_txt": "2021-12-02 12:00:00",
         "main": {
          "feels_like": -0.72,
          "grnd_level": 992,
          "humidity": 53,
          "pressure": 997,
          "sea_level": 997,
          "temp": 3.24,
          "temp_kf": 0,
          "temp_max": 3.24,
          "temp_min": 3.24
         },
         "pop": 0,
         "sys": {
          "pod": "d"
         },
         "visibility": 10000,
         "weather": [
          {
           "description": "few clouds",
           "icon": "02d",
           "id": 801,
           "main": "Clouds"
          }
         ],
         "wind": {
          "deg": 281,
          "gust": 8.65,
          "speed": 4.72
         }
        },
        {
         "clouds": {
          "all": 83
         },
         "dt": 1638457200,
         "dt_txt": "2021-12-02 15:00:00",
         "main": {
          "feels_like": -1.2,
          "grnd_level": 994,
          "humidity": 60,
          "pressure": 999,
          "sea_level": 999,
          "temp": 1.69,
          "temp_kf": 0,
          "temp_max": 1.69,
          "temp_min": 1.69
         },
         "pop": 0,
         "sys": {
          "pod": "n"
         },
         "visibility": 10000,
         "weather": [
          {
           "description": "broken clouds",
           "icon": "04n",
           "id": 803,
           "main": "Clouds"
          }
         ],
         "wind": {
          "deg": 303,
          "gust": 6.27,
          "speed": 2.69
         }
        },
        {
         "clouds": {
          "all": 91
         },
         "dt": 1638468000,
         "dt_txt": "2021-12-02 18:00:00",
         "main": {
          "feels_like": -2.58,
          "grnd_level": 996,
          "humidity": 73,
          "pressure": 1001,
          "sea_level": 1001,
          "temp": 0.31,
          "temp_kf": 0,
          "temp_max": 0.31,
          "temp_min": 0.31
         },
         "pop": 0,
         "sys": {
          "pod": "n"
         },
         "visibility": 10000,
         "weather": [
          {
           "description": "overcast clouds",
           "icon": "04n",
           "id": 804,
           "main": "Clouds"
          }
         ],
         "wind": {
          "deg": 310,
          "gust": 5.7,
          "speed": 2.43
         }
        },
        {
         "clouds": {
          "all": 31
         },
         "dt": 1638478800,
         "dt_txt": "2021-12-02 21:00:00",
         "main": {
          "feels_like": -3.73,
          "grnd_level": 998,
          "humidity": 78,
          "pressure": 1003,
          "sea_level": 1003,
          "temp": -0.48,
          "temp_kf": 0,
          "temp_max": -0.48,
          "temp_min": -0.48
         },
         "pop": 0,
         "sys": {
          "pod": "n"
         },
         "visibility": 10000,
         "weather": [
          {
           "description": "scattered clouds",
           "icon": "03n",
           "id": 802,
           "main": "Clouds"
          }
         ],
         "wind": {
          "deg": 273,
          "gust": 6.11,
          "speed": 2.64
         }
        },
        {
         "clouds": {
          "all": 22
         },
         "dt": 1638489600,
         "dt_txt": "2021-12-03 00:00:00",
         "main": {
          "feels_like": -4.42,
          "grnd_level": 999,
          "humidity": 79,
          "pressure": 1005,
          "sea_level": 1005,
          "temp": -0.68,
          "temp_kf": 0,
          "temp_max": -0.68,
          "temp_min": -0.68
         },
         "pop": 0,
         "sys": {
          "pod": "n"
         },
         "visibility": 10000,
         "weather": [
          {
           "description": "few clouds",
           "icon": "02n",
           "id": 801,
           "main": "Clouds"
          }
         ],
         "wind": {
          "deg": 256,
          "gust": 8.04,
          "speed": 3.12
         }
        },
        {
         "clouds": {
          "all": 63
         },
         "dt": 1638500400,
         "dt_txt": "2021-12-03 03:00:00",
         "main": {
          "feels_like": -5.04,
          "grnd_level": 1000,
          "humidity": 74,
          "pressure": 1005,
          "sea_level": 1005,
          "temp": -0.41,
          "temp_kf": 0,
          "temp_max": -0.41,
          "temp_min": -0.41
         },
         "pop": 0,
         "sys": {
          "pod": "n"
         },
         "visibility": 10000,
         "weather": [
          {
           "description": "broken clouds",
           "icon": "04n",
           "id": 803,
           "main": "Clouds"
          }
         ],
         "wind": {
          "deg": 251,
          "gust": 12.72,
          "speed": 4.37
         }
        },
        {
         "clouds": {
          "all": 78
         },
         "dt": 1638511200,
         "dt_txt": "2021-12-03 06:00:00",
         "main": {
          "feels_like": -4.86,
          "grnd_level": 1001,
          "humidity": 83,
          "pressure": 1006,
          "sea_level": 1006,
          "temp": 0.19,
          "temp_kf": 0,
          "temp_max": 0.19,
          "temp_min": 0.19
         },
         "pop": 0,
         "sys": {
          "pod": "n"
         },
         "visibility": 10000,
         "weather": [
          {
           "description": "broken clouds",
           "icon": "04n",
           "id": 803,
           "main": "Clouds"
          }
         ],
         "wind": {
          "deg": 252,
          "gust": 12.76,
          "speed": 5.32
         }
        },
        {
         "clouds": {
          "all": 100
         },
         "dt": 1638522000,
         "dt_txt": "2021-12-03 09:00:00",
         "main": {
          "feels_like": -4.25,
          "grnd_level": 1002,
          "humidity": 94,
          "pressure": 1007,
          "sea_level": 1007,
          "temp": 0.77,
          "temp_kf": 0,
          "temp_max": 0.77,
          "temp_min": 0.77
         },
         "pop": 0.24,
         "snow": {
          "3h": 0.35
         },
         "sys": {
          "pod": "d"
         },
         "visibility": 3435,
         "weather": [
          {
           "description": "light snow",
           "icon": "13d",
           "id": 600,
           "main": "Snow"
          }
         ],
         "wind": {
          "deg": 251,
          "gust": 12.94,
          "speed": 5.55
         }
        },
        {
         "clouds": {
          "all": 100
         },
         "dt": 1638532800,
         "dt_txt": "2021-12-03 12:00:00",
         "main": {
          "feels_like": -0.81,
          "grnd_level": 1002,
          "humidity": 74,
          "pressure": 1007,
          "sea_level": 1007,
          "temp": 3.41,
          "temp_kf": 0,
          "temp_max": 3.41,
          "temp_min": 3.41
         },
         "pop": 0.33,
         "snow": {
          "3h": 0.44
         },
         "sys": {
          "pod": "d"
         },
         "visibility": 10000,
         "weather": [
          {
           "description": "light snow",
           "icon": "13d",
           "id": 600,
           "main": "Snow"
          }
         ],
         "wind": {
          "deg": 251,
          "gust": 12.13,
          "speed": 5.32
         }
        },
        {
         "clouds": {
          "all": 100
         },
         "dt": 1638543600,
         "dt_txt": "2021-12-03 15:00:00",
         "main": {
          "feels_like": -1.03,
          "grnd_level": 1002,
          "humidity": 73,
          "pressure": 1008,
          "sea_level": 1008,
          "temp": 3.21,
          "temp_kf": 0,
          "temp_max": 3.21,
          "temp_min": 3.21
         },
         "pop": 0,
         "sys": {
          "pod": "n"
         },
         "visibility": 10000,
         "weather": [
          {
           "description": "overcast clouds",
           "icon": "04n",
           "id": 804,
           "main": "Clouds"
          }
         ],
         "wind": {
          "deg": 244,
          "gust": 12.32,
          "speed": 5.26
         }
        },
        {
         "clouds": {
          "all": 97
         },
         "dt": 1638554400,
         "dt_txt": "2021-12-03 18:00:00",
         "main": {
          "feels_like": -2.37,
          "grnd_level": 1003,
          "humidity": 79,
          "pressure": 1008,
          "sea_level": 1008,
          "temp": 1.9,
          "temp_kf": 0,
          "temp_max": 1.9,
          "temp_min": 1.9
         },
         "pop": 0,
         "sys": {
          "pod": "n"
         },
         "visibility": 10000,
         "weather": [
          {
           "description": "overcast clouds",
           "icon": "04n",
           "id": 804,
           "main": "Clouds"
          }
         ],
         "wind": {
          "deg": 230,
          "gust": 11.91,
          "speed": 4.7
         }
        },
        {
         "clouds": {
          "all": 49
         },
         "dt": 1638565200,
         "dt_txt": "2021-12-03 21:00:00",
         "main": {
          "feels_like": -3.84,
          "grnd_level": 1003,
          "humidity": 84,
          "pressure": 1008,
          "sea_level": 1008,
          "temp": 0.78,
          "temp_kf": 0,
          "temp_max": 0.78,
          "temp_min": 0.78
         },
         "pop": 0,
         "sys": {
          "pod": "n"
         },
         "visibility": 10000,
         "weather": [
          {
           "description": "scattered clouds",
           "icon": "03n",
           "id": 802,
           "main": "Clouds"
          }
         ],
         "wind": {
          "deg": 209,
          "gust": 11.08,
          "speed": 4.82
         }
        },
        {
         "clouds": {
          "all": 72
         },
         "dt": 1638576000,
         "dt_txt": "2021-12-04 00:00:00",
         "main": {
          "feels_like": -4.47,
          "grnd_level": 1001,
          "humidity": 84,
          "pressure": 1007,
          "sea_level": 1007,
          "temp": -0.06,
          "temp_kf": 0,
          "temp_max": -0.06,
          "temp_min": -0.06
         },
         "pop": 0,
         "sys": {
          "pod": "n"
         },
         "visibility": 10000,
         "weather": [
          {
           "description": "broken clouds",
           "icon": "04n",
           "id": 803,
           "main": "Clouds"
          }
         ],
         "wind": {
          "deg": 199,
          "gust": 10.75,
          "speed": 4.17
         }
        },
        {
         "clouds": {
          "all": 100
         },
         "dt": 1638586800,
         "dt_txt": "2021-12-04 03:00:00",
         "main": {
          "feels_like": -4.5,
          "grnd_level": 998,
          "humidity": 79,
          "pressure": 1004,
          "sea_level": 1004,
          "temp": 0.15,
          "temp_kf": 0,
          "temp_max": 0.15,
          "temp_min": 0.15
         },
         "pop": 0,
         "sys": {
          "pod": "n"
         },
         "visibility": 10000,
         "weather": [
          {
           "description": "overcast clouds",
           "icon": "04n",
           "id": 804,
           "main": "Clouds"
          }
         ],
         "wind": {
          "deg": 173,
          "gust": 11.23,
          "speed": 4.61
         }
        },
        {
         "clouds": {
          "all": 100
         },
         "dt": 1638597600,
         "dt_txt": "2021-12-04 06:00:00",
         "main": {
          "feels_like": -4.02,
          "grnd_level": 996,
          "humidity": 66,
          "pressure": 1001,
          "sea_level": 1001,
          "temp": 0.76,
          "temp_kf": 0,
          "temp_max": 0.76,
          "temp_min": 0.76
         },
         "pop": 0,
         "sys": {
          "pod": "n"
         },
         "visibility": 10000,
         "weather": [
          {
           "description": "overcast clouds",
           "icon": "04n",
           "id": 804,
           "main": "Clouds"
          }
         ],
         "wind": {
          "deg": 166,
          "gust": 12.82,
          "speed": 5.1
         }
        },
        {
         "clouds": {
          "all": 100
         },
         "dt": 1638608400,
         "dt_txt": "2021-12-04 09:00:00",
         "main": {
          "feels_like": -2.17,
          "grnd_level": 995,
          "humidity": 58,
          "pressure": 1000,
          "sea_level": 1000,
          "temp": 2.08,
          "temp_kf": 0,
          "temp_max": 2.08,
          "temp_min": 2.08
         },
         "pop": 0.03,
         "sys": {
          "pod": "d"
         },
         "visibility": 10000,
         "weather": [
          {
           "description": "overcast clouds",
           "icon": "04d",
           "id": 804,
           "main": "Clouds"
          }
         ],
         "wind": {
          "deg": 174,
          "gust": 11.73,
          "speed": 4.74
         }
        },
        {
         "clouds": {
          "all": 100
         },
         "dt": 1638619200,
         "dt_txt": "2021-12-04 12:00:00",
         "main": {
          "feels_like": -1.26,
          "grnd_level": 993,
          "humidity": 62,
          "pressure": 998,
          "sea_level": 998,
          "temp": 2.93,
          "temp_kf": 0,
          "temp_max": 2.93,
          "temp_min": 2.93
         },
         "pop": 0.02,
         "sys": {
          "pod": "d"
         },
         "visibility": 10000,
         "weather": [
          {
           "description": "overcast clouds",
           "icon": "04d",
           "id": 804,
           "main": "Clouds"
          }
         ],
         "wind": {
          "deg": 181,
          "gust": 8.84,
          "speed": 5.02
         }
        },
        {
         "clouds": {
          "all": 100
         },
         "dt": 1638630000,
         "dt_txt": "2021-12-04 15:00:00",
         "main": {
          "feels_like": -1.94,
          "grnd_level": 993,
          "humidity": 97,
          "pressure": 998,
          "sea_level": 998,
          "temp": 1.79,
          "temp_kf": 0,
          "temp_max": 1.79,
          "temp_min": 1.79
         },
         "pop": 0.73,
         "snow": {
          "3h": 0.46
         },
         "sys": {
          "pod": "n"
         },
         "visibility": 24,
         "weather": [
          {
           "description": "light snow",
           "icon": "13n",
           "id": 600,
           "main": "Snow"
          }
         ],
         "wind": {
          "deg": 189,
          "gust": 9.38,
          "speed": 3.79
         }
        },
        {
         "clouds": {
          "all": 100
         },
         "dt": 1638640800,
         "dt_txt": "2021-12-04 18:00:00",
         "main": {
          "feels_like": -0.65,
          "grnd_level": 994,
          "humidity": 97,
          "pressure": 999,
          "sea_level": 999,
          "temp": 2.7,
          "temp_kf": 0,
          "temp_max": 2.7,
          "temp_min": 2.7
         },
         "pop": 1,
         "rain": {
          "3h": 1.36
         },
         "sys": {
          "pod": "n"
         },
         "visibility": 4011,
         "weather": [
          {
           "description": "light rain",
           "icon": "10n",
           "id": 500,
           "main": "Rain"
          }
         ],
         "wind": {
          "deg": 220,
          "gust": 11.23,
          "speed": 3.53
         }
        },
        {
         "clouds": {
          "all": 100
         },
         "dt": 1638651600,
         "dt_txt": "2021-12-04 21:00:00",
         "main": {
          "feels_like": 0.78,
          "grnd_level": 995,
          "humidity": 94,
          "pressure": 1001,
          "sea_level": 1001,
          "temp": 4.13,
          "temp_kf": 0,
          "temp_max": 4.13,
          "temp_min": 4.13
         },
         "pop": 0.11,
         "sys": {
          "pod": "n"
         },
         "visibility": 10000,
         "weather": [
          {
           "description": "overcast clouds",
           "icon": "04n",
           "id": 804,
           "main": "Clouds"
          }
         ],
         "wind": {
          "deg": 230,
          "gust": 10.47,
          "speed": 4.02
         }
        },
        {
         "clouds": {
          "all": 70
         },
         "dt": 1638662400,
         "dt_txt": "2021-12-05 00:00:00",
         "main": {
          "feels_like": -1.29,
          "grnd_level": 996,
          "humidity": 89,
          "pressure": 1001,
          "sea_level": 1001,
          "temp": 1.89,
          "temp_kf": 0,
          "temp_max": 1.89,
          "temp_min": 1.89
         },
         "pop": 0.01,
         "sys": {
          "pod": "n"
         },
         "visibility": 10000,
         "weather": [
          {
           "description": "broken clouds",
           "icon": "04n",
           "id": 803,
           "main": "Clouds"
          }
         ],
         "wind": {
          "deg": 223,
          "gust": 9.3,
          "speed": 3.07
         }
        },
        {
         "clouds": {
          "all": 19
         },
         "dt": 1638673200,
         "dt_txt": "2021-12-05 03:00:00",
         "main": {
          "feels_like": -2.62,
          "grnd_level": 998,
          "humidity": 89,
          "pressure": 1003,
          "sea_level": 1003,
          "temp": 0.65,
          "temp_kf": 0,
          "temp_max": 0.65,
          "temp_min": 0.65
         },
         "pop": 0,
         "sys": {
          "pod": "n"
         },
         "visibility": 10000,
         "weather": [
          {
           "description": "few clouds",
           "icon": "02n",
           "id": 801,
           "main": "Clouds"
          }
         ],
         "wind": {
          "deg": 206,
          "gust": 8.26,
          "speed": 2.89
         }
        },
        {
         "clouds": {
          "all": 19
         },
         "dt": 1638684000,
         "dt_txt": "2021-12-05 06:00:00",
         "main": {
          "feels_like": -3.7,
          "grnd_level": 998,
          "humidity": 90,
          "pressure": 1004,
          "sea_level": 1004,
          "temp": -0.14,
          "temp_kf": 0,
          "temp_max": -0.14,
          "temp_min": -0.14
         },
         "pop": 0,
         "sys": {
          "pod": "n"
         },
         "visibility": 10000,
         "weather": [
          {
           "description": "few clouds",
           "icon": "02n",
           "id": 801,
           "main": "Clouds"
          }
         ],
         "wind": {
          "deg": 175,
          "gust": 7.35,
          "speed": 3.04
         }
        },
        {
         "clouds": {
          "all": 15
         },
         "dt": 1638694800,
         "dt_txt": "2021-12-05 09:00:00",
         "main": {
          "feels_like": -1.98,
          "grnd_level": 1000,
          "humidity": 84,
          "pressure": 1005,
          "sea_level": 1005,
          "temp": 1.16,
          "temp_kf": 0,
          "temp_max": 1.16,
          "temp_min": 1.16
         },
         "pop": 0,
         "sys": {
          "pod": "d"
         },
         "visibility": 10000,
         "weather": [
          {
           "description": "few clouds",
           "icon": "02d",
           "id": 801,
           "main": "Clouds"
          }
         ],
         "wind": {
          "deg": 175,
          "gust": 7.21,
          "speed": 2.85
         }
        },
        {
         "clouds": {
          "all": 50
         },
         "dt": 1638705600,
         "dt_txt": "2021-12-05 12:00:00",
         "main": {
          "feels_like": 0.47,
          "grnd_level": 1000,
          "humidity": 77,
          "pressure": 1006,
          "sea_level": 1006,
          "temp": 3.44,
          "temp_kf": 0,
          "temp_max": 3.44,
          "temp_min": 3.44
         },
         "pop": 0,
         "sys": {
          "pod": "d"
         },
         "visibility": 10000,
         "weather": [
          {
           "description": "scattered clouds",
           "icon": "03d",
           "id": 802,
           "main": "Clouds"
          }
         ],
         "wind": {
          "deg": 179,
          "gust": 5.79,
          "speed": 3.21
         }
        },
        {
         "clouds": {
          "all": 82
         },
         "dt": 1638716400,
         "dt_txt": "2021-12-05 15:00:00",
         "main": {
          "feels_like": -0.78,
          "grnd_level": 1001,
          "humidity": 88,
          "pressure": 1006,
          "sea_level": 1006,
          "temp": 2.05,
          "temp_kf": 0,
          "temp_max": 2.05,
          "temp_min": 2.05
         },
         "pop": 0,
         "sys": {
          "pod": "n"
         },
         "visibility": 10000,
         "weather": [
          {
           "description": "broken clouds",
           "icon": "04n",
           "id": 803,
           "main": "Clouds"
          }
         ],
         "wind": {
          "deg": 152,
          "gust": 6.27,
          "speed": 2.7
         }
        },
        {
         "clouds": {
          "all": 91
         },
         "dt": 1638727200,
         "dt_txt": "2021-12-05 18:00:00",
         "main": {
          "feels_like": -1.67,
          "grnd_level": 1002,
          "humidity": 88,
          "pressure": 1007,
          "sea_level": 1007,
          "temp": 1.37,
          "temp_kf": 0,
          "temp_max": 1.37,
          "temp_min": 1.37
         },
         "pop": 0,
         "sys": {
          "pod": "n"
         },
         "visibility": 10000,
         "weather": [
          {
           "description": "overcast clouds",
           "icon": "04n",
           "id": 804,
           "main": "Clouds"
          }
         ],
         "wind": {
          "deg": 139,
          "gust": 6.92,
          "speed": 2.79
         }
        },
        {
         "clouds": {
          "all": 100
         },
         "dt": 1638738000,
         "dt_txt": "2021-12-05 21:00:00",
         "main": {
          "feels_like": -1.79,
          "grnd_level": 1003,
          "humidity": 88,
          "pressure": 1009,
          "sea_level": 1009,
          "temp": 0.71,
          "temp_kf": 0,
          "temp_max": 0.71,
          "temp_min": 0.71
         },
         "pop": 0,
         "sys": {
          "pod": "n"
         },
         "visibility": 10000,
         "weather": [
          {
           "description": "overcast clouds",
           "icon": "04n",
           "id": 804,
           "main": "Clouds"
          }
         ],
         "wind": {
          "deg": 119,
          "gust": 3.96,
          "speed": 2.14
         }
        },
        {
         "clouds": {
          "all": 95
         },
         "dt": 1638748800,
         "dt_txt": "2021-12-06 00:00:00",
         "main": {
          "feels_like": -2.56,
          "grnd_level": 1004,
          "humidity": 88,
          "pressure": 1009,
          "sea_level": 1009,
          "temp": 0.05,
          "temp_kf": 0,
          "temp_max": 0.05,
          "temp_min": 0.05
         },
         "pop": 0,
         "sys": {
          "pod": "n"
         },
         "visibility": 10000,
         "weather": [
          {
           "description": "overcast clouds",
           "icon": "04n",
           "id": 804,
           "main": "Clouds"
          }
         ],
         "wind": {
          "deg": 93,
          "gust": 3.59,
          "speed": 2.13
         }
        },
        {
         "clouds": {
          "all": 100
         },
         "dt": 1638759600,
         "dt_txt": "2021-12-06 03:00:00",
         "main": {
          "feels_like": -3.01,
          "grnd_level": 1005,
          "humidity": 92,
          "pressure": 1011,
          "sea_level": 1011,
          "temp": -0.24,
          "temp_kf": 0,
          "temp_max": -0.24,
          "temp_min": -0.24
         },
         "pop": 0,
         "sys": {
          "pod": "n"
         },
         "visibility": 10000,
         "weather": [
          {
           "description": "overcast clouds",
           "icon": "04n",
           "id": 804,
           "main": "Clouds"
          }
         ],
         "wind": {
          "deg": 86,
          "gust": 5.14,
          "speed": 2.23
         }
        },
        {
         "clouds": {
          "all": 83
         },
         "dt": 1638770400,
         "dt_txt": "2021-12-06 06:00:00",
         "main": {
          "feels_like": -2.12,
          "grnd_level": 1007,
          "humidity": 93,
          "pressure": 1013,
          "sea_level": 1013,
          "temp": -0.36,
          "temp_kf": 0,
          "temp_max": -0.36,
          "temp_min": -0.36
         },
         "pop": 0,
         "sys": {
          "pod": "n"
         },
         "visibility": 10000,
         "weather": [
          {
           "description": "broken clouds",
           "icon": "04n",
           "id": 803,
           "main": "Clouds"
          }
         ],
         "wind": {
          "deg": 92,
          "gust": 1.69,
          "speed": 1.47
         }
        },
        {
         "clouds": {
          "all": 34
         },
         "dt": 1638781200,
         "dt_txt": "2021-12-06 09:00:00",
         "main": {
          "feels_like": 0.96,
          "grnd_level": 1009,
          "humidity": 85,
          "pressure": 1014,
          "sea_level": 1014,
          "temp": 0.96,
          "temp_kf": 0,
          "temp_max": 0.96,
          "temp_min": 0.96
         },
         "pop": 0,
         "sys": {
          "pod": "d"
         },
         "visibility": 10000,
         "weather": [
          {
           "description": "scattered clouds",
           "icon": "03d",
           "id": 802,
           "main": "Clouds"
          }
         ],
         "wind": {
          "deg": 23,
          "gust": 2.17,
          "speed": 1.28
         }
        }
       ],
       "message": 0
      },
      "text/plain": [
       "<IPython.core.display.JSON object>"
      ]
     },
     "execution_count": 184,
     "metadata": {
      "application/json": {
       "expanded": false,
       "root": "root"
      }
     },
     "output_type": "execute_result"
    }
   ],
   "source": [
    "city = \"Berlin\"\n",
    "country = \"DE\"\n",
    "# achieve the same result with the wather api\n",
    "response = requests.get(f'http://api.openweathermap.org/data/2.5/forecast/?q={city},{country}&appid={OWM_key}&units=metric&lang=en')\n",
    "\n",
    "from IPython.display import JSON\n",
    "JSON(response.json())"
   ]
  },
  {
   "cell_type": "code",
   "execution_count": 185,
   "id": "38359d0d-25a6-4a76-8a4f-2469becd62db",
   "metadata": {},
   "outputs": [
    {
     "data": {
      "text/html": [
       "<div>\n",
       "<style scoped>\n",
       "    .dataframe tbody tr th:only-of-type {\n",
       "        vertical-align: middle;\n",
       "    }\n",
       "\n",
       "    .dataframe tbody tr th {\n",
       "        vertical-align: top;\n",
       "    }\n",
       "\n",
       "    .dataframe thead th {\n",
       "        text-align: right;\n",
       "    }\n",
       "</style>\n",
       "<table border=\"1\" class=\"dataframe\">\n",
       "  <thead>\n",
       "    <tr style=\"text-align: right;\">\n",
       "      <th></th>\n",
       "      <th>datetime</th>\n",
       "      <th>temperature</th>\n",
       "      <th>wind</th>\n",
       "      <th>prob_perc</th>\n",
       "      <th>rain_qty</th>\n",
       "      <th>snow</th>\n",
       "      <th>municipality_iso_country</th>\n",
       "    </tr>\n",
       "  </thead>\n",
       "  <tbody>\n",
       "    <tr>\n",
       "      <th>0</th>\n",
       "      <td>2021-12-01 12:00:00</td>\n",
       "      <td>6.38</td>\n",
       "      <td>8.16</td>\n",
       "      <td>1.00</td>\n",
       "      <td>0.73</td>\n",
       "      <td>0.0</td>\n",
       "      <td>Berlin,DE</td>\n",
       "    </tr>\n",
       "    <tr>\n",
       "      <th>1</th>\n",
       "      <td>2021-12-01 15:00:00</td>\n",
       "      <td>6.71</td>\n",
       "      <td>8.30</td>\n",
       "      <td>0.30</td>\n",
       "      <td>0.41</td>\n",
       "      <td>0.0</td>\n",
       "      <td>Berlin,DE</td>\n",
       "    </tr>\n",
       "    <tr>\n",
       "      <th>2</th>\n",
       "      <td>2021-12-01 18:00:00</td>\n",
       "      <td>7.25</td>\n",
       "      <td>8.32</td>\n",
       "      <td>0.09</td>\n",
       "      <td>0.00</td>\n",
       "      <td>0.0</td>\n",
       "      <td>Berlin,DE</td>\n",
       "    </tr>\n",
       "    <tr>\n",
       "      <th>3</th>\n",
       "      <td>2021-12-01 21:00:00</td>\n",
       "      <td>7.32</td>\n",
       "      <td>10.44</td>\n",
       "      <td>0.20</td>\n",
       "      <td>0.13</td>\n",
       "      <td>0.0</td>\n",
       "      <td>Berlin,DE</td>\n",
       "    </tr>\n",
       "    <tr>\n",
       "      <th>4</th>\n",
       "      <td>2021-12-02 00:00:00</td>\n",
       "      <td>5.11</td>\n",
       "      <td>11.10</td>\n",
       "      <td>0.02</td>\n",
       "      <td>0.00</td>\n",
       "      <td>0.0</td>\n",
       "      <td>Berlin,DE</td>\n",
       "    </tr>\n",
       "  </tbody>\n",
       "</table>\n",
       "</div>"
      ],
      "text/plain": [
       "              datetime  temperature   wind  prob_perc  rain_qty  snow  \\\n",
       "0  2021-12-01 12:00:00         6.38   8.16       1.00      0.73   0.0   \n",
       "1  2021-12-01 15:00:00         6.71   8.30       0.30      0.41   0.0   \n",
       "2  2021-12-01 18:00:00         7.25   8.32       0.09      0.00   0.0   \n",
       "3  2021-12-01 21:00:00         7.32  10.44       0.20      0.13   0.0   \n",
       "4  2021-12-02 00:00:00         5.11  11.10       0.02      0.00   0.0   \n",
       "\n",
       "  municipality_iso_country  \n",
       "0                Berlin,DE  \n",
       "1                Berlin,DE  \n",
       "2                Berlin,DE  \n",
       "3                Berlin,DE  \n",
       "4                Berlin,DE  "
      ]
     },
     "execution_count": 185,
     "metadata": {},
     "output_type": "execute_result"
    }
   ],
   "source": [
    "forecast_api = response.json()['list']\n",
    "# look for the fields that could ve relevant: \n",
    "# better field descriptions https://www.weatherbit.io/api/weather-forecast-5-day\n",
    "\n",
    "weather_info = []\n",
    "\n",
    "# datetime, temperature, wind, prob_perc, rain_qty, snow = [], [], [], [], [], []\n",
    "for forecast_3h in forecast_api: \n",
    "    weather_hour = {}\n",
    "    # datetime utc\n",
    "    weather_hour['datetime'] = forecast_3h['dt_txt']\n",
    "    # temperature \n",
    "    weather_hour['temperature'] = forecast_3h['main']['temp']\n",
    "    # wind\n",
    "    weather_hour['wind'] = forecast_3h['wind']['speed']\n",
    "    # probability precipitation \n",
    "    try: weather_hour['prob_perc'] = float(forecast_3h['pop'])\n",
    "    except: weather_hour['prob_perc'] = 0\n",
    "    # rain\n",
    "    try: weather_hour['rain_qty'] = float(forecast_3h['rain']['3h'])\n",
    "    except: weather_hour['rain_qty'] = 0\n",
    "    # wind \n",
    "    try: weather_hour['snow'] = float(forecast_3h['snow']['3h'])\n",
    "    except: weather_hour['snow'] = 0\n",
    "    weather_hour['municipality_iso_country'] = city + ',' + country\n",
    "    weather_info.append(weather_hour)\n",
    "    \n",
    "weather_data = pd.DataFrame(weather_info)\n",
    "weather_data.head()"
   ]
  },
  {
   "cell_type": "markdown",
   "id": "223ced61-266e-4357-98da-39d8913d90d8",
   "metadata": {},
   "source": [
    "## Population data"
   ]
  },
  {
   "cell_type": "code",
   "execution_count": 186,
   "id": "39886116-8a42-4bf0-aa97-375682413e64",
   "metadata": {},
   "outputs": [
    {
     "data": {
      "text/html": [
       "<div>\n",
       "<style scoped>\n",
       "    .dataframe tbody tr th:only-of-type {\n",
       "        vertical-align: middle;\n",
       "    }\n",
       "\n",
       "    .dataframe tbody tr th {\n",
       "        vertical-align: top;\n",
       "    }\n",
       "\n",
       "    .dataframe thead th {\n",
       "        text-align: right;\n",
       "    }\n",
       "</style>\n",
       "<table border=\"1\" class=\"dataframe\">\n",
       "  <thead>\n",
       "    <tr style=\"text-align: right;\">\n",
       "      <th></th>\n",
       "      <th>city</th>\n",
       "      <th>mayor</th>\n",
       "      <th>city_size</th>\n",
       "      <th>elevation</th>\n",
       "      <th>city_population</th>\n",
       "      <th>urban_population</th>\n",
       "      <th>metro_population</th>\n",
       "      <th>lat</th>\n",
       "      <th>long</th>\n",
       "    </tr>\n",
       "  </thead>\n",
       "  <tbody>\n",
       "    <tr>\n",
       "      <th>0</th>\n",
       "      <td>Berlin</td>\n",
       "      <td>Michael Müller (SPD)</td>\n",
       "      <td>891.7 km2 (344.3 sq mi)</td>\n",
       "      <td>34 m (112 ft)</td>\n",
       "      <td>3,664,088</td>\n",
       "      <td>4,473,101</td>\n",
       "      <td>6,144,600</td>\n",
       "      <td>52°31′12″N</td>\n",
       "      <td>13°24′18″E</td>\n",
       "    </tr>\n",
       "    <tr>\n",
       "      <th>1</th>\n",
       "      <td>Paris</td>\n",
       "      <td>Anne Hidalgo (PS)</td>\n",
       "      <td>NaN</td>\n",
       "      <td>28–131 m (92–430 ft) (avg. 78 m or 256 ft)</td>\n",
       "      <td>2,175,601</td>\n",
       "      <td>10,785,092</td>\n",
       "      <td>13,024,518</td>\n",
       "      <td>48°51′24″N</td>\n",
       "      <td>2°21′08″E</td>\n",
       "    </tr>\n",
       "    <tr>\n",
       "      <th>2</th>\n",
       "      <td>Amsterdam</td>\n",
       "      <td>Femke Halsema (GL)</td>\n",
       "      <td>NaN</td>\n",
       "      <td>−2 m (−7 ft)</td>\n",
       "      <td>872,680</td>\n",
       "      <td>1,558,755</td>\n",
       "      <td>NaN</td>\n",
       "      <td>52°22′N</td>\n",
       "      <td>4°54′E</td>\n",
       "    </tr>\n",
       "    <tr>\n",
       "      <th>3</th>\n",
       "      <td>Barcelona</td>\n",
       "      <td>Ada Colau Ballano[1] (Barcelona en Comú)</td>\n",
       "      <td>101.4 km2 (39.2 sq mi)</td>\n",
       "      <td>12 m (39 ft)</td>\n",
       "      <td>1,620,343</td>\n",
       "      <td>4,840,000[3]</td>\n",
       "      <td>5,474,482[4]</td>\n",
       "      <td>41°23′N</td>\n",
       "      <td>2°11′E</td>\n",
       "    </tr>\n",
       "    <tr>\n",
       "      <th>4</th>\n",
       "      <td>Rome</td>\n",
       "      <td>Strong Mayor–Council</td>\n",
       "      <td>4,342,212[2]</td>\n",
       "      <td>21 m (69 ft)</td>\n",
       "      <td>1st in Italy (3rd in the EU)</td>\n",
       "      <td>NaN</td>\n",
       "      <td>Rome Capital</td>\n",
       "      <td>41°53′N</td>\n",
       "      <td>12°30′E</td>\n",
       "    </tr>\n",
       "    <tr>\n",
       "      <th>5</th>\n",
       "      <td>Lisbon</td>\n",
       "      <td>Carlos Moedas</td>\n",
       "      <td>NaN</td>\n",
       "      <td>2 m (7 ft)</td>\n",
       "      <td>544,851[1]</td>\n",
       "      <td>2,062,444[1]</td>\n",
       "      <td>2,871,133[1]</td>\n",
       "      <td>38°43′31″N</td>\n",
       "      <td>9°09′00″W</td>\n",
       "    </tr>\n",
       "    <tr>\n",
       "      <th>6</th>\n",
       "      <td>Prague</td>\n",
       "      <td>Zdeněk Hřib (Pirates)</td>\n",
       "      <td>NaN</td>\n",
       "      <td>NaN</td>\n",
       "      <td>1,335,084</td>\n",
       "      <td>NaN</td>\n",
       "      <td>2,709,418[4]</td>\n",
       "      <td>50°5′N</td>\n",
       "      <td>14°25′E</td>\n",
       "    </tr>\n",
       "    <tr>\n",
       "      <th>7</th>\n",
       "      <td>Vienna</td>\n",
       "      <td>Michael Ludwig (SPÖ)</td>\n",
       "      <td>NaN</td>\n",
       "      <td>151 (Lobau) – 542 (Hermannskogel) m (495–1,778...</td>\n",
       "      <td>1st in Austria (6th in EU)</td>\n",
       "      <td>1,911,191 (01−01−20)</td>\n",
       "      <td>2,600,000</td>\n",
       "      <td>48°12′N</td>\n",
       "      <td>16°22′E</td>\n",
       "    </tr>\n",
       "    <tr>\n",
       "      <th>8</th>\n",
       "      <td>Madrid</td>\n",
       "      <td>José Luis Martínez-Almeida (PP)</td>\n",
       "      <td>NaN</td>\n",
       "      <td>820 m (2,690 ft)</td>\n",
       "      <td>3,223,334</td>\n",
       "      <td>6,345,000 (2,019)[3]</td>\n",
       "      <td>6,791,667 (2,018)[2]</td>\n",
       "      <td>40°25′N</td>\n",
       "      <td>3°43′W</td>\n",
       "    </tr>\n",
       "  </tbody>\n",
       "</table>\n",
       "</div>"
      ],
      "text/plain": [
       "        city                                      mayor  \\\n",
       "0     Berlin                      Michael Müller (SPD)   \n",
       "1      Paris                          Anne Hidalgo (PS)   \n",
       "2  Amsterdam                         Femke Halsema (GL)   \n",
       "3  Barcelona  Ada Colau Ballano[1] (Barcelona en Comú)   \n",
       "4       Rome                       Strong Mayor–Council   \n",
       "5     Lisbon                              Carlos Moedas   \n",
       "6     Prague                    Zdeněk Hřib (Pirates)   \n",
       "7     Vienna                      Michael Ludwig (SPÖ)   \n",
       "8     Madrid          José Luis Martínez-Almeida (PP)   \n",
       "\n",
       "                 city_size                                          elevation  \\\n",
       "0  891.7 km2 (344.3 sq mi)                                      34 m (112 ft)   \n",
       "1                      NaN         28–131 m (92–430 ft) (avg. 78 m or 256 ft)   \n",
       "2                      NaN                                       −2 m (−7 ft)   \n",
       "3   101.4 km2 (39.2 sq mi)                                       12 m (39 ft)   \n",
       "4             4,342,212[2]                                       21 m (69 ft)   \n",
       "5                      NaN                                         2 m (7 ft)   \n",
       "6                      NaN                                                NaN   \n",
       "7                      NaN  151 (Lobau) – 542 (Hermannskogel) m (495–1,778...   \n",
       "8                      NaN                                   820 m (2,690 ft)   \n",
       "\n",
       "                city_population      urban_population      metro_population  \\\n",
       "0                     3,664,088             4,473,101             6,144,600   \n",
       "1                     2,175,601            10,785,092            13,024,518   \n",
       "2                       872,680             1,558,755                   NaN   \n",
       "3                     1,620,343          4,840,000[3]          5,474,482[4]   \n",
       "4  1st in Italy (3rd in the EU)                   NaN          Rome Capital   \n",
       "5                    544,851[1]          2,062,444[1]          2,871,133[1]   \n",
       "6                     1,335,084                   NaN          2,709,418[4]   \n",
       "7    1st in Austria (6th in EU)  1,911,191 (01−01−20)             2,600,000   \n",
       "8                     3,223,334  6,345,000 (2,019)[3]  6,791,667 (2,018)[2]   \n",
       "\n",
       "          lat        long  \n",
       "0  52°31′12″N  13°24′18″E  \n",
       "1  48°51′24″N   2°21′08″E  \n",
       "2     52°22′N      4°54′E  \n",
       "3     41°23′N      2°11′E  \n",
       "4     41°53′N     12°30′E  \n",
       "5  38°43′31″N   9°09′00″W  \n",
       "6      50°5′N     14°25′E  \n",
       "7     48°12′N     16°22′E  \n",
       "8     40°25′N      3°43′W  "
      ]
     },
     "execution_count": 186,
     "metadata": {},
     "output_type": "execute_result"
    }
   ],
   "source": [
    "import requests\n",
    "import bs4\n",
    "from bs4 import BeautifulSoup as bs\n",
    "import pandas as pd\n",
    "import unicodedata\n",
    "import re\n",
    "\n",
    "# cities = ['Berlin', 'Hamburg', 'Frankfurt','Munich','Stuttgart','Leipzig','Cologne','Dresden','Hannover','Paris', 'Barcelona','Lisbon','Madrid']\n",
    "cities = ['Berlin','Paris','Amsterdam','Barcelona','Rome','Lisbon','Prague','Vienna','Madrid']\n",
    "\n",
    "def City_info(soup):\n",
    "    \n",
    "    ret_dict = {}\n",
    "    ret_dict['city'] = soup.h1.get_text()\n",
    "    \n",
    "    \n",
    "    if soup.select_one('.mergedrow:-soup-contains(\"Mayor\")>.infobox-label') != None:\n",
    "        i = soup.select_one('.mergedrow:-soup-contains(\"Mayor\")>.infobox-label')\n",
    "        mayor_name_html = i.find_next_sibling()\n",
    "        mayor_name = unicodedata.normalize('NFKD',mayor_name_html.get_text())\n",
    "        ret_dict['mayor']  = mayor_name\n",
    "    \n",
    "    if soup.select_one('.mergedrow:-soup-contains(\"City\")>.infobox-label') != None:\n",
    "        j =  soup.select_one('.mergedrow:-soup-contains(\"City\")>.infobox-label')\n",
    "        area = j.find_next_sibling('td').get_text()\n",
    "        ret_dict['city_size'] = unicodedata.normalize('NFKD',area)\n",
    "\n",
    "    if soup.select_one('.mergedtoprow:-soup-contains(\"Elevation\")>.infobox-data') != None:\n",
    "        k = soup.select_one('.mergedtoprow:-soup-contains(\"Elevation\")>.infobox-data')\n",
    "        elevation_html = k.get_text()\n",
    "        ret_dict['elevation'] = unicodedata.normalize('NFKD',elevation_html)\n",
    "    \n",
    "    if soup.select_one('.mergedtoprow:-soup-contains(\"Population\")') != None:\n",
    "        l = soup.select_one('.mergedtoprow:-soup-contains(\"Population\")')\n",
    "        c_pop = l.findNext('td').get_text()\n",
    "        ret_dict['city_population'] = c_pop\n",
    "    \n",
    "    if soup.select_one('.infobox-label>[title^=Urban]') != None:\n",
    "        m = soup.select_one('.infobox-label>[title^=Urban]')\n",
    "        u_pop = m.findNext('td')\n",
    "        ret_dict['urban_population'] = u_pop.get_text()\n",
    "\n",
    "    if soup.select_one('.infobox-label>[title^=Metro]') != None:\n",
    "        n = soup.select_one('.infobox-label>[title^=Metro]')\n",
    "        m_pop = n.findNext('td')\n",
    "        ret_dict['metro_population'] = m_pop.get_text()\n",
    "    \n",
    "    if soup.select_one('.latitude') != None:\n",
    "        o = soup.select_one('.latitude')\n",
    "        ret_dict['lat'] = o.get_text()\n",
    "\n",
    "    if soup.select_one('.longitude') != None:    \n",
    "        p = soup.select_one('.longitude')\n",
    "        ret_dict['long'] = p.get_text()\n",
    "    \n",
    "    return ret_dict\n",
    "\n",
    "\n",
    "\n",
    "list_of_city_info = []\n",
    "for city in cities:\n",
    "    url = 'https://en.wikipedia.org/wiki/{}'.format(city)\n",
    "    web = requests.get(url,'html.parser')\n",
    "    soup = bs(web.content)\n",
    "    list_of_city_info.append(City_info(soup))\n",
    "df_cities = pd.DataFrame(list_of_city_info)\n",
    "# df_cities = df_cities.set_index('city')\n",
    "df_cities"
   ]
  },
  {
   "cell_type": "markdown",
   "id": "53c8081b-545c-4558-981b-93581aa07309",
   "metadata": {},
   "source": [
    "## Airports data"
   ]
  },
  {
   "cell_type": "code",
   "execution_count": 187,
   "id": "15b388c0-a605-4234-a415-ee16da024587",
   "metadata": {},
   "outputs": [
    {
     "data": {
      "text/html": [
       "<div>\n",
       "<style scoped>\n",
       "    .dataframe tbody tr th:only-of-type {\n",
       "        vertical-align: middle;\n",
       "    }\n",
       "\n",
       "    .dataframe tbody tr th {\n",
       "        vertical-align: top;\n",
       "    }\n",
       "\n",
       "    .dataframe thead th {\n",
       "        text-align: right;\n",
       "    }\n",
       "</style>\n",
       "<table border=\"1\" class=\"dataframe\">\n",
       "  <thead>\n",
       "    <tr style=\"text-align: right;\">\n",
       "      <th></th>\n",
       "      <th>name</th>\n",
       "      <th>latitude_deg</th>\n",
       "      <th>longitude_deg</th>\n",
       "      <th>iso_country</th>\n",
       "      <th>iso_region</th>\n",
       "      <th>municipality</th>\n",
       "      <th>icao_code</th>\n",
       "      <th>iata_code</th>\n",
       "      <th>municipality_iso_country</th>\n",
       "    </tr>\n",
       "  </thead>\n",
       "  <tbody>\n",
       "    <tr>\n",
       "      <th>10890</th>\n",
       "      <td>Honiara International Airport</td>\n",
       "      <td>-9.428000</td>\n",
       "      <td>160.054993</td>\n",
       "      <td>SB</td>\n",
       "      <td>SB-CT</td>\n",
       "      <td>Honiara</td>\n",
       "      <td>AGGH</td>\n",
       "      <td>HIR</td>\n",
       "      <td>Honiara,SB</td>\n",
       "    </tr>\n",
       "    <tr>\n",
       "      <th>12461</th>\n",
       "      <td>Port Moresby Jacksons International Airport</td>\n",
       "      <td>-9.443380</td>\n",
       "      <td>147.220001</td>\n",
       "      <td>PG</td>\n",
       "      <td>PG-NCD</td>\n",
       "      <td>Port Moresby</td>\n",
       "      <td>AYPY</td>\n",
       "      <td>POM</td>\n",
       "      <td>Port Moresby,PG</td>\n",
       "    </tr>\n",
       "    <tr>\n",
       "      <th>12981</th>\n",
       "      <td>Keflavik International Airport</td>\n",
       "      <td>63.985001</td>\n",
       "      <td>-22.605600</td>\n",
       "      <td>IS</td>\n",
       "      <td>IS-2</td>\n",
       "      <td>Reykjavík</td>\n",
       "      <td>BIKF</td>\n",
       "      <td>KEF</td>\n",
       "      <td>Reykjavík,IS</td>\n",
       "    </tr>\n",
       "    <tr>\n",
       "      <th>13028</th>\n",
       "      <td>Priština Adem Jashari International Airport</td>\n",
       "      <td>42.572800</td>\n",
       "      <td>21.035801</td>\n",
       "      <td>XK</td>\n",
       "      <td>XK-01</td>\n",
       "      <td>Prishtina</td>\n",
       "      <td>BKPR</td>\n",
       "      <td>PRN</td>\n",
       "      <td>Prishtina,XK</td>\n",
       "    </tr>\n",
       "    <tr>\n",
       "      <th>17254</th>\n",
       "      <td>Guodu Air Base</td>\n",
       "      <td>36.001741</td>\n",
       "      <td>117.632010</td>\n",
       "      <td>CN</td>\n",
       "      <td>CN-37</td>\n",
       "      <td>Xintai, Tai'an</td>\n",
       "      <td>NaN</td>\n",
       "      <td>NaN</td>\n",
       "      <td>Xintai, Tai'an,CN</td>\n",
       "    </tr>\n",
       "  </tbody>\n",
       "</table>\n",
       "</div>"
      ],
      "text/plain": [
       "                                              name  latitude_deg  \\\n",
       "10890                Honiara International Airport     -9.428000   \n",
       "12461  Port Moresby Jacksons International Airport     -9.443380   \n",
       "12981               Keflavik International Airport     63.985001   \n",
       "13028  Priština Adem Jashari International Airport     42.572800   \n",
       "17254                               Guodu Air Base     36.001741   \n",
       "\n",
       "       longitude_deg iso_country iso_region    municipality icao_code  \\\n",
       "10890     160.054993          SB      SB-CT         Honiara      AGGH   \n",
       "12461     147.220001          PG     PG-NCD    Port Moresby      AYPY   \n",
       "12981     -22.605600          IS       IS-2       Reykjavík      BIKF   \n",
       "13028      21.035801          XK      XK-01       Prishtina      BKPR   \n",
       "17254     117.632010          CN      CN-37  Xintai, Tai'an       NaN   \n",
       "\n",
       "      iata_code municipality_iso_country  \n",
       "10890       HIR               Honiara,SB  \n",
       "12461       POM          Port Moresby,PG  \n",
       "12981       KEF             Reykjavík,IS  \n",
       "13028       PRN             Prishtina,XK  \n",
       "17254       NaN        Xintai, Tai'an,CN  "
      ]
     },
     "execution_count": 187,
     "metadata": {},
     "output_type": "execute_result"
    }
   ],
   "source": [
    "import pandas as pd\n",
    "\n",
    "airports_cities = (\n",
    "pd.read_csv('airports.csv')\n",
    "    .query('type == \"large_airport\"')\n",
    "    .filter(['name','latitude_deg','longitude_deg','iso_country','iso_region','municipality','gps_code','iata_code'])\n",
    "    .rename(columns={'gps_code':'icao_code'})\n",
    "    .assign(municipality_iso_country = lambda x: x['municipality'] + ',' + x['iso_country'])\n",
    ")\n",
    "airports_cities.head()"
   ]
  },
  {
   "cell_type": "markdown",
   "id": "a0ad5947-6172-43fc-9f0a-3789a4b1fb8e",
   "metadata": {},
   "source": [
    "## Check the tables"
   ]
  },
  {
   "cell_type": "code",
   "execution_count": 188,
   "id": "c71d669a-9948-4d1a-bbec-54500a880c7b",
   "metadata": {},
   "outputs": [
    {
     "data": {
      "text/html": [
       "<div>\n",
       "<style scoped>\n",
       "    .dataframe tbody tr th:only-of-type {\n",
       "        vertical-align: middle;\n",
       "    }\n",
       "\n",
       "    .dataframe tbody tr th {\n",
       "        vertical-align: top;\n",
       "    }\n",
       "\n",
       "    .dataframe thead th {\n",
       "        text-align: right;\n",
       "    }\n",
       "</style>\n",
       "<table border=\"1\" class=\"dataframe\">\n",
       "  <thead>\n",
       "    <tr style=\"text-align: right;\">\n",
       "      <th></th>\n",
       "      <th>dep_airport</th>\n",
       "      <th>sched_arr_loc_time</th>\n",
       "      <th>terminal</th>\n",
       "      <th>status</th>\n",
       "      <th>aircraft</th>\n",
       "      <th>icao_code</th>\n",
       "    </tr>\n",
       "  </thead>\n",
       "  <tbody>\n",
       "    <tr>\n",
       "      <th>0</th>\n",
       "      <td>Olbia</td>\n",
       "      <td>2021-10-04 19:59+02:00</td>\n",
       "      <td>None</td>\n",
       "      <td>Arrived</td>\n",
       "      <td>Airbus A320-100/200</td>\n",
       "      <td>EDDB</td>\n",
       "    </tr>\n",
       "    <tr>\n",
       "      <th>1</th>\n",
       "      <td>London</td>\n",
       "      <td>2021-10-04 20:35+02:00</td>\n",
       "      <td>1</td>\n",
       "      <td>Arrived</td>\n",
       "      <td>Airbus A320-200 (Sharklets)</td>\n",
       "      <td>EDDB</td>\n",
       "    </tr>\n",
       "    <tr>\n",
       "      <th>2</th>\n",
       "      <td>Unknown</td>\n",
       "      <td>2021-10-04 20:14+02:00</td>\n",
       "      <td>None</td>\n",
       "      <td>Arrived</td>\n",
       "      <td>Airbus A320-100/200</td>\n",
       "      <td>EDDB</td>\n",
       "    </tr>\n",
       "    <tr>\n",
       "      <th>3</th>\n",
       "      <td>Oslo</td>\n",
       "      <td>2021-10-04 20:05+02:00</td>\n",
       "      <td>1</td>\n",
       "      <td>Arrived</td>\n",
       "      <td>Boeing 737-800</td>\n",
       "      <td>EDDB</td>\n",
       "    </tr>\n",
       "    <tr>\n",
       "      <th>4</th>\n",
       "      <td>Athens</td>\n",
       "      <td>2021-10-04 20:33+02:00</td>\n",
       "      <td>None</td>\n",
       "      <td>Arrived</td>\n",
       "      <td>Airbus A320-100/200</td>\n",
       "      <td>EDDB</td>\n",
       "    </tr>\n",
       "    <tr>\n",
       "      <th>...</th>\n",
       "      <td>...</td>\n",
       "      <td>...</td>\n",
       "      <td>...</td>\n",
       "      <td>...</td>\n",
       "      <td>...</td>\n",
       "      <td>...</td>\n",
       "    </tr>\n",
       "    <tr>\n",
       "      <th>86</th>\n",
       "      <td>Stuttgart</td>\n",
       "      <td>2021-10-05 07:35+02:00</td>\n",
       "      <td>1</td>\n",
       "      <td>Unknown</td>\n",
       "      <td>Airbus A320</td>\n",
       "      <td>EDDB</td>\n",
       "    </tr>\n",
       "    <tr>\n",
       "      <th>87</th>\n",
       "      <td>Duesseldorf</td>\n",
       "      <td>2021-10-05 07:35+02:00</td>\n",
       "      <td>1</td>\n",
       "      <td>Unknown</td>\n",
       "      <td>Airbus A320</td>\n",
       "      <td>EDDB</td>\n",
       "    </tr>\n",
       "    <tr>\n",
       "      <th>88</th>\n",
       "      <td>Frankfurt-am-Main</td>\n",
       "      <td>2021-10-05 07:55+02:00</td>\n",
       "      <td>1</td>\n",
       "      <td>Arrived</td>\n",
       "      <td>Airbus A321-100/200</td>\n",
       "      <td>EDDB</td>\n",
       "    </tr>\n",
       "    <tr>\n",
       "      <th>89</th>\n",
       "      <td>Varna</td>\n",
       "      <td>2021-10-05 07:40+02:00</td>\n",
       "      <td>0</td>\n",
       "      <td>Arrived</td>\n",
       "      <td>Airbus A320-100/200</td>\n",
       "      <td>EDDB</td>\n",
       "    </tr>\n",
       "    <tr>\n",
       "      <th>90</th>\n",
       "      <td>Amsterdam</td>\n",
       "      <td>2021-10-05 08:20+02:00</td>\n",
       "      <td>0</td>\n",
       "      <td>Arrived</td>\n",
       "      <td>Embraer EMB 175</td>\n",
       "      <td>EDDB</td>\n",
       "    </tr>\n",
       "  </tbody>\n",
       "</table>\n",
       "<p>91 rows × 6 columns</p>\n",
       "</div>"
      ],
      "text/plain": [
       "          dep_airport      sched_arr_loc_time terminal   status  \\\n",
       "0               Olbia  2021-10-04 19:59+02:00     None  Arrived   \n",
       "1              London  2021-10-04 20:35+02:00        1  Arrived   \n",
       "2             Unknown  2021-10-04 20:14+02:00     None  Arrived   \n",
       "3                Oslo  2021-10-04 20:05+02:00        1  Arrived   \n",
       "4              Athens  2021-10-04 20:33+02:00     None  Arrived   \n",
       "..                ...                     ...      ...      ...   \n",
       "86          Stuttgart  2021-10-05 07:35+02:00        1  Unknown   \n",
       "87        Duesseldorf  2021-10-05 07:35+02:00        1  Unknown   \n",
       "88  Frankfurt-am-Main  2021-10-05 07:55+02:00        1  Arrived   \n",
       "89              Varna  2021-10-05 07:40+02:00        0  Arrived   \n",
       "90          Amsterdam  2021-10-05 08:20+02:00        0  Arrived   \n",
       "\n",
       "                       aircraft icao_code  \n",
       "0           Airbus A320-100/200      EDDB  \n",
       "1   Airbus A320-200 (Sharklets)      EDDB  \n",
       "2           Airbus A320-100/200      EDDB  \n",
       "3                Boeing 737-800      EDDB  \n",
       "4           Airbus A320-100/200      EDDB  \n",
       "..                          ...       ...  \n",
       "86                  Airbus A320      EDDB  \n",
       "87                  Airbus A320      EDDB  \n",
       "88          Airbus A321-100/200      EDDB  \n",
       "89          Airbus A320-100/200      EDDB  \n",
       "90              Embraer EMB 175      EDDB  \n",
       "\n",
       "[91 rows x 6 columns]"
      ]
     },
     "execution_count": 188,
     "metadata": {},
     "output_type": "execute_result"
    }
   ],
   "source": [
    "arrivals_berlin"
   ]
  },
  {
   "cell_type": "code",
   "execution_count": 189,
   "id": "006cf4d7-48a6-4b28-983b-45122f8fb676",
   "metadata": {},
   "outputs": [
    {
     "name": "stdout",
     "output_type": "stream",
     "text": [
      "<class 'pandas.core.frame.DataFrame'>\n",
      "RangeIndex: 91 entries, 0 to 90\n",
      "Data columns (total 6 columns):\n",
      " #   Column              Non-Null Count  Dtype \n",
      "---  ------              --------------  ----- \n",
      " 0   dep_airport         91 non-null     object\n",
      " 1   sched_arr_loc_time  91 non-null     object\n",
      " 2   terminal            42 non-null     object\n",
      " 3   status              91 non-null     object\n",
      " 4   aircraft            89 non-null     object\n",
      " 5   icao_code           91 non-null     object\n",
      "dtypes: object(6)\n",
      "memory usage: 4.4+ KB\n"
     ]
    }
   ],
   "source": [
    "arrivals_berlin.info()"
   ]
  },
  {
   "cell_type": "code",
   "execution_count": 190,
   "id": "5fb0d69c-c8e7-4169-aaaf-e12b58e7e5dd",
   "metadata": {},
   "outputs": [
    {
     "data": {
      "text/html": [
       "<div>\n",
       "<style scoped>\n",
       "    .dataframe tbody tr th:only-of-type {\n",
       "        vertical-align: middle;\n",
       "    }\n",
       "\n",
       "    .dataframe tbody tr th {\n",
       "        vertical-align: top;\n",
       "    }\n",
       "\n",
       "    .dataframe thead th {\n",
       "        text-align: right;\n",
       "    }\n",
       "</style>\n",
       "<table border=\"1\" class=\"dataframe\">\n",
       "  <thead>\n",
       "    <tr style=\"text-align: right;\">\n",
       "      <th></th>\n",
       "      <th>datetime</th>\n",
       "      <th>temperature</th>\n",
       "      <th>wind</th>\n",
       "      <th>prob_perc</th>\n",
       "      <th>rain_qty</th>\n",
       "      <th>snow</th>\n",
       "      <th>municipality_iso_country</th>\n",
       "    </tr>\n",
       "  </thead>\n",
       "  <tbody>\n",
       "    <tr>\n",
       "      <th>0</th>\n",
       "      <td>2021-12-01 12:00:00</td>\n",
       "      <td>6.38</td>\n",
       "      <td>8.16</td>\n",
       "      <td>1.00</td>\n",
       "      <td>0.73</td>\n",
       "      <td>0.00</td>\n",
       "      <td>Berlin,DE</td>\n",
       "    </tr>\n",
       "    <tr>\n",
       "      <th>1</th>\n",
       "      <td>2021-12-01 15:00:00</td>\n",
       "      <td>6.71</td>\n",
       "      <td>8.30</td>\n",
       "      <td>0.30</td>\n",
       "      <td>0.41</td>\n",
       "      <td>0.00</td>\n",
       "      <td>Berlin,DE</td>\n",
       "    </tr>\n",
       "    <tr>\n",
       "      <th>2</th>\n",
       "      <td>2021-12-01 18:00:00</td>\n",
       "      <td>7.25</td>\n",
       "      <td>8.32</td>\n",
       "      <td>0.09</td>\n",
       "      <td>0.00</td>\n",
       "      <td>0.00</td>\n",
       "      <td>Berlin,DE</td>\n",
       "    </tr>\n",
       "    <tr>\n",
       "      <th>3</th>\n",
       "      <td>2021-12-01 21:00:00</td>\n",
       "      <td>7.32</td>\n",
       "      <td>10.44</td>\n",
       "      <td>0.20</td>\n",
       "      <td>0.13</td>\n",
       "      <td>0.00</td>\n",
       "      <td>Berlin,DE</td>\n",
       "    </tr>\n",
       "    <tr>\n",
       "      <th>4</th>\n",
       "      <td>2021-12-02 00:00:00</td>\n",
       "      <td>5.11</td>\n",
       "      <td>11.10</td>\n",
       "      <td>0.02</td>\n",
       "      <td>0.00</td>\n",
       "      <td>0.00</td>\n",
       "      <td>Berlin,DE</td>\n",
       "    </tr>\n",
       "    <tr>\n",
       "      <th>5</th>\n",
       "      <td>2021-12-02 03:00:00</td>\n",
       "      <td>3.53</td>\n",
       "      <td>9.09</td>\n",
       "      <td>0.00</td>\n",
       "      <td>0.00</td>\n",
       "      <td>0.00</td>\n",
       "      <td>Berlin,DE</td>\n",
       "    </tr>\n",
       "    <tr>\n",
       "      <th>6</th>\n",
       "      <td>2021-12-02 06:00:00</td>\n",
       "      <td>1.91</td>\n",
       "      <td>7.27</td>\n",
       "      <td>0.00</td>\n",
       "      <td>0.00</td>\n",
       "      <td>0.00</td>\n",
       "      <td>Berlin,DE</td>\n",
       "    </tr>\n",
       "    <tr>\n",
       "      <th>7</th>\n",
       "      <td>2021-12-02 09:00:00</td>\n",
       "      <td>2.07</td>\n",
       "      <td>6.27</td>\n",
       "      <td>0.00</td>\n",
       "      <td>0.00</td>\n",
       "      <td>0.00</td>\n",
       "      <td>Berlin,DE</td>\n",
       "    </tr>\n",
       "    <tr>\n",
       "      <th>8</th>\n",
       "      <td>2021-12-02 12:00:00</td>\n",
       "      <td>3.24</td>\n",
       "      <td>4.72</td>\n",
       "      <td>0.00</td>\n",
       "      <td>0.00</td>\n",
       "      <td>0.00</td>\n",
       "      <td>Berlin,DE</td>\n",
       "    </tr>\n",
       "    <tr>\n",
       "      <th>9</th>\n",
       "      <td>2021-12-02 15:00:00</td>\n",
       "      <td>1.69</td>\n",
       "      <td>2.69</td>\n",
       "      <td>0.00</td>\n",
       "      <td>0.00</td>\n",
       "      <td>0.00</td>\n",
       "      <td>Berlin,DE</td>\n",
       "    </tr>\n",
       "    <tr>\n",
       "      <th>10</th>\n",
       "      <td>2021-12-02 18:00:00</td>\n",
       "      <td>0.31</td>\n",
       "      <td>2.43</td>\n",
       "      <td>0.00</td>\n",
       "      <td>0.00</td>\n",
       "      <td>0.00</td>\n",
       "      <td>Berlin,DE</td>\n",
       "    </tr>\n",
       "    <tr>\n",
       "      <th>11</th>\n",
       "      <td>2021-12-02 21:00:00</td>\n",
       "      <td>-0.48</td>\n",
       "      <td>2.64</td>\n",
       "      <td>0.00</td>\n",
       "      <td>0.00</td>\n",
       "      <td>0.00</td>\n",
       "      <td>Berlin,DE</td>\n",
       "    </tr>\n",
       "    <tr>\n",
       "      <th>12</th>\n",
       "      <td>2021-12-03 00:00:00</td>\n",
       "      <td>-0.68</td>\n",
       "      <td>3.12</td>\n",
       "      <td>0.00</td>\n",
       "      <td>0.00</td>\n",
       "      <td>0.00</td>\n",
       "      <td>Berlin,DE</td>\n",
       "    </tr>\n",
       "    <tr>\n",
       "      <th>13</th>\n",
       "      <td>2021-12-03 03:00:00</td>\n",
       "      <td>-0.41</td>\n",
       "      <td>4.37</td>\n",
       "      <td>0.00</td>\n",
       "      <td>0.00</td>\n",
       "      <td>0.00</td>\n",
       "      <td>Berlin,DE</td>\n",
       "    </tr>\n",
       "    <tr>\n",
       "      <th>14</th>\n",
       "      <td>2021-12-03 06:00:00</td>\n",
       "      <td>0.19</td>\n",
       "      <td>5.32</td>\n",
       "      <td>0.00</td>\n",
       "      <td>0.00</td>\n",
       "      <td>0.00</td>\n",
       "      <td>Berlin,DE</td>\n",
       "    </tr>\n",
       "    <tr>\n",
       "      <th>15</th>\n",
       "      <td>2021-12-03 09:00:00</td>\n",
       "      <td>0.77</td>\n",
       "      <td>5.55</td>\n",
       "      <td>0.24</td>\n",
       "      <td>0.00</td>\n",
       "      <td>0.35</td>\n",
       "      <td>Berlin,DE</td>\n",
       "    </tr>\n",
       "    <tr>\n",
       "      <th>16</th>\n",
       "      <td>2021-12-03 12:00:00</td>\n",
       "      <td>3.41</td>\n",
       "      <td>5.32</td>\n",
       "      <td>0.33</td>\n",
       "      <td>0.00</td>\n",
       "      <td>0.44</td>\n",
       "      <td>Berlin,DE</td>\n",
       "    </tr>\n",
       "    <tr>\n",
       "      <th>17</th>\n",
       "      <td>2021-12-03 15:00:00</td>\n",
       "      <td>3.21</td>\n",
       "      <td>5.26</td>\n",
       "      <td>0.00</td>\n",
       "      <td>0.00</td>\n",
       "      <td>0.00</td>\n",
       "      <td>Berlin,DE</td>\n",
       "    </tr>\n",
       "    <tr>\n",
       "      <th>18</th>\n",
       "      <td>2021-12-03 18:00:00</td>\n",
       "      <td>1.90</td>\n",
       "      <td>4.70</td>\n",
       "      <td>0.00</td>\n",
       "      <td>0.00</td>\n",
       "      <td>0.00</td>\n",
       "      <td>Berlin,DE</td>\n",
       "    </tr>\n",
       "    <tr>\n",
       "      <th>19</th>\n",
       "      <td>2021-12-03 21:00:00</td>\n",
       "      <td>0.78</td>\n",
       "      <td>4.82</td>\n",
       "      <td>0.00</td>\n",
       "      <td>0.00</td>\n",
       "      <td>0.00</td>\n",
       "      <td>Berlin,DE</td>\n",
       "    </tr>\n",
       "    <tr>\n",
       "      <th>20</th>\n",
       "      <td>2021-12-04 00:00:00</td>\n",
       "      <td>-0.06</td>\n",
       "      <td>4.17</td>\n",
       "      <td>0.00</td>\n",
       "      <td>0.00</td>\n",
       "      <td>0.00</td>\n",
       "      <td>Berlin,DE</td>\n",
       "    </tr>\n",
       "    <tr>\n",
       "      <th>21</th>\n",
       "      <td>2021-12-04 03:00:00</td>\n",
       "      <td>0.15</td>\n",
       "      <td>4.61</td>\n",
       "      <td>0.00</td>\n",
       "      <td>0.00</td>\n",
       "      <td>0.00</td>\n",
       "      <td>Berlin,DE</td>\n",
       "    </tr>\n",
       "    <tr>\n",
       "      <th>22</th>\n",
       "      <td>2021-12-04 06:00:00</td>\n",
       "      <td>0.76</td>\n",
       "      <td>5.10</td>\n",
       "      <td>0.00</td>\n",
       "      <td>0.00</td>\n",
       "      <td>0.00</td>\n",
       "      <td>Berlin,DE</td>\n",
       "    </tr>\n",
       "    <tr>\n",
       "      <th>23</th>\n",
       "      <td>2021-12-04 09:00:00</td>\n",
       "      <td>2.08</td>\n",
       "      <td>4.74</td>\n",
       "      <td>0.03</td>\n",
       "      <td>0.00</td>\n",
       "      <td>0.00</td>\n",
       "      <td>Berlin,DE</td>\n",
       "    </tr>\n",
       "    <tr>\n",
       "      <th>24</th>\n",
       "      <td>2021-12-04 12:00:00</td>\n",
       "      <td>2.93</td>\n",
       "      <td>5.02</td>\n",
       "      <td>0.02</td>\n",
       "      <td>0.00</td>\n",
       "      <td>0.00</td>\n",
       "      <td>Berlin,DE</td>\n",
       "    </tr>\n",
       "    <tr>\n",
       "      <th>25</th>\n",
       "      <td>2021-12-04 15:00:00</td>\n",
       "      <td>1.79</td>\n",
       "      <td>3.79</td>\n",
       "      <td>0.73</td>\n",
       "      <td>0.00</td>\n",
       "      <td>0.46</td>\n",
       "      <td>Berlin,DE</td>\n",
       "    </tr>\n",
       "    <tr>\n",
       "      <th>26</th>\n",
       "      <td>2021-12-04 18:00:00</td>\n",
       "      <td>2.70</td>\n",
       "      <td>3.53</td>\n",
       "      <td>1.00</td>\n",
       "      <td>1.36</td>\n",
       "      <td>0.00</td>\n",
       "      <td>Berlin,DE</td>\n",
       "    </tr>\n",
       "    <tr>\n",
       "      <th>27</th>\n",
       "      <td>2021-12-04 21:00:00</td>\n",
       "      <td>4.13</td>\n",
       "      <td>4.02</td>\n",
       "      <td>0.11</td>\n",
       "      <td>0.00</td>\n",
       "      <td>0.00</td>\n",
       "      <td>Berlin,DE</td>\n",
       "    </tr>\n",
       "    <tr>\n",
       "      <th>28</th>\n",
       "      <td>2021-12-05 00:00:00</td>\n",
       "      <td>1.89</td>\n",
       "      <td>3.07</td>\n",
       "      <td>0.01</td>\n",
       "      <td>0.00</td>\n",
       "      <td>0.00</td>\n",
       "      <td>Berlin,DE</td>\n",
       "    </tr>\n",
       "    <tr>\n",
       "      <th>29</th>\n",
       "      <td>2021-12-05 03:00:00</td>\n",
       "      <td>0.65</td>\n",
       "      <td>2.89</td>\n",
       "      <td>0.00</td>\n",
       "      <td>0.00</td>\n",
       "      <td>0.00</td>\n",
       "      <td>Berlin,DE</td>\n",
       "    </tr>\n",
       "    <tr>\n",
       "      <th>30</th>\n",
       "      <td>2021-12-05 06:00:00</td>\n",
       "      <td>-0.14</td>\n",
       "      <td>3.04</td>\n",
       "      <td>0.00</td>\n",
       "      <td>0.00</td>\n",
       "      <td>0.00</td>\n",
       "      <td>Berlin,DE</td>\n",
       "    </tr>\n",
       "    <tr>\n",
       "      <th>31</th>\n",
       "      <td>2021-12-05 09:00:00</td>\n",
       "      <td>1.16</td>\n",
       "      <td>2.85</td>\n",
       "      <td>0.00</td>\n",
       "      <td>0.00</td>\n",
       "      <td>0.00</td>\n",
       "      <td>Berlin,DE</td>\n",
       "    </tr>\n",
       "    <tr>\n",
       "      <th>32</th>\n",
       "      <td>2021-12-05 12:00:00</td>\n",
       "      <td>3.44</td>\n",
       "      <td>3.21</td>\n",
       "      <td>0.00</td>\n",
       "      <td>0.00</td>\n",
       "      <td>0.00</td>\n",
       "      <td>Berlin,DE</td>\n",
       "    </tr>\n",
       "    <tr>\n",
       "      <th>33</th>\n",
       "      <td>2021-12-05 15:00:00</td>\n",
       "      <td>2.05</td>\n",
       "      <td>2.70</td>\n",
       "      <td>0.00</td>\n",
       "      <td>0.00</td>\n",
       "      <td>0.00</td>\n",
       "      <td>Berlin,DE</td>\n",
       "    </tr>\n",
       "    <tr>\n",
       "      <th>34</th>\n",
       "      <td>2021-12-05 18:00:00</td>\n",
       "      <td>1.37</td>\n",
       "      <td>2.79</td>\n",
       "      <td>0.00</td>\n",
       "      <td>0.00</td>\n",
       "      <td>0.00</td>\n",
       "      <td>Berlin,DE</td>\n",
       "    </tr>\n",
       "    <tr>\n",
       "      <th>35</th>\n",
       "      <td>2021-12-05 21:00:00</td>\n",
       "      <td>0.71</td>\n",
       "      <td>2.14</td>\n",
       "      <td>0.00</td>\n",
       "      <td>0.00</td>\n",
       "      <td>0.00</td>\n",
       "      <td>Berlin,DE</td>\n",
       "    </tr>\n",
       "    <tr>\n",
       "      <th>36</th>\n",
       "      <td>2021-12-06 00:00:00</td>\n",
       "      <td>0.05</td>\n",
       "      <td>2.13</td>\n",
       "      <td>0.00</td>\n",
       "      <td>0.00</td>\n",
       "      <td>0.00</td>\n",
       "      <td>Berlin,DE</td>\n",
       "    </tr>\n",
       "    <tr>\n",
       "      <th>37</th>\n",
       "      <td>2021-12-06 03:00:00</td>\n",
       "      <td>-0.24</td>\n",
       "      <td>2.23</td>\n",
       "      <td>0.00</td>\n",
       "      <td>0.00</td>\n",
       "      <td>0.00</td>\n",
       "      <td>Berlin,DE</td>\n",
       "    </tr>\n",
       "    <tr>\n",
       "      <th>38</th>\n",
       "      <td>2021-12-06 06:00:00</td>\n",
       "      <td>-0.36</td>\n",
       "      <td>1.47</td>\n",
       "      <td>0.00</td>\n",
       "      <td>0.00</td>\n",
       "      <td>0.00</td>\n",
       "      <td>Berlin,DE</td>\n",
       "    </tr>\n",
       "    <tr>\n",
       "      <th>39</th>\n",
       "      <td>2021-12-06 09:00:00</td>\n",
       "      <td>0.96</td>\n",
       "      <td>1.28</td>\n",
       "      <td>0.00</td>\n",
       "      <td>0.00</td>\n",
       "      <td>0.00</td>\n",
       "      <td>Berlin,DE</td>\n",
       "    </tr>\n",
       "  </tbody>\n",
       "</table>\n",
       "</div>"
      ],
      "text/plain": [
       "               datetime  temperature   wind  prob_perc  rain_qty  snow  \\\n",
       "0   2021-12-01 12:00:00         6.38   8.16       1.00      0.73  0.00   \n",
       "1   2021-12-01 15:00:00         6.71   8.30       0.30      0.41  0.00   \n",
       "2   2021-12-01 18:00:00         7.25   8.32       0.09      0.00  0.00   \n",
       "3   2021-12-01 21:00:00         7.32  10.44       0.20      0.13  0.00   \n",
       "4   2021-12-02 00:00:00         5.11  11.10       0.02      0.00  0.00   \n",
       "5   2021-12-02 03:00:00         3.53   9.09       0.00      0.00  0.00   \n",
       "6   2021-12-02 06:00:00         1.91   7.27       0.00      0.00  0.00   \n",
       "7   2021-12-02 09:00:00         2.07   6.27       0.00      0.00  0.00   \n",
       "8   2021-12-02 12:00:00         3.24   4.72       0.00      0.00  0.00   \n",
       "9   2021-12-02 15:00:00         1.69   2.69       0.00      0.00  0.00   \n",
       "10  2021-12-02 18:00:00         0.31   2.43       0.00      0.00  0.00   \n",
       "11  2021-12-02 21:00:00        -0.48   2.64       0.00      0.00  0.00   \n",
       "12  2021-12-03 00:00:00        -0.68   3.12       0.00      0.00  0.00   \n",
       "13  2021-12-03 03:00:00        -0.41   4.37       0.00      0.00  0.00   \n",
       "14  2021-12-03 06:00:00         0.19   5.32       0.00      0.00  0.00   \n",
       "15  2021-12-03 09:00:00         0.77   5.55       0.24      0.00  0.35   \n",
       "16  2021-12-03 12:00:00         3.41   5.32       0.33      0.00  0.44   \n",
       "17  2021-12-03 15:00:00         3.21   5.26       0.00      0.00  0.00   \n",
       "18  2021-12-03 18:00:00         1.90   4.70       0.00      0.00  0.00   \n",
       "19  2021-12-03 21:00:00         0.78   4.82       0.00      0.00  0.00   \n",
       "20  2021-12-04 00:00:00        -0.06   4.17       0.00      0.00  0.00   \n",
       "21  2021-12-04 03:00:00         0.15   4.61       0.00      0.00  0.00   \n",
       "22  2021-12-04 06:00:00         0.76   5.10       0.00      0.00  0.00   \n",
       "23  2021-12-04 09:00:00         2.08   4.74       0.03      0.00  0.00   \n",
       "24  2021-12-04 12:00:00         2.93   5.02       0.02      0.00  0.00   \n",
       "25  2021-12-04 15:00:00         1.79   3.79       0.73      0.00  0.46   \n",
       "26  2021-12-04 18:00:00         2.70   3.53       1.00      1.36  0.00   \n",
       "27  2021-12-04 21:00:00         4.13   4.02       0.11      0.00  0.00   \n",
       "28  2021-12-05 00:00:00         1.89   3.07       0.01      0.00  0.00   \n",
       "29  2021-12-05 03:00:00         0.65   2.89       0.00      0.00  0.00   \n",
       "30  2021-12-05 06:00:00        -0.14   3.04       0.00      0.00  0.00   \n",
       "31  2021-12-05 09:00:00         1.16   2.85       0.00      0.00  0.00   \n",
       "32  2021-12-05 12:00:00         3.44   3.21       0.00      0.00  0.00   \n",
       "33  2021-12-05 15:00:00         2.05   2.70       0.00      0.00  0.00   \n",
       "34  2021-12-05 18:00:00         1.37   2.79       0.00      0.00  0.00   \n",
       "35  2021-12-05 21:00:00         0.71   2.14       0.00      0.00  0.00   \n",
       "36  2021-12-06 00:00:00         0.05   2.13       0.00      0.00  0.00   \n",
       "37  2021-12-06 03:00:00        -0.24   2.23       0.00      0.00  0.00   \n",
       "38  2021-12-06 06:00:00        -0.36   1.47       0.00      0.00  0.00   \n",
       "39  2021-12-06 09:00:00         0.96   1.28       0.00      0.00  0.00   \n",
       "\n",
       "   municipality_iso_country  \n",
       "0                 Berlin,DE  \n",
       "1                 Berlin,DE  \n",
       "2                 Berlin,DE  \n",
       "3                 Berlin,DE  \n",
       "4                 Berlin,DE  \n",
       "5                 Berlin,DE  \n",
       "6                 Berlin,DE  \n",
       "7                 Berlin,DE  \n",
       "8                 Berlin,DE  \n",
       "9                 Berlin,DE  \n",
       "10                Berlin,DE  \n",
       "11                Berlin,DE  \n",
       "12                Berlin,DE  \n",
       "13                Berlin,DE  \n",
       "14                Berlin,DE  \n",
       "15                Berlin,DE  \n",
       "16                Berlin,DE  \n",
       "17                Berlin,DE  \n",
       "18                Berlin,DE  \n",
       "19                Berlin,DE  \n",
       "20                Berlin,DE  \n",
       "21                Berlin,DE  \n",
       "22                Berlin,DE  \n",
       "23                Berlin,DE  \n",
       "24                Berlin,DE  \n",
       "25                Berlin,DE  \n",
       "26                Berlin,DE  \n",
       "27                Berlin,DE  \n",
       "28                Berlin,DE  \n",
       "29                Berlin,DE  \n",
       "30                Berlin,DE  \n",
       "31                Berlin,DE  \n",
       "32                Berlin,DE  \n",
       "33                Berlin,DE  \n",
       "34                Berlin,DE  \n",
       "35                Berlin,DE  \n",
       "36                Berlin,DE  \n",
       "37                Berlin,DE  \n",
       "38                Berlin,DE  \n",
       "39                Berlin,DE  "
      ]
     },
     "execution_count": 190,
     "metadata": {},
     "output_type": "execute_result"
    }
   ],
   "source": [
    "weather_data"
   ]
  },
  {
   "cell_type": "code",
   "execution_count": 191,
   "id": "12885cc9-d0fa-49d8-a8bf-5ef45af099dc",
   "metadata": {},
   "outputs": [
    {
     "name": "stdout",
     "output_type": "stream",
     "text": [
      "<class 'pandas.core.frame.DataFrame'>\n",
      "RangeIndex: 40 entries, 0 to 39\n",
      "Data columns (total 7 columns):\n",
      " #   Column                    Non-Null Count  Dtype  \n",
      "---  ------                    --------------  -----  \n",
      " 0   datetime                  40 non-null     object \n",
      " 1   temperature               40 non-null     float64\n",
      " 2   wind                      40 non-null     float64\n",
      " 3   prob_perc                 40 non-null     float64\n",
      " 4   rain_qty                  40 non-null     float64\n",
      " 5   snow                      40 non-null     float64\n",
      " 6   municipality_iso_country  40 non-null     object \n",
      "dtypes: float64(5), object(2)\n",
      "memory usage: 2.3+ KB\n"
     ]
    }
   ],
   "source": [
    "weather_data.info()"
   ]
  },
  {
   "cell_type": "code",
   "execution_count": 192,
   "id": "cf4a24c4-40dc-4e58-9f98-acaad796c180",
   "metadata": {},
   "outputs": [
    {
     "data": {
      "text/html": [
       "<div>\n",
       "<style scoped>\n",
       "    .dataframe tbody tr th:only-of-type {\n",
       "        vertical-align: middle;\n",
       "    }\n",
       "\n",
       "    .dataframe tbody tr th {\n",
       "        vertical-align: top;\n",
       "    }\n",
       "\n",
       "    .dataframe thead th {\n",
       "        text-align: right;\n",
       "    }\n",
       "</style>\n",
       "<table border=\"1\" class=\"dataframe\">\n",
       "  <thead>\n",
       "    <tr style=\"text-align: right;\">\n",
       "      <th></th>\n",
       "      <th>name</th>\n",
       "      <th>latitude_deg</th>\n",
       "      <th>longitude_deg</th>\n",
       "      <th>iso_country</th>\n",
       "      <th>iso_region</th>\n",
       "      <th>municipality</th>\n",
       "      <th>icao_code</th>\n",
       "      <th>iata_code</th>\n",
       "      <th>municipality_iso_country</th>\n",
       "    </tr>\n",
       "  </thead>\n",
       "  <tbody>\n",
       "    <tr>\n",
       "      <th>10890</th>\n",
       "      <td>Honiara International Airport</td>\n",
       "      <td>-9.428000</td>\n",
       "      <td>160.054993</td>\n",
       "      <td>SB</td>\n",
       "      <td>SB-CT</td>\n",
       "      <td>Honiara</td>\n",
       "      <td>AGGH</td>\n",
       "      <td>HIR</td>\n",
       "      <td>Honiara,SB</td>\n",
       "    </tr>\n",
       "    <tr>\n",
       "      <th>12461</th>\n",
       "      <td>Port Moresby Jacksons International Airport</td>\n",
       "      <td>-9.443380</td>\n",
       "      <td>147.220001</td>\n",
       "      <td>PG</td>\n",
       "      <td>PG-NCD</td>\n",
       "      <td>Port Moresby</td>\n",
       "      <td>AYPY</td>\n",
       "      <td>POM</td>\n",
       "      <td>Port Moresby,PG</td>\n",
       "    </tr>\n",
       "    <tr>\n",
       "      <th>12981</th>\n",
       "      <td>Keflavik International Airport</td>\n",
       "      <td>63.985001</td>\n",
       "      <td>-22.605600</td>\n",
       "      <td>IS</td>\n",
       "      <td>IS-2</td>\n",
       "      <td>Reykjavík</td>\n",
       "      <td>BIKF</td>\n",
       "      <td>KEF</td>\n",
       "      <td>Reykjavík,IS</td>\n",
       "    </tr>\n",
       "    <tr>\n",
       "      <th>13028</th>\n",
       "      <td>Priština Adem Jashari International Airport</td>\n",
       "      <td>42.572800</td>\n",
       "      <td>21.035801</td>\n",
       "      <td>XK</td>\n",
       "      <td>XK-01</td>\n",
       "      <td>Prishtina</td>\n",
       "      <td>BKPR</td>\n",
       "      <td>PRN</td>\n",
       "      <td>Prishtina,XK</td>\n",
       "    </tr>\n",
       "    <tr>\n",
       "      <th>17254</th>\n",
       "      <td>Guodu Air Base</td>\n",
       "      <td>36.001741</td>\n",
       "      <td>117.632010</td>\n",
       "      <td>CN</td>\n",
       "      <td>CN-37</td>\n",
       "      <td>Xintai, Tai'an</td>\n",
       "      <td>NaN</td>\n",
       "      <td>NaN</td>\n",
       "      <td>Xintai, Tai'an,CN</td>\n",
       "    </tr>\n",
       "    <tr>\n",
       "      <th>...</th>\n",
       "      <td>...</td>\n",
       "      <td>...</td>\n",
       "      <td>...</td>\n",
       "      <td>...</td>\n",
       "      <td>...</td>\n",
       "      <td>...</td>\n",
       "      <td>...</td>\n",
       "      <td>...</td>\n",
       "      <td>...</td>\n",
       "    </tr>\n",
       "    <tr>\n",
       "      <th>68223</th>\n",
       "      <td>Chengdu Shuangliu International Airport</td>\n",
       "      <td>30.578501</td>\n",
       "      <td>103.946999</td>\n",
       "      <td>CN</td>\n",
       "      <td>CN-51</td>\n",
       "      <td>Chengdu</td>\n",
       "      <td>ZUUU</td>\n",
       "      <td>CTU</td>\n",
       "      <td>Chengdu,CN</td>\n",
       "    </tr>\n",
       "    <tr>\n",
       "      <th>68295</th>\n",
       "      <td>Ürümqi Diwopu International Airport</td>\n",
       "      <td>43.907101</td>\n",
       "      <td>87.474197</td>\n",
       "      <td>CN</td>\n",
       "      <td>CN-65</td>\n",
       "      <td>Ürümqi</td>\n",
       "      <td>ZWWW</td>\n",
       "      <td>URC</td>\n",
       "      <td>Ürümqi,CN</td>\n",
       "    </tr>\n",
       "    <tr>\n",
       "      <th>68306</th>\n",
       "      <td>Harbin Taiping International Airport</td>\n",
       "      <td>45.623402</td>\n",
       "      <td>126.250000</td>\n",
       "      <td>CN</td>\n",
       "      <td>CN-23</td>\n",
       "      <td>Harbin</td>\n",
       "      <td>ZYHB</td>\n",
       "      <td>HRB</td>\n",
       "      <td>Harbin,CN</td>\n",
       "    </tr>\n",
       "    <tr>\n",
       "      <th>68321</th>\n",
       "      <td>Dalian Zhoushuizi International Airport</td>\n",
       "      <td>38.965698</td>\n",
       "      <td>121.539001</td>\n",
       "      <td>CN</td>\n",
       "      <td>CN-21</td>\n",
       "      <td>Ganjingzi, Dalian</td>\n",
       "      <td>ZYTL</td>\n",
       "      <td>DLC</td>\n",
       "      <td>Ganjingzi, Dalian,CN</td>\n",
       "    </tr>\n",
       "    <tr>\n",
       "      <th>68323</th>\n",
       "      <td>Shenyang Taoxian International Airport</td>\n",
       "      <td>41.639801</td>\n",
       "      <td>123.483002</td>\n",
       "      <td>CN</td>\n",
       "      <td>CN-21</td>\n",
       "      <td>Hunnan, Shenyang</td>\n",
       "      <td>ZYTX</td>\n",
       "      <td>SHE</td>\n",
       "      <td>Hunnan, Shenyang,CN</td>\n",
       "    </tr>\n",
       "  </tbody>\n",
       "</table>\n",
       "<p>624 rows × 9 columns</p>\n",
       "</div>"
      ],
      "text/plain": [
       "                                              name  latitude_deg  \\\n",
       "10890                Honiara International Airport     -9.428000   \n",
       "12461  Port Moresby Jacksons International Airport     -9.443380   \n",
       "12981               Keflavik International Airport     63.985001   \n",
       "13028  Priština Adem Jashari International Airport     42.572800   \n",
       "17254                               Guodu Air Base     36.001741   \n",
       "...                                            ...           ...   \n",
       "68223      Chengdu Shuangliu International Airport     30.578501   \n",
       "68295          Ürümqi Diwopu International Airport     43.907101   \n",
       "68306         Harbin Taiping International Airport     45.623402   \n",
       "68321      Dalian Zhoushuizi International Airport     38.965698   \n",
       "68323       Shenyang Taoxian International Airport     41.639801   \n",
       "\n",
       "       longitude_deg iso_country iso_region       municipality icao_code  \\\n",
       "10890     160.054993          SB      SB-CT            Honiara      AGGH   \n",
       "12461     147.220001          PG     PG-NCD       Port Moresby      AYPY   \n",
       "12981     -22.605600          IS       IS-2          Reykjavík      BIKF   \n",
       "13028      21.035801          XK      XK-01          Prishtina      BKPR   \n",
       "17254     117.632010          CN      CN-37     Xintai, Tai'an       NaN   \n",
       "...              ...         ...        ...                ...       ...   \n",
       "68223     103.946999          CN      CN-51            Chengdu      ZUUU   \n",
       "68295      87.474197          CN      CN-65             Ürümqi      ZWWW   \n",
       "68306     126.250000          CN      CN-23             Harbin      ZYHB   \n",
       "68321     121.539001          CN      CN-21  Ganjingzi, Dalian      ZYTL   \n",
       "68323     123.483002          CN      CN-21   Hunnan, Shenyang      ZYTX   \n",
       "\n",
       "      iata_code municipality_iso_country  \n",
       "10890       HIR               Honiara,SB  \n",
       "12461       POM          Port Moresby,PG  \n",
       "12981       KEF             Reykjavík,IS  \n",
       "13028       PRN             Prishtina,XK  \n",
       "17254       NaN        Xintai, Tai'an,CN  \n",
       "...         ...                      ...  \n",
       "68223       CTU               Chengdu,CN  \n",
       "68295       URC                Ürümqi,CN  \n",
       "68306       HRB                Harbin,CN  \n",
       "68321       DLC     Ganjingzi, Dalian,CN  \n",
       "68323       SHE      Hunnan, Shenyang,CN  \n",
       "\n",
       "[624 rows x 9 columns]"
      ]
     },
     "execution_count": 192,
     "metadata": {},
     "output_type": "execute_result"
    }
   ],
   "source": [
    "airports_cities"
   ]
  },
  {
   "cell_type": "code",
   "execution_count": 193,
   "id": "f0b4501f-ce0b-47d0-846d-4132a7ab5c90",
   "metadata": {},
   "outputs": [
    {
     "name": "stdout",
     "output_type": "stream",
     "text": [
      "<class 'pandas.core.frame.DataFrame'>\n",
      "Int64Index: 624 entries, 10890 to 68323\n",
      "Data columns (total 9 columns):\n",
      " #   Column                    Non-Null Count  Dtype  \n",
      "---  ------                    --------------  -----  \n",
      " 0   name                      624 non-null    object \n",
      " 1   latitude_deg              624 non-null    float64\n",
      " 2   longitude_deg             624 non-null    float64\n",
      " 3   iso_country               623 non-null    object \n",
      " 4   iso_region                624 non-null    object \n",
      " 5   municipality              619 non-null    object \n",
      " 6   icao_code                 619 non-null    object \n",
      " 7   iata_code                 617 non-null    object \n",
      " 8   municipality_iso_country  618 non-null    object \n",
      "dtypes: float64(2), object(7)\n",
      "memory usage: 48.8+ KB\n"
     ]
    }
   ],
   "source": [
    "airports_cities.info()"
   ]
  },
  {
   "cell_type": "code",
   "execution_count": 194,
   "id": "92f3a58b-18df-4556-821b-e526ba3fe34b",
   "metadata": {},
   "outputs": [
    {
     "data": {
      "text/html": [
       "<div>\n",
       "<style scoped>\n",
       "    .dataframe tbody tr th:only-of-type {\n",
       "        vertical-align: middle;\n",
       "    }\n",
       "\n",
       "    .dataframe tbody tr th {\n",
       "        vertical-align: top;\n",
       "    }\n",
       "\n",
       "    .dataframe thead th {\n",
       "        text-align: right;\n",
       "    }\n",
       "</style>\n",
       "<table border=\"1\" class=\"dataframe\">\n",
       "  <thead>\n",
       "    <tr style=\"text-align: right;\">\n",
       "      <th></th>\n",
       "      <th>municipality</th>\n",
       "      <th>iso_country</th>\n",
       "      <th>municipality_iso_country</th>\n",
       "    </tr>\n",
       "  </thead>\n",
       "  <tbody>\n",
       "    <tr>\n",
       "      <th>10890</th>\n",
       "      <td>Honiara</td>\n",
       "      <td>SB</td>\n",
       "      <td>Honiara,SB</td>\n",
       "    </tr>\n",
       "    <tr>\n",
       "      <th>12461</th>\n",
       "      <td>Port Moresby</td>\n",
       "      <td>PG</td>\n",
       "      <td>Port Moresby,PG</td>\n",
       "    </tr>\n",
       "    <tr>\n",
       "      <th>12981</th>\n",
       "      <td>Reykjavík</td>\n",
       "      <td>IS</td>\n",
       "      <td>Reykjavík,IS</td>\n",
       "    </tr>\n",
       "    <tr>\n",
       "      <th>13028</th>\n",
       "      <td>Prishtina</td>\n",
       "      <td>XK</td>\n",
       "      <td>Prishtina,XK</td>\n",
       "    </tr>\n",
       "    <tr>\n",
       "      <th>17254</th>\n",
       "      <td>Xintai, Tai'an</td>\n",
       "      <td>CN</td>\n",
       "      <td>Xintai, Tai'an,CN</td>\n",
       "    </tr>\n",
       "  </tbody>\n",
       "</table>\n",
       "</div>"
      ],
      "text/plain": [
       "         municipality iso_country municipality_iso_country\n",
       "10890         Honiara          SB               Honiara,SB\n",
       "12461    Port Moresby          PG          Port Moresby,PG\n",
       "12981       Reykjavík          IS             Reykjavík,IS\n",
       "13028       Prishtina          XK             Prishtina,XK\n",
       "17254  Xintai, Tai'an          CN        Xintai, Tai'an,CN"
      ]
     },
     "execution_count": 194,
     "metadata": {},
     "output_type": "execute_result"
    }
   ],
   "source": [
    "cities = airports_cities.filter(['municipality','iso_country','municipality_iso_country']).drop_duplicates()\n",
    "cities.head()"
   ]
  },
  {
   "cell_type": "code",
   "execution_count": 195,
   "id": "dcdfdef7-1cd0-429d-892e-3bdfc1083a66",
   "metadata": {},
   "outputs": [
    {
     "data": {
      "text/html": [
       "<div>\n",
       "<style scoped>\n",
       "    .dataframe tbody tr th:only-of-type {\n",
       "        vertical-align: middle;\n",
       "    }\n",
       "\n",
       "    .dataframe tbody tr th {\n",
       "        vertical-align: top;\n",
       "    }\n",
       "\n",
       "    .dataframe thead th {\n",
       "        text-align: right;\n",
       "    }\n",
       "</style>\n",
       "<table border=\"1\" class=\"dataframe\">\n",
       "  <thead>\n",
       "    <tr style=\"text-align: right;\">\n",
       "      <th></th>\n",
       "      <th>name</th>\n",
       "      <th>latitude_deg</th>\n",
       "      <th>longitude_deg</th>\n",
       "      <th>iso_country</th>\n",
       "      <th>iso_region</th>\n",
       "      <th>municipality</th>\n",
       "      <th>icao_code</th>\n",
       "      <th>iata_code</th>\n",
       "      <th>municipality_iso_country</th>\n",
       "      <th>dep_airport</th>\n",
       "      <th>sched_arr_loc_time</th>\n",
       "      <th>terminal</th>\n",
       "      <th>status</th>\n",
       "      <th>aircraft</th>\n",
       "      <th>datetime</th>\n",
       "      <th>temperature</th>\n",
       "      <th>wind</th>\n",
       "      <th>prob_perc</th>\n",
       "      <th>rain_qty</th>\n",
       "      <th>snow</th>\n",
       "    </tr>\n",
       "  </thead>\n",
       "  <tbody>\n",
       "    <tr>\n",
       "      <th>0</th>\n",
       "      <td>Berlin Brandenburg Airport</td>\n",
       "      <td>52.351389</td>\n",
       "      <td>13.493889</td>\n",
       "      <td>DE</td>\n",
       "      <td>DE-BR</td>\n",
       "      <td>Berlin</td>\n",
       "      <td>EDDB</td>\n",
       "      <td>BER</td>\n",
       "      <td>Berlin,DE</td>\n",
       "      <td>Olbia</td>\n",
       "      <td>2021-10-04 19:59+02:00</td>\n",
       "      <td>None</td>\n",
       "      <td>Arrived</td>\n",
       "      <td>Airbus A320-100/200</td>\n",
       "      <td>2021-12-01 12:00:00</td>\n",
       "      <td>6.38</td>\n",
       "      <td>8.16</td>\n",
       "      <td>1.00</td>\n",
       "      <td>0.73</td>\n",
       "      <td>0.0</td>\n",
       "    </tr>\n",
       "    <tr>\n",
       "      <th>1</th>\n",
       "      <td>Berlin Brandenburg Airport</td>\n",
       "      <td>52.351389</td>\n",
       "      <td>13.493889</td>\n",
       "      <td>DE</td>\n",
       "      <td>DE-BR</td>\n",
       "      <td>Berlin</td>\n",
       "      <td>EDDB</td>\n",
       "      <td>BER</td>\n",
       "      <td>Berlin,DE</td>\n",
       "      <td>Olbia</td>\n",
       "      <td>2021-10-04 19:59+02:00</td>\n",
       "      <td>None</td>\n",
       "      <td>Arrived</td>\n",
       "      <td>Airbus A320-100/200</td>\n",
       "      <td>2021-12-01 15:00:00</td>\n",
       "      <td>6.71</td>\n",
       "      <td>8.30</td>\n",
       "      <td>0.30</td>\n",
       "      <td>0.41</td>\n",
       "      <td>0.0</td>\n",
       "    </tr>\n",
       "    <tr>\n",
       "      <th>2</th>\n",
       "      <td>Berlin Brandenburg Airport</td>\n",
       "      <td>52.351389</td>\n",
       "      <td>13.493889</td>\n",
       "      <td>DE</td>\n",
       "      <td>DE-BR</td>\n",
       "      <td>Berlin</td>\n",
       "      <td>EDDB</td>\n",
       "      <td>BER</td>\n",
       "      <td>Berlin,DE</td>\n",
       "      <td>Olbia</td>\n",
       "      <td>2021-10-04 19:59+02:00</td>\n",
       "      <td>None</td>\n",
       "      <td>Arrived</td>\n",
       "      <td>Airbus A320-100/200</td>\n",
       "      <td>2021-12-01 18:00:00</td>\n",
       "      <td>7.25</td>\n",
       "      <td>8.32</td>\n",
       "      <td>0.09</td>\n",
       "      <td>0.00</td>\n",
       "      <td>0.0</td>\n",
       "    </tr>\n",
       "    <tr>\n",
       "      <th>3</th>\n",
       "      <td>Berlin Brandenburg Airport</td>\n",
       "      <td>52.351389</td>\n",
       "      <td>13.493889</td>\n",
       "      <td>DE</td>\n",
       "      <td>DE-BR</td>\n",
       "      <td>Berlin</td>\n",
       "      <td>EDDB</td>\n",
       "      <td>BER</td>\n",
       "      <td>Berlin,DE</td>\n",
       "      <td>Olbia</td>\n",
       "      <td>2021-10-04 19:59+02:00</td>\n",
       "      <td>None</td>\n",
       "      <td>Arrived</td>\n",
       "      <td>Airbus A320-100/200</td>\n",
       "      <td>2021-12-01 21:00:00</td>\n",
       "      <td>7.32</td>\n",
       "      <td>10.44</td>\n",
       "      <td>0.20</td>\n",
       "      <td>0.13</td>\n",
       "      <td>0.0</td>\n",
       "    </tr>\n",
       "    <tr>\n",
       "      <th>4</th>\n",
       "      <td>Berlin Brandenburg Airport</td>\n",
       "      <td>52.351389</td>\n",
       "      <td>13.493889</td>\n",
       "      <td>DE</td>\n",
       "      <td>DE-BR</td>\n",
       "      <td>Berlin</td>\n",
       "      <td>EDDB</td>\n",
       "      <td>BER</td>\n",
       "      <td>Berlin,DE</td>\n",
       "      <td>Olbia</td>\n",
       "      <td>2021-10-04 19:59+02:00</td>\n",
       "      <td>None</td>\n",
       "      <td>Arrived</td>\n",
       "      <td>Airbus A320-100/200</td>\n",
       "      <td>2021-12-02 00:00:00</td>\n",
       "      <td>5.11</td>\n",
       "      <td>11.10</td>\n",
       "      <td>0.02</td>\n",
       "      <td>0.00</td>\n",
       "      <td>0.0</td>\n",
       "    </tr>\n",
       "  </tbody>\n",
       "</table>\n",
       "</div>"
      ],
      "text/plain": [
       "                         name  latitude_deg  longitude_deg iso_country  \\\n",
       "0  Berlin Brandenburg Airport     52.351389      13.493889          DE   \n",
       "1  Berlin Brandenburg Airport     52.351389      13.493889          DE   \n",
       "2  Berlin Brandenburg Airport     52.351389      13.493889          DE   \n",
       "3  Berlin Brandenburg Airport     52.351389      13.493889          DE   \n",
       "4  Berlin Brandenburg Airport     52.351389      13.493889          DE   \n",
       "\n",
       "  iso_region municipality icao_code iata_code municipality_iso_country  \\\n",
       "0      DE-BR       Berlin      EDDB       BER                Berlin,DE   \n",
       "1      DE-BR       Berlin      EDDB       BER                Berlin,DE   \n",
       "2      DE-BR       Berlin      EDDB       BER                Berlin,DE   \n",
       "3      DE-BR       Berlin      EDDB       BER                Berlin,DE   \n",
       "4      DE-BR       Berlin      EDDB       BER                Berlin,DE   \n",
       "\n",
       "  dep_airport      sched_arr_loc_time terminal   status             aircraft  \\\n",
       "0       Olbia  2021-10-04 19:59+02:00     None  Arrived  Airbus A320-100/200   \n",
       "1       Olbia  2021-10-04 19:59+02:00     None  Arrived  Airbus A320-100/200   \n",
       "2       Olbia  2021-10-04 19:59+02:00     None  Arrived  Airbus A320-100/200   \n",
       "3       Olbia  2021-10-04 19:59+02:00     None  Arrived  Airbus A320-100/200   \n",
       "4       Olbia  2021-10-04 19:59+02:00     None  Arrived  Airbus A320-100/200   \n",
       "\n",
       "              datetime  temperature   wind  prob_perc  rain_qty  snow  \n",
       "0  2021-12-01 12:00:00         6.38   8.16       1.00      0.73   0.0  \n",
       "1  2021-12-01 15:00:00         6.71   8.30       0.30      0.41   0.0  \n",
       "2  2021-12-01 18:00:00         7.25   8.32       0.09      0.00   0.0  \n",
       "3  2021-12-01 21:00:00         7.32  10.44       0.20      0.13   0.0  \n",
       "4  2021-12-02 00:00:00         5.11  11.10       0.02      0.00   0.0  "
      ]
     },
     "execution_count": 195,
     "metadata": {},
     "output_type": "execute_result"
    }
   ],
   "source": [
    "airports_cities.merge(arrivals_berlin, on='icao_code', how='inner').merge(weather_data, on='municipality_iso_country', how='inner').head()"
   ]
  },
  {
   "cell_type": "markdown",
   "id": "78660346-6ce7-41a5-80cc-0e018825e54e",
   "metadata": {},
   "source": [
    "## Update data into database"
   ]
  },
  {
   "cell_type": "markdown",
   "id": "c4064d5d-de67-4a36-86a7-3fdc271e00a1",
   "metadata": {},
   "source": [
    "### `sqlalchemy`"
   ]
  },
  {
   "cell_type": "markdown",
   "id": "7501b136-8223-4e30-8c3c-96d1560fd288",
   "metadata": {},
   "source": [
    "#### Establish the connection"
   ]
  },
  {
   "cell_type": "code",
   "execution_count": 196,
   "id": "2b980f2f-2be7-4a4b-9cdc-a58e7723d578",
   "metadata": {},
   "outputs": [
    {
     "name": "stdout",
     "output_type": "stream",
     "text": [
      "Requirement already satisfied: pymysql in /Users/sevgiakdeniz/opt/anaconda3/lib/python3.8/site-packages (1.0.2)\n"
     ]
    }
   ],
   "source": [
    "!pip install pymysql"
   ]
  },
  {
   "cell_type": "code",
   "execution_count": 197,
   "id": "98c1ad3d-cbea-48cd-8c99-e8ed62477f46",
   "metadata": {},
   "outputs": [
    {
     "name": "stdout",
     "output_type": "stream",
     "text": [
      "Requirement already satisfied: sqlalchemy in /Users/sevgiakdeniz/opt/anaconda3/lib/python3.8/site-packages (1.4.7)\n",
      "Requirement already satisfied: greenlet!=0.4.17 in /Users/sevgiakdeniz/opt/anaconda3/lib/python3.8/site-packages (from sqlalchemy) (1.0.0)\n"
     ]
    }
   ],
   "source": [
    "!pip install sqlalchemy"
   ]
  },
  {
   "cell_type": "code",
   "execution_count": 198,
   "id": "cc2ce62b-8fe9-42cc-8a9b-bad25fc60252",
   "metadata": {},
   "outputs": [],
   "source": [
    "#import awswrangler as wr\n",
    "import pandas as pd\n",
    "import sqlalchemy"
   ]
  },
  {
   "cell_type": "code",
   "execution_count": 199,
   "id": "1eab7e9d-5994-48c9-9111-711ce8d1b019",
   "metadata": {},
   "outputs": [],
   "source": [
    "#schema=\"gans\"\n",
    "#host=\"127.0.0.1\"\n",
    "#user=\"root\"\n",
    "#password=\"Maltepe1124\"\n",
    "#port=3306\n",
    "#con = f'mysql+pymysql://{user}:{password}@{host}:{port}/{schema}'"
   ]
  },
  {
   "cell_type": "code",
   "execution_count": 200,
   "id": "9ad1be09-8a50-4b63-a2e6-40ef40ab127a",
   "metadata": {},
   "outputs": [],
   "source": [
    "schema=\"gang\"\n",
    "host=\"database-wbs.ceefmumd0igz.eu-central-1.rds.amazonaws.com\"\n",
    "user=\"admin\"\n",
    "password=\"Maltepe1124\"\n",
    "port=3306\n",
    "con = f'mysql+pymysql://{user}:{password}@{host}:{port}/{schema}'"
   ]
  },
  {
   "cell_type": "markdown",
   "id": "5ce7200a-3763-4112-9ec7-0af3709cd871",
   "metadata": {},
   "source": [
    "#### Update the tables"
   ]
  },
  {
   "cell_type": "code",
   "execution_count": 201,
   "id": "52ac95dc-121e-4030-a211-f5775df196fd",
   "metadata": {},
   "outputs": [
    {
     "data": {
      "text/html": [
       "<div>\n",
       "<style scoped>\n",
       "    .dataframe tbody tr th:only-of-type {\n",
       "        vertical-align: middle;\n",
       "    }\n",
       "\n",
       "    .dataframe tbody tr th {\n",
       "        vertical-align: top;\n",
       "    }\n",
       "\n",
       "    .dataframe thead th {\n",
       "        text-align: right;\n",
       "    }\n",
       "</style>\n",
       "<table border=\"1\" class=\"dataframe\">\n",
       "  <thead>\n",
       "    <tr style=\"text-align: right;\">\n",
       "      <th></th>\n",
       "      <th>municipality</th>\n",
       "      <th>iso_country</th>\n",
       "      <th>municipality_iso_country</th>\n",
       "    </tr>\n",
       "  </thead>\n",
       "  <tbody>\n",
       "    <tr>\n",
       "      <th>10890</th>\n",
       "      <td>Honiara</td>\n",
       "      <td>SB</td>\n",
       "      <td>Honiara,SB</td>\n",
       "    </tr>\n",
       "    <tr>\n",
       "      <th>12461</th>\n",
       "      <td>Port Moresby</td>\n",
       "      <td>PG</td>\n",
       "      <td>Port Moresby,PG</td>\n",
       "    </tr>\n",
       "    <tr>\n",
       "      <th>12981</th>\n",
       "      <td>Reykjavík</td>\n",
       "      <td>IS</td>\n",
       "      <td>Reykjavík,IS</td>\n",
       "    </tr>\n",
       "    <tr>\n",
       "      <th>13028</th>\n",
       "      <td>Prishtina</td>\n",
       "      <td>XK</td>\n",
       "      <td>Prishtina,XK</td>\n",
       "    </tr>\n",
       "    <tr>\n",
       "      <th>17254</th>\n",
       "      <td>Xintai, Tai'an</td>\n",
       "      <td>CN</td>\n",
       "      <td>Xintai, Tai'an,CN</td>\n",
       "    </tr>\n",
       "    <tr>\n",
       "      <th>...</th>\n",
       "      <td>...</td>\n",
       "      <td>...</td>\n",
       "      <td>...</td>\n",
       "    </tr>\n",
       "    <tr>\n",
       "      <th>68223</th>\n",
       "      <td>Chengdu</td>\n",
       "      <td>CN</td>\n",
       "      <td>Chengdu,CN</td>\n",
       "    </tr>\n",
       "    <tr>\n",
       "      <th>68295</th>\n",
       "      <td>Ürümqi</td>\n",
       "      <td>CN</td>\n",
       "      <td>Ürümqi,CN</td>\n",
       "    </tr>\n",
       "    <tr>\n",
       "      <th>68306</th>\n",
       "      <td>Harbin</td>\n",
       "      <td>CN</td>\n",
       "      <td>Harbin,CN</td>\n",
       "    </tr>\n",
       "    <tr>\n",
       "      <th>68321</th>\n",
       "      <td>Ganjingzi, Dalian</td>\n",
       "      <td>CN</td>\n",
       "      <td>Ganjingzi, Dalian,CN</td>\n",
       "    </tr>\n",
       "    <tr>\n",
       "      <th>68323</th>\n",
       "      <td>Hunnan, Shenyang</td>\n",
       "      <td>CN</td>\n",
       "      <td>Hunnan, Shenyang,CN</td>\n",
       "    </tr>\n",
       "  </tbody>\n",
       "</table>\n",
       "<p>589 rows × 3 columns</p>\n",
       "</div>"
      ],
      "text/plain": [
       "            municipality iso_country municipality_iso_country\n",
       "10890            Honiara          SB               Honiara,SB\n",
       "12461       Port Moresby          PG          Port Moresby,PG\n",
       "12981          Reykjavík          IS             Reykjavík,IS\n",
       "13028          Prishtina          XK             Prishtina,XK\n",
       "17254     Xintai, Tai'an          CN        Xintai, Tai'an,CN\n",
       "...                  ...         ...                      ...\n",
       "68223            Chengdu          CN               Chengdu,CN\n",
       "68295             Ürümqi          CN                Ürümqi,CN\n",
       "68306             Harbin          CN                Harbin,CN\n",
       "68321  Ganjingzi, Dalian          CN     Ganjingzi, Dalian,CN\n",
       "68323   Hunnan, Shenyang          CN      Hunnan, Shenyang,CN\n",
       "\n",
       "[589 rows x 3 columns]"
      ]
     },
     "execution_count": 201,
     "metadata": {},
     "output_type": "execute_result"
    }
   ],
   "source": [
    "cities"
   ]
  },
  {
   "cell_type": "code",
   "execution_count": 204,
   "id": "56dba76d-6b5a-494f-91f7-090a17062d05",
   "metadata": {
    "tags": []
   },
   "outputs": [],
   "source": [
    "#cities.isna().sum()\n",
    "#cities.dropna().to_sql('cities', if_exists='append', con=con, index=False)\n",
    "\n",
    "airports_cities.dropna().to_sql('airports_cities2', if_exists='append', con=con, index=False)"
   ]
  },
  {
   "cell_type": "code",
   "execution_count": 205,
   "id": "2816dca8-9d1f-4de1-8d5e-80afc64fc641",
   "metadata": {
    "tags": []
   },
   "outputs": [],
   "source": [
    "weather_data.assign(datetime = lambda x: pd.to_datetime(x['datetime'])).to_sql('weather', if_exists='append', con=con, index=False)"
   ]
  },
  {
   "cell_type": "code",
   "execution_count": 206,
   "id": "28e438b5-e367-475b-b609-1813f60f8a0c",
   "metadata": {},
   "outputs": [],
   "source": [
    "import numpy as np\n",
    "(\n",
    "arrivals_berlin\n",
    "    .replace({np.nan},'unknown')\n",
    "    .assign(sched_arr_loc_time = lambda x: pd.to_datetime(x['sched_arr_loc_time']))\n",
    "    .to_sql('arrivals', if_exists='append', con=con, index=False))"
   ]
  },
  {
   "cell_type": "markdown",
   "id": "65569690-f0a6-41f0-a4ea-5baf4313ccf5",
   "metadata": {},
   "source": [
    "#### Run sql queries in our python session"
   ]
  },
  {
   "cell_type": "code",
   "execution_count": 179,
   "id": "ad81e15f-b46f-41fd-b067-928a3d19c09d",
   "metadata": {},
   "outputs": [
    {
     "data": {
      "text/html": [
       "<div>\n",
       "<style scoped>\n",
       "    .dataframe tbody tr th:only-of-type {\n",
       "        vertical-align: middle;\n",
       "    }\n",
       "\n",
       "    .dataframe tbody tr th {\n",
       "        vertical-align: top;\n",
       "    }\n",
       "\n",
       "    .dataframe thead th {\n",
       "        text-align: right;\n",
       "    }\n",
       "</style>\n",
       "<table border=\"1\" class=\"dataframe\">\n",
       "  <thead>\n",
       "    <tr style=\"text-align: right;\">\n",
       "      <th></th>\n",
       "      <th>arrival_id</th>\n",
       "      <th>dep_airport</th>\n",
       "      <th>sched_arr_loc_time</th>\n",
       "      <th>terminal</th>\n",
       "      <th>status</th>\n",
       "      <th>aircraft</th>\n",
       "      <th>icao_code</th>\n",
       "    </tr>\n",
       "  </thead>\n",
       "  <tbody>\n",
       "    <tr>\n",
       "      <th>0</th>\n",
       "      <td>547</td>\n",
       "      <td>Athens</td>\n",
       "      <td>2021-10-04 20:33:00</td>\n",
       "      <td>unknown</td>\n",
       "      <td>Arrived</td>\n",
       "      <td>Airbus A320-100/200</td>\n",
       "      <td>EDDB</td>\n",
       "    </tr>\n",
       "    <tr>\n",
       "      <th>1</th>\n",
       "      <td>548</td>\n",
       "      <td>Souda</td>\n",
       "      <td>2021-10-04 20:07:00</td>\n",
       "      <td>unknown</td>\n",
       "      <td>Arrived</td>\n",
       "      <td>Airbus A320-100/200</td>\n",
       "      <td>EDDB</td>\n",
       "    </tr>\n",
       "    <tr>\n",
       "      <th>2</th>\n",
       "      <td>549</td>\n",
       "      <td>Oslo</td>\n",
       "      <td>2021-10-04 20:05:00</td>\n",
       "      <td>1</td>\n",
       "      <td>Arrived</td>\n",
       "      <td>Boeing 737-800</td>\n",
       "      <td>EDDB</td>\n",
       "    </tr>\n",
       "    <tr>\n",
       "      <th>3</th>\n",
       "      <td>551</td>\n",
       "      <td>Palma De Mallorca</td>\n",
       "      <td>2021-10-04 20:25:00</td>\n",
       "      <td>unknown</td>\n",
       "      <td>Arrived</td>\n",
       "      <td>Boeing 737-800 (winglets)</td>\n",
       "      <td>EDDB</td>\n",
       "    </tr>\n",
       "    <tr>\n",
       "      <th>4</th>\n",
       "      <td>553</td>\n",
       "      <td>Luxembourg</td>\n",
       "      <td>2021-10-04 20:10:00</td>\n",
       "      <td>1</td>\n",
       "      <td>Arrived</td>\n",
       "      <td>De Havilland Canada DHC-8-400 Dash 8Q</td>\n",
       "      <td>EDDB</td>\n",
       "    </tr>\n",
       "    <tr>\n",
       "      <th>...</th>\n",
       "      <td>...</td>\n",
       "      <td>...</td>\n",
       "      <td>...</td>\n",
       "      <td>...</td>\n",
       "      <td>...</td>\n",
       "      <td>...</td>\n",
       "      <td>...</td>\n",
       "    </tr>\n",
       "    <tr>\n",
       "      <th>677</th>\n",
       "      <td>1540</td>\n",
       "      <td>Stuttgart</td>\n",
       "      <td>2021-10-05 07:03:00</td>\n",
       "      <td>unknown</td>\n",
       "      <td>Arrived</td>\n",
       "      <td>Airbus A320-200 (Sharklets)</td>\n",
       "      <td>EDDB</td>\n",
       "    </tr>\n",
       "    <tr>\n",
       "      <th>678</th>\n",
       "      <td>1541</td>\n",
       "      <td>Bâle/Mulhouse</td>\n",
       "      <td>2021-10-05 07:19:00</td>\n",
       "      <td>unknown</td>\n",
       "      <td>Arrived</td>\n",
       "      <td>Airbus A319</td>\n",
       "      <td>EDDB</td>\n",
       "    </tr>\n",
       "    <tr>\n",
       "      <th>679</th>\n",
       "      <td>1545</td>\n",
       "      <td>Frankfurt-am-Main</td>\n",
       "      <td>2021-10-05 07:55:00</td>\n",
       "      <td>1</td>\n",
       "      <td>Arrived</td>\n",
       "      <td>Airbus A321-100/200</td>\n",
       "      <td>EDDB</td>\n",
       "    </tr>\n",
       "    <tr>\n",
       "      <th>680</th>\n",
       "      <td>1546</td>\n",
       "      <td>Varna</td>\n",
       "      <td>2021-10-05 07:40:00</td>\n",
       "      <td>0</td>\n",
       "      <td>Arrived</td>\n",
       "      <td>Airbus A320-100/200</td>\n",
       "      <td>EDDB</td>\n",
       "    </tr>\n",
       "    <tr>\n",
       "      <th>681</th>\n",
       "      <td>1547</td>\n",
       "      <td>Amsterdam</td>\n",
       "      <td>2021-10-05 08:20:00</td>\n",
       "      <td>0</td>\n",
       "      <td>Arrived</td>\n",
       "      <td>Embraer EMB 175</td>\n",
       "      <td>EDDB</td>\n",
       "    </tr>\n",
       "  </tbody>\n",
       "</table>\n",
       "<p>682 rows × 7 columns</p>\n",
       "</div>"
      ],
      "text/plain": [
       "     arrival_id        dep_airport   sched_arr_loc_time terminal   status  \\\n",
       "0           547             Athens  2021-10-04 20:33:00  unknown  Arrived   \n",
       "1           548              Souda  2021-10-04 20:07:00  unknown  Arrived   \n",
       "2           549               Oslo  2021-10-04 20:05:00        1  Arrived   \n",
       "3           551  Palma De Mallorca  2021-10-04 20:25:00  unknown  Arrived   \n",
       "4           553         Luxembourg  2021-10-04 20:10:00        1  Arrived   \n",
       "..          ...                ...                  ...      ...      ...   \n",
       "677        1540          Stuttgart  2021-10-05 07:03:00  unknown  Arrived   \n",
       "678        1541      Bâle/Mulhouse  2021-10-05 07:19:00  unknown  Arrived   \n",
       "679        1545  Frankfurt-am-Main  2021-10-05 07:55:00        1  Arrived   \n",
       "680        1546              Varna  2021-10-05 07:40:00        0  Arrived   \n",
       "681        1547          Amsterdam  2021-10-05 08:20:00        0  Arrived   \n",
       "\n",
       "                                  aircraft icao_code  \n",
       "0                      Airbus A320-100/200      EDDB  \n",
       "1                      Airbus A320-100/200      EDDB  \n",
       "2                           Boeing 737-800      EDDB  \n",
       "3                Boeing 737-800 (winglets)      EDDB  \n",
       "4    De Havilland Canada DHC-8-400 Dash 8Q      EDDB  \n",
       "..                                     ...       ...  \n",
       "677            Airbus A320-200 (Sharklets)      EDDB  \n",
       "678                            Airbus A319      EDDB  \n",
       "679                    Airbus A321-100/200      EDDB  \n",
       "680                    Airbus A320-100/200      EDDB  \n",
       "681                        Embraer EMB 175      EDDB  \n",
       "\n",
       "[682 rows x 7 columns]"
      ]
     },
     "execution_count": 179,
     "metadata": {},
     "output_type": "execute_result"
    }
   ],
   "source": [
    "pd.read_sql(\n",
    "    sql = \"\"\"\n",
    "        select * from arrivals\n",
    "        where status = \"Arrived\"\n",
    "    \"\"\",\n",
    "    con = con\n",
    ")"
   ]
  },
  {
   "cell_type": "markdown",
   "id": "0c27d258-3aef-4678-886b-d46bc7669b9b",
   "metadata": {},
   "source": [
    "### `pymysql`"
   ]
  },
  {
   "cell_type": "code",
   "execution_count": 180,
   "id": "83661d21-21b7-4b5d-bccd-da97ecb6f14d",
   "metadata": {},
   "outputs": [
    {
     "ename": "ModuleNotFoundError",
     "evalue": "No module named 'awswrangler'",
     "output_type": "error",
     "traceback": [
      "\u001b[0;31m---------------------------------------------------------------------------\u001b[0m",
      "\u001b[0;31mModuleNotFoundError\u001b[0m                       Traceback (most recent call last)",
      "\u001b[0;32m<ipython-input-180-2979bd35571f>\u001b[0m in \u001b[0;36m<module>\u001b[0;34m\u001b[0m\n\u001b[1;32m      1\u001b[0m \u001b[0;32mimport\u001b[0m \u001b[0mpymysql\u001b[0m\u001b[0;34m\u001b[0m\u001b[0;34m\u001b[0m\u001b[0m\n\u001b[0;32m----> 2\u001b[0;31m \u001b[0;32mimport\u001b[0m \u001b[0mawswrangler\u001b[0m \u001b[0;32mas\u001b[0m \u001b[0mwr\u001b[0m\u001b[0;34m\u001b[0m\u001b[0;34m\u001b[0m\u001b[0m\n\u001b[0m\u001b[1;32m      3\u001b[0m \u001b[0;34m\u001b[0m\u001b[0m\n\u001b[1;32m      4\u001b[0m con = pymysql.connect(\n\u001b[1;32m      5\u001b[0m     \u001b[0mdatabase\u001b[0m\u001b[0;34m=\u001b[0m\u001b[0;34m\"gang\"\u001b[0m\u001b[0;34m,\u001b[0m\u001b[0;34m\u001b[0m\u001b[0;34m\u001b[0m\u001b[0m\n",
      "\u001b[0;31mModuleNotFoundError\u001b[0m: No module named 'awswrangler'"
     ]
    }
   ],
   "source": [
    "import pymysql\n",
    "import awswrangler as wr\n",
    "\n",
    "con = pymysql.connect(\n",
    "    database=\"gang\",\n",
    "    host=\"127.0.0.1\",\n",
    "    user=\"root\",\n",
    "    password=\"Maltepe1124\",\n",
    "    port=3306\n",
    ")\n",
    "\n",
    "wr.mysql.to_sql(\n",
    "    df_cities, \n",
    "    con,\n",
    "    schema=\"gang\",\n",
    "    table=\"new_table\"\n",
    ")\n",
    "if con.open: con.close()"
   ]
  },
  {
   "cell_type": "code",
   "execution_count": null,
   "id": "24576af7-cd19-4bd6-88d8-b081141ccdab",
   "metadata": {},
   "outputs": [],
   "source": []
  },
  {
   "cell_type": "code",
   "execution_count": null,
   "id": "462f6bec-b0e0-4956-b3a8-1a952402a0e2",
   "metadata": {},
   "outputs": [],
   "source": []
  }
 ],
 "metadata": {
  "kernelspec": {
   "display_name": "Python 3",
   "language": "python",
   "name": "python3"
  },
  "language_info": {
   "codemirror_mode": {
    "name": "ipython",
    "version": 3
   },
   "file_extension": ".py",
   "mimetype": "text/x-python",
   "name": "python",
   "nbconvert_exporter": "python",
   "pygments_lexer": "ipython3",
   "version": "3.8.8"
  }
 },
 "nbformat": 4,
 "nbformat_minor": 5
}
