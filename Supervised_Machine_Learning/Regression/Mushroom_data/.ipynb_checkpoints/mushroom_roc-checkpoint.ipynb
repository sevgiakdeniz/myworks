{
 "cells": [
  {
   "cell_type": "markdown",
   "id": "5750bf19-0436-4409-8b13-3377c406a0bb",
   "metadata": {},
   "source": [
    "***Receiver Operating Characteristic (ROC) curves"
   ]
  },
  {
   "cell_type": "markdown",
   "id": "db31853b-d844-4a2d-959e-2be0d3734210",
   "metadata": {},
   "source": [
    "A ROC curve plots the performance of a binary classifier under various threshold settings; this is measured by true positive rate and false positive rate. If your classifier predicts “true” more often, it will have more true positives (good) but also more false positives (bad). If your classifier is more conservative, predicting “true” less often, it will have fewer false positives but fewer true positives as well. The ROC curve is a graphical representation of this tradeoff."
   ]
  },
  {
   "cell_type": "markdown",
   "id": "4da1d072-ccab-4ef5-ac84-592319b3ff8a",
   "metadata": {},
   "source": [
    "In this mushroom dataset it is absolutely essential to correctly classify every mushroom with poisonous in order to minimize risk of get poisoned. And that means lowering the threshold even if that results in more False Positives. In other words we will focus on Recall (or Sensitivity) metric obtained from the confusion matrix."
   ]
  },
  {
   "cell_type": "markdown",
   "id": "5ecb5aaf-1c51-4b51-a31c-fa5381d6d597",
   "metadata": {},
   "source": [
    "Recall = Sensitivity = True Positive Rate = True Positives / (True Positives + False Negatives)"
   ]
  },
  {
   "cell_type": "markdown",
   "id": "77d843bc-0c3e-4c55-99da-e1a35a6216f9",
   "metadata": {},
   "source": [
    "Here True Positives are the samples that are correctly classified as poisonous Mushrooms and the False Negatives are the mushrooms that were incorrectly classified as not poisonous. The True Positive Rate (y- axis) tells you what proportion of poisonous mushrooms samples were correctly classified. The False Positive Rate (x-axis) is the same thing as 1 - Specificity. The False Positive Rate = False Positives / False Positives + True Negatives . The False Positives are the not poisonous mushrooms that were incorrectly classified as poisonous. True Negatives are the mushrooms correctly classified as not poisonous. The False Positive Rate tells the proportion of not poisonous mushrooms that were incorrectly classified and are False Positives."
   ]
  },
  {
   "cell_type": "markdown",
   "id": "94e0ae9b-43cf-4144-964f-1ef21d64dbc5",
   "metadata": {},
   "source": [
    "AUC (Area Under Curve)"
   ]
  },
  {
   "cell_type": "markdown",
   "id": "9f4f3543-b63a-4726-9e1f-9583db503014",
   "metadata": {},
   "source": [
    "The AUC (Area Under Curve) is the area enclosed by the ROC curve. A perfect classifier has AUC = 1 and a completely random classifier has AUC = 0.5. Usually, your model will score somewhere in between. The range of possible AUC values is [0, 1]. However, if your AUC is below 0.5, that means you can invert all the outputs of your classifier and get a better score, so you did something wrong."
   ]
  },
  {
   "cell_type": "code",
   "execution_count": 2,
   "id": "36890450",
   "metadata": {
    "papermill": {
     "duration": 0.153582,
     "end_time": "2021-12-14T21:54:28.747959",
     "exception": false,
     "start_time": "2021-12-14T21:54:28.594377",
     "status": "completed"
    },
    "tags": []
   },
   "outputs": [
    {
     "name": "stdout",
     "output_type": "stream",
     "text": [
      "<class 'pandas.core.frame.DataFrame'>\n",
      "Int64Index: 6499 entries, 6573 to 373\n",
      "Data columns (total 7 columns):\n",
      " #   Column                  Non-Null Count  Dtype \n",
      "---  ------                  --------------  ----- \n",
      " 0   cap.shape               6499 non-null   object\n",
      " 1   cap.color               6499 non-null   object\n",
      " 2   stalk.color.above.ring  6499 non-null   object\n",
      " 3   stalk.color.below.ring  6499 non-null   object\n",
      " 4   bruises                 6499 non-null   bool  \n",
      " 5   population              6499 non-null   object\n",
      " 6   poisonous               6499 non-null   int64 \n",
      "dtypes: bool(1), int64(1), object(5)\n",
      "memory usage: 361.8+ KB\n"
     ]
    }
   ],
   "source": [
    "import pandas as pd\n",
    "import numpy as np\n",
    "import seaborn as sns\n",
    "import matplotlib.pyplot as plt\n",
    "from sklearn.model_selection import train_test_split\n",
    "from sklearn.pipeline import Pipeline\n",
    "from sklearn.compose import ColumnTransformer\n",
    "from sklearn.preprocessing import OneHotEncoder, MinMaxScaler\n",
    "from sklearn.tree import DecisionTreeClassifier\n",
    "from sklearn.neighbors import KNeighborsClassifier\n",
    "from sklearn.ensemble import RandomForestClassifier\n",
    "from sklearn.linear_model import LogisticRegression\n",
    "from sklearn.model_selection import cross_val_score\n",
    "from sklearn import metrics\n",
    "from sklearn.metrics import confusion_matrix\n",
    "from sklearn.metrics import roc_curve, roc_auc_score\n",
    "from sklearn.metrics import plot_confusion_matrix\n",
    "data = pd.read_csv('./train.csv').filter(\n",
    "        ['Id','cap.shape', 'cap.color', 'stalk.color.above.ring',\n",
    "        'stalk.color.below.ring', 'bruises', 'population','poisonous']).set_index('Id')\n",
    "data.info()"
   ]
  },
  {
   "cell_type": "code",
   "execution_count": 3,
   "id": "63a47d55-26a0-40d1-b2f1-ad217b362682",
   "metadata": {},
   "outputs": [
    {
     "data": {
      "text/plain": [
       "0.9390675488536698"
      ]
     },
     "execution_count": 3,
     "metadata": {},
     "output_type": "execute_result"
    }
   ],
   "source": [
    "data.duplicated().sum() / data.shape[0]"
   ]
  },
  {
   "cell_type": "code",
   "execution_count": 4,
   "id": "1c40ade9-5005-4c73-b48e-eb250c378642",
   "metadata": {},
   "outputs": [],
   "source": [
    "data.drop_duplicates(inplace=True)"
   ]
  },
  {
   "cell_type": "code",
   "execution_count": 5,
   "id": "30251475",
   "metadata": {
    "papermill": {
     "duration": 0.122918,
     "end_time": "2021-12-14T21:54:28.971470",
     "exception": false,
     "start_time": "2021-12-14T21:54:28.848552",
     "status": "completed"
    },
    "tags": []
   },
   "outputs": [],
   "source": [
    "data_test = pd.read_csv('./test.csv')"
   ]
  },
  {
   "cell_type": "code",
   "execution_count": 6,
   "id": "552b5833-8052-480b-9847-fd0bc1240137",
   "metadata": {},
   "outputs": [
    {
     "name": "stdout",
     "output_type": "stream",
     "text": [
      "<class 'pandas.core.frame.DataFrame'>\n",
      "RangeIndex: 1625 entries, 0 to 1624\n",
      "Data columns (total 7 columns):\n",
      " #   Column                  Non-Null Count  Dtype \n",
      "---  ------                  --------------  ----- \n",
      " 0   Id                      1625 non-null   int64 \n",
      " 1   cap.shape               1625 non-null   object\n",
      " 2   cap.color               1625 non-null   object\n",
      " 3   stalk.color.above.ring  1625 non-null   object\n",
      " 4   stalk.color.below.ring  1625 non-null   object\n",
      " 5   bruises                 1625 non-null   bool  \n",
      " 6   population              1625 non-null   object\n",
      "dtypes: bool(1), int64(1), object(5)\n",
      "memory usage: 77.9+ KB\n"
     ]
    }
   ],
   "source": [
    "data_test.info()"
   ]
  },
  {
   "cell_type": "code",
   "execution_count": 7,
   "id": "14ffff60-e2d7-4cee-b7b4-3dd9a9c4251c",
   "metadata": {},
   "outputs": [
    {
     "data": {
      "text/html": [
       "<div>\n",
       "<style scoped>\n",
       "    .dataframe tbody tr th:only-of-type {\n",
       "        vertical-align: middle;\n",
       "    }\n",
       "\n",
       "    .dataframe tbody tr th {\n",
       "        vertical-align: top;\n",
       "    }\n",
       "\n",
       "    .dataframe thead th {\n",
       "        text-align: right;\n",
       "    }\n",
       "</style>\n",
       "<table border=\"1\" class=\"dataframe\">\n",
       "  <thead>\n",
       "    <tr style=\"text-align: right;\">\n",
       "      <th></th>\n",
       "      <th>Id</th>\n",
       "      <th>cap.shape</th>\n",
       "      <th>cap.color</th>\n",
       "      <th>stalk.color.above.ring</th>\n",
       "      <th>stalk.color.below.ring</th>\n",
       "      <th>bruises</th>\n",
       "      <th>population</th>\n",
       "    </tr>\n",
       "  </thead>\n",
       "  <tbody>\n",
       "    <tr>\n",
       "      <th>0</th>\n",
       "      <td>5165</td>\n",
       "      <td>f</td>\n",
       "      <td>w</td>\n",
       "      <td>w</td>\n",
       "      <td>w</td>\n",
       "      <td>True</td>\n",
       "      <td>v</td>\n",
       "    </tr>\n",
       "    <tr>\n",
       "      <th>1</th>\n",
       "      <td>4281</td>\n",
       "      <td>f</td>\n",
       "      <td>g</td>\n",
       "      <td>n</td>\n",
       "      <td>p</td>\n",
       "      <td>False</td>\n",
       "      <td>v</td>\n",
       "    </tr>\n",
       "    <tr>\n",
       "      <th>2</th>\n",
       "      <td>231</td>\n",
       "      <td>x</td>\n",
       "      <td>n</td>\n",
       "      <td>w</td>\n",
       "      <td>p</td>\n",
       "      <td>True</td>\n",
       "      <td>v</td>\n",
       "    </tr>\n",
       "    <tr>\n",
       "      <th>3</th>\n",
       "      <td>3890</td>\n",
       "      <td>f</td>\n",
       "      <td>n</td>\n",
       "      <td>w</td>\n",
       "      <td>w</td>\n",
       "      <td>False</td>\n",
       "      <td>s</td>\n",
       "    </tr>\n",
       "    <tr>\n",
       "      <th>4</th>\n",
       "      <td>1521</td>\n",
       "      <td>x</td>\n",
       "      <td>y</td>\n",
       "      <td>n</td>\n",
       "      <td>p</td>\n",
       "      <td>False</td>\n",
       "      <td>v</td>\n",
       "    </tr>\n",
       "    <tr>\n",
       "      <th>...</th>\n",
       "      <td>...</td>\n",
       "      <td>...</td>\n",
       "      <td>...</td>\n",
       "      <td>...</td>\n",
       "      <td>...</td>\n",
       "      <td>...</td>\n",
       "      <td>...</td>\n",
       "    </tr>\n",
       "    <tr>\n",
       "      <th>1620</th>\n",
       "      <td>983</td>\n",
       "      <td>x</td>\n",
       "      <td>n</td>\n",
       "      <td>w</td>\n",
       "      <td>y</td>\n",
       "      <td>False</td>\n",
       "      <td>v</td>\n",
       "    </tr>\n",
       "    <tr>\n",
       "      <th>1621</th>\n",
       "      <td>7055</td>\n",
       "      <td>x</td>\n",
       "      <td>e</td>\n",
       "      <td>p</td>\n",
       "      <td>g</td>\n",
       "      <td>True</td>\n",
       "      <td>v</td>\n",
       "    </tr>\n",
       "    <tr>\n",
       "      <th>1622</th>\n",
       "      <td>7456</td>\n",
       "      <td>x</td>\n",
       "      <td>y</td>\n",
       "      <td>b</td>\n",
       "      <td>n</td>\n",
       "      <td>False</td>\n",
       "      <td>y</td>\n",
       "    </tr>\n",
       "    <tr>\n",
       "      <th>1623</th>\n",
       "      <td>5132</td>\n",
       "      <td>x</td>\n",
       "      <td>w</td>\n",
       "      <td>w</td>\n",
       "      <td>w</td>\n",
       "      <td>True</td>\n",
       "      <td>n</td>\n",
       "    </tr>\n",
       "    <tr>\n",
       "      <th>1624</th>\n",
       "      <td>6821</td>\n",
       "      <td>f</td>\n",
       "      <td>e</td>\n",
       "      <td>w</td>\n",
       "      <td>w</td>\n",
       "      <td>False</td>\n",
       "      <td>v</td>\n",
       "    </tr>\n",
       "  </tbody>\n",
       "</table>\n",
       "<p>1625 rows × 7 columns</p>\n",
       "</div>"
      ],
      "text/plain": [
       "        Id cap.shape cap.color stalk.color.above.ring stalk.color.below.ring  \\\n",
       "0     5165         f         w                      w                      w   \n",
       "1     4281         f         g                      n                      p   \n",
       "2      231         x         n                      w                      p   \n",
       "3     3890         f         n                      w                      w   \n",
       "4     1521         x         y                      n                      p   \n",
       "...    ...       ...       ...                    ...                    ...   \n",
       "1620   983         x         n                      w                      y   \n",
       "1621  7055         x         e                      p                      g   \n",
       "1622  7456         x         y                      b                      n   \n",
       "1623  5132         x         w                      w                      w   \n",
       "1624  6821         f         e                      w                      w   \n",
       "\n",
       "      bruises population  \n",
       "0        True          v  \n",
       "1       False          v  \n",
       "2        True          v  \n",
       "3       False          s  \n",
       "4       False          v  \n",
       "...       ...        ...  \n",
       "1620    False          v  \n",
       "1621     True          v  \n",
       "1622    False          y  \n",
       "1623     True          n  \n",
       "1624    False          v  \n",
       "\n",
       "[1625 rows x 7 columns]"
      ]
     },
     "execution_count": 7,
     "metadata": {},
     "output_type": "execute_result"
    }
   ],
   "source": [
    "data_test"
   ]
  },
  {
   "cell_type": "markdown",
   "id": "5947eb37",
   "metadata": {
    "papermill": {
     "duration": 0.096566,
     "end_time": "2021-12-14T21:54:29.353697",
     "exception": false,
     "start_time": "2021-12-14T21:54:29.257131",
     "status": "completed"
    },
    "tags": []
   },
   "source": [
    "### Missing values"
   ]
  },
  {
   "cell_type": "code",
   "execution_count": 8,
   "id": "07e8bbd6",
   "metadata": {
    "papermill": {
     "duration": 0.104617,
     "end_time": "2021-12-14T21:54:29.551796",
     "exception": false,
     "start_time": "2021-12-14T21:54:29.447179",
     "status": "completed"
    },
    "tags": []
   },
   "outputs": [
    {
     "data": {
      "text/plain": [
       "cap.shape                 0\n",
       "cap.color                 0\n",
       "stalk.color.above.ring    0\n",
       "stalk.color.below.ring    0\n",
       "bruises                   0\n",
       "population                0\n",
       "poisonous                 0\n",
       "dtype: int64"
      ]
     },
     "execution_count": 8,
     "metadata": {},
     "output_type": "execute_result"
    }
   ],
   "source": [
    "data.isna().sum()"
   ]
  },
  {
   "cell_type": "code",
   "execution_count": 9,
   "id": "f628f9e8",
   "metadata": {
    "papermill": {
     "duration": 0.123904,
     "end_time": "2021-12-14T21:54:30.365875",
     "exception": false,
     "start_time": "2021-12-14T21:54:30.241971",
     "status": "completed"
    },
    "tags": []
   },
   "outputs": [
    {
     "name": "stdout",
     "output_type": "stream",
     "text": [
      "<class 'pandas.core.frame.DataFrame'>\n",
      "Int64Index: 396 entries, 6573 to 7804\n",
      "Data columns (total 7 columns):\n",
      " #   Column                  Non-Null Count  Dtype \n",
      "---  ------                  --------------  ----- \n",
      " 0   cap.shape               396 non-null    object\n",
      " 1   cap.color               396 non-null    object\n",
      " 2   stalk.color.above.ring  396 non-null    object\n",
      " 3   stalk.color.below.ring  396 non-null    object\n",
      " 4   bruises                 396 non-null    bool  \n",
      " 5   population              396 non-null    object\n",
      " 6   poisonous               396 non-null    int64 \n",
      "dtypes: bool(1), int64(1), object(5)\n",
      "memory usage: 22.0+ KB\n"
     ]
    }
   ],
   "source": [
    "data.info()"
   ]
  },
  {
   "cell_type": "markdown",
   "id": "d5333b67-9422-43eb-9d00-ef7fd10f12ff",
   "metadata": {},
   "source": [
    "We can see that the dataset has values in strings.We need to convert all the unique values to integers. Thus we perform label encoding on the data."
   ]
  },
  {
   "cell_type": "markdown",
   "id": "1e134076-df61-4b51-9853-767a5a0a3565",
   "metadata": {},
   "source": [
    "Separating features and label"
   ]
  },
  {
   "cell_type": "code",
   "execution_count": 10,
   "id": "0a998ba4",
   "metadata": {
    "papermill": {
     "duration": 1.171517,
     "end_time": "2021-12-14T21:54:33.997686",
     "exception": false,
     "start_time": "2021-12-14T21:54:32.826169",
     "status": "completed"
    },
    "tags": []
   },
   "outputs": [
    {
     "data": {
      "text/html": [
       "<div>\n",
       "<style scoped>\n",
       "    .dataframe tbody tr th:only-of-type {\n",
       "        vertical-align: middle;\n",
       "    }\n",
       "\n",
       "    .dataframe tbody tr th {\n",
       "        vertical-align: top;\n",
       "    }\n",
       "\n",
       "    .dataframe thead th {\n",
       "        text-align: right;\n",
       "    }\n",
       "</style>\n",
       "<table border=\"1\" class=\"dataframe\">\n",
       "  <thead>\n",
       "    <tr style=\"text-align: right;\">\n",
       "      <th></th>\n",
       "      <th>cap.shape</th>\n",
       "      <th>cap.color</th>\n",
       "      <th>stalk.color.above.ring</th>\n",
       "      <th>stalk.color.below.ring</th>\n",
       "      <th>bruises</th>\n",
       "      <th>population</th>\n",
       "    </tr>\n",
       "    <tr>\n",
       "      <th>Id</th>\n",
       "      <th></th>\n",
       "      <th></th>\n",
       "      <th></th>\n",
       "      <th></th>\n",
       "      <th></th>\n",
       "      <th></th>\n",
       "    </tr>\n",
       "  </thead>\n",
       "  <tbody>\n",
       "    <tr>\n",
       "      <th>8008</th>\n",
       "      <td>f</td>\n",
       "      <td>g</td>\n",
       "      <td>n</td>\n",
       "      <td>b</td>\n",
       "      <td>False</td>\n",
       "      <td>y</td>\n",
       "    </tr>\n",
       "    <tr>\n",
       "      <th>4710</th>\n",
       "      <td>x</td>\n",
       "      <td>e</td>\n",
       "      <td>p</td>\n",
       "      <td>p</td>\n",
       "      <td>True</td>\n",
       "      <td>y</td>\n",
       "    </tr>\n",
       "    <tr>\n",
       "      <th>2411</th>\n",
       "      <td>f</td>\n",
       "      <td>p</td>\n",
       "      <td>w</td>\n",
       "      <td>e</td>\n",
       "      <td>True</td>\n",
       "      <td>c</td>\n",
       "    </tr>\n",
       "    <tr>\n",
       "      <th>7721</th>\n",
       "      <td>f</td>\n",
       "      <td>n</td>\n",
       "      <td>w</td>\n",
       "      <td>w</td>\n",
       "      <td>True</td>\n",
       "      <td>c</td>\n",
       "    </tr>\n",
       "    <tr>\n",
       "      <th>2250</th>\n",
       "      <td>b</td>\n",
       "      <td>n</td>\n",
       "      <td>w</td>\n",
       "      <td>y</td>\n",
       "      <td>False</td>\n",
       "      <td>v</td>\n",
       "    </tr>\n",
       "  </tbody>\n",
       "</table>\n",
       "</div>"
      ],
      "text/plain": [
       "     cap.shape cap.color stalk.color.above.ring stalk.color.below.ring  \\\n",
       "Id                                                                       \n",
       "8008         f         g                      n                      b   \n",
       "4710         x         e                      p                      p   \n",
       "2411         f         p                      w                      e   \n",
       "7721         f         n                      w                      w   \n",
       "2250         b         n                      w                      y   \n",
       "\n",
       "      bruises population  \n",
       "Id                        \n",
       "8008    False          y  \n",
       "4710     True          y  \n",
       "2411     True          c  \n",
       "7721     True          c  \n",
       "2250    False          v  "
      ]
     },
     "execution_count": 10,
     "metadata": {},
     "output_type": "execute_result"
    }
   ],
   "source": [
    "X = data.drop(columns=['poisonous'])\n",
    "y = data['poisonous']\n",
    "\n",
    "X_train, X_test, y_train, y_test = train_test_split(X, y, train_size=0.8, random_state=8)\n",
    "X_train.head()"
   ]
  },
  {
   "cell_type": "code",
   "execution_count": 11,
   "id": "f4c2db53-6e35-48f0-a88b-b7517f5ea776",
   "metadata": {},
   "outputs": [],
   "source": [
    "cat_col= [ col for col in X_train.columns if X_train[col].dtypes == 'object']"
   ]
  },
  {
   "cell_type": "code",
   "execution_count": 12,
   "id": "5881a4dc-8cff-403d-a1a8-13d7f07243fd",
   "metadata": {},
   "outputs": [],
   "source": [
    "categorical_pipeline = Pipeline(steps=[\n",
    "    ('one-hot', OneHotEncoder(drop='first'))\n",
    "])\n",
    "\n",
    "full_processor = ColumnTransformer(transformers=[\n",
    "    ('category', categorical_pipeline, cat_col)\n",
    "])"
   ]
  },
  {
   "cell_type": "markdown",
   "id": "b8090fd1-8e85-4839-b0fe-679bcf62f6d1",
   "metadata": {},
   "source": [
    "Decision Tree Classifier"
   ]
  },
  {
   "cell_type": "code",
   "execution_count": 13,
   "id": "4928df3a-05e7-478c-8a9d-ea8f52f4b16c",
   "metadata": {},
   "outputs": [],
   "source": [
    "tree_pipeline = Pipeline(steps=[\n",
    "    ('preprocess', full_processor), \n",
    "    ('model', DecisionTreeClassifier(max_depth=9))\n",
    "])\n",
    "\n",
    "dt_model = tree_pipeline.fit(X_train, y_train)"
   ]
  },
  {
   "cell_type": "code",
   "execution_count": 14,
   "id": "b443d355-cf44-4fe5-a4cf-2fa2bd8e4e4f",
   "metadata": {},
   "outputs": [],
   "source": [
    "dt_preds = tree_pipeline.predict(X_test)"
   ]
  },
  {
   "cell_type": "code",
   "execution_count": 15,
   "id": "5c94ce51-b295-47a7-b949-d803b89af3b1",
   "metadata": {},
   "outputs": [
    {
     "data": {
      "image/png": "[encoded data removed]",
      "text/plain": [
       "<Figure size 432x288 with 2 Axes>"
      ]
     },
     "metadata": {
      "needs_background": "light"
     },
     "output_type": "display_data"
    }
   ],
   "source": [
    "plot_confusion_matrix(tree_pipeline, X_test, y_test, display_labels=['Edible', 'Poisonous']);"
   ]
  },
  {
   "cell_type": "code",
   "execution_count": 16,
   "id": "7d8349fc-c493-4a33-bdad-c29eb99daace",
   "metadata": {},
   "outputs": [],
   "source": [
    "dt_proba = tree_pipeline.predict_proba(X_test)"
   ]
  },
  {
   "cell_type": "code",
   "execution_count": 17,
   "id": "f9fce4a3-8f06-4abf-a774-f66165237441",
   "metadata": {},
   "outputs": [],
   "source": [
    "dt_proba = dt_proba[:,1]"
   ]
  },
  {
   "cell_type": "code",
   "execution_count": 18,
   "id": "156e651e-63ee-4c3f-a8aa-fcd16aa19a52",
   "metadata": {},
   "outputs": [],
   "source": [
    "dt_auc = roc_auc_score(y_test,dt_proba)"
   ]
  },
  {
   "cell_type": "code",
   "execution_count": 19,
   "id": "f33d73f2-cc80-4994-8e1c-6c2edb313837",
   "metadata": {},
   "outputs": [
    {
     "data": {
      "text/plain": [
       "0.8809974747474747"
      ]
     },
     "execution_count": 19,
     "metadata": {},
     "output_type": "execute_result"
    }
   ],
   "source": [
    "from sklearn.metrics import roc_curve, auc\n",
    "false_positive_rate, true_positive_rate, thresholds = roc_curve(y_test, dt_proba)\n",
    "roc_auc = auc(false_positive_rate, true_positive_rate)\n",
    "roc_auc"
   ]
  },
  {
   "cell_type": "code",
   "execution_count": 20,
   "id": "14561063-e37c-427b-b8e3-c42412400c22",
   "metadata": {},
   "outputs": [
    {
     "data": {
      "text/plain": [
       "Text(0.5, 0, 'False Positive Rate')"
      ]
     },
     "execution_count": 20,
     "metadata": {},
     "output_type": "execute_result"
    },
    {
     "data": {
      "image/png": "[encoded data removed]",
      "text/plain": [
       "<Figure size 720x720 with 1 Axes>"
      ]
     },
     "metadata": {
      "needs_background": "light"
     },
     "output_type": "display_data"
    }
   ],
   "source": [
    "plt.figure(figsize=(10,10))\n",
    "plt.title('Receiver Operating Characteristic')\n",
    "plt.plot(false_positive_rate,true_positive_rate, color='red',label = 'AUC = %0.2f' % roc_auc)\n",
    "plt.legend(loc = 'lower right')\n",
    "plt.plot([0, 1], [0, 1],linestyle='--')\n",
    "plt.axis('tight')\n",
    "plt.ylabel('True Positive Rate')\n",
    "plt.xlabel('False Positive Rate')"
   ]
  },
  {
   "cell_type": "markdown",
   "id": "6700a273-5963-4d99-ad48-feaa68bcdd2c",
   "metadata": {},
   "source": [
    "Logistic Regression"
   ]
  },
  {
   "cell_type": "code",
   "execution_count": 21,
   "id": "9eee3b60-1106-4272-9b15-3847ffe5585a",
   "metadata": {},
   "outputs": [],
   "source": [
    "lr_pipeline = Pipeline(steps=[\n",
    "    ('processor', full_processor), \n",
    "    ('model', LogisticRegression())\n",
    "])\n",
    "\n",
    "lr = lr_pipeline.fit(X_train, y_train)"
   ]
  },
  {
   "cell_type": "code",
   "execution_count": 22,
   "id": "edcadad0-5d53-456b-8800-47a0c6e28f5f",
   "metadata": {
    "tags": []
   },
   "outputs": [],
   "source": [
    "lr_preds = lr_pipeline.predict(X_test)"
   ]
  },
  {
   "cell_type": "code",
   "execution_count": 23,
   "id": "87ab83c5-bd2d-46db-a7a4-959123524321",
   "metadata": {},
   "outputs": [
    {
     "data": {
      "image/png": "[encoded data removed]",
      "text/plain": [
       "<Figure size 432x288 with 2 Axes>"
      ]
     },
     "metadata": {
      "needs_background": "light"
     },
     "output_type": "display_data"
    }
   ],
   "source": [
    "plot_confusion_matrix(lr_pipeline, X_test, y_test, display_labels=['Edible', 'Poisonous']);\n"
   ]
  },
  {
   "cell_type": "code",
   "execution_count": 24,
   "id": "f99ccd23-2198-4f41-92aa-d6ffd1300ca2",
   "metadata": {},
   "outputs": [],
   "source": [
    "lr_proba = lr_pipeline.predict_proba(X_test)"
   ]
  },
  {
   "cell_type": "code",
   "execution_count": 25,
   "id": "dd5734a8-44b1-4c84-a8ab-9f0fce91be18",
   "metadata": {},
   "outputs": [],
   "source": [
    "lr_proba = lr_proba[:,1]"
   ]
  },
  {
   "cell_type": "code",
   "execution_count": 26,
   "id": "055a80d0-9e1b-481a-aa4e-439c4d414f40",
   "metadata": {},
   "outputs": [],
   "source": [
    "\n",
    "lr_auc = roc_auc_score(y_test,lr_proba)"
   ]
  },
  {
   "cell_type": "code",
   "execution_count": 27,
   "id": "91dd160d-93b9-4415-b950-70941f983ded",
   "metadata": {},
   "outputs": [
    {
     "data": {
      "text/plain": [
       "0.9005681818181818"
      ]
     },
     "execution_count": 27,
     "metadata": {},
     "output_type": "execute_result"
    }
   ],
   "source": [
    "from sklearn.metrics import roc_curve, auc\n",
    "false_positive_rate, true_positive_rate, thresholds = roc_curve(y_test, lr_proba)\n",
    "roc_auc = auc(false_positive_rate, true_positive_rate)\n",
    "roc_auc"
   ]
  },
  {
   "cell_type": "code",
   "execution_count": 28,
   "id": "0f878df2-6a7b-4b40-8fac-bb8c8f48873b",
   "metadata": {},
   "outputs": [
    {
     "data": {
      "text/plain": [
       "Text(0.5, 0, 'False Positive Rate')"
      ]
     },
     "execution_count": 28,
     "metadata": {},
     "output_type": "execute_result"
    },
    {
     "data": {
      "image/png": "[encoded data removed]",
      "text/plain": [
       "<Figure size 720x720 with 1 Axes>"
      ]
     },
     "metadata": {
      "needs_background": "light"
     },
     "output_type": "display_data"
    }
   ],
   "source": [
    "import matplotlib.pyplot as plt\n",
    "plt.figure(figsize=(10,10))\n",
    "plt.title('Receiver Operating Characteristic')\n",
    "plt.plot(false_positive_rate,true_positive_rate, color='red',label = 'AUC = %0.2f' % roc_auc)\n",
    "plt.legend(loc = 'lower right')\n",
    "plt.plot([0, 1], [0, 1],linestyle='--')\n",
    "plt.axis('tight')\n",
    "plt.ylabel('True Positive Rate')\n",
    "plt.xlabel('False Positive Rate')"
   ]
  },
  {
   "cell_type": "markdown",
   "id": "ad865b24-78f2-42a8-8ed0-a6b164a669fb",
   "metadata": {},
   "source": [
    "KNeighborsClassifier"
   ]
  },
  {
   "cell_type": "code",
   "execution_count": 29,
   "id": "416a92bf-c914-440a-9bb0-a6b6c6b52176",
   "metadata": {},
   "outputs": [
    {
     "data": {
      "image/png": "[encoded data removed]",
      "text/plain": [
       "<Figure size 432x288 with 2 Axes>"
      ]
     },
     "metadata": {
      "needs_background": "light"
     },
     "output_type": "display_data"
    }
   ],
   "source": [
    "knn_pipeline = Pipeline(steps=[\n",
    "    ('processor', full_processor), \n",
    "    ('model', KNeighborsClassifier(n_neighbors=6))\n",
    "])\n",
    "\n",
    "knn_model = knn_pipeline.fit(X_train, y_train)\n",
    "knn_preds = knn_pipeline.predict(X_test)\n",
    "plot_confusion_matrix(knn_pipeline, X_test, y_test, display_labels=['Edible', 'Poisonous']);"
   ]
  },
  {
   "cell_type": "code",
   "execution_count": 30,
   "id": "6d98bec8-895c-424d-b139-ae7ece355700",
   "metadata": {},
   "outputs": [],
   "source": [
    "knn_proba = knn_pipeline.predict_proba(X_test)\n",
    "knn_proba = knn_proba[:,1]\n",
    "knn_auc = roc_auc_score(y_test,knn_proba)"
   ]
  },
  {
   "cell_type": "code",
   "execution_count": 31,
   "id": "3622dc8a-99b4-4b09-a64f-111801636c81",
   "metadata": {},
   "outputs": [
    {
     "data": {
      "text/plain": [
       "0.9179292929292929"
      ]
     },
     "execution_count": 31,
     "metadata": {},
     "output_type": "execute_result"
    }
   ],
   "source": [
    "false_positive_rate, true_positive_rate, thresholds = roc_curve(y_test, knn_proba)\n",
    "roc_auc = auc(false_positive_rate, true_positive_rate)\n",
    "roc_auc"
   ]
  },
  {
   "cell_type": "code",
   "execution_count": 32,
   "id": "358b4671-3b55-47c4-81fe-1bac24cc8b6d",
   "metadata": {},
   "outputs": [
    {
     "data": {
      "text/plain": [
       "Text(0.5, 0, 'False Positive Rate')"
      ]
     },
     "execution_count": 32,
     "metadata": {},
     "output_type": "execute_result"
    },
    {
     "data": {
      "image/png": "[encoded data removed]",
      "text/plain": [
       "<Figure size 720x720 with 1 Axes>"
      ]
     },
     "metadata": {
      "needs_background": "light"
     },
     "output_type": "display_data"
    }
   ],
   "source": [
    "plt.figure(figsize=(10,10))\n",
    "plt.title('Receiver Operating Characteristic')\n",
    "plt.plot(false_positive_rate,true_positive_rate, color='red',label = 'AUC = %0.2f' % roc_auc)\n",
    "plt.legend(loc = 'lower right')\n",
    "plt.plot([0, 1], [0, 1],linestyle='--')\n",
    "plt.axis('tight')\n",
    "plt.ylabel('True Positive Rate')\n",
    "plt.xlabel('False Positive Rate')"
   ]
  },
  {
   "cell_type": "markdown",
   "id": "13db19d6-dca8-49d0-9b47-5016043ebb49",
   "metadata": {},
   "source": [
    "Random Forest Classifier"
   ]
  },
  {
   "cell_type": "code",
   "execution_count": 33,
   "id": "ac4a986b-f1e4-48a9-b4ee-4fbe141bd07f",
   "metadata": {},
   "outputs": [
    {
     "data": {
      "image/png": "[encoded data removed]",
      "text/plain": [
       "<Figure size 432x288 with 2 Axes>"
      ]
     },
     "metadata": {
      "needs_background": "light"
     },
     "output_type": "display_data"
    }
   ],
   "source": [
    "rf_pipeline = Pipeline(steps=[\n",
    "    ('processor', full_processor), \n",
    "    ('model', RandomForestClassifier(max_features=5, n_estimators=500))\n",
    "])\n",
    "\n",
    "rf_model = rf_pipeline.fit(X_train, y_train)\n",
    "rf_preds = rf_pipeline.predict(X_test)\n",
    "plot_confusion_matrix(rf_pipeline, X_test, y_test, display_labels=['Edible', 'Poisonous']);"
   ]
  },
  {
   "cell_type": "code",
   "execution_count": 34,
   "id": "e91c5394-5165-4c04-a9e7-d2e2c72aa377",
   "metadata": {},
   "outputs": [],
   "source": [
    "rf_proba = rf_pipeline.predict_proba(X_test)\n",
    "rf_proba = rf_proba[:,1]\n",
    "rf_auc = roc_auc_score(y_test,rf_proba)"
   ]
  },
  {
   "cell_type": "code",
   "execution_count": 35,
   "id": "09577464-94de-4c6b-bfbe-a47e5b9ac9d0",
   "metadata": {},
   "outputs": [
    {
     "data": {
      "text/plain": [
       "0.9179292929292929"
      ]
     },
     "execution_count": 35,
     "metadata": {},
     "output_type": "execute_result"
    }
   ],
   "source": [
    "false_positive_rate, true_positive_rate, thresholds = roc_curve(y_test, knn_proba)\n",
    "roc_auc = auc(false_positive_rate, true_positive_rate)\n",
    "roc_auc"
   ]
  },
  {
   "cell_type": "code",
   "execution_count": 36,
   "id": "7fb24a5c-d29f-4b81-b145-e69a27f7bef7",
   "metadata": {},
   "outputs": [
    {
     "data": {
      "text/plain": [
       "Text(0.5, 0, 'False Positive Rate')"
      ]
     },
     "execution_count": 36,
     "metadata": {},
     "output_type": "execute_result"
    },
    {
     "data": {
      "image/png": "[encoded data removed]",
      "text/plain": [
       "<Figure size 720x720 with 1 Axes>"
      ]
     },
     "metadata": {
      "needs_background": "light"
     },
     "output_type": "display_data"
    }
   ],
   "source": [
    "plt.figure(figsize=(10,10))\n",
    "plt.title('Receiver Operating Characteristic')\n",
    "plt.plot(false_positive_rate,true_positive_rate, color='red',label = 'AUC = %0.2f' % roc_auc)\n",
    "plt.legend(loc = 'lower right')\n",
    "plt.plot([0, 1], [0, 1],linestyle='--')\n",
    "plt.axis('tight')\n",
    "plt.ylabel('True Positive Rate')\n",
    "plt.xlabel('False Positive Rate')"
   ]
  },
  {
   "cell_type": "code",
   "execution_count": 37,
   "id": "24376b2a-f314-479c-9c58-8101e8c675f8",
   "metadata": {},
   "outputs": [],
   "source": [
    "from sklearn.metrics import confusion_matrix, accuracy_score, roc_auc_score\n",
    "def error_metrics(y_true, y_pred, model, data): \n",
    "    print(f\"\"\"\n",
    "    accuracy: {accuracy_score(y_true, y_pred)}\n",
    "    roc_auc: {roc_auc_score(y_true, y_pred)}\n",
    "    confusion matrix: \n",
    "    \"\"\")\n",
    "    cols_names = ['edible','poisonous']\n",
    "    print(\n",
    "        pd.DataFrame(\n",
    "            confusion_matrix(y_true, y_pred), \n",
    "            columns=cols_names, \n",
    "            index=cols_names)\n",
    "        )"
   ]
  },
  {
   "cell_type": "code",
   "execution_count": 38,
   "id": "c8ae81f0-37d9-4ee4-bd10-90571603eee6",
   "metadata": {},
   "outputs": [
    {
     "name": "stdout",
     "output_type": "stream",
     "text": [
      "\n",
      "    accuracy: 0.41139240506329117\n",
      "    roc_auc: 0.5349999999999999\n",
      "    confusion matrix: \n",
      "    \n",
      "           edible  poisonous\n",
      "edible         14        186\n",
      "poisonous       0        116\n"
     ]
    }
   ],
   "source": [
    "def cautious_model(poisinous_prob): \n",
    "    if poisinous_prob > 0: \n",
    "        return 1\n",
    "    else: \n",
    "        return 0\n",
    "\n",
    "def preds_review(model, data): \n",
    "    prob_df = (\n",
    "        pd.DataFrame(\n",
    "            model.predict_proba(data), \n",
    "            columns=['edible','poisonous']\n",
    "        ))\n",
    "    preds = [cautious_model(pois_prob) for pois_prob in prob_df['poisonous']]\n",
    "    return preds\n",
    "\n",
    "y_pred = preds_review(rf_pipeline, X_train)\n",
    "error_metrics(y_train, y_pred, rf_pipeline, X_train)"
   ]
  },
  {
   "cell_type": "code",
   "execution_count": 39,
   "id": "60821ab6-af0a-49df-a581-904f44992a24",
   "metadata": {},
   "outputs": [],
   "source": [
    "test = pd.read_csv('./test.csv')\n",
    "#results = pd.read_csv('./results.csv')\n",
    "test.set_index('Id', inplace=True)\n",
    "\n",
    "#results.drop(columns='Id', inplace=True)\n",
    "#X_test_enc = ohe.transform(test)"
   ]
  },
  {
   "cell_type": "code",
   "execution_count": 40,
   "id": "0f45f333-b2de-48dc-b0e5-00319fc831e2",
   "metadata": {},
   "outputs": [],
   "source": [
    "sub_preds = rf_pipeline.predict(test)\n",
    "\n",
    "submission_file = pd.DataFrame({\n",
    "    'Id': data_test['Id'],\n",
    "    'poisonous': sub_preds\n",
    "}).to_csv('submission.csv', index=False)"
   ]
  },
  {
   "cell_type": "code",
   "execution_count": null,
   "id": "9e6c1ce2-d8af-4681-8403-6499a00bd3df",
   "metadata": {},
   "outputs": [],
   "source": []
  },
  {
   "cell_type": "code",
   "execution_count": null,
   "id": "a5696590-7784-4a27-a949-645fb98bfa9f",
   "metadata": {},
   "outputs": [],
   "source": []
  }
 ],
 "metadata": {
  "kernelspec": {
   "display_name": "Python 3",
   "language": "python",
   "name": "python3"
  },
  "language_info": {
   "codemirror_mode": {
    "name": "ipython",
    "version": 3
   },
   "file_extension": ".py",
   "mimetype": "text/x-python",
   "name": "python",
   "nbconvert_exporter": "python",
   "pygments_lexer": "ipython3",
   "version": "3.8.8"
  },
  "papermill": {
   "default_parameters": {},
   "duration": 472.829753,
   "end_time": "2021-12-14T22:02:11.171804",
   "environment_variables": {},
   "exception": null,
   "input_path": "__notebook__.ipynb",
   "output_path": "__notebook__.ipynb",
   "parameters": {},
   "start_time": "2021-12-14T21:54:18.342051",
   "version": "2.3.3"
  }
 },
 "nbformat": 4,
 "nbformat_minor": 5
}
