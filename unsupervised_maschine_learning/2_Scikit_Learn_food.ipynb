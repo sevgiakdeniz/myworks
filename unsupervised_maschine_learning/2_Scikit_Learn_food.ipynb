{
 "cells": [
  {
   "cell_type": "markdown",
   "metadata": {},
   "source": [
    "# Scikit-Learn & Clustering"
   ]
  },
  {
   "cell_type": "markdown",
   "metadata": {},
   "source": [
    "## Scaling with Scikit-Learn Transformers"
   ]
  },
  {
   "cell_type": "code",
   "execution_count": 56,
   "metadata": {},
   "outputs": [],
   "source": [
    "import pandas as pd\n",
    "food = pd.read_csv(\"food_ratings - DS003.csv\", nrows=12)\n",
    "food.set_index(\"student\", inplace=True)\n",
    "food.drop(columns=[\"favorite_color\"], inplace=True)"
   ]
  },
  {
   "cell_type": "code",
   "execution_count": 57,
   "metadata": {},
   "outputs": [
    {
     "data": {
      "text/html": [
       "<div>\n",
       "<style scoped>\n",
       "    .dataframe tbody tr th:only-of-type {\n",
       "        vertical-align: middle;\n",
       "    }\n",
       "\n",
       "    .dataframe tbody tr th {\n",
       "        vertical-align: top;\n",
       "    }\n",
       "\n",
       "    .dataframe thead th {\n",
       "        text-align: right;\n",
       "    }\n",
       "</style>\n",
       "<table border=\"1\" class=\"dataframe\">\n",
       "  <thead>\n",
       "    <tr style=\"text-align: right;\">\n",
       "      <th></th>\n",
       "      <th>broccoli</th>\n",
       "      <th>brussels_sprouts</th>\n",
       "      <th>hamburger</th>\n",
       "      <th>oysters (raw)</th>\n",
       "      <th>onion (raw)</th>\n",
       "      <th>peas</th>\n",
       "      <th>olives</th>\n",
       "      <th>blue_cheese</th>\n",
       "      <th>whisky</th>\n",
       "      <th>age</th>\n",
       "    </tr>\n",
       "    <tr>\n",
       "      <th>student</th>\n",
       "      <th></th>\n",
       "      <th></th>\n",
       "      <th></th>\n",
       "      <th></th>\n",
       "      <th></th>\n",
       "      <th></th>\n",
       "      <th></th>\n",
       "      <th></th>\n",
       "      <th></th>\n",
       "      <th></th>\n",
       "    </tr>\n",
       "  </thead>\n",
       "  <tbody>\n",
       "    <tr>\n",
       "      <th>Akbar</th>\n",
       "      <td>7</td>\n",
       "      <td>0</td>\n",
       "      <td>5</td>\n",
       "      <td>2</td>\n",
       "      <td>3</td>\n",
       "      <td>4</td>\n",
       "      <td>8</td>\n",
       "      <td>8</td>\n",
       "      <td>7</td>\n",
       "      <td>32</td>\n",
       "    </tr>\n",
       "    <tr>\n",
       "      <th>Andreas</th>\n",
       "      <td>7</td>\n",
       "      <td>7</td>\n",
       "      <td>7</td>\n",
       "      <td>1</td>\n",
       "      <td>7</td>\n",
       "      <td>3</td>\n",
       "      <td>3</td>\n",
       "      <td>5</td>\n",
       "      <td>7</td>\n",
       "      <td>34</td>\n",
       "    </tr>\n",
       "    <tr>\n",
       "      <th>Dónal</th>\n",
       "      <td>8</td>\n",
       "      <td>6</td>\n",
       "      <td>8</td>\n",
       "      <td>5</td>\n",
       "      <td>1</td>\n",
       "      <td>5</td>\n",
       "      <td>8</td>\n",
       "      <td>10</td>\n",
       "      <td>10</td>\n",
       "      <td>35</td>\n",
       "    </tr>\n",
       "    <tr>\n",
       "      <th>Hana</th>\n",
       "      <td>5</td>\n",
       "      <td>8</td>\n",
       "      <td>8</td>\n",
       "      <td>8</td>\n",
       "      <td>5</td>\n",
       "      <td>7</td>\n",
       "      <td>9</td>\n",
       "      <td>8</td>\n",
       "      <td>7</td>\n",
       "      <td>31</td>\n",
       "    </tr>\n",
       "    <tr>\n",
       "      <th>Konstantinos</th>\n",
       "      <td>5</td>\n",
       "      <td>7</td>\n",
       "      <td>1</td>\n",
       "      <td>0</td>\n",
       "      <td>7</td>\n",
       "      <td>8</td>\n",
       "      <td>10</td>\n",
       "      <td>2</td>\n",
       "      <td>7</td>\n",
       "      <td>28</td>\n",
       "    </tr>\n",
       "    <tr>\n",
       "      <th>Kristina</th>\n",
       "      <td>9</td>\n",
       "      <td>8</td>\n",
       "      <td>5</td>\n",
       "      <td>0</td>\n",
       "      <td>7</td>\n",
       "      <td>7</td>\n",
       "      <td>9</td>\n",
       "      <td>4</td>\n",
       "      <td>7</td>\n",
       "      <td>36</td>\n",
       "    </tr>\n",
       "    <tr>\n",
       "      <th>Sabrina</th>\n",
       "      <td>6</td>\n",
       "      <td>8</td>\n",
       "      <td>10</td>\n",
       "      <td>0</td>\n",
       "      <td>8</td>\n",
       "      <td>8</td>\n",
       "      <td>10</td>\n",
       "      <td>0</td>\n",
       "      <td>2</td>\n",
       "      <td>30</td>\n",
       "    </tr>\n",
       "    <tr>\n",
       "      <th>Sandrine</th>\n",
       "      <td>10</td>\n",
       "      <td>2</td>\n",
       "      <td>8</td>\n",
       "      <td>0</td>\n",
       "      <td>5</td>\n",
       "      <td>8</td>\n",
       "      <td>10</td>\n",
       "      <td>10</td>\n",
       "      <td>0</td>\n",
       "      <td>41</td>\n",
       "    </tr>\n",
       "    <tr>\n",
       "      <th>Sevgi</th>\n",
       "      <td>6</td>\n",
       "      <td>2</td>\n",
       "      <td>9</td>\n",
       "      <td>0</td>\n",
       "      <td>5</td>\n",
       "      <td>7</td>\n",
       "      <td>10</td>\n",
       "      <td>0</td>\n",
       "      <td>0</td>\n",
       "      <td>38</td>\n",
       "    </tr>\n",
       "    <tr>\n",
       "      <th>Rias</th>\n",
       "      <td>8</td>\n",
       "      <td>6</td>\n",
       "      <td>8</td>\n",
       "      <td>5</td>\n",
       "      <td>0</td>\n",
       "      <td>6</td>\n",
       "      <td>8</td>\n",
       "      <td>8</td>\n",
       "      <td>10</td>\n",
       "      <td>33</td>\n",
       "    </tr>\n",
       "    <tr>\n",
       "      <th>Ben</th>\n",
       "      <td>8</td>\n",
       "      <td>8</td>\n",
       "      <td>5</td>\n",
       "      <td>4</td>\n",
       "      <td>5</td>\n",
       "      <td>9</td>\n",
       "      <td>10</td>\n",
       "      <td>9</td>\n",
       "      <td>10</td>\n",
       "      <td>35</td>\n",
       "    </tr>\n",
       "    <tr>\n",
       "      <th>Joan</th>\n",
       "      <td>6</td>\n",
       "      <td>0</td>\n",
       "      <td>8</td>\n",
       "      <td>0</td>\n",
       "      <td>7</td>\n",
       "      <td>2</td>\n",
       "      <td>8</td>\n",
       "      <td>9</td>\n",
       "      <td>6</td>\n",
       "      <td>88</td>\n",
       "    </tr>\n",
       "  </tbody>\n",
       "</table>\n",
       "</div>"
      ],
      "text/plain": [
       "              broccoli  brussels_sprouts  hamburger  oysters (raw)  \\\n",
       "student                                                              \n",
       "Akbar                7                 0          5              2   \n",
       "Andreas              7                 7          7              1   \n",
       "Dónal                8                 6          8              5   \n",
       "Hana                 5                 8          8              8   \n",
       "Konstantinos         5                 7          1              0   \n",
       "Kristina             9                 8          5              0   \n",
       "Sabrina              6                 8         10              0   \n",
       "Sandrine            10                 2          8              0   \n",
       "Sevgi                6                 2          9              0   \n",
       "Rias                 8                 6          8              5   \n",
       "Ben                  8                 8          5              4   \n",
       "Joan                 6                 0          8              0   \n",
       "\n",
       "               onion (raw)  peas  olives  blue_cheese  whisky  age  \n",
       "student                                                             \n",
       "Akbar                    3     4       8            8       7   32  \n",
       "Andreas                  7     3       3            5       7   34  \n",
       "Dónal                    1     5       8           10      10   35  \n",
       "Hana                     5     7       9            8       7   31  \n",
       "Konstantinos             7     8      10            2       7   28  \n",
       "Kristina                 7     7       9            4       7   36  \n",
       "Sabrina                  8     8      10            0       2   30  \n",
       "Sandrine                 5     8      10           10       0   41  \n",
       "Sevgi                    5     7      10            0       0   38  \n",
       "Rias                     0     6       8            8      10   33  \n",
       "Ben                      5     9      10            9      10   35  \n",
       "Joan                     7     2       8            9       6   88  "
      ]
     },
     "execution_count": 57,
     "metadata": {},
     "output_type": "execute_result"
    }
   ],
   "source": [
    "food"
   ]
  },
  {
   "cell_type": "markdown",
   "metadata": {},
   "source": [
    "Using a transformer in 4 simple steps:\n",
    "\n",
    "1. Import it from the appropriate sklearn submodule (google search + docs!)\n",
    "2. Initialize it with the appropriate parameters\n",
    "3. Fit it to your data\n",
    "4. Use it to transform the data"
   ]
  },
  {
   "cell_type": "code",
   "execution_count": 65,
   "metadata": {},
   "outputs": [
    {
     "data": {
      "text/plain": [
       "MinMaxScaler()"
      ]
     },
     "execution_count": 65,
     "metadata": {},
     "output_type": "execute_result"
    }
   ],
   "source": [
    "# 1. import\n",
    "from sklearn.preprocessing import MinMaxScaler\n",
    "\n",
    "# 2. initialize\n",
    "minmax = MinMaxScaler(feature_range=(0,1))\n",
    "\n",
    "# 3. fit\n",
    "minmax.fit(food)"
   ]
  },
  {
   "cell_type": "code",
   "execution_count": 59,
   "metadata": {},
   "outputs": [],
   "source": [
    "# 4. transform\n",
    "food_scaled = minmax.transform(food)"
   ]
  },
  {
   "cell_type": "code",
   "execution_count": 60,
   "metadata": {},
   "outputs": [],
   "source": [
    "food_scaled = pd.DataFrame(food_scaled, columns = food.columns, index = food.index)"
   ]
  },
  {
   "cell_type": "code",
   "execution_count": 61,
   "metadata": {},
   "outputs": [
    {
     "data": {
      "text/html": [
       "<div>\n",
       "<style scoped>\n",
       "    .dataframe tbody tr th:only-of-type {\n",
       "        vertical-align: middle;\n",
       "    }\n",
       "\n",
       "    .dataframe tbody tr th {\n",
       "        vertical-align: top;\n",
       "    }\n",
       "\n",
       "    .dataframe thead th {\n",
       "        text-align: right;\n",
       "    }\n",
       "</style>\n",
       "<table border=\"1\" class=\"dataframe\">\n",
       "  <thead>\n",
       "    <tr style=\"text-align: right;\">\n",
       "      <th></th>\n",
       "      <th>broccoli</th>\n",
       "      <th>brussels_sprouts</th>\n",
       "      <th>hamburger</th>\n",
       "      <th>oysters (raw)</th>\n",
       "      <th>onion (raw)</th>\n",
       "      <th>peas</th>\n",
       "      <th>olives</th>\n",
       "      <th>blue_cheese</th>\n",
       "      <th>whisky</th>\n",
       "      <th>age</th>\n",
       "    </tr>\n",
       "    <tr>\n",
       "      <th>student</th>\n",
       "      <th></th>\n",
       "      <th></th>\n",
       "      <th></th>\n",
       "      <th></th>\n",
       "      <th></th>\n",
       "      <th></th>\n",
       "      <th></th>\n",
       "      <th></th>\n",
       "      <th></th>\n",
       "      <th></th>\n",
       "    </tr>\n",
       "  </thead>\n",
       "  <tbody>\n",
       "    <tr>\n",
       "      <th>Akbar</th>\n",
       "      <td>0.4</td>\n",
       "      <td>0.000</td>\n",
       "      <td>0.444444</td>\n",
       "      <td>0.250</td>\n",
       "      <td>0.375</td>\n",
       "      <td>0.285714</td>\n",
       "      <td>0.714286</td>\n",
       "      <td>0.8</td>\n",
       "      <td>0.7</td>\n",
       "      <td>0.066667</td>\n",
       "    </tr>\n",
       "    <tr>\n",
       "      <th>Andreas</th>\n",
       "      <td>0.4</td>\n",
       "      <td>0.875</td>\n",
       "      <td>0.666667</td>\n",
       "      <td>0.125</td>\n",
       "      <td>0.875</td>\n",
       "      <td>0.142857</td>\n",
       "      <td>0.000000</td>\n",
       "      <td>0.5</td>\n",
       "      <td>0.7</td>\n",
       "      <td>0.100000</td>\n",
       "    </tr>\n",
       "    <tr>\n",
       "      <th>Dónal</th>\n",
       "      <td>0.6</td>\n",
       "      <td>0.750</td>\n",
       "      <td>0.777778</td>\n",
       "      <td>0.625</td>\n",
       "      <td>0.125</td>\n",
       "      <td>0.428571</td>\n",
       "      <td>0.714286</td>\n",
       "      <td>1.0</td>\n",
       "      <td>1.0</td>\n",
       "      <td>0.116667</td>\n",
       "    </tr>\n",
       "    <tr>\n",
       "      <th>Hana</th>\n",
       "      <td>0.0</td>\n",
       "      <td>1.000</td>\n",
       "      <td>0.777778</td>\n",
       "      <td>1.000</td>\n",
       "      <td>0.625</td>\n",
       "      <td>0.714286</td>\n",
       "      <td>0.857143</td>\n",
       "      <td>0.8</td>\n",
       "      <td>0.7</td>\n",
       "      <td>0.050000</td>\n",
       "    </tr>\n",
       "    <tr>\n",
       "      <th>Konstantinos</th>\n",
       "      <td>0.0</td>\n",
       "      <td>0.875</td>\n",
       "      <td>0.000000</td>\n",
       "      <td>0.000</td>\n",
       "      <td>0.875</td>\n",
       "      <td>0.857143</td>\n",
       "      <td>1.000000</td>\n",
       "      <td>0.2</td>\n",
       "      <td>0.7</td>\n",
       "      <td>0.000000</td>\n",
       "    </tr>\n",
       "    <tr>\n",
       "      <th>Kristina</th>\n",
       "      <td>0.8</td>\n",
       "      <td>1.000</td>\n",
       "      <td>0.444444</td>\n",
       "      <td>0.000</td>\n",
       "      <td>0.875</td>\n",
       "      <td>0.714286</td>\n",
       "      <td>0.857143</td>\n",
       "      <td>0.4</td>\n",
       "      <td>0.7</td>\n",
       "      <td>0.133333</td>\n",
       "    </tr>\n",
       "    <tr>\n",
       "      <th>Sabrina</th>\n",
       "      <td>0.2</td>\n",
       "      <td>1.000</td>\n",
       "      <td>1.000000</td>\n",
       "      <td>0.000</td>\n",
       "      <td>1.000</td>\n",
       "      <td>0.857143</td>\n",
       "      <td>1.000000</td>\n",
       "      <td>0.0</td>\n",
       "      <td>0.2</td>\n",
       "      <td>0.033333</td>\n",
       "    </tr>\n",
       "    <tr>\n",
       "      <th>Sandrine</th>\n",
       "      <td>1.0</td>\n",
       "      <td>0.250</td>\n",
       "      <td>0.777778</td>\n",
       "      <td>0.000</td>\n",
       "      <td>0.625</td>\n",
       "      <td>0.857143</td>\n",
       "      <td>1.000000</td>\n",
       "      <td>1.0</td>\n",
       "      <td>0.0</td>\n",
       "      <td>0.216667</td>\n",
       "    </tr>\n",
       "    <tr>\n",
       "      <th>Sevgi</th>\n",
       "      <td>0.2</td>\n",
       "      <td>0.250</td>\n",
       "      <td>0.888889</td>\n",
       "      <td>0.000</td>\n",
       "      <td>0.625</td>\n",
       "      <td>0.714286</td>\n",
       "      <td>1.000000</td>\n",
       "      <td>0.0</td>\n",
       "      <td>0.0</td>\n",
       "      <td>0.166667</td>\n",
       "    </tr>\n",
       "    <tr>\n",
       "      <th>Rias</th>\n",
       "      <td>0.6</td>\n",
       "      <td>0.750</td>\n",
       "      <td>0.777778</td>\n",
       "      <td>0.625</td>\n",
       "      <td>0.000</td>\n",
       "      <td>0.571429</td>\n",
       "      <td>0.714286</td>\n",
       "      <td>0.8</td>\n",
       "      <td>1.0</td>\n",
       "      <td>0.083333</td>\n",
       "    </tr>\n",
       "    <tr>\n",
       "      <th>Ben</th>\n",
       "      <td>0.6</td>\n",
       "      <td>1.000</td>\n",
       "      <td>0.444444</td>\n",
       "      <td>0.500</td>\n",
       "      <td>0.625</td>\n",
       "      <td>1.000000</td>\n",
       "      <td>1.000000</td>\n",
       "      <td>0.9</td>\n",
       "      <td>1.0</td>\n",
       "      <td>0.116667</td>\n",
       "    </tr>\n",
       "    <tr>\n",
       "      <th>Joan</th>\n",
       "      <td>0.2</td>\n",
       "      <td>0.000</td>\n",
       "      <td>0.777778</td>\n",
       "      <td>0.000</td>\n",
       "      <td>0.875</td>\n",
       "      <td>0.000000</td>\n",
       "      <td>0.714286</td>\n",
       "      <td>0.9</td>\n",
       "      <td>0.6</td>\n",
       "      <td>1.000000</td>\n",
       "    </tr>\n",
       "  </tbody>\n",
       "</table>\n",
       "</div>"
      ],
      "text/plain": [
       "              broccoli  brussels_sprouts  hamburger  oysters (raw)  \\\n",
       "student                                                              \n",
       "Akbar              0.4             0.000   0.444444          0.250   \n",
       "Andreas            0.4             0.875   0.666667          0.125   \n",
       "Dónal              0.6             0.750   0.777778          0.625   \n",
       "Hana               0.0             1.000   0.777778          1.000   \n",
       "Konstantinos       0.0             0.875   0.000000          0.000   \n",
       "Kristina           0.8             1.000   0.444444          0.000   \n",
       "Sabrina            0.2             1.000   1.000000          0.000   \n",
       "Sandrine           1.0             0.250   0.777778          0.000   \n",
       "Sevgi              0.2             0.250   0.888889          0.000   \n",
       "Rias               0.6             0.750   0.777778          0.625   \n",
       "Ben                0.6             1.000   0.444444          0.500   \n",
       "Joan               0.2             0.000   0.777778          0.000   \n",
       "\n",
       "               onion (raw)      peas    olives  blue_cheese  whisky       age  \n",
       "student                                                                        \n",
       "Akbar                0.375  0.285714  0.714286          0.8     0.7  0.066667  \n",
       "Andreas              0.875  0.142857  0.000000          0.5     0.7  0.100000  \n",
       "Dónal                0.125  0.428571  0.714286          1.0     1.0  0.116667  \n",
       "Hana                 0.625  0.714286  0.857143          0.8     0.7  0.050000  \n",
       "Konstantinos         0.875  0.857143  1.000000          0.2     0.7  0.000000  \n",
       "Kristina             0.875  0.714286  0.857143          0.4     0.7  0.133333  \n",
       "Sabrina              1.000  0.857143  1.000000          0.0     0.2  0.033333  \n",
       "Sandrine             0.625  0.857143  1.000000          1.0     0.0  0.216667  \n",
       "Sevgi                0.625  0.714286  1.000000          0.0     0.0  0.166667  \n",
       "Rias                 0.000  0.571429  0.714286          0.8     1.0  0.083333  \n",
       "Ben                  0.625  1.000000  1.000000          0.9     1.0  0.116667  \n",
       "Joan                 0.875  0.000000  0.714286          0.9     0.6  1.000000  "
      ]
     },
     "execution_count": 61,
     "metadata": {},
     "output_type": "execute_result"
    }
   ],
   "source": [
    "food_scaled"
   ]
  },
  {
   "cell_type": "markdown",
   "metadata": {},
   "source": [
    "#### Exercise: standardize the data with a Scikit-Learn Transformer"
   ]
  },
  {
   "cell_type": "code",
   "execution_count": 66,
   "metadata": {},
   "outputs": [],
   "source": [
    "## code here\n",
    "from sklearn.preprocessing import StandardScaler\n",
    "\n",
    "std_scler = StandardScaler()\n"
   ]
  },
  {
   "cell_type": "code",
   "execution_count": 67,
   "metadata": {},
   "outputs": [
    {
     "data": {
      "text/plain": [
       "StandardScaler()"
      ]
     },
     "execution_count": 67,
     "metadata": {},
     "output_type": "execute_result"
    }
   ],
   "source": [
    "std_scler.fit(food)"
   ]
  },
  {
   "cell_type": "code",
   "execution_count": 68,
   "metadata": {},
   "outputs": [
    {
     "data": {
      "text/plain": [
       "array([[-0.05564149, -1.67874412, -0.78371755, -0.03170213, -0.82807867,\n",
       "        -1.02454353, -0.30845685,  0.53344315,  0.26749821, -0.4186576 ],\n",
       "       [-0.05564149,  0.5956834 ,  0.07124705, -0.41212771,  0.82807867,\n",
       "        -1.49740977, -2.95237275, -0.30151134,  0.26749821, -0.28816692],\n",
       "       [ 0.61205637,  0.27076518,  0.49872935,  1.10957459, -1.65615734,\n",
       "        -0.55167728, -0.30845685,  1.09007948,  1.1429469 , -0.22292158],\n",
       "       [-1.39103721,  0.92060161,  0.49872935,  2.25085132,  0.        ,\n",
       "         0.3940552 ,  0.22032632,  0.53344315,  0.26749821, -0.48390294],\n",
       "       [-1.39103721,  0.5956834 , -2.49364675, -0.79255328,  0.82807867,\n",
       "         0.86692145,  0.7491095 , -1.13646584,  0.26749821, -0.67963897],\n",
       "       [ 1.27975423,  0.92060161, -0.78371755, -0.79255328,  0.82807867,\n",
       "         0.3940552 ,  0.22032632, -0.57982951,  0.26749821, -0.15767624],\n",
       "       [-0.72333935,  0.92060161,  1.35369395, -0.79255328,  1.24211801,\n",
       "         0.86692145,  0.7491095 , -1.69310217, -1.19158294, -0.54914829],\n",
       "       [ 1.94745209, -1.02890769,  0.49872935, -0.79255328,  0.        ,\n",
       "         0.86692145,  0.7491095 ,  1.09007948, -1.7752154 ,  0.16855046],\n",
       "       [-0.72333935, -1.02890769,  0.92621165, -0.79255328,  0.        ,\n",
       "         0.3940552 ,  0.7491095 , -1.69310217, -1.7752154 , -0.02718556],\n",
       "       [ 0.61205637,  0.27076518,  0.49872935,  1.10957459, -2.07019668,\n",
       "        -0.07881104, -0.30845685,  0.53344315,  1.1429469 , -0.35341226],\n",
       "       [ 0.61205637,  0.92060161, -0.78371755,  0.72914902,  0.        ,\n",
       "         1.33978769,  0.7491095 ,  0.81176131,  1.1429469 , -0.22292158],\n",
       "       [-0.72333935, -1.67874412,  0.49872935, -0.79255328,  0.82807867,\n",
       "        -1.97027602, -0.30845685,  0.81176131, -0.02431802,  3.23508148]])"
      ]
     },
     "execution_count": 68,
     "metadata": {},
     "output_type": "execute_result"
    }
   ],
   "source": [
    "std_scler.transform(food)"
   ]
  },
  {
   "cell_type": "code",
   "execution_count": 69,
   "metadata": {},
   "outputs": [
    {
     "data": {
      "text/plain": [
       "array([[-0.05564149, -1.67874412, -0.78371755, -0.03170213, -0.82807867,\n",
       "        -1.02454353, -0.30845685,  0.53344315,  0.26749821, -0.4186576 ],\n",
       "       [-0.05564149,  0.5956834 ,  0.07124705, -0.41212771,  0.82807867,\n",
       "        -1.49740977, -2.95237275, -0.30151134,  0.26749821, -0.28816692],\n",
       "       [ 0.61205637,  0.27076518,  0.49872935,  1.10957459, -1.65615734,\n",
       "        -0.55167728, -0.30845685,  1.09007948,  1.1429469 , -0.22292158],\n",
       "       [-1.39103721,  0.92060161,  0.49872935,  2.25085132,  0.        ,\n",
       "         0.3940552 ,  0.22032632,  0.53344315,  0.26749821, -0.48390294],\n",
       "       [-1.39103721,  0.5956834 , -2.49364675, -0.79255328,  0.82807867,\n",
       "         0.86692145,  0.7491095 , -1.13646584,  0.26749821, -0.67963897],\n",
       "       [ 1.27975423,  0.92060161, -0.78371755, -0.79255328,  0.82807867,\n",
       "         0.3940552 ,  0.22032632, -0.57982951,  0.26749821, -0.15767624],\n",
       "       [-0.72333935,  0.92060161,  1.35369395, -0.79255328,  1.24211801,\n",
       "         0.86692145,  0.7491095 , -1.69310217, -1.19158294, -0.54914829],\n",
       "       [ 1.94745209, -1.02890769,  0.49872935, -0.79255328,  0.        ,\n",
       "         0.86692145,  0.7491095 ,  1.09007948, -1.7752154 ,  0.16855046],\n",
       "       [-0.72333935, -1.02890769,  0.92621165, -0.79255328,  0.        ,\n",
       "         0.3940552 ,  0.7491095 , -1.69310217, -1.7752154 , -0.02718556],\n",
       "       [ 0.61205637,  0.27076518,  0.49872935,  1.10957459, -2.07019668,\n",
       "        -0.07881104, -0.30845685,  0.53344315,  1.1429469 , -0.35341226],\n",
       "       [ 0.61205637,  0.92060161, -0.78371755,  0.72914902,  0.        ,\n",
       "         1.33978769,  0.7491095 ,  0.81176131,  1.1429469 , -0.22292158],\n",
       "       [-0.72333935, -1.67874412,  0.49872935, -0.79255328,  0.82807867,\n",
       "        -1.97027602, -0.30845685,  0.81176131, -0.02431802,  3.23508148]])"
      ]
     },
     "execution_count": 69,
     "metadata": {},
     "output_type": "execute_result"
    }
   ],
   "source": [
    "std_scler.fit_transform(food)"
   ]
  },
  {
   "cell_type": "code",
   "execution_count": 72,
   "metadata": {},
   "outputs": [
    {
     "data": {
      "text/plain": [
       "array([[-0.05564149, -1.67874412, -0.78371755, -0.03170213, -0.82807867,\n",
       "        -1.02454353, -0.30845685,  0.53344315,  0.26749821, -0.4186576 ],\n",
       "       [-0.05564149,  0.5956834 ,  0.07124705, -0.41212771,  0.82807867,\n",
       "        -1.49740977, -2.95237275, -0.30151134,  0.26749821, -0.28816692],\n",
       "       [ 0.61205637,  0.27076518,  0.49872935,  1.10957459, -1.65615734,\n",
       "        -0.55167728, -0.30845685,  1.09007948,  1.1429469 , -0.22292158],\n",
       "       [-1.39103721,  0.92060161,  0.49872935,  2.25085132,  0.        ,\n",
       "         0.3940552 ,  0.22032632,  0.53344315,  0.26749821, -0.48390294],\n",
       "       [-1.39103721,  0.5956834 , -2.49364675, -0.79255328,  0.82807867,\n",
       "         0.86692145,  0.7491095 , -1.13646584,  0.26749821, -0.67963897],\n",
       "       [ 1.27975423,  0.92060161, -0.78371755, -0.79255328,  0.82807867,\n",
       "         0.3940552 ,  0.22032632, -0.57982951,  0.26749821, -0.15767624],\n",
       "       [-0.72333935,  0.92060161,  1.35369395, -0.79255328,  1.24211801,\n",
       "         0.86692145,  0.7491095 , -1.69310217, -1.19158294, -0.54914829],\n",
       "       [ 1.94745209, -1.02890769,  0.49872935, -0.79255328,  0.        ,\n",
       "         0.86692145,  0.7491095 ,  1.09007948, -1.7752154 ,  0.16855046],\n",
       "       [-0.72333935, -1.02890769,  0.92621165, -0.79255328,  0.        ,\n",
       "         0.3940552 ,  0.7491095 , -1.69310217, -1.7752154 , -0.02718556],\n",
       "       [ 0.61205637,  0.27076518,  0.49872935,  1.10957459, -2.07019668,\n",
       "        -0.07881104, -0.30845685,  0.53344315,  1.1429469 , -0.35341226],\n",
       "       [ 0.61205637,  0.92060161, -0.78371755,  0.72914902,  0.        ,\n",
       "         1.33978769,  0.7491095 ,  0.81176131,  1.1429469 , -0.22292158],\n",
       "       [-0.72333935, -1.67874412,  0.49872935, -0.79255328,  0.82807867,\n",
       "        -1.97027602, -0.30845685,  0.81176131, -0.02431802,  3.23508148]])"
      ]
     },
     "execution_count": 72,
     "metadata": {},
     "output_type": "execute_result"
    }
   ],
   "source": [
    "from sklearn.preprocessing import StandardScaler\n",
    "StandardScaler().fit_transform(food)"
   ]
  },
  {
   "cell_type": "markdown",
   "metadata": {},
   "source": [
    "#### Bonus: create a function to range-scale the data, and then turn that function into a Scikit-Learn Transformer using `FunctionTransformer`"
   ]
  },
  {
   "cell_type": "code",
   "execution_count": 9,
   "metadata": {},
   "outputs": [],
   "source": [
    "## code here"
   ]
  },
  {
   "cell_type": "markdown",
   "metadata": {},
   "source": [
    "## K-Means algorithm"
   ]
  },
  {
   "cell_type": "code",
   "execution_count": 73,
   "metadata": {},
   "outputs": [
    {
     "data": {
      "text/plain": [
       "KMeans(n_clusters=3)"
      ]
     },
     "execution_count": 73,
     "metadata": {},
     "output_type": "execute_result"
    }
   ],
   "source": [
    "# import\n",
    "from sklearn.cluster import KMeans\n",
    "\n",
    "# initialize with parameters\n",
    "food_kmeans = KMeans(n_clusters = 3)\n",
    "\n",
    "# fit\n",
    "food_kmeans.fit(food_scaled)"
   ]
  },
  {
   "cell_type": "code",
   "execution_count": 74,
   "metadata": {},
   "outputs": [
    {
     "data": {
      "text/plain": [
       "array([1, 1, 2, 2, 0, 0, 0, 1, 0, 2, 2, 1], dtype=int32)"
      ]
     },
     "execution_count": 74,
     "metadata": {},
     "output_type": "execute_result"
    }
   ],
   "source": [
    "food_kmeans.labels_"
   ]
  },
  {
   "cell_type": "code",
   "execution_count": 75,
   "metadata": {},
   "outputs": [
    {
     "data": {
      "text/plain": [
       "array([[0.3       , 0.78125   , 0.58333333, 0.        , 0.84375   ,\n",
       "        0.78571429, 0.96428571, 0.15      , 0.4       , 0.08333333],\n",
       "       [0.5       , 0.28125   , 0.66666667, 0.09375   , 0.6875    ,\n",
       "        0.32142857, 0.60714286, 0.8       , 0.5       , 0.34583333],\n",
       "       [0.45      , 0.875     , 0.69444444, 0.6875    , 0.34375   ,\n",
       "        0.67857143, 0.82142857, 0.875     , 0.925     , 0.09166667]])"
      ]
     },
     "execution_count": 75,
     "metadata": {},
     "output_type": "execute_result"
    }
   ],
   "source": [
    "food_kmeans.cluster_centers_"
   ]
  },
  {
   "cell_type": "code",
   "execution_count": 77,
   "metadata": {},
   "outputs": [
    {
     "data": {
      "text/html": [
       "<div>\n",
       "<style scoped>\n",
       "    .dataframe tbody tr th:only-of-type {\n",
       "        vertical-align: middle;\n",
       "    }\n",
       "\n",
       "    .dataframe tbody tr th {\n",
       "        vertical-align: top;\n",
       "    }\n",
       "\n",
       "    .dataframe thead th {\n",
       "        text-align: right;\n",
       "    }\n",
       "</style>\n",
       "<table border=\"1\" class=\"dataframe\">\n",
       "  <thead>\n",
       "    <tr style=\"text-align: right;\">\n",
       "      <th></th>\n",
       "      <th>broccoli</th>\n",
       "      <th>brussels_sprouts</th>\n",
       "      <th>hamburger</th>\n",
       "      <th>oysters (raw)</th>\n",
       "      <th>onion (raw)</th>\n",
       "      <th>peas</th>\n",
       "      <th>olives</th>\n",
       "      <th>blue_cheese</th>\n",
       "      <th>whisky</th>\n",
       "      <th>age</th>\n",
       "      <th>cluster</th>\n",
       "    </tr>\n",
       "    <tr>\n",
       "      <th>student</th>\n",
       "      <th></th>\n",
       "      <th></th>\n",
       "      <th></th>\n",
       "      <th></th>\n",
       "      <th></th>\n",
       "      <th></th>\n",
       "      <th></th>\n",
       "      <th></th>\n",
       "      <th></th>\n",
       "      <th></th>\n",
       "      <th></th>\n",
       "    </tr>\n",
       "  </thead>\n",
       "  <tbody>\n",
       "    <tr>\n",
       "      <th>Akbar</th>\n",
       "      <td>7</td>\n",
       "      <td>0</td>\n",
       "      <td>5</td>\n",
       "      <td>2</td>\n",
       "      <td>3</td>\n",
       "      <td>4</td>\n",
       "      <td>8</td>\n",
       "      <td>8</td>\n",
       "      <td>7</td>\n",
       "      <td>32</td>\n",
       "      <td>1</td>\n",
       "    </tr>\n",
       "    <tr>\n",
       "      <th>Andreas</th>\n",
       "      <td>7</td>\n",
       "      <td>7</td>\n",
       "      <td>7</td>\n",
       "      <td>1</td>\n",
       "      <td>7</td>\n",
       "      <td>3</td>\n",
       "      <td>3</td>\n",
       "      <td>5</td>\n",
       "      <td>7</td>\n",
       "      <td>34</td>\n",
       "      <td>1</td>\n",
       "    </tr>\n",
       "    <tr>\n",
       "      <th>Dónal</th>\n",
       "      <td>8</td>\n",
       "      <td>6</td>\n",
       "      <td>8</td>\n",
       "      <td>5</td>\n",
       "      <td>1</td>\n",
       "      <td>5</td>\n",
       "      <td>8</td>\n",
       "      <td>10</td>\n",
       "      <td>10</td>\n",
       "      <td>35</td>\n",
       "      <td>2</td>\n",
       "    </tr>\n",
       "    <tr>\n",
       "      <th>Hana</th>\n",
       "      <td>5</td>\n",
       "      <td>8</td>\n",
       "      <td>8</td>\n",
       "      <td>8</td>\n",
       "      <td>5</td>\n",
       "      <td>7</td>\n",
       "      <td>9</td>\n",
       "      <td>8</td>\n",
       "      <td>7</td>\n",
       "      <td>31</td>\n",
       "      <td>2</td>\n",
       "    </tr>\n",
       "    <tr>\n",
       "      <th>Konstantinos</th>\n",
       "      <td>5</td>\n",
       "      <td>7</td>\n",
       "      <td>1</td>\n",
       "      <td>0</td>\n",
       "      <td>7</td>\n",
       "      <td>8</td>\n",
       "      <td>10</td>\n",
       "      <td>2</td>\n",
       "      <td>7</td>\n",
       "      <td>28</td>\n",
       "      <td>0</td>\n",
       "    </tr>\n",
       "    <tr>\n",
       "      <th>Kristina</th>\n",
       "      <td>9</td>\n",
       "      <td>8</td>\n",
       "      <td>5</td>\n",
       "      <td>0</td>\n",
       "      <td>7</td>\n",
       "      <td>7</td>\n",
       "      <td>9</td>\n",
       "      <td>4</td>\n",
       "      <td>7</td>\n",
       "      <td>36</td>\n",
       "      <td>0</td>\n",
       "    </tr>\n",
       "    <tr>\n",
       "      <th>Sabrina</th>\n",
       "      <td>6</td>\n",
       "      <td>8</td>\n",
       "      <td>10</td>\n",
       "      <td>0</td>\n",
       "      <td>8</td>\n",
       "      <td>8</td>\n",
       "      <td>10</td>\n",
       "      <td>0</td>\n",
       "      <td>2</td>\n",
       "      <td>30</td>\n",
       "      <td>0</td>\n",
       "    </tr>\n",
       "    <tr>\n",
       "      <th>Sandrine</th>\n",
       "      <td>10</td>\n",
       "      <td>2</td>\n",
       "      <td>8</td>\n",
       "      <td>0</td>\n",
       "      <td>5</td>\n",
       "      <td>8</td>\n",
       "      <td>10</td>\n",
       "      <td>10</td>\n",
       "      <td>0</td>\n",
       "      <td>41</td>\n",
       "      <td>1</td>\n",
       "    </tr>\n",
       "    <tr>\n",
       "      <th>Sevgi</th>\n",
       "      <td>6</td>\n",
       "      <td>2</td>\n",
       "      <td>9</td>\n",
       "      <td>0</td>\n",
       "      <td>5</td>\n",
       "      <td>7</td>\n",
       "      <td>10</td>\n",
       "      <td>0</td>\n",
       "      <td>0</td>\n",
       "      <td>38</td>\n",
       "      <td>0</td>\n",
       "    </tr>\n",
       "    <tr>\n",
       "      <th>Rias</th>\n",
       "      <td>8</td>\n",
       "      <td>6</td>\n",
       "      <td>8</td>\n",
       "      <td>5</td>\n",
       "      <td>0</td>\n",
       "      <td>6</td>\n",
       "      <td>8</td>\n",
       "      <td>8</td>\n",
       "      <td>10</td>\n",
       "      <td>33</td>\n",
       "      <td>2</td>\n",
       "    </tr>\n",
       "    <tr>\n",
       "      <th>Ben</th>\n",
       "      <td>8</td>\n",
       "      <td>8</td>\n",
       "      <td>5</td>\n",
       "      <td>4</td>\n",
       "      <td>5</td>\n",
       "      <td>9</td>\n",
       "      <td>10</td>\n",
       "      <td>9</td>\n",
       "      <td>10</td>\n",
       "      <td>35</td>\n",
       "      <td>2</td>\n",
       "    </tr>\n",
       "    <tr>\n",
       "      <th>Joan</th>\n",
       "      <td>6</td>\n",
       "      <td>0</td>\n",
       "      <td>8</td>\n",
       "      <td>0</td>\n",
       "      <td>7</td>\n",
       "      <td>2</td>\n",
       "      <td>8</td>\n",
       "      <td>9</td>\n",
       "      <td>6</td>\n",
       "      <td>88</td>\n",
       "      <td>1</td>\n",
       "    </tr>\n",
       "  </tbody>\n",
       "</table>\n",
       "</div>"
      ],
      "text/plain": [
       "              broccoli  brussels_sprouts  hamburger  oysters (raw)  \\\n",
       "student                                                              \n",
       "Akbar                7                 0          5              2   \n",
       "Andreas              7                 7          7              1   \n",
       "Dónal                8                 6          8              5   \n",
       "Hana                 5                 8          8              8   \n",
       "Konstantinos         5                 7          1              0   \n",
       "Kristina             9                 8          5              0   \n",
       "Sabrina              6                 8         10              0   \n",
       "Sandrine            10                 2          8              0   \n",
       "Sevgi                6                 2          9              0   \n",
       "Rias                 8                 6          8              5   \n",
       "Ben                  8                 8          5              4   \n",
       "Joan                 6                 0          8              0   \n",
       "\n",
       "               onion (raw)  peas  olives  blue_cheese  whisky  age  cluster  \n",
       "student                                                                      \n",
       "Akbar                    3     4       8            8       7   32        1  \n",
       "Andreas                  7     3       3            5       7   34        1  \n",
       "Dónal                    1     5       8           10      10   35        2  \n",
       "Hana                     5     7       9            8       7   31        2  \n",
       "Konstantinos             7     8      10            2       7   28        0  \n",
       "Kristina                 7     7       9            4       7   36        0  \n",
       "Sabrina                  8     8      10            0       2   30        0  \n",
       "Sandrine                 5     8      10           10       0   41        1  \n",
       "Sevgi                    5     7      10            0       0   38        0  \n",
       "Rias                     0     6       8            8      10   33        2  \n",
       "Ben                      5     9      10            9      10   35        2  \n",
       "Joan                     7     2       8            9       6   88        1  "
      ]
     },
     "execution_count": 77,
     "metadata": {},
     "output_type": "execute_result"
    }
   ],
   "source": [
    "food[\"cluster\"] = food_kmeans.labels_\n",
    "food"
   ]
  },
  {
   "cell_type": "code",
   "execution_count": 78,
   "metadata": {},
   "outputs": [],
   "source": [
    "# drop some columns and make different transformations\n",
    "# cluster again and see how results change\n",
    "\n",
    "# your code here"
   ]
  },
  {
   "cell_type": "markdown",
   "metadata": {},
   "source": [
    "### The penguins dataset"
   ]
  },
  {
   "cell_type": "code",
   "execution_count": 79,
   "metadata": {},
   "outputs": [
    {
     "data": {
      "text/html": [
       "<div>\n",
       "<style scoped>\n",
       "    .dataframe tbody tr th:only-of-type {\n",
       "        vertical-align: middle;\n",
       "    }\n",
       "\n",
       "    .dataframe tbody tr th {\n",
       "        vertical-align: top;\n",
       "    }\n",
       "\n",
       "    .dataframe thead th {\n",
       "        text-align: right;\n",
       "    }\n",
       "</style>\n",
       "<table border=\"1\" class=\"dataframe\">\n",
       "  <thead>\n",
       "    <tr style=\"text-align: right;\">\n",
       "      <th></th>\n",
       "      <th>bill_length_mm</th>\n",
       "      <th>bill_depth_mm</th>\n",
       "      <th>flipper_length_mm</th>\n",
       "      <th>body_mass_g</th>\n",
       "    </tr>\n",
       "  </thead>\n",
       "  <tbody>\n",
       "    <tr>\n",
       "      <th>0</th>\n",
       "      <td>39.1</td>\n",
       "      <td>18.7</td>\n",
       "      <td>181.0</td>\n",
       "      <td>3750.0</td>\n",
       "    </tr>\n",
       "    <tr>\n",
       "      <th>1</th>\n",
       "      <td>39.5</td>\n",
       "      <td>17.4</td>\n",
       "      <td>186.0</td>\n",
       "      <td>3800.0</td>\n",
       "    </tr>\n",
       "    <tr>\n",
       "      <th>2</th>\n",
       "      <td>40.3</td>\n",
       "      <td>18.0</td>\n",
       "      <td>195.0</td>\n",
       "      <td>3250.0</td>\n",
       "    </tr>\n",
       "    <tr>\n",
       "      <th>4</th>\n",
       "      <td>36.7</td>\n",
       "      <td>19.3</td>\n",
       "      <td>193.0</td>\n",
       "      <td>3450.0</td>\n",
       "    </tr>\n",
       "    <tr>\n",
       "      <th>5</th>\n",
       "      <td>39.3</td>\n",
       "      <td>20.6</td>\n",
       "      <td>190.0</td>\n",
       "      <td>3650.0</td>\n",
       "    </tr>\n",
       "  </tbody>\n",
       "</table>\n",
       "</div>"
      ],
      "text/plain": [
       "   bill_length_mm  bill_depth_mm  flipper_length_mm  body_mass_g\n",
       "0            39.1           18.7              181.0       3750.0\n",
       "1            39.5           17.4              186.0       3800.0\n",
       "2            40.3           18.0              195.0       3250.0\n",
       "4            36.7           19.3              193.0       3450.0\n",
       "5            39.3           20.6              190.0       3650.0"
      ]
     },
     "execution_count": 79,
     "metadata": {},
     "output_type": "execute_result"
    }
   ],
   "source": [
    "import seaborn as sns\n",
    "import matplotlib.pyplot as plt\n",
    "\n",
    "penguins = sns.load_dataset('penguins')\n",
    "penguins.dropna(inplace=True)\n",
    "penguins.drop(['species','island','sex'], axis=1, inplace=True)\n",
    "penguins.head()"
   ]
  },
  {
   "cell_type": "code",
   "execution_count": 80,
   "metadata": {},
   "outputs": [
    {
     "data": {
      "image/png": "[encoded data removed]",
      "text/plain": [
       "<Figure size 576x432 with 1 Axes>"
      ]
     },
     "metadata": {
      "needs_background": "light"
     },
     "output_type": "display_data"
    }
   ],
   "source": [
    "fig, ax = plt.subplots(figsize=(8, 6))\n",
    "sns.scatterplot(data=penguins, x='bill_length_mm', y='bill_depth_mm')\n",
    "plt.show()"
   ]
  },
  {
   "cell_type": "code",
   "execution_count": 81,
   "metadata": {},
   "outputs": [
    {
     "data": {
      "text/html": [
       "<div>\n",
       "<style scoped>\n",
       "    .dataframe tbody tr th:only-of-type {\n",
       "        vertical-align: middle;\n",
       "    }\n",
       "\n",
       "    .dataframe tbody tr th {\n",
       "        vertical-align: top;\n",
       "    }\n",
       "\n",
       "    .dataframe thead th {\n",
       "        text-align: right;\n",
       "    }\n",
       "</style>\n",
       "<table border=\"1\" class=\"dataframe\">\n",
       "  <thead>\n",
       "    <tr style=\"text-align: right;\">\n",
       "      <th></th>\n",
       "      <th>bill_length_mm</th>\n",
       "      <th>bill_depth_mm</th>\n",
       "    </tr>\n",
       "  </thead>\n",
       "  <tbody>\n",
       "    <tr>\n",
       "      <th>0</th>\n",
       "      <td>39.1</td>\n",
       "      <td>18.7</td>\n",
       "    </tr>\n",
       "    <tr>\n",
       "      <th>1</th>\n",
       "      <td>39.5</td>\n",
       "      <td>17.4</td>\n",
       "    </tr>\n",
       "    <tr>\n",
       "      <th>2</th>\n",
       "      <td>40.3</td>\n",
       "      <td>18.0</td>\n",
       "    </tr>\n",
       "    <tr>\n",
       "      <th>4</th>\n",
       "      <td>36.7</td>\n",
       "      <td>19.3</td>\n",
       "    </tr>\n",
       "    <tr>\n",
       "      <th>5</th>\n",
       "      <td>39.3</td>\n",
       "      <td>20.6</td>\n",
       "    </tr>\n",
       "  </tbody>\n",
       "</table>\n",
       "</div>"
      ],
      "text/plain": [
       "   bill_length_mm  bill_depth_mm\n",
       "0            39.1           18.7\n",
       "1            39.5           17.4\n",
       "2            40.3           18.0\n",
       "4            36.7           19.3\n",
       "5            39.3           20.6"
      ]
     },
     "execution_count": 81,
     "metadata": {},
     "output_type": "execute_result"
    }
   ],
   "source": [
    "peng_cl = penguins[['bill_length_mm','bill_depth_mm']]\n",
    "peng_cl.head()"
   ]
  },
  {
   "cell_type": "markdown",
   "metadata": {},
   "source": [
    "### Data Scaling"
   ]
  },
  {
   "cell_type": "code",
   "execution_count": 82,
   "metadata": {},
   "outputs": [],
   "source": [
    "from sklearn.preprocessing import MinMaxScaler\n",
    "peng_cl_norm = MinMaxScaler().fit_transform(peng_cl)"
   ]
  },
  {
   "cell_type": "markdown",
   "metadata": {},
   "source": [
    "### K-means"
   ]
  },
  {
   "cell_type": "code",
   "execution_count": 83,
   "metadata": {},
   "outputs": [
    {
     "data": {
      "text/plain": [
       "KMeans(n_clusters=3)"
      ]
     },
     "execution_count": 83,
     "metadata": {},
     "output_type": "execute_result"
    }
   ],
   "source": [
    "from sklearn.cluster import KMeans\n",
    "\n",
    "kmeans = KMeans(n_clusters=3)\n",
    "kmeans.fit(peng_cl_norm)"
   ]
  },
  {
   "cell_type": "code",
   "execution_count": 84,
   "metadata": {},
   "outputs": [
    {
     "data": {
      "text/plain": [
       "array([[0.64637762, 0.66703297],\n",
       "       [0.54930303, 0.22480159],\n",
       "       [0.24378378, 0.61357786]])"
      ]
     },
     "execution_count": 84,
     "metadata": {},
     "output_type": "execute_result"
    }
   ],
   "source": [
    "kmeans.cluster_centers_"
   ]
  },
  {
   "cell_type": "code",
   "execution_count": 85,
   "metadata": {},
   "outputs": [
    {
     "data": {
      "text/html": [
       "<div>\n",
       "<style scoped>\n",
       "    .dataframe tbody tr th:only-of-type {\n",
       "        vertical-align: middle;\n",
       "    }\n",
       "\n",
       "    .dataframe tbody tr th {\n",
       "        vertical-align: top;\n",
       "    }\n",
       "\n",
       "    .dataframe thead th {\n",
       "        text-align: right;\n",
       "    }\n",
       "</style>\n",
       "<table border=\"1\" class=\"dataframe\">\n",
       "  <thead>\n",
       "    <tr style=\"text-align: right;\">\n",
       "      <th></th>\n",
       "      <th>bill_length_mm</th>\n",
       "      <th>bill_depth_mm</th>\n",
       "    </tr>\n",
       "  </thead>\n",
       "  <tbody>\n",
       "    <tr>\n",
       "      <th>0</th>\n",
       "      <td>0.646378</td>\n",
       "      <td>0.667033</td>\n",
       "    </tr>\n",
       "    <tr>\n",
       "      <th>1</th>\n",
       "      <td>0.549303</td>\n",
       "      <td>0.224802</td>\n",
       "    </tr>\n",
       "    <tr>\n",
       "      <th>2</th>\n",
       "      <td>0.243784</td>\n",
       "      <td>0.613578</td>\n",
       "    </tr>\n",
       "  </tbody>\n",
       "</table>\n",
       "</div>"
      ],
      "text/plain": [
       "   bill_length_mm  bill_depth_mm\n",
       "0        0.646378       0.667033\n",
       "1        0.549303       0.224802\n",
       "2        0.243784       0.613578"
      ]
     },
     "execution_count": 85,
     "metadata": {},
     "output_type": "execute_result"
    }
   ],
   "source": [
    "cl_pos = pd.DataFrame(kmeans.cluster_centers_)\n",
    "cl_pos.columns = ['bill_length_mm','bill_depth_mm']\n",
    "cl_pos"
   ]
  },
  {
   "cell_type": "markdown",
   "metadata": {},
   "source": [
    "### Explore model results"
   ]
  },
  {
   "cell_type": "code",
   "execution_count": 86,
   "metadata": {},
   "outputs": [
    {
     "data": {
      "image/png": "[encoded data removed]",
      "text/plain": [
       "<Figure size 720x576 with 1 Axes>"
      ]
     },
     "metadata": {
      "needs_background": "light"
     },
     "output_type": "display_data"
    }
   ],
   "source": [
    "fig, ax = plt.subplots(figsize=(10, 8))\n",
    "plot_data = pd.DataFrame(peng_cl_norm)\n",
    "plot_data.columns = ['bill_length_mm','bill_depth_mm']\n",
    "\n",
    "plt.title('Comparing our centroids and our dataset')\n",
    "plt.xlabel('bill lenght mm normalised')\n",
    "plt.ylabel('bill depth mm normalised')\n",
    "sns.scatterplot(data=plot_data, x='bill_length_mm', y='bill_depth_mm')\n",
    "sns.scatterplot(data=cl_pos, x='bill_length_mm', y='bill_depth_mm', color='red', s=250)\n",
    "plt.show()"
   ]
  },
  {
   "cell_type": "code",
   "execution_count": 87,
   "metadata": {},
   "outputs": [
    {
     "data": {
      "text/html": [
       "<div>\n",
       "<style scoped>\n",
       "    .dataframe tbody tr th:only-of-type {\n",
       "        vertical-align: middle;\n",
       "    }\n",
       "\n",
       "    .dataframe tbody tr th {\n",
       "        vertical-align: top;\n",
       "    }\n",
       "\n",
       "    .dataframe thead th {\n",
       "        text-align: right;\n",
       "    }\n",
       "</style>\n",
       "<table border=\"1\" class=\"dataframe\">\n",
       "  <thead>\n",
       "    <tr style=\"text-align: right;\">\n",
       "      <th></th>\n",
       "      <th>bill_length_mm</th>\n",
       "      <th>bill_depth_mm</th>\n",
       "      <th>flipper_length_mm</th>\n",
       "      <th>body_mass_g</th>\n",
       "      <th>cluster</th>\n",
       "    </tr>\n",
       "  </thead>\n",
       "  <tbody>\n",
       "    <tr>\n",
       "      <th>0</th>\n",
       "      <td>39.1</td>\n",
       "      <td>18.7</td>\n",
       "      <td>181.0</td>\n",
       "      <td>3750.0</td>\n",
       "      <td>2</td>\n",
       "    </tr>\n",
       "    <tr>\n",
       "      <th>1</th>\n",
       "      <td>39.5</td>\n",
       "      <td>17.4</td>\n",
       "      <td>186.0</td>\n",
       "      <td>3800.0</td>\n",
       "      <td>2</td>\n",
       "    </tr>\n",
       "    <tr>\n",
       "      <th>2</th>\n",
       "      <td>40.3</td>\n",
       "      <td>18.0</td>\n",
       "      <td>195.0</td>\n",
       "      <td>3250.0</td>\n",
       "      <td>2</td>\n",
       "    </tr>\n",
       "    <tr>\n",
       "      <th>4</th>\n",
       "      <td>36.7</td>\n",
       "      <td>19.3</td>\n",
       "      <td>193.0</td>\n",
       "      <td>3450.0</td>\n",
       "      <td>2</td>\n",
       "    </tr>\n",
       "    <tr>\n",
       "      <th>5</th>\n",
       "      <td>39.3</td>\n",
       "      <td>20.6</td>\n",
       "      <td>190.0</td>\n",
       "      <td>3650.0</td>\n",
       "      <td>2</td>\n",
       "    </tr>\n",
       "  </tbody>\n",
       "</table>\n",
       "</div>"
      ],
      "text/plain": [
       "   bill_length_mm  bill_depth_mm  flipper_length_mm  body_mass_g  cluster\n",
       "0            39.1           18.7              181.0       3750.0        2\n",
       "1            39.5           17.4              186.0       3800.0        2\n",
       "2            40.3           18.0              195.0       3250.0        2\n",
       "4            36.7           19.3              193.0       3450.0        2\n",
       "5            39.3           20.6              190.0       3650.0        2"
      ]
     },
     "execution_count": 87,
     "metadata": {},
     "output_type": "execute_result"
    }
   ],
   "source": [
    "penguins['cluster'] = kmeans.labels_\n",
    "penguins.head()"
   ]
  },
  {
   "cell_type": "code",
   "execution_count": 88,
   "metadata": {},
   "outputs": [
    {
     "data": {
      "image/png": "[encoded data removed]",
      "text/plain": [
       "<Figure size 720x576 with 1 Axes>"
      ]
     },
     "metadata": {
      "needs_background": "light"
     },
     "output_type": "display_data"
    }
   ],
   "source": [
    "# create plot dataframe\n",
    "plot_data = pd.DataFrame(peng_cl_norm)\n",
    "plot_data.columns = ['bill_length_mm','bill_depth_mm']\n",
    "plot_data['cluster'] = kmeans.labels_\n",
    "\n",
    "# size and plot titles\n",
    "fig, ax = plt.subplots(figsize=(10, 8))\n",
    "plt.title('Visualising clusters')\n",
    "plt.xlabel('bill lenght mm normalised')\n",
    "plt.ylabel('bill depth mm normalised')\n",
    "\n",
    "# scatter plot\n",
    "sns.scatterplot(data=plot_data, x='bill_length_mm', y='bill_depth_mm', hue='cluster', palette='Set2', s=75)\n",
    "sns.scatterplot(data=cl_pos, x='bill_length_mm', y='bill_depth_mm', color='red', s=250)\n",
    "plt.show()"
   ]
  },
  {
   "cell_type": "markdown",
   "metadata": {},
   "source": [
    "The iterative nature of any data science process: \n",
    "\n",
    "![Data Science Process](https://www.researchgate.net/publication/322310310/figure/fig1/AS:611851016601600@1522888058853/CRISP-DM-methodology-Source-Chapman-et-al-2000.png)"
   ]
  },
  {
   "cell_type": "markdown",
   "metadata": {},
   "source": [
    "### 2nd iteration\n",
    "\n",
    "Cluster the penguins using all the features and a different scaling method."
   ]
  },
  {
   "cell_type": "code",
   "execution_count": 57,
   "metadata": {},
   "outputs": [],
   "source": [
    "## your code here"
   ]
  },
  {
   "cell_type": "markdown",
   "metadata": {},
   "source": [
    "### Bonus: explore and visualize the clusters that emerged using spyder/radar charts"
   ]
  },
  {
   "cell_type": "code",
   "execution_count": 62,
   "metadata": {},
   "outputs": [],
   "source": [
    "# Source: https://www.python-graph-gallery.com/391-radar-chart-with-several-individuals\n",
    "# your code here"
   ]
  }
 ],
 "metadata": {
  "kernelspec": {
   "display_name": "Python 3",
   "language": "python",
   "name": "python3"
  },
  "language_info": {
   "codemirror_mode": {
    "name": "ipython",
    "version": 3
   },
   "file_extension": ".py",
   "mimetype": "text/x-python",
   "name": "python",
   "nbconvert_exporter": "python",
   "pygments_lexer": "ipython3",
   "version": "3.8.8"
  }
 },
 "nbformat": 4,
 "nbformat_minor": 4
}
